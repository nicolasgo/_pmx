{
 "metadata": {
  "name": "",
  "signature": "sha256:466e2bfcae65dcdfa8b54d9aed4cf4a67b4d7e50f7a5819dc6edde9d47fd2b6b"
 },
 "nbformat": 3,
 "nbformat_minor": 0,
 "worksheets": [
  {
   "cells": [
    {
     "cell_type": "markdown",
     "metadata": {},
     "source": [
      "# Convert a sessions file to daily by just taking the date part into consideration\n",
      "Writing this notebook was challenging as two groupbys are necessary and the two generated a different type (date vs timestamp) for the 'time' index.<br>\n",
      "Converting the 'time' column to str solved the problem."
     ]
    },
    {
     "cell_type": "code",
     "collapsed": false,
     "input": [
      "import pandas as pd\n",
      "import numpy as np\n",
      "import time\n",
      "\n",
      "start_time=time.time()\n"
     ],
     "language": "python",
     "metadata": {},
     "outputs": [],
     "prompt_number": 21
    },
    {
     "cell_type": "code",
     "collapsed": false,
     "input": [
      "fn='/Users/Nicolas/dev/data/sessions.a.csv'\n",
      "\n",
      "df=pd.read_csv(fn,\n",
      "                encoding='utf-8', \n",
      "                parse_dates=True)\n",
      "\n",
      "df['user_id']=df['user_id'].astype(str)\n",
      "df['ip']=df['ip'].astype(str)\n",
      "df['dfamily']=df['dfamily'].astype(str)\n",
      "\n",
      "df['time'] = df['time'].astype('datetime64[ns]')\n",
      "df['time'] = df['time'].apply(lambda x:x.date())\n",
      "df['time'] = df['time'].astype(str)\n"
     ],
     "language": "python",
     "metadata": {
      "run_control": {
       "breakpoint": false
      }
     },
     "outputs": [],
     "prompt_number": 22
    },
    {
     "cell_type": "code",
     "collapsed": false,
     "input": [
      "df.info()"
     ],
     "language": "python",
     "metadata": {
      "run_control": {
       "breakpoint": false
      }
     },
     "outputs": [
      {
       "output_type": "stream",
       "stream": "stdout",
       "text": [
        "<class 'pandas.core.frame.DataFrame'>\n",
        "Int64Index: 4703868 entries, 0 to 4703867\n",
        "Data columns (total 23 columns):\n",
        "user_id     object\n",
        "time        object\n",
        "duration    int64\n",
        "ip          object\n",
        "pv          int64\n",
        "variety     int64\n",
        "landpage    object\n",
        "device      object\n",
        "inbox       int64\n",
        "mymed       int64\n",
        "conve       int64\n",
        "activ       int64\n",
        "home        int64\n",
        "frien       int64\n",
        "info        int64\n",
        "media       int64\n",
        "uploa       int64\n",
        "avata       int64\n",
        "publi       int64\n",
        "help        int64\n",
        "dfamily     object\n",
        "dversion    object\n",
        "dmodel      object\n",
        "dtypes: int64(15), object(8)"
       ]
      }
     ],
     "prompt_number": 23
    },
    {
     "cell_type": "code",
     "collapsed": false,
     "input": [
      "#df = df.head(250000)"
     ],
     "language": "python",
     "metadata": {
      "run_control": {
       "breakpoint": false
      }
     },
     "outputs": [],
     "prompt_number": 24
    },
    {
     "cell_type": "code",
     "collapsed": false,
     "input": [
      "#type(df.time[0])"
     ],
     "language": "python",
     "metadata": {
      "run_control": {
       "breakpoint": false
      }
     },
     "outputs": [],
     "prompt_number": 25
    },
    {
     "cell_type": "code",
     "collapsed": false,
     "input": [
      "def get_most_common(x):\n",
      "    try:\n",
      "        val = x.value_counts().index[0]\n",
      "    except:\n",
      "        val = np.nan\n",
      "    return val\n",
      "\n",
      "def func(x):\n",
      "     return pd.Series(dict(\n",
      "                        ip = get_most_common(x.ip), \n",
      "                        landpage = get_most_common(x.landpage),                         \n",
      "                        dfamily = get_most_common(x.dfamily), \n",
      "                        dversion= get_most_common(x.dversion), \n",
      "                        dmodel = get_most_common(x.dmodel)))\n",
      "\n",
      "bydate=df.groupby(['user_id','time']).sum()\n",
      "bydate2=df.groupby(['user_id','time']).apply(func)\n",
      "#bydate=df.groupby(['user_id','time'])['landpage'].apply(list)"
     ],
     "language": "python",
     "metadata": {
      "run_control": {
       "breakpoint": false
      }
     },
     "outputs": [],
     "prompt_number": 26
    },
    {
     "cell_type": "code",
     "collapsed": false,
     "input": [
      "#bydate2 =bydate2.reset_index()\n",
      "##bydate2['time'] = bydate2['time'].astype('datetime64[ns]')\n",
      "##bydate2['time'] = bydate2['time'].apply(lambda x:x.date())\n",
      "#print type(bydate2.time[0])"
     ],
     "language": "python",
     "metadata": {
      "run_control": {
       "breakpoint": false
      }
     },
     "outputs": [],
     "prompt_number": 27
    },
    {
     "cell_type": "code",
     "collapsed": false,
     "input": [
      "#bydate2=bydate2.set_index(['user_id','time'])"
     ],
     "language": "python",
     "metadata": {
      "run_control": {
       "breakpoint": false
      }
     },
     "outputs": [],
     "prompt_number": 28
    },
    {
     "cell_type": "code",
     "collapsed": false,
     "input": [
      "bydate2.head()"
     ],
     "language": "python",
     "metadata": {
      "run_control": {
       "breakpoint": false
      }
     },
     "outputs": [
      {
       "html": [
        "<div style=\"max-height:1000px;max-width:1500px;overflow:auto;\">\n",
        "<table border=\"1\" class=\"dataframe\">\n",
        "  <thead>\n",
        "    <tr style=\"text-align: right;\">\n",
        "      <th></th>\n",
        "      <th></th>\n",
        "      <th>dfamily</th>\n",
        "      <th>dmodel</th>\n",
        "      <th>dversion</th>\n",
        "      <th>ip</th>\n",
        "      <th>landpage</th>\n",
        "    </tr>\n",
        "    <tr>\n",
        "      <th>user_id</th>\n",
        "      <th>time</th>\n",
        "      <th></th>\n",
        "      <th></th>\n",
        "      <th></th>\n",
        "      <th></th>\n",
        "      <th></th>\n",
        "    </tr>\n",
        "  </thead>\n",
        "  <tbody>\n",
        "    <tr>\n",
        "      <th rowspan=\"5\" valign=\"top\">00002f99e468</th>\n",
        "      <th>2014-09-25</th>\n",
        "      <td> Android</td>\n",
        "      <td> (LG D120,)</td>\n",
        "      <td> 4.4.2</td>\n",
        "      <td> 8b7638dacfd8</td>\n",
        "      <td> /regis</td>\n",
        "    </tr>\n",
        "    <tr>\n",
        "      <th>2014-09-27</th>\n",
        "      <td> Android</td>\n",
        "      <td> (LG D120,)</td>\n",
        "      <td> 4.4.2</td>\n",
        "      <td> 3327092261a3</td>\n",
        "      <td> /home </td>\n",
        "    </tr>\n",
        "    <tr>\n",
        "      <th>2014-09-28</th>\n",
        "      <td> Android</td>\n",
        "      <td> (LG D120,)</td>\n",
        "      <td> 4.4.2</td>\n",
        "      <td> 7e4fdfddf817</td>\n",
        "      <td> /home </td>\n",
        "    </tr>\n",
        "    <tr>\n",
        "      <th>2014-09-29</th>\n",
        "      <td> Android</td>\n",
        "      <td> (LG D120,)</td>\n",
        "      <td> 4.4.2</td>\n",
        "      <td> e6687de3ecfc</td>\n",
        "      <td> /home </td>\n",
        "    </tr>\n",
        "    <tr>\n",
        "      <th>2014-09-30</th>\n",
        "      <td> Android</td>\n",
        "      <td> (LG D120,)</td>\n",
        "      <td> 4.4.2</td>\n",
        "      <td> 645f99c4e007</td>\n",
        "      <td> /home </td>\n",
        "    </tr>\n",
        "  </tbody>\n",
        "</table>\n",
        "</div>"
       ],
       "metadata": {},
       "output_type": "pyout",
       "prompt_number": 29,
       "text": [
        "                         dfamily      dmodel dversion            ip landpage\n",
        "user_id      time                                                           \n",
        "00002f99e468 2014-09-25  Android  (LG D120,)    4.4.2  8b7638dacfd8   /regis\n",
        "             2014-09-27  Android  (LG D120,)    4.4.2  3327092261a3   /home \n",
        "             2014-09-28  Android  (LG D120,)    4.4.2  7e4fdfddf817   /home \n",
        "             2014-09-29  Android  (LG D120,)    4.4.2  e6687de3ecfc   /home \n",
        "             2014-09-30  Android  (LG D120,)    4.4.2  645f99c4e007   /home "
       ]
      }
     ],
     "prompt_number": 29
    },
    {
     "cell_type": "code",
     "collapsed": false,
     "input": [
      "#pd.merge(bydate.reset_index(),bydate2.reset_index(),on=['user_id','time'],how='left').set_index(['user_id','time'])#,left_index=True, right_index=True).head()"
     ],
     "language": "python",
     "metadata": {
      "run_control": {
       "breakpoint": false
      }
     },
     "outputs": [],
     "prompt_number": 30
    },
    {
     "cell_type": "code",
     "collapsed": false,
     "input": [
      "#type(bydate2.reset_index().time[0])"
     ],
     "language": "python",
     "metadata": {
      "run_control": {
       "breakpoint": false
      }
     },
     "outputs": [],
     "prompt_number": 31
    },
    {
     "cell_type": "code",
     "collapsed": false,
     "input": [
      "df=bydate.join(bydate2)"
     ],
     "language": "python",
     "metadata": {
      "run_control": {
       "breakpoint": false
      }
     },
     "outputs": [],
     "prompt_number": 32
    },
    {
     "cell_type": "code",
     "collapsed": false,
     "input": [
      "df.info()"
     ],
     "language": "python",
     "metadata": {
      "run_control": {
       "breakpoint": false
      }
     },
     "outputs": [
      {
       "output_type": "stream",
       "stream": "stdout",
       "text": [
        "<class 'pandas.core.frame.DataFrame'>\n",
        "MultiIndex: 4362476 entries, (00002f99e468, 2014-09-25) to (ffffc95bda89, 2015-01-06)\n",
        "Data columns (total 20 columns):\n",
        "duration    int64\n",
        "pv          int64\n",
        "variety     int64\n",
        "inbox       int64\n",
        "mymed       int64\n",
        "conve       int64\n",
        "activ       int64\n",
        "home        int64\n",
        "frien       int64\n",
        "info        int64\n",
        "media       int64\n",
        "uploa       int64\n",
        "avata       int64\n",
        "publi       int64\n",
        "help        int64\n",
        "dfamily     object\n",
        "dmodel      object\n",
        "dversion    object\n",
        "ip          object\n",
        "landpage    object\n",
        "dtypes: int64(15), object(5)"
       ]
      }
     ],
     "prompt_number": 33
    },
    {
     "cell_type": "code",
     "collapsed": false,
     "input": [
      "df.head()"
     ],
     "language": "python",
     "metadata": {
      "run_control": {
       "breakpoint": false
      }
     },
     "outputs": [
      {
       "html": [
        "<div style=\"max-height:1000px;max-width:1500px;overflow:auto;\">\n",
        "<table border=\"1\" class=\"dataframe\">\n",
        "  <thead>\n",
        "    <tr style=\"text-align: right;\">\n",
        "      <th></th>\n",
        "      <th></th>\n",
        "      <th>duration</th>\n",
        "      <th>pv</th>\n",
        "      <th>variety</th>\n",
        "      <th>inbox</th>\n",
        "      <th>mymed</th>\n",
        "      <th>conve</th>\n",
        "      <th>activ</th>\n",
        "      <th>home</th>\n",
        "      <th>frien</th>\n",
        "      <th>info</th>\n",
        "      <th>media</th>\n",
        "      <th>uploa</th>\n",
        "      <th>avata</th>\n",
        "      <th>publi</th>\n",
        "      <th>help</th>\n",
        "      <th>dfamily</th>\n",
        "      <th>dmodel</th>\n",
        "      <th>dversion</th>\n",
        "      <th>ip</th>\n",
        "      <th>landpage</th>\n",
        "    </tr>\n",
        "    <tr>\n",
        "      <th>user_id</th>\n",
        "      <th>time</th>\n",
        "      <th></th>\n",
        "      <th></th>\n",
        "      <th></th>\n",
        "      <th></th>\n",
        "      <th></th>\n",
        "      <th></th>\n",
        "      <th></th>\n",
        "      <th></th>\n",
        "      <th></th>\n",
        "      <th></th>\n",
        "      <th></th>\n",
        "      <th></th>\n",
        "      <th></th>\n",
        "      <th></th>\n",
        "      <th></th>\n",
        "      <th></th>\n",
        "      <th></th>\n",
        "      <th></th>\n",
        "      <th></th>\n",
        "      <th></th>\n",
        "    </tr>\n",
        "  </thead>\n",
        "  <tbody>\n",
        "    <tr>\n",
        "      <th rowspan=\"5\" valign=\"top\">00002f99e468</th>\n",
        "      <th>2014-09-25</th>\n",
        "      <td> 9368</td>\n",
        "      <td> 313</td>\n",
        "      <td> 11</td>\n",
        "      <td> 33</td>\n",
        "      <td> 0</td>\n",
        "      <td> 35</td>\n",
        "      <td> 18</td>\n",
        "      <td> 39</td>\n",
        "      <td> 79</td>\n",
        "      <td> 96</td>\n",
        "      <td> 1</td>\n",
        "      <td> 5</td>\n",
        "      <td> 3</td>\n",
        "      <td> 1</td>\n",
        "      <td> 1</td>\n",
        "      <td> Android</td>\n",
        "      <td> (LG D120,)</td>\n",
        "      <td> 4.4.2</td>\n",
        "      <td> 8b7638dacfd8</td>\n",
        "      <td> /regis</td>\n",
        "    </tr>\n",
        "    <tr>\n",
        "      <th>2014-09-27</th>\n",
        "      <td> 3509</td>\n",
        "      <td>  79</td>\n",
        "      <td> 11</td>\n",
        "      <td> 21</td>\n",
        "      <td> 0</td>\n",
        "      <td> 37</td>\n",
        "      <td>  9</td>\n",
        "      <td>  4</td>\n",
        "      <td>  7</td>\n",
        "      <td>  0</td>\n",
        "      <td> 1</td>\n",
        "      <td> 0</td>\n",
        "      <td> 0</td>\n",
        "      <td> 0</td>\n",
        "      <td> 0</td>\n",
        "      <td> Android</td>\n",
        "      <td> (LG D120,)</td>\n",
        "      <td> 4.4.2</td>\n",
        "      <td> 3327092261a3</td>\n",
        "      <td> /home </td>\n",
        "    </tr>\n",
        "    <tr>\n",
        "      <th>2014-09-28</th>\n",
        "      <td> 2712</td>\n",
        "      <td>  87</td>\n",
        "      <td>  6</td>\n",
        "      <td> 13</td>\n",
        "      <td> 0</td>\n",
        "      <td> 15</td>\n",
        "      <td>  7</td>\n",
        "      <td>  2</td>\n",
        "      <td> 32</td>\n",
        "      <td> 18</td>\n",
        "      <td> 0</td>\n",
        "      <td> 0</td>\n",
        "      <td> 0</td>\n",
        "      <td> 0</td>\n",
        "      <td> 0</td>\n",
        "      <td> Android</td>\n",
        "      <td> (LG D120,)</td>\n",
        "      <td> 4.4.2</td>\n",
        "      <td> 7e4fdfddf817</td>\n",
        "      <td> /home </td>\n",
        "    </tr>\n",
        "    <tr>\n",
        "      <th>2014-09-29</th>\n",
        "      <td>  644</td>\n",
        "      <td>  18</td>\n",
        "      <td>  4</td>\n",
        "      <td>  5</td>\n",
        "      <td> 0</td>\n",
        "      <td> 10</td>\n",
        "      <td>  0</td>\n",
        "      <td>  2</td>\n",
        "      <td>  1</td>\n",
        "      <td>  0</td>\n",
        "      <td> 0</td>\n",
        "      <td> 0</td>\n",
        "      <td> 0</td>\n",
        "      <td> 0</td>\n",
        "      <td> 0</td>\n",
        "      <td> Android</td>\n",
        "      <td> (LG D120,)</td>\n",
        "      <td> 4.4.2</td>\n",
        "      <td> e6687de3ecfc</td>\n",
        "      <td> /home </td>\n",
        "    </tr>\n",
        "    <tr>\n",
        "      <th>2014-09-30</th>\n",
        "      <td> 1146</td>\n",
        "      <td>  18</td>\n",
        "      <td>  6</td>\n",
        "      <td>  5</td>\n",
        "      <td> 1</td>\n",
        "      <td>  4</td>\n",
        "      <td>  3</td>\n",
        "      <td>  3</td>\n",
        "      <td>  2</td>\n",
        "      <td>  0</td>\n",
        "      <td> 0</td>\n",
        "      <td> 0</td>\n",
        "      <td> 0</td>\n",
        "      <td> 0</td>\n",
        "      <td> 0</td>\n",
        "      <td> Android</td>\n",
        "      <td> (LG D120,)</td>\n",
        "      <td> 4.4.2</td>\n",
        "      <td> 645f99c4e007</td>\n",
        "      <td> /home </td>\n",
        "    </tr>\n",
        "  </tbody>\n",
        "</table>\n",
        "</div>"
       ],
       "metadata": {},
       "output_type": "pyout",
       "prompt_number": 34,
       "text": [
        "                         duration   pv  variety  inbox  mymed  conve  activ  \\\n",
        "user_id      time                                                             \n",
        "00002f99e468 2014-09-25      9368  313       11     33      0     35     18   \n",
        "             2014-09-27      3509   79       11     21      0     37      9   \n",
        "             2014-09-28      2712   87        6     13      0     15      7   \n",
        "             2014-09-29       644   18        4      5      0     10      0   \n",
        "             2014-09-30      1146   18        6      5      1      4      3   \n",
        "\n",
        "                         home  frien  info  media  uploa  avata  publi  help  \\\n",
        "user_id      time                                                              \n",
        "00002f99e468 2014-09-25    39     79    96      1      5      3      1     1   \n",
        "             2014-09-27     4      7     0      1      0      0      0     0   \n",
        "             2014-09-28     2     32    18      0      0      0      0     0   \n",
        "             2014-09-29     2      1     0      0      0      0      0     0   \n",
        "             2014-09-30     3      2     0      0      0      0      0     0   \n",
        "\n",
        "                         dfamily      dmodel dversion            ip landpage  \n",
        "user_id      time                                                             \n",
        "00002f99e468 2014-09-25  Android  (LG D120,)    4.4.2  8b7638dacfd8   /regis  \n",
        "             2014-09-27  Android  (LG D120,)    4.4.2  3327092261a3   /home   \n",
        "             2014-09-28  Android  (LG D120,)    4.4.2  7e4fdfddf817   /home   \n",
        "             2014-09-29  Android  (LG D120,)    4.4.2  e6687de3ecfc   /home   \n",
        "             2014-09-30  Android  (LG D120,)    4.4.2  645f99c4e007   /home   "
       ]
      }
     ],
     "prompt_number": 34
    },
    {
     "cell_type": "code",
     "collapsed": false,
     "input": [
      "S=df[df['dfamily']=='Android'].dmodel.astype(str)\n",
      "S.value_counts().head(20)\n",
      "#S.hist()"
     ],
     "language": "python",
     "metadata": {
      "run_control": {
       "breakpoint": false
      }
     },
     "outputs": [
      {
       "metadata": {},
       "output_type": "pyout",
       "prompt_number": 35,
       "text": [
        "(Alcatel ONE TOUCH 4010A,)    607383\n",
        "(ZTE Android-MMS-V2,)         204552\n",
        "(Samsung GT-S5360L,)          199041\n",
        "(Samsung GT-S6810M,)          106915\n",
        "(Samsung GT-S5310L,)          104083\n",
        "(Samsung GT-S5830M,)           92725\n",
        "(C1504,)                       85227\n",
        "(Lanix Ilium_S105,)            70206\n",
        "(LG E425f,)                    68975\n",
        "(Samsung GT-S5830L,)           68431\n",
        "(LG E400f,)                    63524\n",
        "(LG E612f,)                    55324\n",
        "(Sony EricssonE15a,)           43666\n",
        "(Sony ST21a,)                  37649\n",
        "(LG E450f,)                    37009\n",
        "(LANIX ILIUM S120,)            32134\n",
        "(ONE TOUCH 4016A,)             30003\n",
        "(ONE TOUCH 4033A,)             29699\n",
        "(Motorola XT303,)              28447\n",
        "(Samsung GT-I8190L,)           27737\n",
        "dtype: int64"
       ]
      }
     ],
     "prompt_number": 35
    },
    {
     "cell_type": "code",
     "collapsed": false,
     "input": [
      "S=df[df['dfamily']=='Android'].dversion.astype(str)\n",
      "S.value_counts().head(20)"
     ],
     "language": "python",
     "metadata": {
      "run_control": {
       "breakpoint": false
      }
     },
     "outputs": [
      {
       "metadata": {},
       "output_type": "pyout",
       "prompt_number": 36,
       "text": [
        "2.3.6          1275173\n",
        "4.1.2           495680\n",
        "4.2.2           234792\n",
        "4.1.1           120545\n",
        "2.3.4           117440\n",
        "4.0.4           108972\n",
        "2.3.5            85089\n",
        "2.1.update1      71674\n",
        "4.4.2            55765\n",
        "2.2.2            52841\n",
        "4.0.3            52025\n",
        "2.2.1            34491\n",
        "2.3.7            28319\n",
        "4.3              23712\n",
        "nan              14170\n",
        "2.3.3            13567\n",
        "2.2               7036\n",
        "1.6               6000\n",
        "4.4.4             4998\n",
        "4.2.1             3527\n",
        "dtype: int64"
       ]
      }
     ],
     "prompt_number": 36
    },
    {
     "cell_type": "code",
     "collapsed": false,
     "input": [
      "print 'current time is',time.time()\n",
      "print 'duration =%.2f seconds'%(time.time()-start_time)"
     ],
     "language": "python",
     "metadata": {
      "run_control": {
       "breakpoint": false
      }
     },
     "outputs": [
      {
       "output_type": "stream",
       "stream": "stdout",
       "text": [
        "current time is 1422472403.66\n",
        "duration =8632.73 seconds\n"
       ]
      }
     ],
     "prompt_number": 37
    },
    {
     "cell_type": "code",
     "collapsed": false,
     "input": [],
     "language": "python",
     "metadata": {
      "run_control": {
       "breakpoint": false
      }
     },
     "outputs": [],
     "prompt_number": 20
    }
   ],
   "metadata": {}
  }
 ]
}