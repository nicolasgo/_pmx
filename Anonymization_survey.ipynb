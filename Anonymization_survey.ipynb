{
 "metadata": {
  "name": "",
  "signature": "sha256:22670acbdcafff43b3b29ee671b134c76f2b2a3cd50ed6c8390d2edb39630b7e"
 },
 "nbformat": 3,
 "nbformat_minor": 0,
 "worksheets": [
  {
   "cells": [
    {
     "cell_type": "heading",
     "level": 1,
     "metadata": {},
     "source": [
      "Survey files"
     ]
    },
    {
     "cell_type": "code",
     "collapsed": false,
     "input": [
      "import sys\n",
      "import csv\n",
      "import StringIO\n",
      "import pandas as pd"
     ],
     "language": "python",
     "metadata": {
      "run_control": {
       "breakpoint": false
      }
     },
     "outputs": [],
     "prompt_number": 7
    },
    {
     "cell_type": "code",
     "collapsed": false,
     "input": [
      "csvfile_name = 'survey/survey141030.csv' # 'survey140804.csv'\n",
      "\n",
      "df=pd.read_csv(csvfile_name,\n",
      "                 encoding='utf-8', parse_dates=True, \n",
      "                 dtype=unicode,\n",
      "                 header=None, names=[\"id\",\"user_id\",\"msisdn\",\"device\",\"created\",\"a1\",\"a2\",\"a3\",\"a4\",\"a5\"]\n",
      "                 )\n",
      "\n",
      "df.index = pd.to_datetime(df.pop('created'))\n",
      "\n",
      "df['a2'].head(100).tail(5)"
     ],
     "language": "python",
     "metadata": {
      "run_control": {
       "breakpoint": false
      }
     },
     "outputs": [
      {
       "metadata": {},
       "output_type": "pyout",
       "prompt_number": 24,
       "text": [
        "created\n",
        "2013-11-08 17:45:44                                     El color d fondo\n",
        "2013-11-08 17:45:48    Que tarda mucho en meterse en la pagina que se...\n",
        "2013-11-08 17:46:12              K las fotos d algunos k tengo no se ven\n",
        "2013-11-08 17:46:12    q sin saldo no puedes ver las fotos de tus amigos\n",
        "2013-11-08 17:46:20          Que te meten publicidad de sexo a cada paso\n",
        "Name: a2, dtype: object"
       ]
      }
     ],
     "prompt_number": 24
    },
    {
     "cell_type": "code",
     "collapsed": false,
     "input": [
      "df.info()"
     ],
     "language": "python",
     "metadata": {
      "run_control": {
       "breakpoint": false
      }
     },
     "outputs": [
      {
       "output_type": "stream",
       "stream": "stdout",
       "text": [
        "<class 'pandas.core.frame.DataFrame'>\n",
        "Index: 666634 entries, 2013-11-08 16:59:33 to 2014-10-31 02:14:08\n",
        "Data columns (total 9 columns):\n",
        "id         666627 non-null object\n",
        "user_id    665791 non-null object\n",
        "msisdn     645376 non-null object\n",
        "device     665674 non-null object\n",
        "a1         665510 non-null object\n",
        "a2         665467 non-null object\n",
        "a3         665430 non-null object\n",
        "a4         665172 non-null object\n",
        "a5         664512 non-null object\n",
        "dtypes: object(9)\n",
        "memory usage: 50.9+ MB\n"
       ]
      }
     ],
     "prompt_number": 25
    },
    {
     "cell_type": "markdown",
     "metadata": {},
     "source": [
      "## Remove unecessary columns"
     ]
    },
    {
     "cell_type": "code",
     "collapsed": false,
     "input": [
      "df_anonym=df.drop(['msisdn','device','a5'],axis=1).dropna()\n",
      "df_anonym.head(2)"
     ],
     "language": "python",
     "metadata": {
      "run_control": {
       "breakpoint": false
      }
     },
     "outputs": [
      {
       "html": [
        "<div style=\"max-height:1000px;max-width:1500px;overflow:auto;\">\n",
        "<table border=\"1\" class=\"dataframe\">\n",
        "  <thead>\n",
        "    <tr style=\"text-align: right;\">\n",
        "      <th></th>\n",
        "      <th>id</th>\n",
        "      <th>user_id</th>\n",
        "      <th>a1</th>\n",
        "      <th>a2</th>\n",
        "      <th>a3</th>\n",
        "      <th>a4</th>\n",
        "    </tr>\n",
        "    <tr>\n",
        "      <th>created</th>\n",
        "      <th></th>\n",
        "      <th></th>\n",
        "      <th></th>\n",
        "      <th></th>\n",
        "      <th></th>\n",
        "      <th></th>\n",
        "    </tr>\n",
        "  </thead>\n",
        "  <tbody>\n",
        "    <tr>\n",
        "      <th>2013-11-08 16:59:33</th>\n",
        "      <td> 792</td>\n",
        "      <td>  9147515</td>\n",
        "      <td> Subir fotos</td>\n",
        "      <td>               Los amigos</td>\n",
        "      <td> El tiempo es muy lento</td>\n",
        "      <td> Si para compartir fotos</td>\n",
        "    </tr>\n",
        "    <tr>\n",
        "      <th>2013-11-08 17:00:24</th>\n",
        "      <td> 793</td>\n",
        "      <td> 12173502</td>\n",
        "      <td>      gratis</td>\n",
        "      <td> escriben palabras bulgar</td>\n",
        "      <td>                     \\N</td>\n",
        "      <td>                      \\N</td>\n",
        "    </tr>\n",
        "  </tbody>\n",
        "</table>\n",
        "</div>"
       ],
       "metadata": {},
       "output_type": "pyout",
       "prompt_number": 26,
       "text": [
        "                      id  \\\n",
        "created                    \n",
        "2013-11-08 16:59:33  792   \n",
        "2013-11-08 17:00:24  793   \n",
        "\n",
        "                      user_id  \\\n",
        "created                         \n",
        "2013-11-08 16:59:33   9147515   \n",
        "2013-11-08 17:00:24  12173502   \n",
        "\n",
        "                              a1  \\\n",
        "created                            \n",
        "2013-11-08 16:59:33  Subir fotos   \n",
        "2013-11-08 17:00:24       gratis   \n",
        "\n",
        "                                           a2  \\\n",
        "created                                         \n",
        "2013-11-08 16:59:33                Los amigos   \n",
        "2013-11-08 17:00:24  escriben palabras bulgar   \n",
        "\n",
        "                                         a3  \\\n",
        "created                                       \n",
        "2013-11-08 16:59:33  El tiempo es muy lento   \n",
        "2013-11-08 17:00:24                      \\N   \n",
        "\n",
        "                                          a4  \n",
        "created                                       \n",
        "2013-11-08 16:59:33  Si para compartir fotos  \n",
        "2013-11-08 17:00:24                       \\N  "
       ]
      }
     ],
     "prompt_number": 26
    },
    {
     "cell_type": "code",
     "collapsed": false,
     "input": [
      "df_anonym.info()"
     ],
     "language": "python",
     "metadata": {
      "run_control": {
       "breakpoint": false
      }
     },
     "outputs": [
      {
       "output_type": "stream",
       "stream": "stdout",
       "text": [
        "<class 'pandas.core.frame.DataFrame'>\n",
        "Index: 664920 entries, 2013-11-08 16:59:33 to 2014-10-31 02:14:08\n",
        "Data columns (total 6 columns):\n",
        "id         664920 non-null object\n",
        "user_id    664920 non-null object\n",
        "a1         664920 non-null object\n",
        "a2         664920 non-null object\n",
        "a3         664920 non-null object\n",
        "a4         664920 non-null object\n",
        "dtypes: object(6)\n",
        "memory usage: 35.5+ MB\n"
       ]
      }
     ],
     "prompt_number": 27
    },
    {
     "cell_type": "code",
     "collapsed": false,
     "input": [
      "df_anonym.head(2).to_csv(sys.stdout, encoding='utf-8',na_rep='NULL',nan_rep='NULL')"
     ],
     "language": "python",
     "metadata": {
      "run_control": {
       "breakpoint": false
      }
     },
     "outputs": [
      {
       "output_type": "stream",
       "stream": "stdout",
       "text": [
        "created,id,user_id,a1,a2,a3,a4\n",
        "2013-11-08 16:59:33,792,9147515,Subir fotos,Los amigos,El tiempo es muy lento,Si para compartir fotos\n",
        "2013-11-08 17:00:24,793,12173502,gratis,escriben palabras bulgar,\\N,\\N\n"
       ]
      }
     ],
     "prompt_number": 28
    },
    {
     "cell_type": "markdown",
     "metadata": {},
     "source": [
      "## Save a subset of the data"
     ]
    },
    {
     "cell_type": "code",
     "collapsed": false,
     "input": [
      "csv_filename = 'survey/survey141030.a.csv'\n",
      "df_anonym.tail(6020).head(4000).to_csv(csv_filename, encoding='utf-8')"
     ],
     "language": "python",
     "metadata": {
      "run_control": {
       "breakpoint": false
      }
     },
     "outputs": [],
     "prompt_number": 39
    },
    {
     "cell_type": "code",
     "collapsed": false,
     "input": [
      "!head {csv_filename}"
     ],
     "language": "python",
     "metadata": {
      "run_control": {
       "breakpoint": false
      }
     },
     "outputs": [
      {
       "output_type": "stream",
       "stream": "stdout",
       "text": [
        "created,id,user_id,a1,a2,a3,a4\r\n",
        "2014-10-25 08:17:37,660649,22231128,Nada,Nada,No,\\N\r\n",
        "2014-10-25 08:18:10,660650,22869995,Las fotos,Los v\u00eddeo,Porque si,Porque si\r\n",
        "2014-10-25 08:20:40,660651,23383039,Nada,Q no se aparesca mi pinche foto..,Q funcione mejor y q no se trabe .. y q aparesca mi  foto de perfil.. no se q chingados pasa con plugger q no aparese mi foto de perfil..,No porq no funciona bien...\r\n",
        "2014-10-25 08:21:13,660652,21875050,\\N,\\N,\\N,Si por k es muy bueno\r\n",
        "2014-10-25 08:21:37,660653,11409044,K se puedan descargar videoz,K se puedan descargar videoz,K se puedan descargar videoz,K se puedan descargar videoz\r\n",
        "2014-10-25 08:21:39,660654,22787837,Los amigos,Los v\u00eddeos duran muy poco,Los videos duren masy,Lo recomendar\u00eda si los videos durar\u00edan m\u00e1s\r\n",
        "2014-10-25 08:21:51,660655,22526876,Que es gratis,Que es muy lento,Lo lento por que quisiera que fuera mas rrapido,Si pior que es muy divertido\r\n",
        "2014-10-25 08:24:03,660656,9763687,Nada m gusta n sirbe sta muy lento denl rapides y n puden kitemlo,Su lentitus d ustes ekipo plugger dn competencia,Lo lent del sistema n sirbe,K s pongan las pilas y dn bn servicio sn kitengo y pongan algo mas rapido kk dejen subir video y tdooooo asi n sirbe pluggerrr\r\n",
        "2014-10-25 08:24:17,660657,23578927,Yo de echos me gusta a chatear con mis amigos,Nada todo me gusta,Seria perder tu tu.plugger,Para que el lo chatea con sus amigos\r\n"
       ]
      }
     ],
     "prompt_number": 40
    },
    {
     "cell_type": "code",
     "collapsed": false,
     "input": [
      "#csvfile_name = 'survey/training_df.csv' # 'survey140804.csv'\n",
      "try:\n",
      "    df=pd.read_csv(csvfile_name,\n",
      "                     #StringIO.StringIO(lines), \n",
      "                     encoding='utf-8', parse_dates=True,\n",
      "                     header=0,\n",
      "                     dtype=unicode\n",
      "                     )\n",
      "except:\n",
      "    pass\n",
      "#df.index = pd.to_datetime(df.pop('created'))\n",
      "df.info()\n",
      "#df[['a2',\"label_a2\"]].head(100).tail(5)\n",
      "\n",
      "\n"
     ],
     "language": "python",
     "metadata": {
      "run_control": {
       "breakpoint": false
      }
     },
     "outputs": [
      {
       "output_type": "stream",
       "stream": "stdout",
       "text": [
        "<class 'pandas.core.frame.DataFrame'>\n",
        "Index: 666634 entries, 2013-11-08 16:59:33 to 2014-10-31 02:14:08\n",
        "Data columns (total 9 columns):\n",
        "id         666627 non-null object\n",
        "user_id    665791 non-null object\n",
        "msisdn     645376 non-null object\n",
        "device     665674 non-null object\n",
        "a1         665510 non-null object\n",
        "a2         665467 non-null object\n",
        "a3         665430 non-null object\n",
        "a4         665172 non-null object\n",
        "a5         664512 non-null object\n",
        "dtypes: object(9)\n",
        "memory usage: 50.9+ MB\n"
       ]
      }
     ],
     "prompt_number": 34
    },
    {
     "cell_type": "code",
     "collapsed": false,
     "input": [
      "!wc {csv_filename}"
     ],
     "language": "python",
     "metadata": {
      "run_control": {
       "breakpoint": false
      }
     },
     "outputs": [
      {
       "output_type": "stream",
       "stream": "stdout",
       "text": [
        "    3169   68041  518175 survey/survey141030.a.csv\r\n"
       ]
      }
     ],
     "prompt_number": 36
    },
    {
     "cell_type": "code",
     "collapsed": false,
     "input": [
      "df[['a2',\"label_a2\"]].head().to_csv(sys.stdout, encoding='utf-8')"
     ],
     "language": "python",
     "metadata": {
      "run_control": {
       "breakpoint": false
      }
     },
     "outputs": []
    },
    {
     "cell_type": "code",
     "collapsed": false,
     "input": [
      "csv_training=\"survey.training.csv\" #sys.stdout\n",
      "\n",
      "df_rnd=df.reindex(np.random.permutation(df.index))\n",
      "df_rnd[['a2',\"label_a2\"]].to_csv(csv_training, encoding='utf-8', index=False)"
     ],
     "language": "python",
     "metadata": {
      "run_control": {
       "breakpoint": false
      }
     },
     "outputs": []
    },
    {
     "cell_type": "code",
     "collapsed": false,
     "input": [
      "!head {csv_training}"
     ],
     "language": "python",
     "metadata": {
      "run_control": {
       "breakpoint": false
      }
     },
     "outputs": []
    },
    {
     "cell_type": "code",
     "collapsed": false,
     "input": [],
     "language": "python",
     "metadata": {
      "run_control": {
       "breakpoint": false
      }
     },
     "outputs": []
    },
    {
     "cell_type": "markdown",
     "metadata": {},
     "source": [
      "#Notes"
     ]
    },
    {
     "cell_type": "markdown",
     "metadata": {},
     "source": [
      "gunzip -c 201409??.pv.csv.gz | grep '^5255' | head"
     ]
    },
    {
     "cell_type": "markdown",
     "metadata": {},
     "source": [
      "# Session file"
     ]
    },
    {
     "cell_type": "code",
     "collapsed": false,
     "input": [
      "file_name='/Users/nicolas/logs/nobackup/sessions23.201411.pv.csv'#sessions.pv.csv'"
     ],
     "language": "python",
     "metadata": {
      "run_control": {
       "breakpoint": false
      }
     },
     "outputs": [],
     "prompt_number": 3
    },
    {
     "cell_type": "code",
     "collapsed": false,
     "input": [
      "file_name='/Users/nicolas/logs/nobackup/sessions55.pv.a.csv'#sessions.pv.csv'\n",
      "\n",
      "df=pd.read_csv(file_name, #parse_dates=True, \n",
      "    names=[\"msisdn\",\"time\",\"duration\",\"ip\",\"pv\",\"variety\",\"landpage\",\"device\",\n",
      "           \"inbox\",\"mymed\",\"conve\",\"activ\",\"home\",\"frien\",\"info\",\"media\",\"uploa\",\"avata\",\"publi\",\"help\",\"ua\"])\n",
      "\n",
      "df['msisdn']=df['msisdn'].astype(str)\n",
      "df['ip']=df['ip'].astype(str)"
     ],
     "language": "python",
     "metadata": {
      "run_control": {
       "breakpoint": false
      }
     },
     "outputs": [],
     "prompt_number": 8
    },
    {
     "cell_type": "code",
     "collapsed": false,
     "input": [
      "#df['time']=df['time'].astype(datetime)"
     ],
     "language": "python",
     "metadata": {
      "run_control": {
       "breakpoint": false
      }
     },
     "outputs": [
      {
       "ename": "TypeError",
       "evalue": "data type not understood",
       "output_type": "pyerr",
       "traceback": [
        "\u001b[0;31m---------------------------------------------------------------------------\u001b[0m\n\u001b[0;31mTypeError\u001b[0m                                 Traceback (most recent call last)",
        "\u001b[0;32m<ipython-input-9-b790084048c3>\u001b[0m in \u001b[0;36m<module>\u001b[0;34m()\u001b[0m\n\u001b[0;32m----> 1\u001b[0;31m \u001b[0mdf\u001b[0m\u001b[0;34m[\u001b[0m\u001b[0;34m'time'\u001b[0m\u001b[0;34m]\u001b[0m\u001b[0;34m=\u001b[0m\u001b[0mdf\u001b[0m\u001b[0;34m[\u001b[0m\u001b[0;34m'time'\u001b[0m\u001b[0;34m]\u001b[0m\u001b[0;34m.\u001b[0m\u001b[0mastype\u001b[0m\u001b[0;34m(\u001b[0m\u001b[0mdatetime\u001b[0m\u001b[0;34m)\u001b[0m\u001b[0;34m\u001b[0m\u001b[0m\n\u001b[0m",
        "\u001b[0;32m/Users/nicolas/anaconda/lib/python2.7/site-packages/pandas/core/generic.pyc\u001b[0m in \u001b[0;36mastype\u001b[0;34m(self, dtype, copy, raise_on_error)\u001b[0m\n\u001b[1;32m   2189\u001b[0m \u001b[0;34m\u001b[0m\u001b[0m\n\u001b[1;32m   2190\u001b[0m         mgr = self._data.astype(\n\u001b[0;32m-> 2191\u001b[0;31m             dtype=dtype, copy=copy, raise_on_error=raise_on_error)\n\u001b[0m\u001b[1;32m   2192\u001b[0m         \u001b[0;32mreturn\u001b[0m \u001b[0mself\u001b[0m\u001b[0;34m.\u001b[0m\u001b[0m_constructor\u001b[0m\u001b[0;34m(\u001b[0m\u001b[0mmgr\u001b[0m\u001b[0;34m)\u001b[0m\u001b[0;34m.\u001b[0m\u001b[0m__finalize__\u001b[0m\u001b[0;34m(\u001b[0m\u001b[0mself\u001b[0m\u001b[0;34m)\u001b[0m\u001b[0;34m\u001b[0m\u001b[0m\n\u001b[1;32m   2193\u001b[0m \u001b[0;34m\u001b[0m\u001b[0m\n",
        "\u001b[0;32m/Users/nicolas/anaconda/lib/python2.7/site-packages/pandas/core/internals.pyc\u001b[0m in \u001b[0;36mastype\u001b[0;34m(self, dtype, **kwargs)\u001b[0m\n\u001b[1;32m   2540\u001b[0m \u001b[0;34m\u001b[0m\u001b[0m\n\u001b[1;32m   2541\u001b[0m     \u001b[0;32mdef\u001b[0m \u001b[0mastype\u001b[0m\u001b[0;34m(\u001b[0m\u001b[0mself\u001b[0m\u001b[0;34m,\u001b[0m \u001b[0mdtype\u001b[0m\u001b[0;34m,\u001b[0m \u001b[0;34m**\u001b[0m\u001b[0mkwargs\u001b[0m\u001b[0;34m)\u001b[0m\u001b[0;34m:\u001b[0m\u001b[0;34m\u001b[0m\u001b[0m\n\u001b[0;32m-> 2542\u001b[0;31m         \u001b[0;32mreturn\u001b[0m \u001b[0mself\u001b[0m\u001b[0;34m.\u001b[0m\u001b[0mapply\u001b[0m\u001b[0;34m(\u001b[0m\u001b[0;34m'astype'\u001b[0m\u001b[0;34m,\u001b[0m \u001b[0mdtype\u001b[0m\u001b[0;34m=\u001b[0m\u001b[0mdtype\u001b[0m\u001b[0;34m,\u001b[0m \u001b[0;34m**\u001b[0m\u001b[0mkwargs\u001b[0m\u001b[0;34m)\u001b[0m\u001b[0;34m\u001b[0m\u001b[0m\n\u001b[0m\u001b[1;32m   2543\u001b[0m \u001b[0;34m\u001b[0m\u001b[0m\n\u001b[1;32m   2544\u001b[0m     \u001b[0;32mdef\u001b[0m \u001b[0mconvert\u001b[0m\u001b[0;34m(\u001b[0m\u001b[0mself\u001b[0m\u001b[0;34m,\u001b[0m \u001b[0;34m**\u001b[0m\u001b[0mkwargs\u001b[0m\u001b[0;34m)\u001b[0m\u001b[0;34m:\u001b[0m\u001b[0;34m\u001b[0m\u001b[0m\n",
        "\u001b[0;32m/Users/nicolas/anaconda/lib/python2.7/site-packages/pandas/core/internals.pyc\u001b[0m in \u001b[0;36mapply\u001b[0;34m(self, f, axes, filter, do_integrity_check, **kwargs)\u001b[0m\n\u001b[1;32m   2495\u001b[0m                                                  copy=align_copy)\n\u001b[1;32m   2496\u001b[0m \u001b[0;34m\u001b[0m\u001b[0m\n\u001b[0;32m-> 2497\u001b[0;31m             \u001b[0mapplied\u001b[0m \u001b[0;34m=\u001b[0m \u001b[0mgetattr\u001b[0m\u001b[0;34m(\u001b[0m\u001b[0mb\u001b[0m\u001b[0;34m,\u001b[0m \u001b[0mf\u001b[0m\u001b[0;34m)\u001b[0m\u001b[0;34m(\u001b[0m\u001b[0;34m**\u001b[0m\u001b[0mkwargs\u001b[0m\u001b[0;34m)\u001b[0m\u001b[0;34m\u001b[0m\u001b[0m\n\u001b[0m\u001b[1;32m   2498\u001b[0m \u001b[0;34m\u001b[0m\u001b[0m\n\u001b[1;32m   2499\u001b[0m             \u001b[0;32mif\u001b[0m \u001b[0misinstance\u001b[0m\u001b[0;34m(\u001b[0m\u001b[0mapplied\u001b[0m\u001b[0;34m,\u001b[0m \u001b[0mlist\u001b[0m\u001b[0;34m)\u001b[0m\u001b[0;34m:\u001b[0m\u001b[0;34m\u001b[0m\u001b[0m\n",
        "\u001b[0;32m/Users/nicolas/anaconda/lib/python2.7/site-packages/pandas/core/internals.pyc\u001b[0m in \u001b[0;36mastype\u001b[0;34m(self, dtype, copy, raise_on_error, values)\u001b[0m\n\u001b[1;32m    369\u001b[0m     \u001b[0;32mdef\u001b[0m \u001b[0mastype\u001b[0m\u001b[0;34m(\u001b[0m\u001b[0mself\u001b[0m\u001b[0;34m,\u001b[0m \u001b[0mdtype\u001b[0m\u001b[0;34m,\u001b[0m \u001b[0mcopy\u001b[0m\u001b[0;34m=\u001b[0m\u001b[0mFalse\u001b[0m\u001b[0;34m,\u001b[0m \u001b[0mraise_on_error\u001b[0m\u001b[0;34m=\u001b[0m\u001b[0mTrue\u001b[0m\u001b[0;34m,\u001b[0m \u001b[0mvalues\u001b[0m\u001b[0;34m=\u001b[0m\u001b[0mNone\u001b[0m\u001b[0;34m)\u001b[0m\u001b[0;34m:\u001b[0m\u001b[0;34m\u001b[0m\u001b[0m\n\u001b[1;32m    370\u001b[0m         return self._astype(dtype, copy=copy, raise_on_error=raise_on_error,\n\u001b[0;32m--> 371\u001b[0;31m                             values=values)\n\u001b[0m\u001b[1;32m    372\u001b[0m \u001b[0;34m\u001b[0m\u001b[0m\n\u001b[1;32m    373\u001b[0m     def _astype(self, dtype, copy=False, raise_on_error=True, values=None,\n",
        "\u001b[0;32m/Users/nicolas/anaconda/lib/python2.7/site-packages/pandas/core/internals.pyc\u001b[0m in \u001b[0;36m_astype\u001b[0;34m(self, dtype, copy, raise_on_error, values, klass)\u001b[0m\n\u001b[1;32m    386\u001b[0m \u001b[0;34m\u001b[0m\u001b[0m\n\u001b[1;32m    387\u001b[0m         \u001b[0;31m# astype processing\u001b[0m\u001b[0;34m\u001b[0m\u001b[0;34m\u001b[0m\u001b[0m\n\u001b[0;32m--> 388\u001b[0;31m         \u001b[0mdtype\u001b[0m \u001b[0;34m=\u001b[0m \u001b[0mnp\u001b[0m\u001b[0;34m.\u001b[0m\u001b[0mdtype\u001b[0m\u001b[0;34m(\u001b[0m\u001b[0mdtype\u001b[0m\u001b[0;34m)\u001b[0m\u001b[0;34m\u001b[0m\u001b[0m\n\u001b[0m\u001b[1;32m    389\u001b[0m         \u001b[0;32mif\u001b[0m \u001b[0mself\u001b[0m\u001b[0;34m.\u001b[0m\u001b[0mdtype\u001b[0m \u001b[0;34m==\u001b[0m \u001b[0mdtype\u001b[0m\u001b[0;34m:\u001b[0m\u001b[0;34m\u001b[0m\u001b[0m\n\u001b[1;32m    390\u001b[0m             \u001b[0;32mif\u001b[0m \u001b[0mcopy\u001b[0m\u001b[0;34m:\u001b[0m\u001b[0;34m\u001b[0m\u001b[0m\n",
        "\u001b[0;31mTypeError\u001b[0m: data type not understood"
       ]
      }
     ],
     "prompt_number": 9
    },
    {
     "cell_type": "code",
     "collapsed": false,
     "input": [
      "df.head()"
     ],
     "language": "python",
     "metadata": {
      "run_control": {
       "breakpoint": false
      }
     },
     "outputs": [
      {
       "html": [
        "<div style=\"max-height:1000px;max-width:1500px;overflow:auto;\">\n",
        "<table border=\"1\" class=\"dataframe\">\n",
        "  <thead>\n",
        "    <tr style=\"text-align: right;\">\n",
        "      <th></th>\n",
        "      <th></th>\n",
        "      <th>msisdn</th>\n",
        "      <th>time</th>\n",
        "      <th>duration</th>\n",
        "      <th>ip</th>\n",
        "      <th>pv</th>\n",
        "      <th>variety</th>\n",
        "      <th>landpage</th>\n",
        "      <th>...</th>\n",
        "      <th>info</th>\n",
        "      <th>media</th>\n",
        "      <th>uploa</th>\n",
        "      <th>avata</th>\n",
        "      <th>publi</th>\n",
        "      <th>help</th>\n",
        "      <th>ua</th>\n",
        "    </tr>\n",
        "  </thead>\n",
        "  <tbody>\n",
        "    <tr>\n",
        "      <th>user_id</th>\n",
        "      <th>time</th>\n",
        "      <td> duration</td>\n",
        "      <td>           ip</td>\n",
        "      <td>  pv</td>\n",
        "      <td> variety</td>\n",
        "      <td> landpage</td>\n",
        "      <td>        device</td>\n",
        "      <td> inbox</td>\n",
        "      <td>...</td>\n",
        "      <td> uploa</td>\n",
        "      <td> avata</td>\n",
        "      <td> publi</td>\n",
        "      <td> help</td>\n",
        "      <td> dfamily</td>\n",
        "      <td> dversion</td>\n",
        "      <td>     dmodel</td>\n",
        "    </tr>\n",
        "    <tr>\n",
        "      <th rowspan=\"4\" valign=\"top\">00002f99e468</th>\n",
        "      <th>2014-09-25 13:27:29</th>\n",
        "      <td>     5045</td>\n",
        "      <td> 8b7638dacfd8</td>\n",
        "      <td> 160</td>\n",
        "      <td>       8</td>\n",
        "      <td>   /regis</td>\n",
        "      <td> Android 4.4.2</td>\n",
        "      <td>    15</td>\n",
        "      <td>...</td>\n",
        "      <td>     0</td>\n",
        "      <td>     3</td>\n",
        "      <td>     0</td>\n",
        "      <td>    0</td>\n",
        "      <td> Android</td>\n",
        "      <td>    4.4.2</td>\n",
        "      <td> (LG-D120,)</td>\n",
        "    </tr>\n",
        "    <tr>\n",
        "      <th>2014-09-25 20:41:39</th>\n",
        "      <td>     2402</td>\n",
        "      <td> fc22749f2f15</td>\n",
        "      <td>  81</td>\n",
        "      <td>       7</td>\n",
        "      <td>   /home </td>\n",
        "      <td> Android 4.4.2</td>\n",
        "      <td>    12</td>\n",
        "      <td>...</td>\n",
        "      <td>     3</td>\n",
        "      <td>     0</td>\n",
        "      <td>     0</td>\n",
        "      <td>    0</td>\n",
        "      <td> Android</td>\n",
        "      <td>    4.4.2</td>\n",
        "      <td> (LG-D120,)</td>\n",
        "    </tr>\n",
        "    <tr>\n",
        "      <th>2014-09-26 00:15:51</th>\n",
        "      <td>     1921</td>\n",
        "      <td> 766d6b7364e8</td>\n",
        "      <td>  72</td>\n",
        "      <td>       9</td>\n",
        "      <td>   /home </td>\n",
        "      <td> Android 4.4.2</td>\n",
        "      <td>     6</td>\n",
        "      <td>...</td>\n",
        "      <td>     2</td>\n",
        "      <td>     0</td>\n",
        "      <td>     1</td>\n",
        "      <td>    1</td>\n",
        "      <td> Android</td>\n",
        "      <td>    4.4.2</td>\n",
        "      <td> (LG-D120,)</td>\n",
        "    </tr>\n",
        "    <tr>\n",
        "      <th>2014-09-27 00:07:27</th>\n",
        "      <td>     2821</td>\n",
        "      <td> 09a157e012ef</td>\n",
        "      <td>  53</td>\n",
        "      <td>       6</td>\n",
        "      <td>   /home </td>\n",
        "      <td> Android 4.4.2</td>\n",
        "      <td>    13</td>\n",
        "      <td>...</td>\n",
        "      <td>     0</td>\n",
        "      <td>     0</td>\n",
        "      <td>     0</td>\n",
        "      <td>    0</td>\n",
        "      <td> Android</td>\n",
        "      <td>    4.4.2</td>\n",
        "      <td> (LG-D120,)</td>\n",
        "    </tr>\n",
        "  </tbody>\n",
        "</table>\n",
        "<p>5 rows \u00d7 21 columns</p>\n",
        "</div>"
       ],
       "metadata": {},
       "output_type": "pyout",
       "prompt_number": 10,
       "text": [
        "                                    msisdn  \\\n",
        "user_id      time                 duration   \n",
        "00002f99e468 2014-09-25 13:27:29      5045   \n",
        "             2014-09-25 20:41:39      2402   \n",
        "             2014-09-26 00:15:51      1921   \n",
        "             2014-09-27 00:07:27      2821   \n",
        "\n",
        "                                          time  \\\n",
        "user_id      time                           ip   \n",
        "00002f99e468 2014-09-25 13:27:29  8b7638dacfd8   \n",
        "             2014-09-25 20:41:39  fc22749f2f15   \n",
        "             2014-09-26 00:15:51  766d6b7364e8   \n",
        "             2014-09-27 00:07:27  09a157e012ef   \n",
        "\n",
        "                                 duration  \\\n",
        "user_id      time                      pv   \n",
        "00002f99e468 2014-09-25 13:27:29      160   \n",
        "             2014-09-25 20:41:39       81   \n",
        "             2014-09-26 00:15:51       72   \n",
        "             2014-09-27 00:07:27       53   \n",
        "\n",
        "                                       ip  \\\n",
        "user_id      time                 variety   \n",
        "00002f99e468 2014-09-25 13:27:29        8   \n",
        "             2014-09-25 20:41:39        7   \n",
        "             2014-09-26 00:15:51        9   \n",
        "             2014-09-27 00:07:27        6   \n",
        "\n",
        "                                        pv  \\\n",
        "user_id      time                 landpage   \n",
        "00002f99e468 2014-09-25 13:27:29    /regis   \n",
        "             2014-09-25 20:41:39    /home    \n",
        "             2014-09-26 00:15:51    /home    \n",
        "             2014-09-27 00:07:27    /home    \n",
        "\n",
        "                                        variety  \\\n",
        "user_id      time                        device   \n",
        "00002f99e468 2014-09-25 13:27:29  Android 4.4.2   \n",
        "             2014-09-25 20:41:39  Android 4.4.2   \n",
        "             2014-09-26 00:15:51  Android 4.4.2   \n",
        "             2014-09-27 00:07:27  Android 4.4.2   \n",
        "\n",
        "                                 landpage  \\\n",
        "user_id      time                   inbox   \n",
        "00002f99e468 2014-09-25 13:27:29       15   \n",
        "             2014-09-25 20:41:39       12   \n",
        "             2014-09-26 00:15:51        6   \n",
        "             2014-09-27 00:07:27       13   \n",
        "\n",
        "                                     ...      \\\n",
        "user_id      time                    ...       \n",
        "00002f99e468 2014-09-25 13:27:29     ...       \n",
        "             2014-09-25 20:41:39     ...       \n",
        "             2014-09-26 00:15:51     ...       \n",
        "             2014-09-27 00:07:27     ...       \n",
        "\n",
        "                                   info  \\\n",
        "user_id      time                 uploa   \n",
        "00002f99e468 2014-09-25 13:27:29      0   \n",
        "             2014-09-25 20:41:39      3   \n",
        "             2014-09-26 00:15:51      2   \n",
        "             2014-09-27 00:07:27      0   \n",
        "\n",
        "                                  media  \\\n",
        "user_id      time                 avata   \n",
        "00002f99e468 2014-09-25 13:27:29      3   \n",
        "             2014-09-25 20:41:39      0   \n",
        "             2014-09-26 00:15:51      0   \n",
        "             2014-09-27 00:07:27      0   \n",
        "\n",
        "                                  uploa  \\\n",
        "user_id      time                 publi   \n",
        "00002f99e468 2014-09-25 13:27:29      0   \n",
        "             2014-09-25 20:41:39      0   \n",
        "             2014-09-26 00:15:51      1   \n",
        "             2014-09-27 00:07:27      0   \n",
        "\n",
        "                                 avata  \\\n",
        "user_id      time                 help   \n",
        "00002f99e468 2014-09-25 13:27:29     0   \n",
        "             2014-09-25 20:41:39     0   \n",
        "             2014-09-26 00:15:51     1   \n",
        "             2014-09-27 00:07:27     0   \n",
        "\n",
        "                                    publi  \\\n",
        "user_id      time                 dfamily   \n",
        "00002f99e468 2014-09-25 13:27:29  Android   \n",
        "             2014-09-25 20:41:39  Android   \n",
        "             2014-09-26 00:15:51  Android   \n",
        "             2014-09-27 00:07:27  Android   \n",
        "\n",
        "                                      help  \\\n",
        "user_id      time                 dversion   \n",
        "00002f99e468 2014-09-25 13:27:29     4.4.2   \n",
        "             2014-09-25 20:41:39     4.4.2   \n",
        "             2014-09-26 00:15:51     4.4.2   \n",
        "             2014-09-27 00:07:27     4.4.2   \n",
        "\n",
        "                                          ua  \n",
        "user_id      time                     dmodel  \n",
        "00002f99e468 2014-09-25 13:27:29  (LG-D120,)  \n",
        "             2014-09-25 20:41:39  (LG-D120,)  \n",
        "             2014-09-26 00:15:51  (LG-D120,)  \n",
        "             2014-09-27 00:07:27  (LG-D120,)  \n",
        "\n",
        "[5 rows x 21 columns]"
       ]
      }
     ],
     "prompt_number": 10
    },
    {
     "cell_type": "code",
     "collapsed": false,
     "input": [
      "#df['time']=pd.to_datetime(df['time'])\n",
      "df.time.describe()"
     ],
     "language": "python",
     "metadata": {
      "run_control": {
       "breakpoint": false
      }
     },
     "outputs": [
      {
       "metadata": {},
       "output_type": "pyout",
       "prompt_number": 11,
       "text": [
        "count          5908244\n",
        "unique            2141\n",
        "top       c103c789efff\n",
        "freq            392199\n",
        "Name: time, dtype: object"
       ]
      }
     ],
     "prompt_number": 11
    },
    {
     "cell_type": "code",
     "collapsed": false,
     "input": [
      "df.info()"
     ],
     "language": "python",
     "metadata": {
      "run_control": {
       "breakpoint": false
      }
     },
     "outputs": [
      {
       "output_type": "stream",
       "stream": "stdout",
       "text": [
        "<class 'pandas.core.frame.DataFrame'>\n",
        "MultiIndex: 5908244 entries, (user_id, time) to (fffff1a3cb28, 2014-10-30 18:49:16)\n",
        "Data columns (total 21 columns):\n",
        "msisdn      object\n",
        "time        object\n",
        "duration    object\n",
        "ip          object\n",
        "pv          object\n",
        "variety     object\n",
        "landpage    object\n",
        "device      object\n",
        "inbox       object\n",
        "mymed       object\n",
        "conve       object\n",
        "activ       object\n",
        "home        object\n",
        "frien       object\n",
        "info        object\n",
        "media       object\n",
        "uploa       object\n",
        "avata       object\n",
        "publi       object\n",
        "help        object\n",
        "ua          object\n",
        "dtypes: object(21)\n",
        "memory usage: 1017.8+ MB\n"
       ]
      }
     ],
     "prompt_number": 12
    },
    {
     "cell_type": "code",
     "collapsed": false,
     "input": [
      "!head {file_name}"
     ],
     "language": "python",
     "metadata": {
      "run_control": {
       "breakpoint": false
      }
     },
     "outputs": [
      {
       "output_type": "stream",
       "stream": "stdout",
       "text": [
        "user_id,time,duration,ip,pv,variety,landpage,device,inbox,mymed,conve,activ,home,frien,info,media,uploa,avata,publi,help,dfamily,dversion,dmodel\r\n",
        "00002f99e468,2014-09-25 13:27:29,5045,8b7638dacfd8,160,8,/regis,Android 4.4.2,15,0,14,2,2,55,66,1,0,3,0,0,Android,4.4.2,\"(LG-D120,)\"\r\n",
        "00002f99e468,2014-09-25 20:41:39,2402,fc22749f2f15,81,7,/home ,Android 4.4.2,12,0,15,1,3,22,25,0,3,0,0,0,Android,4.4.2,\"(LG-D120,)\"\r\n",
        "00002f99e468,2014-09-26 00:15:51,1921,766d6b7364e8,72,9,/home ,Android 4.4.2,6,0,6,15,34,2,5,0,2,0,1,1,Android,4.4.2,\"(LG-D120,)\"\r\n",
        "00002f99e468,2014-09-27 00:07:27,2821,09a157e012ef,53,6,/home ,Android 4.4.2,13,0,24,8,3,4,0,1,0,0,0,0,Android,4.4.2,\"(LG-D120,)\"\r\n",
        "00002f99e468,2014-09-27 17:12:22,194,3327092261a3,9,3,/home ,Android 4.4.2,3,0,5,0,1,0,0,0,0,0,0,0,Android,4.4.2,\"(LG-D120,)\"\r\n",
        "00002f99e468,2014-09-27 20:24:43,358,da4993d8ddfb,13,4,/inbox,Android 4.4.2,3,0,8,1,0,1,0,0,0,0,0,0,Android,4.4.2,\"(LG-D120,)\"\r\n",
        "00002f99e468,2014-09-27 21:24:41,10,e46d7e36244b,1,1,/inbox,Android 4.4.2,1,0,0,0,0,0,0,0,0,0,0,0,Android,4.4.2,\"(LG-D120,)\"\r\n",
        "00002f99e468,2014-09-27 23:41:43,126,e46d7e36244b,3,2,/frien,Android 4.4.2,1,0,0,0,0,2,0,0,0,0,0,0,Android,4.4.2,\"(LG-D120,)\"\r\n",
        "00002f99e468,2014-09-28 12:56:55,105,7e4fdfddf817,6,2,/home ,Android 4.4.2,0,0,0,0,1,5,0,0,0,0,0,0,Android,4.4.2,\"(LG-D120,)\"\r\n"
       ]
      }
     ],
     "prompt_number": 13
    },
    {
     "cell_type": "code",
     "collapsed": false,
     "input": [
      "import hashlib\n",
      "\n",
      "saved = {}\n",
      "rsaved = {}  # a reverse dictionary can be used to lookup original msisdn from hashed ids\n",
      "\n",
      "\n",
      "def xx(x):\n",
      "    if not saved.has_key(x):\n",
      "        try:\n",
      "            m = hashlib.md5()\n",
      "            m.update(x)\n",
      "            mh = '%.12s'%(m.hexdigest()[10:30])\n",
      "            saved[x]=mh\n",
      "            rsaved[mh]=x\n",
      "\n",
      "\n",
      "        except:\n",
      "            print type(x),x\n",
      "\n",
      "#        print x,mh\n",
      "\n",
      "    return saved[x]\n",
      "\n",
      "\n",
      "#print len(df['msisdn'].unique())\n",
      "#print len(df['ip'].unique())\n",
      "\n",
      "# just to test\n",
      "xx('524111000443')\n"
     ],
     "language": "python",
     "metadata": {
      "run_control": {
       "breakpoint": false
      }
     },
     "outputs": [
      {
       "metadata": {},
       "output_type": "pyout",
       "prompt_number": 15,
       "text": [
        "'951a006c6a26'"
       ]
      }
     ],
     "prompt_number": 15
    },
    {
     "cell_type": "code",
     "collapsed": false,
     "input": [
      "print len(saved)\n",
      "\n",
      "t=[u'0856b4e2aa0e', u'0bba9919124a', u'18ceb99fb343', u'12d54a78aea3', u'0d2e896c8ba4', u'25986e25a969', u'09540c6f1f78', u'1aa68be5d9b8', u'063d83b9c512', u'17b17bdb637b']\n",
      "\n",
      "'''['01dbf194360f','07647267a2e7','01ad55f15e0f','01a56ac3dc4a','0798b32ea5c0']\n",
      "'''\n",
      "for i in t:\n",
      "    print i,rsaved[i]\n",
      "for i in t:\n",
      "    print '%s,'%rsaved[i],"
     ],
     "language": "python",
     "metadata": {
      "run_control": {
       "breakpoint": false
      }
     },
     "outputs": [
      {
       "output_type": "stream",
       "stream": "stdout",
       "text": [
        "1232782\n",
        "0856b4e2aa0e 525549046311\n",
        "0bba9919124a 525540591597\n",
        "18ceb99fb343 525548256181\n",
        "12d54a78aea3 525554582039\n",
        "0d2e896c8ba4 525512994107\n",
        "25986e25a969 525548794551\n",
        "09540c6f1f78 525518007794\n",
        "1aa68be5d9b8 525561092523\n",
        "063d83b9c512 525523332038\n",
        "17b17bdb637b 525512498419\n",
        "525549046311, 525540591597, 525548256181, 525554582039, 525512994107, 525548794551, 525518007794, 525561092523, 525523332038, 525512498419,\n"
       ]
      }
     ],
     "prompt_number": 44
    },
    {
     "cell_type": "code",
     "collapsed": false,
     "input": [
      "df['msisdn'] =df['msisdn'].apply(lambda x: xx(str(x))) # str(x) is to solve a bug where msisdn was a int64 instead of a string"
     ],
     "language": "python",
     "metadata": {
      "run_control": {
       "breakpoint": false
      }
     },
     "outputs": [],
     "prompt_number": 17
    },
    {
     "cell_type": "code",
     "collapsed": false,
     "input": [
      "df['ip'] =df['ip'].apply(lambda x: xx(x))"
     ],
     "language": "python",
     "metadata": {
      "run_control": {
       "breakpoint": false
      }
     },
     "outputs": [],
     "prompt_number": 11
    },
    {
     "cell_type": "code",
     "collapsed": false,
     "input": [
      "print len(df['msisdn'].unique())\n",
      "print len(df['ip'].unique())\n"
     ],
     "language": "python",
     "metadata": {
      "run_control": {
       "breakpoint": false
      }
     },
     "outputs": [
      {
       "output_type": "stream",
       "stream": "stdout",
       "text": [
        "35441\n",
        "17"
       ]
      },
      {
       "output_type": "stream",
       "stream": "stdout",
       "text": [
        "\n"
       ]
      }
     ],
     "prompt_number": 12
    },
    {
     "cell_type": "code",
     "collapsed": false,
     "input": [
      "## here\n",
      "\n",
      "df['date'] =df['time'].apply(lambda x: '%s'%(x.date))\n",
      "df[df['date']].head(3)"
     ],
     "language": "python",
     "metadata": {
      "run_control": {
       "breakpoint": false
      }
     },
     "outputs": [
      {
       "ename": "AttributeError",
       "evalue": "'str' object has no attribute 'date'",
       "output_type": "pyerr",
       "traceback": [
        "\u001b[0;31m---------------------------------------------------------------------------\u001b[0m\n\u001b[0;31mAttributeError\u001b[0m                            Traceback (most recent call last)",
        "\u001b[0;32m<ipython-input-21-09ee8e224234>\u001b[0m in \u001b[0;36m<module>\u001b[0;34m()\u001b[0m\n\u001b[1;32m      1\u001b[0m \u001b[0;31m## here\u001b[0m\u001b[0;34m\u001b[0m\u001b[0;34m\u001b[0m\u001b[0m\n\u001b[1;32m      2\u001b[0m \u001b[0;34m\u001b[0m\u001b[0m\n\u001b[0;32m----> 3\u001b[0;31m \u001b[0mdf\u001b[0m\u001b[0;34m[\u001b[0m\u001b[0;34m'date'\u001b[0m\u001b[0;34m]\u001b[0m \u001b[0;34m=\u001b[0m\u001b[0mdf\u001b[0m\u001b[0;34m[\u001b[0m\u001b[0;34m'time'\u001b[0m\u001b[0;34m]\u001b[0m\u001b[0;34m.\u001b[0m\u001b[0mapply\u001b[0m\u001b[0;34m(\u001b[0m\u001b[0;32mlambda\u001b[0m \u001b[0mx\u001b[0m\u001b[0;34m:\u001b[0m \u001b[0;34m'%s'\u001b[0m\u001b[0;34m%\u001b[0m\u001b[0;34m(\u001b[0m\u001b[0mx\u001b[0m\u001b[0;34m.\u001b[0m\u001b[0mdate\u001b[0m\u001b[0;34m)\u001b[0m\u001b[0;34m)\u001b[0m\u001b[0;34m\u001b[0m\u001b[0m\n\u001b[0m\u001b[1;32m      4\u001b[0m \u001b[0mdf\u001b[0m\u001b[0;34m.\u001b[0m\u001b[0mhead\u001b[0m\u001b[0;34m(\u001b[0m\u001b[0;36m3\u001b[0m\u001b[0;34m)\u001b[0m\u001b[0;34m\u001b[0m\u001b[0m\n",
        "\u001b[0;32m/Users/nicolas/anaconda/lib/python2.7/site-packages/pandas/core/series.pyc\u001b[0m in \u001b[0;36mapply\u001b[0;34m(self, func, convert_dtype, args, **kwds)\u001b[0m\n\u001b[1;32m   2055\u001b[0m             \u001b[0mvalues\u001b[0m \u001b[0;34m=\u001b[0m \u001b[0mlib\u001b[0m\u001b[0;34m.\u001b[0m\u001b[0mmap_infer\u001b[0m\u001b[0;34m(\u001b[0m\u001b[0mvalues\u001b[0m\u001b[0;34m,\u001b[0m \u001b[0mlib\u001b[0m\u001b[0;34m.\u001b[0m\u001b[0mTimestamp\u001b[0m\u001b[0;34m)\u001b[0m\u001b[0;34m\u001b[0m\u001b[0m\n\u001b[1;32m   2056\u001b[0m \u001b[0;34m\u001b[0m\u001b[0m\n\u001b[0;32m-> 2057\u001b[0;31m         \u001b[0mmapped\u001b[0m \u001b[0;34m=\u001b[0m \u001b[0mlib\u001b[0m\u001b[0;34m.\u001b[0m\u001b[0mmap_infer\u001b[0m\u001b[0;34m(\u001b[0m\u001b[0mvalues\u001b[0m\u001b[0;34m,\u001b[0m \u001b[0mf\u001b[0m\u001b[0;34m,\u001b[0m \u001b[0mconvert\u001b[0m\u001b[0;34m=\u001b[0m\u001b[0mconvert_dtype\u001b[0m\u001b[0;34m)\u001b[0m\u001b[0;34m\u001b[0m\u001b[0m\n\u001b[0m\u001b[1;32m   2058\u001b[0m         \u001b[0;32mif\u001b[0m \u001b[0mlen\u001b[0m\u001b[0;34m(\u001b[0m\u001b[0mmapped\u001b[0m\u001b[0;34m)\u001b[0m \u001b[0;32mand\u001b[0m \u001b[0misinstance\u001b[0m\u001b[0;34m(\u001b[0m\u001b[0mmapped\u001b[0m\u001b[0;34m[\u001b[0m\u001b[0;36m0\u001b[0m\u001b[0;34m]\u001b[0m\u001b[0;34m,\u001b[0m \u001b[0mSeries\u001b[0m\u001b[0;34m)\u001b[0m\u001b[0;34m:\u001b[0m\u001b[0;34m\u001b[0m\u001b[0m\n\u001b[1;32m   2059\u001b[0m             \u001b[0;32mfrom\u001b[0m \u001b[0mpandas\u001b[0m\u001b[0;34m.\u001b[0m\u001b[0mcore\u001b[0m\u001b[0;34m.\u001b[0m\u001b[0mframe\u001b[0m \u001b[0;32mimport\u001b[0m \u001b[0mDataFrame\u001b[0m\u001b[0;34m\u001b[0m\u001b[0m\n",
        "\u001b[0;32m/Users/nicolas/anaconda/lib/python2.7/site-packages/pandas/lib.so\u001b[0m in \u001b[0;36mpandas.lib.map_infer (pandas/lib.c:56502)\u001b[0;34m()\u001b[0m\n",
        "\u001b[0;32m<ipython-input-21-09ee8e224234>\u001b[0m in \u001b[0;36m<lambda>\u001b[0;34m(x)\u001b[0m\n\u001b[1;32m      1\u001b[0m \u001b[0;31m## here\u001b[0m\u001b[0;34m\u001b[0m\u001b[0;34m\u001b[0m\u001b[0m\n\u001b[1;32m      2\u001b[0m \u001b[0;34m\u001b[0m\u001b[0m\n\u001b[0;32m----> 3\u001b[0;31m \u001b[0mdf\u001b[0m\u001b[0;34m[\u001b[0m\u001b[0;34m'date'\u001b[0m\u001b[0;34m]\u001b[0m \u001b[0;34m=\u001b[0m\u001b[0mdf\u001b[0m\u001b[0;34m[\u001b[0m\u001b[0;34m'time'\u001b[0m\u001b[0;34m]\u001b[0m\u001b[0;34m.\u001b[0m\u001b[0mapply\u001b[0m\u001b[0;34m(\u001b[0m\u001b[0;32mlambda\u001b[0m \u001b[0mx\u001b[0m\u001b[0;34m:\u001b[0m \u001b[0;34m'%s'\u001b[0m\u001b[0;34m%\u001b[0m\u001b[0;34m(\u001b[0m\u001b[0mx\u001b[0m\u001b[0;34m.\u001b[0m\u001b[0mdate\u001b[0m\u001b[0;34m)\u001b[0m\u001b[0;34m)\u001b[0m\u001b[0;34m\u001b[0m\u001b[0m\n\u001b[0m\u001b[1;32m      4\u001b[0m \u001b[0mdf\u001b[0m\u001b[0;34m.\u001b[0m\u001b[0mhead\u001b[0m\u001b[0;34m(\u001b[0m\u001b[0;36m3\u001b[0m\u001b[0;34m)\u001b[0m\u001b[0;34m\u001b[0m\u001b[0m\n",
        "\u001b[0;31mAttributeError\u001b[0m: 'str' object has no attribute 'date'"
       ]
      }
     ],
     "prompt_number": 21
    },
    {
     "cell_type": "code",
     "collapsed": false,
     "input": [
      "df.rename(columns={'msisdn': 'user_id'}, inplace=True)"
     ],
     "language": "python",
     "metadata": {
      "run_control": {
       "breakpoint": false
      }
     },
     "outputs": [],
     "prompt_number": 14
    },
    {
     "cell_type": "code",
     "collapsed": false,
     "input": [
      "df.sort(['user_id', 'time'],inplace=True)"
     ],
     "language": "python",
     "metadata": {
      "run_control": {
       "breakpoint": false
      }
     },
     "outputs": [],
     "prompt_number": 15
    },
    {
     "cell_type": "code",
     "collapsed": false,
     "input": [
      "df.head(100).tail(10)"
     ],
     "language": "python",
     "metadata": {
      "run_control": {
       "breakpoint": false
      }
     },
     "outputs": [
      {
       "html": [
        "<div style=\"max-height:1000px;max-width:1500px;overflow:auto;\">\n",
        "<table border=\"1\" class=\"dataframe\">\n",
        "  <thead>\n",
        "    <tr style=\"text-align: right;\">\n",
        "      <th></th>\n",
        "      <th>user_id</th>\n",
        "      <th>time</th>\n",
        "      <th>duration</th>\n",
        "      <th>ip</th>\n",
        "      <th>pv</th>\n",
        "      <th>variety</th>\n",
        "      <th>landpage</th>\n",
        "      <th>...</th>\n",
        "      <th>info</th>\n",
        "      <th>media</th>\n",
        "      <th>uploa</th>\n",
        "      <th>avata</th>\n",
        "      <th>publi</th>\n",
        "      <th>help</th>\n",
        "      <th>ua</th>\n",
        "    </tr>\n",
        "  </thead>\n",
        "  <tbody>\n",
        "    <tr>\n",
        "      <th>351381</th>\n",
        "      <td> 00067a62247c</td>\n",
        "      <td>2014-11-10 12:14:27</td>\n",
        "      <td>   509</td>\n",
        "      <td> 2c0765ac5ef2</td>\n",
        "      <td>  14</td>\n",
        "      <td> 5</td>\n",
        "      <td> /home </td>\n",
        "      <td>...</td>\n",
        "      <td>  4</td>\n",
        "      <td>  0</td>\n",
        "      <td> 0</td>\n",
        "      <td> 0</td>\n",
        "      <td> 0</td>\n",
        "      <td> 0</td>\n",
        "      <td> Mozilla/5.0 (LG-C205 AppleWebkit/531 Browser/P...</td>\n",
        "    </tr>\n",
        "    <tr>\n",
        "      <th>351382</th>\n",
        "      <td> 00067a62247c</td>\n",
        "      <td>2014-11-10 13:11:00</td>\n",
        "      <td>  8036</td>\n",
        "      <td> 2c0765ac5ef2</td>\n",
        "      <td>  98</td>\n",
        "      <td> 6</td>\n",
        "      <td> /inbox</td>\n",
        "      <td>...</td>\n",
        "      <td>  0</td>\n",
        "      <td>  0</td>\n",
        "      <td> 0</td>\n",
        "      <td> 0</td>\n",
        "      <td> 0</td>\n",
        "      <td> 0</td>\n",
        "      <td> Mozilla/5.0 (LG-C205 AppleWebkit/531 Browser/P...</td>\n",
        "    </tr>\n",
        "    <tr>\n",
        "      <th>351383</th>\n",
        "      <td> 00067a62247c</td>\n",
        "      <td>2014-11-10 16:37:01</td>\n",
        "      <td>  1493</td>\n",
        "      <td> 3755a7e8014e</td>\n",
        "      <td>  18</td>\n",
        "      <td> 4</td>\n",
        "      <td> /home </td>\n",
        "      <td>...</td>\n",
        "      <td>  0</td>\n",
        "      <td>  0</td>\n",
        "      <td> 0</td>\n",
        "      <td> 0</td>\n",
        "      <td> 0</td>\n",
        "      <td> 0</td>\n",
        "      <td> Mozilla/5.0 (LG-C205 AppleWebkit/531 Browser/P...</td>\n",
        "    </tr>\n",
        "    <tr>\n",
        "      <th>351384</th>\n",
        "      <td> 00067a62247c</td>\n",
        "      <td>2014-11-10 17:43:38</td>\n",
        "      <td>   186</td>\n",
        "      <td> 3755a7e8014e</td>\n",
        "      <td>   7</td>\n",
        "      <td> 4</td>\n",
        "      <td> /home </td>\n",
        "      <td>...</td>\n",
        "      <td>  0</td>\n",
        "      <td>  2</td>\n",
        "      <td> 0</td>\n",
        "      <td> 0</td>\n",
        "      <td> 0</td>\n",
        "      <td> 0</td>\n",
        "      <td> Mozilla/5.0 (LG-C205 AppleWebkit/531 Browser/P...</td>\n",
        "    </tr>\n",
        "    <tr>\n",
        "      <th>351385</th>\n",
        "      <td> 00067a62247c</td>\n",
        "      <td>2014-11-10 18:29:45</td>\n",
        "      <td>  2020</td>\n",
        "      <td> 3755a7e8014e</td>\n",
        "      <td>  25</td>\n",
        "      <td> 5</td>\n",
        "      <td> /mymed</td>\n",
        "      <td>...</td>\n",
        "      <td>  1</td>\n",
        "      <td>  5</td>\n",
        "      <td> 0</td>\n",
        "      <td> 0</td>\n",
        "      <td> 0</td>\n",
        "      <td> 0</td>\n",
        "      <td> Mozilla/5.0 (LG-C205 AppleWebkit/531 Browser/P...</td>\n",
        "    </tr>\n",
        "    <tr>\n",
        "      <th>351386</th>\n",
        "      <td> 00067a62247c</td>\n",
        "      <td>2014-11-10 19:39:50</td>\n",
        "      <td> 12556</td>\n",
        "      <td> 3755a7e8014e</td>\n",
        "      <td> 248</td>\n",
        "      <td> 8</td>\n",
        "      <td> /home </td>\n",
        "      <td>...</td>\n",
        "      <td> 11</td>\n",
        "      <td> 11</td>\n",
        "      <td> 0</td>\n",
        "      <td> 0</td>\n",
        "      <td> 0</td>\n",
        "      <td> 0</td>\n",
        "      <td> Mozilla/5.0 (LG-C205 AppleWebkit/531 Browser/P...</td>\n",
        "    </tr>\n",
        "    <tr>\n",
        "      <th>387495</th>\n",
        "      <td> 00067a62247c</td>\n",
        "      <td>2014-11-11 07:43:54</td>\n",
        "      <td>  2580</td>\n",
        "      <td> 7f06b46493d6</td>\n",
        "      <td>  38</td>\n",
        "      <td> 8</td>\n",
        "      <td> /conve</td>\n",
        "      <td>...</td>\n",
        "      <td>  6</td>\n",
        "      <td>  4</td>\n",
        "      <td> 0</td>\n",
        "      <td> 0</td>\n",
        "      <td> 0</td>\n",
        "      <td> 0</td>\n",
        "      <td> Mozilla/5.0 (LG-C205 AppleWebkit/531 Browser/P...</td>\n",
        "    </tr>\n",
        "    <tr>\n",
        "      <th>387496</th>\n",
        "      <td> 00067a62247c</td>\n",
        "      <td>2014-11-11 10:22:27</td>\n",
        "      <td>  2558</td>\n",
        "      <td> 786644ed7ddd</td>\n",
        "      <td>   8</td>\n",
        "      <td> 3</td>\n",
        "      <td> /home </td>\n",
        "      <td>...</td>\n",
        "      <td>  0</td>\n",
        "      <td>  0</td>\n",
        "      <td> 0</td>\n",
        "      <td> 0</td>\n",
        "      <td> 0</td>\n",
        "      <td> 0</td>\n",
        "      <td> Mozilla/5.0 (LG-C205 AppleWebkit/531 Browser/P...</td>\n",
        "    </tr>\n",
        "    <tr>\n",
        "      <th>387497</th>\n",
        "      <td> 00067a62247c</td>\n",
        "      <td>2014-11-11 11:48:30</td>\n",
        "      <td>  5413</td>\n",
        "      <td> 786644ed7ddd</td>\n",
        "      <td>  31</td>\n",
        "      <td> 3</td>\n",
        "      <td> /home </td>\n",
        "      <td>...</td>\n",
        "      <td>  0</td>\n",
        "      <td>  0</td>\n",
        "      <td> 0</td>\n",
        "      <td> 0</td>\n",
        "      <td> 0</td>\n",
        "      <td> 0</td>\n",
        "      <td> Mozilla/5.0 (LG-C205 AppleWebkit/531 Browser/P...</td>\n",
        "    </tr>\n",
        "    <tr>\n",
        "      <th>387498</th>\n",
        "      <td> 00067a62247c</td>\n",
        "      <td>2014-11-11 13:58:13</td>\n",
        "      <td>  3305</td>\n",
        "      <td> 7f06b46493d6</td>\n",
        "      <td>  32</td>\n",
        "      <td> 7</td>\n",
        "      <td> /home </td>\n",
        "      <td>...</td>\n",
        "      <td>  0</td>\n",
        "      <td>  3</td>\n",
        "      <td> 0</td>\n",
        "      <td> 0</td>\n",
        "      <td> 0</td>\n",
        "      <td> 0</td>\n",
        "      <td> Mozilla/5.0 (LG-C205 AppleWebkit/531 Browser/P...</td>\n",
        "    </tr>\n",
        "  </tbody>\n",
        "</table>\n",
        "<p>10 rows \u00d7 21 columns</p>\n",
        "</div>"
       ],
       "metadata": {},
       "output_type": "pyout",
       "prompt_number": 16,
       "text": [
        "             user_id  \\\n",
        "351381  00067a62247c   \n",
        "351382  00067a62247c   \n",
        "351383  00067a62247c   \n",
        "351384  00067a62247c   \n",
        "351385  00067a62247c   \n",
        "351386  00067a62247c   \n",
        "387495  00067a62247c   \n",
        "387496  00067a62247c   \n",
        "387497  00067a62247c   \n",
        "387498  00067a62247c   \n",
        "\n",
        "                      time  \\\n",
        "351381 2014-11-10 12:14:27   \n",
        "351382 2014-11-10 13:11:00   \n",
        "351383 2014-11-10 16:37:01   \n",
        "351384 2014-11-10 17:43:38   \n",
        "351385 2014-11-10 18:29:45   \n",
        "351386 2014-11-10 19:39:50   \n",
        "387495 2014-11-11 07:43:54   \n",
        "387496 2014-11-11 10:22:27   \n",
        "387497 2014-11-11 11:48:30   \n",
        "387498 2014-11-11 13:58:13   \n",
        "\n",
        "        duration  \\\n",
        "351381       509   \n",
        "351382      8036   \n",
        "351383      1493   \n",
        "351384       186   \n",
        "351385      2020   \n",
        "351386     12556   \n",
        "387495      2580   \n",
        "387496      2558   \n",
        "387497      5413   \n",
        "387498      3305   \n",
        "\n",
        "                  ip  \\\n",
        "351381  2c0765ac5ef2   \n",
        "351382  2c0765ac5ef2   \n",
        "351383  3755a7e8014e   \n",
        "351384  3755a7e8014e   \n",
        "351385  3755a7e8014e   \n",
        "351386  3755a7e8014e   \n",
        "387495  7f06b46493d6   \n",
        "387496  786644ed7ddd   \n",
        "387497  786644ed7ddd   \n",
        "387498  7f06b46493d6   \n",
        "\n",
        "         pv  \\\n",
        "351381   14   \n",
        "351382   98   \n",
        "351383   18   \n",
        "351384    7   \n",
        "351385   25   \n",
        "351386  248   \n",
        "387495   38   \n",
        "387496    8   \n",
        "387497   31   \n",
        "387498   32   \n",
        "\n",
        "        variety  \\\n",
        "351381        5   \n",
        "351382        6   \n",
        "351383        4   \n",
        "351384        4   \n",
        "351385        5   \n",
        "351386        8   \n",
        "387495        8   \n",
        "387496        3   \n",
        "387497        3   \n",
        "387498        7   \n",
        "\n",
        "       landpage  \\\n",
        "351381   /home    \n",
        "351382   /inbox   \n",
        "351383   /home    \n",
        "351384   /home    \n",
        "351385   /mymed   \n",
        "351386   /home    \n",
        "387495   /conve   \n",
        "387496   /home    \n",
        "387497   /home    \n",
        "387498   /home    \n",
        "\n",
        "                              ...                          \\\n",
        "351381                        ...                           \n",
        "351382                        ...                           \n",
        "351383                        ...                           \n",
        "351384                        ...                           \n",
        "351385                        ...                           \n",
        "351386                        ...                           \n",
        "387495                        ...                           \n",
        "387496                        ...                           \n",
        "387497                        ...                           \n",
        "387498                        ...                           \n",
        "\n",
        "       info  \\\n",
        "351381    4   \n",
        "351382    0   \n",
        "351383    0   \n",
        "351384    0   \n",
        "351385    1   \n",
        "351386   11   \n",
        "387495    6   \n",
        "387496    0   \n",
        "387497    0   \n",
        "387498    0   \n",
        "\n",
        "        media  \\\n",
        "351381      0   \n",
        "351382      0   \n",
        "351383      0   \n",
        "351384      2   \n",
        "351385      5   \n",
        "351386     11   \n",
        "387495      4   \n",
        "387496      0   \n",
        "387497      0   \n",
        "387498      3   \n",
        "\n",
        "        uploa  \\\n",
        "351381      0   \n",
        "351382      0   \n",
        "351383      0   \n",
        "351384      0   \n",
        "351385      0   \n",
        "351386      0   \n",
        "387495      0   \n",
        "387496      0   \n",
        "387497      0   \n",
        "387498      0   \n",
        "\n",
        "        avata  \\\n",
        "351381      0   \n",
        "351382      0   \n",
        "351383      0   \n",
        "351384      0   \n",
        "351385      0   \n",
        "351386      0   \n",
        "387495      0   \n",
        "387496      0   \n",
        "387497      0   \n",
        "387498      0   \n",
        "\n",
        "        publi  \\\n",
        "351381      0   \n",
        "351382      0   \n",
        "351383      0   \n",
        "351384      0   \n",
        "351385      0   \n",
        "351386      0   \n",
        "387495      0   \n",
        "387496      0   \n",
        "387497      0   \n",
        "387498      0   \n",
        "\n",
        "        help  \\\n",
        "351381     0   \n",
        "351382     0   \n",
        "351383     0   \n",
        "351384     0   \n",
        "351385     0   \n",
        "351386     0   \n",
        "387495     0   \n",
        "387496     0   \n",
        "387497     0   \n",
        "387498     0   \n",
        "\n",
        "                                                       ua  \n",
        "351381  Mozilla/5.0 (LG-C205 AppleWebkit/531 Browser/P...  \n",
        "351382  Mozilla/5.0 (LG-C205 AppleWebkit/531 Browser/P...  \n",
        "351383  Mozilla/5.0 (LG-C205 AppleWebkit/531 Browser/P...  \n",
        "351384  Mozilla/5.0 (LG-C205 AppleWebkit/531 Browser/P...  \n",
        "351385  Mozilla/5.0 (LG-C205 AppleWebkit/531 Browser/P...  \n",
        "351386  Mozilla/5.0 (LG-C205 AppleWebkit/531 Browser/P...  \n",
        "387495  Mozilla/5.0 (LG-C205 AppleWebkit/531 Browser/P...  \n",
        "387496  Mozilla/5.0 (LG-C205 AppleWebkit/531 Browser/P...  \n",
        "387497  Mozilla/5.0 (LG-C205 AppleWebkit/531 Browser/P...  \n",
        "387498  Mozilla/5.0 (LG-C205 AppleWebkit/531 Browser/P...  \n",
        "\n",
        "[10 rows x 21 columns]"
       ]
      }
     ],
     "prompt_number": 16
    },
    {
     "cell_type": "code",
     "collapsed": false,
     "input": [
      "from user_agents import parse\n",
      "import re\n",
      "\n",
      "xdict = {}\n",
      "\n",
      "def xtract(x) :\n",
      "    if x == np.nan:\n",
      "        x = 'nan'\n",
      "    if not type(x) is str:\n",
      "        x = 'nan'\n",
      "\n",
      "    if x not in xdict:\n",
      "        xdict[x]=parse(x)\n",
      "#            print xdict[x]\n",
      "    return xdict[x]\n",
      "\n",
      "df['dfamily'] = df['ua'].map(lambda x: xtract(x).os.family)\n",
      "\n",
      "len(xdict)\n",
      "\n",
      "i=0\n",
      "for k,v in xdict.items() :\n",
      "    if v.device.family==u'Other' :\n",
      "        print v.browser.family,'--',v.os.family,'--',v.os.version_string\n",
      "        print k\n",
      "        print\n",
      "        i +=1\n",
      "        if i == 10 :\n",
      "            break\n",
      "\n",
      "for k,v in xdict.items() :\n",
      "    if re.match('zte',str.lower(k)) :\n",
      "        print '%s -> %28s'%(v, k)\n",
      "        \n",
      "df['dversion'] = df['ua'].map(lambda x: xtract(x).os.version_string)\n",
      "df['dmodel'] = df['ua'].map(lambda x: xtract(x).device)\n",
      "\n",
      "df.head()"
     ],
     "language": "python",
     "metadata": {
      "run_control": {
       "breakpoint": false
      }
     },
     "outputs": [
      {
       "output_type": "stream",
       "stream": "stdout",
       "text": [
        "UA_PARSER: Reading from (/Users/nicolas/anaconda/lib/python2.7/site-packages/ua_parser/regexes.json)\n",
        "Opera Mini"
       ]
      },
      {
       "output_type": "stream",
       "stream": "stdout",
       "text": [
        " -- Android -- \n",
        "Opera/9.80 (Android; Opera Mini/7.5.35202/35.5247; U; es) Presto/2.8.119 Version/11.10\n",
        "\n",
        "Opera Mini -- Symbian OS -- \n",
        "Opera/9.80 (Series 60; Opera Mini/7.1.32448/35.5691; U; es) Presto/2.8.119 Version/11.10\n",
        "\n",
        "Obigo -- Other -- \n",
        "ALCATEL_ONE_TOUCH_639G/1.0 Profile/MIDP-2.0 Configuration/CLDC-1.1 ObigoInternetBrowser/Q03C\n",
        "\n",
        "Opera Mini -- Other -- \n",
        "Opera/9.80 (J2ME/MIDP; Opera Mini/8.0.35626/35.5706; U; es) Presto/2.8.119 Version/11.10\n",
        "\n",
        "Other -- Other -- \n",
        "ZONDAZM70/MstarBrowser1.0/MIDP2.0Congiguration/CLDC1.1\n",
        "\n",
        "Opera Mini -- Other -- \n",
        "Opera/9.80 (J2ME/MIDP; Opera Mini/7.1.32052/35.5247; U; es) Presto/2.8.119 Version/11.10\n",
        "\n",
        "Other -- Other -- \n",
        "FARSIGHTED50_6464_11B_HW (MRE\\x5C2.5.00(800) resolution\\x5C240400 chipset\\x5CMT6250 touch\\x5C1 tpannel\\x5C1 camera\\x5C1 gsensor\\x5C0 keyboard\\x5Cnormal) C3_ZN03_P03_V0.7 Release/2013.02.02 WAP Browser/MAUI (HTTP PGDL; HTTPS) Profile/  Q03C1-2.40 es-ES\n",
        "\n",
        "Opera Mini -- Android -- \n",
        "Opera/9.80 (Android; Opera Mini/7.5.32193/35.5504; U; es) Presto/2.8.119 Version/11.10\n",
        "\n",
        "Firefox Mobile -- Android -- \n",
        "Mozilla/5.0 (Android; Mobile; rv:17.0) Gecko/17.0 Firefox/17.0\n",
        "\n",
        "Other -- Other -- \n",
        "TINNO60A_11B_HW (MRE/3.1.00(1280);MAUI/BP_MP_US_BLU_07_05;BDATE/2014/01/14 17:41;LCD/320480;CHIP/MT6260;KEY/Reduced;TOUCH/1;CAMERA/1;SENSOR/0;DEV/TINNO60A_11B_HW;WAP Browser/MAUI (HTTPS);GMOBI/001;MBOUNCE/002;MOMAGIC/003;INDEX/004;SPICEI2I/005;GAMELOFT/00\n",
        "\n",
        "Other / Other / Other ->            ZTE-G_R221/WAP2.0\n",
        "Other / Other / Other ->                   ZTE-G X760\n",
        "Generic Feature Phone / Other / Obigo 3 -> zte-N295/P107A20/Obigo Q03C/MIDP-2.0 Configuration/CLDC-1.1\n",
        "Other / Other / Other ->            ZTE-G R290/WAP2.0\n",
        "Other / Other / Other -> ZTE-G N281/WAP2.0 Profile/MIDP-2.0\n",
        "Other / Other / Other ->                   ZTE-G i766\n",
        "Other / Other / NetFront 3.5 -> ZTE-F930/1.0 NetFront/3.5 QTV5.1 Profile/MIDP-2.0 Configuration/CLDC-1.1\n",
        "Other / Other / NetFront 3.4 -> ZTE-F102/1.0 NetFront/3.4 QTV5.1 Profile/MIDP-2.0 Configuration/CLDC-1.1\n"
       ]
      },
      {
       "html": [
        "<div style=\"max-height:1000px;max-width:1500px;overflow:auto;\">\n",
        "<table border=\"1\" class=\"dataframe\">\n",
        "  <thead>\n",
        "    <tr style=\"text-align: right;\">\n",
        "      <th></th>\n",
        "      <th>user_id</th>\n",
        "      <th>time</th>\n",
        "      <th>duration</th>\n",
        "      <th>ip</th>\n",
        "      <th>pv</th>\n",
        "      <th>variety</th>\n",
        "      <th>landpage</th>\n",
        "      <th>...</th>\n",
        "      <th>avata</th>\n",
        "      <th>publi</th>\n",
        "      <th>help</th>\n",
        "      <th>ua</th>\n",
        "      <th>dfamily</th>\n",
        "      <th>dversion</th>\n",
        "      <th>dmodel</th>\n",
        "    </tr>\n",
        "  </thead>\n",
        "  <tbody>\n",
        "    <tr>\n",
        "      <th>201737</th>\n",
        "      <td> 00015c720745</td>\n",
        "      <td>2014-11-06 10:48:10</td>\n",
        "      <td>   10</td>\n",
        "      <td> d007fb79ae0f</td>\n",
        "      <td>  1</td>\n",
        "      <td> 1</td>\n",
        "      <td> /regis</td>\n",
        "      <td>...</td>\n",
        "      <td> 0</td>\n",
        "      <td> 0</td>\n",
        "      <td> 0</td>\n",
        "      <td> MOT-EX118 MIDP-2.0/CLDC-1.1 Release/31.12.2010...</td>\n",
        "      <td> Other</td>\n",
        "      <td> </td>\n",
        "      <td> (Motorola EX118,)</td>\n",
        "    </tr>\n",
        "    <tr>\n",
        "      <th>3945  </th>\n",
        "      <td> 00067a62247c</td>\n",
        "      <td>2014-10-31 08:42:37</td>\n",
        "      <td> 5240</td>\n",
        "      <td> aa1155afd8fa</td>\n",
        "      <td> 59</td>\n",
        "      <td> 8</td>\n",
        "      <td> /home </td>\n",
        "      <td>...</td>\n",
        "      <td> 0</td>\n",
        "      <td> 0</td>\n",
        "      <td> 0</td>\n",
        "      <td> Mozilla/5.0 (LG-C205 AppleWebkit/531 Browser/P...</td>\n",
        "      <td> Other</td>\n",
        "      <td> </td>\n",
        "      <td>        (LG C205,)</td>\n",
        "    </tr>\n",
        "    <tr>\n",
        "      <th>3946  </th>\n",
        "      <td> 00067a62247c</td>\n",
        "      <td>2014-10-31 11:32:31</td>\n",
        "      <td>  702</td>\n",
        "      <td> 3c30afb0215e</td>\n",
        "      <td>  7</td>\n",
        "      <td> 3</td>\n",
        "      <td> /home </td>\n",
        "      <td>...</td>\n",
        "      <td> 0</td>\n",
        "      <td> 0</td>\n",
        "      <td> 0</td>\n",
        "      <td> Mozilla/5.0 (LG-C205 AppleWebkit/531 Browser/P...</td>\n",
        "      <td> Other</td>\n",
        "      <td> </td>\n",
        "      <td>        (LG C205,)</td>\n",
        "    </tr>\n",
        "    <tr>\n",
        "      <th>3947  </th>\n",
        "      <td> 00067a62247c</td>\n",
        "      <td>2014-10-31 12:38:36</td>\n",
        "      <td> 1972</td>\n",
        "      <td> aa1155afd8fa</td>\n",
        "      <td>  8</td>\n",
        "      <td> 3</td>\n",
        "      <td> /home </td>\n",
        "      <td>...</td>\n",
        "      <td> 0</td>\n",
        "      <td> 0</td>\n",
        "      <td> 0</td>\n",
        "      <td> Mozilla/5.0 (LG-C205 AppleWebkit/531 Browser/P...</td>\n",
        "      <td> Other</td>\n",
        "      <td> </td>\n",
        "      <td>        (LG C205,)</td>\n",
        "    </tr>\n",
        "    <tr>\n",
        "      <th>3948  </th>\n",
        "      <td> 00067a62247c</td>\n",
        "      <td>2014-10-31 13:11:34</td>\n",
        "      <td>   10</td>\n",
        "      <td> 2c19e04ccf40</td>\n",
        "      <td>  1</td>\n",
        "      <td> 1</td>\n",
        "      <td> /inbox</td>\n",
        "      <td>...</td>\n",
        "      <td> 0</td>\n",
        "      <td> 0</td>\n",
        "      <td> 0</td>\n",
        "      <td> Mozilla/5.0 (LG-C205 AppleWebkit/531 Browser/P...</td>\n",
        "      <td> Other</td>\n",
        "      <td> </td>\n",
        "      <td>        (LG C205,)</td>\n",
        "    </tr>\n",
        "  </tbody>\n",
        "</table>\n",
        "<p>5 rows \u00d7 24 columns</p>\n",
        "</div>"
       ],
       "metadata": {},
       "output_type": "pyout",
       "prompt_number": 17,
       "text": [
        "             user_id  \\\n",
        "201737  00015c720745   \n",
        "3945    00067a62247c   \n",
        "3946    00067a62247c   \n",
        "3947    00067a62247c   \n",
        "3948    00067a62247c   \n",
        "\n",
        "                      time  \\\n",
        "201737 2014-11-06 10:48:10   \n",
        "3945   2014-10-31 08:42:37   \n",
        "3946   2014-10-31 11:32:31   \n",
        "3947   2014-10-31 12:38:36   \n",
        "3948   2014-10-31 13:11:34   \n",
        "\n",
        "        duration  \\\n",
        "201737        10   \n",
        "3945        5240   \n",
        "3946         702   \n",
        "3947        1972   \n",
        "3948          10   \n",
        "\n",
        "                  ip  \\\n",
        "201737  d007fb79ae0f   \n",
        "3945    aa1155afd8fa   \n",
        "3946    3c30afb0215e   \n",
        "3947    aa1155afd8fa   \n",
        "3948    2c19e04ccf40   \n",
        "\n",
        "        pv  \\\n",
        "201737   1   \n",
        "3945    59   \n",
        "3946     7   \n",
        "3947     8   \n",
        "3948     1   \n",
        "\n",
        "        variety  \\\n",
        "201737        1   \n",
        "3945          8   \n",
        "3946          3   \n",
        "3947          3   \n",
        "3948          1   \n",
        "\n",
        "       landpage  \\\n",
        "201737   /regis   \n",
        "3945     /home    \n",
        "3946     /home    \n",
        "3947     /home    \n",
        "3948     /inbox   \n",
        "\n",
        "              ...          \\\n",
        "201737        ...           \n",
        "3945          ...           \n",
        "3946          ...           \n",
        "3947          ...           \n",
        "3948          ...           \n",
        "\n",
        "       avata  \\\n",
        "201737     0   \n",
        "3945       0   \n",
        "3946       0   \n",
        "3947       0   \n",
        "3948       0   \n",
        "\n",
        "        publi  \\\n",
        "201737      0   \n",
        "3945        0   \n",
        "3946        0   \n",
        "3947        0   \n",
        "3948        0   \n",
        "\n",
        "        help  \\\n",
        "201737     0   \n",
        "3945       0   \n",
        "3946       0   \n",
        "3947       0   \n",
        "3948       0   \n",
        "\n",
        "                                                       ua  \\\n",
        "201737  MOT-EX118 MIDP-2.0/CLDC-1.1 Release/31.12.2010...   \n",
        "3945    Mozilla/5.0 (LG-C205 AppleWebkit/531 Browser/P...   \n",
        "3946    Mozilla/5.0 (LG-C205 AppleWebkit/531 Browser/P...   \n",
        "3947    Mozilla/5.0 (LG-C205 AppleWebkit/531 Browser/P...   \n",
        "3948    Mozilla/5.0 (LG-C205 AppleWebkit/531 Browser/P...   \n",
        "\n",
        "        dfamily  \\\n",
        "201737    Other   \n",
        "3945      Other   \n",
        "3946      Other   \n",
        "3947      Other   \n",
        "3948      Other   \n",
        "\n",
        "        dversion  \\\n",
        "201737             \n",
        "3945               \n",
        "3946               \n",
        "3947               \n",
        "3948               \n",
        "\n",
        "                   dmodel  \n",
        "201737  (Motorola EX118,)  \n",
        "3945           (LG C205,)  \n",
        "3946           (LG C205,)  \n",
        "3947           (LG C205,)  \n",
        "3948           (LG C205,)  \n",
        "\n",
        "[5 rows x 24 columns]"
       ]
      }
     ],
     "prompt_number": 17
    },
    {
     "cell_type": "code",
     "collapsed": false,
     "input": [
      "aa=xtract('Mozilla/5.0 (Macintosh; U; Intel Mac OS X 10_5_7; en-us) AppleWebKit/530.17 (KHTML, like Gecko) Version/4.0 Safari/530.17; 360browser(securitypay,securityinstalled); 360(android,uppayplugin); 360 Aphone Browser (6.3.8)')\n",
      "print aa"
     ],
     "language": "python",
     "metadata": {
      "run_control": {
       "breakpoint": false
      }
     },
     "outputs": [
      {
       "output_type": "stream",
       "stream": "stdout",
       "text": [
        "PC / Mac OS X 10.5.7 / Safari 4\n"
       ]
      }
     ],
     "prompt_number": 18
    },
    {
     "cell_type": "code",
     "collapsed": false,
     "input": [
      "df=df.drop(['ua'],axis=1)"
     ],
     "language": "python",
     "metadata": {
      "run_control": {
       "breakpoint": false
      }
     },
     "outputs": [],
     "prompt_number": 19
    },
    {
     "cell_type": "code",
     "collapsed": false,
     "input": [
      "df.head(2)"
     ],
     "language": "python",
     "metadata": {
      "run_control": {
       "breakpoint": false
      }
     },
     "outputs": [
      {
       "html": [
        "<div style=\"max-height:1000px;max-width:1500px;overflow:auto;\">\n",
        "<table border=\"1\" class=\"dataframe\">\n",
        "  <thead>\n",
        "    <tr style=\"text-align: right;\">\n",
        "      <th></th>\n",
        "      <th>user_id</th>\n",
        "      <th>time</th>\n",
        "      <th>duration</th>\n",
        "      <th>ip</th>\n",
        "      <th>pv</th>\n",
        "      <th>variety</th>\n",
        "      <th>landpage</th>\n",
        "      <th>...</th>\n",
        "      <th>uploa</th>\n",
        "      <th>avata</th>\n",
        "      <th>publi</th>\n",
        "      <th>help</th>\n",
        "      <th>dfamily</th>\n",
        "      <th>dversion</th>\n",
        "      <th>dmodel</th>\n",
        "    </tr>\n",
        "  </thead>\n",
        "  <tbody>\n",
        "    <tr>\n",
        "      <th>201737</th>\n",
        "      <td> 00015c720745</td>\n",
        "      <td>2014-11-06 10:48:10</td>\n",
        "      <td>   10</td>\n",
        "      <td> d007fb79ae0f</td>\n",
        "      <td>  1</td>\n",
        "      <td> 1</td>\n",
        "      <td> /regis</td>\n",
        "      <td>...</td>\n",
        "      <td> 0</td>\n",
        "      <td> 0</td>\n",
        "      <td> 0</td>\n",
        "      <td> 0</td>\n",
        "      <td> Other</td>\n",
        "      <td> </td>\n",
        "      <td> (Motorola EX118,)</td>\n",
        "    </tr>\n",
        "    <tr>\n",
        "      <th>3945  </th>\n",
        "      <td> 00067a62247c</td>\n",
        "      <td>2014-10-31 08:42:37</td>\n",
        "      <td> 5240</td>\n",
        "      <td> aa1155afd8fa</td>\n",
        "      <td> 59</td>\n",
        "      <td> 8</td>\n",
        "      <td> /home </td>\n",
        "      <td>...</td>\n",
        "      <td> 0</td>\n",
        "      <td> 0</td>\n",
        "      <td> 0</td>\n",
        "      <td> 0</td>\n",
        "      <td> Other</td>\n",
        "      <td> </td>\n",
        "      <td>        (LG C205,)</td>\n",
        "    </tr>\n",
        "  </tbody>\n",
        "</table>\n",
        "<p>2 rows \u00d7 23 columns</p>\n",
        "</div>"
       ],
       "metadata": {},
       "output_type": "pyout",
       "prompt_number": 20,
       "text": [
        "             user_id  \\\n",
        "201737  00015c720745   \n",
        "3945    00067a62247c   \n",
        "\n",
        "                      time  \\\n",
        "201737 2014-11-06 10:48:10   \n",
        "3945   2014-10-31 08:42:37   \n",
        "\n",
        "        duration  \\\n",
        "201737        10   \n",
        "3945        5240   \n",
        "\n",
        "                  ip  \\\n",
        "201737  d007fb79ae0f   \n",
        "3945    aa1155afd8fa   \n",
        "\n",
        "        pv  \\\n",
        "201737   1   \n",
        "3945    59   \n",
        "\n",
        "        variety  \\\n",
        "201737        1   \n",
        "3945          8   \n",
        "\n",
        "       landpage  \\\n",
        "201737   /regis   \n",
        "3945     /home    \n",
        "\n",
        "              ...          \\\n",
        "201737        ...           \n",
        "3945          ...           \n",
        "\n",
        "       uploa  \\\n",
        "201737     0   \n",
        "3945       0   \n",
        "\n",
        "        avata  \\\n",
        "201737      0   \n",
        "3945        0   \n",
        "\n",
        "        publi  \\\n",
        "201737      0   \n",
        "3945        0   \n",
        "\n",
        "        help  \\\n",
        "201737     0   \n",
        "3945       0   \n",
        "\n",
        "        dfamily  \\\n",
        "201737    Other   \n",
        "3945      Other   \n",
        "\n",
        "        dversion  \\\n",
        "201737             \n",
        "3945               \n",
        "\n",
        "                   dmodel  \n",
        "201737  (Motorola EX118,)  \n",
        "3945           (LG C205,)  \n",
        "\n",
        "[2 rows x 23 columns]"
       ]
      }
     ],
     "prompt_number": 20
    },
    {
     "cell_type": "code",
     "collapsed": false,
     "input": [
      "#file_name='/Users/nicolas/logs/nobackup/sessions23.pv.csv'\n",
      "fn_out='.'.join(file_name.split('.')[:-1])+'.a.csv'\n",
      "print 'saving to',fn_out\n",
      "df.to_csv(fn_out, encoding='utf-8', index=False)\n",
      "!head -n 3 {fn_out}"
     ],
     "language": "python",
     "metadata": {
      "run_control": {
       "breakpoint": false
      }
     },
     "outputs": [
      {
       "output_type": "stream",
       "stream": "stdout",
       "text": [
        "saving to /Users/nicolas/logs/nobackup/sessions23.201411.pv.a.csv\n",
        "user_id,time,duration,ip,pv,variety,landpage,device,inbox,mymed,conve,activ,home,frien,info,media,uploa,avata,publi,help,dfamily,dversion,dmodel\r\n",
        "00015c720745,2014-11-06 10:48:10,10,d007fb79ae0f,1,1,/regis,0,0,0,0,0,0,0,0,0,0,0,0,0,Other,,\"(Motorola EX118,)\"\r\n",
        "00067a62247c,2014-10-31 08:42:37,5240,aa1155afd8fa,59,8,/home ,0,11,16,9,5,6,1,3,8,0,0,0,0,Other,,\"(LG C205,)\"\r\n"
       ]
      }
     ],
     "prompt_number": 21
    },
    {
     "cell_type": "code",
     "collapsed": false,
     "input": [
      "fn_out='.'.join(file_name.split('.')[:-1])+'.a.csv'\n",
      "!tail -n 3 {fn_out}"
     ],
     "language": "python",
     "metadata": {
      "run_control": {
       "breakpoint": false
      }
     },
     "outputs": [
      {
       "output_type": "stream",
       "stream": "stdout",
       "text": [
        "fffe2d09fe0e,2014-11-29 18:00:29,9899,21286e39304d,42,7,/frien,0,2,2,23,9,1,1,0,4,0,0,0,0,Other,,\"(Nokia C3-00,)\"\r\n",
        "fffe2d09fe0e,2014-11-29 21:18:25,7271,efdba95718a2,132,8,/conve,0,15,25,40,16,10,4,0,21,1,0,0,0,Other,,\"(Nokia C3-00,)\"\r\n",
        "ffff10f82b2c,2014-11-19 20:11:34,10,fa6e34b109e4,1,1,/regis,Android 2.3.6,0,0,0,0,0,0,0,0,0,0,0,0,Android,2.3.6,\"(ALCATEL ONE TOUCH 4010A,)\"\r\n"
       ]
      }
     ],
     "prompt_number": 22
    },
    {
     "cell_type": "code",
     "collapsed": false,
     "input": [
      "!gzip -f {fn_out}"
     ],
     "language": "python",
     "metadata": {
      "run_control": {
       "breakpoint": false
      }
     },
     "outputs": [],
     "prompt_number": 23
    },
    {
     "cell_type": "code",
     "collapsed": false,
     "input": [
      "df[df['user_id']==xx('525510031588')].tail()"
     ],
     "language": "python",
     "metadata": {
      "run_control": {
       "breakpoint": false
      }
     },
     "outputs": [
      {
       "html": [
        "<div style=\"max-height:1000px;max-width:1500px;overflow:auto;\">\n",
        "<table border=\"1\" class=\"dataframe\">\n",
        "  <thead>\n",
        "    <tr style=\"text-align: right;\">\n",
        "      <th></th>\n",
        "      <th>user_id</th>\n",
        "      <th>time</th>\n",
        "      <th>duration</th>\n",
        "      <th>ip</th>\n",
        "      <th>pv</th>\n",
        "      <th>variety</th>\n",
        "      <th>landpage</th>\n",
        "      <th>...</th>\n",
        "      <th>uploa</th>\n",
        "      <th>avata</th>\n",
        "      <th>publi</th>\n",
        "      <th>help</th>\n",
        "      <th>dfamily</th>\n",
        "      <th>dversion</th>\n",
        "      <th>dmodel</th>\n",
        "    </tr>\n",
        "  </thead>\n",
        "  <tbody>\n",
        "  </tbody>\n",
        "</table>\n",
        "<p>0 rows \u00d7 23 columns</p>\n",
        "</div>"
       ],
       "metadata": {},
       "output_type": "pyout",
       "prompt_number": 24,
       "text": [
        "Empty DataFrame\n",
        "Columns: [user_id, time, duration, ip, pv, variety, landpage, device, inbox, mymed, conve, activ, home, frien, info, media, uploa, avata, publi, help, dfamily, dversion, dmodel]\n",
        "Index: []\n",
        "\n",
        "[0 rows x 23 columns]"
       ]
      }
     ],
     "prompt_number": 24
    },
    {
     "cell_type": "markdown",
     "metadata": {},
     "source": [
      "## Generate user file"
     ]
    },
    {
     "cell_type": "code",
     "collapsed": false,
     "input": [
      "df_user=pd.read_csv('/Users/nicolas/logs/nobackup/zzuser.csv',\n",
      "                 sep='\\t',\n",
      "                 encoding='utf-8',\n",
      "                 header=1, names=[\"user_id\",\"msisdn\",\"oid\",\"joined\",\"last_seen\",\"disk_usage\",\"state\",\"friends\",\"invites\",\"rcvdInv\",\"rejectd\",\"sms\",\"mms\",\"sim\",\"login\",\"web\",\"twFrs\",\"tw_url\",\"fbFrs\",\"fb_url\",\"yt\",\"pi\",\"fk\",\"area\"]\n",
      "                 )\n",
      "\n",
      "df_user.head(3)"
     ],
     "language": "python",
     "metadata": {
      "run_control": {
       "breakpoint": false
      }
     },
     "outputs": [
      {
       "html": [
        "<div style=\"max-height:1000px;max-width:1500px;overflow:auto;\">\n",
        "<table border=\"1\" class=\"dataframe\">\n",
        "  <thead>\n",
        "    <tr style=\"text-align: right;\">\n",
        "      <th></th>\n",
        "      <th>user_id</th>\n",
        "      <th>msisdn</th>\n",
        "      <th>oid</th>\n",
        "      <th>joined</th>\n",
        "      <th>last_seen</th>\n",
        "      <th>disk_usage</th>\n",
        "      <th>state</th>\n",
        "      <th>...</th>\n",
        "      <th>tw_url</th>\n",
        "      <th>fbFrs</th>\n",
        "      <th>fb_url</th>\n",
        "      <th>yt</th>\n",
        "      <th>pi</th>\n",
        "      <th>fk</th>\n",
        "      <th>area</th>\n",
        "    </tr>\n",
        "  </thead>\n",
        "  <tbody>\n",
        "    <tr>\n",
        "      <th>0</th>\n",
        "      <td>   10</td>\n",
        "      <td> 15143457910</td>\n",
        "      <td> 10</td>\n",
        "      <td> 2009-11-20 19:23:16</td>\n",
        "      <td> 2009-12-02 20:45:27</td>\n",
        "      <td>        0</td>\n",
        "      <td> 1</td>\n",
        "      <td>...</td>\n",
        "      <td> NaN</td>\n",
        "      <td>NaN</td>\n",
        "      <td> NaN</td>\n",
        "      <td>NaN</td>\n",
        "      <td>NaN</td>\n",
        "      <td>NaN</td>\n",
        "      <td> 15143</td>\n",
        "    </tr>\n",
        "    <tr>\n",
        "      <th>1</th>\n",
        "      <td>   36</td>\n",
        "      <td>           9</td>\n",
        "      <td> 10</td>\n",
        "      <td> 0000-00-00 00:00:00</td>\n",
        "      <td> 0000-00-00 00:00:00</td>\n",
        "      <td>        0</td>\n",
        "      <td> 1</td>\n",
        "      <td>...</td>\n",
        "      <td> NaN</td>\n",
        "      <td>NaN</td>\n",
        "      <td> NaN</td>\n",
        "      <td>NaN</td>\n",
        "      <td>NaN</td>\n",
        "      <td>NaN</td>\n",
        "      <td>     9</td>\n",
        "    </tr>\n",
        "    <tr>\n",
        "      <th>2</th>\n",
        "      <td> 1000</td>\n",
        "      <td> 52559999999</td>\n",
        "      <td> 10</td>\n",
        "      <td> 2009-11-10 23:10:15</td>\n",
        "      <td> 2010-07-19 19:27:36</td>\n",
        "      <td> 30337849</td>\n",
        "      <td> 1</td>\n",
        "      <td>...</td>\n",
        "      <td> NaN</td>\n",
        "      <td>NaN</td>\n",
        "      <td> NaN</td>\n",
        "      <td>NaN</td>\n",
        "      <td>NaN</td>\n",
        "      <td>NaN</td>\n",
        "      <td> 52559</td>\n",
        "    </tr>\n",
        "  </tbody>\n",
        "</table>\n",
        "<p>3 rows \u00d7 24 columns</p>\n",
        "</div>"
       ],
       "metadata": {},
       "output_type": "pyout",
       "prompt_number": 45,
       "text": [
        "   user_id  \\\n",
        "0       10   \n",
        "1       36   \n",
        "2     1000   \n",
        "\n",
        "        msisdn  \\\n",
        "0  15143457910   \n",
        "1            9   \n",
        "2  52559999999   \n",
        "\n",
        "   oid  \\\n",
        "0   10   \n",
        "1   10   \n",
        "2   10   \n",
        "\n",
        "                joined  \\\n",
        "0  2009-11-20 19:23:16   \n",
        "1  0000-00-00 00:00:00   \n",
        "2  2009-11-10 23:10:15   \n",
        "\n",
        "             last_seen  \\\n",
        "0  2009-12-02 20:45:27   \n",
        "1  0000-00-00 00:00:00   \n",
        "2  2010-07-19 19:27:36   \n",
        "\n",
        "   disk_usage  \\\n",
        "0           0   \n",
        "1           0   \n",
        "2    30337849   \n",
        "\n",
        "   state  \\\n",
        "0      1   \n",
        "1      1   \n",
        "2      1   \n",
        "\n",
        "   ...    \\\n",
        "0  ...     \n",
        "1  ...     \n",
        "2  ...     \n",
        "\n",
        "   tw_url  \\\n",
        "0     NaN   \n",
        "1     NaN   \n",
        "2     NaN   \n",
        "\n",
        "   fbFrs  \\\n",
        "0    NaN   \n",
        "1    NaN   \n",
        "2    NaN   \n",
        "\n",
        "   fb_url  \\\n",
        "0     NaN   \n",
        "1     NaN   \n",
        "2     NaN   \n",
        "\n",
        "   yt  \\\n",
        "0 NaN   \n",
        "1 NaN   \n",
        "2 NaN   \n",
        "\n",
        "   pi  \\\n",
        "0 NaN   \n",
        "1 NaN   \n",
        "2 NaN   \n",
        "\n",
        "   fk  \\\n",
        "0 NaN   \n",
        "1 NaN   \n",
        "2 NaN   \n",
        "\n",
        "    area  \n",
        "0  15143  \n",
        "1      9  \n",
        "2  52559  \n",
        "\n",
        "[3 rows x 24 columns]"
       ]
      }
     ],
     "prompt_number": 45
    },
    {
     "cell_type": "code",
     "collapsed": false,
     "input": [
      "df_user['msisdn']=df_user['msisdn'].astype(str)\n",
      "\n",
      "df_user.info()\n",
      "#df_user=df_user.set_index('msisdn')"
     ],
     "language": "python",
     "metadata": {
      "run_control": {
       "breakpoint": false
      }
     },
     "outputs": [
      {
       "output_type": "stream",
       "stream": "stdout",
       "text": [
        "<class 'pandas.core.frame.DataFrame'>\n",
        "Int64Index: 10746753 entries, 0 to 10746752\n",
        "Data columns (total 24 columns):\n",
        "user_id       int64\n",
        "msisdn        object\n",
        "oid           int64\n",
        "joined        object\n",
        "last_seen     object\n",
        "disk_usage    int64\n",
        "state         int64\n",
        "friends       float64\n",
        "invites       float64\n",
        "rcvdInv       float64\n",
        "rejectd       float64\n",
        "sms           float64\n",
        "mms           float64\n",
        "sim           float64\n",
        "login         float64\n",
        "web           float64\n",
        "twFrs         float64\n",
        "tw_url        object\n",
        "fbFrs         float64\n",
        "fb_url        object\n",
        "yt            float64\n",
        "pi            float64\n",
        "fk            float64\n",
        "area          int64\n",
        "dtypes: float64(14), int64(5), object(5)\n",
        "memory usage: 2.0+ GB\n"
       ]
      }
     ],
     "prompt_number": 46
    },
    {
     "cell_type": "code",
     "collapsed": false,
     "input": [
      "#df_user_short=df_user[df_user['msisdn'].isin(df['user_id'])]\n",
      "df_user=df_user[df_user['state']==1]"
     ],
     "language": "python",
     "metadata": {
      "run_control": {
       "breakpoint": false
      }
     },
     "outputs": [],
     "prompt_number": 47
    },
    {
     "cell_type": "code",
     "collapsed": false,
     "input": [
      "criterion = df_user['msisdn'].map(lambda x: (str(x).startswith('5255'))) #or  str(x).startswith('5223')\n",
      "#criterion"
     ],
     "language": "python",
     "metadata": {
      "run_control": {
       "breakpoint": false
      }
     },
     "outputs": [],
     "prompt_number": 48
    },
    {
     "cell_type": "code",
     "collapsed": false,
     "input": [
      "df_user=df_user[criterion]\n",
      "df_user.info()"
     ],
     "language": "python",
     "metadata": {
      "run_control": {
       "breakpoint": false
      }
     },
     "outputs": [
      {
       "output_type": "stream",
       "stream": "stdout",
       "text": [
        "<class 'pandas.core.frame.DataFrame'>\n",
        "Int64Index: 1206163 entries, 2 to 10746746\n",
        "Data columns (total 24 columns):\n",
        "user_id       1206163 non-null int64\n",
        "msisdn        1206163 non-null object\n",
        "oid           1206163 non-null int64\n",
        "joined        1206163 non-null object\n",
        "last_seen     1206163 non-null object\n",
        "disk_usage    1206163 non-null int64\n",
        "state         1206163 non-null int64\n",
        "friends       700142 non-null float64\n",
        "invites       700142 non-null float64\n",
        "rcvdInv       700142 non-null float64\n",
        "rejectd       700142 non-null float64\n",
        "sms           4435 non-null float64\n",
        "mms           4435 non-null float64\n",
        "sim           1086 non-null float64\n",
        "login         0 non-null float64\n",
        "web           0 non-null float64\n",
        "twFrs         37436 non-null float64\n",
        "tw_url        25112 non-null object\n",
        "fbFrs         158228 non-null float64\n",
        "fb_url        109775 non-null object\n",
        "yt            25011 non-null float64\n",
        "pi            5701 non-null float64\n",
        "fk            124 non-null float64\n",
        "area          1206163 non-null int64\n",
        "dtypes: float64(14), int64(5), object(5)\n",
        "memory usage: 230.1+ MB\n"
       ]
      }
     ],
     "prompt_number": 49
    },
    {
     "cell_type": "code",
     "collapsed": false,
     "input": [
      "df_user['joined']=pd.to_datetime(df_user['joined'])\n",
      "df_user['last_seen']=pd.to_datetime(df_user['last_seen'])\n",
      "\n",
      "df_user['joined'] = df_user.joined.convert_objects(convert_dates='coerce')\n",
      "df_user['last_seen'] = df_user.last_seen.convert_objects(convert_dates='coerce')"
     ],
     "language": "python",
     "metadata": {
      "run_control": {
       "breakpoint": false
      }
     },
     "outputs": [],
     "prompt_number": 50
    },
    {
     "cell_type": "code",
     "collapsed": false,
     "input": [
      "df_user.info()"
     ],
     "language": "python",
     "metadata": {
      "run_control": {
       "breakpoint": false
      }
     },
     "outputs": [
      {
       "output_type": "stream",
       "stream": "stdout",
       "text": [
        "<class 'pandas.core.frame.DataFrame'>\n",
        "Int64Index: 1206163 entries, 2 to 10746746\n",
        "Data columns (total 24 columns):\n",
        "user_id       1206163 non-null int64\n",
        "msisdn        1206163 non-null object\n",
        "oid           1206163 non-null int64\n",
        "joined        1206163 non-null datetime64[ns]\n",
        "last_seen     1160726 non-null datetime64[ns]\n",
        "disk_usage    1206163 non-null int64\n",
        "state         1206163 non-null int64\n",
        "friends       700142 non-null float64\n",
        "invites       700142 non-null float64\n",
        "rcvdInv       700142 non-null float64\n",
        "rejectd       700142 non-null float64\n",
        "sms           4435 non-null float64\n",
        "mms           4435 non-null float64\n",
        "sim           1086 non-null float64\n",
        "login         0 non-null float64\n",
        "web           0 non-null float64\n",
        "twFrs         37436 non-null float64\n",
        "tw_url        25112 non-null object\n",
        "fbFrs         158228 non-null float64\n",
        "fb_url        109775 non-null object\n",
        "yt            25011 non-null float64\n",
        "pi            5701 non-null float64\n",
        "fk            124 non-null float64\n",
        "area          1206163 non-null int64\n",
        "dtypes: datetime64[ns](2), float64(14), int64(5), object(3)\n",
        "memory usage: 230.1+ MB\n"
       ]
      }
     ],
     "prompt_number": 51
    },
    {
     "cell_type": "code",
     "collapsed": false,
     "input": [
      "print len(df_user['msisdn'].unique())\n",
      "print len(df_user['area'].unique())\n",
      "\n",
      "df_user['msisdn'] =df_user['msisdn'].apply(lambda x: xx(x))\n",
      "df_user['area'] =df_user['area'].apply(lambda x: xx(x)[:6])\n",
      "\n",
      "print len(df_user['area'].unique())\n",
      "print len(df_user['msisdn'].unique())"
     ],
     "language": "python",
     "metadata": {
      "run_control": {
       "breakpoint": false
      }
     },
     "outputs": [
      {
       "output_type": "stream",
       "stream": "stdout",
       "text": [
        "1206163\n",
        "8\n",
        "8"
       ]
      },
      {
       "output_type": "stream",
       "stream": "stdout",
       "text": [
        "\n",
        "1206163"
       ]
      },
      {
       "output_type": "stream",
       "stream": "stdout",
       "text": [
        "\n"
       ]
      }
     ],
     "prompt_number": 52
    },
    {
     "cell_type": "code",
     "collapsed": false,
     "input": [
      "print len(df_user)\n",
      "df_user.head(3)"
     ],
     "language": "python",
     "metadata": {
      "run_control": {
       "breakpoint": false
      }
     },
     "outputs": [
      {
       "output_type": "stream",
       "stream": "stdout",
       "text": [
        "1206163\n"
       ]
      },
      {
       "html": [
        "<div style=\"max-height:1000px;max-width:1500px;overflow:auto;\">\n",
        "<table border=\"1\" class=\"dataframe\">\n",
        "  <thead>\n",
        "    <tr style=\"text-align: right;\">\n",
        "      <th></th>\n",
        "      <th>user_id</th>\n",
        "      <th>msisdn</th>\n",
        "      <th>oid</th>\n",
        "      <th>joined</th>\n",
        "      <th>last_seen</th>\n",
        "      <th>disk_usage</th>\n",
        "      <th>state</th>\n",
        "      <th>...</th>\n",
        "      <th>tw_url</th>\n",
        "      <th>fbFrs</th>\n",
        "      <th>fb_url</th>\n",
        "      <th>yt</th>\n",
        "      <th>pi</th>\n",
        "      <th>fk</th>\n",
        "      <th>area</th>\n",
        "    </tr>\n",
        "  </thead>\n",
        "  <tbody>\n",
        "    <tr>\n",
        "      <th>2</th>\n",
        "      <td> 1000</td>\n",
        "      <td> 7a050b558aca</td>\n",
        "      <td> 10</td>\n",
        "      <td>2009-11-10 23:10:15</td>\n",
        "      <td>2010-07-19 19:27:36</td>\n",
        "      <td> 30337849</td>\n",
        "      <td> 1</td>\n",
        "      <td>...</td>\n",
        "      <td>                              NaN</td>\n",
        "      <td>NaN</td>\n",
        "      <td> NaN</td>\n",
        "      <td>NaN</td>\n",
        "      <td>NaN</td>\n",
        "      <td>NaN</td>\n",
        "      <td> 6fe0d4</td>\n",
        "    </tr>\n",
        "    <tr>\n",
        "      <th>3</th>\n",
        "      <td> 1010</td>\n",
        "      <td> dc8cee366318</td>\n",
        "      <td> 10</td>\n",
        "      <td>2009-11-15 03:29:54</td>\n",
        "      <td>2010-08-20 08:40:41</td>\n",
        "      <td>  8469561</td>\n",
        "      <td> 1</td>\n",
        "      <td>...</td>\n",
        "      <td> http://twitter.com/tullemannener</td>\n",
        "      <td>NaN</td>\n",
        "      <td> NaN</td>\n",
        "      <td>NaN</td>\n",
        "      <td>NaN</td>\n",
        "      <td>NaN</td>\n",
        "      <td> 6fe0d4</td>\n",
        "    </tr>\n",
        "    <tr>\n",
        "      <th>9</th>\n",
        "      <td> 1036</td>\n",
        "      <td> 18f4f8d1d387</td>\n",
        "      <td> 10</td>\n",
        "      <td>2009-11-30 23:41:27</td>\n",
        "      <td>2011-04-05 13:42:36</td>\n",
        "      <td>        0</td>\n",
        "      <td> 1</td>\n",
        "      <td>...</td>\n",
        "      <td>                              NaN</td>\n",
        "      <td>NaN</td>\n",
        "      <td> NaN</td>\n",
        "      <td>NaN</td>\n",
        "      <td>NaN</td>\n",
        "      <td>NaN</td>\n",
        "      <td> 4916e3</td>\n",
        "    </tr>\n",
        "  </tbody>\n",
        "</table>\n",
        "<p>3 rows \u00d7 24 columns</p>\n",
        "</div>"
       ],
       "metadata": {},
       "output_type": "pyout",
       "prompt_number": 53,
       "text": [
        "   user_id  \\\n",
        "2     1000   \n",
        "3     1010   \n",
        "9     1036   \n",
        "\n",
        "         msisdn  \\\n",
        "2  7a050b558aca   \n",
        "3  dc8cee366318   \n",
        "9  18f4f8d1d387   \n",
        "\n",
        "   oid  \\\n",
        "2   10   \n",
        "3   10   \n",
        "9   10   \n",
        "\n",
        "               joined  \\\n",
        "2 2009-11-10 23:10:15   \n",
        "3 2009-11-15 03:29:54   \n",
        "9 2009-11-30 23:41:27   \n",
        "\n",
        "            last_seen  \\\n",
        "2 2010-07-19 19:27:36   \n",
        "3 2010-08-20 08:40:41   \n",
        "9 2011-04-05 13:42:36   \n",
        "\n",
        "   disk_usage  \\\n",
        "2    30337849   \n",
        "3     8469561   \n",
        "9           0   \n",
        "\n",
        "   state  \\\n",
        "2      1   \n",
        "3      1   \n",
        "9      1   \n",
        "\n",
        "    ...    \\\n",
        "2   ...     \n",
        "3   ...     \n",
        "9   ...     \n",
        "\n",
        "                             tw_url  \\\n",
        "2                               NaN   \n",
        "3  http://twitter.com/tullemannener   \n",
        "9                               NaN   \n",
        "\n",
        "   fbFrs  \\\n",
        "2    NaN   \n",
        "3    NaN   \n",
        "9    NaN   \n",
        "\n",
        "   fb_url  \\\n",
        "2     NaN   \n",
        "3     NaN   \n",
        "9     NaN   \n",
        "\n",
        "   yt  \\\n",
        "2 NaN   \n",
        "3 NaN   \n",
        "9 NaN   \n",
        "\n",
        "   pi  \\\n",
        "2 NaN   \n",
        "3 NaN   \n",
        "9 NaN   \n",
        "\n",
        "   fk  \\\n",
        "2 NaN   \n",
        "3 NaN   \n",
        "9 NaN   \n",
        "\n",
        "     area  \n",
        "2  6fe0d4  \n",
        "3  6fe0d4  \n",
        "9  4916e3  \n",
        "\n",
        "[3 rows x 24 columns]"
       ]
      }
     ],
     "prompt_number": 53
    },
    {
     "cell_type": "code",
     "collapsed": false,
     "input": [
      "df_inactive=df_user[df_user['last_seen']<'2014-07-01']\n",
      "df_inactive['last_seen'].describe()"
     ],
     "language": "python",
     "metadata": {
      "run_control": {
       "breakpoint": false
      }
     },
     "outputs": []
    },
    {
     "cell_type": "markdown",
     "metadata": {},
     "source": [
      "##Remove users that do not have activities in the session file\n",
      "\n",
      "(_Not done anymore_)\n"
     ]
    },
    {
     "cell_type": "code",
     "collapsed": false,
     "input": [
      "print len(df_inactive['msisdn'].unique())\n",
      "df_inactive['YYMM_joined'] =df_inactive['joined'].apply(lambda x: '%d-%02d'%(x.year,x.month))\n",
      "df_inactive.head(4)"
     ],
     "language": "python",
     "metadata": {
      "run_control": {
       "breakpoint": false
      }
     },
     "outputs": [
      {
       "output_type": "stream",
       "stream": "stdout",
       "text": [
        "944694\n"
       ]
      },
      {
       "html": [
        "<div style=\"max-height:1000px;max-width:1500px;overflow:auto;\">\n",
        "<table border=\"1\" class=\"dataframe\">\n",
        "  <thead>\n",
        "    <tr style=\"text-align: right;\">\n",
        "      <th></th>\n",
        "      <th>user_id</th>\n",
        "      <th>msisdn</th>\n",
        "      <th>oid</th>\n",
        "      <th>joined</th>\n",
        "      <th>last_seen</th>\n",
        "      <th>disk_usage</th>\n",
        "      <th>state</th>\n",
        "      <th>...</th>\n",
        "      <th>fbFrs</th>\n",
        "      <th>fb_url</th>\n",
        "      <th>yt</th>\n",
        "      <th>pi</th>\n",
        "      <th>fk</th>\n",
        "      <th>area</th>\n",
        "      <th>YYMM_joined</th>\n",
        "    </tr>\n",
        "  </thead>\n",
        "  <tbody>\n",
        "    <tr>\n",
        "      <th>2 </th>\n",
        "      <td> 1000</td>\n",
        "      <td> 7a050b558aca</td>\n",
        "      <td> 10</td>\n",
        "      <td>2009-11-10 23:10:15</td>\n",
        "      <td>2010-07-19 19:27:36</td>\n",
        "      <td> 30337849</td>\n",
        "      <td> 1</td>\n",
        "      <td>...</td>\n",
        "      <td>NaN</td>\n",
        "      <td> NaN</td>\n",
        "      <td>NaN</td>\n",
        "      <td>NaN</td>\n",
        "      <td>NaN</td>\n",
        "      <td> 6fe0d4</td>\n",
        "      <td> 2009-11</td>\n",
        "    </tr>\n",
        "    <tr>\n",
        "      <th>3 </th>\n",
        "      <td> 1010</td>\n",
        "      <td> dc8cee366318</td>\n",
        "      <td> 10</td>\n",
        "      <td>2009-11-15 03:29:54</td>\n",
        "      <td>2010-08-20 08:40:41</td>\n",
        "      <td>  8469561</td>\n",
        "      <td> 1</td>\n",
        "      <td>...</td>\n",
        "      <td>NaN</td>\n",
        "      <td> NaN</td>\n",
        "      <td>NaN</td>\n",
        "      <td>NaN</td>\n",
        "      <td>NaN</td>\n",
        "      <td> 6fe0d4</td>\n",
        "      <td> 2009-11</td>\n",
        "    </tr>\n",
        "    <tr>\n",
        "      <th>9 </th>\n",
        "      <td> 1036</td>\n",
        "      <td> 18f4f8d1d387</td>\n",
        "      <td> 10</td>\n",
        "      <td>2009-11-30 23:41:27</td>\n",
        "      <td>2011-04-05 13:42:36</td>\n",
        "      <td>        0</td>\n",
        "      <td> 1</td>\n",
        "      <td>...</td>\n",
        "      <td>NaN</td>\n",
        "      <td> NaN</td>\n",
        "      <td>NaN</td>\n",
        "      <td>NaN</td>\n",
        "      <td>NaN</td>\n",
        "      <td> 4916e3</td>\n",
        "      <td> 2009-11</td>\n",
        "    </tr>\n",
        "    <tr>\n",
        "      <th>10</th>\n",
        "      <td> 1042</td>\n",
        "      <td> a090b39782f1</td>\n",
        "      <td> 10</td>\n",
        "      <td>2009-12-01 22:43:00</td>\n",
        "      <td>2010-11-05 19:47:07</td>\n",
        "      <td> 28757849</td>\n",
        "      <td> 1</td>\n",
        "      <td>...</td>\n",
        "      <td>  0</td>\n",
        "      <td> NaN</td>\n",
        "      <td>  1</td>\n",
        "      <td>NaN</td>\n",
        "      <td>NaN</td>\n",
        "      <td> 5dad96</td>\n",
        "      <td> 2009-12</td>\n",
        "    </tr>\n",
        "  </tbody>\n",
        "</table>\n",
        "<p>4 rows \u00d7 25 columns</p>\n",
        "</div>"
       ],
       "metadata": {},
       "output_type": "pyout",
       "prompt_number": 75,
       "text": [
        "    user_id  \\\n",
        "2      1000   \n",
        "3      1010   \n",
        "9      1036   \n",
        "10     1042   \n",
        "\n",
        "          msisdn  \\\n",
        "2   7a050b558aca   \n",
        "3   dc8cee366318   \n",
        "9   18f4f8d1d387   \n",
        "10  a090b39782f1   \n",
        "\n",
        "    oid  \\\n",
        "2    10   \n",
        "3    10   \n",
        "9    10   \n",
        "10   10   \n",
        "\n",
        "                joined  \\\n",
        "2  2009-11-10 23:10:15   \n",
        "3  2009-11-15 03:29:54   \n",
        "9  2009-11-30 23:41:27   \n",
        "10 2009-12-01 22:43:00   \n",
        "\n",
        "             last_seen  \\\n",
        "2  2010-07-19 19:27:36   \n",
        "3  2010-08-20 08:40:41   \n",
        "9  2011-04-05 13:42:36   \n",
        "10 2010-11-05 19:47:07   \n",
        "\n",
        "    disk_usage  \\\n",
        "2     30337849   \n",
        "3      8469561   \n",
        "9            0   \n",
        "10    28757849   \n",
        "\n",
        "    state  \\\n",
        "2       1   \n",
        "3       1   \n",
        "9       1   \n",
        "10      1   \n",
        "\n",
        "       ...       \\\n",
        "2      ...        \n",
        "3      ...        \n",
        "9      ...        \n",
        "10     ...        \n",
        "\n",
        "    fbFrs  \\\n",
        "2     NaN   \n",
        "3     NaN   \n",
        "9     NaN   \n",
        "10      0   \n",
        "\n",
        "    fb_url  \\\n",
        "2      NaN   \n",
        "3      NaN   \n",
        "9      NaN   \n",
        "10     NaN   \n",
        "\n",
        "    yt  \\\n",
        "2  NaN   \n",
        "3  NaN   \n",
        "9  NaN   \n",
        "10   1   \n",
        "\n",
        "    pi  \\\n",
        "2  NaN   \n",
        "3  NaN   \n",
        "9  NaN   \n",
        "10 NaN   \n",
        "\n",
        "    fk  \\\n",
        "2  NaN   \n",
        "3  NaN   \n",
        "9  NaN   \n",
        "10 NaN   \n",
        "\n",
        "      area  \\\n",
        "2   6fe0d4   \n",
        "3   6fe0d4   \n",
        "9   4916e3   \n",
        "10  5dad96   \n",
        "\n",
        "    YYMM_joined  \n",
        "2       2009-11  \n",
        "3       2009-11  \n",
        "9       2009-11  \n",
        "10      2009-12  \n",
        "\n",
        "[4 rows x 25 columns]"
       ]
      }
     ],
     "prompt_number": 75
    },
    {
     "cell_type": "code",
     "collapsed": false,
     "input": [
      "dd=df_inactive[(df_inactive['last_seen']>'2014-06-01') & (df_inactive['joined']>'2012-06-01')]\n",
      "dd=dd[['user_id','last_seen','YYMM_joined']].groupby(['YYMM_joined']).agg(['count'])\n",
      "import matplotlib.pyplot as plt\n",
      "plt.figure(); \n",
      "dd['user_id'].tail(12)\n"
     ],
     "language": "python",
     "metadata": {
      "run_control": {
       "breakpoint": false
      }
     },
     "outputs": [
      {
       "html": [
        "<div style=\"max-height:1000px;max-width:1500px;overflow:auto;\">\n",
        "<table border=\"1\" class=\"dataframe\">\n",
        "  <thead>\n",
        "    <tr style=\"text-align: right;\">\n",
        "      <th></th>\n",
        "      <th>count</th>\n",
        "    </tr>\n",
        "    <tr>\n",
        "      <th>YYMM_joined</th>\n",
        "      <th></th>\n",
        "    </tr>\n",
        "  </thead>\n",
        "  <tbody>\n",
        "    <tr>\n",
        "      <th>2013-12</th>\n",
        "      <td>  1827</td>\n",
        "    </tr>\n",
        "    <tr>\n",
        "      <th>2014-01</th>\n",
        "      <td>  2123</td>\n",
        "    </tr>\n",
        "    <tr>\n",
        "      <th>2014-02</th>\n",
        "      <td>  2371</td>\n",
        "    </tr>\n",
        "    <tr>\n",
        "      <th>2014-03</th>\n",
        "      <td>  2837</td>\n",
        "    </tr>\n",
        "    <tr>\n",
        "      <th>2014-04</th>\n",
        "      <td>  2953</td>\n",
        "    </tr>\n",
        "    <tr>\n",
        "      <th>2014-05</th>\n",
        "      <td>  4942</td>\n",
        "    </tr>\n",
        "    <tr>\n",
        "      <th>2014-06</th>\n",
        "      <td> 17595</td>\n",
        "    </tr>\n",
        "    <tr>\n",
        "      <th>2014-07</th>\n",
        "      <td>    11</td>\n",
        "    </tr>\n",
        "    <tr>\n",
        "      <th>2014-08</th>\n",
        "      <td>     5</td>\n",
        "    </tr>\n",
        "    <tr>\n",
        "      <th>2014-09</th>\n",
        "      <td>     8</td>\n",
        "    </tr>\n",
        "    <tr>\n",
        "      <th>2014-10</th>\n",
        "      <td>     2</td>\n",
        "    </tr>\n",
        "    <tr>\n",
        "      <th>2014-11</th>\n",
        "      <td>     3</td>\n",
        "    </tr>\n",
        "  </tbody>\n",
        "</table>\n",
        "</div>"
       ],
       "metadata": {},
       "output_type": "pyout",
       "prompt_number": 76,
       "text": [
        "             count\n",
        "YYMM_joined       \n",
        "2013-12       1827\n",
        "2014-01       2123\n",
        "2014-02       2371\n",
        "2014-03       2837\n",
        "2014-04       2953\n",
        "2014-05       4942\n",
        "2014-06      17595\n",
        "2014-07         11\n",
        "2014-08          5\n",
        "2014-09          8\n",
        "2014-10          2\n",
        "2014-11          3"
       ]
      }
     ],
     "prompt_number": 76
    },
    {
     "cell_type": "code",
     "collapsed": false,
     "input": [
      "df_active=df_user[df_user['last_seen']>'2014-07-01']\n",
      "df_active['YYMM_joined'] =df_active['joined'].apply(lambda x: '%d-%02d'%(x.year,x.month))\n"
     ],
     "language": "python",
     "metadata": {
      "run_control": {
       "breakpoint": false
      }
     },
     "outputs": [],
     "prompt_number": 77
    },
    {
     "cell_type": "code",
     "collapsed": false,
     "input": [
      "dd=df_active[['user_id','last_seen','YYMM_joined']].groupby(['YYMM_joined']).agg(['count'])\n",
      "dd['user_id']"
     ],
     "language": "python",
     "metadata": {
      "run_control": {
       "breakpoint": false
      }
     },
     "outputs": [
      {
       "html": [
        "<div style=\"max-height:1000px;max-width:1500px;overflow:auto;\">\n",
        "<table border=\"1\" class=\"dataframe\">\n",
        "  <thead>\n",
        "    <tr style=\"text-align: right;\">\n",
        "      <th></th>\n",
        "      <th>count</th>\n",
        "    </tr>\n",
        "    <tr>\n",
        "      <th>YYMM_joined</th>\n",
        "      <th></th>\n",
        "    </tr>\n",
        "  </thead>\n",
        "  <tbody>\n",
        "    <tr>\n",
        "      <th>2009-12</th>\n",
        "      <td>     2</td>\n",
        "    </tr>\n",
        "    <tr>\n",
        "      <th>2010-01</th>\n",
        "      <td>     8</td>\n",
        "    </tr>\n",
        "    <tr>\n",
        "      <th>2010-02</th>\n",
        "      <td>    11</td>\n",
        "    </tr>\n",
        "    <tr>\n",
        "      <th>2010-03</th>\n",
        "      <td>    12</td>\n",
        "    </tr>\n",
        "    <tr>\n",
        "      <th>2010-04</th>\n",
        "      <td>    29</td>\n",
        "    </tr>\n",
        "    <tr>\n",
        "      <th>2010-05</th>\n",
        "      <td>    23</td>\n",
        "    </tr>\n",
        "    <tr>\n",
        "      <th>2010-06</th>\n",
        "      <td>    18</td>\n",
        "    </tr>\n",
        "    <tr>\n",
        "      <th>2010-07</th>\n",
        "      <td>    21</td>\n",
        "    </tr>\n",
        "    <tr>\n",
        "      <th>2010-08</th>\n",
        "      <td>    16</td>\n",
        "    </tr>\n",
        "    <tr>\n",
        "      <th>2010-09</th>\n",
        "      <td>    88</td>\n",
        "    </tr>\n",
        "    <tr>\n",
        "      <th>2010-10</th>\n",
        "      <td>    77</td>\n",
        "    </tr>\n",
        "    <tr>\n",
        "      <th>2010-11</th>\n",
        "      <td>    32</td>\n",
        "    </tr>\n",
        "    <tr>\n",
        "      <th>2010-12</th>\n",
        "      <td>    32</td>\n",
        "    </tr>\n",
        "    <tr>\n",
        "      <th>2011-01</th>\n",
        "      <td>    41</td>\n",
        "    </tr>\n",
        "    <tr>\n",
        "      <th>2011-02</th>\n",
        "      <td>    65</td>\n",
        "    </tr>\n",
        "    <tr>\n",
        "      <th>2011-03</th>\n",
        "      <td>    56</td>\n",
        "    </tr>\n",
        "    <tr>\n",
        "      <th>2011-04</th>\n",
        "      <td>    62</td>\n",
        "    </tr>\n",
        "    <tr>\n",
        "      <th>2011-05</th>\n",
        "      <td>    89</td>\n",
        "    </tr>\n",
        "    <tr>\n",
        "      <th>2011-06</th>\n",
        "      <td>   244</td>\n",
        "    </tr>\n",
        "    <tr>\n",
        "      <th>2011-07</th>\n",
        "      <td>   217</td>\n",
        "    </tr>\n",
        "    <tr>\n",
        "      <th>2011-08</th>\n",
        "      <td>   603</td>\n",
        "    </tr>\n",
        "    <tr>\n",
        "      <th>2011-09</th>\n",
        "      <td>  2343</td>\n",
        "    </tr>\n",
        "    <tr>\n",
        "      <th>2011-10</th>\n",
        "      <td>   674</td>\n",
        "    </tr>\n",
        "    <tr>\n",
        "      <th>2011-11</th>\n",
        "      <td>   322</td>\n",
        "    </tr>\n",
        "    <tr>\n",
        "      <th>2011-12</th>\n",
        "      <td>   394</td>\n",
        "    </tr>\n",
        "    <tr>\n",
        "      <th>2012-01</th>\n",
        "      <td>   436</td>\n",
        "    </tr>\n",
        "    <tr>\n",
        "      <th>2012-02</th>\n",
        "      <td>   436</td>\n",
        "    </tr>\n",
        "    <tr>\n",
        "      <th>2012-03</th>\n",
        "      <td>   734</td>\n",
        "    </tr>\n",
        "    <tr>\n",
        "      <th>2012-04</th>\n",
        "      <td>  1179</td>\n",
        "    </tr>\n",
        "    <tr>\n",
        "      <th>2012-05</th>\n",
        "      <td>  1353</td>\n",
        "    </tr>\n",
        "    <tr>\n",
        "      <th>2012-06</th>\n",
        "      <td>  1321</td>\n",
        "    </tr>\n",
        "    <tr>\n",
        "      <th>2012-07</th>\n",
        "      <td>  1397</td>\n",
        "    </tr>\n",
        "    <tr>\n",
        "      <th>2012-08</th>\n",
        "      <td>  1295</td>\n",
        "    </tr>\n",
        "    <tr>\n",
        "      <th>2012-09</th>\n",
        "      <td>  1327</td>\n",
        "    </tr>\n",
        "    <tr>\n",
        "      <th>2012-10</th>\n",
        "      <td>  1675</td>\n",
        "    </tr>\n",
        "    <tr>\n",
        "      <th>2012-11</th>\n",
        "      <td>  1700</td>\n",
        "    </tr>\n",
        "    <tr>\n",
        "      <th>2012-12</th>\n",
        "      <td>  1953</td>\n",
        "    </tr>\n",
        "    <tr>\n",
        "      <th>2013-01</th>\n",
        "      <td>  3010</td>\n",
        "    </tr>\n",
        "    <tr>\n",
        "      <th>2013-02</th>\n",
        "      <td>  3056</td>\n",
        "    </tr>\n",
        "    <tr>\n",
        "      <th>2013-03</th>\n",
        "      <td>  3661</td>\n",
        "    </tr>\n",
        "    <tr>\n",
        "      <th>2013-04</th>\n",
        "      <td>  3875</td>\n",
        "    </tr>\n",
        "    <tr>\n",
        "      <th>2013-05</th>\n",
        "      <td>  5034</td>\n",
        "    </tr>\n",
        "    <tr>\n",
        "      <th>2013-06</th>\n",
        "      <td>  5121</td>\n",
        "    </tr>\n",
        "    <tr>\n",
        "      <th>2013-07</th>\n",
        "      <td>  6720</td>\n",
        "    </tr>\n",
        "    <tr>\n",
        "      <th>2013-08</th>\n",
        "      <td>  7127</td>\n",
        "    </tr>\n",
        "    <tr>\n",
        "      <th>2013-09</th>\n",
        "      <td>  6718</td>\n",
        "    </tr>\n",
        "    <tr>\n",
        "      <th>2013-10</th>\n",
        "      <td>  7584</td>\n",
        "    </tr>\n",
        "    <tr>\n",
        "      <th>2013-11</th>\n",
        "      <td>  8513</td>\n",
        "    </tr>\n",
        "    <tr>\n",
        "      <th>2013-12</th>\n",
        "      <td>  9496</td>\n",
        "    </tr>\n",
        "    <tr>\n",
        "      <th>2014-01</th>\n",
        "      <td> 11828</td>\n",
        "    </tr>\n",
        "    <tr>\n",
        "      <th>2014-02</th>\n",
        "      <td> 12178</td>\n",
        "    </tr>\n",
        "    <tr>\n",
        "      <th>2014-03</th>\n",
        "      <td> 13910</td>\n",
        "    </tr>\n",
        "    <tr>\n",
        "      <th>2014-04</th>\n",
        "      <td> 12967</td>\n",
        "    </tr>\n",
        "    <tr>\n",
        "      <th>2014-05</th>\n",
        "      <td> 15888</td>\n",
        "    </tr>\n",
        "    <tr>\n",
        "      <th>2014-06</th>\n",
        "      <td> 18730</td>\n",
        "    </tr>\n",
        "    <tr>\n",
        "      <th>2014-07</th>\n",
        "      <td> 31786</td>\n",
        "    </tr>\n",
        "    <tr>\n",
        "      <th>2014-08</th>\n",
        "      <td> 32068</td>\n",
        "    </tr>\n",
        "    <tr>\n",
        "      <th>2014-09</th>\n",
        "      <td> 28440</td>\n",
        "    </tr>\n",
        "    <tr>\n",
        "      <th>2014-10</th>\n",
        "      <td> 28350</td>\n",
        "    </tr>\n",
        "    <tr>\n",
        "      <th>2014-11</th>\n",
        "      <td>  9618</td>\n",
        "    </tr>\n",
        "  </tbody>\n",
        "</table>\n",
        "</div>"
       ],
       "metadata": {},
       "output_type": "pyout",
       "prompt_number": 78,
       "text": [
        "             count\n",
        "YYMM_joined       \n",
        "2009-12          2\n",
        "2010-01          8\n",
        "2010-02         11\n",
        "2010-03         12\n",
        "2010-04         29\n",
        "2010-05         23\n",
        "2010-06         18\n",
        "2010-07         21\n",
        "2010-08         16\n",
        "2010-09         88\n",
        "2010-10         77\n",
        "2010-11         32\n",
        "2010-12         32\n",
        "2011-01         41\n",
        "2011-02         65\n",
        "2011-03         56\n",
        "2011-04         62\n",
        "2011-05         89\n",
        "2011-06        244\n",
        "2011-07        217\n",
        "2011-08        603\n",
        "2011-09       2343\n",
        "2011-10        674\n",
        "2011-11        322\n",
        "2011-12        394\n",
        "2012-01        436\n",
        "2012-02        436\n",
        "2012-03        734\n",
        "2012-04       1179\n",
        "2012-05       1353\n",
        "2012-06       1321\n",
        "2012-07       1397\n",
        "2012-08       1295\n",
        "2012-09       1327\n",
        "2012-10       1675\n",
        "2012-11       1700\n",
        "2012-12       1953\n",
        "2013-01       3010\n",
        "2013-02       3056\n",
        "2013-03       3661\n",
        "2013-04       3875\n",
        "2013-05       5034\n",
        "2013-06       5121\n",
        "2013-07       6720\n",
        "2013-08       7127\n",
        "2013-09       6718\n",
        "2013-10       7584\n",
        "2013-11       8513\n",
        "2013-12       9496\n",
        "2014-01      11828\n",
        "2014-02      12178\n",
        "2014-03      13910\n",
        "2014-04      12967\n",
        "2014-05      15888\n",
        "2014-06      18730\n",
        "2014-07      31786\n",
        "2014-08      32068\n",
        "2014-09      28440\n",
        "2014-10      28350\n",
        "2014-11       9618"
       ]
      }
     ],
     "prompt_number": 78
    },
    {
     "cell_type": "markdown",
     "metadata": {},
     "source": [
      "##Save the file"
     ]
    },
    {
     "cell_type": "code",
     "collapsed": false,
     "input": [
      "df_user_short=df_user\n",
      "df_user_short=df_user_short.drop(['login','web', 'sms','mms', 'user_id','oid','fb_url','tw_url'],1)\n",
      "df_user_short.rename(columns={'msisdn': 'user_id'}, inplace=True)\n",
      "df_user_short.head(3)"
     ],
     "language": "python",
     "metadata": {
      "run_control": {
       "breakpoint": false
      }
     },
     "outputs": [
      {
       "html": [
        "<div style=\"max-height:1000px;max-width:1500px;overflow:auto;\">\n",
        "<table border=\"1\" class=\"dataframe\">\n",
        "  <thead>\n",
        "    <tr style=\"text-align: right;\">\n",
        "      <th></th>\n",
        "      <th>user_id</th>\n",
        "      <th>joined</th>\n",
        "      <th>last_seen</th>\n",
        "      <th>disk_usage</th>\n",
        "      <th>state</th>\n",
        "      <th>friends</th>\n",
        "      <th>invites</th>\n",
        "      <th>...</th>\n",
        "      <th>sim</th>\n",
        "      <th>twFrs</th>\n",
        "      <th>fbFrs</th>\n",
        "      <th>yt</th>\n",
        "      <th>pi</th>\n",
        "      <th>fk</th>\n",
        "      <th>area</th>\n",
        "    </tr>\n",
        "  </thead>\n",
        "  <tbody>\n",
        "    <tr>\n",
        "      <th>2</th>\n",
        "      <td> 7a050b558aca</td>\n",
        "      <td>2009-11-10 23:10:15</td>\n",
        "      <td>2010-07-19 19:27:36</td>\n",
        "      <td> 30337849</td>\n",
        "      <td> 1</td>\n",
        "      <td> 1</td>\n",
        "      <td> 0</td>\n",
        "      <td>...</td>\n",
        "      <td>NaN</td>\n",
        "      <td>NaN</td>\n",
        "      <td>NaN</td>\n",
        "      <td>NaN</td>\n",
        "      <td>NaN</td>\n",
        "      <td>NaN</td>\n",
        "      <td> 6fe0d4</td>\n",
        "    </tr>\n",
        "    <tr>\n",
        "      <th>3</th>\n",
        "      <td> dc8cee366318</td>\n",
        "      <td>2009-11-15 03:29:54</td>\n",
        "      <td>2010-08-20 08:40:41</td>\n",
        "      <td>  8469561</td>\n",
        "      <td> 1</td>\n",
        "      <td> 2</td>\n",
        "      <td> 0</td>\n",
        "      <td>...</td>\n",
        "      <td>NaN</td>\n",
        "      <td>  1</td>\n",
        "      <td>NaN</td>\n",
        "      <td>NaN</td>\n",
        "      <td>NaN</td>\n",
        "      <td>NaN</td>\n",
        "      <td> 6fe0d4</td>\n",
        "    </tr>\n",
        "    <tr>\n",
        "      <th>9</th>\n",
        "      <td> 18f4f8d1d387</td>\n",
        "      <td>2009-11-30 23:41:27</td>\n",
        "      <td>2011-04-05 13:42:36</td>\n",
        "      <td>        0</td>\n",
        "      <td> 1</td>\n",
        "      <td> 0</td>\n",
        "      <td> 0</td>\n",
        "      <td>...</td>\n",
        "      <td>NaN</td>\n",
        "      <td>NaN</td>\n",
        "      <td>NaN</td>\n",
        "      <td>NaN</td>\n",
        "      <td>NaN</td>\n",
        "      <td>NaN</td>\n",
        "      <td> 4916e3</td>\n",
        "    </tr>\n",
        "  </tbody>\n",
        "</table>\n",
        "<p>3 rows \u00d7 16 columns</p>\n",
        "</div>"
       ],
       "metadata": {},
       "output_type": "pyout",
       "prompt_number": 21,
       "text": [
        "        user_id  \\\n",
        "2  7a050b558aca   \n",
        "3  dc8cee366318   \n",
        "9  18f4f8d1d387   \n",
        "\n",
        "               joined  \\\n",
        "2 2009-11-10 23:10:15   \n",
        "3 2009-11-15 03:29:54   \n",
        "9 2009-11-30 23:41:27   \n",
        "\n",
        "            last_seen  \\\n",
        "2 2010-07-19 19:27:36   \n",
        "3 2010-08-20 08:40:41   \n",
        "9 2011-04-05 13:42:36   \n",
        "\n",
        "   disk_usage  \\\n",
        "2    30337849   \n",
        "3     8469561   \n",
        "9           0   \n",
        "\n",
        "   state  \\\n",
        "2      1   \n",
        "3      1   \n",
        "9      1   \n",
        "\n",
        "   friends  \\\n",
        "2        1   \n",
        "3        2   \n",
        "9        0   \n",
        "\n",
        "   invites  \\\n",
        "2        0   \n",
        "3        0   \n",
        "9        0   \n",
        "\n",
        "    ...    \\\n",
        "2   ...     \n",
        "3   ...     \n",
        "9   ...     \n",
        "\n",
        "   sim  \\\n",
        "2  NaN   \n",
        "3  NaN   \n",
        "9  NaN   \n",
        "\n",
        "   twFrs  \\\n",
        "2    NaN   \n",
        "3      1   \n",
        "9    NaN   \n",
        "\n",
        "   fbFrs  \\\n",
        "2    NaN   \n",
        "3    NaN   \n",
        "9    NaN   \n",
        "\n",
        "   yt  \\\n",
        "2 NaN   \n",
        "3 NaN   \n",
        "9 NaN   \n",
        "\n",
        "   pi  \\\n",
        "2 NaN   \n",
        "3 NaN   \n",
        "9 NaN   \n",
        "\n",
        "   fk  \\\n",
        "2 NaN   \n",
        "3 NaN   \n",
        "9 NaN   \n",
        "\n",
        "     area  \n",
        "2  6fe0d4  \n",
        "3  6fe0d4  \n",
        "9  4916e3  \n",
        "\n",
        "[3 rows x 16 columns]"
       ]
      }
     ],
     "prompt_number": 21
    },
    {
     "cell_type": "code",
     "collapsed": false,
     "input": [
      "# should be able to find some records\n",
      "df_user[df_user['msisdn']==xx('525540448192')].head(3)"
     ],
     "language": "python",
     "metadata": {
      "run_control": {
       "breakpoint": false
      }
     },
     "outputs": [
      {
       "html": [
        "<div style=\"max-height:1000px;max-width:1500px;overflow:auto;\">\n",
        "<table border=\"1\" class=\"dataframe\">\n",
        "  <thead>\n",
        "    <tr style=\"text-align: right;\">\n",
        "      <th></th>\n",
        "      <th>user_id</th>\n",
        "      <th>msisdn</th>\n",
        "      <th>oid</th>\n",
        "      <th>joined</th>\n",
        "      <th>last_seen</th>\n",
        "      <th>disk_usage</th>\n",
        "      <th>state</th>\n",
        "      <th>...</th>\n",
        "      <th>tw_url</th>\n",
        "      <th>fbFrs</th>\n",
        "      <th>fb_url</th>\n",
        "      <th>yt</th>\n",
        "      <th>pi</th>\n",
        "      <th>fk</th>\n",
        "      <th>area</th>\n",
        "    </tr>\n",
        "  </thead>\n",
        "  <tbody>\n",
        "    <tr>\n",
        "      <th>390</th>\n",
        "      <td> 1574</td>\n",
        "      <td> d41c93742d16</td>\n",
        "      <td> 10</td>\n",
        "      <td>2010-02-13 05:08:28</td>\n",
        "      <td>2015-01-06 01:57:48</td>\n",
        "      <td> 0</td>\n",
        "      <td> 1</td>\n",
        "      <td>...</td>\n",
        "      <td> NaN</td>\n",
        "      <td>NaN</td>\n",
        "      <td> NaN</td>\n",
        "      <td>NaN</td>\n",
        "      <td>NaN</td>\n",
        "      <td>NaN</td>\n",
        "      <td> 4916e3</td>\n",
        "    </tr>\n",
        "  </tbody>\n",
        "</table>\n",
        "<p>1 rows \u00d7 24 columns</p>\n",
        "</div>"
       ],
       "metadata": {},
       "output_type": "pyout",
       "prompt_number": 22,
       "text": [
        "     user_id  \\\n",
        "390     1574   \n",
        "\n",
        "           msisdn  \\\n",
        "390  d41c93742d16   \n",
        "\n",
        "     oid  \\\n",
        "390   10   \n",
        "\n",
        "                 joined  \\\n",
        "390 2010-02-13 05:08:28   \n",
        "\n",
        "              last_seen  \\\n",
        "390 2015-01-06 01:57:48   \n",
        "\n",
        "     disk_usage  \\\n",
        "390           0   \n",
        "\n",
        "     state  \\\n",
        "390      1   \n",
        "\n",
        "      ...    \\\n",
        "390   ...     \n",
        "\n",
        "     tw_url  \\\n",
        "390     NaN   \n",
        "\n",
        "     fbFrs  \\\n",
        "390    NaN   \n",
        "\n",
        "     fb_url  \\\n",
        "390     NaN   \n",
        "\n",
        "     yt  \\\n",
        "390 NaN   \n",
        "\n",
        "     pi  \\\n",
        "390 NaN   \n",
        "\n",
        "     fk  \\\n",
        "390 NaN   \n",
        "\n",
        "       area  \n",
        "390  4916e3  \n",
        "\n",
        "[1 rows x 24 columns]"
       ]
      }
     ],
     "prompt_number": 22
    },
    {
     "cell_type": "code",
     "collapsed": false,
     "input": [
      "fn_out='/Users/nicolas/logs/nobackup/users.a.csv'"
     ],
     "language": "python",
     "metadata": {
      "run_control": {
       "breakpoint": false
      }
     },
     "outputs": [],
     "prompt_number": 23
    },
    {
     "cell_type": "code",
     "collapsed": false,
     "input": [
      "print 'saving to',fn_out\n",
      "df_user_short.to_csv(fn_out, encoding='utf-8', index=False)"
     ],
     "language": "python",
     "metadata": {
      "run_control": {
       "breakpoint": false
      }
     },
     "outputs": [
      {
       "output_type": "stream",
       "stream": "stdout",
       "text": [
        "saving to /Users/nicolas/logs/nobackup/users.a.csv\n"
       ]
      }
     ],
     "prompt_number": 24
    },
    {
     "cell_type": "code",
     "collapsed": false,
     "input": [
      "!head -n 5 {fn_out}"
     ],
     "language": "python",
     "metadata": {
      "run_control": {
       "breakpoint": false
      }
     },
     "outputs": [
      {
       "output_type": "stream",
       "stream": "stdout",
       "text": [
        "user_id,joined,last_seen,disk_usage,state,friends,invites,rcvdInv,rejectd,sim,twFrs,fbFrs,yt,pi,fk,area\r\n",
        "7a050b558aca,2009-11-10 23:10:15,2010-07-19 19:27:36,30337849,1,1.0,0.0,36.0,0.0,,,,,,,6fe0d4\r\n",
        "dc8cee366318,2009-11-15 03:29:54,2010-08-20 08:40:41,8469561,1,2.0,0.0,39.0,0.0,,1.0,,,,,6fe0d4\r\n",
        "18f4f8d1d387,2009-11-30 23:41:27,2011-04-05 13:42:36,0,1,0.0,0.0,11.0,0.0,,,,,,,4916e3\r\n",
        "a090b39782f1,2009-12-01 22:43:00,2010-11-05 19:47:07,28757849,1,0.0,2.0,16.0,0.0,,,0.0,1.0,,,5dad96\r\n"
       ]
      }
     ],
     "prompt_number": 26
    },
    {
     "cell_type": "code",
     "collapsed": false,
     "input": [
      "!gzip -f {fn_out}"
     ],
     "language": "python",
     "metadata": {
      "run_control": {
       "breakpoint": false
      }
     },
     "outputs": [],
     "prompt_number": 27
    },
    {
     "cell_type": "code",
     "collapsed": false,
     "input": [
      "df_user_short[df_user_short['joined']>'2014-07'].info()"
     ],
     "language": "python",
     "metadata": {
      "run_control": {
       "breakpoint": false
      }
     },
     "outputs": [
      {
       "output_type": "stream",
       "stream": "stdout",
       "text": [
        "<class 'pandas.core.frame.DataFrame'>\n",
        "Int64Index: 134775 entries, 554493 to 9931261\n",
        "Data columns (total 16 columns):\n",
        "user_id       134775 non-null object\n",
        "joined        134775 non-null datetime64[ns]\n",
        "last_seen     130482 non-null datetime64[ns]\n",
        "disk_usage    134775 non-null int64\n",
        "state         134775 non-null int64\n",
        "friends       65140 non-null float64\n",
        "invites       65140 non-null float64\n",
        "rcvdInv       65140 non-null float64\n",
        "rejectd       65140 non-null float64\n",
        "sim           1468 non-null float64\n",
        "twFrs         457 non-null float64\n",
        "fbFrs         6754 non-null float64\n",
        "yt            439 non-null float64\n",
        "pi            192 non-null float64\n",
        "fk            0 non-null float64\n",
        "area          134775 non-null object\n",
        "dtypes: datetime64[ns](2), float64(10), int64(2), object(2)\n",
        "memory usage: 17.5+ MB\n"
       ]
      }
     ],
     "prompt_number": 187
    },
    {
     "cell_type": "code",
     "collapsed": false,
     "input": [
      "df_user_short.index=df_user_short['joined']"
     ],
     "language": "python",
     "metadata": {
      "run_control": {
       "breakpoint": false
      }
     },
     "outputs": [],
     "prompt_number": 149
    },
    {
     "cell_type": "code",
     "collapsed": false,
     "input": [
      "resamp =  pd.groupby(df_user_short['user_id'],by=[df_user_short.index.year,df_user_short.index.month]).count()"
     ],
     "language": "python",
     "metadata": {
      "run_control": {
       "breakpoint": false
      }
     },
     "outputs": [],
     "prompt_number": 150
    },
    {
     "cell_type": "code",
     "collapsed": false,
     "input": [
      "resamp.tail()"
     ],
     "language": "python",
     "metadata": {
      "run_control": {
       "breakpoint": false
      }
     },
     "outputs": [
      {
       "metadata": {},
       "output_type": "pyout",
       "prompt_number": 151,
       "text": [
        "2014  6     3461\n",
        "      7     3372\n",
        "      8     4635\n",
        "      9     4709\n",
        "      10    7498\n",
        "Name: user_id, dtype: int64"
       ]
      }
     ],
     "prompt_number": 151
    },
    {
     "cell_type": "code",
     "collapsed": false,
     "input": [
      "resamp.plot()"
     ],
     "language": "python",
     "metadata": {
      "run_control": {
       "breakpoint": false
      }
     },
     "outputs": [
      {
       "metadata": {},
       "output_type": "pyout",
       "prompt_number": 152,
       "text": [
        "<matplotlib.axes._subplots.AxesSubplot at 0x1266cc2d0>"
       ]
      }
     ],
     "prompt_number": 152
    },
    {
     "cell_type": "code",
     "collapsed": false,
     "input": [],
     "language": "python",
     "metadata": {
      "run_control": {
       "breakpoint": false
      }
     },
     "outputs": []
    },
    {
     "cell_type": "code",
     "collapsed": false,
     "input": [],
     "language": "python",
     "metadata": {
      "run_control": {
       "breakpoint": false
      }
     },
     "outputs": []
    }
   ],
   "metadata": {}
  }
 ]
}