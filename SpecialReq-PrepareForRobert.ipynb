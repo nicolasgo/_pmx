{
 "metadata": {
  "name": "",
  "signature": "sha256:22670acbdcafff43b3b29ee671b134c76f2b2a3cd50ed6c8390d2edb39630b7e"
 },
 "nbformat": 3,
 "nbformat_minor": 0,
 "worksheets": [
  {
   "cells": [
    {
     "cell_type": "markdown",
     "metadata": {},
     "source": [
      "## Read data file"
     ]
    },
    {
     "cell_type": "code",
     "collapsed": false,
     "input": [
      "import sys\n",
      "import csv\n",
      "import StringIO\n",
      "import pandas as pd\n",
      "import numpy as np\n",
      "import matplotlib.pyplot as plt\n",
      "\n",
      "bin_values=[100,200,300,400,500,600,700,800,900,1000,999999]"
     ],
     "language": "python",
     "metadata": {},
     "outputs": [],
     "prompt_number": 48
    },
    {
     "cell_type": "code",
     "collapsed": false,
     "input": [
      "file_name='/Users/Nicolas/dev/data/RG30/rg30_201412.csv'#sessions.pv.csv'"
     ],
     "language": "python",
     "metadata": {
      "run_control": {
       "breakpoint": false
      }
     },
     "outputs": [],
     "prompt_number": 49
    },
    {
     "cell_type": "code",
     "collapsed": false,
     "input": [
      "bin_values"
     ],
     "language": "python",
     "metadata": {},
     "outputs": [
      {
       "metadata": {},
       "output_type": "pyout",
       "prompt_number": 50,
       "text": [
        "[100, 200, 300, 400, 500, 600, 700, 800, 900, 1000, 999999]"
       ]
      }
     ],
     "prompt_number": 50
    },
    {
     "cell_type": "code",
     "collapsed": false,
     "input": [
      "!wc {file_name}"
     ],
     "language": "python",
     "metadata": {},
     "outputs": [
      {
       "output_type": "stream",
       "stream": "stdout",
       "text": [
        " 1675761 1675762 63643803 /Users/Nicolas/dev/data/RG30/rg30_201412.csv\r\n"
       ]
      }
     ],
     "prompt_number": 51
    },
    {
     "cell_type": "code",
     "collapsed": false,
     "input": [
      "df=pd.read_csv(file_name, #parse_dates=True, \n",
      "    names=[\"msisdn\",\"UP\",\"DOWN\",\"total\"])"
     ],
     "language": "python",
     "metadata": {},
     "outputs": [],
     "prompt_number": 52
    },
    {
     "cell_type": "code",
     "collapsed": false,
     "input": [
      "df=df[1:].dropna()"
     ],
     "language": "python",
     "metadata": {},
     "outputs": [],
     "prompt_number": 53
    },
    {
     "cell_type": "code",
     "collapsed": false,
     "input": [
      "df.info()"
     ],
     "language": "python",
     "metadata": {},
     "outputs": [
      {
       "output_type": "stream",
       "stream": "stdout",
       "text": [
        "<class 'pandas.core.frame.DataFrame'>\n",
        "Int64Index: 1675761 entries, 1 to 1675761\n",
        "Data columns (total 4 columns):\n",
        "msisdn    1675761 non-null object\n",
        "UP        1675761 non-null object\n",
        "DOWN      1675761 non-null object\n",
        "total     1675761 non-null object\n",
        "dtypes: object(4)\n",
        "memory usage: 63.9+ MB\n"
       ]
      }
     ],
     "prompt_number": 54
    },
    {
     "cell_type": "code",
     "collapsed": false,
     "input": [
      "df=old_df\n",
      "import random\n",
      "rows=random.sample(df.index, 100000)\n",
      "sample=df.ix[rows].copy()\n",
      "old_df=df\n",
      "df=sample.dropna()\n",
      "df.info()"
     ],
     "language": "python",
     "metadata": {},
     "outputs": [
      {
       "output_type": "stream",
       "stream": "stdout",
       "text": [
        "<class 'pandas.core.frame.DataFrame'>\n",
        "Int64Index: 100000 entries, 383789 to 923184\n",
        "Data columns (total 7 columns):\n",
        "msisdn    100000 non-null object\n",
        "UP        100000 non-null float32\n",
        "DOWN      100000 non-null float32\n",
        "total     100000 non-null float32\n",
        "T         100000 non-null int64\n",
        "_UP       100000 non-null int64\n",
        "_DOWN     100000 non-null int64\n",
        "dtypes: float32(3), int64(3), object(1)\n",
        "memory usage: 5.0+ MB\n"
       ]
      }
     ],
     "prompt_number": 55
    },
    {
     "cell_type": "code",
     "collapsed": false,
     "input": [
      "df['msisdn']=df['msisdn'].astype(str)\n",
      "df['UP']=df['UP'].astype(np.float32)\n",
      "df['DOWN']=df['DOWN'].astype(np.float32)\n",
      "df['total']=df['total'].astype(np.float32)"
     ],
     "language": "python",
     "metadata": {
      "run_control": {
       "breakpoint": false
      }
     },
     "outputs": [],
     "prompt_number": 56
    },
    {
     "cell_type": "code",
     "collapsed": false,
     "input": [
      "df.head(3)"
     ],
     "language": "python",
     "metadata": {
      "run_control": {
       "breakpoint": false
      }
     },
     "outputs": [
      {
       "html": [
        "<div style=\"max-height:1000px;max-width:1500px;overflow:auto;\">\n",
        "<table border=\"1\" class=\"dataframe\">\n",
        "  <thead>\n",
        "    <tr style=\"text-align: right;\">\n",
        "      <th></th>\n",
        "      <th>msisdn</th>\n",
        "      <th>UP</th>\n",
        "      <th>DOWN</th>\n",
        "      <th>total</th>\n",
        "      <th>T</th>\n",
        "      <th>_UP</th>\n",
        "      <th>_DOWN</th>\n",
        "    </tr>\n",
        "  </thead>\n",
        "  <tbody>\n",
        "    <tr>\n",
        "      <th>383789 </th>\n",
        "      <td> 7561146774</td>\n",
        "      <td>   6627067</td>\n",
        "      <td>    35910084</td>\n",
        "      <td>    42537152</td>\n",
        "      <td>  0</td>\n",
        "      <td> 0</td>\n",
        "      <td>  0</td>\n",
        "    </tr>\n",
        "    <tr>\n",
        "      <th>706297 </th>\n",
        "      <td> 9512170330</td>\n",
        "      <td> 324102624</td>\n",
        "      <td> 13221340160</td>\n",
        "      <td> 13545442304</td>\n",
        "      <td> 10</td>\n",
        "      <td> 3</td>\n",
        "      <td> 10</td>\n",
        "    </tr>\n",
        "    <tr>\n",
        "      <th>1139681</th>\n",
        "      <td> 5518423302</td>\n",
        "      <td>   4187763</td>\n",
        "      <td>    12151731</td>\n",
        "      <td>    16339494</td>\n",
        "      <td>  0</td>\n",
        "      <td> 0</td>\n",
        "      <td>  0</td>\n",
        "    </tr>\n",
        "  </tbody>\n",
        "</table>\n",
        "</div>"
       ],
       "metadata": {},
       "output_type": "pyout",
       "prompt_number": 57,
       "text": [
        "             msisdn         UP         DOWN        total   T  _UP  _DOWN\n",
        "383789   7561146774    6627067     35910084     42537152   0    0      0\n",
        "706297   9512170330  324102624  13221340160  13545442304  10    3     10\n",
        "1139681  5518423302    4187763     12151731     16339494   0    0      0"
       ]
      }
     ],
     "prompt_number": 57
    },
    {
     "cell_type": "code",
     "collapsed": false,
     "input": [
      "a=df.describe()\n",
      "a"
     ],
     "language": "python",
     "metadata": {},
     "outputs": [
      {
       "html": [
        "<div style=\"max-height:1000px;max-width:1500px;overflow:auto;\">\n",
        "<table border=\"1\" class=\"dataframe\">\n",
        "  <thead>\n",
        "    <tr style=\"text-align: right;\">\n",
        "      <th></th>\n",
        "      <th>UP</th>\n",
        "      <th>DOWN</th>\n",
        "      <th>total</th>\n",
        "      <th>T</th>\n",
        "      <th>_UP</th>\n",
        "      <th>_DOWN</th>\n",
        "    </tr>\n",
        "  </thead>\n",
        "  <tbody>\n",
        "    <tr>\n",
        "      <th>count</th>\n",
        "      <td> 1.000000e+05</td>\n",
        "      <td> 1.000000e+05</td>\n",
        "      <td> 1.000000e+05</td>\n",
        "      <td> 100000.000000</td>\n",
        "      <td> 100000.000000</td>\n",
        "      <td> 100000.000000</td>\n",
        "    </tr>\n",
        "    <tr>\n",
        "      <th>mean</th>\n",
        "      <td> 7.648412e+07</td>\n",
        "      <td> 3.195160e+08</td>\n",
        "      <td> 3.960001e+08</td>\n",
        "      <td>      1.896830</td>\n",
        "      <td>      0.505370</td>\n",
        "      <td>      1.604140</td>\n",
        "    </tr>\n",
        "    <tr>\n",
        "      <th>std</th>\n",
        "      <td> 1.808222e+08</td>\n",
        "      <td> 9.417745e+08</td>\n",
        "      <td> 1.078665e+09</td>\n",
        "      <td>      3.324511</td>\n",
        "      <td>      1.448389</td>\n",
        "      <td>      3.062634</td>\n",
        "    </tr>\n",
        "    <tr>\n",
        "      <th>min</th>\n",
        "      <td> 8.000000e+01</td>\n",
        "      <td> 2.270000e+02</td>\n",
        "      <td> 3.070000e+02</td>\n",
        "      <td>      0.000000</td>\n",
        "      <td>      0.000000</td>\n",
        "      <td>      0.000000</td>\n",
        "    </tr>\n",
        "    <tr>\n",
        "      <th>25%</th>\n",
        "      <td> 6.317928e+05</td>\n",
        "      <td> 1.836851e+06</td>\n",
        "      <td> 2.565276e+06</td>\n",
        "      <td>      0.000000</td>\n",
        "      <td>      0.000000</td>\n",
        "      <td>      0.000000</td>\n",
        "    </tr>\n",
        "    <tr>\n",
        "      <th>50%</th>\n",
        "      <td> 7.926303e+06</td>\n",
        "      <td> 2.407493e+07</td>\n",
        "      <td> 3.297130e+07</td>\n",
        "      <td>      0.000000</td>\n",
        "      <td>      0.000000</td>\n",
        "      <td>      0.000000</td>\n",
        "    </tr>\n",
        "    <tr>\n",
        "      <th>75%</th>\n",
        "      <td> 6.223269e+07</td>\n",
        "      <td> 2.092616e+08</td>\n",
        "      <td> 2.768082e+08</td>\n",
        "      <td>      2.000000</td>\n",
        "      <td>      0.000000</td>\n",
        "      <td>      1.000000</td>\n",
        "    </tr>\n",
        "    <tr>\n",
        "      <th>max</th>\n",
        "      <td> 3.860394e+09</td>\n",
        "      <td> 5.190860e+10</td>\n",
        "      <td> 5.315763e+10</td>\n",
        "      <td>     10.000000</td>\n",
        "      <td>     10.000000</td>\n",
        "      <td>     10.000000</td>\n",
        "    </tr>\n",
        "  </tbody>\n",
        "</table>\n",
        "</div>"
       ],
       "metadata": {},
       "output_type": "pyout",
       "prompt_number": 58,
       "text": [
        "                 UP          DOWN         total              T            _UP  \\\n",
        "count  1.000000e+05  1.000000e+05  1.000000e+05  100000.000000  100000.000000   \n",
        "mean   7.648412e+07  3.195160e+08  3.960001e+08       1.896830       0.505370   \n",
        "std    1.808222e+08  9.417745e+08  1.078665e+09       3.324511       1.448389   \n",
        "min    8.000000e+01  2.270000e+02  3.070000e+02       0.000000       0.000000   \n",
        "25%    6.317928e+05  1.836851e+06  2.565276e+06       0.000000       0.000000   \n",
        "50%    7.926303e+06  2.407493e+07  3.297130e+07       0.000000       0.000000   \n",
        "75%    6.223269e+07  2.092616e+08  2.768082e+08       2.000000       0.000000   \n",
        "max    3.860394e+09  5.190860e+10  5.315763e+10      10.000000      10.000000   \n",
        "\n",
        "               _DOWN  \n",
        "count  100000.000000  \n",
        "mean        1.604140  \n",
        "std         3.062634  \n",
        "min         0.000000  \n",
        "25%         0.000000  \n",
        "50%         0.000000  \n",
        "75%         1.000000  \n",
        "max        10.000000  "
       ]
      }
     ],
     "prompt_number": 58
    },
    {
     "cell_type": "markdown",
     "metadata": {},
     "source": [
      "#bins"
     ]
    },
    {
     "cell_type": "code",
     "collapsed": false,
     "input": [
      "def func(x):\n",
      "    y= np.int16(x/(100*1024*1024))\n",
      "    if y>10:\n",
      "        y=10\n",
      "    return y\n",
      "df['T'] =df['total'].apply(lambda x: func(x))\n",
      "df['_UP'] =df['UP'].apply(lambda x: func(x))\n",
      "df['_DOWN'] =df['DOWN'].apply(lambda x: func(x))"
     ],
     "language": "python",
     "metadata": {},
     "outputs": [],
     "prompt_number": 59
    },
    {
     "cell_type": "code",
     "collapsed": false,
     "input": [
      "df.head(212000).tail()"
     ],
     "language": "python",
     "metadata": {},
     "outputs": [
      {
       "html": [
        "<div style=\"max-height:1000px;max-width:1500px;overflow:auto;\">\n",
        "<table border=\"1\" class=\"dataframe\">\n",
        "  <thead>\n",
        "    <tr style=\"text-align: right;\">\n",
        "      <th></th>\n",
        "      <th>msisdn</th>\n",
        "      <th>UP</th>\n",
        "      <th>DOWN</th>\n",
        "      <th>total</th>\n",
        "      <th>T</th>\n",
        "      <th>_UP</th>\n",
        "      <th>_DOWN</th>\n",
        "    </tr>\n",
        "  </thead>\n",
        "  <tbody>\n",
        "    <tr>\n",
        "      <th>939063 </th>\n",
        "      <td> 7971167154</td>\n",
        "      <td>  2755600</td>\n",
        "      <td>   9105438</td>\n",
        "      <td>  11861038</td>\n",
        "      <td> 0</td>\n",
        "      <td> 0</td>\n",
        "      <td> 0</td>\n",
        "    </tr>\n",
        "    <tr>\n",
        "      <th>1134391</th>\n",
        "      <td> 6771060676</td>\n",
        "      <td> 54817784</td>\n",
        "      <td> 258774240</td>\n",
        "      <td> 313592032</td>\n",
        "      <td> 2</td>\n",
        "      <td> 0</td>\n",
        "      <td> 2</td>\n",
        "    </tr>\n",
        "    <tr>\n",
        "      <th>932175 </th>\n",
        "      <td> 4651174462</td>\n",
        "      <td> 11579304</td>\n",
        "      <td>  44710292</td>\n",
        "      <td>  56289596</td>\n",
        "      <td> 0</td>\n",
        "      <td> 0</td>\n",
        "      <td> 0</td>\n",
        "    </tr>\n",
        "    <tr>\n",
        "      <th>1482909</th>\n",
        "      <td> 6141515735</td>\n",
        "      <td>   130860</td>\n",
        "      <td>    410846</td>\n",
        "      <td>    541706</td>\n",
        "      <td> 0</td>\n",
        "      <td> 0</td>\n",
        "      <td> 0</td>\n",
        "    </tr>\n",
        "    <tr>\n",
        "      <th>923184 </th>\n",
        "      <td> 8712027831</td>\n",
        "      <td>  1916461</td>\n",
        "      <td>   6922116</td>\n",
        "      <td>   8838577</td>\n",
        "      <td> 0</td>\n",
        "      <td> 0</td>\n",
        "      <td> 0</td>\n",
        "    </tr>\n",
        "  </tbody>\n",
        "</table>\n",
        "</div>"
       ],
       "metadata": {},
       "output_type": "pyout",
       "prompt_number": 60,
       "text": [
        "             msisdn        UP       DOWN      total  T  _UP  _DOWN\n",
        "939063   7971167154   2755600    9105438   11861038  0    0      0\n",
        "1134391  6771060676  54817784  258774240  313592032  2    0      2\n",
        "932175   4651174462  11579304   44710292   56289596  0    0      0\n",
        "1482909  6141515735    130860     410846     541706  0    0      0\n",
        "923184   8712027831   1916461    6922116    8838577  0    0      0"
       ]
      }
     ],
     "prompt_number": 60
    },
    {
     "cell_type": "code",
     "collapsed": false,
     "input": [],
     "language": "python",
     "metadata": {},
     "outputs": [],
     "prompt_number": 60
    },
    {
     "cell_type": "code",
     "collapsed": false,
     "input": [],
     "language": "python",
     "metadata": {},
     "outputs": [],
     "prompt_number": 60
    },
    {
     "cell_type": "code",
     "collapsed": false,
     "input": [
      "'''\n",
      "bin_values=[1,2,3,4,5,6,7,8,9,10,999999]\n",
      "a=df[['T']].hist(bins=10)\n",
      "plt.show()\n",
      "'''"
     ],
     "language": "python",
     "metadata": {},
     "outputs": [
      {
       "metadata": {},
       "output_type": "pyout",
       "prompt_number": 61,
       "text": [
        "\"\\nbin_values=[1,2,3,4,5,6,7,8,9,10,999999]\\na=df[['T']].hist(bins=10)\\nplt.show()\\n\""
       ]
      }
     ],
     "prompt_number": 61
    },
    {
     "cell_type": "code",
     "collapsed": false,
     "input": [
      "df['T'].describe()"
     ],
     "language": "python",
     "metadata": {},
     "outputs": [
      {
       "metadata": {},
       "output_type": "pyout",
       "prompt_number": 62,
       "text": [
        "count    100000.000000\n",
        "mean          1.896830\n",
        "std           3.324511\n",
        "min           0.000000\n",
        "25%           0.000000\n",
        "50%           0.000000\n",
        "75%           2.000000\n",
        "max          10.000000\n",
        "Name: T, dtype: float64"
       ]
      }
     ],
     "prompt_number": 62
    },
    {
     "cell_type": "code",
     "collapsed": false,
     "input": [
      "s1=df['_UP'].value_counts()/ (len(df['T'])/100)\n",
      "\n",
      "s2=df['_DOWN'].value_counts()/ (len(df['T'])/100)\n",
      "\n",
      "s3=df['T'].value_counts()/ (len(df['T'])/100)\n",
      "\n",
      "#o.reset_index()\n",
      "#o[0].astype(int)\n",
      "#o.sort(0,0)\n",
      "o = pd.DataFrame({'_UP':s1,'_DOWN':s2,'T':s3})\n",
      "o"
     ],
     "language": "python",
     "metadata": {},
     "outputs": [
      {
       "html": [
        "<div style=\"max-height:1000px;max-width:1500px;overflow:auto;\">\n",
        "<table border=\"1\" class=\"dataframe\">\n",
        "  <thead>\n",
        "    <tr style=\"text-align: right;\">\n",
        "      <th></th>\n",
        "      <th>T</th>\n",
        "      <th>_DOWN</th>\n",
        "      <th>_UP</th>\n",
        "    </tr>\n",
        "  </thead>\n",
        "  <tbody>\n",
        "    <tr>\n",
        "      <th>0 </th>\n",
        "      <td> 63.297</td>\n",
        "      <td> 66.828</td>\n",
        "      <td> 81.316</td>\n",
        "    </tr>\n",
        "    <tr>\n",
        "      <th>1 </th>\n",
        "      <td>  8.428</td>\n",
        "      <td>  8.198</td>\n",
        "      <td>  7.987</td>\n",
        "    </tr>\n",
        "    <tr>\n",
        "      <th>2 </th>\n",
        "      <td>  4.763</td>\n",
        "      <td>  4.759</td>\n",
        "      <td>  3.826</td>\n",
        "    </tr>\n",
        "    <tr>\n",
        "      <th>3 </th>\n",
        "      <td>  3.367</td>\n",
        "      <td>  3.335</td>\n",
        "      <td>  2.239</td>\n",
        "    </tr>\n",
        "    <tr>\n",
        "      <th>4 </th>\n",
        "      <td>  2.620</td>\n",
        "      <td>  2.424</td>\n",
        "      <td>  1.439</td>\n",
        "    </tr>\n",
        "    <tr>\n",
        "      <th>5 </th>\n",
        "      <td>  2.024</td>\n",
        "      <td>  1.823</td>\n",
        "      <td>  0.961</td>\n",
        "    </tr>\n",
        "    <tr>\n",
        "      <th>6 </th>\n",
        "      <td>  1.655</td>\n",
        "      <td>  1.454</td>\n",
        "      <td>  0.655</td>\n",
        "    </tr>\n",
        "    <tr>\n",
        "      <th>7 </th>\n",
        "      <td>  1.359</td>\n",
        "      <td>  1.232</td>\n",
        "      <td>  0.404</td>\n",
        "    </tr>\n",
        "    <tr>\n",
        "      <th>8 </th>\n",
        "      <td>  1.132</td>\n",
        "      <td>  1.027</td>\n",
        "      <td>  0.323</td>\n",
        "    </tr>\n",
        "    <tr>\n",
        "      <th>9 </th>\n",
        "      <td>  1.021</td>\n",
        "      <td>  0.882</td>\n",
        "      <td>  0.222</td>\n",
        "    </tr>\n",
        "    <tr>\n",
        "      <th>10</th>\n",
        "      <td> 10.334</td>\n",
        "      <td>  8.038</td>\n",
        "      <td>  0.628</td>\n",
        "    </tr>\n",
        "  </tbody>\n",
        "</table>\n",
        "</div>"
       ],
       "metadata": {},
       "output_type": "pyout",
       "prompt_number": 63,
       "text": [
        "         T   _DOWN     _UP\n",
        "0   63.297  66.828  81.316\n",
        "1    8.428   8.198   7.987\n",
        "2    4.763   4.759   3.826\n",
        "3    3.367   3.335   2.239\n",
        "4    2.620   2.424   1.439\n",
        "5    2.024   1.823   0.961\n",
        "6    1.655   1.454   0.655\n",
        "7    1.359   1.232   0.404\n",
        "8    1.132   1.027   0.323\n",
        "9    1.021   0.882   0.222\n",
        "10  10.334   8.038   0.628"
       ]
      }
     ],
     "prompt_number": 63
    },
    {
     "cell_type": "code",
     "collapsed": false,
     "input": [
      "fn='data/test.csv'\n",
      "o.to_csv(fn, encoding='utf-8')\n",
      "!head {fn}"
     ],
     "language": "python",
     "metadata": {},
     "outputs": [
      {
       "output_type": "stream",
       "stream": "stdout",
       "text": [
        ",T,_DOWN,_UP\r\n",
        "0,63.297,66.828,81.316\r\n",
        "1,8.428,8.198,7.987\r\n",
        "2,4.763,4.759,3.826\r\n",
        "3,3.367,3.335,2.239\r\n",
        "4,2.62,2.424,1.439\r\n",
        "5,2.024,1.823,0.961\r\n",
        "6,1.655,1.454,0.655\r\n",
        "7,1.359,1.232,0.404\r\n",
        "8,1.132,1.027,0.323\r\n"
       ]
      }
     ],
     "prompt_number": 64
    },
    {
     "cell_type": "code",
     "collapsed": false,
     "input": [
      "!open {fn}"
     ],
     "language": "python",
     "metadata": {},
     "outputs": [],
     "prompt_number": 65
    },
    {
     "cell_type": "code",
     "collapsed": false,
     "input": [
      "df[df['total']>(100*1024*1024)].head()"
     ],
     "language": "python",
     "metadata": {},
     "outputs": [
      {
       "html": [
        "<div style=\"max-height:1000px;max-width:1500px;overflow:auto;\">\n",
        "<table border=\"1\" class=\"dataframe\">\n",
        "  <thead>\n",
        "    <tr style=\"text-align: right;\">\n",
        "      <th></th>\n",
        "      <th>msisdn</th>\n",
        "      <th>UP</th>\n",
        "      <th>DOWN</th>\n",
        "      <th>total</th>\n",
        "      <th>T</th>\n",
        "      <th>_UP</th>\n",
        "      <th>_DOWN</th>\n",
        "    </tr>\n",
        "  </thead>\n",
        "  <tbody>\n",
        "    <tr>\n",
        "      <th>706297</th>\n",
        "      <td> 9512170330</td>\n",
        "      <td> 324102624</td>\n",
        "      <td> 13221340160</td>\n",
        "      <td> 13545442304</td>\n",
        "      <td> 10</td>\n",
        "      <td> 3</td>\n",
        "      <td> 10</td>\n",
        "    </tr>\n",
        "    <tr>\n",
        "      <th>432474</th>\n",
        "      <td> 9871017935</td>\n",
        "      <td> 234844064</td>\n",
        "      <td>   842672960</td>\n",
        "      <td>  1077517056</td>\n",
        "      <td> 10</td>\n",
        "      <td> 2</td>\n",
        "      <td>  8</td>\n",
        "    </tr>\n",
        "    <tr>\n",
        "      <th>705536</th>\n",
        "      <td> 9331460461</td>\n",
        "      <td>  17854752</td>\n",
        "      <td>   141193824</td>\n",
        "      <td>   159048576</td>\n",
        "      <td>  1</td>\n",
        "      <td> 0</td>\n",
        "      <td>  1</td>\n",
        "    </tr>\n",
        "    <tr>\n",
        "      <th>92375 </th>\n",
        "      <td> 4818410872</td>\n",
        "      <td> 728675712</td>\n",
        "      <td>  5201058816</td>\n",
        "      <td>  5929734656</td>\n",
        "      <td> 10</td>\n",
        "      <td> 6</td>\n",
        "      <td> 10</td>\n",
        "    </tr>\n",
        "    <tr>\n",
        "      <th>36829 </th>\n",
        "      <td> 2871248802</td>\n",
        "      <td> 153940096</td>\n",
        "      <td>   665261312</td>\n",
        "      <td>   819201408</td>\n",
        "      <td>  7</td>\n",
        "      <td> 1</td>\n",
        "      <td>  6</td>\n",
        "    </tr>\n",
        "  </tbody>\n",
        "</table>\n",
        "</div>"
       ],
       "metadata": {},
       "output_type": "pyout",
       "prompt_number": 66,
       "text": [
        "            msisdn         UP         DOWN        total   T  _UP  _DOWN\n",
        "706297  9512170330  324102624  13221340160  13545442304  10    3     10\n",
        "432474  9871017935  234844064    842672960   1077517056  10    2      8\n",
        "705536  9331460461   17854752    141193824    159048576   1    0      1\n",
        "92375   4818410872  728675712   5201058816   5929734656  10    6     10\n",
        "36829   2871248802  153940096    665261312    819201408   7    1      6"
       ]
      }
     ],
     "prompt_number": 66
    },
    {
     "cell_type": "code",
     "collapsed": false,
     "input": [
      "df.head()"
     ],
     "language": "python",
     "metadata": {},
     "outputs": [
      {
       "html": [
        "<div style=\"max-height:1000px;max-width:1500px;overflow:auto;\">\n",
        "<table border=\"1\" class=\"dataframe\">\n",
        "  <thead>\n",
        "    <tr style=\"text-align: right;\">\n",
        "      <th></th>\n",
        "      <th>msisdn</th>\n",
        "      <th>UP</th>\n",
        "      <th>DOWN</th>\n",
        "      <th>total</th>\n",
        "      <th>T</th>\n",
        "      <th>_UP</th>\n",
        "      <th>_DOWN</th>\n",
        "    </tr>\n",
        "  </thead>\n",
        "  <tbody>\n",
        "    <tr>\n",
        "      <th>383789 </th>\n",
        "      <td> 7561146774</td>\n",
        "      <td>   6627067</td>\n",
        "      <td>    35910084</td>\n",
        "      <td>    42537152</td>\n",
        "      <td>  0</td>\n",
        "      <td> 0</td>\n",
        "      <td>  0</td>\n",
        "    </tr>\n",
        "    <tr>\n",
        "      <th>706297 </th>\n",
        "      <td> 9512170330</td>\n",
        "      <td> 324102624</td>\n",
        "      <td> 13221340160</td>\n",
        "      <td> 13545442304</td>\n",
        "      <td> 10</td>\n",
        "      <td> 3</td>\n",
        "      <td> 10</td>\n",
        "    </tr>\n",
        "    <tr>\n",
        "      <th>1139681</th>\n",
        "      <td> 5518423302</td>\n",
        "      <td>   4187763</td>\n",
        "      <td>    12151731</td>\n",
        "      <td>    16339494</td>\n",
        "      <td>  0</td>\n",
        "      <td> 0</td>\n",
        "      <td>  0</td>\n",
        "    </tr>\n",
        "    <tr>\n",
        "      <th>1007911</th>\n",
        "      <td> 6561495554</td>\n",
        "      <td>  11897790</td>\n",
        "      <td>    15460373</td>\n",
        "      <td>    27358164</td>\n",
        "      <td>  0</td>\n",
        "      <td> 0</td>\n",
        "      <td>  0</td>\n",
        "    </tr>\n",
        "    <tr>\n",
        "      <th>676105 </th>\n",
        "      <td> 4433644979</td>\n",
        "      <td>   8107362</td>\n",
        "      <td>    35156608</td>\n",
        "      <td>    43263972</td>\n",
        "      <td>  0</td>\n",
        "      <td> 0</td>\n",
        "      <td>  0</td>\n",
        "    </tr>\n",
        "  </tbody>\n",
        "</table>\n",
        "</div>"
       ],
       "metadata": {},
       "output_type": "pyout",
       "prompt_number": 67,
       "text": [
        "             msisdn         UP         DOWN        total   T  _UP  _DOWN\n",
        "383789   7561146774    6627067     35910084     42537152   0    0      0\n",
        "706297   9512170330  324102624  13221340160  13545442304  10    3     10\n",
        "1139681  5518423302    4187763     12151731     16339494   0    0      0\n",
        "1007911  6561495554   11897790     15460373     27358164   0    0      0\n",
        "676105   4433644979    8107362     35156608     43263972   0    0      0"
       ]
      }
     ],
     "prompt_number": 67
    },
    {
     "cell_type": "code",
     "collapsed": false,
     "input": [
      "df.sort(['total'],inplace=True,ascending=[0])"
     ],
     "language": "python",
     "metadata": {},
     "outputs": [],
     "prompt_number": 68
    },
    {
     "cell_type": "code",
     "collapsed": false,
     "input": [],
     "language": "python",
     "metadata": {},
     "outputs": [],
     "prompt_number": 68
    },
    {
     "cell_type": "code",
     "collapsed": false,
     "input": [],
     "language": "python",
     "metadata": {},
     "outputs": [],
     "prompt_number": 68
    },
    {
     "cell_type": "code",
     "collapsed": false,
     "input": [
      "a.UP=a.UP.astype(np.int64)\n",
      "a.DOWN=a.DOWN.astype(np.int64)\n",
      "a.total=a.total.astype(np.int64)\n",
      "a"
     ],
     "language": "python",
     "metadata": {},
     "outputs": [
      {
       "html": [
        "<div style=\"max-height:1000px;max-width:1500px;overflow:auto;\">\n",
        "<table border=\"1\" class=\"dataframe\">\n",
        "  <thead>\n",
        "    <tr style=\"text-align: right;\">\n",
        "      <th></th>\n",
        "      <th>UP</th>\n",
        "      <th>DOWN</th>\n",
        "      <th>total</th>\n",
        "      <th>T</th>\n",
        "      <th>_UP</th>\n",
        "      <th>_DOWN</th>\n",
        "    </tr>\n",
        "  </thead>\n",
        "  <tbody>\n",
        "    <tr>\n",
        "      <th>count</th>\n",
        "      <td>     100000</td>\n",
        "      <td>      100000</td>\n",
        "      <td>      100000</td>\n",
        "      <td> 100000.000000</td>\n",
        "      <td> 100000.000000</td>\n",
        "      <td> 100000.000000</td>\n",
        "    </tr>\n",
        "    <tr>\n",
        "      <th>mean</th>\n",
        "      <td>   76484118</td>\n",
        "      <td>   319515990</td>\n",
        "      <td>   396000109</td>\n",
        "      <td>      1.896830</td>\n",
        "      <td>      0.505370</td>\n",
        "      <td>      1.604140</td>\n",
        "    </tr>\n",
        "    <tr>\n",
        "      <th>std</th>\n",
        "      <td>  180822173</td>\n",
        "      <td>   941774516</td>\n",
        "      <td>  1078664709</td>\n",
        "      <td>      3.324511</td>\n",
        "      <td>      1.448389</td>\n",
        "      <td>      3.062634</td>\n",
        "    </tr>\n",
        "    <tr>\n",
        "      <th>min</th>\n",
        "      <td>         80</td>\n",
        "      <td>         227</td>\n",
        "      <td>         307</td>\n",
        "      <td>      0.000000</td>\n",
        "      <td>      0.000000</td>\n",
        "      <td>      0.000000</td>\n",
        "    </tr>\n",
        "    <tr>\n",
        "      <th>25%</th>\n",
        "      <td>     631792</td>\n",
        "      <td>     1836850</td>\n",
        "      <td>     2565276</td>\n",
        "      <td>      0.000000</td>\n",
        "      <td>      0.000000</td>\n",
        "      <td>      0.000000</td>\n",
        "    </tr>\n",
        "    <tr>\n",
        "      <th>50%</th>\n",
        "      <td>    7926303</td>\n",
        "      <td>    24074934</td>\n",
        "      <td>    32971296</td>\n",
        "      <td>      0.000000</td>\n",
        "      <td>      0.000000</td>\n",
        "      <td>      0.000000</td>\n",
        "    </tr>\n",
        "    <tr>\n",
        "      <th>75%</th>\n",
        "      <td>   62232689</td>\n",
        "      <td>   209261592</td>\n",
        "      <td>   276808176</td>\n",
        "      <td>      2.000000</td>\n",
        "      <td>      0.000000</td>\n",
        "      <td>      1.000000</td>\n",
        "    </tr>\n",
        "    <tr>\n",
        "      <th>max</th>\n",
        "      <td> 3860394240</td>\n",
        "      <td> 51908599808</td>\n",
        "      <td> 53157625856</td>\n",
        "      <td>     10.000000</td>\n",
        "      <td>     10.000000</td>\n",
        "      <td>     10.000000</td>\n",
        "    </tr>\n",
        "  </tbody>\n",
        "</table>\n",
        "</div>"
       ],
       "metadata": {},
       "output_type": "pyout",
       "prompt_number": 69,
       "text": [
        "               UP         DOWN        total              T            _UP  \\\n",
        "count      100000       100000       100000  100000.000000  100000.000000   \n",
        "mean     76484118    319515990    396000109       1.896830       0.505370   \n",
        "std     180822173    941774516   1078664709       3.324511       1.448389   \n",
        "min            80          227          307       0.000000       0.000000   \n",
        "25%        631792      1836850      2565276       0.000000       0.000000   \n",
        "50%       7926303     24074934     32971296       0.000000       0.000000   \n",
        "75%      62232689    209261592    276808176       2.000000       0.000000   \n",
        "max    3860394240  51908599808  53157625856      10.000000      10.000000   \n",
        "\n",
        "               _DOWN  \n",
        "count  100000.000000  \n",
        "mean        1.604140  \n",
        "std         3.062634  \n",
        "min         0.000000  \n",
        "25%         0.000000  \n",
        "50%         0.000000  \n",
        "75%         1.000000  \n",
        "max        10.000000  "
       ]
      }
     ],
     "prompt_number": 69
    },
    {
     "cell_type": "code",
     "collapsed": false,
     "input": [
      "df400=df[df['total']>(400*1024*1024)]\n",
      "df400.info()"
     ],
     "language": "python",
     "metadata": {},
     "outputs": [
      {
       "output_type": "stream",
       "stream": "stdout",
       "text": [
        "<class 'pandas.core.frame.DataFrame'>\n",
        "Int64Index: 20145 entries, 156103 to 231741\n",
        "Data columns (total 7 columns):\n",
        "msisdn    20145 non-null object\n",
        "UP        20145 non-null float32\n",
        "DOWN      20145 non-null float32\n",
        "total     20145 non-null float32\n",
        "T         20145 non-null int64\n",
        "_UP       20145 non-null int64\n",
        "_DOWN     20145 non-null int64\n",
        "dtypes: float32(3), int64(3), object(1)\n",
        "memory usage: 1023.0+ KB\n"
       ]
      }
     ]
    },
    {
     "cell_type": "code",
     "collapsed": false,
     "input": [
      "#plt.figure()\n",
      "#df.total.hist(bins=10).figure\n",
      "#plt.show()"
     ],
     "language": "python",
     "metadata": {},
     "outputs": []
    },
    {
     "cell_type": "markdown",
     "metadata": {},
     "source": [
      "## Read user file"
     ]
    },
    {
     "cell_type": "code",
     "collapsed": false,
     "input": [
      "df_user=pd.read_csv('/Users/Nicolas/dev/data/zzuser.55.csv',\n",
      "                 sep='\\t',\n",
      "                 encoding='utf-8',\n",
      "                 header=1, names=[\"user_id\",\"msisdn\",\"oid\",\"joined\",\"last_seen\",\"disk_usage\",\"state\",\"friends\",\"invites\",\"rcvdInv\",\"rejectd\",\"sms\",\"mms\",\"sim\",\"login\",\"web\",\"twFrs\",\"tw_url\",\"fbFrs\",\"fb_url\",\"yt\",\"pi\",\"fk\",\"area\"]\n",
      "                 )\n",
      "\n",
      "df_user.head(3)"
     ],
     "language": "python",
     "metadata": {
      "run_control": {
       "breakpoint": false
      }
     },
     "outputs": []
    },
    {
     "cell_type": "code",
     "collapsed": false,
     "input": [
      "df_user['msisdn']=df_user['msisdn'].astype(str)\n",
      "df_user=df_user[df_user['state']==1]\n",
      "df_user.msisdn.describe()\n",
      "#df_user=df_user.set_index('msisdn')\n",
      "##"
     ],
     "language": "python",
     "metadata": {},
     "outputs": []
    },
    {
     "cell_type": "code",
     "collapsed": false,
     "input": [],
     "language": "python",
     "metadata": {},
     "outputs": []
    },
    {
     "cell_type": "code",
     "collapsed": false,
     "input": [
      "criterion = df_user['msisdn'].map(lambda x: (str(x).startswith('5255'))) #or  str(x).startswith('5223')\n",
      "df_user=df_user[criterion]\n",
      "df_user.msisdn.describe()\n",
      "##"
     ],
     "language": "python",
     "metadata": {},
     "outputs": [
      {
       "metadata": {},
       "output_type": "pyout",
       "prompt_number": 193,
       "text": [
        "count          1206161\n",
        "unique         1206161\n",
        "top       525525131935\n",
        "freq                 1\n",
        "dtype: object"
       ]
      }
     ],
     "prompt_number": 193
    },
    {
     "cell_type": "code",
     "collapsed": false,
     "input": [
      "df.sort(['msisdn'],inplace=True)\n",
      "df['f'] =df['msisdn'].apply(lambda x: '52%s'%(x))"
     ],
     "language": "python",
     "metadata": {},
     "outputs": [],
     "prompt_number": 194
    },
    {
     "cell_type": "code",
     "collapsed": false,
     "input": [
      "df.head()"
     ],
     "language": "python",
     "metadata": {},
     "outputs": [
      {
       "html": [
        "<div style=\"max-height:1000px;max-width:1500px;overflow:auto;\">\n",
        "<table border=\"1\" class=\"dataframe\">\n",
        "  <thead>\n",
        "    <tr style=\"text-align: right;\">\n",
        "      <th></th>\n",
        "      <th>msisdn</th>\n",
        "      <th>UP</th>\n",
        "      <th>DOWN</th>\n",
        "      <th>total</th>\n",
        "      <th>f</th>\n",
        "    </tr>\n",
        "  </thead>\n",
        "  <tbody>\n",
        "    <tr>\n",
        "      <th>1329863</th>\n",
        "      <td> 2221000081</td>\n",
        "      <td>  1782147</td>\n",
        "      <td>  22228716</td>\n",
        "      <td>  24010864</td>\n",
        "      <td> 522221000081</td>\n",
        "    </tr>\n",
        "    <tr>\n",
        "      <th>1226419</th>\n",
        "      <td> 2221000114</td>\n",
        "      <td> 32831512</td>\n",
        "      <td>  91777016</td>\n",
        "      <td> 124608528</td>\n",
        "      <td> 522221000114</td>\n",
        "    </tr>\n",
        "    <tr>\n",
        "      <th>844025 </th>\n",
        "      <td> 2221000127</td>\n",
        "      <td>  9467532</td>\n",
        "      <td>  57608468</td>\n",
        "      <td>  67076000</td>\n",
        "      <td> 522221000127</td>\n",
        "    </tr>\n",
        "    <tr>\n",
        "      <th>3793   </th>\n",
        "      <td> 2221000148</td>\n",
        "      <td> 26398156</td>\n",
        "      <td>  99038104</td>\n",
        "      <td> 125436256</td>\n",
        "      <td> 522221000148</td>\n",
        "    </tr>\n",
        "    <tr>\n",
        "      <th>3794   </th>\n",
        "      <td> 2221000215</td>\n",
        "      <td> 34856068</td>\n",
        "      <td> 293131456</td>\n",
        "      <td> 327987552</td>\n",
        "      <td> 522221000215</td>\n",
        "    </tr>\n",
        "  </tbody>\n",
        "</table>\n",
        "</div>"
       ],
       "metadata": {},
       "output_type": "pyout",
       "prompt_number": 195,
       "text": [
        "             msisdn        UP       DOWN      total             f\n",
        "1329863  2221000081   1782147   22228716   24010864  522221000081\n",
        "1226419  2221000114  32831512   91777016  124608528  522221000114\n",
        "844025   2221000127   9467532   57608468   67076000  522221000127\n",
        "3793     2221000148  26398156   99038104  125436256  522221000148\n",
        "3794     2221000215  34856068  293131456  327987552  522221000215"
       ]
      }
     ],
     "prompt_number": 195
    },
    {
     "cell_type": "code",
     "collapsed": false,
     "input": [
      "df_subset=df[df.f.isin(df_user.msisdn)]\n",
      "\n",
      "df_subset.info()"
     ],
     "language": "python",
     "metadata": {},
     "outputs": [
      {
       "output_type": "stream",
       "stream": "stdout",
       "text": [
        "<class 'pandas.core.frame.DataFrame'>\n",
        "Int64Index: 99182 entries, 1210910 to 1170483\n",
        "Data columns (total 5 columns):\n",
        "msisdn    99182 non-null object\n",
        "UP        99182 non-null float32\n",
        "DOWN      99182 non-null float32\n",
        "total     99182 non-null float32\n",
        "f         99182 non-null object\n",
        "dtypes: float32(3), object(2)"
       ]
      }
     ],
     "prompt_number": 196
    },
    {
     "cell_type": "code",
     "collapsed": false,
     "input": [
      "df_subset.UP=df_subset.UP.astype(np.int64)\n",
      "df_subset.DOWN=df_subset.DOWN.astype(np.int64)\n",
      "df_subset.total=df_subset.total.astype(np.int64)\n",
      "\n",
      "df_subset.head()\n"
     ],
     "language": "python",
     "metadata": {},
     "outputs": [
      {
       "html": [
        "<div style=\"max-height:1000px;max-width:1500px;overflow:auto;\">\n",
        "<table border=\"1\" class=\"dataframe\">\n",
        "  <thead>\n",
        "    <tr style=\"text-align: right;\">\n",
        "      <th></th>\n",
        "      <th>msisdn</th>\n",
        "      <th>UP</th>\n",
        "      <th>DOWN</th>\n",
        "      <th>total</th>\n",
        "      <th>f</th>\n",
        "    </tr>\n",
        "  </thead>\n",
        "  <tbody>\n",
        "    <tr>\n",
        "      <th>1210910</th>\n",
        "      <td> 5510030449</td>\n",
        "      <td>     28298</td>\n",
        "      <td>     116375</td>\n",
        "      <td>     144673</td>\n",
        "      <td> 525510030449</td>\n",
        "    </tr>\n",
        "    <tr>\n",
        "      <th>1548319</th>\n",
        "      <td> 5510031503</td>\n",
        "      <td>    151967</td>\n",
        "      <td>     465196</td>\n",
        "      <td>     617163</td>\n",
        "      <td> 525510031503</td>\n",
        "    </tr>\n",
        "    <tr>\n",
        "      <th>680806 </th>\n",
        "      <td> 5510031757</td>\n",
        "      <td> 319135840</td>\n",
        "      <td> 1476893440</td>\n",
        "      <td> 1796029312</td>\n",
        "      <td> 525510031757</td>\n",
        "    </tr>\n",
        "    <tr>\n",
        "      <th>100733 </th>\n",
        "      <td> 5510031834</td>\n",
        "      <td>  48498472</td>\n",
        "      <td>  245570000</td>\n",
        "      <td>  294068480</td>\n",
        "      <td> 525510031834</td>\n",
        "    </tr>\n",
        "    <tr>\n",
        "      <th>1418173</th>\n",
        "      <td> 5510031938</td>\n",
        "      <td>     77511</td>\n",
        "      <td>     233601</td>\n",
        "      <td>     311112</td>\n",
        "      <td> 525510031938</td>\n",
        "    </tr>\n",
        "  </tbody>\n",
        "</table>\n",
        "</div>"
       ],
       "metadata": {},
       "output_type": "pyout",
       "prompt_number": 197,
       "text": [
        "             msisdn         UP        DOWN       total             f\n",
        "1210910  5510030449      28298      116375      144673  525510030449\n",
        "1548319  5510031503     151967      465196      617163  525510031503\n",
        "680806   5510031757  319135840  1476893440  1796029312  525510031757\n",
        "100733   5510031834   48498472   245570000   294068480  525510031834\n",
        "1418173  5510031938      77511      233601      311112  525510031938"
       ]
      }
     ],
     "prompt_number": 197
    },
    {
     "cell_type": "code",
     "collapsed": false,
     "input": [
      "import hashlib\n",
      "\n",
      "saved = {}\n",
      "rsaved = {}  # a reverse dictionary can be used to lookup original msisdn from hashed ids\n",
      "\n",
      "\n",
      "def xx(x):\n",
      "    if not saved.has_key(x):\n",
      "        try:\n",
      "            m = hashlib.md5()\n",
      "            m.update(x)\n",
      "            mh = '%.12s'%(m.hexdigest()[10:30])\n",
      "            saved[x]=mh\n",
      "            rsaved[mh]=x\n",
      "\n",
      "\n",
      "        except:\n",
      "            print type(x),x\n",
      "\n",
      "#        print x,mh\n",
      "\n",
      "    return saved[x]\n",
      "\n",
      "\n",
      "#print len(df['msisdn'].unique())\n",
      "#print len(df['ip'].unique())\n",
      "\n",
      "# just to test\n",
      "print xx('524111000443')\n"
     ],
     "language": "python",
     "metadata": {
      "run_control": {
       "breakpoint": false
      }
     },
     "outputs": [
      {
       "output_type": "stream",
       "stream": "stdout",
       "text": [
        "951a006c6a26\n"
       ]
      }
     ],
     "prompt_number": 198
    },
    {
     "cell_type": "code",
     "collapsed": false,
     "input": [
      "print len(df_subset['msisdn'].unique())\n",
      "\n",
      "df_subset['user_id'] =df_subset['f'].apply(lambda x: xx(x))\n",
      "\n",
      "print len(df_subset['msisdn'].unique())\n",
      "df_subset.head(3)"
     ],
     "language": "python",
     "metadata": {
      "run_control": {
       "breakpoint": false
      }
     },
     "outputs": [
      {
       "output_type": "stream",
       "stream": "stdout",
       "text": [
        "99182\n",
        "99182"
       ]
      },
      {
       "output_type": "stream",
       "stream": "stdout",
       "text": [
        "\n"
       ]
      },
      {
       "html": [
        "<div style=\"max-height:1000px;max-width:1500px;overflow:auto;\">\n",
        "<table border=\"1\" class=\"dataframe\">\n",
        "  <thead>\n",
        "    <tr style=\"text-align: right;\">\n",
        "      <th></th>\n",
        "      <th>msisdn</th>\n",
        "      <th>UP</th>\n",
        "      <th>DOWN</th>\n",
        "      <th>total</th>\n",
        "      <th>f</th>\n",
        "      <th>user_id</th>\n",
        "    </tr>\n",
        "  </thead>\n",
        "  <tbody>\n",
        "    <tr>\n",
        "      <th>1210910</th>\n",
        "      <td> 5510030449</td>\n",
        "      <td>     28298</td>\n",
        "      <td>     116375</td>\n",
        "      <td>     144673</td>\n",
        "      <td> 525510030449</td>\n",
        "      <td> 35b0b3a9bfad</td>\n",
        "    </tr>\n",
        "    <tr>\n",
        "      <th>1548319</th>\n",
        "      <td> 5510031503</td>\n",
        "      <td>    151967</td>\n",
        "      <td>     465196</td>\n",
        "      <td>     617163</td>\n",
        "      <td> 525510031503</td>\n",
        "      <td> 0b326869b61c</td>\n",
        "    </tr>\n",
        "    <tr>\n",
        "      <th>680806 </th>\n",
        "      <td> 5510031757</td>\n",
        "      <td> 319135840</td>\n",
        "      <td> 1476893440</td>\n",
        "      <td> 1796029312</td>\n",
        "      <td> 525510031757</td>\n",
        "      <td> e7975e217f21</td>\n",
        "    </tr>\n",
        "  </tbody>\n",
        "</table>\n",
        "</div>"
       ],
       "metadata": {},
       "output_type": "pyout",
       "prompt_number": 199,
       "text": [
        "             msisdn         UP        DOWN       total             f  \\\n",
        "1210910  5510030449      28298      116375      144673  525510030449   \n",
        "1548319  5510031503     151967      465196      617163  525510031503   \n",
        "680806   5510031757  319135840  1476893440  1796029312  525510031757   \n",
        "\n",
        "              user_id  \n",
        "1210910  35b0b3a9bfad  \n",
        "1548319  0b326869b61c  \n",
        "680806   e7975e217f21  "
       ]
      }
     ],
     "prompt_number": 199
    },
    {
     "cell_type": "code",
     "collapsed": false,
     "input": [
      "print len(df_subset['msisdn'].unique())\n"
     ],
     "language": "python",
     "metadata": {
      "run_control": {
       "breakpoint": false
      }
     },
     "outputs": [
      {
       "output_type": "stream",
       "stream": "stdout",
       "text": [
        "99182\n"
       ]
      }
     ],
     "prompt_number": 200
    },
    {
     "cell_type": "code",
     "collapsed": false,
     "input": [
      "df_subset.drop(['f','msisdn'],1, inplace=True)  #(columns={'msisdn': 'user_id'}, inplace=True)"
     ],
     "language": "python",
     "metadata": {},
     "outputs": [],
     "prompt_number": 201
    },
    {
     "cell_type": "code",
     "collapsed": false,
     "input": [
      "df_subset.rename(columns={'UP': 'A','DOWN': 'B'}, inplace=True)"
     ],
     "language": "python",
     "metadata": {},
     "outputs": [],
     "prompt_number": 202
    },
    {
     "cell_type": "code",
     "collapsed": false,
     "input": [
      "df_subset.head(10)"
     ],
     "language": "python",
     "metadata": {
      "run_control": {
       "breakpoint": false
      }
     },
     "outputs": [
      {
       "html": [
        "<div style=\"max-height:1000px;max-width:1500px;overflow:auto;\">\n",
        "<table border=\"1\" class=\"dataframe\">\n",
        "  <thead>\n",
        "    <tr style=\"text-align: right;\">\n",
        "      <th></th>\n",
        "      <th>A</th>\n",
        "      <th>B</th>\n",
        "      <th>total</th>\n",
        "      <th>user_id</th>\n",
        "    </tr>\n",
        "  </thead>\n",
        "  <tbody>\n",
        "    <tr>\n",
        "      <th>1210910</th>\n",
        "      <td>     28298</td>\n",
        "      <td>     116375</td>\n",
        "      <td>     144673</td>\n",
        "      <td> 35b0b3a9bfad</td>\n",
        "    </tr>\n",
        "    <tr>\n",
        "      <th>1548319</th>\n",
        "      <td>    151967</td>\n",
        "      <td>     465196</td>\n",
        "      <td>     617163</td>\n",
        "      <td> 0b326869b61c</td>\n",
        "    </tr>\n",
        "    <tr>\n",
        "      <th>680806 </th>\n",
        "      <td> 319135840</td>\n",
        "      <td> 1476893440</td>\n",
        "      <td> 1796029312</td>\n",
        "      <td> e7975e217f21</td>\n",
        "    </tr>\n",
        "    <tr>\n",
        "      <th>100733 </th>\n",
        "      <td>  48498472</td>\n",
        "      <td>  245570000</td>\n",
        "      <td>  294068480</td>\n",
        "      <td> 2c13c22a50d8</td>\n",
        "    </tr>\n",
        "    <tr>\n",
        "      <th>1418173</th>\n",
        "      <td>     77511</td>\n",
        "      <td>     233601</td>\n",
        "      <td>     311112</td>\n",
        "      <td> d3b2f3712f8c</td>\n",
        "    </tr>\n",
        "    <tr>\n",
        "      <th>954660 </th>\n",
        "      <td>    210960</td>\n",
        "      <td>     655807</td>\n",
        "      <td>     866767</td>\n",
        "      <td> 2224e49c209a</td>\n",
        "    </tr>\n",
        "    <tr>\n",
        "      <th>725722 </th>\n",
        "      <td>  44890872</td>\n",
        "      <td>   75075056</td>\n",
        "      <td>  119965928</td>\n",
        "      <td> 9c33b643807a</td>\n",
        "    </tr>\n",
        "    <tr>\n",
        "      <th>1147028</th>\n",
        "      <td>    943764</td>\n",
        "      <td>    1926879</td>\n",
        "      <td>    2870643</td>\n",
        "      <td> 9d4a0cc19eef</td>\n",
        "    </tr>\n",
        "    <tr>\n",
        "      <th>1494267</th>\n",
        "      <td>   1471446</td>\n",
        "      <td>    4150392</td>\n",
        "      <td>    5621838</td>\n",
        "      <td> b65780acce3b</td>\n",
        "    </tr>\n",
        "    <tr>\n",
        "      <th>873607 </th>\n",
        "      <td>   2028552</td>\n",
        "      <td>    1968092</td>\n",
        "      <td>    3996644</td>\n",
        "      <td> e2f4da3a56b0</td>\n",
        "    </tr>\n",
        "  </tbody>\n",
        "</table>\n",
        "</div>"
       ],
       "metadata": {},
       "output_type": "pyout",
       "prompt_number": 203,
       "text": [
        "                 A           B       total       user_id\n",
        "1210910      28298      116375      144673  35b0b3a9bfad\n",
        "1548319     151967      465196      617163  0b326869b61c\n",
        "680806   319135840  1476893440  1796029312  e7975e217f21\n",
        "100733    48498472   245570000   294068480  2c13c22a50d8\n",
        "1418173      77511      233601      311112  d3b2f3712f8c\n",
        "954660      210960      655807      866767  2224e49c209a\n",
        "725722    44890872    75075056   119965928  9c33b643807a\n",
        "1147028     943764     1926879     2870643  9d4a0cc19eef\n",
        "1494267    1471446     4150392     5621838  b65780acce3b\n",
        "873607     2028552     1968092     3996644  e2f4da3a56b0"
       ]
      }
     ],
     "prompt_number": 203
    },
    {
     "cell_type": "code",
     "collapsed": false,
     "input": [
      "df_subset['rankA'] =df_subset['A'].apply(lambda x: np.int64((x/(400*1024*1024))))\n",
      "df_subset['rankB'] =df_subset['B'].apply(lambda x: np.int64((x/(400*1024*1024))))"
     ],
     "language": "python",
     "metadata": {},
     "outputs": [
      {
       "output_type": "stream",
       "stream": "stderr",
       "text": [
        "-c:2: SettingWithCopyWarning: A value is trying to be set on a copy of a slice from a DataFrame.\n",
        "Try using .loc[row_index,col_indexer] = value instead\n"
       ]
      }
     ],
     "prompt_number": 208
    },
    {
     "cell_type": "code",
     "collapsed": false,
     "input": [
      "df_subset[df_subset['rankA']>5].tail()"
     ],
     "language": "python",
     "metadata": {},
     "outputs": [
      {
       "html": [
        "<div style=\"max-height:1000px;max-width:1500px;overflow:auto;\">\n",
        "<table border=\"1\" class=\"dataframe\">\n",
        "  <thead>\n",
        "    <tr style=\"text-align: right;\">\n",
        "      <th></th>\n",
        "      <th>A</th>\n",
        "      <th>B</th>\n",
        "      <th>total</th>\n",
        "      <th>user_id</th>\n",
        "      <th>rankA</th>\n",
        "      <th>rankB</th>\n",
        "    </tr>\n",
        "  </thead>\n",
        "  <tbody>\n",
        "    <tr>\n",
        "      <th>110286</th>\n",
        "      <td> 3007804928</td>\n",
        "      <td> 15180872704</td>\n",
        "      <td> 18188677120</td>\n",
        "      <td> 993e0bccb39d</td>\n",
        "      <td> 7</td>\n",
        "      <td> 36</td>\n",
        "    </tr>\n",
        "    <tr>\n",
        "      <th>110528</th>\n",
        "      <td> 2837310208</td>\n",
        "      <td>  4577953792</td>\n",
        "      <td>  7415263744</td>\n",
        "      <td> 7ee0f24c2a4b</td>\n",
        "      <td> 6</td>\n",
        "      <td> 10</td>\n",
        "    </tr>\n",
        "    <tr>\n",
        "      <th>112047</th>\n",
        "      <td> 2539064576</td>\n",
        "      <td>  8599614464</td>\n",
        "      <td> 11138678784</td>\n",
        "      <td> 516e37c6df2b</td>\n",
        "      <td> 6</td>\n",
        "      <td> 20</td>\n",
        "    </tr>\n",
        "    <tr>\n",
        "      <th>113915</th>\n",
        "      <td> 2821019648</td>\n",
        "      <td> 10161573888</td>\n",
        "      <td> 12982593536</td>\n",
        "      <td> d55eef080f57</td>\n",
        "      <td> 6</td>\n",
        "      <td> 24</td>\n",
        "    </tr>\n",
        "    <tr>\n",
        "      <th>348622</th>\n",
        "      <td> 2557317120</td>\n",
        "      <td>  6372969472</td>\n",
        "      <td>  8930286592</td>\n",
        "      <td> 286f78742897</td>\n",
        "      <td> 6</td>\n",
        "      <td> 15</td>\n",
        "    </tr>\n",
        "  </tbody>\n",
        "</table>\n",
        "</div>"
       ],
       "metadata": {},
       "output_type": "pyout",
       "prompt_number": 211,
       "text": [
        "                 A            B        total       user_id  rankA  rankB\n",
        "110286  3007804928  15180872704  18188677120  993e0bccb39d      7     36\n",
        "110528  2837310208   4577953792   7415263744  7ee0f24c2a4b      6     10\n",
        "112047  2539064576   8599614464  11138678784  516e37c6df2b      6     20\n",
        "113915  2821019648  10161573888  12982593536  d55eef080f57      6     24\n",
        "348622  2557317120   6372969472   8930286592  286f78742897      6     15"
       ]
      }
     ],
     "prompt_number": 211
    },
    {
     "cell_type": "code",
     "collapsed": false,
     "input": [
      "df_subset.drop(['A','B','total'],1, inplace=True) "
     ],
     "language": "python",
     "metadata": {},
     "outputs": [],
     "prompt_number": 213
    },
    {
     "cell_type": "code",
     "collapsed": false,
     "input": [
      "df_subset.describe()"
     ],
     "language": "python",
     "metadata": {},
     "outputs": [
      {
       "html": [
        "<div style=\"max-height:1000px;max-width:1500px;overflow:auto;\">\n",
        "<table border=\"1\" class=\"dataframe\">\n",
        "  <thead>\n",
        "    <tr style=\"text-align: right;\">\n",
        "      <th></th>\n",
        "      <th>rankA</th>\n",
        "      <th>rankB</th>\n",
        "    </tr>\n",
        "  </thead>\n",
        "  <tbody>\n",
        "    <tr>\n",
        "      <th>count</th>\n",
        "      <td> 99182.000000</td>\n",
        "      <td> 99182.000000</td>\n",
        "    </tr>\n",
        "    <tr>\n",
        "      <th>mean</th>\n",
        "      <td>     0.054415</td>\n",
        "      <td>     0.506786</td>\n",
        "    </tr>\n",
        "    <tr>\n",
        "      <th>std</th>\n",
        "      <td>     0.313268</td>\n",
        "      <td>     2.069996</td>\n",
        "    </tr>\n",
        "    <tr>\n",
        "      <th>min</th>\n",
        "      <td>     0.000000</td>\n",
        "      <td>     0.000000</td>\n",
        "    </tr>\n",
        "    <tr>\n",
        "      <th>25%</th>\n",
        "      <td>     0.000000</td>\n",
        "      <td>     0.000000</td>\n",
        "    </tr>\n",
        "    <tr>\n",
        "      <th>50%</th>\n",
        "      <td>     0.000000</td>\n",
        "      <td>     0.000000</td>\n",
        "    </tr>\n",
        "    <tr>\n",
        "      <th>75%</th>\n",
        "      <td>     0.000000</td>\n",
        "      <td>     0.000000</td>\n",
        "    </tr>\n",
        "    <tr>\n",
        "      <th>max</th>\n",
        "      <td>     8.000000</td>\n",
        "      <td>    65.000000</td>\n",
        "    </tr>\n",
        "  </tbody>\n",
        "</table>\n",
        "</div>"
       ],
       "metadata": {},
       "output_type": "pyout",
       "prompt_number": 223,
       "text": [
        "              rankA         rankB\n",
        "count  99182.000000  99182.000000\n",
        "mean       0.054415      0.506786\n",
        "std        0.313268      2.069996\n",
        "min        0.000000      0.000000\n",
        "25%        0.000000      0.000000\n",
        "50%        0.000000      0.000000\n",
        "75%        0.000000      0.000000\n",
        "max        8.000000     65.000000"
       ]
      }
     ],
     "prompt_number": 223
    },
    {
     "cell_type": "code",
     "collapsed": false,
     "input": [
      "df_subset.sort(['rankA','rankB'],inplace=True,ascending=[0,0])"
     ],
     "language": "python",
     "metadata": {},
     "outputs": [],
     "prompt_number": 227
    },
    {
     "cell_type": "markdown",
     "metadata": {},
     "source": [
      "##Saving filtered session file\n",
      "(takes a good 10 minutes)"
     ]
    },
    {
     "cell_type": "code",
     "collapsed": false,
     "input": [
      "#file_name='/Users/nicolas/logs/nobackup/sessions23.pv.csv'\n",
      "fn_out='.'.join(file_name.split('.')[:-1])+'.a.csv'\n",
      "print 'saving to',fn_out\n",
      "df_subset.to_csv(fn_out, encoding='utf-8', index=False)\n",
      "!head -n 3 {fn_out}"
     ],
     "language": "python",
     "metadata": {
      "run_control": {
       "breakpoint": false
      }
     },
     "outputs": [
      {
       "output_type": "stream",
       "stream": "stdout",
       "text": [
        "saving to /Users/Nicolas/dev/data/RG30/rg30_201412.a.csv\n",
        "user_id,rankA,rankB\r\n",
        "d391ac3c792f,8,29\r\n",
        "c217842ea668,8,26\r\n"
       ]
      }
     ],
     "prompt_number": 228
    },
    {
     "cell_type": "code",
     "collapsed": false,
     "input": [
      "!tail -n 3 {fn_out}"
     ],
     "language": "python",
     "metadata": {
      "run_control": {
       "breakpoint": false
      }
     },
     "outputs": [
      {
       "output_type": "stream",
       "stream": "stdout",
       "text": [
        "8aadd1d4c6f4,0,0\r\n",
        "e97d59095cc4,0,0\r\n",
        "54cf890046af,0,0\r\n"
       ]
      }
     ],
     "prompt_number": 229
    },
    {
     "cell_type": "code",
     "collapsed": false,
     "input": [
      "#!gzip -f {fn_out}"
     ],
     "language": "python",
     "metadata": {
      "run_control": {
       "breakpoint": false
      }
     },
     "outputs": [],
     "prompt_number": 48
    },
    {
     "cell_type": "code",
     "collapsed": false,
     "input": [
      "df_session_f[df_session_f['user_id']==xx('525510031588')].tail(3)"
     ],
     "language": "python",
     "metadata": {
      "run_control": {
       "breakpoint": false
      }
     },
     "outputs": [
      {
       "html": [
        "<div style=\"max-height:1000px;max-width:1500px;overflow:auto;\">\n",
        "<table border=\"1\" class=\"dataframe\">\n",
        "  <thead>\n",
        "    <tr style=\"text-align: right;\">\n",
        "      <th></th>\n",
        "      <th>user_id</th>\n",
        "      <th>time</th>\n",
        "      <th>duration</th>\n",
        "      <th>ip</th>\n",
        "      <th>pv</th>\n",
        "      <th>variety</th>\n",
        "      <th>landpage</th>\n",
        "      <th>device</th>\n",
        "      <th>inbox</th>\n",
        "      <th>mymed</th>\n",
        "      <th>...</th>\n",
        "      <th>frien</th>\n",
        "      <th>info</th>\n",
        "      <th>media</th>\n",
        "      <th>uploa</th>\n",
        "      <th>avata</th>\n",
        "      <th>publi</th>\n",
        "      <th>help</th>\n",
        "      <th>dfamily</th>\n",
        "      <th>dversion</th>\n",
        "      <th>dmodel</th>\n",
        "    </tr>\n",
        "  </thead>\n",
        "  <tbody>\n",
        "    <tr>\n",
        "      <th>146</th>\n",
        "      <td> 76b91ea2858a</td>\n",
        "      <td> 2014-10-28 08:49:28</td>\n",
        "      <td>  294</td>\n",
        "      <td> a914eaf925fb</td>\n",
        "      <td> 13</td>\n",
        "      <td> 6</td>\n",
        "      <td> /home </td>\n",
        "      <td> Android 2.3.6</td>\n",
        "      <td> 1</td>\n",
        "      <td> 0</td>\n",
        "      <td>...</td>\n",
        "      <td> 1</td>\n",
        "      <td> 1</td>\n",
        "      <td> 1</td>\n",
        "      <td> 0</td>\n",
        "      <td> 0</td>\n",
        "      <td> 0</td>\n",
        "      <td> 0</td>\n",
        "      <td> Android</td>\n",
        "      <td> 2.3.6</td>\n",
        "      <td> (Alcatel ONE TOUCH 4010A,)</td>\n",
        "    </tr>\n",
        "    <tr>\n",
        "      <th>147</th>\n",
        "      <td> 76b91ea2858a</td>\n",
        "      <td> 2014-10-29 09:26:59</td>\n",
        "      <td> 3186</td>\n",
        "      <td> c68ab73e0392</td>\n",
        "      <td> 65</td>\n",
        "      <td> 5</td>\n",
        "      <td> /home </td>\n",
        "      <td> Android 2.3.6</td>\n",
        "      <td> 1</td>\n",
        "      <td> 0</td>\n",
        "      <td>...</td>\n",
        "      <td> 4</td>\n",
        "      <td> 3</td>\n",
        "      <td> 0</td>\n",
        "      <td> 0</td>\n",
        "      <td> 0</td>\n",
        "      <td> 0</td>\n",
        "      <td> 0</td>\n",
        "      <td> Android</td>\n",
        "      <td> 2.3.6</td>\n",
        "      <td> (Alcatel ONE TOUCH 4010A,)</td>\n",
        "    </tr>\n",
        "    <tr>\n",
        "      <th>148</th>\n",
        "      <td> 76b91ea2858a</td>\n",
        "      <td> 2014-10-30 10:06:20</td>\n",
        "      <td>  414</td>\n",
        "      <td> bb20b586fa97</td>\n",
        "      <td> 18</td>\n",
        "      <td> 1</td>\n",
        "      <td> /home </td>\n",
        "      <td> Android 2.3.6</td>\n",
        "      <td> 0</td>\n",
        "      <td> 0</td>\n",
        "      <td>...</td>\n",
        "      <td> 0</td>\n",
        "      <td> 0</td>\n",
        "      <td> 0</td>\n",
        "      <td> 0</td>\n",
        "      <td> 0</td>\n",
        "      <td> 0</td>\n",
        "      <td> 0</td>\n",
        "      <td> Android</td>\n",
        "      <td> 2.3.6</td>\n",
        "      <td> (Alcatel ONE TOUCH 4010A,)</td>\n",
        "    </tr>\n",
        "  </tbody>\n",
        "</table>\n",
        "<p>3 rows \u00d7 23 columns</p>\n",
        "</div>"
       ],
       "metadata": {},
       "output_type": "pyout",
       "prompt_number": 49,
       "text": [
        "          user_id                 time  duration            ip  pv  variety  \\\n",
        "146  76b91ea2858a  2014-10-28 08:49:28       294  a914eaf925fb  13        6   \n",
        "147  76b91ea2858a  2014-10-29 09:26:59      3186  c68ab73e0392  65        5   \n",
        "148  76b91ea2858a  2014-10-30 10:06:20       414  bb20b586fa97  18        1   \n",
        "\n",
        "    landpage         device  inbox  mymed  ...    frien  info  media  uploa  \\\n",
        "146   /home   Android 2.3.6      1      0  ...        1     1      1      0   \n",
        "147   /home   Android 2.3.6      1      0  ...        4     3      0      0   \n",
        "148   /home   Android 2.3.6      0      0  ...        0     0      0      0   \n",
        "\n",
        "     avata  publi  help  dfamily  dversion                      dmodel  \n",
        "146      0      0     0  Android     2.3.6  (Alcatel ONE TOUCH 4010A,)  \n",
        "147      0      0     0  Android     2.3.6  (Alcatel ONE TOUCH 4010A,)  \n",
        "148      0      0     0  Android     2.3.6  (Alcatel ONE TOUCH 4010A,)  \n",
        "\n",
        "[3 rows x 23 columns]"
       ]
      }
     ],
     "prompt_number": 49
    },
    {
     "cell_type": "code",
     "collapsed": false,
     "input": [],
     "language": "python",
     "metadata": {},
     "outputs": [],
     "prompt_number": 49
    },
    {
     "cell_type": "code",
     "collapsed": false,
     "input": [],
     "language": "python",
     "metadata": {},
     "outputs": [],
     "prompt_number": 49
    },
    {
     "cell_type": "markdown",
     "metadata": {},
     "source": [
      "##Save the user file"
     ]
    },
    {
     "cell_type": "code",
     "collapsed": false,
     "input": [
      "df_user_short=df_user_f\n",
      "df_user_short=df_user_short.drop(['login','web', 'sms','mms', 'oid','fb_url','tw_url'],1)\n",
      "df_user_short.head(3)"
     ],
     "language": "python",
     "metadata": {
      "run_control": {
       "breakpoint": false
      }
     },
     "outputs": [
      {
       "html": [
        "<div style=\"max-height:1000px;max-width:1500px;overflow:auto;\">\n",
        "<table border=\"1\" class=\"dataframe\">\n",
        "  <thead>\n",
        "    <tr style=\"text-align: right;\">\n",
        "      <th></th>\n",
        "      <th>user_id</th>\n",
        "      <th>joined</th>\n",
        "      <th>last_seen</th>\n",
        "      <th>disk_usage</th>\n",
        "      <th>state</th>\n",
        "      <th>friends</th>\n",
        "      <th>invites</th>\n",
        "      <th>rcvdInv</th>\n",
        "      <th>rejectd</th>\n",
        "      <th>sim</th>\n",
        "      <th>twFrs</th>\n",
        "      <th>fbFrs</th>\n",
        "      <th>yt</th>\n",
        "      <th>pi</th>\n",
        "      <th>fk</th>\n",
        "      <th>area</th>\n",
        "    </tr>\n",
        "  </thead>\n",
        "  <tbody>\n",
        "    <tr>\n",
        "      <th>4 </th>\n",
        "      <td> 11710e3b7a19</td>\n",
        "      <td>2009-12-03 23:33:11</td>\n",
        "      <td>2014-12-12 02:22:01</td>\n",
        "      <td> 11834402</td>\n",
        "      <td> 1</td>\n",
        "      <td> 283</td>\n",
        "      <td> 0</td>\n",
        "      <td> 165</td>\n",
        "      <td> 12</td>\n",
        "      <td>NaN</td>\n",
        "      <td>  0</td>\n",
        "      <td>NaN</td>\n",
        "      <td>NaN</td>\n",
        "      <td>NaN</td>\n",
        "      <td>NaN</td>\n",
        "      <td> 6fe0d4</td>\n",
        "    </tr>\n",
        "    <tr>\n",
        "      <th>9 </th>\n",
        "      <td> 71f7ee50bffd</td>\n",
        "      <td>2009-12-22 23:17:20</td>\n",
        "      <td>2014-08-16 01:12:44</td>\n",
        "      <td> 12268773</td>\n",
        "      <td> 1</td>\n",
        "      <td>  33</td>\n",
        "      <td> 6</td>\n",
        "      <td> 175</td>\n",
        "      <td>  0</td>\n",
        "      <td>NaN</td>\n",
        "      <td> 73</td>\n",
        "      <td>NaN</td>\n",
        "      <td>  1</td>\n",
        "      <td>NaN</td>\n",
        "      <td>NaN</td>\n",
        "      <td> 6fe0d4</td>\n",
        "    </tr>\n",
        "    <tr>\n",
        "      <th>23</th>\n",
        "      <td> d9c9041178a1</td>\n",
        "      <td>2010-01-21 21:36:31</td>\n",
        "      <td>2014-12-23 01:37:09</td>\n",
        "      <td> 51281969</td>\n",
        "      <td> 1</td>\n",
        "      <td> 349</td>\n",
        "      <td> 0</td>\n",
        "      <td>  17</td>\n",
        "      <td> 94</td>\n",
        "      <td>NaN</td>\n",
        "      <td>NaN</td>\n",
        "      <td>NaN</td>\n",
        "      <td>NaN</td>\n",
        "      <td>NaN</td>\n",
        "      <td>NaN</td>\n",
        "      <td> 5dad96</td>\n",
        "    </tr>\n",
        "  </tbody>\n",
        "</table>\n",
        "</div>"
       ],
       "metadata": {},
       "output_type": "pyout",
       "prompt_number": 50,
       "text": [
        "         user_id              joined           last_seen  disk_usage  state  \\\n",
        "4   11710e3b7a19 2009-12-03 23:33:11 2014-12-12 02:22:01    11834402      1   \n",
        "9   71f7ee50bffd 2009-12-22 23:17:20 2014-08-16 01:12:44    12268773      1   \n",
        "23  d9c9041178a1 2010-01-21 21:36:31 2014-12-23 01:37:09    51281969      1   \n",
        "\n",
        "    friends  invites  rcvdInv  rejectd  sim  twFrs  fbFrs  yt  pi  fk    area  \n",
        "4       283        0      165       12  NaN      0    NaN NaN NaN NaN  6fe0d4  \n",
        "9        33        6      175        0  NaN     73    NaN   1 NaN NaN  6fe0d4  \n",
        "23      349        0       17       94  NaN    NaN    NaN NaN NaN NaN  5dad96  "
       ]
      }
     ],
     "prompt_number": 50
    },
    {
     "cell_type": "code",
     "collapsed": false,
     "input": [
      "fn_user_out='/Users/Nicolas/dev/data/users.a.csv'\n",
      "print 'saving to',fn_user_out\n",
      "df_user_short.to_csv(fn_user_out, encoding='utf-8', index=False)"
     ],
     "language": "python",
     "metadata": {
      "run_control": {
       "breakpoint": false
      }
     },
     "outputs": [
      {
       "output_type": "stream",
       "stream": "stdout",
       "text": [
        "saving to /Users/Nicolas/dev/data/users.a.csv\n"
       ]
      }
     ],
     "prompt_number": 51
    },
    {
     "cell_type": "code",
     "collapsed": false,
     "input": [],
     "language": "python",
     "metadata": {},
     "outputs": []
    },
    {
     "cell_type": "markdown",
     "metadata": {},
     "source": [
      "## Inactive users"
     ]
    },
    {
     "cell_type": "code",
     "collapsed": false,
     "input": [
      "df_inactive=df_user_f[df_user_f['last_seen']<'2014-07-01']"
     ],
     "language": "python",
     "metadata": {
      "run_control": {
       "breakpoint": false
      }
     },
     "outputs": [],
     "prompt_number": 121
    },
    {
     "cell_type": "code",
     "collapsed": false,
     "input": [
      "print len(df_inactive['msisdn'].unique())\n",
      "df_inactive['YYMM_joined'] =df_inactive['joined'].apply(lambda x: '%d-%02d'%(x.year,x.month))\n",
      "df_inactive.head(4)"
     ],
     "language": "python",
     "metadata": {
      "run_control": {
       "breakpoint": false
      }
     },
     "outputs": [
      {
       "output_type": "stream",
       "stream": "stdout",
       "text": [
        "2524\n"
       ]
      },
      {
       "html": [
        "<div style=\"max-height:1000px;max-width:1500px;overflow:auto;\">\n",
        "<table border=\"1\" class=\"dataframe\">\n",
        "  <thead>\n",
        "    <tr style=\"text-align: right;\">\n",
        "      <th></th>\n",
        "      <th>user_id</th>\n",
        "      <th>msisdn</th>\n",
        "      <th>oid</th>\n",
        "      <th>joined</th>\n",
        "      <th>last_seen</th>\n",
        "      <th>disk_usage</th>\n",
        "      <th>state</th>\n",
        "      <th>friends</th>\n",
        "      <th>invites</th>\n",
        "      <th>rcvdInv</th>\n",
        "      <th>...</th>\n",
        "      <th>web</th>\n",
        "      <th>twFrs</th>\n",
        "      <th>tw_url</th>\n",
        "      <th>fbFrs</th>\n",
        "      <th>fb_url</th>\n",
        "      <th>yt</th>\n",
        "      <th>pi</th>\n",
        "      <th>fk</th>\n",
        "      <th>area</th>\n",
        "      <th>YYMM_joined</th>\n",
        "    </tr>\n",
        "  </thead>\n",
        "  <tbody>\n",
        "    <tr>\n",
        "      <th>208 </th>\n",
        "      <td> 1659</td>\n",
        "      <td> d7a0424cccb2</td>\n",
        "      <td> 10</td>\n",
        "      <td>2010-02-15 18:14:53</td>\n",
        "      <td>2013-02-17 05:52:57</td>\n",
        "      <td> 0</td>\n",
        "      <td> 1</td>\n",
        "      <td> 1</td>\n",
        "      <td> 0</td>\n",
        "      <td> 9</td>\n",
        "      <td>...</td>\n",
        "      <td>NaN</td>\n",
        "      <td> 11</td>\n",
        "      <td> http://twitter.com/emanolo</td>\n",
        "      <td>NaN</td>\n",
        "      <td> NaN</td>\n",
        "      <td>  1</td>\n",
        "      <td>NaN</td>\n",
        "      <td>NaN</td>\n",
        "      <td> e2e4ef</td>\n",
        "      <td> 2010-02</td>\n",
        "    </tr>\n",
        "    <tr>\n",
        "      <th>650 </th>\n",
        "      <td> 3174</td>\n",
        "      <td> 10a764e7af50</td>\n",
        "      <td> 10</td>\n",
        "      <td>2010-03-25 23:07:14</td>\n",
        "      <td>2010-03-25 23:42:46</td>\n",
        "      <td> 0</td>\n",
        "      <td> 1</td>\n",
        "      <td> 0</td>\n",
        "      <td> 0</td>\n",
        "      <td> 2</td>\n",
        "      <td>...</td>\n",
        "      <td>NaN</td>\n",
        "      <td>  0</td>\n",
        "      <td>  http://twitter.com/mem014</td>\n",
        "      <td>NaN</td>\n",
        "      <td> NaN</td>\n",
        "      <td>NaN</td>\n",
        "      <td>NaN</td>\n",
        "      <td>NaN</td>\n",
        "      <td> 5dad96</td>\n",
        "      <td> 2010-03</td>\n",
        "    </tr>\n",
        "    <tr>\n",
        "      <th>1320</th>\n",
        "      <td> 5405</td>\n",
        "      <td> 6fc86fd1fa8d</td>\n",
        "      <td> 10</td>\n",
        "      <td>2010-04-15 04:45:46</td>\n",
        "      <td>2010-04-15 04:54:56</td>\n",
        "      <td> 0</td>\n",
        "      <td> 1</td>\n",
        "      <td> 1</td>\n",
        "      <td> 1</td>\n",
        "      <td> 3</td>\n",
        "      <td>...</td>\n",
        "      <td>NaN</td>\n",
        "      <td>NaN</td>\n",
        "      <td>                        NaN</td>\n",
        "      <td>NaN</td>\n",
        "      <td> NaN</td>\n",
        "      <td>NaN</td>\n",
        "      <td>NaN</td>\n",
        "      <td>NaN</td>\n",
        "      <td> 5dad96</td>\n",
        "      <td> 2010-04</td>\n",
        "    </tr>\n",
        "    <tr>\n",
        "      <th>2031</th>\n",
        "      <td> 7725</td>\n",
        "      <td> 7d5cc17cff8c</td>\n",
        "      <td> 10</td>\n",
        "      <td>2010-05-11 18:50:35</td>\n",
        "      <td>2014-06-30 05:05:36</td>\n",
        "      <td> 0</td>\n",
        "      <td> 1</td>\n",
        "      <td> 0</td>\n",
        "      <td> 0</td>\n",
        "      <td> 2</td>\n",
        "      <td>...</td>\n",
        "      <td>NaN</td>\n",
        "      <td>NaN</td>\n",
        "      <td>                        NaN</td>\n",
        "      <td>NaN</td>\n",
        "      <td> NaN</td>\n",
        "      <td>NaN</td>\n",
        "      <td>NaN</td>\n",
        "      <td>NaN</td>\n",
        "      <td> 5dad96</td>\n",
        "      <td> 2010-05</td>\n",
        "    </tr>\n",
        "  </tbody>\n",
        "</table>\n",
        "<p>4 rows \u00d7 25 columns</p>\n",
        "</div>"
       ],
       "metadata": {},
       "output_type": "pyout",
       "prompt_number": 122,
       "text": [
        "      user_id        msisdn  oid              joined           last_seen  \\\n",
        "208      1659  d7a0424cccb2   10 2010-02-15 18:14:53 2013-02-17 05:52:57   \n",
        "650      3174  10a764e7af50   10 2010-03-25 23:07:14 2010-03-25 23:42:46   \n",
        "1320     5405  6fc86fd1fa8d   10 2010-04-15 04:45:46 2010-04-15 04:54:56   \n",
        "2031     7725  7d5cc17cff8c   10 2010-05-11 18:50:35 2014-06-30 05:05:36   \n",
        "\n",
        "      disk_usage  state  friends  invites  rcvdInv   ...     web  twFrs  \\\n",
        "208            0      1        1        0        9   ...     NaN     11   \n",
        "650            0      1        0        0        2   ...     NaN      0   \n",
        "1320           0      1        1        1        3   ...     NaN    NaN   \n",
        "2031           0      1        0        0        2   ...     NaN    NaN   \n",
        "\n",
        "                          tw_url  fbFrs  fb_url  yt  pi  fk    area  \\\n",
        "208   http://twitter.com/emanolo    NaN     NaN   1 NaN NaN  e2e4ef   \n",
        "650    http://twitter.com/mem014    NaN     NaN NaN NaN NaN  5dad96   \n",
        "1320                         NaN    NaN     NaN NaN NaN NaN  5dad96   \n",
        "2031                         NaN    NaN     NaN NaN NaN NaN  5dad96   \n",
        "\n",
        "     YYMM_joined  \n",
        "208      2010-02  \n",
        "650      2010-03  \n",
        "1320     2010-04  \n",
        "2031     2010-05  \n",
        "\n",
        "[4 rows x 25 columns]"
       ]
      }
     ],
     "prompt_number": 122
    },
    {
     "cell_type": "code",
     "collapsed": false,
     "input": [
      "dd=df_inactive[(df_inactive['last_seen']>'2014-06-01') & (df_inactive['joined']>'2012-06-01')]\n",
      "dd=dd[['user_id','last_seen','YYMM_joined']].groupby(['YYMM_joined']).agg(['count'])\n",
      "import matplotlib.pyplot as plt\n",
      "plt.figure(); \n",
      "dd['user_id'].tail(12)\n"
     ],
     "language": "python",
     "metadata": {
      "run_control": {
       "breakpoint": false
      }
     },
     "outputs": [
      {
       "html": [
        "<div style=\"max-height:1000px;max-width:1500px;overflow:auto;\">\n",
        "<table border=\"1\" class=\"dataframe\">\n",
        "  <thead>\n",
        "    <tr style=\"text-align: right;\">\n",
        "      <th></th>\n",
        "      <th>count</th>\n",
        "    </tr>\n",
        "    <tr>\n",
        "      <th>YYMM_joined</th>\n",
        "      <th></th>\n",
        "    </tr>\n",
        "  </thead>\n",
        "  <tbody>\n",
        "    <tr>\n",
        "      <th>2013-08</th>\n",
        "      <td> 13</td>\n",
        "    </tr>\n",
        "    <tr>\n",
        "      <th>2013-09</th>\n",
        "      <td> 11</td>\n",
        "    </tr>\n",
        "    <tr>\n",
        "      <th>2013-10</th>\n",
        "      <td>  9</td>\n",
        "    </tr>\n",
        "    <tr>\n",
        "      <th>2013-11</th>\n",
        "      <td> 14</td>\n",
        "    </tr>\n",
        "    <tr>\n",
        "      <th>2013-12</th>\n",
        "      <td> 18</td>\n",
        "    </tr>\n",
        "    <tr>\n",
        "      <th>2014-01</th>\n",
        "      <td> 12</td>\n",
        "    </tr>\n",
        "    <tr>\n",
        "      <th>2014-02</th>\n",
        "      <td> 28</td>\n",
        "    </tr>\n",
        "    <tr>\n",
        "      <th>2014-03</th>\n",
        "      <td> 21</td>\n",
        "    </tr>\n",
        "    <tr>\n",
        "      <th>2014-04</th>\n",
        "      <td> 17</td>\n",
        "    </tr>\n",
        "    <tr>\n",
        "      <th>2014-05</th>\n",
        "      <td> 41</td>\n",
        "    </tr>\n",
        "    <tr>\n",
        "      <th>2014-06</th>\n",
        "      <td> 93</td>\n",
        "    </tr>\n",
        "    <tr>\n",
        "      <th>2014-12</th>\n",
        "      <td>  1</td>\n",
        "    </tr>\n",
        "  </tbody>\n",
        "</table>\n",
        "</div>"
       ],
       "metadata": {},
       "output_type": "pyout",
       "prompt_number": 123,
       "text": [
        "             count\n",
        "YYMM_joined       \n",
        "2013-08         13\n",
        "2013-09         11\n",
        "2013-10          9\n",
        "2013-11         14\n",
        "2013-12         18\n",
        "2014-01         12\n",
        "2014-02         28\n",
        "2014-03         21\n",
        "2014-04         17\n",
        "2014-05         41\n",
        "2014-06         93\n",
        "2014-12          1"
       ]
      }
     ],
     "prompt_number": 123
    },
    {
     "cell_type": "code",
     "collapsed": false,
     "input": [
      "df_active=df_user[df_user['last_seen']>'2014-07-01']\n",
      "df_active['YYMM_joined'] =df_active['joined'].apply(lambda x: '%d-%02d'%(x.year,x.month))\n"
     ],
     "language": "python",
     "metadata": {
      "run_control": {
       "breakpoint": false
      }
     },
     "outputs": [],
     "prompt_number": 77
    },
    {
     "cell_type": "code",
     "collapsed": false,
     "input": [
      "dd=df_active[['user_id','last_seen','YYMM_joined']].groupby(['YYMM_joined']).agg(['count'])\n",
      "dd['user_id']"
     ],
     "language": "python",
     "metadata": {
      "run_control": {
       "breakpoint": false
      }
     },
     "outputs": [
      {
       "html": [
        "<div style=\"max-height:1000px;max-width:1500px;overflow:auto;\">\n",
        "<table border=\"1\" class=\"dataframe\">\n",
        "  <thead>\n",
        "    <tr style=\"text-align: right;\">\n",
        "      <th></th>\n",
        "      <th>count</th>\n",
        "    </tr>\n",
        "    <tr>\n",
        "      <th>YYMM_joined</th>\n",
        "      <th></th>\n",
        "    </tr>\n",
        "  </thead>\n",
        "  <tbody>\n",
        "    <tr>\n",
        "      <th>2009-12</th>\n",
        "      <td>     2</td>\n",
        "    </tr>\n",
        "    <tr>\n",
        "      <th>2010-01</th>\n",
        "      <td>     8</td>\n",
        "    </tr>\n",
        "    <tr>\n",
        "      <th>2010-02</th>\n",
        "      <td>    11</td>\n",
        "    </tr>\n",
        "    <tr>\n",
        "      <th>2010-03</th>\n",
        "      <td>    12</td>\n",
        "    </tr>\n",
        "    <tr>\n",
        "      <th>2010-04</th>\n",
        "      <td>    29</td>\n",
        "    </tr>\n",
        "    <tr>\n",
        "      <th>2010-05</th>\n",
        "      <td>    23</td>\n",
        "    </tr>\n",
        "    <tr>\n",
        "      <th>2010-06</th>\n",
        "      <td>    18</td>\n",
        "    </tr>\n",
        "    <tr>\n",
        "      <th>2010-07</th>\n",
        "      <td>    21</td>\n",
        "    </tr>\n",
        "    <tr>\n",
        "      <th>2010-08</th>\n",
        "      <td>    16</td>\n",
        "    </tr>\n",
        "    <tr>\n",
        "      <th>2010-09</th>\n",
        "      <td>    88</td>\n",
        "    </tr>\n",
        "    <tr>\n",
        "      <th>2010-10</th>\n",
        "      <td>    77</td>\n",
        "    </tr>\n",
        "    <tr>\n",
        "      <th>2010-11</th>\n",
        "      <td>    32</td>\n",
        "    </tr>\n",
        "    <tr>\n",
        "      <th>2010-12</th>\n",
        "      <td>    32</td>\n",
        "    </tr>\n",
        "    <tr>\n",
        "      <th>2011-01</th>\n",
        "      <td>    41</td>\n",
        "    </tr>\n",
        "    <tr>\n",
        "      <th>2011-02</th>\n",
        "      <td>    65</td>\n",
        "    </tr>\n",
        "    <tr>\n",
        "      <th>2011-03</th>\n",
        "      <td>    56</td>\n",
        "    </tr>\n",
        "    <tr>\n",
        "      <th>2011-04</th>\n",
        "      <td>    62</td>\n",
        "    </tr>\n",
        "    <tr>\n",
        "      <th>2011-05</th>\n",
        "      <td>    89</td>\n",
        "    </tr>\n",
        "    <tr>\n",
        "      <th>2011-06</th>\n",
        "      <td>   244</td>\n",
        "    </tr>\n",
        "    <tr>\n",
        "      <th>2011-07</th>\n",
        "      <td>   217</td>\n",
        "    </tr>\n",
        "    <tr>\n",
        "      <th>2011-08</th>\n",
        "      <td>   603</td>\n",
        "    </tr>\n",
        "    <tr>\n",
        "      <th>2011-09</th>\n",
        "      <td>  2343</td>\n",
        "    </tr>\n",
        "    <tr>\n",
        "      <th>2011-10</th>\n",
        "      <td>   674</td>\n",
        "    </tr>\n",
        "    <tr>\n",
        "      <th>2011-11</th>\n",
        "      <td>   322</td>\n",
        "    </tr>\n",
        "    <tr>\n",
        "      <th>2011-12</th>\n",
        "      <td>   394</td>\n",
        "    </tr>\n",
        "    <tr>\n",
        "      <th>2012-01</th>\n",
        "      <td>   436</td>\n",
        "    </tr>\n",
        "    <tr>\n",
        "      <th>2012-02</th>\n",
        "      <td>   436</td>\n",
        "    </tr>\n",
        "    <tr>\n",
        "      <th>2012-03</th>\n",
        "      <td>   734</td>\n",
        "    </tr>\n",
        "    <tr>\n",
        "      <th>2012-04</th>\n",
        "      <td>  1179</td>\n",
        "    </tr>\n",
        "    <tr>\n",
        "      <th>2012-05</th>\n",
        "      <td>  1353</td>\n",
        "    </tr>\n",
        "    <tr>\n",
        "      <th>2012-06</th>\n",
        "      <td>  1321</td>\n",
        "    </tr>\n",
        "    <tr>\n",
        "      <th>2012-07</th>\n",
        "      <td>  1397</td>\n",
        "    </tr>\n",
        "    <tr>\n",
        "      <th>2012-08</th>\n",
        "      <td>  1295</td>\n",
        "    </tr>\n",
        "    <tr>\n",
        "      <th>2012-09</th>\n",
        "      <td>  1327</td>\n",
        "    </tr>\n",
        "    <tr>\n",
        "      <th>2012-10</th>\n",
        "      <td>  1675</td>\n",
        "    </tr>\n",
        "    <tr>\n",
        "      <th>2012-11</th>\n",
        "      <td>  1700</td>\n",
        "    </tr>\n",
        "    <tr>\n",
        "      <th>2012-12</th>\n",
        "      <td>  1953</td>\n",
        "    </tr>\n",
        "    <tr>\n",
        "      <th>2013-01</th>\n",
        "      <td>  3010</td>\n",
        "    </tr>\n",
        "    <tr>\n",
        "      <th>2013-02</th>\n",
        "      <td>  3056</td>\n",
        "    </tr>\n",
        "    <tr>\n",
        "      <th>2013-03</th>\n",
        "      <td>  3661</td>\n",
        "    </tr>\n",
        "    <tr>\n",
        "      <th>2013-04</th>\n",
        "      <td>  3875</td>\n",
        "    </tr>\n",
        "    <tr>\n",
        "      <th>2013-05</th>\n",
        "      <td>  5034</td>\n",
        "    </tr>\n",
        "    <tr>\n",
        "      <th>2013-06</th>\n",
        "      <td>  5121</td>\n",
        "    </tr>\n",
        "    <tr>\n",
        "      <th>2013-07</th>\n",
        "      <td>  6720</td>\n",
        "    </tr>\n",
        "    <tr>\n",
        "      <th>2013-08</th>\n",
        "      <td>  7127</td>\n",
        "    </tr>\n",
        "    <tr>\n",
        "      <th>2013-09</th>\n",
        "      <td>  6718</td>\n",
        "    </tr>\n",
        "    <tr>\n",
        "      <th>2013-10</th>\n",
        "      <td>  7584</td>\n",
        "    </tr>\n",
        "    <tr>\n",
        "      <th>2013-11</th>\n",
        "      <td>  8513</td>\n",
        "    </tr>\n",
        "    <tr>\n",
        "      <th>2013-12</th>\n",
        "      <td>  9496</td>\n",
        "    </tr>\n",
        "    <tr>\n",
        "      <th>2014-01</th>\n",
        "      <td> 11828</td>\n",
        "    </tr>\n",
        "    <tr>\n",
        "      <th>2014-02</th>\n",
        "      <td> 12178</td>\n",
        "    </tr>\n",
        "    <tr>\n",
        "      <th>2014-03</th>\n",
        "      <td> 13910</td>\n",
        "    </tr>\n",
        "    <tr>\n",
        "      <th>2014-04</th>\n",
        "      <td> 12967</td>\n",
        "    </tr>\n",
        "    <tr>\n",
        "      <th>2014-05</th>\n",
        "      <td> 15888</td>\n",
        "    </tr>\n",
        "    <tr>\n",
        "      <th>2014-06</th>\n",
        "      <td> 18730</td>\n",
        "    </tr>\n",
        "    <tr>\n",
        "      <th>2014-07</th>\n",
        "      <td> 31786</td>\n",
        "    </tr>\n",
        "    <tr>\n",
        "      <th>2014-08</th>\n",
        "      <td> 32068</td>\n",
        "    </tr>\n",
        "    <tr>\n",
        "      <th>2014-09</th>\n",
        "      <td> 28440</td>\n",
        "    </tr>\n",
        "    <tr>\n",
        "      <th>2014-10</th>\n",
        "      <td> 28350</td>\n",
        "    </tr>\n",
        "    <tr>\n",
        "      <th>2014-11</th>\n",
        "      <td>  9618</td>\n",
        "    </tr>\n",
        "  </tbody>\n",
        "</table>\n",
        "</div>"
       ],
       "metadata": {},
       "output_type": "pyout",
       "prompt_number": 78,
       "text": [
        "             count\n",
        "YYMM_joined       \n",
        "2009-12          2\n",
        "2010-01          8\n",
        "2010-02         11\n",
        "2010-03         12\n",
        "2010-04         29\n",
        "2010-05         23\n",
        "2010-06         18\n",
        "2010-07         21\n",
        "2010-08         16\n",
        "2010-09         88\n",
        "2010-10         77\n",
        "2010-11         32\n",
        "2010-12         32\n",
        "2011-01         41\n",
        "2011-02         65\n",
        "2011-03         56\n",
        "2011-04         62\n",
        "2011-05         89\n",
        "2011-06        244\n",
        "2011-07        217\n",
        "2011-08        603\n",
        "2011-09       2343\n",
        "2011-10        674\n",
        "2011-11        322\n",
        "2011-12        394\n",
        "2012-01        436\n",
        "2012-02        436\n",
        "2012-03        734\n",
        "2012-04       1179\n",
        "2012-05       1353\n",
        "2012-06       1321\n",
        "2012-07       1397\n",
        "2012-08       1295\n",
        "2012-09       1327\n",
        "2012-10       1675\n",
        "2012-11       1700\n",
        "2012-12       1953\n",
        "2013-01       3010\n",
        "2013-02       3056\n",
        "2013-03       3661\n",
        "2013-04       3875\n",
        "2013-05       5034\n",
        "2013-06       5121\n",
        "2013-07       6720\n",
        "2013-08       7127\n",
        "2013-09       6718\n",
        "2013-10       7584\n",
        "2013-11       8513\n",
        "2013-12       9496\n",
        "2014-01      11828\n",
        "2014-02      12178\n",
        "2014-03      13910\n",
        "2014-04      12967\n",
        "2014-05      15888\n",
        "2014-06      18730\n",
        "2014-07      31786\n",
        "2014-08      32068\n",
        "2014-09      28440\n",
        "2014-10      28350\n",
        "2014-11       9618"
       ]
      }
     ],
     "prompt_number": 78
    },
    {
     "cell_type": "code",
     "collapsed": false,
     "input": [
      "# should be able to find some records\n",
      "df_user_f[df_user_f['msisdn']==xx('525540448192')].head(3)"
     ],
     "language": "python",
     "metadata": {
      "run_control": {
       "breakpoint": false
      }
     },
     "outputs": [
      {
       "html": [
        "<div style=\"max-height:1000px;max-width:1500px;overflow:auto;\">\n",
        "<table border=\"1\" class=\"dataframe\">\n",
        "  <thead>\n",
        "    <tr style=\"text-align: right;\">\n",
        "      <th></th>\n",
        "      <th>user_id</th>\n",
        "      <th>msisdn</th>\n",
        "      <th>oid</th>\n",
        "      <th>joined</th>\n",
        "      <th>last_seen</th>\n",
        "      <th>disk_usage</th>\n",
        "      <th>state</th>\n",
        "      <th>friends</th>\n",
        "      <th>invites</th>\n",
        "      <th>rcvdInv</th>\n",
        "      <th>...</th>\n",
        "      <th>login</th>\n",
        "      <th>web</th>\n",
        "      <th>twFrs</th>\n",
        "      <th>tw_url</th>\n",
        "      <th>fbFrs</th>\n",
        "      <th>fb_url</th>\n",
        "      <th>yt</th>\n",
        "      <th>pi</th>\n",
        "      <th>fk</th>\n",
        "      <th>area</th>\n",
        "    </tr>\n",
        "  </thead>\n",
        "  <tbody>\n",
        "    <tr>\n",
        "      <th>188</th>\n",
        "      <td> 1574</td>\n",
        "      <td> d41c93742d16</td>\n",
        "      <td> 10</td>\n",
        "      <td>2010-02-13 05:08:28</td>\n",
        "      <td>2015-01-09 04:07:53</td>\n",
        "      <td> 0</td>\n",
        "      <td> 1</td>\n",
        "      <td> 38</td>\n",
        "      <td> 0</td>\n",
        "      <td> 0</td>\n",
        "      <td>...</td>\n",
        "      <td>NaN</td>\n",
        "      <td>NaN</td>\n",
        "      <td>NaN</td>\n",
        "      <td> NaN</td>\n",
        "      <td>NaN</td>\n",
        "      <td> NaN</td>\n",
        "      <td>NaN</td>\n",
        "      <td>NaN</td>\n",
        "      <td>NaN</td>\n",
        "      <td> 4916e3</td>\n",
        "    </tr>\n",
        "  </tbody>\n",
        "</table>\n",
        "<p>1 rows \u00d7 24 columns</p>\n",
        "</div>"
       ],
       "metadata": {},
       "output_type": "pyout",
       "prompt_number": 128,
       "text": [
        "     user_id        msisdn  oid              joined           last_seen  \\\n",
        "188     1574  d41c93742d16   10 2010-02-13 05:08:28 2015-01-09 04:07:53   \n",
        "\n",
        "     disk_usage  state  friends  invites  rcvdInv   ...     login  web  twFrs  \\\n",
        "188           0      1       38        0        0   ...       NaN  NaN    NaN   \n",
        "\n",
        "     tw_url  fbFrs  fb_url  yt  pi  fk    area  \n",
        "188     NaN    NaN     NaN NaN NaN NaN  4916e3  \n",
        "\n",
        "[1 rows x 24 columns]"
       ]
      }
     ],
     "prompt_number": 128
    },
    {
     "cell_type": "code",
     "collapsed": false,
     "input": [
      "!head -n 5 {fn_out}"
     ],
     "language": "python",
     "metadata": {
      "run_control": {
       "breakpoint": false
      }
     },
     "outputs": [
      {
       "output_type": "stream",
       "stream": "stdout",
       "text": [
        "user_id,joined,last_seen,disk_usage,state,friends,invites,rcvdInv,rejectd,sim,twFrs,fbFrs,yt,pi,fk,area\r\n",
        "11710e3b7a19,2009-12-03 23:33:11,2014-12-12 02:22:01,11834402,1,283.0,0.0,165.0,12.0,,0.0,,,,,6fe0d4\r\n",
        "71f7ee50bffd,2009-12-22 23:17:20,2014-08-16 01:12:44,12268773,1,33.0,6.0,175.0,0.0,,73.0,,1.0,,,6fe0d4\r\n",
        "d9c9041178a1,2010-01-21 21:36:31,2014-12-23 01:37:09,51281969,1,349.0,0.0,17.0,94.0,,,,,,,5dad96\r\n",
        "3dbb7b3d89a3,2010-01-25 23:50:28,2014-11-06 23:15:43,1099,1,18.0,4.0,135.0,8.0,,,,,,,5dad96\r\n"
       ]
      }
     ],
     "prompt_number": 131
    },
    {
     "cell_type": "code",
     "collapsed": false,
     "input": [
      "!gzip -f {fn_out}"
     ],
     "language": "python",
     "metadata": {
      "run_control": {
       "breakpoint": false
      }
     },
     "outputs": [],
     "prompt_number": 27
    },
    {
     "cell_type": "code",
     "collapsed": false,
     "input": [
      "df_user_short[df_user_short['joined']>'2014-07'].info()"
     ],
     "language": "python",
     "metadata": {
      "run_control": {
       "breakpoint": false
      }
     },
     "outputs": [
      {
       "output_type": "stream",
       "stream": "stdout",
       "text": [
        "<class 'pandas.core.frame.DataFrame'>\n",
        "Int64Index: 113300 entries, 127619 to 1206350\n",
        "Data columns (total 16 columns):\n",
        "user_id       113300 non-null object\n",
        "joined        113300 non-null datetime64[ns]\n",
        "last_seen     111795 non-null datetime64[ns]\n",
        "disk_usage    113300 non-null int64\n",
        "state         113300 non-null int64\n",
        "friends       63291 non-null float64\n",
        "invites       63291 non-null float64\n",
        "rcvdInv       63291 non-null float64\n",
        "rejectd       63291 non-null float64\n",
        "sim           354 non-null float64\n",
        "twFrs         386 non-null float64\n",
        "fbFrs         5797 non-null float64\n",
        "yt            312 non-null float64\n",
        "pi            151 non-null float64\n",
        "fk            0 non-null float64\n",
        "area          113300 non-null object\n",
        "dtypes: datetime64[ns](2), float64(10), int64(2), object(2)"
       ]
      }
     ],
     "prompt_number": 132
    },
    {
     "cell_type": "code",
     "collapsed": false,
     "input": [
      "df_user_short.index=df_user_short['joined']"
     ],
     "language": "python",
     "metadata": {
      "run_control": {
       "breakpoint": false
      }
     },
     "outputs": [],
     "prompt_number": 149
    },
    {
     "cell_type": "code",
     "collapsed": false,
     "input": [
      "resamp =  pd.groupby(df_user_short['user_id'],by=[df_user_short.index.year,df_user_short.index.month]).count()"
     ],
     "language": "python",
     "metadata": {
      "run_control": {
       "breakpoint": false
      }
     },
     "outputs": [],
     "prompt_number": 150
    },
    {
     "cell_type": "code",
     "collapsed": false,
     "input": [
      "resamp.tail()"
     ],
     "language": "python",
     "metadata": {
      "run_control": {
       "breakpoint": false
      }
     },
     "outputs": [
      {
       "metadata": {},
       "output_type": "pyout",
       "prompt_number": 151,
       "text": [
        "2014  6     3461\n",
        "      7     3372\n",
        "      8     4635\n",
        "      9     4709\n",
        "      10    7498\n",
        "Name: user_id, dtype: int64"
       ]
      }
     ],
     "prompt_number": 151
    },
    {
     "cell_type": "code",
     "collapsed": false,
     "input": [
      "resamp.plot()"
     ],
     "language": "python",
     "metadata": {
      "run_control": {
       "breakpoint": false
      }
     },
     "outputs": [
      {
       "metadata": {},
       "output_type": "pyout",
       "prompt_number": 152,
       "text": [
        "<matplotlib.axes._subplots.AxesSubplot at 0x1266cc2d0>"
       ]
      }
     ],
     "prompt_number": 152
    },
    {
     "cell_type": "code",
     "collapsed": false,
     "input": [],
     "language": "python",
     "metadata": {
      "run_control": {
       "breakpoint": false
      }
     },
     "outputs": []
    },
    {
     "cell_type": "code",
     "collapsed": false,
     "input": [],
     "language": "python",
     "metadata": {
      "run_control": {
       "breakpoint": false
      }
     },
     "outputs": []
    }
   ],
   "metadata": {}
  }
 ]
}