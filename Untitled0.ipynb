{
 "metadata": {
  "name": "",
  "signature": "sha256:1b79df936bdf4bd70c91df9e6e37ae157d2f4095636fa3e59fe8ba4f93926ae4"
 },
 "nbformat": 3,
 "nbformat_minor": 0,
 "worksheets": [
  {
   "cells": [
    {
     "cell_type": "code",
     "collapsed": false,
     "input": [
      "import sys \n",
      "import operator\n",
      "import datetime\n",
      "from collections import Counter\n",
      "msisdn=123"
     ],
     "language": "python",
     "metadata": {},
     "outputs": [],
     "prompt_number": 12
    },
    {
     "cell_type": "code",
     "collapsed": false,
     "input": [
      "s={'ip': 'bbed6bac', 'bytes': 2175, 'pv': 1, 'time': datetime.datetime(2015, 1, 8, 22, 21, 20), \n",
      "          'duration': 10, 'path': None, \n",
      "          'ua': 'Mozilla/5.0 (Linux; U; Android 2.3.6; es-mx; LG-E400f Build/GRK39F) AppleWebKit/533.1 (KHTML, like Gecko) Version/4.0 Mobile Safari/533.1 MMS/LG-Android-MMS-V1.2', \n",
      "          'pages': Counter()}"
     ],
     "language": "python",
     "metadata": {},
     "outputs": [],
     "prompt_number": 19
    },
    {
     "cell_type": "code",
     "collapsed": false,
     "input": [
      "print session"
     ],
     "language": "python",
     "metadata": {},
     "outputs": [
      {
       "output_type": "stream",
       "stream": "stdout",
       "text": [
        "[{'ua': 'Mozilla/5.0 (Linux; U; Android 2.3.6; es-mx; LG-E400f Build/GRK39F) AppleWebKit/533.1 (KHTML, like Gecko) Version/4.0 Mobile Safari/533.1 MMS/LG-Android-MMS-V1.2', 'pv': 1, 'time': datetime.datetime(2015, 1, 8, 22, 21, 20), 'duration': 10, 'ip': 'bbed6bac', 'path': None, 'bytes': 2175, 'pages': Counter()}]\n"
       ]
      }
     ],
     "prompt_number": 20
    },
    {
     "cell_type": "code",
     "collapsed": false,
     "input": [
      "print '%s, %s, %s, %d, %8s,'%(msisdn,s['time'], s['duration'], s['bytes'], s['ip'] ),"
     ],
     "language": "python",
     "metadata": {},
     "outputs": [
      {
       "output_type": "stream",
       "stream": "stdout",
       "text": [
        "123, 2015-01-08 22:21:20, 10, 2175, bbed6bac,\n"
       ]
      }
     ],
     "prompt_number": 24
    },
    {
     "cell_type": "code",
     "collapsed": false,
     "input": [
      "path=s['path']\n",
      "if path is None:\n",
      "    path = ''"
     ],
     "language": "python",
     "metadata": {},
     "outputs": [],
     "prompt_number": 37
    },
    {
     "cell_type": "code",
     "collapsed": false,
     "input": [
      "print '%3d,%d,%-6s,%s,' % (s['pv'], len(s['pages']), '/'+path,'asd'),"
     ],
     "language": "python",
     "metadata": {},
     "outputs": [
      {
       "output_type": "stream",
       "stream": "stdout",
       "text": [
        "  1,0,/     ,asd,\n"
       ]
      }
     ],
     "prompt_number": 38
    },
    {
     "cell_type": "code",
     "collapsed": false,
     "input": [
      "a = '2e'\n",
      "print a, 3"
     ],
     "language": "python",
     "metadata": {},
     "outputs": [
      {
       "output_type": "stream",
       "stream": "stdout",
       "text": [
        "2e 3\n"
       ]
      }
     ],
     "prompt_number": 40
    },
    {
     "cell_type": "code",
     "collapsed": false,
     "input": [
      "print '%-.6s,%d'%(a+'asasdasdad', 4)"
     ],
     "language": "python",
     "metadata": {},
     "outputs": [
      {
       "output_type": "stream",
       "stream": "stdout",
       "text": [
        "2easas,4\n"
       ]
      }
     ],
     "prompt_number": 46
    },
    {
     "cell_type": "code",
     "collapsed": false,
     "input": [],
     "language": "python",
     "metadata": {},
     "outputs": []
    }
   ],
   "metadata": {}
  }
 ]
}