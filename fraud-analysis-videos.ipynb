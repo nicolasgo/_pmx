{
 "metadata": {
  "name": "",
  "signature": "sha256:83f50c934909f8963f4441c34389fd2f342fb9f54e1fadca70ee86db740c2d23"
 },
 "nbformat": 3,
 "nbformat_minor": 0,
 "worksheets": [
  {
   "cells": [
    {
     "cell_type": "markdown",
     "metadata": {},
     "source": [
      "#Videos analysis\n",
      "- Finds the videos that consume the most bandwith"
     ]
    },
    {
     "cell_type": "heading",
     "level": 2,
     "metadata": {},
     "source": [
      "Setup"
     ]
    },
    {
     "cell_type": "code",
     "collapsed": false,
     "input": [
      "import pandas as pd\n",
      "import numpy as np\n",
      "import sys\n",
      "import matplotlib.pyplot as plt\n",
      "import apachelog\n",
      "from apachelog import ApacheLogParserError\n"
     ],
     "language": "python",
     "metadata": {},
     "outputs": [],
     "prompt_number": 161
    },
    {
     "cell_type": "code",
     "collapsed": false,
     "input": [
      "from pylab import *\n",
      "rcParams['figure.figsize'] = 10, 5 # width, height in inches\n",
      "\n",
      "%matplotlib inline"
     ],
     "language": "python",
     "metadata": {},
     "outputs": [],
     "prompt_number": 162
    },
    {
     "cell_type": "code",
     "collapsed": false,
     "input": [
      "# only the last file_name gets read :-)\n",
      "#\n",
      "file_name=_rootdir+'data/fs01/3gp.0219.log'\n",
      "file_name=_rootdir+'data/fraud-worst/201502.log'\n",
      "file_name=_rootdir+'data/fs01/201502_3gp.log'\n",
      "file_name=_rootdir+'data/fs01/test.log'\n",
      "file_name=_rootdir+'data/fs01/20150126.3gp.log'"
     ],
     "language": "python",
     "metadata": {},
     "outputs": [],
     "prompt_number": 163
    },
    {
     "cell_type": "heading",
     "level": 2,
     "metadata": {},
     "source": [
      "Parsing the log"
     ]
    },
    {
     "cell_type": "code",
     "collapsed": false,
     "input": [
      "sample_string = '189.254.162.19 189.254.162.19 - [14/Feb/2015:21:38:28 -0500] \"GET /profile/14119369/inbox HTTP/1.1\" 200 3040 \\\n",
      "\"http://mx.plugger.com/home/plugger\" \"Mozilla/5.0 (Linux; U; Android 4.4.2; es-sa; LG-D320 Build/KOT49I.V10a) AppleWebKit/537.36 (KHTML, like Gecko) Version/4.0 Chrome/30.0.1599.103 Mobile Safari/537.36\" \\\n",
      "526142530854'# BDFEA213B8166CA395DE005054E006A2 \"-\"'\n",
      "\n",
      "sample_string = '189.206.114.3 172.16.16.68, 127.0.0.1, 189.206.114.3 - [14/Feb/2015:01:24:02 -0500] \\\n",
      "\"GET /62702/55/51/94/23/00/1400728511.3407_M4s9VAtwuRGPoq_phPe8I/3gp.3gp HTTP/1.1\" 404 162 \\\n",
      "\"http://mx.plugger.com/mymedia/content/32491555\" \\\n",
      "\"Mozilla/5.0 (Linux; U; Android 4.1.2; es-sa; LG-E450f Build/JZO54K) AppleWebKit/534.30 (KHTML, like Gecko) Version/4.0 Mobile Safari/534.30\" \\\n",
      "-'\n",
      "\n",
      "log_formats=[ r'%h %l %u %t \\\"%r\\\" %>s %b \\\"%i\\\" \\\"%{User-Agent}i\\\" %{msisdn}b',\n",
      "    r'%h %l %u %t \\\"%r\\\" %>s %b \\\"%i\\\" \\\"%{User-Agent}i\\\" %{msisdn}b %{hexa}i \\\"%V\\\"',\n",
      "    r'%h %l, %u %t \\\"%r\\\" %>s %b \\\"%i\\\" \\\"%{User-Agent}i\\\" %{msisdn}b',\n",
      "    r'%h %l, %u %u %t \\\"%r\\\" %>s %b \\\"%i\\\" \\\"%{User-Agent}i\\\" %{msisdn}b %{hexa}i \\\"%V\\\"',\n",
      "    r'%h %l, %1, %l %u %t \\\"%r\\\" %>s %b \\\"%i\\\" \\\"%{User-Agent}i\\\" %{msisdn}b',\n",
      "    r'%h %l, %u %u %t \\\"%r\\\" %>s %b \\\"%i\\\" \\\"%{User-Agent}i\\\" %{msisdn}b']\n",
      "\n",
      "log_parsers = []\n",
      "for f in log_formats:\n",
      "    log_parsers.append(apachelog.parser(f))\n",
      "\n",
      "status=False\n",
      "chk_parsers = (p for p in log_parsers if status is False)\n",
      "for p in chk_parsers:\n",
      "    try:\n",
      "        data=p.parse(sample_string)\n",
      "        status=True\n",
      "        break\n",
      "    except ApacheLogParserError, e:\n",
      "#        print e\n",
      "        pass\n",
      "\n",
      "if status:\n",
      "    print data\n",
      "else:\n",
      "    print 'Unable to parse this!'"
     ],
     "language": "python",
     "metadata": {},
     "outputs": [
      {
       "output_type": "stream",
       "stream": "stdout",
       "text": [
        "{'%l': '189.206.114.3', '%>s': '404', '%i': 'http://mx.plugger.com/mymedia/content/32491555', '%h': '189.206.114.3', '%l,': '172.16.16.68,', '%{User-Agent}i': 'Mozilla/5.0 (Linux; U; Android 4.1.2; es-sa; LG-E450f Build/JZO54K) AppleWebKit/534.30 (KHTML, like Gecko) Version/4.0 Mobile Safari/534.30', '%b': '162', '%{msisdn}b': '-', '%1,': '127.0.0.1,', '%u': '-', '%t': '[14/Feb/2015:01:24:02 -0500]', '%r': 'GET /62702/55/51/94/23/00/1400728511.3407_M4s9VAtwuRGPoq_phPe8I/3gp.3gp HTTP/1.1'}\n"
       ]
      }
     ],
     "prompt_number": 204
    },
    {
     "cell_type": "markdown",
     "metadata": {},
     "source": [
      "Now let's parse each line while preparing the access time so that pandas will be able to handle it."
     ]
    },
    {
     "cell_type": "code",
     "collapsed": false,
     "input": [
      "log_list = []\n",
      "count=0\n",
      "missed=''\n",
      "\n",
      "with open(file_name) as f:\n",
      "    print 'reading:',file_name\n",
      "\n",
      "    for line in f.readlines():\n",
      "        status=False\n",
      "        chk_parsers = (p for p in log_parsers if status is False)\n",
      "        for p in chk_parsers:\n",
      "            try:\n",
      "                data=p.parse(line)\n",
      "                data['%t'] = data['%t'][1:12]+' '+data['%t'][13:21]+' '+data['%t'][22:27]\n",
      "                log_list.append(data)\n",
      "                status=True\n",
      "            except ApacheLogParserError:\n",
      "                pass\n",
      "\n",
      "    if status is False:\n",
      "        count +=1\n",
      "        missed=line\n",
      "print 'read %d lines successfully.'%len(log_list)\n",
      "print 'missed %d lines: %s'%(count,missed)"
     ],
     "language": "python",
     "metadata": {
      "run_control": {
       "breakpoint": true
      }
     },
     "outputs": [
      {
       "output_type": "stream",
       "stream": "stdout",
       "text": [
        "reading: /Users/Nicolas/dev/data/fs01/20150126.3gp.log\n",
        "read 166708 lines successfully."
       ]
      },
      {
       "output_type": "stream",
       "stream": "stdout",
       "text": [
        "\n",
        "missed 0 lines: \n"
       ]
      }
     ],
     "prompt_number": 205
    },
    {
     "cell_type": "markdown",
     "metadata": {},
     "source": [
      "Loading into pandas."
     ]
    },
    {
     "cell_type": "code",
     "collapsed": false,
     "input": [
      "from pandas import Series, DataFrame, Panel\n",
      "df = DataFrame(log_list)\n",
      "df.head(2)"
     ],
     "language": "python",
     "metadata": {},
     "outputs": [
      {
       "html": [
        "<div style=\"max-height:1000px;max-width:1500px;overflow:auto;\">\n",
        "<table border=\"1\" class=\"dataframe\">\n",
        "  <thead>\n",
        "    <tr style=\"text-align: right;\">\n",
        "      <th></th>\n",
        "      <th>%&gt;s</th>\n",
        "      <th>%b</th>\n",
        "      <th>%h</th>\n",
        "      <th>%i</th>\n",
        "      <th>%l</th>\n",
        "      <th>%l,</th>\n",
        "      <th>%r</th>\n",
        "      <th>%t</th>\n",
        "      <th>%u</th>\n",
        "      <th>%{User-Agent}i</th>\n",
        "      <th>%{msisdn}b</th>\n",
        "    </tr>\n",
        "  </thead>\n",
        "  <tbody>\n",
        "    <tr>\n",
        "      <th>0</th>\n",
        "      <td> 200</td>\n",
        "      <td> 621607</td>\n",
        "      <td>  187.217.195.36</td>\n",
        "      <td> http://mx.plugger.com/mymedia/content/71564390</td>\n",
        "      <td>  187.217.195.36</td>\n",
        "      <td> NaN</td>\n",
        "      <td> GET /62702/09/34/65/17/00/1421245175.1588_N5tK...</td>\n",
        "      <td> 25/Jan/2015 00:25:07 -0500</td>\n",
        "      <td> -</td>\n",
        "      <td> Mozilla/5.0 (Linux; U; Android 2.3.7; es-mx; S...</td>\n",
        "      <td> 529581119255</td>\n",
        "    </tr>\n",
        "    <tr>\n",
        "      <th>1</th>\n",
        "      <td> 200</td>\n",
        "      <td> 491472</td>\n",
        "      <td> 187.210.189.217</td>\n",
        "      <td> http://mx.plugger.com/mymedia/content/73270582</td>\n",
        "      <td> 187.210.189.217</td>\n",
        "      <td> NaN</td>\n",
        "      <td> GET /62701/28/50/72/37/00/1422145194.5129_2apY...</td>\n",
        "      <td> 25/Jan/2015 00:25:07 -0500</td>\n",
        "      <td> -</td>\n",
        "      <td> Mozilla/5.0 (Linux; U; Android 4.1.2; es-us; G...</td>\n",
        "      <td> 524272908535</td>\n",
        "    </tr>\n",
        "  </tbody>\n",
        "</table>\n",
        "</div>"
       ],
       "metadata": {},
       "output_type": "pyout",
       "prompt_number": 206,
       "text": [
        "   %>s  \\\n",
        "0  200   \n",
        "1  200   \n",
        "\n",
        "       %b  \\\n",
        "0  621607   \n",
        "1  491472   \n",
        "\n",
        "                %h  \\\n",
        "0   187.217.195.36   \n",
        "1  187.210.189.217   \n",
        "\n",
        "                                               %i  \\\n",
        "0  http://mx.plugger.com/mymedia/content/71564390   \n",
        "1  http://mx.plugger.com/mymedia/content/73270582   \n",
        "\n",
        "                %l  \\\n",
        "0   187.217.195.36   \n",
        "1  187.210.189.217   \n",
        "\n",
        "   %l,  \\\n",
        "0  NaN   \n",
        "1  NaN   \n",
        "\n",
        "                                                  %r  \\\n",
        "0  GET /62702/09/34/65/17/00/1421245175.1588_N5tK...   \n",
        "1  GET /62701/28/50/72/37/00/1422145194.5129_2apY...   \n",
        "\n",
        "                           %t  \\\n",
        "0  25/Jan/2015 00:25:07 -0500   \n",
        "1  25/Jan/2015 00:25:07 -0500   \n",
        "\n",
        "  %u  \\\n",
        "0  -   \n",
        "1  -   \n",
        "\n",
        "                                      %{User-Agent}i  \\\n",
        "0  Mozilla/5.0 (Linux; U; Android 2.3.7; es-mx; S...   \n",
        "1  Mozilla/5.0 (Linux; U; Android 4.1.2; es-us; G...   \n",
        "\n",
        "     %{msisdn}b  \n",
        "0  529581119255  \n",
        "1  524272908535  "
       ]
      }
     ],
     "prompt_number": 206
    },
    {
     "cell_type": "code",
     "collapsed": false,
     "input": [
      "df.info()"
     ],
     "language": "python",
     "metadata": {},
     "outputs": [
      {
       "output_type": "stream",
       "stream": "stdout",
       "text": [
        "<class 'pandas.core.frame.DataFrame'>\n",
        "Int64Index: 166708 entries, 0 to 166707\n",
        "Data columns (total 11 columns):\n",
        "%>s               166708 non-null object\n",
        "%b                166708 non-null object\n",
        "%h                166708 non-null object\n",
        "%i                166708 non-null object\n",
        "%l                166374 non-null object\n",
        "%l,               334 non-null object\n",
        "%r                166708 non-null object\n",
        "%t                166708 non-null object\n",
        "%u                166708 non-null object\n",
        "%{User-Agent}i    166708 non-null object\n",
        "%{msisdn}b        166708 non-null object\n",
        "dtypes: object(11)\n",
        "memory usage: 15.3+ MB\n"
       ]
      }
     ],
     "prompt_number": 207
    },
    {
     "cell_type": "markdown",
     "metadata": {},
     "source": [
      "Now lets clean up the pandas dataframe a bit by deleting some columns we aren't interested in and renaming the remaining columns."
     ]
    },
    {
     "cell_type": "code",
     "collapsed": false,
     "input": [
      "t=['%h','%i','%1,','%l,','%l,','%I','%u','%{User-Agent}i','%{hexa}i','%V']\n",
      "\n",
      "for e in t:\n",
      "    try :\n",
      "        del df[e]\n",
      "    except :\n",
      "        pass\n",
      "    \n",
      "try :\n",
      "    df = df.rename(columns={'%>s': 'status', '%b':'b', \n",
      "                            '%r':'request', '%t': 'time', '%{msisdn}b': 'msisdn'})\n",
      "except :\n",
      "    pass"
     ],
     "language": "python",
     "metadata": {
      "run_control": {
       "breakpoint": false
      }
     },
     "outputs": [],
     "prompt_number": 208
    },
    {
     "cell_type": "code",
     "collapsed": false,
     "input": [
      "df.request.head()"
     ],
     "language": "python",
     "metadata": {
      "run_control": {
       "breakpoint": false
      }
     },
     "outputs": [
      {
       "metadata": {},
       "output_type": "pyout",
       "prompt_number": 209,
       "text": [
        "0    GET /62702/09/34/65/17/00/1421245175.1588_N5tK...\n",
        "1    GET /62701/28/50/72/37/00/1422145194.5129_2apY...\n",
        "2    GET /62701/82/28/74/86/00/1419650580.1255_dIZr...\n",
        "3    GET /62702/53/37/39/14/00/1406829371.3687_btEk...\n",
        "4    GET /62702/17/79/51/32/00/1393250344.7867_MiTj...\n",
        "Name: request, dtype: object"
       ]
      }
     ],
     "prompt_number": 209
    },
    {
     "cell_type": "code",
     "collapsed": false,
     "input": [
      "df[0:2]\n",
      "\n",
      "df['time']=pd.to_datetime(df['time'])\n",
      "df['status'] = df['status'].astype('int')\n",
      "df['b'] = df['b'].astype('int')\n",
      "\n",
      "df.head(2)"
     ],
     "language": "python",
     "metadata": {},
     "outputs": [
      {
       "html": [
        "<div style=\"max-height:1000px;max-width:1500px;overflow:auto;\">\n",
        "<table border=\"1\" class=\"dataframe\">\n",
        "  <thead>\n",
        "    <tr style=\"text-align: right;\">\n",
        "      <th></th>\n",
        "      <th>status</th>\n",
        "      <th>b</th>\n",
        "      <th>%l</th>\n",
        "      <th>request</th>\n",
        "      <th>time</th>\n",
        "      <th>msisdn</th>\n",
        "    </tr>\n",
        "  </thead>\n",
        "  <tbody>\n",
        "    <tr>\n",
        "      <th>0</th>\n",
        "      <td> 200</td>\n",
        "      <td> 621607</td>\n",
        "      <td>  187.217.195.36</td>\n",
        "      <td> GET /62702/09/34/65/17/00/1421245175.1588_N5tK...</td>\n",
        "      <td>2015-01-25 05:25:07</td>\n",
        "      <td> 529581119255</td>\n",
        "    </tr>\n",
        "    <tr>\n",
        "      <th>1</th>\n",
        "      <td> 200</td>\n",
        "      <td> 491472</td>\n",
        "      <td> 187.210.189.217</td>\n",
        "      <td> GET /62701/28/50/72/37/00/1422145194.5129_2apY...</td>\n",
        "      <td>2015-01-25 05:25:07</td>\n",
        "      <td> 524272908535</td>\n",
        "    </tr>\n",
        "  </tbody>\n",
        "</table>\n",
        "</div>"
       ],
       "metadata": {},
       "output_type": "pyout",
       "prompt_number": 210,
       "text": [
        "   status  \\\n",
        "0     200   \n",
        "1     200   \n",
        "\n",
        "        b  \\\n",
        "0  621607   \n",
        "1  491472   \n",
        "\n",
        "                %l  \\\n",
        "0   187.217.195.36   \n",
        "1  187.210.189.217   \n",
        "\n",
        "                                             request  \\\n",
        "0  GET /62702/09/34/65/17/00/1421245175.1588_N5tK...   \n",
        "1  GET /62701/28/50/72/37/00/1422145194.5129_2apY...   \n",
        "\n",
        "                 time  \\\n",
        "0 2015-01-25 05:25:07   \n",
        "1 2015-01-25 05:25:07   \n",
        "\n",
        "         msisdn  \n",
        "0  529581119255  \n",
        "1  524272908535  "
       ]
      }
     ],
     "prompt_number": 210
    },
    {
     "cell_type": "code",
     "collapsed": false,
     "input": [
      "df.head(10)"
     ],
     "language": "python",
     "metadata": {
      "run_control": {
       "breakpoint": false
      }
     },
     "outputs": [
      {
       "html": [
        "<div style=\"max-height:1000px;max-width:1500px;overflow:auto;\">\n",
        "<table border=\"1\" class=\"dataframe\">\n",
        "  <thead>\n",
        "    <tr style=\"text-align: right;\">\n",
        "      <th></th>\n",
        "      <th>status</th>\n",
        "      <th>b</th>\n",
        "      <th>%l</th>\n",
        "      <th>request</th>\n",
        "      <th>time</th>\n",
        "      <th>msisdn</th>\n",
        "    </tr>\n",
        "  </thead>\n",
        "  <tbody>\n",
        "    <tr>\n",
        "      <th>0</th>\n",
        "      <td> 200</td>\n",
        "      <td>  621607</td>\n",
        "      <td>  187.217.195.36</td>\n",
        "      <td> GET /62702/09/34/65/17/00/1421245175.1588_N5tK...</td>\n",
        "      <td>2015-01-25 05:25:07</td>\n",
        "      <td> 529581119255</td>\n",
        "    </tr>\n",
        "    <tr>\n",
        "      <th>1</th>\n",
        "      <td> 200</td>\n",
        "      <td>  491472</td>\n",
        "      <td> 187.210.189.217</td>\n",
        "      <td> GET /62701/28/50/72/37/00/1422145194.5129_2apY...</td>\n",
        "      <td>2015-01-25 05:25:07</td>\n",
        "      <td> 524272908535</td>\n",
        "    </tr>\n",
        "    <tr>\n",
        "      <th>2</th>\n",
        "      <td> 200</td>\n",
        "      <td>  502591</td>\n",
        "      <td>  187.216.136.28</td>\n",
        "      <td> GET /62701/82/28/74/86/00/1419650580.1255_dIZr...</td>\n",
        "      <td>2015-01-25 05:25:09</td>\n",
        "      <td> 527151027864</td>\n",
        "    </tr>\n",
        "    <tr>\n",
        "      <th>3</th>\n",
        "      <td> 200</td>\n",
        "      <td>  415553</td>\n",
        "      <td>  201.144.174.11</td>\n",
        "      <td> GET /62702/53/37/39/14/00/1406829371.3687_btEk...</td>\n",
        "      <td>2015-01-25 05:25:09</td>\n",
        "      <td> 528711562720</td>\n",
        "    </tr>\n",
        "    <tr>\n",
        "      <th>4</th>\n",
        "      <td> 200</td>\n",
        "      <td> 6584189</td>\n",
        "      <td>    187.237.39.9</td>\n",
        "      <td> GET /62702/17/79/51/32/00/1393250344.7867_MiTj...</td>\n",
        "      <td>2015-01-25 05:25:10</td>\n",
        "      <td> 524871149494</td>\n",
        "    </tr>\n",
        "    <tr>\n",
        "      <th>5</th>\n",
        "      <td> 200</td>\n",
        "      <td>  752093</td>\n",
        "      <td>  201.144.162.24</td>\n",
        "      <td> GET /62701/37/91/14/66/00/1418573199.5762_Rrnj...</td>\n",
        "      <td>2015-01-25 05:25:10</td>\n",
        "      <td> 526561125550</td>\n",
        "    </tr>\n",
        "    <tr>\n",
        "      <th>6</th>\n",
        "      <td> 200</td>\n",
        "      <td> 5577734</td>\n",
        "      <td>   189.254.162.8</td>\n",
        "      <td> GET /62702/10/24/49/42/00/1394910480.2674_ZLmO...</td>\n",
        "      <td>2015-01-25 05:25:10</td>\n",
        "      <td> 526181237846</td>\n",
        "    </tr>\n",
        "    <tr>\n",
        "      <th>7</th>\n",
        "      <td> 200</td>\n",
        "      <td>   91954</td>\n",
        "      <td>  187.217.195.99</td>\n",
        "      <td> GET /62702/55/37/39/76/00/1419370067.3503_kfM0...</td>\n",
        "      <td>2015-01-25 05:25:12</td>\n",
        "      <td> 522282144365</td>\n",
        "    </tr>\n",
        "    <tr>\n",
        "      <th>8</th>\n",
        "      <td> 200</td>\n",
        "      <td> 3682126</td>\n",
        "      <td>   187.237.39.64</td>\n",
        "      <td> GET /62701/76/98/81/03/00/1399097013.5522_jpo4...</td>\n",
        "      <td>2015-01-25 05:25:13</td>\n",
        "      <td> 523318256450</td>\n",
        "    </tr>\n",
        "    <tr>\n",
        "      <th>9</th>\n",
        "      <td> 404</td>\n",
        "      <td>     162</td>\n",
        "      <td>   200.95.170.90</td>\n",
        "      <td> GET /62702/85/25/78/72/00/1397347969.5778_hCk3...</td>\n",
        "      <td>2015-01-25 05:25:13</td>\n",
        "      <td> 528116349331</td>\n",
        "    </tr>\n",
        "  </tbody>\n",
        "</table>\n",
        "</div>"
       ],
       "metadata": {},
       "output_type": "pyout",
       "prompt_number": 211,
       "text": [
        "   status  \\\n",
        "0     200   \n",
        "1     200   \n",
        "2     200   \n",
        "3     200   \n",
        "4     200   \n",
        "5     200   \n",
        "6     200   \n",
        "7     200   \n",
        "8     200   \n",
        "9     404   \n",
        "\n",
        "         b  \\\n",
        "0   621607   \n",
        "1   491472   \n",
        "2   502591   \n",
        "3   415553   \n",
        "4  6584189   \n",
        "5   752093   \n",
        "6  5577734   \n",
        "7    91954   \n",
        "8  3682126   \n",
        "9      162   \n",
        "\n",
        "                %l  \\\n",
        "0   187.217.195.36   \n",
        "1  187.210.189.217   \n",
        "2   187.216.136.28   \n",
        "3   201.144.174.11   \n",
        "4     187.237.39.9   \n",
        "5   201.144.162.24   \n",
        "6    189.254.162.8   \n",
        "7   187.217.195.99   \n",
        "8    187.237.39.64   \n",
        "9    200.95.170.90   \n",
        "\n",
        "                                             request  \\\n",
        "0  GET /62702/09/34/65/17/00/1421245175.1588_N5tK...   \n",
        "1  GET /62701/28/50/72/37/00/1422145194.5129_2apY...   \n",
        "2  GET /62701/82/28/74/86/00/1419650580.1255_dIZr...   \n",
        "3  GET /62702/53/37/39/14/00/1406829371.3687_btEk...   \n",
        "4  GET /62702/17/79/51/32/00/1393250344.7867_MiTj...   \n",
        "5  GET /62701/37/91/14/66/00/1418573199.5762_Rrnj...   \n",
        "6  GET /62702/10/24/49/42/00/1394910480.2674_ZLmO...   \n",
        "7  GET /62702/55/37/39/76/00/1419370067.3503_kfM0...   \n",
        "8  GET /62701/76/98/81/03/00/1399097013.5522_jpo4...   \n",
        "9  GET /62702/85/25/78/72/00/1397347969.5778_hCk3...   \n",
        "\n",
        "                 time  \\\n",
        "0 2015-01-25 05:25:07   \n",
        "1 2015-01-25 05:25:07   \n",
        "2 2015-01-25 05:25:09   \n",
        "3 2015-01-25 05:25:09   \n",
        "4 2015-01-25 05:25:10   \n",
        "5 2015-01-25 05:25:10   \n",
        "6 2015-01-25 05:25:10   \n",
        "7 2015-01-25 05:25:12   \n",
        "8 2015-01-25 05:25:13   \n",
        "9 2015-01-25 05:25:13   \n",
        "\n",
        "         msisdn  \n",
        "0  529581119255  \n",
        "1  524272908535  \n",
        "2  527151027864  \n",
        "3  528711562720  \n",
        "4  524871149494  \n",
        "5  526561125550  \n",
        "6  526181237846  \n",
        "7  522282144365  \n",
        "8  523318256450  \n",
        "9  528116349331  "
       ]
      }
     ],
     "prompt_number": 211
    },
    {
     "cell_type": "code",
     "collapsed": false,
     "input": [
      "df.status.value_counts()"
     ],
     "language": "python",
     "metadata": {},
     "outputs": [
      {
       "metadata": {},
       "output_type": "pyout",
       "prompt_number": 212,
       "text": [
        "200    127832\n",
        "404     38876\n",
        "dtype: int64"
       ]
      }
     ],
     "prompt_number": 212
    },
    {
     "cell_type": "markdown",
     "metadata": {},
     "source": [
      "We want to find large videos. Set the min_size to 1M (for now)"
     ]
    },
    {
     "cell_type": "code",
     "collapsed": false,
     "input": [
      "df.b.describe()\n",
      "min_size=((df.b>1000000)&(df.status==200))\n",
      "df[min_size].count()"
     ],
     "language": "python",
     "metadata": {},
     "outputs": [
      {
       "metadata": {},
       "output_type": "pyout",
       "prompt_number": 213,
       "text": [
        "status     40913\n",
        "b          40913\n",
        "%l         40887\n",
        "request    40913\n",
        "time       40913\n",
        "msisdn     40913\n",
        "dtype: int64"
       ]
      }
     ],
     "prompt_number": 213
    },
    {
     "cell_type": "code",
     "collapsed": false,
     "input": [
      "df=df[min_size].copy()"
     ],
     "language": "python",
     "metadata": {},
     "outputs": [],
     "prompt_number": 214
    },
    {
     "cell_type": "code",
     "collapsed": true,
     "input": [
      "df['time']=pd.to_datetime(df['time'], coerce=True)#,errors='raise')\n",
      "df.info()"
     ],
     "language": "python",
     "metadata": {},
     "outputs": [
      {
       "output_type": "stream",
       "stream": "stdout",
       "text": [
        "<class 'pandas.core.frame.DataFrame'>\n",
        "Int64Index: 40913 entries, 4 to 166703\n",
        "Data columns (total 6 columns):\n",
        "status     40913 non-null int64\n",
        "b          40913 non-null int64\n",
        "%l         40887 non-null object\n",
        "request    40913 non-null object\n",
        "time       40913 non-null datetime64[ns]\n",
        "msisdn     40913 non-null object\n",
        "dtypes: datetime64[ns](1), int64(2), object(3)\n",
        "memory usage: 2.2+ MB\n"
       ]
      }
     ],
     "prompt_number": 215
    },
    {
     "cell_type": "code",
     "collapsed": false,
     "input": [
      "df['msisdn'].describe()"
     ],
     "language": "python",
     "metadata": {},
     "outputs": [
      {
       "metadata": {},
       "output_type": "pyout",
       "prompt_number": 216,
       "text": [
        "count     40913\n",
        "unique    10902\n",
        "top           -\n",
        "freq        896\n",
        "Name: msisdn, dtype: object"
       ]
      }
     ],
     "prompt_number": 216
    },
    {
     "cell_type": "code",
     "collapsed": false,
     "input": [
      "def dash2nan(x):\n",
      "    if x == '-':\n",
      "        x = np.nan\n",
      "    else:\n",
      "        x = float(x)/1048576.\n",
      "    \n",
      "    return x\n",
      "df['b'] = df['b'].apply(dash2nan)"
     ],
     "language": "python",
     "metadata": {},
     "outputs": [],
     "prompt_number": 217
    },
    {
     "cell_type": "code",
     "collapsed": false,
     "input": [
      "#df.set_index(['msisdn','status','time'], inplace=True)\n",
      "df.head()"
     ],
     "language": "python",
     "metadata": {},
     "outputs": [
      {
       "html": [
        "<div style=\"max-height:1000px;max-width:1500px;overflow:auto;\">\n",
        "<table border=\"1\" class=\"dataframe\">\n",
        "  <thead>\n",
        "    <tr style=\"text-align: right;\">\n",
        "      <th></th>\n",
        "      <th>status</th>\n",
        "      <th>b</th>\n",
        "      <th>%l</th>\n",
        "      <th>request</th>\n",
        "      <th>time</th>\n",
        "      <th>msisdn</th>\n",
        "    </tr>\n",
        "  </thead>\n",
        "  <tbody>\n",
        "    <tr>\n",
        "      <th>4 </th>\n",
        "      <td> 200</td>\n",
        "      <td>  6.279172</td>\n",
        "      <td>    187.237.39.9</td>\n",
        "      <td> GET /62702/17/79/51/32/00/1393250344.7867_MiTj...</td>\n",
        "      <td>2015-01-25 05:25:10</td>\n",
        "      <td> 524871149494</td>\n",
        "    </tr>\n",
        "    <tr>\n",
        "      <th>6 </th>\n",
        "      <td> 200</td>\n",
        "      <td>  5.319342</td>\n",
        "      <td>   189.254.162.8</td>\n",
        "      <td> GET /62702/10/24/49/42/00/1394910480.2674_ZLmO...</td>\n",
        "      <td>2015-01-25 05:25:10</td>\n",
        "      <td> 526181237846</td>\n",
        "    </tr>\n",
        "    <tr>\n",
        "      <th>8 </th>\n",
        "      <td> 200</td>\n",
        "      <td>  3.511549</td>\n",
        "      <td>   187.237.39.64</td>\n",
        "      <td> GET /62701/76/98/81/03/00/1399097013.5522_jpo4...</td>\n",
        "      <td>2015-01-25 05:25:13</td>\n",
        "      <td> 523318256450</td>\n",
        "    </tr>\n",
        "    <tr>\n",
        "      <th>16</th>\n",
        "      <td> 200</td>\n",
        "      <td> 20.773294</td>\n",
        "      <td>  187.216.136.19</td>\n",
        "      <td> GET /62701/54/26/27/03/00/1399493446.4607_VYUs...</td>\n",
        "      <td>2015-01-25 05:25:16</td>\n",
        "      <td> 524521149006</td>\n",
        "    </tr>\n",
        "    <tr>\n",
        "      <th>19</th>\n",
        "      <td> 200</td>\n",
        "      <td> 14.930851</td>\n",
        "      <td> 187.210.139.110</td>\n",
        "      <td> GET /62701/66/01/17/92/00/1398752254.5445_XOr1...</td>\n",
        "      <td>2015-01-25 05:25:18</td>\n",
        "      <td> 526421368467</td>\n",
        "    </tr>\n",
        "  </tbody>\n",
        "</table>\n",
        "</div>"
       ],
       "metadata": {},
       "output_type": "pyout",
       "prompt_number": 218,
       "text": [
        "    status  \\\n",
        "4      200   \n",
        "6      200   \n",
        "8      200   \n",
        "16     200   \n",
        "19     200   \n",
        "\n",
        "            b  \\\n",
        "4    6.279172   \n",
        "6    5.319342   \n",
        "8    3.511549   \n",
        "16  20.773294   \n",
        "19  14.930851   \n",
        "\n",
        "                 %l  \\\n",
        "4      187.237.39.9   \n",
        "6     189.254.162.8   \n",
        "8     187.237.39.64   \n",
        "16   187.216.136.19   \n",
        "19  187.210.139.110   \n",
        "\n",
        "                                              request  \\\n",
        "4   GET /62702/17/79/51/32/00/1393250344.7867_MiTj...   \n",
        "6   GET /62702/10/24/49/42/00/1394910480.2674_ZLmO...   \n",
        "8   GET /62701/76/98/81/03/00/1399097013.5522_jpo4...   \n",
        "16  GET /62701/54/26/27/03/00/1399493446.4607_VYUs...   \n",
        "19  GET /62701/66/01/17/92/00/1398752254.5445_XOr1...   \n",
        "\n",
        "                  time  \\\n",
        "4  2015-01-25 05:25:10   \n",
        "6  2015-01-25 05:25:10   \n",
        "8  2015-01-25 05:25:13   \n",
        "16 2015-01-25 05:25:16   \n",
        "19 2015-01-25 05:25:18   \n",
        "\n",
        "          msisdn  \n",
        "4   524871149494  \n",
        "6   526181237846  \n",
        "8   523318256450  \n",
        "16  524521149006  \n",
        "19  526421368467  "
       ]
      }
     ],
     "prompt_number": 218
    },
    {
     "cell_type": "code",
     "collapsed": false,
     "input": [
      "try:\n",
      "    df.set_index(['time'],inplace=True)\n",
      "except KeyError:\n",
      "    pass\n",
      "df.head()"
     ],
     "language": "python",
     "metadata": {},
     "outputs": [
      {
       "html": [
        "<div style=\"max-height:1000px;max-width:1500px;overflow:auto;\">\n",
        "<table border=\"1\" class=\"dataframe\">\n",
        "  <thead>\n",
        "    <tr style=\"text-align: right;\">\n",
        "      <th></th>\n",
        "      <th>status</th>\n",
        "      <th>b</th>\n",
        "      <th>%l</th>\n",
        "      <th>request</th>\n",
        "      <th>msisdn</th>\n",
        "    </tr>\n",
        "    <tr>\n",
        "      <th>time</th>\n",
        "      <th></th>\n",
        "      <th></th>\n",
        "      <th></th>\n",
        "      <th></th>\n",
        "      <th></th>\n",
        "    </tr>\n",
        "  </thead>\n",
        "  <tbody>\n",
        "    <tr>\n",
        "      <th>2015-01-25 05:25:10</th>\n",
        "      <td> 200</td>\n",
        "      <td>  6.279172</td>\n",
        "      <td>    187.237.39.9</td>\n",
        "      <td> GET /62702/17/79/51/32/00/1393250344.7867_MiTj...</td>\n",
        "      <td> 524871149494</td>\n",
        "    </tr>\n",
        "    <tr>\n",
        "      <th>2015-01-25 05:25:10</th>\n",
        "      <td> 200</td>\n",
        "      <td>  5.319342</td>\n",
        "      <td>   189.254.162.8</td>\n",
        "      <td> GET /62702/10/24/49/42/00/1394910480.2674_ZLmO...</td>\n",
        "      <td> 526181237846</td>\n",
        "    </tr>\n",
        "    <tr>\n",
        "      <th>2015-01-25 05:25:13</th>\n",
        "      <td> 200</td>\n",
        "      <td>  3.511549</td>\n",
        "      <td>   187.237.39.64</td>\n",
        "      <td> GET /62701/76/98/81/03/00/1399097013.5522_jpo4...</td>\n",
        "      <td> 523318256450</td>\n",
        "    </tr>\n",
        "    <tr>\n",
        "      <th>2015-01-25 05:25:16</th>\n",
        "      <td> 200</td>\n",
        "      <td> 20.773294</td>\n",
        "      <td>  187.216.136.19</td>\n",
        "      <td> GET /62701/54/26/27/03/00/1399493446.4607_VYUs...</td>\n",
        "      <td> 524521149006</td>\n",
        "    </tr>\n",
        "    <tr>\n",
        "      <th>2015-01-25 05:25:18</th>\n",
        "      <td> 200</td>\n",
        "      <td> 14.930851</td>\n",
        "      <td> 187.210.139.110</td>\n",
        "      <td> GET /62701/66/01/17/92/00/1398752254.5445_XOr1...</td>\n",
        "      <td> 526421368467</td>\n",
        "    </tr>\n",
        "  </tbody>\n",
        "</table>\n",
        "</div>"
       ],
       "metadata": {},
       "output_type": "pyout",
       "prompt_number": 219,
       "text": [
        "                     status  \\\n",
        "time                          \n",
        "2015-01-25 05:25:10     200   \n",
        "2015-01-25 05:25:10     200   \n",
        "2015-01-25 05:25:13     200   \n",
        "2015-01-25 05:25:16     200   \n",
        "2015-01-25 05:25:18     200   \n",
        "\n",
        "                             b  \\\n",
        "time                             \n",
        "2015-01-25 05:25:10   6.279172   \n",
        "2015-01-25 05:25:10   5.319342   \n",
        "2015-01-25 05:25:13   3.511549   \n",
        "2015-01-25 05:25:16  20.773294   \n",
        "2015-01-25 05:25:18  14.930851   \n",
        "\n",
        "                                  %l  \\\n",
        "time                                   \n",
        "2015-01-25 05:25:10     187.237.39.9   \n",
        "2015-01-25 05:25:10    189.254.162.8   \n",
        "2015-01-25 05:25:13    187.237.39.64   \n",
        "2015-01-25 05:25:16   187.216.136.19   \n",
        "2015-01-25 05:25:18  187.210.139.110   \n",
        "\n",
        "                                                               request  \\\n",
        "time                                                                     \n",
        "2015-01-25 05:25:10  GET /62702/17/79/51/32/00/1393250344.7867_MiTj...   \n",
        "2015-01-25 05:25:10  GET /62702/10/24/49/42/00/1394910480.2674_ZLmO...   \n",
        "2015-01-25 05:25:13  GET /62701/76/98/81/03/00/1399097013.5522_jpo4...   \n",
        "2015-01-25 05:25:16  GET /62701/54/26/27/03/00/1399493446.4607_VYUs...   \n",
        "2015-01-25 05:25:18  GET /62701/66/01/17/92/00/1398752254.5445_XOr1...   \n",
        "\n",
        "                           msisdn  \n",
        "time                               \n",
        "2015-01-25 05:25:10  524871149494  \n",
        "2015-01-25 05:25:10  526181237846  \n",
        "2015-01-25 05:25:13  523318256450  \n",
        "2015-01-25 05:25:16  524521149006  \n",
        "2015-01-25 05:25:18  526421368467  "
       ]
      }
     ],
     "prompt_number": 219
    },
    {
     "cell_type": "markdown",
     "metadata": {},
     "source": [
      "#Analysis\n",
      "Let's graph the data to visualize what is happening."
     ]
    },
    {
     "cell_type": "markdown",
     "metadata": {},
     "source": [
      "##Group by user"
     ]
    },
    {
     "cell_type": "code",
     "collapsed": false,
     "input": [
      "t=df.groupby(['msisdn'])#,'status'])\n",
      "t#.resample('1440t')#['b']\n",
      "parts = []\n",
      "\n",
      "for k,v in t:\n",
      "    x=[k,v['b'].sum()]\n",
      "#    x=v[['T']].describe().T#[['mean','std']]\n",
      "#    x['area'] = k\n",
      "    parts.append(pd.DataFrame(x).T)\n",
      "stats_per_msisdn = pd.concat(parts)\n",
      "stats_per_msisdn.columns=['msisdn','mb']"
     ],
     "language": "python",
     "metadata": {},
     "outputs": [],
     "prompt_number": 220
    },
    {
     "cell_type": "markdown",
     "metadata": {},
     "source": [
      "### Worst users in that sample"
     ]
    },
    {
     "cell_type": "code",
     "collapsed": false,
     "input": [
      "stats_per_msisdn=stats_per_msisdn.reset_index().drop('index',1)\n",
      "top100=stats_per_msisdn.sort(['mb'],ascending=False).head(100)\n",
      "for m in top100.msisdn.head(6):\n",
      "    print m[2:]#+',',\n",
      "top100.head(10).T"
     ],
     "language": "python",
     "metadata": {},
     "outputs": [
      {
       "output_type": "stream",
       "stream": "stdout",
       "text": [
        "\n",
        "4961249211\n",
        "4471097737\n",
        "3929303644\n",
        "4131082545\n",
        "8611082085\n"
       ]
      },
      {
       "html": [
        "<div style=\"max-height:1000px;max-width:1500px;overflow:auto;\">\n",
        "<table border=\"1\" class=\"dataframe\">\n",
        "  <thead>\n",
        "    <tr style=\"text-align: right;\">\n",
        "      <th></th>\n",
        "      <th>0</th>\n",
        "      <th>3309</th>\n",
        "      <th>2402</th>\n",
        "      <th>1633</th>\n",
        "      <th>1692</th>\n",
        "      <th>8355</th>\n",
        "      <th>4922</th>\n",
        "      <th>5229</th>\n",
        "      <th>9947</th>\n",
        "      <th>5401</th>\n",
        "    </tr>\n",
        "  </thead>\n",
        "  <tbody>\n",
        "    <tr>\n",
        "      <th>msisdn</th>\n",
        "      <td>        -</td>\n",
        "      <td> 524961249211</td>\n",
        "      <td> 524471097737</td>\n",
        "      <td> 523929303644</td>\n",
        "      <td> 524131082545</td>\n",
        "      <td> 528611082085</td>\n",
        "      <td> 526562853563</td>\n",
        "      <td> 526681725211</td>\n",
        "      <td> 529581151024</td>\n",
        "      <td> 526861846564</td>\n",
        "    </tr>\n",
        "    <tr>\n",
        "      <th>mb</th>\n",
        "      <td> 8500.608</td>\n",
        "      <td>     2373.126</td>\n",
        "      <td>      2305.61</td>\n",
        "      <td>     2245.346</td>\n",
        "      <td>     1982.367</td>\n",
        "      <td>     1709.082</td>\n",
        "      <td>     1561.651</td>\n",
        "      <td>     976.7925</td>\n",
        "      <td>      968.341</td>\n",
        "      <td>     955.1617</td>\n",
        "    </tr>\n",
        "  </tbody>\n",
        "</table>\n",
        "</div>"
       ],
       "metadata": {},
       "output_type": "pyout",
       "prompt_number": 221,
       "text": [
        "            0     \\\n",
        "msisdn         -   \n",
        "mb      8500.608   \n",
        "\n",
        "                3309  \\\n",
        "msisdn  524961249211   \n",
        "mb          2373.126   \n",
        "\n",
        "                2402  \\\n",
        "msisdn  524471097737   \n",
        "mb           2305.61   \n",
        "\n",
        "                1633  \\\n",
        "msisdn  523929303644   \n",
        "mb          2245.346   \n",
        "\n",
        "                1692  \\\n",
        "msisdn  524131082545   \n",
        "mb          1982.367   \n",
        "\n",
        "                8355  \\\n",
        "msisdn  528611082085   \n",
        "mb          1709.082   \n",
        "\n",
        "                4922  \\\n",
        "msisdn  526562853563   \n",
        "mb          1561.651   \n",
        "\n",
        "                5229  \\\n",
        "msisdn  526681725211   \n",
        "mb          976.7925   \n",
        "\n",
        "                9947  \\\n",
        "msisdn  529581151024   \n",
        "mb           968.341   \n",
        "\n",
        "                5401  \n",
        "msisdn  526861846564  \n",
        "mb          955.1617  "
       ]
      }
     ],
     "prompt_number": 221
    },
    {
     "cell_type": "code",
     "collapsed": false,
     "input": [
      "###save those users to file\n",
      "fn=_rootdir+'stats_per_msisdn.3gp.csv'\n",
      "stats_per_msisdn[['mb','msisdn']].sort(['mb'],ascending=False).head(100).reset_index().drop('index',1).to_csv(fn)\n",
      "!head -n 5 {fn}"
     ],
     "language": "python",
     "metadata": {},
     "outputs": [
      {
       "output_type": "stream",
       "stream": "stdout",
       "text": [
        ",mb,msisdn\r\n",
        "0,8500.6076364517212,-\r\n",
        "1,2373.1260271072388,524961249211\r\n",
        "2,2305.6100587844849,524471097737\r\n",
        "3,2245.3457727432251,523929303644\r\n"
       ]
      }
     ],
     "prompt_number": 222
    },
    {
     "cell_type": "markdown",
     "metadata": {},
     "source": [
      "##The 10 worst days of a user"
     ]
    },
    {
     "cell_type": "code",
     "collapsed": false,
     "input": [
      "top100[:5].msisdn"
     ],
     "language": "python",
     "metadata": {},
     "outputs": [
      {
       "metadata": {},
       "output_type": "pyout",
       "prompt_number": 223,
       "text": [
        "0                  -\n",
        "3309    524961249211\n",
        "2402    524471097737\n",
        "1633    523929303644\n",
        "1692    524131082545\n",
        "Name: msisdn, dtype: object"
       ]
      }
     ],
     "prompt_number": 223
    },
    {
     "cell_type": "code",
     "collapsed": false,
     "input": [
      "print 'top 100 users wasted %.2f MB in the period'%df[df.msisdn.isin(top100[0:].msisdn.values)].b.sum()"
     ],
     "language": "python",
     "metadata": {
      "run_control": {
       "breakpoint": false
      }
     },
     "outputs": [
      {
       "output_type": "stream",
       "stream": "stdout",
       "text": [
        "top 100 users wasted 75025.59 MB in the period\n"
       ]
      }
     ],
     "prompt_number": 224
    },
    {
     "cell_type": "code",
     "collapsed": false,
     "input": [
      "user=top100[0:].msisdn.values[4]#'526681138874'\n",
      "print user\n",
      "df_d=df[df.msisdn==user].b.resample('1440t', how=['sum'])\n",
      "#df_d=df[df.msisdn=='528441732464'].b.resample('1440t', how=['sum'])\n",
      "df_d.sort(['sum'],ascending=False).head(10).T"
     ],
     "language": "python",
     "metadata": {},
     "outputs": [
      {
       "output_type": "stream",
       "stream": "stdout",
       "text": [
        "524131082545\n"
       ]
      },
      {
       "html": [
        "<div style=\"max-height:1000px;max-width:1500px;overflow:auto;\">\n",
        "<table border=\"1\" class=\"dataframe\">\n",
        "  <thead>\n",
        "    <tr style=\"text-align: right;\">\n",
        "      <th>time</th>\n",
        "      <th>2015-01-25 00:00:00</th>\n",
        "    </tr>\n",
        "  </thead>\n",
        "  <tbody>\n",
        "    <tr>\n",
        "      <th>sum</th>\n",
        "      <td> 1982.366957</td>\n",
        "    </tr>\n",
        "  </tbody>\n",
        "</table>\n",
        "</div>"
       ],
       "metadata": {},
       "output_type": "pyout",
       "prompt_number": 225,
       "text": [
        "time   2015-01-25\n",
        "sum   1982.366957"
       ]
      }
     ],
     "prompt_number": 225
    },
    {
     "cell_type": "code",
     "collapsed": false,
     "input": [
      "plt.plot(df_d)"
     ],
     "language": "python",
     "metadata": {},
     "outputs": [
      {
       "metadata": {},
       "output_type": "pyout",
       "prompt_number": 226,
       "text": [
        "[<matplotlib.lines.Line2D at 0x131486890>]"
       ]
      },
      {
       "metadata": {},
       "output_type": "display_data",
       "png": "[encoded data removed]",
       "text": [
        "<matplotlib.figure.Figure at 0x133f17a50>"
       ]
      }
     ],
     "prompt_number": 226
    },
    {
     "cell_type": "code",
     "collapsed": false,
     "input": [
      "user_traffic=df[df['msisdn']==user]\n",
      "print 'What user %s did'%(user)\n",
      "user_traffic.sort(['b'],ascending=False).head(10)"
     ],
     "language": "python",
     "metadata": {},
     "outputs": [
      {
       "output_type": "stream",
       "stream": "stdout",
       "text": [
        "What user 524131082545 did\n"
       ]
      },
      {
       "html": [
        "<div style=\"max-height:1000px;max-width:1500px;overflow:auto;\">\n",
        "<table border=\"1\" class=\"dataframe\">\n",
        "  <thead>\n",
        "    <tr style=\"text-align: right;\">\n",
        "      <th></th>\n",
        "      <th>status</th>\n",
        "      <th>b</th>\n",
        "      <th>%l</th>\n",
        "      <th>request</th>\n",
        "      <th>msisdn</th>\n",
        "    </tr>\n",
        "    <tr>\n",
        "      <th>time</th>\n",
        "      <th></th>\n",
        "      <th></th>\n",
        "      <th></th>\n",
        "      <th></th>\n",
        "      <th></th>\n",
        "    </tr>\n",
        "  </thead>\n",
        "  <tbody>\n",
        "    <tr>\n",
        "      <th>2015-01-25 14:50:00</th>\n",
        "      <td> 200</td>\n",
        "      <td> 30.082760</td>\n",
        "      <td>  187.237.239.60</td>\n",
        "      <td> GET /62702/49/36/52/02/00/1390478016.9201_6P5E...</td>\n",
        "      <td> 524131082545</td>\n",
        "    </tr>\n",
        "    <tr>\n",
        "      <th>2015-01-25 14:51:09</th>\n",
        "      <td> 200</td>\n",
        "      <td> 30.082760</td>\n",
        "      <td>  187.237.239.60</td>\n",
        "      <td> GET /62702/49/36/52/02/00/1390478016.9201_6P5E...</td>\n",
        "      <td> 524131082545</td>\n",
        "    </tr>\n",
        "    <tr>\n",
        "      <th>2015-01-25 14:48:57</th>\n",
        "      <td> 200</td>\n",
        "      <td> 30.082760</td>\n",
        "      <td>  187.237.239.60</td>\n",
        "      <td> GET /62702/49/36/52/02/00/1390478016.9201_6P5E...</td>\n",
        "      <td> 524131082545</td>\n",
        "    </tr>\n",
        "    <tr>\n",
        "      <th>2015-01-25 14:51:31</th>\n",
        "      <td> 200</td>\n",
        "      <td> 30.082760</td>\n",
        "      <td>  187.237.239.60</td>\n",
        "      <td> GET /62702/49/36/52/02/00/1390478016.9201_6P5E...</td>\n",
        "      <td> 524131082545</td>\n",
        "    </tr>\n",
        "    <tr>\n",
        "      <th>2015-01-25 14:51:51</th>\n",
        "      <td> 200</td>\n",
        "      <td> 30.082760</td>\n",
        "      <td>  187.237.239.60</td>\n",
        "      <td> GET /62702/49/36/52/02/00/1390478016.9201_6P5E...</td>\n",
        "      <td> 524131082545</td>\n",
        "    </tr>\n",
        "    <tr>\n",
        "      <th>2015-01-25 14:47:56</th>\n",
        "      <td> 200</td>\n",
        "      <td> 30.082760</td>\n",
        "      <td>  187.237.239.60</td>\n",
        "      <td> GET /62702/49/36/52/02/00/1390478016.9201_6P5E...</td>\n",
        "      <td> 524131082545</td>\n",
        "    </tr>\n",
        "    <tr>\n",
        "      <th>2015-01-25 14:47:12</th>\n",
        "      <td> 200</td>\n",
        "      <td> 30.082760</td>\n",
        "      <td>  187.237.239.60</td>\n",
        "      <td> GET /62702/49/36/52/02/00/1390478016.9201_6P5E...</td>\n",
        "      <td> 524131082545</td>\n",
        "    </tr>\n",
        "    <tr>\n",
        "      <th>2015-01-25 15:00:47</th>\n",
        "      <td> 200</td>\n",
        "      <td> 21.823374</td>\n",
        "      <td>  187.237.239.60</td>\n",
        "      <td> GET /62702/30/94/56/32/00/1393722439.8098_QTeg...</td>\n",
        "      <td> 524131082545</td>\n",
        "    </tr>\n",
        "    <tr>\n",
        "      <th>2015-01-25 15:00:31</th>\n",
        "      <td> 200</td>\n",
        "      <td> 21.823374</td>\n",
        "      <td>  187.237.239.60</td>\n",
        "      <td> GET /62702/30/94/56/32/00/1393722439.8098_QTeg...</td>\n",
        "      <td> 524131082545</td>\n",
        "    </tr>\n",
        "    <tr>\n",
        "      <th>2015-01-25 05:50:38</th>\n",
        "      <td> 200</td>\n",
        "      <td> 14.891348</td>\n",
        "      <td> 187.210.189.202</td>\n",
        "      <td> GET /62702/73/53/00/23/00/1400422891.6076_jks1...</td>\n",
        "      <td> 524131082545</td>\n",
        "    </tr>\n",
        "  </tbody>\n",
        "</table>\n",
        "</div>"
       ],
       "metadata": {},
       "output_type": "pyout",
       "prompt_number": 227,
       "text": [
        "                     status  \\\n",
        "time                          \n",
        "2015-01-25 14:50:00     200   \n",
        "2015-01-25 14:51:09     200   \n",
        "2015-01-25 14:48:57     200   \n",
        "2015-01-25 14:51:31     200   \n",
        "2015-01-25 14:51:51     200   \n",
        "2015-01-25 14:47:56     200   \n",
        "2015-01-25 14:47:12     200   \n",
        "2015-01-25 15:00:47     200   \n",
        "2015-01-25 15:00:31     200   \n",
        "2015-01-25 05:50:38     200   \n",
        "\n",
        "                             b  \\\n",
        "time                             \n",
        "2015-01-25 14:50:00  30.082760   \n",
        "2015-01-25 14:51:09  30.082760   \n",
        "2015-01-25 14:48:57  30.082760   \n",
        "2015-01-25 14:51:31  30.082760   \n",
        "2015-01-25 14:51:51  30.082760   \n",
        "2015-01-25 14:47:56  30.082760   \n",
        "2015-01-25 14:47:12  30.082760   \n",
        "2015-01-25 15:00:47  21.823374   \n",
        "2015-01-25 15:00:31  21.823374   \n",
        "2015-01-25 05:50:38  14.891348   \n",
        "\n",
        "                                  %l  \\\n",
        "time                                   \n",
        "2015-01-25 14:50:00   187.237.239.60   \n",
        "2015-01-25 14:51:09   187.237.239.60   \n",
        "2015-01-25 14:48:57   187.237.239.60   \n",
        "2015-01-25 14:51:31   187.237.239.60   \n",
        "2015-01-25 14:51:51   187.237.239.60   \n",
        "2015-01-25 14:47:56   187.237.239.60   \n",
        "2015-01-25 14:47:12   187.237.239.60   \n",
        "2015-01-25 15:00:47   187.237.239.60   \n",
        "2015-01-25 15:00:31   187.237.239.60   \n",
        "2015-01-25 05:50:38  187.210.189.202   \n",
        "\n",
        "                                                               request  \\\n",
        "time                                                                     \n",
        "2015-01-25 14:50:00  GET /62702/49/36/52/02/00/1390478016.9201_6P5E...   \n",
        "2015-01-25 14:51:09  GET /62702/49/36/52/02/00/1390478016.9201_6P5E...   \n",
        "2015-01-25 14:48:57  GET /62702/49/36/52/02/00/1390478016.9201_6P5E...   \n",
        "2015-01-25 14:51:31  GET /62702/49/36/52/02/00/1390478016.9201_6P5E...   \n",
        "2015-01-25 14:51:51  GET /62702/49/36/52/02/00/1390478016.9201_6P5E...   \n",
        "2015-01-25 14:47:56  GET /62702/49/36/52/02/00/1390478016.9201_6P5E...   \n",
        "2015-01-25 14:47:12  GET /62702/49/36/52/02/00/1390478016.9201_6P5E...   \n",
        "2015-01-25 15:00:47  GET /62702/30/94/56/32/00/1393722439.8098_QTeg...   \n",
        "2015-01-25 15:00:31  GET /62702/30/94/56/32/00/1393722439.8098_QTeg...   \n",
        "2015-01-25 05:50:38  GET /62702/73/53/00/23/00/1400422891.6076_jks1...   \n",
        "\n",
        "                           msisdn  \n",
        "time                               \n",
        "2015-01-25 14:50:00  524131082545  \n",
        "2015-01-25 14:51:09  524131082545  \n",
        "2015-01-25 14:48:57  524131082545  \n",
        "2015-01-25 14:51:31  524131082545  \n",
        "2015-01-25 14:51:51  524131082545  \n",
        "2015-01-25 14:47:56  524131082545  \n",
        "2015-01-25 14:47:12  524131082545  \n",
        "2015-01-25 15:00:47  524131082545  \n",
        "2015-01-25 15:00:31  524131082545  \n",
        "2015-01-25 05:50:38  524131082545  "
       ]
      }
     ],
     "prompt_number": 227
    },
    {
     "cell_type": "code",
     "collapsed": false,
     "input": [
      "user_traffic['request'].value_counts().head(10)"
     ],
     "language": "python",
     "metadata": {},
     "outputs": [
      {
       "metadata": {},
       "output_type": "pyout",
       "prompt_number": 228,
       "text": [
        "GET /62701/19/74/37/13/00/1400243167.3192_3GdPB5R7SqTvD0_ivEmVk/3gp.3gp HTTP/1.1    35\n",
        "GET /62701/54/03/37/13/00/1400240631.8688_oQEdpbPIc02Ujh_YvoDHR/3gp.3gp HTTP/1.1    14\n",
        "GET /62702/73/53/00/23/00/1400422891.6076_jks1lmd85Db0EL_DwVM7B/3gp.3gp HTTP/1.1    12\n",
        "GET /62702/25/63/34/02/00/1390671468.8629_3GIyawgksvZLPO_GtahWy/3gp.3gp HTTP/1.1     7\n",
        "GET /62702/12/75/38/92/00/1398865716.0654_duiShHnVlKL4JM_e6Wxhf/3gp.3gp HTTP/1.1     7\n",
        "GET /62702/49/36/52/02/00/1390478016.9201_6P5EgD1uFwZhbk_xH0ijb/3gp.3gp HTTP/1.1     7\n",
        "GET /62701/81/37/25/03/00/1399337102.712_Vh1DolSj2BN78z_wnSUdA/3gp.3gp HTTP/1.1     6\n",
        "GET /62701/40/24/37/13/00/1400242454.6638_edRpwDLS7kbtAr_GKl7S3/3gp.3gp HTTP/1.1     6\n",
        "GET /62701/29/80/85/22/00/1392724807.2013_0NXjVku3bAFt9P_PLfWTI/3gp.3gp HTTP/1.1     6\n",
        "GET /62701/63/56/13/12/00/1391525669.0087_rzbmwu8TfG7x6n_ey5Kvh/3gp.3gp HTTP/1.1     6\n",
        "dtype: int64"
       ]
      }
     ],
     "prompt_number": 228
    },
    {
     "cell_type": "code",
     "collapsed": false,
     "input": [
      "root='http://fs01.plugger.com'\n",
      "\n",
      "d ={}\n",
      "\n",
      "for req in user_traffic['request'].head(20):\n",
      "    url=req.split(' ')[1]\n",
      "    d[url] = 1\n",
      "    \n",
      "for url in d.keys():\n",
      "    if url[-3:]=='3gp':\n",
      "        print root+url"
     ],
     "language": "python",
     "metadata": {},
     "outputs": [
      {
       "output_type": "stream",
       "stream": "stdout",
       "text": [
        "http://fs01.plugger.com/62701/47/48/99/13/00/1400419358.1715_F81ivTMjDZK9aA_E3Bypi/3gp.3gp\n",
        "http://fs01.plugger.com/62701/19/74/37/13/00/1400243167.3192_3GdPB5R7SqTvD0_ivEmVk/3gp.3gp\n",
        "http://fs01.plugger.com/62701/54/03/37/13/00/1400240631.8688_oQEdpbPIc02Ujh_YvoDHR/3gp.3gp\n"
       ]
      }
     ],
     "prompt_number": 229
    },
    {
     "cell_type": "markdown",
     "metadata": {},
     "source": [
      "##Group the df by requests (i.e., URL) so that we can make stats on them"
     ]
    },
    {
     "cell_type": "code",
     "collapsed": false,
     "input": [
      "t=df.groupby(['request'])#,'status'])\n",
      "t#.resample('1440t')#['b']"
     ],
     "language": "python",
     "metadata": {
      "run_control": {
       "breakpoint": false
      }
     },
     "outputs": [
      {
       "metadata": {},
       "output_type": "pyout",
       "prompt_number": 230,
       "text": [
        "<pandas.core.groupby.DataFrameGroupBy object at 0x152e2de10>"
       ]
      }
     ],
     "prompt_number": 230
    },
    {
     "cell_type": "code",
     "collapsed": false,
     "input": [
      "parts = []\n",
      "\n",
      "for k,v in t:\n",
      "    x=[k,v['b'][0],v['b'].sum(),v['b'].count(),len(v['msisdn'].unique())]\n",
      "#    x=v[['T']].describe().T#[['mean','std']]\n",
      "#    x['area'] = k\n",
      "    parts.append(pd.DataFrame(x).T)\n",
      "stats_per_request = pd.concat(parts)"
     ],
     "language": "python",
     "metadata": {},
     "outputs": [],
     "prompt_number": 231
    },
    {
     "cell_type": "markdown",
     "metadata": {},
     "source": [
      "###Define the columns of stats_per_request"
     ]
    },
    {
     "cell_type": "code",
     "collapsed": false,
     "input": [
      "#pd.set_option('display.max_colwidth',1000)\n",
      "stats_per_request.columns=['request','size','mb','count','users']#,'time']\n",
      "stats_per_request['hash']=stats_per_request.request.apply(lambda x: x.split(' ')[1].split('/3gp.3gp')[0][7:])\n",
      "#stats_per_request['s'] = stats_per_request['mb']/stats_per_request['count']"
     ],
     "language": "python",
     "metadata": {},
     "outputs": [],
     "prompt_number": 232
    },
    {
     "cell_type": "markdown",
     "metadata": {},
     "source": [
      "###reset the index, sort by mb"
     ]
    },
    {
     "cell_type": "code",
     "collapsed": false,
     "input": [
      "stats_per_request=stats_per_request.reset_index().drop('index',1)\n",
      "stats_per_request.sort(['mb'],ascending=False,inplace=True)\n",
      "stats_per_request.head(5)"
     ],
     "language": "python",
     "metadata": {},
     "outputs": [
      {
       "html": [
        "<div style=\"max-height:1000px;max-width:1500px;overflow:auto;\">\n",
        "<table border=\"1\" class=\"dataframe\">\n",
        "  <thead>\n",
        "    <tr style=\"text-align: right;\">\n",
        "      <th></th>\n",
        "      <th>request</th>\n",
        "      <th>size</th>\n",
        "      <th>mb</th>\n",
        "      <th>count</th>\n",
        "      <th>users</th>\n",
        "      <th>hash</th>\n",
        "    </tr>\n",
        "  </thead>\n",
        "  <tbody>\n",
        "    <tr>\n",
        "      <th>1613</th>\n",
        "      <td> GET /62701/54/26/27/03/00/1399493446.4607_VYUs...</td>\n",
        "      <td> 20.77329</td>\n",
        "      <td> 12702.09</td>\n",
        "      <td> 613</td>\n",
        "      <td> 389</td>\n",
        "      <td> 54/26/27/03/00/1399493446.4607_VYUs0F1TtfIOGz_...</td>\n",
        "    </tr>\n",
        "    <tr>\n",
        "      <th>390 </th>\n",
        "      <td> GET /62701/13/40/67/82/00/1398088771.9985_D7AF...</td>\n",
        "      <td> 20.42477</td>\n",
        "      <td> 9598.137</td>\n",
        "      <td> 470</td>\n",
        "      <td> 279</td>\n",
        "      <td> 13/40/67/82/00/1398088771.9985_D7AFJiaYO4Gpc8_...</td>\n",
        "    </tr>\n",
        "    <tr>\n",
        "      <th>4334</th>\n",
        "      <td> GET /62702/30/94/56/32/00/1393722439.8098_QTeg...</td>\n",
        "      <td> 21.82337</td>\n",
        "      <td> 5998.919</td>\n",
        "      <td> 276</td>\n",
        "      <td> 179</td>\n",
        "      <td> 30/94/56/32/00/1393722439.8098_QTegBIP8WKqfRh_...</td>\n",
        "    </tr>\n",
        "    <tr>\n",
        "      <th>1884</th>\n",
        "      <td> GET /62701/63/56/13/12/00/1391525669.0087_rzbm...</td>\n",
        "      <td> 6.544052</td>\n",
        "      <td>  5765.31</td>\n",
        "      <td> 881</td>\n",
        "      <td> 588</td>\n",
        "      <td> 63/56/13/12/00/1391525669.0087_rzbmwu8TfG7x6n_...</td>\n",
        "    </tr>\n",
        "    <tr>\n",
        "      <th>5203</th>\n",
        "      <td> GET /62702/49/36/52/02/00/1390478016.9201_6P5E...</td>\n",
        "      <td> 30.08276</td>\n",
        "      <td> 5505.145</td>\n",
        "      <td> 183</td>\n",
        "      <td> 111</td>\n",
        "      <td> 49/36/52/02/00/1390478016.9201_6P5EgD1uFwZhbk_...</td>\n",
        "    </tr>\n",
        "  </tbody>\n",
        "</table>\n",
        "</div>"
       ],
       "metadata": {},
       "output_type": "pyout",
       "prompt_number": 233,
       "text": [
        "                                                request  \\\n",
        "1613  GET /62701/54/26/27/03/00/1399493446.4607_VYUs...   \n",
        "390   GET /62701/13/40/67/82/00/1398088771.9985_D7AF...   \n",
        "4334  GET /62702/30/94/56/32/00/1393722439.8098_QTeg...   \n",
        "1884  GET /62701/63/56/13/12/00/1391525669.0087_rzbm...   \n",
        "5203  GET /62702/49/36/52/02/00/1390478016.9201_6P5E...   \n",
        "\n",
        "          size  \\\n",
        "1613  20.77329   \n",
        "390   20.42477   \n",
        "4334  21.82337   \n",
        "1884  6.544052   \n",
        "5203  30.08276   \n",
        "\n",
        "            mb  \\\n",
        "1613  12702.09   \n",
        "390   9598.137   \n",
        "4334  5998.919   \n",
        "1884   5765.31   \n",
        "5203  5505.145   \n",
        "\n",
        "     count  \\\n",
        "1613   613   \n",
        "390    470   \n",
        "4334   276   \n",
        "1884   881   \n",
        "5203   183   \n",
        "\n",
        "     users  \\\n",
        "1613   389   \n",
        "390    279   \n",
        "4334   179   \n",
        "1884   588   \n",
        "5203   111   \n",
        "\n",
        "                                                   hash  \n",
        "1613  54/26/27/03/00/1399493446.4607_VYUs0F1TtfIOGz_...  \n",
        "390   13/40/67/82/00/1398088771.9985_D7AFJiaYO4Gpc8_...  \n",
        "4334  30/94/56/32/00/1393722439.8098_QTegBIP8WKqfRh_...  \n",
        "1884  63/56/13/12/00/1391525669.0087_rzbmwu8TfG7x6n_...  \n",
        "5203  49/36/52/02/00/1390478016.9201_6P5EgD1uFwZhbk_...  "
       ]
      }
     ],
     "prompt_number": 233
    },
    {
     "cell_type": "markdown",
     "metadata": {},
     "source": [
      "### Populate df_content with a subset of the attributes taken from the content table in the DB"
     ]
    },
    {
     "cell_type": "code",
     "collapsed": false,
     "input": [
      "zzcontent_fn=_rootdir+'data/zzcontent'\n",
      "#!head {zzcontent_fn}\n",
      "df_content=0 # uncomment this line to reload the content_df\n",
      "try:\n",
      "    print df_content.content_id.count()\n",
      "except:\n",
      "    df_content=pd.read_csv(zzcontent_fn,\n",
      "                 sep='\\t',\n",
      "#                 encoding='utf-8',\n",
      "                 header=1, names=['content_id','user_id','time','size','state','disk_usage','no_comments ','mime','type','title','hash','oid']\n",
      "                 )\n",
      "\n",
      "#    df_content['user_id']=df_content['user_id'].astype(str)\n",
      "    df_content.hash = df_content.hash.apply(lambda x: str(x).strip()[:32])\n",
      "    print\n",
      "    print df_content.content_id.count()\n",
      "#    df_content.set_index('hash',inplace=True)\n",
      "\n",
      "df_content=df_content.dropna()\n",
      "\n",
      "df_content['user_id'] = df_content.user_id.astype('int') \n",
      "df_content['content_id'] = df_content.content_id.astype('int')\n",
      "df_content['title'] = df_content.content_id.astype('str')"
     ],
     "language": "python",
     "metadata": {
      "run_control": {
       "breakpoint": false
      }
     },
     "outputs": [
      {
       "output_type": "stream",
       "stream": "stdout",
       "text": [
        "\n",
        "998293\n"
       ]
      }
     ],
     "prompt_number": 234
    },
    {
     "cell_type": "code",
     "collapsed": false,
     "input": [
      "df_content.info()"
     ],
     "language": "python",
     "metadata": {
      "run_control": {
       "breakpoint": false
      }
     },
     "outputs": [
      {
       "output_type": "stream",
       "stream": "stdout",
       "text": [
        "<class 'pandas.core.frame.DataFrame'>\n",
        "Int64Index: 994365 entries, 0 to 998328\n",
        "Data columns (total 12 columns):\n",
        "content_id      994365 non-null int64\n",
        "user_id         994365 non-null int64\n",
        "time            994365 non-null object\n",
        "size            994365 non-null float64\n",
        "state           994365 non-null float64\n",
        "disk_usage      994365 non-null float64\n",
        "no_comments     994365 non-null float64\n",
        "mime            994365 non-null object\n",
        "type            994365 non-null float64\n",
        "title           994365 non-null object\n",
        "hash            994365 non-null object\n",
        "oid             994365 non-null float64\n",
        "dtypes: float64(6), int64(2), object(4)\n",
        "memory usage: 98.6+ MB\n"
       ]
      }
     ],
     "prompt_number": 235
    },
    {
     "cell_type": "markdown",
     "metadata": {},
     "source": [
      "###transform the request column into a url"
     ]
    },
    {
     "cell_type": "code",
     "collapsed": false,
     "input": [
      "root='http://fs01.plugger.com'\n",
      "lo=len('68/23/30/00/00/1293842970_3eso9f')\n",
      "\n",
      "#stats_per_request.set_index('hash',inplace=True)\n",
      "\n",
      "stats_per_request['request']=stats_per_request.request.apply(lambda x: root+x.split(' ')[1])\n",
      "stats_per_request.head(3)"
     ],
     "language": "python",
     "metadata": {},
     "outputs": [
      {
       "html": [
        "<div style=\"max-height:1000px;max-width:1500px;overflow:auto;\">\n",
        "<table border=\"1\" class=\"dataframe\">\n",
        "  <thead>\n",
        "    <tr style=\"text-align: right;\">\n",
        "      <th></th>\n",
        "      <th>request</th>\n",
        "      <th>size</th>\n",
        "      <th>mb</th>\n",
        "      <th>count</th>\n",
        "      <th>users</th>\n",
        "      <th>hash</th>\n",
        "    </tr>\n",
        "  </thead>\n",
        "  <tbody>\n",
        "    <tr>\n",
        "      <th>1613</th>\n",
        "      <td> http://fs01.plugger.com/62701/54/26/27/03/00/1...</td>\n",
        "      <td> 20.77329</td>\n",
        "      <td> 12702.09</td>\n",
        "      <td> 613</td>\n",
        "      <td> 389</td>\n",
        "      <td> 54/26/27/03/00/1399493446.4607_VYUs0F1TtfIOGz_...</td>\n",
        "    </tr>\n",
        "    <tr>\n",
        "      <th>390 </th>\n",
        "      <td> http://fs01.plugger.com/62701/13/40/67/82/00/1...</td>\n",
        "      <td> 20.42477</td>\n",
        "      <td> 9598.137</td>\n",
        "      <td> 470</td>\n",
        "      <td> 279</td>\n",
        "      <td> 13/40/67/82/00/1398088771.9985_D7AFJiaYO4Gpc8_...</td>\n",
        "    </tr>\n",
        "    <tr>\n",
        "      <th>4334</th>\n",
        "      <td> http://fs01.plugger.com/62702/30/94/56/32/00/1...</td>\n",
        "      <td> 21.82337</td>\n",
        "      <td> 5998.919</td>\n",
        "      <td> 276</td>\n",
        "      <td> 179</td>\n",
        "      <td> 30/94/56/32/00/1393722439.8098_QTegBIP8WKqfRh_...</td>\n",
        "    </tr>\n",
        "  </tbody>\n",
        "</table>\n",
        "</div>"
       ],
       "metadata": {},
       "output_type": "pyout",
       "prompt_number": 236,
       "text": [
        "                                                request  \\\n",
        "1613  http://fs01.plugger.com/62701/54/26/27/03/00/1...   \n",
        "390   http://fs01.plugger.com/62701/13/40/67/82/00/1...   \n",
        "4334  http://fs01.plugger.com/62702/30/94/56/32/00/1...   \n",
        "\n",
        "          size  \\\n",
        "1613  20.77329   \n",
        "390   20.42477   \n",
        "4334  21.82337   \n",
        "\n",
        "            mb  \\\n",
        "1613  12702.09   \n",
        "390   9598.137   \n",
        "4334  5998.919   \n",
        "\n",
        "     count  \\\n",
        "1613   613   \n",
        "390    470   \n",
        "4334   276   \n",
        "\n",
        "     users  \\\n",
        "1613   389   \n",
        "390    279   \n",
        "4334   179   \n",
        "\n",
        "                                                   hash  \n",
        "1613  54/26/27/03/00/1399493446.4607_VYUs0F1TtfIOGz_...  \n",
        "390   13/40/67/82/00/1398088771.9985_D7AFJiaYO4Gpc8_...  \n",
        "4334  30/94/56/32/00/1393722439.8098_QTegBIP8WKqfRh_...  "
       ]
      }
     ],
     "prompt_number": 236
    },
    {
     "cell_type": "code",
     "collapsed": false,
     "input": [
      "report=stats_per_request.sort(['mb'],ascending=False).copy()\n",
      "report.head(3)"
     ],
     "language": "python",
     "metadata": {
      "run_control": {
       "breakpoint": false
      }
     },
     "outputs": [
      {
       "html": [
        "<div style=\"max-height:1000px;max-width:1500px;overflow:auto;\">\n",
        "<table border=\"1\" class=\"dataframe\">\n",
        "  <thead>\n",
        "    <tr style=\"text-align: right;\">\n",
        "      <th></th>\n",
        "      <th>request</th>\n",
        "      <th>size</th>\n",
        "      <th>mb</th>\n",
        "      <th>count</th>\n",
        "      <th>users</th>\n",
        "      <th>hash</th>\n",
        "    </tr>\n",
        "  </thead>\n",
        "  <tbody>\n",
        "    <tr>\n",
        "      <th>1613</th>\n",
        "      <td> http://fs01.plugger.com/62701/54/26/27/03/00/1...</td>\n",
        "      <td> 20.77329</td>\n",
        "      <td> 12702.09</td>\n",
        "      <td> 613</td>\n",
        "      <td> 389</td>\n",
        "      <td> 54/26/27/03/00/1399493446.4607_VYUs0F1TtfIOGz_...</td>\n",
        "    </tr>\n",
        "    <tr>\n",
        "      <th>390 </th>\n",
        "      <td> http://fs01.plugger.com/62701/13/40/67/82/00/1...</td>\n",
        "      <td> 20.42477</td>\n",
        "      <td> 9598.137</td>\n",
        "      <td> 470</td>\n",
        "      <td> 279</td>\n",
        "      <td> 13/40/67/82/00/1398088771.9985_D7AFJiaYO4Gpc8_...</td>\n",
        "    </tr>\n",
        "    <tr>\n",
        "      <th>4334</th>\n",
        "      <td> http://fs01.plugger.com/62702/30/94/56/32/00/1...</td>\n",
        "      <td> 21.82337</td>\n",
        "      <td> 5998.919</td>\n",
        "      <td> 276</td>\n",
        "      <td> 179</td>\n",
        "      <td> 30/94/56/32/00/1393722439.8098_QTegBIP8WKqfRh_...</td>\n",
        "    </tr>\n",
        "  </tbody>\n",
        "</table>\n",
        "</div>"
       ],
       "metadata": {},
       "output_type": "pyout",
       "prompt_number": 237,
       "text": [
        "                                                request  \\\n",
        "1613  http://fs01.plugger.com/62701/54/26/27/03/00/1...   \n",
        "390   http://fs01.plugger.com/62701/13/40/67/82/00/1...   \n",
        "4334  http://fs01.plugger.com/62702/30/94/56/32/00/1...   \n",
        "\n",
        "          size  \\\n",
        "1613  20.77329   \n",
        "390   20.42477   \n",
        "4334  21.82337   \n",
        "\n",
        "            mb  \\\n",
        "1613  12702.09   \n",
        "390   9598.137   \n",
        "4334  5998.919   \n",
        "\n",
        "     count  \\\n",
        "1613   613   \n",
        "390    470   \n",
        "4334   276   \n",
        "\n",
        "     users  \\\n",
        "1613   389   \n",
        "390    279   \n",
        "4334   179   \n",
        "\n",
        "                                                   hash  \n",
        "1613  54/26/27/03/00/1399493446.4607_VYUs0F1TtfIOGz_...  \n",
        "390   13/40/67/82/00/1398088771.9985_D7AFJiaYO4Gpc8_...  \n",
        "4334  30/94/56/32/00/1393722439.8098_QTegBIP8WKqfRh_...  "
       ]
      }
     ],
     "prompt_number": 237
    },
    {
     "cell_type": "code",
     "collapsed": false,
     "input": [
      "a = np.arange(10,110,10)\n",
      "a\n",
      "sns.percentiles(report.size,a) #report.size"
     ],
     "language": "python",
     "metadata": {
      "run_control": {
       "breakpoint": false
      }
     },
     "outputs": [
      {
       "metadata": {},
       "output_type": "pyout",
       "prompt_number": 238,
       "text": [
        "array([ 45126.,  45126.,  45126.,  45126.,  45126.,  45126.,  45126.,\n",
        "        45126.,  45126.,  45126.])"
       ]
      }
     ],
     "prompt_number": 238
    },
    {
     "cell_type": "code",
     "collapsed": false,
     "input": [
      "report['_hash']=report['hash']\n",
      "report['hash']=report.hash.apply(lambda x: x[:32])\n",
      "m=df_content[['hash','content_id']].dropna()\n",
      "report=report.merge(m)#, left_index=True,right_index=True)\n",
      "report.sort(['mb'],ascending=False, inplace=True)\n",
      "report.head(10)"
     ],
     "language": "python",
     "metadata": {
      "run_control": {
       "breakpoint": false
      }
     },
     "outputs": [
      {
       "html": [
        "<div style=\"max-height:1000px;max-width:1500px;overflow:auto;\">\n",
        "<table border=\"1\" class=\"dataframe\">\n",
        "  <thead>\n",
        "    <tr style=\"text-align: right;\">\n",
        "      <th></th>\n",
        "      <th>request</th>\n",
        "      <th>size</th>\n",
        "      <th>mb</th>\n",
        "      <th>count</th>\n",
        "      <th>users</th>\n",
        "      <th>hash</th>\n",
        "      <th>_hash</th>\n",
        "      <th>content_id</th>\n",
        "    </tr>\n",
        "  </thead>\n",
        "  <tbody>\n",
        "    <tr>\n",
        "      <th>0</th>\n",
        "      <td> http://fs01.plugger.com/62701/54/26/27/03/00/1...</td>\n",
        "      <td> 20.77329</td>\n",
        "      <td> 12702.09</td>\n",
        "      <td> 613</td>\n",
        "      <td> 389</td>\n",
        "      <td> 54/26/27/03/00/1399493446.4607_V</td>\n",
        "      <td> 54/26/27/03/00/1399493446.4607_VYUs0F1TtfIOGz_...</td>\n",
        "      <td> 30726245</td>\n",
        "    </tr>\n",
        "    <tr>\n",
        "      <th>1</th>\n",
        "      <td> http://fs01.plugger.com/62701/13/40/67/82/00/1...</td>\n",
        "      <td> 20.42477</td>\n",
        "      <td> 9598.137</td>\n",
        "      <td> 470</td>\n",
        "      <td> 279</td>\n",
        "      <td> 13/40/67/82/00/1398088771.9985_D</td>\n",
        "      <td> 13/40/67/82/00/1398088771.9985_D7AFJiaYO4Gpc8_...</td>\n",
        "      <td> 28760431</td>\n",
        "    </tr>\n",
        "    <tr>\n",
        "      <th>2</th>\n",
        "      <td> http://fs01.plugger.com/62702/30/94/56/32/00/1...</td>\n",
        "      <td> 21.82337</td>\n",
        "      <td> 5998.919</td>\n",
        "      <td> 276</td>\n",
        "      <td> 179</td>\n",
        "      <td> 30/94/56/32/00/1393722439.8098_Q</td>\n",
        "      <td> 30/94/56/32/00/1393722439.8098_QTegBIP8WKqfRh_...</td>\n",
        "      <td> 23654903</td>\n",
        "    </tr>\n",
        "    <tr>\n",
        "      <th>3</th>\n",
        "      <td> http://fs01.plugger.com/62701/63/56/13/12/00/1...</td>\n",
        "      <td> 6.544052</td>\n",
        "      <td>  5765.31</td>\n",
        "      <td> 881</td>\n",
        "      <td> 588</td>\n",
        "      <td> 63/56/13/12/00/1391525669.0087_r</td>\n",
        "      <td> 63/56/13/12/00/1391525669.0087_rzbmwu8TfG7x6n_...</td>\n",
        "      <td> 21316536</td>\n",
        "    </tr>\n",
        "    <tr>\n",
        "      <th>4</th>\n",
        "      <td> http://fs01.plugger.com/62702/49/36/52/02/00/1...</td>\n",
        "      <td> 30.08276</td>\n",
        "      <td> 5505.145</td>\n",
        "      <td> 183</td>\n",
        "      <td> 111</td>\n",
        "      <td> 49/36/52/02/00/1390478016.9201_6</td>\n",
        "      <td> 49/36/52/02/00/1390478016.9201_6P5EgD1uFwZhbk_...</td>\n",
        "      <td> 20256394</td>\n",
        "    </tr>\n",
        "    <tr>\n",
        "      <th>5</th>\n",
        "      <td> http://fs01.plugger.com/62702/92/43/79/42/00/1...</td>\n",
        "      <td> 19.33952</td>\n",
        "      <td> 5314.692</td>\n",
        "      <td> 275</td>\n",
        "      <td> 161</td>\n",
        "      <td> 92/43/79/42/00/1394929971.0962_a</td>\n",
        "      <td> 92/43/79/42/00/1394929971.0962_amswKz8jZvoh3W_...</td>\n",
        "      <td> 24973429</td>\n",
        "    </tr>\n",
        "    <tr>\n",
        "      <th>6</th>\n",
        "      <td> http://fs01.plugger.com/62701/93/74/69/32/00/1...</td>\n",
        "      <td> 18.35048</td>\n",
        "      <td> 4642.671</td>\n",
        "      <td> 253</td>\n",
        "      <td> 164</td>\n",
        "      <td> 93/74/69/32/00/1394027061.9117_L</td>\n",
        "      <td> 93/74/69/32/00/1394027061.9117_LK8h3qf2akN0WQ_...</td>\n",
        "      <td> 23964739</td>\n",
        "    </tr>\n",
        "    <tr>\n",
        "      <th>7</th>\n",
        "      <td> http://fs01.plugger.com/62701/14/88/26/92/00/1...</td>\n",
        "      <td>  13.5515</td>\n",
        "      <td> 4553.303</td>\n",
        "      <td> 336</td>\n",
        "      <td> 254</td>\n",
        "      <td> 14/88/26/92/00/1398707067.1791_H</td>\n",
        "      <td> 14/88/26/92/00/1398707067.1791_HaZ5xwYVOhqGNe_...</td>\n",
        "      <td> 29628841</td>\n",
        "    </tr>\n",
        "    <tr>\n",
        "      <th>8</th>\n",
        "      <td> http://fs01.plugger.com/62701/59/23/48/62/00/1...</td>\n",
        "      <td> 12.18135</td>\n",
        "      <td> 4263.474</td>\n",
        "      <td> 350</td>\n",
        "      <td> 227</td>\n",
        "      <td> 59/23/48/62/00/1396516977.1193_7</td>\n",
        "      <td> 59/23/48/62/00/1396516977.1193_7xZU8SrVBjJ4LM_...</td>\n",
        "      <td> 26843295</td>\n",
        "    </tr>\n",
        "    <tr>\n",
        "      <th>9</th>\n",
        "      <td> http://fs01.plugger.com/62701/81/37/25/03/00/1...</td>\n",
        "      <td> 9.199095</td>\n",
        "      <td> 4249.982</td>\n",
        "      <td> 462</td>\n",
        "      <td> 290</td>\n",
        "      <td> 81/37/25/03/00/1399337102.712_Vh</td>\n",
        "      <td> 81/37/25/03/00/1399337102.712_Vh1DolSj2BN78z_w...</td>\n",
        "      <td> 30527318</td>\n",
        "    </tr>\n",
        "  </tbody>\n",
        "</table>\n",
        "</div>"
       ],
       "metadata": {},
       "output_type": "pyout",
       "prompt_number": 239,
       "text": [
        "                                             request  \\\n",
        "0  http://fs01.plugger.com/62701/54/26/27/03/00/1...   \n",
        "1  http://fs01.plugger.com/62701/13/40/67/82/00/1...   \n",
        "2  http://fs01.plugger.com/62702/30/94/56/32/00/1...   \n",
        "3  http://fs01.plugger.com/62701/63/56/13/12/00/1...   \n",
        "4  http://fs01.plugger.com/62702/49/36/52/02/00/1...   \n",
        "5  http://fs01.plugger.com/62702/92/43/79/42/00/1...   \n",
        "6  http://fs01.plugger.com/62701/93/74/69/32/00/1...   \n",
        "7  http://fs01.plugger.com/62701/14/88/26/92/00/1...   \n",
        "8  http://fs01.plugger.com/62701/59/23/48/62/00/1...   \n",
        "9  http://fs01.plugger.com/62701/81/37/25/03/00/1...   \n",
        "\n",
        "       size  \\\n",
        "0  20.77329   \n",
        "1  20.42477   \n",
        "2  21.82337   \n",
        "3  6.544052   \n",
        "4  30.08276   \n",
        "5  19.33952   \n",
        "6  18.35048   \n",
        "7   13.5515   \n",
        "8  12.18135   \n",
        "9  9.199095   \n",
        "\n",
        "         mb  \\\n",
        "0  12702.09   \n",
        "1  9598.137   \n",
        "2  5998.919   \n",
        "3   5765.31   \n",
        "4  5505.145   \n",
        "5  5314.692   \n",
        "6  4642.671   \n",
        "7  4553.303   \n",
        "8  4263.474   \n",
        "9  4249.982   \n",
        "\n",
        "  count  \\\n",
        "0   613   \n",
        "1   470   \n",
        "2   276   \n",
        "3   881   \n",
        "4   183   \n",
        "5   275   \n",
        "6   253   \n",
        "7   336   \n",
        "8   350   \n",
        "9   462   \n",
        "\n",
        "  users  \\\n",
        "0   389   \n",
        "1   279   \n",
        "2   179   \n",
        "3   588   \n",
        "4   111   \n",
        "5   161   \n",
        "6   164   \n",
        "7   254   \n",
        "8   227   \n",
        "9   290   \n",
        "\n",
        "                               hash  \\\n",
        "0  54/26/27/03/00/1399493446.4607_V   \n",
        "1  13/40/67/82/00/1398088771.9985_D   \n",
        "2  30/94/56/32/00/1393722439.8098_Q   \n",
        "3  63/56/13/12/00/1391525669.0087_r   \n",
        "4  49/36/52/02/00/1390478016.9201_6   \n",
        "5  92/43/79/42/00/1394929971.0962_a   \n",
        "6  93/74/69/32/00/1394027061.9117_L   \n",
        "7  14/88/26/92/00/1398707067.1791_H   \n",
        "8  59/23/48/62/00/1396516977.1193_7   \n",
        "9  81/37/25/03/00/1399337102.712_Vh   \n",
        "\n",
        "                                               _hash  \\\n",
        "0  54/26/27/03/00/1399493446.4607_VYUs0F1TtfIOGz_...   \n",
        "1  13/40/67/82/00/1398088771.9985_D7AFJiaYO4Gpc8_...   \n",
        "2  30/94/56/32/00/1393722439.8098_QTegBIP8WKqfRh_...   \n",
        "3  63/56/13/12/00/1391525669.0087_rzbmwu8TfG7x6n_...   \n",
        "4  49/36/52/02/00/1390478016.9201_6P5EgD1uFwZhbk_...   \n",
        "5  92/43/79/42/00/1394929971.0962_amswKz8jZvoh3W_...   \n",
        "6  93/74/69/32/00/1394027061.9117_LK8h3qf2akN0WQ_...   \n",
        "7  14/88/26/92/00/1398707067.1791_HaZ5xwYVOhqGNe_...   \n",
        "8  59/23/48/62/00/1396516977.1193_7xZU8SrVBjJ4LM_...   \n",
        "9  81/37/25/03/00/1399337102.712_Vh1DolSj2BN78z_w...   \n",
        "\n",
        "   content_id  \n",
        "0    30726245  \n",
        "1    28760431  \n",
        "2    23654903  \n",
        "3    21316536  \n",
        "4    20256394  \n",
        "5    24973429  \n",
        "6    23964739  \n",
        "7    29628841  \n",
        "8    26843295  \n",
        "9    30527318  "
       ]
      }
     ],
     "prompt_number": 239
    },
    {
     "cell_type": "code",
     "collapsed": false,
     "input": [
      "try:\n",
      "    report.drop(['hash'],1,inplace=True)\n",
      "except ValueError:\n",
      "    pass\n",
      "report.count()"
     ],
     "language": "python",
     "metadata": {},
     "outputs": [
      {
       "metadata": {},
       "output_type": "pyout",
       "prompt_number": 240,
       "text": [
        "request       7150\n",
        "size          7150\n",
        "mb            7150\n",
        "count         7150\n",
        "users         7150\n",
        "_hash         7150\n",
        "content_id    7150\n",
        "dtype: int64"
       ]
      }
     ],
     "prompt_number": 240
    },
    {
     "cell_type": "code",
     "collapsed": false,
     "input": [
      "report.to_csv(_rootdir+'data/topXvideos.csv', index=False)\n",
      "!head -n 3 {_rootdir+'data/topXvideos.csv'}"
     ],
     "language": "python",
     "metadata": {},
     "outputs": [
      {
       "output_type": "stream",
       "stream": "stdout",
       "text": [
        "request,size,mb,count,users,_hash,content_id\r\n",
        "http://fs01.plugger.com/62701/54/26/27/03/00/1399493446.4607_VYUs0F1TtfIOGz_nSfYRF/3gp.3gp,20.773294448852539,12702.087819099426,613,389,54/26/27/03/00/1399493446.4607_VYUs0F1TtfIOGz_nSfYRF,30726245\r\n",
        "http://fs01.plugger.com/62701/13/40/67/82/00/1398088771.9985_D7AFJiaYO4Gpc8_vXyioW/3gp.3gp,20.424765586853027,9598.1370153427124,470,279,13/40/67/82/00/1398088771.9985_D7AFJiaYO4Gpc8_vXyioW,28760431\r\n"
       ]
      }
     ],
     "prompt_number": 241
    },
    {
     "cell_type": "code",
     "collapsed": false,
     "input": [
      "!wc {_rootdir+'data/topXvideos.csv'}"
     ],
     "language": "python",
     "metadata": {},
     "outputs": [
      {
       "output_type": "stream",
       "stream": "stdout",
       "text": [
        "    7151    7151 1391163 /Users/Nicolas/dev/data/topXvideos.csv\r\n"
       ]
      }
     ],
     "prompt_number": 242
    },
    {
     "cell_type": "code",
     "collapsed": false,
     "input": [
      "!open {_rootdir+'data/topXvideos.csv'}"
     ],
     "language": "python",
     "metadata": {},
     "outputs": [],
     "prompt_number": 243
    },
    {
     "cell_type": "heading",
     "level": 2,
     "metadata": {},
     "source": [
      "We're done!"
     ]
    }
   ],
   "metadata": {}
  }
 ]
}