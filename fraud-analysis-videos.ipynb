{
 "metadata": {
  "name": "",
  "signature": "sha256:dc93cea336aa29975229c50e8b0977fb10593698ca3564a7fd8ba93c663831bd"
 },
 "nbformat": 3,
 "nbformat_minor": 0,
 "worksheets": [
  {
   "cells": [
    {
     "cell_type": "markdown",
     "metadata": {},
     "source": [
      "#Fraud analysis\n",
      "- Finds the users that consume the most bandwith\n",
      "- Finds the most intense days of the most intense user"
     ]
    },
    {
     "cell_type": "heading",
     "level": 2,
     "metadata": {},
     "source": [
      "Setup"
     ]
    },
    {
     "cell_type": "code",
     "collapsed": false,
     "input": [
      "%pylab inline\n",
      "#file_name=_rootdir+'data/fraud-worst/worst.log'\n",
      "file_name=_rootdir+'data/fs01/201502_3gp.log'"
     ],
     "language": "python",
     "metadata": {},
     "outputs": [
      {
       "output_type": "stream",
       "stream": "stdout",
       "text": [
        "Populating the interactive namespace from numpy and matplotlib\n"
       ]
      }
     ],
     "prompt_number": 1
    },
    {
     "cell_type": "code",
     "collapsed": false,
     "input": [
      "import pandas as pd\n",
      "import numpy as np\n",
      "import sys\n",
      "import matplotlib.pyplot as plt\n",
      "import apachelog"
     ],
     "language": "python",
     "metadata": {},
     "outputs": [],
     "prompt_number": 2
    },
    {
     "cell_type": "heading",
     "level": 2,
     "metadata": {},
     "source": [
      "Parsing the log"
     ]
    },
    {
     "cell_type": "code",
     "collapsed": false,
     "input": [
      "sample_string = '189.254.162.19 189.254.162.19 - [14/Feb/2015:21:38:28 -0500] \"GET /profile/14119369/inbox HTTP/1.1\" 200 3040 \\\n",
      "\"http://mx.plugger.com/home/plugger\" \"Mozilla/5.0 (Linux; U; Android 4.4.2; es-sa; LG-D320 Build/KOT49I.V10a) AppleWebKit/537.36 (KHTML, like Gecko) Version/4.0 Chrome/30.0.1599.103 Mobile Safari/537.36\" \\\n",
      "526142530854'# BDFEA213B8166CA395DE005054E006A2 \"-\"'\n",
      "nformat1 = r'%h %l %u %t \\\"%r\\\" %>s %b \\\"%i\\\" \\\"%{User-Agent}i\\\" %{msisdn}b'\n",
      "nformat2 = r'%h %l %u %t \\\"%r\\\" %>s %b \\\"%i\\\" \\\"%{User-Agent}i\\\" %{msisdn}b %{hexa}i \\\"%V\\\"'\n",
      "nformat3 = r'%h %l, %u %t \\\"%r\\\" %>s %b \\\"%i\\\" \\\"%{User-Agent}i\\\" %{msisdn}b'\n",
      "nformat4 = r'%h %l, %u %u %t \\\"%r\\\" %>s %b \\\"%i\\\" \\\"%{User-Agent}i\\\" %{msisdn}b %{hexa}i \\\"%V\\\"'\n",
      "nformat5 = r'%h %l, %u %u %t \\\"%r\\\" %>s %b \\\"%i\\\" \\\"%{User-Agent}i\\\" %{msisdn}b'\n",
      "\n",
      "\n",
      "p1 = apachelog.parser(nformat1)\n",
      "p2 = apachelog.parser(nformat2)\n",
      "p3 = apachelog.parser(nformat3)\n",
      "p4 = apachelog.parser(nformat4)\n",
      "p5 = apachelog.parser(nformat5)\n",
      "\n",
      "data = p1.parse(sample_string)\n",
      "data"
     ],
     "language": "python",
     "metadata": {},
     "outputs": [
      {
       "metadata": {},
       "output_type": "pyout",
       "prompt_number": 3,
       "text": [
        "{'%>s': '200',\n",
        " '%b': '3040',\n",
        " '%h': '189.254.162.19',\n",
        " '%i': 'http://mx.plugger.com/home/plugger',\n",
        " '%l': '189.254.162.19',\n",
        " '%r': 'GET /profile/14119369/inbox HTTP/1.1',\n",
        " '%t': '[14/Feb/2015:21:38:28 -0500]',\n",
        " '%u': '-',\n",
        " '%{User-Agent}i': 'Mozilla/5.0 (Linux; U; Android 4.4.2; es-sa; LG-D320 Build/KOT49I.V10a) AppleWebKit/537.36 (KHTML, like Gecko) Version/4.0 Chrome/30.0.1599.103 Mobile Safari/537.36',\n",
        " '%{msisdn}b': '526142530854'}"
       ]
      }
     ],
     "prompt_number": 3
    },
    {
     "cell_type": "markdown",
     "metadata": {},
     "source": [
      "Now let's parse each line while preparing the access time so that pandas will be able to handle it."
     ]
    },
    {
     "cell_type": "code",
     "collapsed": false,
     "input": [
      "from apachelog import ApacheLogParserError\n",
      "log_list = []\n",
      "count=0\n",
      "missed=''\n",
      "with open(file_name) as f:\n",
      "    for line in f.readlines():\n",
      "        try:\n",
      "            data = p1.parse(line)\n",
      "        except ApacheLogParserError:\n",
      "            try:\n",
      "                data = p2.parse(line)\n",
      "            except ApacheLogParserError:\n",
      "                try:\n",
      "                    data = p3.parse(line)\n",
      "                except ApacheLogParserError:\n",
      "                    try:\n",
      "                        data = p4.parse(line)\n",
      "                    except ApacheLogParserError:\n",
      "                        try:\n",
      "                            data = p5.parse(line)\n",
      "                        except ApacheLogParserError:\n",
      "                            count +=1\n",
      "                            missed=line\n",
      "                            pass\n",
      "#                    sys.stderr.write(\"Unable to parse %s\" % line)\n",
      "#                    break\n",
      "        data['%t'] = data['%t'][1:12]+' '+data['%t'][13:21]+' '+data['%t'][22:27]\n",
      "        log_list.append(data)\n",
      "print 'missed %d lines: %s'%(count,missed)"
     ],
     "language": "python",
     "metadata": {},
     "outputs": [
      {
       "output_type": "stream",
       "stream": "stdout",
       "text": [
        "missed 17 lines: 189.206.114.3 172.16.16.68, 127.0.0.1, 189.206.114.3 - [14/Feb/2015:01:24:02 -0500] \"GET /62702/55/51/94/23/00/1400728511.3407_M4s9VAtwuRGPoq_phPe8I/3gp.3gp HTTP/1.1\" 404 162 \"http://mx.plugger.com/mymedia/content/32491555\" \"Mozilla/5.0 (Linux; U; Android 4.1.2; es-sa; LG-E450f Build/JZO54K) AppleWebKit/534.30 (KHTML, like Gecko) Version/4.0 Mobile Safari/534.30\" -\n",
        "\n"
       ]
      }
     ],
     "prompt_number": 4
    },
    {
     "cell_type": "markdown",
     "metadata": {},
     "source": [
      "Loading into pandas."
     ]
    },
    {
     "cell_type": "code",
     "collapsed": false,
     "input": [
      "from pandas import Series, DataFrame, Panel\n",
      "df = DataFrame(log_list)\n",
      "df.head(2)"
     ],
     "language": "python",
     "metadata": {},
     "outputs": [
      {
       "html": [
        "<div style=\"max-height:1000px;max-width:1500px;overflow:auto;\">\n",
        "<table border=\"1\" class=\"dataframe\">\n",
        "  <thead>\n",
        "    <tr style=\"text-align: right;\">\n",
        "      <th></th>\n",
        "      <th>%&gt;s</th>\n",
        "      <th>%V</th>\n",
        "      <th>%b</th>\n",
        "      <th>%h</th>\n",
        "      <th>%i</th>\n",
        "      <th>%l</th>\n",
        "      <th>%l,</th>\n",
        "      <th>%r</th>\n",
        "      <th>%t</th>\n",
        "      <th>%u</th>\n",
        "      <th>%{User-Agent}i</th>\n",
        "      <th>%{hexa}i</th>\n",
        "      <th>%{msisdn}b</th>\n",
        "    </tr>\n",
        "  </thead>\n",
        "  <tbody>\n",
        "    <tr>\n",
        "      <th>0</th>\n",
        "      <td> 200</td>\n",
        "      <td> -</td>\n",
        "      <td> 6861936</td>\n",
        "      <td> 187.210.189.206</td>\n",
        "      <td> -</td>\n",
        "      <td> 187.210.189.206</td>\n",
        "      <td> NaN</td>\n",
        "      <td> GET http://fs01.plugger.com/62701/63/56/13/12/...</td>\n",
        "      <td> 31/Jan/2015 05:28:50 -0500</td>\n",
        "      <td> -</td>\n",
        "      <td> Mozilla/5.0 ( NokiaX3-00/5.0 (04.11) Profile/M...</td>\n",
        "      <td> BBD2BDCEE3D0AE8EB93E0050</td>\n",
        "      <td> 522371008125</td>\n",
        "    </tr>\n",
        "    <tr>\n",
        "      <th>1</th>\n",
        "      <td> 200</td>\n",
        "      <td> -</td>\n",
        "      <td> 6128846</td>\n",
        "      <td> 187.210.189.206</td>\n",
        "      <td> -</td>\n",
        "      <td> 187.210.189.206</td>\n",
        "      <td> NaN</td>\n",
        "      <td> GET http://fs01.plugger.com/62701/81/37/25/03/...</td>\n",
        "      <td> 31/Jan/2015 05:37:19 -0500</td>\n",
        "      <td> -</td>\n",
        "      <td> Mozilla/5.0 ( NokiaX3-00/5.0 (04.11) Profile/M...</td>\n",
        "      <td> BBD2BDCEE2D6AE8EB93E0050</td>\n",
        "      <td> 522371008125</td>\n",
        "    </tr>\n",
        "  </tbody>\n",
        "</table>\n",
        "</div>"
       ],
       "metadata": {},
       "output_type": "pyout",
       "prompt_number": 5,
       "text": [
        "   %>s  \\\n",
        "0  200   \n",
        "1  200   \n",
        "\n",
        "  %V  \\\n",
        "0  -   \n",
        "1  -   \n",
        "\n",
        "        %b  \\\n",
        "0  6861936   \n",
        "1  6128846   \n",
        "\n",
        "                %h  \\\n",
        "0  187.210.189.206   \n",
        "1  187.210.189.206   \n",
        "\n",
        "  %i  \\\n",
        "0  -   \n",
        "1  -   \n",
        "\n",
        "                %l  \\\n",
        "0  187.210.189.206   \n",
        "1  187.210.189.206   \n",
        "\n",
        "   %l,  \\\n",
        "0  NaN   \n",
        "1  NaN   \n",
        "\n",
        "                                                  %r  \\\n",
        "0  GET http://fs01.plugger.com/62701/63/56/13/12/...   \n",
        "1  GET http://fs01.plugger.com/62701/81/37/25/03/...   \n",
        "\n",
        "                           %t  \\\n",
        "0  31/Jan/2015 05:28:50 -0500   \n",
        "1  31/Jan/2015 05:37:19 -0500   \n",
        "\n",
        "  %u  \\\n",
        "0  -   \n",
        "1  -   \n",
        "\n",
        "                                      %{User-Agent}i  \\\n",
        "0  Mozilla/5.0 ( NokiaX3-00/5.0 (04.11) Profile/M...   \n",
        "1  Mozilla/5.0 ( NokiaX3-00/5.0 (04.11) Profile/M...   \n",
        "\n",
        "                   %{hexa}i  \\\n",
        "0  BBD2BDCEE3D0AE8EB93E0050   \n",
        "1  BBD2BDCEE2D6AE8EB93E0050   \n",
        "\n",
        "     %{msisdn}b  \n",
        "0  522371008125  \n",
        "1  522371008125  "
       ]
      }
     ],
     "prompt_number": 5
    },
    {
     "cell_type": "code",
     "collapsed": false,
     "input": [
      "df.info()"
     ],
     "language": "python",
     "metadata": {},
     "outputs": [
      {
       "output_type": "stream",
       "stream": "stdout",
       "text": [
        "<class 'pandas.core.frame.DataFrame'>\n",
        "Int64Index: 2811161 entries, 0 to 2811160\n",
        "Data columns (total 13 columns):\n",
        "%>s               object\n",
        "%V                object\n",
        "%b                object\n",
        "%h                object\n",
        "%i                object\n",
        "%l                object\n",
        "%l,               object\n",
        "%r                object\n",
        "%t                object\n",
        "%u                object\n",
        "%{User-Agent}i    object\n",
        "%{hexa}i          object\n",
        "%{msisdn}b        object\n",
        "dtypes: object(13)\n",
        "memory usage: 300.3+ MB\n"
       ]
      }
     ],
     "prompt_number": 6
    },
    {
     "cell_type": "markdown",
     "metadata": {},
     "source": [
      "Now lets clean up the pandas dataframe a bit by deleting some columns we aren't interested in and renaming the remaining columns."
     ]
    },
    {
     "cell_type": "code",
     "collapsed": false,
     "input": [
      "t=['%h','%i','%l','%l,','%I','%u','%{User-Agent}i','%{hexa}i','%V']\n",
      "\n",
      "for e in t:\n",
      "    try :\n",
      "        del df[e]\n",
      "    except :\n",
      "        pass\n",
      "    \n",
      "try :\n",
      "    df = df.rename(columns={'%>s': 'status', '%b':'b', \n",
      "                            '%r':'request', '%t': 'time', '%{msisdn}b': 'msisdn'})\n",
      "except :\n",
      "    pass"
     ],
     "language": "python",
     "metadata": {
      "run_control": {
       "breakpoint": false
      }
     },
     "outputs": [],
     "prompt_number": 20
    },
    {
     "cell_type": "code",
     "collapsed": false,
     "input": [
      "df[0:2]\n",
      "\n",
      "df['time']=pd.to_datetime(df['time'])\n",
      "df['status'] = df['status'].astype('int')\n",
      "df['b'] = df['b'].astype('int')\n",
      "\n",
      "df.head(2)"
     ],
     "language": "python",
     "metadata": {},
     "outputs": [
      {
       "html": [
        "<div style=\"max-height:1000px;max-width:1500px;overflow:auto;\">\n",
        "<table border=\"1\" class=\"dataframe\">\n",
        "  <thead>\n",
        "    <tr style=\"text-align: right;\">\n",
        "      <th></th>\n",
        "      <th>status</th>\n",
        "      <th>b</th>\n",
        "      <th>%i</th>\n",
        "      <th>request</th>\n",
        "      <th>time</th>\n",
        "      <th>msisdn</th>\n",
        "    </tr>\n",
        "  </thead>\n",
        "  <tbody>\n",
        "    <tr>\n",
        "      <th>0</th>\n",
        "      <td> 200</td>\n",
        "      <td> 6861936</td>\n",
        "      <td> -</td>\n",
        "      <td> GET http://fs01.plugger.com/62701/63/56/13/12/...</td>\n",
        "      <td>2015-01-31 10:28:50</td>\n",
        "      <td> 522371008125</td>\n",
        "    </tr>\n",
        "    <tr>\n",
        "      <th>1</th>\n",
        "      <td> 200</td>\n",
        "      <td> 6128846</td>\n",
        "      <td> -</td>\n",
        "      <td> GET http://fs01.plugger.com/62701/81/37/25/03/...</td>\n",
        "      <td>2015-01-31 10:37:19</td>\n",
        "      <td> 522371008125</td>\n",
        "    </tr>\n",
        "  </tbody>\n",
        "</table>\n",
        "</div>"
       ],
       "metadata": {},
       "output_type": "pyout",
       "prompt_number": 7,
       "text": [
        "   status  \\\n",
        "0     200   \n",
        "1     200   \n",
        "\n",
        "         b  \\\n",
        "0  6861936   \n",
        "1  6128846   \n",
        "\n",
        "  %i  \\\n",
        "0  -   \n",
        "1  -   \n",
        "\n",
        "                                             request  \\\n",
        "0  GET http://fs01.plugger.com/62701/63/56/13/12/...   \n",
        "1  GET http://fs01.plugger.com/62701/81/37/25/03/...   \n",
        "\n",
        "                 time  \\\n",
        "0 2015-01-31 10:28:50   \n",
        "1 2015-01-31 10:37:19   \n",
        "\n",
        "         msisdn  \n",
        "0  522371008125  \n",
        "1  522371008125  "
       ]
      }
     ],
     "prompt_number": 7
    },
    {
     "cell_type": "code",
     "collapsed": true,
     "input": [
      "df['time']=pd.to_datetime(df['time'], coerce=True)#,errors='raise')\n",
      "df.info()"
     ],
     "language": "python",
     "metadata": {},
     "outputs": [
      {
       "output_type": "stream",
       "stream": "stdout",
       "text": [
        "<class 'pandas.core.frame.DataFrame'>\n",
        "Int64Index: 2811161 entries, 0 to 2811160\n",
        "Data columns (total 6 columns):\n",
        "status     int64\n",
        "b          int64\n",
        "%i         object\n",
        "request    object\n",
        "time       datetime64[ns]\n",
        "msisdn     object\n",
        "dtypes: datetime64[ns](1), int64(2), object(3)\n",
        "memory usage: 150.1+ MB\n"
       ]
      }
     ],
     "prompt_number": 8
    },
    {
     "cell_type": "code",
     "collapsed": false,
     "input": [
      "df['msisdn'].describe()"
     ],
     "language": "python",
     "metadata": {},
     "outputs": [
      {
       "metadata": {},
       "output_type": "pyout",
       "prompt_number": 9,
       "text": [
        "count     2811161\n",
        "unique     279770\n",
        "top             -\n",
        "freq        56739\n",
        "Name: msisdn, dtype: object"
       ]
      }
     ],
     "prompt_number": 9
    },
    {
     "cell_type": "code",
     "collapsed": false,
     "input": [
      "def dash2nan(x):\n",
      "    if x == '-':\n",
      "        x = np.nan\n",
      "    else:\n",
      "        x = float(x)/1048576.\n",
      "    \n",
      "    return x\n",
      "df['b'] = df['b'].apply(dash2nan)"
     ],
     "language": "python",
     "metadata": {},
     "outputs": [],
     "prompt_number": 10
    },
    {
     "cell_type": "code",
     "collapsed": false,
     "input": [
      "#df.set_index(['msisdn','status','time'], inplace=True)\n",
      "df.head()"
     ],
     "language": "python",
     "metadata": {},
     "outputs": [
      {
       "html": [
        "<div style=\"max-height:1000px;max-width:1500px;overflow:auto;\">\n",
        "<table border=\"1\" class=\"dataframe\">\n",
        "  <thead>\n",
        "    <tr style=\"text-align: right;\">\n",
        "      <th></th>\n",
        "      <th>status</th>\n",
        "      <th>b</th>\n",
        "      <th>%i</th>\n",
        "      <th>request</th>\n",
        "      <th>time</th>\n",
        "      <th>msisdn</th>\n",
        "    </tr>\n",
        "  </thead>\n",
        "  <tbody>\n",
        "    <tr>\n",
        "      <th>0</th>\n",
        "      <td> 200</td>\n",
        "      <td> 6.544052</td>\n",
        "      <td>                                              -</td>\n",
        "      <td> GET http://fs01.plugger.com/62701/63/56/13/12/...</td>\n",
        "      <td>2015-01-31 10:28:50</td>\n",
        "      <td> 522371008125</td>\n",
        "    </tr>\n",
        "    <tr>\n",
        "      <th>1</th>\n",
        "      <td> 200</td>\n",
        "      <td> 5.844923</td>\n",
        "      <td>                                              -</td>\n",
        "      <td> GET http://fs01.plugger.com/62701/81/37/25/03/...</td>\n",
        "      <td>2015-01-31 10:37:19</td>\n",
        "      <td> 522371008125</td>\n",
        "    </tr>\n",
        "    <tr>\n",
        "      <th>2</th>\n",
        "      <td> 200</td>\n",
        "      <td> 0.530402</td>\n",
        "      <td> http://mx.plugger.com/mymedia/content/68674760</td>\n",
        "      <td> GET /62702/06/74/76/86/00/1419743045.8237_M5aw...</td>\n",
        "      <td>2015-01-31 12:29:18</td>\n",
        "      <td> 522224910508</td>\n",
        "    </tr>\n",
        "    <tr>\n",
        "      <th>3</th>\n",
        "      <td> 200</td>\n",
        "      <td> 0.574567</td>\n",
        "      <td>                                              -</td>\n",
        "      <td> GET /62701/94/33/80/66/00/1418414828.1691_18sL...</td>\n",
        "      <td>2015-01-31 14:40:40</td>\n",
        "      <td> 529585891968</td>\n",
        "    </tr>\n",
        "    <tr>\n",
        "      <th>4</th>\n",
        "      <td> 200</td>\n",
        "      <td> 0.580845</td>\n",
        "      <td>                                              -</td>\n",
        "      <td> GET /62701/70/30/14/14/00/1406474293.2169_3LiP...</td>\n",
        "      <td>2015-01-31 15:31:59</td>\n",
        "      <td> 524861054241</td>\n",
        "    </tr>\n",
        "  </tbody>\n",
        "</table>\n",
        "</div>"
       ],
       "metadata": {},
       "output_type": "pyout",
       "prompt_number": 11,
       "text": [
        "   status  \\\n",
        "0     200   \n",
        "1     200   \n",
        "2     200   \n",
        "3     200   \n",
        "4     200   \n",
        "\n",
        "          b  \\\n",
        "0  6.544052   \n",
        "1  5.844923   \n",
        "2  0.530402   \n",
        "3  0.574567   \n",
        "4  0.580845   \n",
        "\n",
        "                                               %i  \\\n",
        "0                                               -   \n",
        "1                                               -   \n",
        "2  http://mx.plugger.com/mymedia/content/68674760   \n",
        "3                                               -   \n",
        "4                                               -   \n",
        "\n",
        "                                             request  \\\n",
        "0  GET http://fs01.plugger.com/62701/63/56/13/12/...   \n",
        "1  GET http://fs01.plugger.com/62701/81/37/25/03/...   \n",
        "2  GET /62702/06/74/76/86/00/1419743045.8237_M5aw...   \n",
        "3  GET /62701/94/33/80/66/00/1418414828.1691_18sL...   \n",
        "4  GET /62701/70/30/14/14/00/1406474293.2169_3LiP...   \n",
        "\n",
        "                 time  \\\n",
        "0 2015-01-31 10:28:50   \n",
        "1 2015-01-31 10:37:19   \n",
        "2 2015-01-31 12:29:18   \n",
        "3 2015-01-31 14:40:40   \n",
        "4 2015-01-31 15:31:59   \n",
        "\n",
        "         msisdn  \n",
        "0  522371008125  \n",
        "1  522371008125  \n",
        "2  522224910508  \n",
        "3  529585891968  \n",
        "4  524861054241  "
       ]
      }
     ],
     "prompt_number": 11
    },
    {
     "cell_type": "code",
     "collapsed": false,
     "input": [
      "try:\n",
      "    df.set_index(['time'],inplace=True)\n",
      "except KeyError:\n",
      "    pass\n",
      "df.head()"
     ],
     "language": "python",
     "metadata": {},
     "outputs": [
      {
       "html": [
        "<div style=\"max-height:1000px;max-width:1500px;overflow:auto;\">\n",
        "<table border=\"1\" class=\"dataframe\">\n",
        "  <thead>\n",
        "    <tr style=\"text-align: right;\">\n",
        "      <th></th>\n",
        "      <th>status</th>\n",
        "      <th>b</th>\n",
        "      <th>%i</th>\n",
        "      <th>request</th>\n",
        "      <th>msisdn</th>\n",
        "    </tr>\n",
        "    <tr>\n",
        "      <th>time</th>\n",
        "      <th></th>\n",
        "      <th></th>\n",
        "      <th></th>\n",
        "      <th></th>\n",
        "      <th></th>\n",
        "    </tr>\n",
        "  </thead>\n",
        "  <tbody>\n",
        "    <tr>\n",
        "      <th>2015-01-31 10:28:50</th>\n",
        "      <td> 200</td>\n",
        "      <td> 6.544052</td>\n",
        "      <td>                                              -</td>\n",
        "      <td> GET http://fs01.plugger.com/62701/63/56/13/12/...</td>\n",
        "      <td> 522371008125</td>\n",
        "    </tr>\n",
        "    <tr>\n",
        "      <th>2015-01-31 10:37:19</th>\n",
        "      <td> 200</td>\n",
        "      <td> 5.844923</td>\n",
        "      <td>                                              -</td>\n",
        "      <td> GET http://fs01.plugger.com/62701/81/37/25/03/...</td>\n",
        "      <td> 522371008125</td>\n",
        "    </tr>\n",
        "    <tr>\n",
        "      <th>2015-01-31 12:29:18</th>\n",
        "      <td> 200</td>\n",
        "      <td> 0.530402</td>\n",
        "      <td> http://mx.plugger.com/mymedia/content/68674760</td>\n",
        "      <td> GET /62702/06/74/76/86/00/1419743045.8237_M5aw...</td>\n",
        "      <td> 522224910508</td>\n",
        "    </tr>\n",
        "    <tr>\n",
        "      <th>2015-01-31 14:40:40</th>\n",
        "      <td> 200</td>\n",
        "      <td> 0.574567</td>\n",
        "      <td>                                              -</td>\n",
        "      <td> GET /62701/94/33/80/66/00/1418414828.1691_18sL...</td>\n",
        "      <td> 529585891968</td>\n",
        "    </tr>\n",
        "    <tr>\n",
        "      <th>2015-01-31 15:31:59</th>\n",
        "      <td> 200</td>\n",
        "      <td> 0.580845</td>\n",
        "      <td>                                              -</td>\n",
        "      <td> GET /62701/70/30/14/14/00/1406474293.2169_3LiP...</td>\n",
        "      <td> 524861054241</td>\n",
        "    </tr>\n",
        "  </tbody>\n",
        "</table>\n",
        "</div>"
       ],
       "metadata": {},
       "output_type": "pyout",
       "prompt_number": 12,
       "text": [
        "                     status  \\\n",
        "time                          \n",
        "2015-01-31 10:28:50     200   \n",
        "2015-01-31 10:37:19     200   \n",
        "2015-01-31 12:29:18     200   \n",
        "2015-01-31 14:40:40     200   \n",
        "2015-01-31 15:31:59     200   \n",
        "\n",
        "                            b  \\\n",
        "time                            \n",
        "2015-01-31 10:28:50  6.544052   \n",
        "2015-01-31 10:37:19  5.844923   \n",
        "2015-01-31 12:29:18  0.530402   \n",
        "2015-01-31 14:40:40  0.574567   \n",
        "2015-01-31 15:31:59  0.580845   \n",
        "\n",
        "                                                                 %i  \\\n",
        "time                                                                  \n",
        "2015-01-31 10:28:50                                               -   \n",
        "2015-01-31 10:37:19                                               -   \n",
        "2015-01-31 12:29:18  http://mx.plugger.com/mymedia/content/68674760   \n",
        "2015-01-31 14:40:40                                               -   \n",
        "2015-01-31 15:31:59                                               -   \n",
        "\n",
        "                                                               request  \\\n",
        "time                                                                     \n",
        "2015-01-31 10:28:50  GET http://fs01.plugger.com/62701/63/56/13/12/...   \n",
        "2015-01-31 10:37:19  GET http://fs01.plugger.com/62701/81/37/25/03/...   \n",
        "2015-01-31 12:29:18  GET /62702/06/74/76/86/00/1419743045.8237_M5aw...   \n",
        "2015-01-31 14:40:40  GET /62701/94/33/80/66/00/1418414828.1691_18sL...   \n",
        "2015-01-31 15:31:59  GET /62701/70/30/14/14/00/1406474293.2169_3LiP...   \n",
        "\n",
        "                           msisdn  \n",
        "time                               \n",
        "2015-01-31 10:28:50  522371008125  \n",
        "2015-01-31 10:37:19  522371008125  \n",
        "2015-01-31 12:29:18  522224910508  \n",
        "2015-01-31 14:40:40  529585891968  \n",
        "2015-01-31 15:31:59  524861054241  "
       ]
      }
     ],
     "prompt_number": 12
    },
    {
     "cell_type": "markdown",
     "metadata": {},
     "source": [
      "#Analysis\n",
      "Let's graph the data to visualize what is happening.\n",
      "\n",
      "First let's increase the graph size."
     ]
    },
    {
     "cell_type": "code",
     "collapsed": false,
     "input": [
      "from pylab import *\n",
      "rcParams['figure.figsize'] = 10, 5 # width, height in inches"
     ],
     "language": "python",
     "metadata": {},
     "outputs": [],
     "prompt_number": 13
    },
    {
     "cell_type": "markdown",
     "metadata": {},
     "source": [
      "##Group by user"
     ]
    },
    {
     "cell_type": "code",
     "collapsed": false,
     "input": [
      "t=df.groupby(['msisdn'])#,'status'])\n",
      "t#.resample('1440t')#['b']\n",
      "parts = []\n",
      "\n",
      "for k,v in t:\n",
      "    x=[k,v['b'].sum()]\n",
      "#    x=v[['T']].describe().T#[['mean','std']]\n",
      "#    x['area'] = k\n",
      "    parts.append(pd.DataFrame(x).T)\n",
      "stats_per_msisdn = pd.concat(parts)\n",
      "stats_per_msisdn.columns=['msisdn','mb']"
     ],
     "language": "python",
     "metadata": {},
     "outputs": [],
     "prompt_number": 14
    },
    {
     "cell_type": "markdown",
     "metadata": {},
     "source": [
      "### Worst users in that sample"
     ]
    },
    {
     "cell_type": "code",
     "collapsed": false,
     "input": [
      "stats_per_msisdn=stats_per_msisdn.reset_index().drop('index',1)\n",
      "top10=stats_per_msisdn.sort(['mb'],ascending=False).head(10)\n",
      "for m in top10.msisdn:\n",
      "    print m[2:]#+',',\n",
      "top10.T"
     ],
     "language": "python",
     "metadata": {},
     "outputs": [
      {
       "output_type": "stream",
       "stream": "stdout",
       "text": [
        "4411193721\n",
        "\n",
        "4471097737\n",
        "6981073953\n",
        "9141007763\n",
        "4381072272\n",
        "3221578641\n",
        "4731205426\n",
        "8117798761\n",
        "5564301429\n"
       ]
      },
      {
       "html": [
        "<div style=\"max-height:1000px;max-width:1500px;overflow:auto;\">\n",
        "<table border=\"1\" class=\"dataframe\">\n",
        "  <thead>\n",
        "    <tr style=\"text-align: right;\">\n",
        "      <th></th>\n",
        "      <th>54533</th>\n",
        "      <th>0</th>\n",
        "      <th>66616</th>\n",
        "      <th>149611</th>\n",
        "      <th>237271</th>\n",
        "      <th>53751</th>\n",
        "      <th>35464</th>\n",
        "      <th>78776</th>\n",
        "      <th>201126</th>\n",
        "      <th>104257</th>\n",
        "    </tr>\n",
        "  </thead>\n",
        "  <tbody>\n",
        "    <tr>\n",
        "      <th>msisdn</th>\n",
        "      <td> 524411193721</td>\n",
        "      <td>      -</td>\n",
        "      <td> 524471097737</td>\n",
        "      <td> 526981073953</td>\n",
        "      <td> 529141007763</td>\n",
        "      <td> 524381072272</td>\n",
        "      <td> 523221578641</td>\n",
        "      <td> 524731205426</td>\n",
        "      <td> 528117798761</td>\n",
        "      <td> 525564301429</td>\n",
        "    </tr>\n",
        "    <tr>\n",
        "      <th>mb</th>\n",
        "      <td>     220809.9</td>\n",
        "      <td> 162192</td>\n",
        "      <td>     12869.96</td>\n",
        "      <td>      9329.15</td>\n",
        "      <td>     9082.753</td>\n",
        "      <td>     7966.248</td>\n",
        "      <td>      7888.95</td>\n",
        "      <td>     7705.042</td>\n",
        "      <td>     7354.745</td>\n",
        "      <td>     6292.069</td>\n",
        "    </tr>\n",
        "  </tbody>\n",
        "</table>\n",
        "</div>"
       ],
       "metadata": {},
       "output_type": "pyout",
       "prompt_number": 47,
       "text": [
        "              54533   \\\n",
        "msisdn  524411193721   \n",
        "mb          220809.9   \n",
        "\n",
        "        0       \\\n",
        "msisdn       -   \n",
        "mb      162192   \n",
        "\n",
        "              66616   \\\n",
        "msisdn  524471097737   \n",
        "mb          12869.96   \n",
        "\n",
        "              149611  \\\n",
        "msisdn  526981073953   \n",
        "mb           9329.15   \n",
        "\n",
        "              237271  \\\n",
        "msisdn  529141007763   \n",
        "mb          9082.753   \n",
        "\n",
        "              53751   \\\n",
        "msisdn  524381072272   \n",
        "mb          7966.248   \n",
        "\n",
        "              35464   \\\n",
        "msisdn  523221578641   \n",
        "mb           7888.95   \n",
        "\n",
        "              78776   \\\n",
        "msisdn  524731205426   \n",
        "mb          7705.042   \n",
        "\n",
        "              201126  \\\n",
        "msisdn  528117798761   \n",
        "mb          7354.745   \n",
        "\n",
        "              104257  \n",
        "msisdn  525564301429  \n",
        "mb          6292.069  "
       ]
      }
     ],
     "prompt_number": 47
    },
    {
     "cell_type": "code",
     "collapsed": false,
     "input": [
      "###save those users to file\n",
      "fn=_rootdir+'stats_per_msisdn.3gp.csv'\n",
      "stats_per_msisdn[['mb','msisdn']].sort(['mb'],ascending=False).head(10).reset_index().drop('index',1).to_csv(fn)\n",
      "!head -n 5 {fn}"
     ],
     "language": "python",
     "metadata": {},
     "outputs": [
      {
       "output_type": "stream",
       "stream": "stdout",
       "text": [
        ",mb,msisdn\r\n",
        "0,220809.89884376526,524411193721\r\n",
        "1,162191.98038864136,-\r\n",
        "2,12869.964761734009,524471097737\r\n",
        "3,9329.1504487991333,526981073953\r\n"
       ]
      }
     ],
     "prompt_number": 21
    },
    {
     "cell_type": "markdown",
     "metadata": {},
     "source": [
      "##The 10 worst days of a user"
     ]
    },
    {
     "cell_type": "code",
     "collapsed": false,
     "input": [
      "top10[:5].msisdn"
     ],
     "language": "python",
     "metadata": {},
     "outputs": [
      {
       "metadata": {},
       "output_type": "pyout",
       "prompt_number": 22,
       "text": [
        "54533     524411193721\n",
        "0                    -\n",
        "66616     524471097737\n",
        "149611    526981073953\n",
        "237271    529141007763\n",
        "Name: msisdn, dtype: object"
       ]
      }
     ],
     "prompt_number": 22
    },
    {
     "cell_type": "code",
     "collapsed": false,
     "input": [
      "user=top10[0:].msisdn.values[0]#'526681138874'\n",
      "df_d=df[df.msisdn==user].b.resample('1440t', how=['sum'])\n",
      "#df_d=df[df.msisdn=='528441732464'].b.resample('1440t', how=['sum'])\n",
      "df_d.sort(['sum'],ascending=False).head(10).T"
     ],
     "language": "python",
     "metadata": {},
     "outputs": [
      {
       "html": [
        "<div style=\"max-height:1000px;max-width:1500px;overflow:auto;\">\n",
        "<table border=\"1\" class=\"dataframe\">\n",
        "  <thead>\n",
        "    <tr style=\"text-align: right;\">\n",
        "      <th>time</th>\n",
        "      <th>2015-02-01 00:00:00</th>\n",
        "      <th>2015-02-08 00:00:00</th>\n",
        "      <th>2015-02-12 00:00:00</th>\n",
        "      <th>2015-01-31 00:00:00</th>\n",
        "      <th>2015-02-13 00:00:00</th>\n",
        "      <th>2015-02-02 00:00:00</th>\n",
        "      <th>2015-02-07 00:00:00</th>\n",
        "      <th>2015-02-15 00:00:00</th>\n",
        "      <th>2015-02-14 00:00:00</th>\n",
        "      <th>2015-02-03 00:00:00</th>\n",
        "    </tr>\n",
        "  </thead>\n",
        "  <tbody>\n",
        "    <tr>\n",
        "      <th>sum</th>\n",
        "      <td> 210071.197935</td>\n",
        "      <td> 6490.897291</td>\n",
        "      <td> 2107.724102</td>\n",
        "      <td> 1709.896902</td>\n",
        "      <td> 356.997726</td>\n",
        "      <td> 57.597427</td>\n",
        "      <td> 9.080562</td>\n",
        "      <td> 6.506434</td>\n",
        "      <td> 0.000463</td>\n",
        "      <td>NaN</td>\n",
        "    </tr>\n",
        "  </tbody>\n",
        "</table>\n",
        "</div>"
       ],
       "metadata": {},
       "output_type": "pyout",
       "prompt_number": 67,
       "text": [
        "time     2015-02-01  \\\n",
        "sum   210071.197935   \n",
        "\n",
        "time   2015-02-08  \\\n",
        "sum   6490.897291   \n",
        "\n",
        "time   2015-02-12  \\\n",
        "sum   2107.724102   \n",
        "\n",
        "time   2015-01-31  \\\n",
        "sum   1709.896902   \n",
        "\n",
        "time  2015-02-13  \\\n",
        "sum   356.997726   \n",
        "\n",
        "time  2015-02-02  \\\n",
        "sum    57.597427   \n",
        "\n",
        "time  2015-02-07  \\\n",
        "sum     9.080562   \n",
        "\n",
        "time  2015-02-15  \\\n",
        "sum     6.506434   \n",
        "\n",
        "time  2015-02-14  \\\n",
        "sum     0.000463   \n",
        "\n",
        "time  2015-02-03  \n",
        "sum          NaN  "
       ]
      }
     ],
     "prompt_number": 67
    },
    {
     "cell_type": "code",
     "collapsed": false,
     "input": [
      "plt.plot(df_d)"
     ],
     "language": "python",
     "metadata": {},
     "outputs": [
      {
       "metadata": {},
       "output_type": "pyout",
       "prompt_number": 68,
       "text": [
        "[<matplotlib.lines.Line2D at 0x126923710>]"
       ]
      },
      {
       "metadata": {},
       "output_type": "display_data",
       "png": "[encoded data removed]",
       "text": [
        "<matplotlib.figure.Figure at 0x126486b50>"
       ]
      }
     ],
     "prompt_number": 68
    },
    {
     "cell_type": "code",
     "collapsed": false,
     "input": [
      "user_traffic=df[df['msisdn']==user]\n",
      "print 'What user %s did'%(user)\n",
      "user_traffic.sort(['b'],ascending=False).head(10)"
     ],
     "language": "python",
     "metadata": {},
     "outputs": [
      {
       "output_type": "stream",
       "stream": "stdout",
       "text": [
        "What user 524411193721 did\n"
       ]
      },
      {
       "html": [
        "<div style=\"max-height:1000px;max-width:1500px;overflow:auto;\">\n",
        "<table border=\"1\" class=\"dataframe\">\n",
        "  <thead>\n",
        "    <tr style=\"text-align: right;\">\n",
        "      <th></th>\n",
        "      <th>status</th>\n",
        "      <th>b</th>\n",
        "      <th>request</th>\n",
        "      <th>msisdn</th>\n",
        "    </tr>\n",
        "    <tr>\n",
        "      <th>time</th>\n",
        "      <th></th>\n",
        "      <th></th>\n",
        "      <th></th>\n",
        "      <th></th>\n",
        "    </tr>\n",
        "  </thead>\n",
        "  <tbody>\n",
        "    <tr>\n",
        "      <th>2015-01-31 23:03:17</th>\n",
        "      <td> 200</td>\n",
        "      <td> 36.491538</td>\n",
        "      <td> GET /62701/47/84/34/32/00/1393507362.8973_Id0O...</td>\n",
        "      <td> 524411193721</td>\n",
        "    </tr>\n",
        "    <tr>\n",
        "      <th>2015-01-31 23:06:22</th>\n",
        "      <td> 200</td>\n",
        "      <td> 36.491538</td>\n",
        "      <td> GET /62701/47/84/34/32/00/1393507362.8973_Id0O...</td>\n",
        "      <td> 524411193721</td>\n",
        "    </tr>\n",
        "    <tr>\n",
        "      <th>2015-01-31 23:02:17</th>\n",
        "      <td> 200</td>\n",
        "      <td> 36.491538</td>\n",
        "      <td> GET /62701/47/84/34/32/00/1393507362.8973_Id0O...</td>\n",
        "      <td> 524411193721</td>\n",
        "    </tr>\n",
        "    <tr>\n",
        "      <th>2015-01-31 22:58:49</th>\n",
        "      <td> 200</td>\n",
        "      <td> 36.491538</td>\n",
        "      <td> GET /62701/47/84/34/32/00/1393507362.8973_Id0O...</td>\n",
        "      <td> 524411193721</td>\n",
        "    </tr>\n",
        "    <tr>\n",
        "      <th>2015-01-31 22:58:26</th>\n",
        "      <td> 200</td>\n",
        "      <td> 36.491538</td>\n",
        "      <td> GET /62701/47/84/34/32/00/1393507362.8973_Id0O...</td>\n",
        "      <td> 524411193721</td>\n",
        "    </tr>\n",
        "    <tr>\n",
        "      <th>2015-01-31 22:58:24</th>\n",
        "      <td> 200</td>\n",
        "      <td> 36.491538</td>\n",
        "      <td> GET /62701/47/84/34/32/00/1393507362.8973_Id0O...</td>\n",
        "      <td> 524411193721</td>\n",
        "    </tr>\n",
        "    <tr>\n",
        "      <th>2015-01-31 19:52:17</th>\n",
        "      <td> 200</td>\n",
        "      <td> 36.491538</td>\n",
        "      <td> GET /62701/47/84/34/32/00/1393507362.8973_Id0O...</td>\n",
        "      <td> 524411193721</td>\n",
        "    </tr>\n",
        "    <tr>\n",
        "      <th>2015-02-01 14:07:06</th>\n",
        "      <td> 200</td>\n",
        "      <td> 33.892649</td>\n",
        "      <td> GET /62702/94/10/78/82/00/1398158589.2215_qLdY...</td>\n",
        "      <td> 524411193721</td>\n",
        "    </tr>\n",
        "    <tr>\n",
        "      <th>2015-02-01 14:07:07</th>\n",
        "      <td> 200</td>\n",
        "      <td> 33.892649</td>\n",
        "      <td> GET /62702/94/10/78/82/00/1398158589.2215_qLdY...</td>\n",
        "      <td> 524411193721</td>\n",
        "    </tr>\n",
        "    <tr>\n",
        "      <th>2015-02-01 14:07:10</th>\n",
        "      <td> 200</td>\n",
        "      <td> 33.892649</td>\n",
        "      <td> GET /62702/94/10/78/82/00/1398158589.2215_qLdY...</td>\n",
        "      <td> 524411193721</td>\n",
        "    </tr>\n",
        "  </tbody>\n",
        "</table>\n",
        "</div>"
       ],
       "metadata": {},
       "output_type": "pyout",
       "prompt_number": 25,
       "text": [
        "                     status  \\\n",
        "time                          \n",
        "2015-01-31 23:03:17     200   \n",
        "2015-01-31 23:06:22     200   \n",
        "2015-01-31 23:02:17     200   \n",
        "2015-01-31 22:58:49     200   \n",
        "2015-01-31 22:58:26     200   \n",
        "2015-01-31 22:58:24     200   \n",
        "2015-01-31 19:52:17     200   \n",
        "2015-02-01 14:07:06     200   \n",
        "2015-02-01 14:07:07     200   \n",
        "2015-02-01 14:07:10     200   \n",
        "\n",
        "                             b  \\\n",
        "time                             \n",
        "2015-01-31 23:03:17  36.491538   \n",
        "2015-01-31 23:06:22  36.491538   \n",
        "2015-01-31 23:02:17  36.491538   \n",
        "2015-01-31 22:58:49  36.491538   \n",
        "2015-01-31 22:58:26  36.491538   \n",
        "2015-01-31 22:58:24  36.491538   \n",
        "2015-01-31 19:52:17  36.491538   \n",
        "2015-02-01 14:07:06  33.892649   \n",
        "2015-02-01 14:07:07  33.892649   \n",
        "2015-02-01 14:07:10  33.892649   \n",
        "\n",
        "                                                               request  \\\n",
        "time                                                                     \n",
        "2015-01-31 23:03:17  GET /62701/47/84/34/32/00/1393507362.8973_Id0O...   \n",
        "2015-01-31 23:06:22  GET /62701/47/84/34/32/00/1393507362.8973_Id0O...   \n",
        "2015-01-31 23:02:17  GET /62701/47/84/34/32/00/1393507362.8973_Id0O...   \n",
        "2015-01-31 22:58:49  GET /62701/47/84/34/32/00/1393507362.8973_Id0O...   \n",
        "2015-01-31 22:58:26  GET /62701/47/84/34/32/00/1393507362.8973_Id0O...   \n",
        "2015-01-31 22:58:24  GET /62701/47/84/34/32/00/1393507362.8973_Id0O...   \n",
        "2015-01-31 19:52:17  GET /62701/47/84/34/32/00/1393507362.8973_Id0O...   \n",
        "2015-02-01 14:07:06  GET /62702/94/10/78/82/00/1398158589.2215_qLdY...   \n",
        "2015-02-01 14:07:07  GET /62702/94/10/78/82/00/1398158589.2215_qLdY...   \n",
        "2015-02-01 14:07:10  GET /62702/94/10/78/82/00/1398158589.2215_qLdY...   \n",
        "\n",
        "                           msisdn  \n",
        "time                               \n",
        "2015-01-31 23:03:17  524411193721  \n",
        "2015-01-31 23:06:22  524411193721  \n",
        "2015-01-31 23:02:17  524411193721  \n",
        "2015-01-31 22:58:49  524411193721  \n",
        "2015-01-31 22:58:26  524411193721  \n",
        "2015-01-31 22:58:24  524411193721  \n",
        "2015-01-31 19:52:17  524411193721  \n",
        "2015-02-01 14:07:06  524411193721  \n",
        "2015-02-01 14:07:07  524411193721  \n",
        "2015-02-01 14:07:10  524411193721  "
       ]
      }
     ],
     "prompt_number": 25
    },
    {
     "cell_type": "code",
     "collapsed": false,
     "input": [
      "user_traffic['request'].value_counts().head(10)"
     ],
     "language": "python",
     "metadata": {},
     "outputs": [
      {
       "metadata": {},
       "output_type": "pyout",
       "prompt_number": 26,
       "text": [
        "GET /62702/16/73/49/82/00/1398208897.6271_vPUXWxrG9h7LSO_xfivAc/3gp.3gp HTTP/1.1    4904\n",
        "GET /62702/94/10/78/82/00/1398158589.2215_qLdY2mgCD3Vvw4_MIEdCQ/3gp.3gp HTTP/1.1    2011\n",
        "GET /62702/85/58/97/92/00/1398823558.1351_x1Cc2wRADrdWUa_UAROiN/3gp.3gp HTTP/1.1     195\n",
        "GET /62701/98/22/52/13/00/1399866945.9302_3QU1ZX0p4yLPdO_kFp9Ih/3gp.3gp HTTP/1.1     142\n",
        "GET /62702/51/51/64/23/00/1400716530.5505_cuk5mXJD7MaV1h_83uC5B/3gp.3gp HTTP/1.1     115\n",
        "GET /62702/85/97/75/72/00/1397104830.2586_ZFGx7f53rn1qRu_uUNoDj/3gp.3gp HTTP/1.1     100\n",
        "GET /62701/07/47/66/13/00/1400190912.6818_OlSQ490XILG2Ae_b8iqRt/3gp.3gp HTTP/1.1      70\n",
        "GET /62701/37/23/26/82/00/1397950514.9307_XIyVjqNd5hiaD3_6WieZt/3gp.3gp HTTP/1.1      63\n",
        "GET /62701/55/03/39/03/00/1399657136.8795_udXiTRlZkCeBJ1_kh8moI/3gp.3gp HTTP/1.1      63\n",
        "GET /62701/92/53/06/92/00/1398684498.8586_vwE1VIWxSdPkeh_Jk5rC1/3gp.3gp HTTP/1.1      58\n",
        "dtype: int64"
       ]
      }
     ],
     "prompt_number": 26
    },
    {
     "cell_type": "code",
     "collapsed": false,
     "input": [
      "root='http://fs01.plugger.com'\n",
      "\n",
      "d ={}\n",
      "\n",
      "for req in user_traffic['request']:\n",
      "    url=req.split(' ')[1]\n",
      "    d[url] = 1\n",
      "    \n",
      "for url in d.keys():\n",
      "    if url[-3:]=='3gp':\n",
      "        print root+url"
     ],
     "language": "python",
     "metadata": {},
     "outputs": [
      {
       "output_type": "stream",
       "stream": "stdout",
       "text": [
        "http://fs01.plugger.com/62702/67/86/92/72/00/1396887691.4138_N4Yt5XnyjudKHW_SPKv9g/3gp.3gp\n",
        "http://fs01.plugger.com/62701/92/53/06/92/00/1398684498.8586_vwE1VIWxSdPkeh_Jk5rC1/3gp.3gp\n",
        "http://fs01.plugger.com/62701/42/77/26/82/00/1397953703.7632_bSXfjJWQPDIA3k_rgUPke/3gp.3gp\n",
        "http://fs01.plugger.com/62702/13/97/36/62/00/1396347980.7753_UBXfLZrJ1Asnlw_gADm7W/3gp.3gp\n",
        "http://fs01.plugger.com/62702/23/98/36/62/00/1396352842.2795_uVMBYHxodJFSqX_MaDdCB/3gp.3gp\n",
        "http://fs01.plugger.com/62702/85/58/97/92/00/1398823558.1351_x1Cc2wRADrdWUa_UAROiN/3gp.3gp\n",
        "http://fs01.plugger.com/62701/98/22/52/13/00/1399866945.9302_3QU1ZX0p4yLPdO_kFp9Ih/3gp.3gp\n",
        "http://fs01.plugger.com/62702/05/93/48/82/00/1398135597.9576_B0ES9LjzGrwby6_1z36Ai/3gp.3gp\n",
        "http://fs01.plugger.com/62701/12/68/83/52/00/1395326457.1209_wozPLJlAaFNZ0p_O0cp6j/3gp.3gp\n",
        "http://fs01.plugger.com/62701/61/75/20/23/00/1400434803.2401_nDY7IUwV9xiteS_Y8M41z/3gp.3gp\n",
        "http://fs01.plugger.com/62702/41/69/83/72/00/1396961466.5465_pKlDvLHQM1uCrR_LQVSG7/3gp.3gp\n",
        "http://fs01.plugger.com/62702/41/47/60/03/00/1399013920.9061_eJVDjKOu5IdWLQ_P0McWG/3gp.3gp\n",
        "http://fs01.plugger.com/62701/21/38/60/03/00/1399016090.2843_gtMQ9hqXGUu6dV_Sy07OG/3gp.3gp\n",
        "http://fs01.plugger.com/62702/69/92/40/23/00/1400442835.5473_cjGLXUKNOCzBAQ_G0EUj7/3gp.3gp\n",
        "http://fs01.plugger.com/62701/59/19/46/62/00/1396364766.5736_Brs9JVGYLTd0Op_4bj2M6/3gp.3gp\n",
        "http://fs01.plugger.com/62702/56/26/36/62/00/1396339453.8386_8CxH7kNLKwnj5X_7Y0k2S/3gp.3gp\n",
        "http://fs01.plugger.com/62701/42/41/69/03/00/1399672883.2983_1cO8jlksoCBiQr_dtGmy7/3gp.3gp\n",
        "http://fs01.plugger.com/62701/11/62/66/82/00/1397990212.0608_RU6aOAwWnMiPcp_3mxrnv/3gp.3gp\n",
        "http://fs01.plugger.com/62702/22/22/45/72/00/1397085355.3598_UGse3ZN4fz9o1V_TOaAWL/3gp.3gp\n",
        "http://fs01.plugger.com/62701/15/06/93/82/00/1397745630.1995_y30GgPhwbITBpQ_E1rflF/3gp.3gp\n",
        "http://fs01.plugger.com/62701/19/53/62/23/00/1400597992.9274_Fmtv0Ng3MVeuhd_nb08XT/3gp.3gp\n",
        "http://fs01.plugger.com/62701/31/16/25/92/00/1398627047.8408_aqWMI914ioFhXs_6mheqn/3gp.3gp\n",
        "http://fs01.plugger.com/62702/32/07/98/13/00/1400350104.9234_mBZxD8n703kWqS_nWO4du/3gp.3gp\n",
        "http://fs01.plugger.com/62701/85/16/48/33/00/1401583811.097_hxFXYv463VRdLW_gUCIoN/3gp.3gp\n",
        "http://fs01.plugger.com/62701/87/80/47/62/00/1396436886.3523_fOEQqKA7GDbap1_MPVqfL/3gp.3gp\n",
        "http://fs01.plugger.com/62702/16/73/49/82/00/1398208897.6271_vPUXWxrG9h7LSO_xfivAc/3gp.3gp\n",
        "http://fs01.plugger.com/62702/94/10/78/82/00/1398158589.2215_qLdY2mgCD3Vvw4_MIEdCQ/3gp.3gp\n",
        "http://fs01.plugger.com/62701/84/49/86/03/00/1399469960.844_kHsWlvmYE8U65d_RC0cqz/3gp.3gp\n",
        "http://fs01.plugger.com/62702/01/50/54/42/00/1394467627.2151_7a6Cf3grtdvZJ5_jcgB3z/3gp.3gp\n",
        "http://fs01.plugger.com/62701/57/17/83/72/00/1396958159.6205_QPvtzNKA3poBca_AjLqGo/3gp.3gp\n",
        "http://fs01.plugger.com/62701/44/70/41/33/00/1401131392.0143_G78syZaN5pXVYf_GfXa8U/3gp.3gp\n",
        "http://fs01.plugger.com/62702/87/66/86/03/00/1399467599.6343_QiB1qb0pPD52Gh_YCuqaz/3gp.3gp\n",
        "http://fs01.plugger.com/62702/73/16/21/02/00/1390325905.4825_8QGFhl5H9brBZe_7t83D1/3gp.3gp\n",
        "http://fs01.plugger.com/62702/58/60/47/62/00/1396435748.5976_5Cn21qVp7H640x_uFc1UW/3gp.3gp\n",
        "http://fs01.plugger.com/62702/83/81/96/03/00/1399471760.4733_iLGdPEJ01nUwRs_49pPaL/3gp.3gp\n",
        "http://fs01.plugger.com/62701/97/21/24/03/00/1399259848.196_L52BUyImTwvbxh_6j2TCz/3gp.3gp\n",
        "http://fs01.plugger.com/62701/49/36/89/82/00/1398240990.188_eKAOlo7CciszFL_vEOLNj/3gp.3gp\n",
        "http://fs01.plugger.com/62702/96/01/47/62/00/1396437824.0173_MYSImtTf3vU1iE_ugYsbL/3gp.3gp\n",
        "http://fs01.plugger.com/62702/95/01/78/92/00/1398888666.4376_lDWxHj5EMqbLzm_4GKRNo/3gp.3gp\n",
        "http://fs01.plugger.com/62702/12/09/36/62/00/1396353114.595_8zkueg79Jl2Aqm_Yb6WQD/3gp.3gp\n",
        "http://fs01.plugger.com/62701/68/70/41/23/00/1400515753.6022_eC4cF0HU8BXmdQ_tL1OUn/3gp.3gp\n",
        "http://fs01.plugger.com/62701/52/10/96/03/00/1399470506.0828_72WPsYxtMZJflk_tTGK8b/3gp.3gp\n",
        "http://fs01.plugger.com/62701/45/11/49/02/00/1391177009.7498_k5zCDbYMfKPvAn_vf6zq1/3gp.3gp\n",
        "http://fs01.plugger.com/62701/91/11/98/13/00/1400347245.3577_9dLmEy3ORG28Fq_pKlusN/3gp.3gp\n",
        "http://fs01.plugger.com/62702/81/17/82/72/00/1396876859.4195_89FSsZczhBTEre_dfy2TW/3gp.3gp\n",
        "http://fs01.plugger.com/62702/46/79/12/23/00/1400553187.4193_d8Fe4jENTYUh6S_mBEdI2/3gp.3gp\n",
        "http://fs01.plugger.com/62702/85/97/75/72/00/1397104830.2586_ZFGx7f53rn1qRu_uUNoDj/3gp.3gp\n",
        "http://fs01.plugger.com/62701/37/23/26/82/00/1397950514.9307_XIyVjqNd5hiaD3_6WieZt/3gp.3gp\n",
        "http://fs01.plugger.com/62702/51/51/64/23/00/1400716530.5505_cuk5mXJD7MaV1h_83uC5B/3gp.3gp\n",
        "http://fs01.plugger.com/62701/64/83/22/23/00/1400554898.254_bkecjpKfidTOqS_oxzmyt/3gp.3gp\n",
        "http://fs01.plugger.com/62702/25/61/07/72/00/1397223197.1224_9E76SyRGt5OpdW_SW8XoK/3gp.3gp\n",
        "http://fs01.plugger.com/62702/37/07/86/03/00/1399467949.4314_j3ZXxF2B0rtdl7_NWJ6gS/3gp.3gp\n",
        "http://fs01.plugger.com/62702/58/66/22/23/00/1400556150.0722_l5tmsv1xMoU9wq_F0BWgh/3gp.3gp\n",
        "http://fs01.plugger.com/62701/86/89/38/33/00/1401580391.826_SApJeZ4mbQGFVx_ILfTGq/3gp.3gp\n",
        "http://fs01.plugger.com/62701/87/60/09/13/00/1400351786.2815_I0phu8DwGc9JQB_fDs1xA/3gp.3gp\n",
        "http://fs01.plugger.com/62701/55/03/39/03/00/1399657136.8795_udXiTRlZkCeBJ1_kh8moI/3gp.3gp\n",
        "http://fs01.plugger.com/62702/90/88/96/03/00/1399476725.8158_d1FkX9BCRuqAfh_wLQb6N/3gp.3gp\n",
        "http://fs01.plugger.com/62702/06/88/36/62/00/1396352608.2601_Qjtr2wWOl8qe0H_Uh7nsw/3gp.3gp\n",
        "http://fs01.plugger.com/62701/20/21/47/62/00/1396438340.6812_BRJGgWp2HAXiwC_EkZnTt/3gp.3gp\n",
        "http://fs01.plugger.com/62702/74/03/93/72/00/1396965089.2411_mjHV6XlGbCBI8K_ndJBG7/3gp.3gp\n",
        "http://fs01.plugger.com/62701/24/18/36/62/00/1396349225.2446_hfGVTqCpFiWDd4_IcxjB9/3gp.3gp\n",
        "http://fs01.plugger.com/62701/07/47/66/13/00/1400190912.6818_OlSQ490XILG2Ae_b8iqRt/3gp.3gp\n",
        "http://fs01.plugger.com/62702/36/80/08/13/00/1400279988.6683_GfQTlenpqv87ms_RdJnPS/3gp.3gp\n",
        "http://fs01.plugger.com/62702/85/19/86/03/00/1399469734.196_koF2BZUYcDeiua_cRljNK/3gp.3gp\n",
        "http://fs01.plugger.com/62701/52/24/62/23/00/1400598429.8718_qcaLMZkO4Y2eIW_0OV16z/3gp.3gp\n",
        "http://fs01.plugger.com/62701/09/57/86/03/00/1399468383.764_nzB35RuOG1ESZC_e2R9Df/3gp.3gp\n",
        "http://fs01.plugger.com/62701/47/84/34/32/00/1393507362.8973_Id0OEvH3iteP8B_N9mjdP/3gp.3gp\n",
        "http://fs01.plugger.com/62702/81/47/86/03/00/1399468245.9803_mqjLFPfy5EHR6i_oQcmuz/3gp.3gp\n",
        "http://fs01.plugger.com/62702/56/29/83/72/00/1396961030.2059_CIFcZ3rg2i1qtL_YKxMgr/3gp.3gp\n",
        "http://fs01.plugger.com/62702/42/26/83/72/00/1396956288.503_pKsBFLy7lUaYCv_D42qJb/3gp.3gp\n"
       ]
      }
     ],
     "prompt_number": 50
    },
    {
     "cell_type": "code",
     "collapsed": false,
     "input": [
      "t=df.groupby(['request'])#,'status'])\n",
      "t#.resample('1440t')#['b']\n",
      "parts = []\n",
      "\n",
      "for k,v in t:\n",
      "    x=[k,v['b'].sum(),v['b'].count(),len(v['msisdn'].unique())]\n",
      "#    x=v[['T']].describe().T#[['mean','std']]\n",
      "#    x['area'] = k\n",
      "    parts.append(pd.DataFrame(x).T)\n",
      "stats_per_request = pd.concat(parts)"
     ],
     "language": "python",
     "metadata": {},
     "outputs": [],
     "prompt_number": 27
    },
    {
     "cell_type": "code",
     "collapsed": false,
     "input": [
      "pd.set_option('display.max_colwidth',1000)\n",
      "stats_per_request.columns=['request','mb','count','users']#,'time']"
     ],
     "language": "python",
     "metadata": {},
     "outputs": [],
     "prompt_number": 28
    },
    {
     "cell_type": "code",
     "collapsed": false,
     "input": [
      "stats_per_request=stats_per_request.reset_index().drop('index',1)\n",
      "top20r=stats_per_request.sort(['mb'],ascending=False).head(100)\n",
      "for req in top20r.request.values:\n",
      "    url=req.split(' ')[1]\n",
      "    if url[-3:]=='3gp':\n",
      "        print '\\''+url[7:-8]+'\\',',\n"
     ],
     "language": "python",
     "metadata": {},
     "outputs": [
      {
       "output_type": "stream",
       "stream": "stdout",
       "text": [
        "'49/36/52/02/00/1390478016.9201_6P5EgD1uFwZhbk_xH0ijb', '54/26/27/03/00/1399493446.4607_VYUs0F1TtfIOGz_nSfYRF', '16/73/49/82/00/1398208897.6271_vPUXWxrG9h7LSO_xfivAc', '79/72/29/03/00/1399650884.4423_iulBsROXaYq9Kc_rwxbDU', '93/74/69/32/00/1394027061.9117_LK8h3qf2akN0WQ_Ui7391', '94/10/78/82/00/1398158589.2215_qLdY2mgCD3Vvw4_MIEdCQ', '56/98/84/52/00/1395414673.5929_ZDPrvcWgl05k8L_tIxcQ4', '63/56/13/12/00/1391525669.0087_rzbmwu8TfG7x6n_ey5Kvh', '30/94/56/32/00/1393722439.8098_QTegBIP8WKqfRh_JMOcRp', '74/55/68/12/00/1392061238.9259_benqjWoUIdFABu_FjG6pB', '92/43/79/42/00/1394929971.0962_amswKz8jZvoh3W_nSaAh0', '76/22/47/62/00/1396440899.427_9ckWKJ1M7HeA8P_YhOIig', '91/23/02/13/00/1399841902.6803_y1qPmdUwio5zgL_OVPkXy', '81/37/25/03/00/1399337102.712_Vh1DolSj2BN78z_wnSUdA', '59/23/48/62/00/1396516977.1193_7xZU8SrVBjJ4LM_LWDf36', '14/88/26/92/00/1398707067.1791_HaZ5xwYVOhqGNe_MytF7d', '15/80/99/32/00/1394049199.1309_muqarBvUVXMxRO_aCpsdO', '13/40/67/82/00/1398088771.9985_D7AFJiaYO4Gpc8_vXyioW', '73/12/15/03/00/1399329310.5124_wFIOZPpgiUDY1h_AmtV78', '12/03/46/32/00/1393714539.0885_2IcpoYeL6au7tF_GwIYaD', '84/33/47/62/00/1396442791.7749_2P5MrQgdxaeOGc_odvWrf', '95/00/22/32/00/1393293628.8601_UDBMPmteuRWbNG_s1FCPY', '62/94/47/42/00/1394736290.9609_nazixPL5VrmvAu_XJi51Y', '91/57/84/13/00/1400068273.9731_Mg3HznbxDPdohB_pGwNlT', '47/84/34/32/00/1393507362.8973_Id0OEvH3iteP8B_N9mjdP', '89/79/60/23/00/1400455286.5326_nf1QXg53zjKqLb_zru0DF', '67/51/93/82/00/1397742467.2724_PYDTONQ7etMIl2_zadAKX', '95/82/59/62/00/1396616900.292_LZxspeOHU1ngby_1jlz7R', '57/34/54/32/00/1393525263.3513_TMwg8WkG6Dx4Xi_ZFb2oE', '74/13/48/62/00/1396516001.5849_2YksZWjpPFUB0O_KxI0RG', '14/95/41/42/00/1394207294.4654_dhr9q5WkCj48Gx_NDV8rC', '02/98/21/03/00/1399066154.6343_4MJpvyiYrItPlz_jXHgVP', '02/50/81/02/00/1390369233.8048_BtCXHGhKVp49O2_x2Ey1v', '05/93/48/82/00/1398135597.9576_B0ES9LjzGrwby6_1z36Ai', '29/80/85/22/00/1392724807.2013_0NXjVku3bAFt9P_PLfWTI', '69/90/60/72/00/1396702957.4189_hfel4rpo1RtCi5_zkc307', '12/75/38/92/00/1398865716.0654_duiShHnVlKL4JM_e6Wxhf', '17/78/46/32/00/1393718643.464_kCFlfSgU04rhNE_Vwokb6', '36/03/47/62/00/1396442445.1077_gA0jpkceizRBQZ_Y4A9hD', '82/70/33/72/00/1396908499.2577_FlxqogZCSBubPj_BoyW8C', '43/30/42/12/00/1391449080.8154_Zq3YQhnMdtpVDx_hrwQIz', '22/84/90/03/00/1399048239.8004_NV8jXWDzuboIq7_voAfWx', '51/96/96/72/00/1397217476.1978_kl6b5tnP8s0QiE_n0Hhml', '39/48/18/52/00/1395686068.7676_BR2ZTnGWPqI9UF_4Tazrx', '00/43/16/52/00/1395515647.2687_rsQWCF5dGyDRkc_HY6OJP', '36/84/45/12/00/1391746350.1418_U3ZmfxpFwiNrud_GxqmrP', '75/71/70/23/00/1400456155.7632_roc9vW3bfAVdg7_i3PdbC', '18/78/95/62/00/1396313346.6382_GrQ91X0M25NVWa_BPyHQF', '74/24/17/91/00/1389889484.4492_xeXdklyGQtHoO1_tyVMkh', '10/23/37/13/00/1400240962.5652_sLRFah2TbzpVui_oD9thL', '65/91/47/62/00/1396440334.5856_PeImhOuj9kc2K7_tRdoGq', '90/50/30/12/00/1391240209.2977_FPgBlU4GaMkWdm_TX3Nzo', '66/01/17/92/00/1398752254.5445_XOr1sS3xaGh4Cv_iP20sx', '05/12/45/52/00/1395450733.6552_PAYwybWdeHUX0o_6c5tSK', '19/69/64/12/00/1391672281.1529_jnaXKsCuoxMWig_fehFcI', '71/43/28/42/00/1394807507.8503_tTM3OQVJ4HYB60_FlHJhV', '09/28/64/62/00/1396212328.812_FW2XKzB4AGDatC_crevKx', '32/92/48/62/00/1396514816.325_my3uCDfAXp1UvS_wVgds1', '04/21/42/12/00/1391449799.0704_SeaO2BWIosZmcU_IPBpob', '27/50/85/22/00/1392723722.0707_BumlUy8IsAkL2v_t4HbmS', '34/25/02/02/00/1390417629.4449_KB2FRnVwlrLqQg_GOoZ2x', '15/12/62/82/00/1397639970.9935_BVN6dYLs8Q2guc_lJnHvj', '87/06/38/03/00/1399580769.9351_rjTqINytOV2FzB_w1Jbel', '42/24/29/12/00/1392114191.5506_utQGshqzLygeAf_2vZlrd', '39/56/91/62/00/1396007956.1036_Rxtp4IUmidLK3H_IY2zUt', '69/25/02/03/00/1399126446.3528_PwHQO4Gpy2fC3U_p8KbWe', '19/36/75/72/00/1397103839.1955_A8EDamtuv7Bhx3_82Ahpn', '33/95/13/12/00/1391525058.9562_gRbFyB6SwlkH7N_av3drl', '11/29/32/12/00/1391448166.9803_LMylrxSU9EKdCR_Qb4tze', '82/76/24/52/00/1395355329.2742_CFjrPVYZORq2S7_qmgxLB', '80/92/39/82/00/1398203280.219_7Pq8uc0NG5krbF_vo2jku', '91/32/30/12/00/1391245542.9905_WTCXLEOGgmRr3z_zbdjqP', '88/02/48/62/00/1396511602.9151_4kjUOYXsMSTJZ9_TwvnyB', '58/59/68/62/00/1396548948.1004_oBvFzZ5IHpdLOS_H2NS7z', '64/57/61/82/00/1397576587.3814_olDX0fUtTW1ywO_t34FrB', '35/70/44/23/00/1400707859.6447_Bh8liAC0s6Z1Eb_G675l3', '24/55/97/82/00/1398109521.2278_7rJuNYlkfE1FjS_iqJ5CO', '22/11/82/72/00/1396865734.3846_0GlwkUuHcvdMfV_lDVTgj', '44/63/37/13/00/1400241729.1216_mJIs04i2tyR1xr_DKl18x', '59/39/15/82/00/1397854832.401_ZqP6oS0HeFhOI9_I72owv', '39/46/49/62/00/1396598680.2986_rSZiQJjmUcoKpa_KBuIyn', '82/73/56/71/00/1387051792.5133_XLvxlCr3Va8beJ_L7TKBi', '91/22/74/12/00/1391687152.5739_jbQA8nZ69wr4ye_lWR7nE', '38/59/92/72/00/1396889776.0383_h5vSdf3TezFOiG_PO0Cmj', '44/91/66/62/00/1396374366.5994_OKqJmD8vzBVe36_nE3hbt', '76/26/39/02/00/1391165482.0672_GZNRPBipFQW3Av_IzVWco', '11/55/19/03/00/1399646046.8479_LUdiEx721nMXNH_ly4YLQ', '58/01/13/72/00/1396898017.4356_oCKjR57StW8fmL_YSPIoJ', '02/35/12/62/00/1396024135.0153_1VgbqAQkFLaWR3_5eOrfD', '79/51/29/03/00/1399650101.4156_mc5God0PlMH96r_4XhcWR', '10/24/49/42/00/1394910480.2674_ZLmOspWIMyJfuN_sg78QL', '81/23/70/23/00/1400456827.7225_OBMGUwcPVe6vCk_uTfo3C', '93/16/70/23/00/1400458196.34_0u8zVjYhDI7ay5_SyM2v6', '53/59/42/23/00/1400579150.3121_r0moekEjyIwhRQ_X3L5Nu', '05/27/52/42/00/1394302751.0668_PEs486qLGj0TK7_j5ACie', '73/53/00/23/00/1400422891.6076_jks1lmd85Db0EL_DwVM7B', '78/67/68/02/00/1391103224.5028_WA1lwydIZcPEok_Uw0uDj', '19/69/83/72/00/1396961571.1258_LMPwDSx7eyRdaf_PwevcD', '46/66/84/82/00/1397827992.5552_UIgM3DyxoW01Pn_J6wkxi', '99/43/48/62/00/1396518284.4258_JABmTLZW1wKbr3_cFY0yO',\n"
       ]
      }
     ],
     "prompt_number": 46
    },
    {
     "cell_type": "code",
     "collapsed": false,
     "input": [
      "top20r.head(100).to_csv(_rootdir+'top100videos.csv')#.Tz"
     ],
     "language": "python",
     "metadata": {},
     "outputs": [],
     "prompt_number": 70
    },
    {
     "cell_type": "code",
     "collapsed": false,
     "input": [
      "stats_per_request.sort(['users'],ascending=False).head(20)"
     ],
     "language": "python",
     "metadata": {},
     "outputs": [
      {
       "html": [
        "<div style=\"max-height:1000px;max-width:1500px;overflow:auto;\">\n",
        "<table border=\"1\" class=\"dataframe\">\n",
        "  <thead>\n",
        "    <tr style=\"text-align: right;\">\n",
        "      <th></th>\n",
        "      <th>request</th>\n",
        "      <th>mb</th>\n",
        "      <th>count</th>\n",
        "      <th>users</th>\n",
        "    </tr>\n",
        "  </thead>\n",
        "  <tbody>\n",
        "    <tr>\n",
        "      <th>91467 </th>\n",
        "      <td>       GET /62701/63/56/13/12/00/1391525669.0087_rzbmwu8TfG7x6n_ey5Kvh/3gp.3gp HTTP/1.1</td>\n",
        "      <td>  81146.3</td>\n",
        "      <td> 12551</td>\n",
        "      <td> 7178</td>\n",
        "    </tr>\n",
        "    <tr>\n",
        "      <th>78086 </th>\n",
        "      <td>       GET /62701/54/26/27/03/00/1399493446.4607_VYUs0F1TtfIOGz_nSfYRF/3gp.3gp HTTP/1.1</td>\n",
        "      <td> 189917.3</td>\n",
        "      <td>  9600</td>\n",
        "      <td> 5185</td>\n",
        "    </tr>\n",
        "    <tr>\n",
        "      <th>117028</th>\n",
        "      <td>        GET /62701/81/37/25/03/00/1399337102.712_Vh1DolSj2BN78z_wnSUdA/3gp.3gp HTTP/1.1</td>\n",
        "      <td> 61813.77</td>\n",
        "      <td>  6813</td>\n",
        "      <td> 4037</td>\n",
        "    </tr>\n",
        "    <tr>\n",
        "      <th>28887 </th>\n",
        "      <td>       GET /62701/19/61/48/12/00/1392034871.7067_dRJNGyokwH3O4p_flquto/3gp.3gp HTTP/1.1</td>\n",
        "      <td>  8787.17</td>\n",
        "      <td>  5832</td>\n",
        "      <td> 3721</td>\n",
        "    </tr>\n",
        "    <tr>\n",
        "      <th>105329</th>\n",
        "      <td>       GET /62701/73/12/15/03/00/1399329310.5124_wFIOZPpgiUDY1h_AmtV78/3gp.3gp HTTP/1.1</td>\n",
        "      <td> 53745.91</td>\n",
        "      <td>  6049</td>\n",
        "      <td> 3718</td>\n",
        "    </tr>\n",
        "    <tr>\n",
        "      <th>59647 </th>\n",
        "      <td> GET /62701/41/31/48/12/00/1392033556.2216_ekFavP39VGq2n1_Irzi9U/thumb.3gp.3gp HTTP/1.1</td>\n",
        "      <td> 1.174568</td>\n",
        "      <td>  5007</td>\n",
        "      <td> 3490</td>\n",
        "    </tr>\n",
        "    <tr>\n",
        "      <th>131100</th>\n",
        "      <td>       GET /62701/91/23/02/13/00/1399841902.6803_y1qPmdUwio5zgL_OVPkXy/3gp.3gp HTTP/1.1</td>\n",
        "      <td> 62119.32</td>\n",
        "      <td>  5673</td>\n",
        "      <td> 3425</td>\n",
        "    </tr>\n",
        "    <tr>\n",
        "      <th>252456</th>\n",
        "      <td>       GET /62702/75/71/70/23/00/1400456155.7632_roc9vW3bfAVdg7_i3PdbC/3gp.3gp HTTP/1.1</td>\n",
        "      <td> 21988.75</td>\n",
        "      <td>  5087</td>\n",
        "      <td> 3399</td>\n",
        "    </tr>\n",
        "    <tr>\n",
        "      <th>177054</th>\n",
        "      <td>       GET /62702/22/84/90/03/00/1399048239.8004_NV8jXWDzuboIq7_voAfWx/3gp.3gp HTTP/1.1</td>\n",
        "      <td> 22849.75</td>\n",
        "      <td>  4976</td>\n",
        "      <td> 3262</td>\n",
        "    </tr>\n",
        "    <tr>\n",
        "      <th>85270 </th>\n",
        "      <td>       GET /62701/59/23/48/62/00/1396516977.1193_7xZU8SrVBjJ4LM_LWDf36/3gp.3gp HTTP/1.1</td>\n",
        "      <td> 61394.23</td>\n",
        "      <td>  5135</td>\n",
        "      <td> 3186</td>\n",
        "    </tr>\n",
        "    <tr>\n",
        "      <th>215158</th>\n",
        "      <td>       GET /62702/49/36/52/02/00/1390478016.9201_6P5EgD1uFwZhbk_xH0ijb/3gp.3gp HTTP/1.1</td>\n",
        "      <td> 203140.7</td>\n",
        "      <td>  6859</td>\n",
        "      <td> 3097</td>\n",
        "    </tr>\n",
        "    <tr>\n",
        "      <th>195380</th>\n",
        "      <td>       GET /62702/35/70/44/23/00/1400707859.6447_Bh8liAC0s6Z1Eb_G675l3/3gp.3gp HTTP/1.1</td>\n",
        "      <td>  14329.1</td>\n",
        "      <td>  4383</td>\n",
        "      <td> 3078</td>\n",
        "    </tr>\n",
        "    <tr>\n",
        "      <th>81982 </th>\n",
        "      <td>       GET /62701/56/98/84/52/00/1395414673.5929_ZDPrvcWgl05k8L_tIxcQ4/3gp.3gp HTTP/1.1</td>\n",
        "      <td> 81259.01</td>\n",
        "      <td>  4995</td>\n",
        "      <td> 2925</td>\n",
        "    </tr>\n",
        "    <tr>\n",
        "      <th>4881  </th>\n",
        "      <td>       GET /62701/02/98/21/03/00/1399066154.6343_4MJpvyiYrItPlz_jXHgVP/3gp.3gp HTTP/1.1</td>\n",
        "      <td> 28244.31</td>\n",
        "      <td>  4261</td>\n",
        "      <td> 2867</td>\n",
        "    </tr>\n",
        "    <tr>\n",
        "      <th>250146</th>\n",
        "      <td>       GET /62702/74/13/48/62/00/1396516001.5849_2YksZWjpPFUB0O_KxI0RG/3gp.3gp HTTP/1.1</td>\n",
        "      <td> 29617.24</td>\n",
        "      <td>  4388</td>\n",
        "      <td> 2858</td>\n",
        "    </tr>\n",
        "    <tr>\n",
        "      <th>21778 </th>\n",
        "      <td>       GET /62701/14/88/26/92/00/1398707067.1791_HaZ5xwYVOhqGNe_MytF7d/3gp.3gp HTTP/1.1</td>\n",
        "      <td> 59408.13</td>\n",
        "      <td>  4629</td>\n",
        "      <td> 2779</td>\n",
        "    </tr>\n",
        "    <tr>\n",
        "      <th>265219</th>\n",
        "      <td>       GET /62702/84/33/47/62/00/1396442791.7749_2P5MrQgdxaeOGc_odvWrf/3gp.3gp HTTP/1.1</td>\n",
        "      <td> 51700.61</td>\n",
        "      <td>  4468</td>\n",
        "      <td> 2718</td>\n",
        "    </tr>\n",
        "    <tr>\n",
        "      <th>142962</th>\n",
        "      <td>       GET /62701/99/43/48/62/00/1396518284.4258_JABmTLZW1wKbr3_cFY0yO/3gp.3gp HTTP/1.1</td>\n",
        "      <td> 10847.57</td>\n",
        "      <td>  3636</td>\n",
        "      <td> 2654</td>\n",
        "    </tr>\n",
        "    <tr>\n",
        "      <th>253350</th>\n",
        "      <td>        GET /62702/76/22/47/62/00/1396440899.427_9ckWKJ1M7HeA8P_YhOIig/3gp.3gp HTTP/1.1</td>\n",
        "      <td> 64282.69</td>\n",
        "      <td>  4462</td>\n",
        "      <td> 2619</td>\n",
        "    </tr>\n",
        "    <tr>\n",
        "      <th>167071</th>\n",
        "      <td>       GET /62702/15/80/99/32/00/1394049199.1309_muqarBvUVXMxRO_aCpsdO/3gp.3gp HTTP/1.1</td>\n",
        "      <td> 58288.73</td>\n",
        "      <td>  4480</td>\n",
        "      <td> 2517</td>\n",
        "    </tr>\n",
        "  </tbody>\n",
        "</table>\n",
        "</div>"
       ],
       "metadata": {},
       "output_type": "pyout",
       "prompt_number": 31,
       "text": [
        "                                                                                       request  \\\n",
        "91467         GET /62701/63/56/13/12/00/1391525669.0087_rzbmwu8TfG7x6n_ey5Kvh/3gp.3gp HTTP/1.1   \n",
        "78086         GET /62701/54/26/27/03/00/1399493446.4607_VYUs0F1TtfIOGz_nSfYRF/3gp.3gp HTTP/1.1   \n",
        "117028         GET /62701/81/37/25/03/00/1399337102.712_Vh1DolSj2BN78z_wnSUdA/3gp.3gp HTTP/1.1   \n",
        "28887         GET /62701/19/61/48/12/00/1392034871.7067_dRJNGyokwH3O4p_flquto/3gp.3gp HTTP/1.1   \n",
        "105329        GET /62701/73/12/15/03/00/1399329310.5124_wFIOZPpgiUDY1h_AmtV78/3gp.3gp HTTP/1.1   \n",
        "59647   GET /62701/41/31/48/12/00/1392033556.2216_ekFavP39VGq2n1_Irzi9U/thumb.3gp.3gp HTTP/1.1   \n",
        "131100        GET /62701/91/23/02/13/00/1399841902.6803_y1qPmdUwio5zgL_OVPkXy/3gp.3gp HTTP/1.1   \n",
        "252456        GET /62702/75/71/70/23/00/1400456155.7632_roc9vW3bfAVdg7_i3PdbC/3gp.3gp HTTP/1.1   \n",
        "177054        GET /62702/22/84/90/03/00/1399048239.8004_NV8jXWDzuboIq7_voAfWx/3gp.3gp HTTP/1.1   \n",
        "85270         GET /62701/59/23/48/62/00/1396516977.1193_7xZU8SrVBjJ4LM_LWDf36/3gp.3gp HTTP/1.1   \n",
        "215158        GET /62702/49/36/52/02/00/1390478016.9201_6P5EgD1uFwZhbk_xH0ijb/3gp.3gp HTTP/1.1   \n",
        "195380        GET /62702/35/70/44/23/00/1400707859.6447_Bh8liAC0s6Z1Eb_G675l3/3gp.3gp HTTP/1.1   \n",
        "81982         GET /62701/56/98/84/52/00/1395414673.5929_ZDPrvcWgl05k8L_tIxcQ4/3gp.3gp HTTP/1.1   \n",
        "4881          GET /62701/02/98/21/03/00/1399066154.6343_4MJpvyiYrItPlz_jXHgVP/3gp.3gp HTTP/1.1   \n",
        "250146        GET /62702/74/13/48/62/00/1396516001.5849_2YksZWjpPFUB0O_KxI0RG/3gp.3gp HTTP/1.1   \n",
        "21778         GET /62701/14/88/26/92/00/1398707067.1791_HaZ5xwYVOhqGNe_MytF7d/3gp.3gp HTTP/1.1   \n",
        "265219        GET /62702/84/33/47/62/00/1396442791.7749_2P5MrQgdxaeOGc_odvWrf/3gp.3gp HTTP/1.1   \n",
        "142962        GET /62701/99/43/48/62/00/1396518284.4258_JABmTLZW1wKbr3_cFY0yO/3gp.3gp HTTP/1.1   \n",
        "253350         GET /62702/76/22/47/62/00/1396440899.427_9ckWKJ1M7HeA8P_YhOIig/3gp.3gp HTTP/1.1   \n",
        "167071        GET /62702/15/80/99/32/00/1394049199.1309_muqarBvUVXMxRO_aCpsdO/3gp.3gp HTTP/1.1   \n",
        "\n",
        "              mb  \\\n",
        "91467    81146.3   \n",
        "78086   189917.3   \n",
        "117028  61813.77   \n",
        "28887    8787.17   \n",
        "105329  53745.91   \n",
        "59647   1.174568   \n",
        "131100  62119.32   \n",
        "252456  21988.75   \n",
        "177054  22849.75   \n",
        "85270   61394.23   \n",
        "215158  203140.7   \n",
        "195380   14329.1   \n",
        "81982   81259.01   \n",
        "4881    28244.31   \n",
        "250146  29617.24   \n",
        "21778   59408.13   \n",
        "265219  51700.61   \n",
        "142962  10847.57   \n",
        "253350  64282.69   \n",
        "167071  58288.73   \n",
        "\n",
        "        count  \\\n",
        "91467   12551   \n",
        "78086    9600   \n",
        "117028   6813   \n",
        "28887    5832   \n",
        "105329   6049   \n",
        "59647    5007   \n",
        "131100   5673   \n",
        "252456   5087   \n",
        "177054   4976   \n",
        "85270    5135   \n",
        "215158   6859   \n",
        "195380   4383   \n",
        "81982    4995   \n",
        "4881     4261   \n",
        "250146   4388   \n",
        "21778    4629   \n",
        "265219   4468   \n",
        "142962   3636   \n",
        "253350   4462   \n",
        "167071   4480   \n",
        "\n",
        "       users  \n",
        "91467   7178  \n",
        "78086   5185  \n",
        "117028  4037  \n",
        "28887   3721  \n",
        "105329  3718  \n",
        "59647   3490  \n",
        "131100  3425  \n",
        "252456  3399  \n",
        "177054  3262  \n",
        "85270   3186  \n",
        "215158  3097  \n",
        "195380  3078  \n",
        "81982   2925  \n",
        "4881    2867  \n",
        "250146  2858  \n",
        "21778   2779  \n",
        "265219  2718  \n",
        "142962  2654  \n",
        "253350  2619  \n",
        "167071  2517  "
       ]
      }
     ],
     "prompt_number": 31
    },
    {
     "cell_type": "code",
     "collapsed": false,
     "input": [
      "#http://fs01.plugger.com\n",
      "from IPython.core.display import HTML\n",
      "\n",
      "root='http://fs01.plugger.com'\n",
      "\n",
      "for req in top20r.request.values:\n",
      "    url=req.split(' ')[1]\n",
      "    if url[-3:]=='3gp':\n",
      "        print root+url\n",
      "#        HTML(\"<iframe src=\"+root+url+\"></iframe>\")\n",
      "        \n"
     ],
     "language": "python",
     "metadata": {},
     "outputs": [
      {
       "output_type": "stream",
       "stream": "stdout",
       "text": [
        "http://fs01.plugger.com/62702/49/36/52/02/00/1390478016.9201_6P5EgD1uFwZhbk_xH0ijb/3gp.3gp\n",
        "http://fs01.plugger.com/62701/54/26/27/03/00/1399493446.4607_VYUs0F1TtfIOGz_nSfYRF/3gp.3gp\n",
        "http://fs01.plugger.com/62702/16/73/49/82/00/1398208897.6271_vPUXWxrG9h7LSO_xfivAc/3gp.3gp\n",
        "http://fs01.plugger.com/62701/79/72/29/03/00/1399650884.4423_iulBsROXaYq9Kc_rwxbDU/3gp.3gp\n",
        "http://fs01.plugger.com/62701/93/74/69/32/00/1394027061.9117_LK8h3qf2akN0WQ_Ui7391/3gp.3gp\n",
        "http://fs01.plugger.com/62702/94/10/78/82/00/1398158589.2215_qLdY2mgCD3Vvw4_MIEdCQ/3gp.3gp\n",
        "http://fs01.plugger.com/62701/56/98/84/52/00/1395414673.5929_ZDPrvcWgl05k8L_tIxcQ4/3gp.3gp\n",
        "http://fs01.plugger.com/62701/63/56/13/12/00/1391525669.0087_rzbmwu8TfG7x6n_ey5Kvh/3gp.3gp\n",
        "http://fs01.plugger.com/62702/30/94/56/32/00/1393722439.8098_QTegBIP8WKqfRh_JMOcRp/3gp.3gp\n",
        "http://fs01.plugger.com/62701/74/55/68/12/00/1392061238.9259_benqjWoUIdFABu_FjG6pB/3gp.3gp\n",
        "http://fs01.plugger.com/62702/92/43/79/42/00/1394929971.0962_amswKz8jZvoh3W_nSaAh0/3gp.3gp\n",
        "http://fs01.plugger.com/62702/76/22/47/62/00/1396440899.427_9ckWKJ1M7HeA8P_YhOIig/3gp.3gp\n",
        "http://fs01.plugger.com/62701/91/23/02/13/00/1399841902.6803_y1qPmdUwio5zgL_OVPkXy/3gp.3gp\n",
        "http://fs01.plugger.com/62701/81/37/25/03/00/1399337102.712_Vh1DolSj2BN78z_wnSUdA/3gp.3gp\n",
        "http://fs01.plugger.com/62701/59/23/48/62/00/1396516977.1193_7xZU8SrVBjJ4LM_LWDf36/3gp.3gp\n",
        "http://fs01.plugger.com/62701/14/88/26/92/00/1398707067.1791_HaZ5xwYVOhqGNe_MytF7d/3gp.3gp\n",
        "http://fs01.plugger.com/62702/15/80/99/32/00/1394049199.1309_muqarBvUVXMxRO_aCpsdO/3gp.3gp\n",
        "http://fs01.plugger.com/62701/13/40/67/82/00/1398088771.9985_D7AFJiaYO4Gpc8_vXyioW/3gp.3gp\n",
        "http://fs01.plugger.com/62701/73/12/15/03/00/1399329310.5124_wFIOZPpgiUDY1h_AmtV78/3gp.3gp\n",
        "http://fs01.plugger.com/62701/12/03/46/32/00/1393714539.0885_2IcpoYeL6au7tF_GwIYaD/3gp.3gp\n"
       ]
      }
     ],
     "prompt_number": 34
    },
    {
     "cell_type": "code",
     "collapsed": false,
     "input": [
      "\n",
      "\n"
     ],
     "language": "python",
     "metadata": {},
     "outputs": [],
     "prompt_number": 79
    },
    {
     "cell_type": "markdown",
     "metadata": {},
     "source": [
      "##Mr 528119804914\n",
      "<code>\n",
      "+----------+--------------+---------------------+---------------------+------------+---------+---------+-------+-------+\n",
      "| user_id  | msisdn       | joined              | last_seen           | disk_usage | friends | rcvdInv | twFrs | fbFrs |\n",
      "+----------+--------------+---------------------+---------------------+------------+---------+---------+-------+-------+\n",
      "| 22669103 | 528119804914 | 2014-09-13 13:33:36 | 2015-02-17 00:10:38 |          0 |       7 |       0 |  NULL |  NULL |\n",
      "+----------+--------------+---------------------+---------------------+------------+---------+---------+-------+-------+\n",
      "</code>"
     ]
    },
    {
     "cell_type": "code",
     "collapsed": false,
     "input": [
      "from IPython.core.display import HTML\n",
      "HTML(\"<iframe src=http://fs01.plugger.com/62701/avatar/81/63/21/32/00/1423451533.6505_d22ws1bajoavk8qiwxhv/avatar_50.jpg ></iframe>\")"
     ],
     "language": "python",
     "metadata": {
      "run_control": {
       "breakpoint": false
      }
     },
     "outputs": [
      {
       "html": [
        "<iframe src=http://fs01.plugger.com/62701/avatar/81/63/21/32/00/1423451533.6505_d22ws1bajoavk8qiwxhv/avatar_50.jpg ></iframe>"
       ],
       "metadata": {},
       "output_type": "pyout",
       "prompt_number": 39,
       "text": [
        "<IPython.core.display.HTML at 0x11c1566d0>"
       ]
      }
     ],
     "prompt_number": 39
    },
    {
     "cell_type": "code",
     "collapsed": false,
     "input": [
      "user='528119804914'\n",
      "df_d=df[df.msisdn==user].b.resample('1440t', how=['sum'])\n",
      "#df_d=df[df.msisdn=='528441732464'].b.resample('1440t', how=['sum'])\n",
      "df_d.sort(['sum'],ascending=False).head(10).T"
     ],
     "language": "python",
     "metadata": {},
     "outputs": [
      {
       "html": [
        "<div style=\"max-height:1000px;max-width:1500px;overflow:auto;\">\n",
        "<table border=\"1\" class=\"dataframe\">\n",
        "  <thead>\n",
        "    <tr style=\"text-align: right;\">\n",
        "      <th>time</th>\n",
        "      <th>2015-01-06 00:00:00</th>\n",
        "      <th>2015-01-05 00:00:00</th>\n",
        "      <th>2015-01-07 00:00:00</th>\n",
        "      <th>2015-01-19 00:00:00</th>\n",
        "      <th>2015-01-15 00:00:00</th>\n",
        "      <th>2015-01-12 00:00:00</th>\n",
        "      <th>2015-01-23 00:00:00</th>\n",
        "      <th>2015-01-03 00:00:00</th>\n",
        "      <th>2015-01-13 00:00:00</th>\n",
        "      <th>2015-01-25 00:00:00</th>\n",
        "    </tr>\n",
        "  </thead>\n",
        "  <tbody>\n",
        "    <tr>\n",
        "      <th>sum</th>\n",
        "      <td> 281.240684</td>\n",
        "      <td> 0.24834</td>\n",
        "      <td> 0.223533</td>\n",
        "      <td> 0.206614</td>\n",
        "      <td> 0.162364</td>\n",
        "      <td> 0.15626</td>\n",
        "      <td> 0.122852</td>\n",
        "      <td> 0.122099</td>\n",
        "      <td> 0.113427</td>\n",
        "      <td> 0.100769</td>\n",
        "    </tr>\n",
        "  </tbody>\n",
        "</table>\n",
        "</div>"
       ],
       "metadata": {},
       "output_type": "pyout",
       "prompt_number": 187,
       "text": [
        "time  2015-01-06  \\\n",
        "sum   281.240684   \n",
        "\n",
        "time  2015-01-05  \\\n",
        "sum      0.24834   \n",
        "\n",
        "time  2015-01-07  \\\n",
        "sum     0.223533   \n",
        "\n",
        "time  2015-01-19  \\\n",
        "sum     0.206614   \n",
        "\n",
        "time  2015-01-15  \\\n",
        "sum     0.162364   \n",
        "\n",
        "time  2015-01-12  \\\n",
        "sum      0.15626   \n",
        "\n",
        "time  2015-01-23  \\\n",
        "sum     0.122852   \n",
        "\n",
        "time  2015-01-03  \\\n",
        "sum     0.122099   \n",
        "\n",
        "time  2015-01-13  \\\n",
        "sum     0.113427   \n",
        "\n",
        "time  2015-01-25  \n",
        "sum     0.100769  "
       ]
      }
     ],
     "prompt_number": 187
    },
    {
     "cell_type": "code",
     "collapsed": false,
     "input": [
      "plt.plot(df_d)"
     ],
     "language": "python",
     "metadata": {},
     "outputs": [
      {
       "metadata": {},
       "output_type": "pyout",
       "prompt_number": 188,
       "text": [
        "[<matplotlib.lines.Line2D at 0x13977ffd0>]"
       ]
      },
      {
       "metadata": {},
       "output_type": "display_data",
       "png": "[encoded data removed]",
       "text": [
        "<matplotlib.figure.Figure at 0x138730b90>"
       ]
      }
     ],
     "prompt_number": 188
    },
    {
     "cell_type": "code",
     "collapsed": false,
     "input": [
      "bad=df[df['msisdn']==user]\n",
      "print 'What user %s did'%(user)\n",
      "bad.sort(['b'],ascending=False).head(10)"
     ],
     "language": "python",
     "metadata": {},
     "outputs": [
      {
       "output_type": "stream",
       "stream": "stdout",
       "text": [
        "What user 528119804914 did\n"
       ]
      },
      {
       "html": [
        "<div style=\"max-height:1000px;max-width:1500px;overflow:auto;\">\n",
        "<table border=\"1\" class=\"dataframe\">\n",
        "  <thead>\n",
        "    <tr style=\"text-align: right;\">\n",
        "      <th></th>\n",
        "      <th>status</th>\n",
        "      <th>b</th>\n",
        "      <th>request</th>\n",
        "      <th>msisdn</th>\n",
        "    </tr>\n",
        "    <tr>\n",
        "      <th>time</th>\n",
        "      <th></th>\n",
        "      <th></th>\n",
        "      <th></th>\n",
        "      <th></th>\n",
        "    </tr>\n",
        "  </thead>\n",
        "  <tbody>\n",
        "    <tr>\n",
        "      <th>2015-01-06 16:31:32</th>\n",
        "      <td> 200</td>\n",
        "      <td> 0.032557</td>\n",
        "      <td> GET /home/plugger HTTP/1.1</td>\n",
        "      <td> 528119804914</td>\n",
        "    </tr>\n",
        "    <tr>\n",
        "      <th>2015-01-06 16:31:24</th>\n",
        "      <td> 200</td>\n",
        "      <td> 0.032557</td>\n",
        "      <td> GET /home/plugger HTTP/1.1</td>\n",
        "      <td> 528119804914</td>\n",
        "    </tr>\n",
        "    <tr>\n",
        "      <th>2015-01-06 16:31:04</th>\n",
        "      <td> 200</td>\n",
        "      <td> 0.032557</td>\n",
        "      <td> GET /home/plugger HTTP/1.1</td>\n",
        "      <td> 528119804914</td>\n",
        "    </tr>\n",
        "    <tr>\n",
        "      <th>2015-01-06 16:31:46</th>\n",
        "      <td> 200</td>\n",
        "      <td> 0.032556</td>\n",
        "      <td> GET /home/plugger HTTP/1.1</td>\n",
        "      <td> 528119804914</td>\n",
        "    </tr>\n",
        "    <tr>\n",
        "      <th>2015-01-06 16:31:42</th>\n",
        "      <td> 200</td>\n",
        "      <td> 0.032556</td>\n",
        "      <td> GET /home/plugger HTTP/1.1</td>\n",
        "      <td> 528119804914</td>\n",
        "    </tr>\n",
        "    <tr>\n",
        "      <th>2015-01-06 16:31:27</th>\n",
        "      <td> 200</td>\n",
        "      <td> 0.032556</td>\n",
        "      <td> GET /home/plugger HTTP/1.1</td>\n",
        "      <td> 528119804914</td>\n",
        "    </tr>\n",
        "    <tr>\n",
        "      <th>2015-01-06 16:31:19</th>\n",
        "      <td> 200</td>\n",
        "      <td> 0.032556</td>\n",
        "      <td> GET /home/plugger HTTP/1.1</td>\n",
        "      <td> 528119804914</td>\n",
        "    </tr>\n",
        "    <tr>\n",
        "      <th>2015-01-06 16:31:12</th>\n",
        "      <td> 200</td>\n",
        "      <td> 0.032556</td>\n",
        "      <td> GET /home/plugger HTTP/1.1</td>\n",
        "      <td> 528119804914</td>\n",
        "    </tr>\n",
        "    <tr>\n",
        "      <th>2015-01-06 16:31:36</th>\n",
        "      <td> 200</td>\n",
        "      <td> 0.032556</td>\n",
        "      <td> GET /home/plugger HTTP/1.1</td>\n",
        "      <td> 528119804914</td>\n",
        "    </tr>\n",
        "    <tr>\n",
        "      <th>2015-01-06 16:31:15</th>\n",
        "      <td> 200</td>\n",
        "      <td> 0.032555</td>\n",
        "      <td> GET /home/plugger HTTP/1.1</td>\n",
        "      <td> 528119804914</td>\n",
        "    </tr>\n",
        "  </tbody>\n",
        "</table>\n",
        "</div>"
       ],
       "metadata": {},
       "output_type": "pyout",
       "prompt_number": 189,
       "text": [
        "                     status  \\\n",
        "time                          \n",
        "2015-01-06 16:31:32     200   \n",
        "2015-01-06 16:31:24     200   \n",
        "2015-01-06 16:31:04     200   \n",
        "2015-01-06 16:31:46     200   \n",
        "2015-01-06 16:31:42     200   \n",
        "2015-01-06 16:31:27     200   \n",
        "2015-01-06 16:31:19     200   \n",
        "2015-01-06 16:31:12     200   \n",
        "2015-01-06 16:31:36     200   \n",
        "2015-01-06 16:31:15     200   \n",
        "\n",
        "                            b  \\\n",
        "time                            \n",
        "2015-01-06 16:31:32  0.032557   \n",
        "2015-01-06 16:31:24  0.032557   \n",
        "2015-01-06 16:31:04  0.032557   \n",
        "2015-01-06 16:31:46  0.032556   \n",
        "2015-01-06 16:31:42  0.032556   \n",
        "2015-01-06 16:31:27  0.032556   \n",
        "2015-01-06 16:31:19  0.032556   \n",
        "2015-01-06 16:31:12  0.032556   \n",
        "2015-01-06 16:31:36  0.032556   \n",
        "2015-01-06 16:31:15  0.032555   \n",
        "\n",
        "                                        request  \\\n",
        "time                                              \n",
        "2015-01-06 16:31:32  GET /home/plugger HTTP/1.1   \n",
        "2015-01-06 16:31:24  GET /home/plugger HTTP/1.1   \n",
        "2015-01-06 16:31:04  GET /home/plugger HTTP/1.1   \n",
        "2015-01-06 16:31:46  GET /home/plugger HTTP/1.1   \n",
        "2015-01-06 16:31:42  GET /home/plugger HTTP/1.1   \n",
        "2015-01-06 16:31:27  GET /home/plugger HTTP/1.1   \n",
        "2015-01-06 16:31:19  GET /home/plugger HTTP/1.1   \n",
        "2015-01-06 16:31:12  GET /home/plugger HTTP/1.1   \n",
        "2015-01-06 16:31:36  GET /home/plugger HTTP/1.1   \n",
        "2015-01-06 16:31:15  GET /home/plugger HTTP/1.1   \n",
        "\n",
        "                           msisdn  \n",
        "time                               \n",
        "2015-01-06 16:31:32  528119804914  \n",
        "2015-01-06 16:31:24  528119804914  \n",
        "2015-01-06 16:31:04  528119804914  \n",
        "2015-01-06 16:31:46  528119804914  \n",
        "2015-01-06 16:31:42  528119804914  \n",
        "2015-01-06 16:31:27  528119804914  \n",
        "2015-01-06 16:31:19  528119804914  \n",
        "2015-01-06 16:31:12  528119804914  \n",
        "2015-01-06 16:31:36  528119804914  \n",
        "2015-01-06 16:31:15  528119804914  "
       ]
      }
     ],
     "prompt_number": 189
    },
    {
     "cell_type": "code",
     "collapsed": false,
     "input": [
      "bad['request'].value_counts().head(10)"
     ],
     "language": "python",
     "metadata": {},
     "outputs": [
      {
       "metadata": {},
       "output_type": "pyout",
       "prompt_number": 176,
       "text": [
        "GET /home/plugger HTTP/1.1                                      8031\n",
        "GET /mymedia/content/66597723 HTTP/1.1                          2432\n",
        "GET /profile/22669103/inbox HTTP/1.1                             149\n",
        "GET /friends/ HTTP/1.1                                            74\n",
        "GET / HTTP/1.1                                                    68\n",
        "GET /conversaciones/15c38bc761c0ba2d0ab666a693971790 HTTP/1.1      32\n",
        "GET /upload/browse/ HTTP/1.1                                      27\n",
        "POST /upload/browse/ HTTP/1.1                                     25\n",
        "GET /home/plugger?page=2&ajax HTTP/1.1                            21\n",
        "GET /profile/17374454/activities HTTP/1.1                         21\n",
        "dtype: int64"
       ]
      }
     ],
     "prompt_number": 176
    },
    {
     "cell_type": "markdown",
     "metadata": {},
     "source": [
      "##Compare to the rest"
     ]
    },
    {
     "cell_type": "code",
     "collapsed": false,
     "input": [
      "#df[df['Status'] == 200].b.sum()\n",
      "df_daily=df['b'].resample('1440t', how='sum')\n",
      "#print df_daily\n",
      "df_daily.plot()\n"
     ],
     "language": "python",
     "metadata": {},
     "outputs": [
      {
       "metadata": {},
       "output_type": "pyout",
       "prompt_number": 127,
       "text": [
        "<matplotlib.axes._subplots.AxesSubplot at 0x11ea57610>"
       ]
      },
      {
       "metadata": {},
       "output_type": "display_data",
       "png": "[encoded data removed]",
       "text": [
        "<matplotlib.figure.Figure at 0x11efa8050>"
       ]
      }
     ],
     "prompt_number": 127
    },
    {
     "cell_type": "code",
     "collapsed": false,
     "input": [
      "grouped_status = df.groupby('status')\n",
      "grouped_status.size().plot(kind='bar')"
     ],
     "language": "python",
     "metadata": {},
     "outputs": [
      {
       "metadata": {},
       "output_type": "pyout",
       "prompt_number": 167,
       "text": [
        "<matplotlib.axes._subplots.AxesSubplot at 0x11def39d0>"
       ]
      },
      {
       "metadata": {},
       "output_type": "display_data",
       "png": "[encoded data removed]",
       "text": [
        "<matplotlib.figure.Figure at 0x13267cd90>"
       ]
      }
     ],
     "prompt_number": 167
    },
    {
     "cell_type": "markdown",
     "metadata": {},
     "source": [
      "OK that doesn't look too bad. The vast majority of requests were served a 200 (OK) response.\n",
      "\n",
      "Let's graph the most common response codes over time, with a sample timespan of 1 hour."
     ]
    },
    {
     "cell_type": "code",
     "collapsed": false,
     "input": [
      "t_span = '60t' #1440 = per day 60t= per hour\n",
      "df_200 = df['status'][df['status'] == 200].resample(t_span, how='count')\n",
      "df_502 = df['status'][df['status'] == 502].resample(t_span, how='count')\n",
      "df_499 = df['status'][df['status'] == 499].resample(t_span, how='count')\n",
      "df_304 = df['status'][df['status'] == 304].resample(t_span, how='count')\n",
      "df_302 = df['status'][df['status'] == 302].resample(t_span, how='count')\n",
      "df_404 = df['status'][df['status'] == 404].resample(t_span, how='count')\n",
      "df_504 = df['status'][df['status'] == 504].resample(t_span, how='count')\n",
      "df_301 = df['status'][df['status'] == 301].resample(t_span, how='count')\n",
      "\n",
      "\n",
      "status_df = DataFrame({'OK': df_200, \n",
      "                       'Bad Gateway': df_502, \n",
      "                       'Client Closed': df_499, \n",
      "                       'Not Modified': df_304, \n",
      "                       'Found': df_302, \n",
      "                       'Not Found': df_404,\n",
      "                       'Gateway Timeout': df_504,\n",
      "                       'Moved Permenantely': df_301})"
     ],
     "language": "python",
     "metadata": {},
     "outputs": [],
     "prompt_number": 92
    },
    {
     "cell_type": "code",
     "collapsed": false,
     "input": [
      "status_df.fillna(0, inplace=True)\n",
      "status_df.head(2)"
     ],
     "language": "python",
     "metadata": {},
     "outputs": [
      {
       "html": [
        "<div style=\"max-height:1000px;max-width:1500px;overflow:auto;\">\n",
        "<table border=\"1\" class=\"dataframe\">\n",
        "  <thead>\n",
        "    <tr style=\"text-align: right;\">\n",
        "      <th></th>\n",
        "      <th>Bad Gateway</th>\n",
        "      <th>Client Closed</th>\n",
        "      <th>Found</th>\n",
        "      <th>Gateway Timeout</th>\n",
        "      <th>Moved Permenantely</th>\n",
        "      <th>Not Found</th>\n",
        "      <th>Not Modified</th>\n",
        "      <th>OK</th>\n",
        "    </tr>\n",
        "    <tr>\n",
        "      <th>time</th>\n",
        "      <th></th>\n",
        "      <th></th>\n",
        "      <th></th>\n",
        "      <th></th>\n",
        "      <th></th>\n",
        "      <th></th>\n",
        "      <th></th>\n",
        "      <th></th>\n",
        "    </tr>\n",
        "  </thead>\n",
        "  <tbody>\n",
        "    <tr>\n",
        "      <th>2014-12-31 11:00:00</th>\n",
        "      <td> 0</td>\n",
        "      <td> 0</td>\n",
        "      <td> 0</td>\n",
        "      <td> 0</td>\n",
        "      <td> 0</td>\n",
        "      <td> 0</td>\n",
        "      <td> 0</td>\n",
        "      <td> 34</td>\n",
        "    </tr>\n",
        "    <tr>\n",
        "      <th>2014-12-31 12:00:00</th>\n",
        "      <td> 0</td>\n",
        "      <td> 0</td>\n",
        "      <td> 0</td>\n",
        "      <td> 0</td>\n",
        "      <td> 0</td>\n",
        "      <td> 0</td>\n",
        "      <td> 0</td>\n",
        "      <td>  0</td>\n",
        "    </tr>\n",
        "  </tbody>\n",
        "</table>\n",
        "</div>"
       ],
       "metadata": {},
       "output_type": "pyout",
       "prompt_number": 101,
       "text": [
        "                     Bad Gateway  \\\n",
        "time                               \n",
        "2014-12-31 11:00:00            0   \n",
        "2014-12-31 12:00:00            0   \n",
        "\n",
        "                     Client Closed  \\\n",
        "time                                 \n",
        "2014-12-31 11:00:00              0   \n",
        "2014-12-31 12:00:00              0   \n",
        "\n",
        "                     Found  \\\n",
        "time                         \n",
        "2014-12-31 11:00:00      0   \n",
        "2014-12-31 12:00:00      0   \n",
        "\n",
        "                     Gateway Timeout  \\\n",
        "time                                   \n",
        "2014-12-31 11:00:00                0   \n",
        "2014-12-31 12:00:00                0   \n",
        "\n",
        "                     Moved Permenantely  \\\n",
        "time                                      \n",
        "2014-12-31 11:00:00                   0   \n",
        "2014-12-31 12:00:00                   0   \n",
        "\n",
        "                     Not Found  \\\n",
        "time                             \n",
        "2014-12-31 11:00:00          0   \n",
        "2014-12-31 12:00:00          0   \n",
        "\n",
        "                     Not Modified  \\\n",
        "time                                \n",
        "2014-12-31 11:00:00             0   \n",
        "2014-12-31 12:00:00             0   \n",
        "\n",
        "                     OK  \n",
        "time                     \n",
        "2014-12-31 11:00:00  34  \n",
        "2014-12-31 12:00:00   0  "
       ]
      }
     ],
     "prompt_number": 101
    },
    {
     "cell_type": "code",
     "collapsed": false,
     "input": [
      "status_df.plot()\n",
      "legend()"
     ],
     "language": "python",
     "metadata": {},
     "outputs": [
      {
       "metadata": {},
       "output_type": "pyout",
       "prompt_number": 95,
       "text": [
        "<matplotlib.legend.Legend at 0x12041d550>"
       ]
      },
      {
       "metadata": {},
       "output_type": "display_data",
       "png": "[encoded data removed]",
       "text": [
        "<matplotlib.figure.Figure at 0x10f7ad650>"
       ]
      }
     ],
     "prompt_number": 95
    },
    {
     "cell_type": "markdown",
     "metadata": {},
     "source": [
      "This doesn't look too bad either, but it's hard to make sense of what is going on with so many different response codes. Let's group them into success (web server handled it as expected) and failure (web server error or client closed request).\n",
      "\n",
      "    200    413236    Success    OK \n",
      "    502     39769    Failure    Bad Gateway\n",
      "    499     37443    Failure    Client closed request\n",
      "    304     29777    Success    Not modified\n",
      "    302      9467    Success    Found\n",
      "    404      8171    Success    Not Found\n",
      "    504      8105    Failure    Gateway timeout\n",
      "    301      1743    Success    Moved permanently\n",
      "    401       677    Success    Unauthorized\n",
      "    403       262    Success    Forbidden\n",
      "    500       171    Failure    Internal server error\n",
      "    206        51    Success    Partial content\n",
      "    444        40    Failure?   No response\n",
      "    400        20    Success?   Bad request\n",
      "    408         4    Success?   Request timeout\n",
      "    405         1    Success?   Method not allowed"
     ]
    },
    {
     "cell_type": "code",
     "collapsed": false,
     "input": [
      "success_df = df[df['status'].isin([200, 304, 302, 404, 301, 401, 403, 206, 444, 400, 408, 405])].resample(t_span, how='count')\n",
      "fail_df = df[df['status'].isin([502, 499, 504, 500, 444])].resample(t_span, how='count')\n",
      "success_df.plot(label=\"Success\")\n",
      "fail_df.plot(label=\"Failure\")\n",
      "legend()"
     ],
     "language": "python",
     "metadata": {},
     "outputs": [
      {
       "metadata": {},
       "output_type": "pyout",
       "prompt_number": 97,
       "text": [
        "<matplotlib.legend.Legend at 0x11a373e50>"
       ]
      },
      {
       "metadata": {},
       "output_type": "display_data",
       "png": "[encoded data removed]",
       "text": [
        "<matplotlib.figure.Figure at 0x116954c50>"
       ]
      },
      {
       "metadata": {},
       "output_type": "display_data",
       "png": "[encoded data removed]",
       "text": [
        "<matplotlib.figure.Figure at 0x116954690>"
       ]
      }
     ],
     "prompt_number": 97
    },
    {
     "cell_type": "markdown",
     "metadata": {},
     "source": [
      "Those are the requests served by nginx, so it includes both static files like css and javascript and dynamic content that was passed off to the Django app running on uwsgi. Let's filter out the static files and see how uwsgi did. In this case almost all of the static files have `/static/` in the path with a few exceptions such as the `favicon.ico`.\n"
     ]
    },
    {
     "cell_type": "code",
     "collapsed": false,
     "input": [
      "dynamic_df = df[df['request'].str.contains(r'^GET /(static|favicon.ico)') == False]\n",
      "\n",
      "dynamic_df['request'].value_counts().head(10)"
     ],
     "language": "python",
     "metadata": {},
     "outputs": [
      {
       "metadata": {},
       "output_type": "pyout",
       "prompt_number": 106,
       "text": [
        "GET /home/plugger HTTP/1.1                                      15812\n",
        "GET /profile/24780985/inbox HTTP/1.1                             9834\n",
        "GET / HTTP/1.1                                                   6968\n",
        "GET /friends/ HTTP/1.1                                           5409\n",
        "GET /conversaciones/04757dc6d44eed7472999b2744368248 HTTP/1.1     5245\n",
        "GET /profile/20302049/inbox HTTP/1.1                             3848\n",
        "GET /conversaciones/8e9fc361ded28e1e11ad7bea70c711c5 HTTP/1.1     3073\n",
        "GET /profile/24469333/inbox HTTP/1.1                             3040\n",
        "GET /friends/requests/ HTTP/1.1                                  2687\n",
        "GET /profile/24782985/inbox HTTP/1.1                             1848\n",
        "dtype: int64"
       ]
      }
     ],
     "prompt_number": 106
    },
    {
     "cell_type": "markdown",
     "metadata": {},
     "source": [
      "There isn't much that can be done with the POST requests - they need to hit uwsgi so we can save new accounts or ratings in the database. So let's move on to the GET requests. There are two basic techniques for having nginx serve these pages. First, we could have uwsgi store the fully rendered page in memcached or similar, then have nginx try to pull the page from memcached and falling back to uwsgi if the page wasn't in the cache. The second idea is to have uwsgi create a static file, and then let nginx serve that if it exists. Unfortunately, in this case both of those solutions are problematic. It is beyond the scope of this notebook to go into details (hopefully I will have a separate blog post on that soon), but the gist is that for most of these pages, the content changes depending on who is viewing them, so they can't readily be cached at the page level.\n",
      "\n",
      "The biggest gain would be to make the homepage static. The homepage will redirect to a user's recommended page if they are already logged in, but we could possibly detect logged in users with nginx via the http headers and only serve the static page to logged out visitors. Let's see what proportion of visitors who hit the homepage were logged in already."
     ]
    },
    {
     "cell_type": "code",
     "collapsed": false,
     "input": [
      "dynamic_df[dynamic_df['request'].str.contains('GET / HTTP/1.1')]['status'].value_counts()"
     ],
     "language": "python",
     "metadata": {},
     "outputs": [
      {
       "metadata": {},
       "output_type": "pyout",
       "prompt_number": 107,
       "text": [
        "303    6944\n",
        "499      23\n",
        "500       1\n",
        "dtype: int64"
       ]
      }
     ],
     "prompt_number": 107
    },
    {
     "cell_type": "markdown",
     "metadata": {},
     "source": [
      "Of the visitors who were able to access the homepage, (19331 / (3053 + 946 + 19331)) * 100 = 83% were logged out. So that nginx configuration change would have saved a bit more than 40,000 requests.\n",
      "\n",
      "Out of how many total?"
     ]
    },
    {
     "cell_type": "code",
     "collapsed": false,
     "input": [
      "dynamic_df.count()"
     ],
     "language": "python",
     "metadata": {},
     "outputs": [
      {
       "metadata": {},
       "output_type": "pyout",
       "prompt_number": 108,
       "text": [
        "status     232444\n",
        "b          232444\n",
        "%l,          2005\n",
        "request    232444\n",
        "msisdn     232444\n",
        "dtype: int64"
       ]
      }
     ],
     "prompt_number": 108
    },
    {
     "cell_type": "code",
     "collapsed": false,
     "input": [],
     "language": "python",
     "metadata": {},
     "outputs": []
    }
   ],
   "metadata": {}
  }
 ]
}