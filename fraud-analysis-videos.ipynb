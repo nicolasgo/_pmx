{
 "metadata": {
  "name": "",
  "signature": "sha256:b7c63c6abe4c9fcc9e09358b3496f1a614405713e916b0cf908c09b40c749022"
 },
 "nbformat": 3,
 "nbformat_minor": 0,
 "worksheets": [
  {
   "cells": [
    {
     "cell_type": "markdown",
     "metadata": {},
     "source": [
      "#Videos analysis\n",
      "- Finds the videos that consume the most bandwith"
     ]
    },
    {
     "cell_type": "heading",
     "level": 2,
     "metadata": {},
     "source": [
      "Setup"
     ]
    },
    {
     "cell_type": "code",
     "collapsed": false,
     "input": [
      "import pandas as pd\n",
      "import numpy as np\n",
      "import sys\n",
      "import matplotlib.pyplot as plt\n",
      "import apachelog"
     ],
     "language": "python",
     "metadata": {},
     "outputs": [],
     "prompt_number": 85
    },
    {
     "cell_type": "code",
     "collapsed": false,
     "input": [
      "from pylab import *\n",
      "rcParams['figure.figsize'] = 10, 5 # width, height in inches\n",
      "\n",
      "%matplotlib inline"
     ],
     "language": "python",
     "metadata": {},
     "outputs": [],
     "prompt_number": 86
    },
    {
     "cell_type": "code",
     "collapsed": false,
     "input": [
      "# only the last file_name gets read :-)\n",
      "#\n",
      "file_name=_rootdir+'data/fs01/3gp.0219.log'\n",
      "file_name=_rootdir+'data/fraud-worst/201502.log'\n",
      "file_name=_rootdir+'data/fs01/201502_3gp.log'\n",
      "file_name=_rootdir+'data/fs01/test.log'"
     ],
     "language": "python",
     "metadata": {},
     "outputs": [],
     "prompt_number": 87
    },
    {
     "cell_type": "heading",
     "level": 2,
     "metadata": {},
     "source": [
      "Parsing the log"
     ]
    },
    {
     "cell_type": "code",
     "collapsed": false,
     "input": [
      "sample_string = '189.254.162.19 189.254.162.19 - [14/Feb/2015:21:38:28 -0500] \"GET /profile/14119369/inbox HTTP/1.1\" 200 3040 \\\n",
      "\"http://mx.plugger.com/home/plugger\" \"Mozilla/5.0 (Linux; U; Android 4.4.2; es-sa; LG-D320 Build/KOT49I.V10a) AppleWebKit/537.36 (KHTML, like Gecko) Version/4.0 Chrome/30.0.1599.103 Mobile Safari/537.36\" \\\n",
      "526142530854'# BDFEA213B8166CA395DE005054E006A2 \"-\"'\n",
      "\n",
      "sample_string = '189.206.114.3 172.16.16.68, 127.0.0.1, 189.206.114.3 - [14/Feb/2015:01:24:02 -0500] \\\n",
      "\"GET /62702/55/51/94/23/00/1400728511.3407_M4s9VAtwuRGPoq_phPe8I/3gp.3gp HTTP/1.1\" 404 162 \\\n",
      "\"http://mx.plugger.com/mymedia/content/32491555\" \\\n",
      "\"Mozilla/5.0 (Linux; U; Android 4.1.2; es-sa; LG-E450f Build/JZO54K) AppleWebKit/534.30 (KHTML, like Gecko) Version/4.0 Mobile Safari/534.30\" \\\n",
      "-'\n",
      "\n",
      "log_formats=[ r'%h %l %u %t \\\"%r\\\" %>s %b \\\"%i\\\" \\\"%{User-Agent}i\\\" %{msisdn}b',\n",
      "    r'%h %l %u %t \\\"%r\\\" %>s %b \\\"%i\\\" \\\"%{User-Agent}i\\\" %{msisdn}b %{hexa}i \\\"%V\\\"',\n",
      "    r'%h %l, %u %t \\\"%r\\\" %>s %b \\\"%i\\\" \\\"%{User-Agent}i\\\" %{msisdn}b',\n",
      "    r'%h %l, %u %u %t \\\"%r\\\" %>s %b \\\"%i\\\" \\\"%{User-Agent}i\\\" %{msisdn}b %{hexa}i \\\"%V\\\"',\n",
      "    r'%h %l, %1, %l %u %t \\\"%r\\\" %>s %b \\\"%i\\\" \\\"%{User-Agent}i\\\" %{msisdn}b',\n",
      "    r'%h %l, %u %u %t \\\"%r\\\" %>s %b \\\"%i\\\" \\\"%{User-Agent}i\\\" %{msisdn}b']\n",
      "\n",
      "log_parsers = []\n",
      "for f in log_formats:\n",
      "    log_parsers.append(apachelog.parser(f))\n",
      "\n",
      "status=False\n",
      "chk_parsers = (p for p in log_parsers if status is False)\n",
      "for p in chk_parsers:\n",
      "    try:\n",
      "        data=p.parse(sample_string)\n",
      "        status=True\n",
      "        break\n",
      "    except ApacheLogParserError, e:\n",
      "#        print e\n",
      "        pass\n",
      "\n",
      "if status:\n",
      "    print data\n",
      "else:\n",
      "    print 'Unable to parse this!'"
     ],
     "language": "python",
     "metadata": {},
     "outputs": [
      {
       "output_type": "stream",
       "stream": "stdout",
       "text": [
        "{'%l': '189.206.114.3', '%>s': '404', '%i': 'http://mx.plugger.com/mymedia/content/32491555', '%h': '189.206.114.3', '%l,': '172.16.16.68,', '%{User-Agent}i': 'Mozilla/5.0 (Linux; U; Android 4.1.2; es-sa; LG-E450f Build/JZO54K) AppleWebKit/534.30 (KHTML, like Gecko) Version/4.0 Mobile Safari/534.30', '%b': '162', '%{msisdn}b': '-', '%1,': '127.0.0.1,', '%u': '-', '%t': '[14/Feb/2015:01:24:02 -0500]', '%r': 'GET /62702/55/51/94/23/00/1400728511.3407_M4s9VAtwuRGPoq_phPe8I/3gp.3gp HTTP/1.1'}\n"
       ]
      }
     ],
     "prompt_number": 88
    },
    {
     "cell_type": "markdown",
     "metadata": {},
     "source": [
      "Now let's parse each line while preparing the access time so that pandas will be able to handle it."
     ]
    },
    {
     "cell_type": "code",
     "collapsed": false,
     "input": [
      "from apachelog import ApacheLogParserError\n",
      "log_list = []\n",
      "count=0\n",
      "missed=''\n",
      "\n",
      "with open(file_name) as f:\n",
      "    print 'reading:',file_name\n",
      "\n",
      "    for line in f.readlines():\n",
      "        status=False\n",
      "        chk_parsers = (p for p in log_parsers if status is False)\n",
      "        for p in chk_parsers:\n",
      "            try:\n",
      "                data=p.parse(line)\n",
      "                data['%t'] = data['%t'][1:12]+' '+data['%t'][13:21]+' '+data['%t'][22:27]\n",
      "                log_list.append(data)\n",
      "                status=True\n",
      "            except ApacheLogParserError:\n",
      "                pass\n",
      "\n",
      "    if status is False:\n",
      "        count +=1\n",
      "        missed=line\n",
      "print 'read %d lines successfully.'%len(log_list)\n",
      "print 'missed %d lines: %s'%(count,missed)"
     ],
     "language": "python",
     "metadata": {},
     "outputs": [
      {
       "output_type": "stream",
       "stream": "stdout",
       "text": [
        "reading: /Users/Nicolas/dev/data/fs01/test.log\n",
        "read 384689 lines successfully."
       ]
      },
      {
       "output_type": "stream",
       "stream": "stdout",
       "text": [
        "\n",
        "missed 0 lines: \n"
       ]
      }
     ],
     "prompt_number": 89
    },
    {
     "cell_type": "markdown",
     "metadata": {},
     "source": [
      "Loading into pandas."
     ]
    },
    {
     "cell_type": "code",
     "collapsed": false,
     "input": [
      "from pandas import Series, DataFrame, Panel\n",
      "df = DataFrame(log_list)\n",
      "df.head(2)"
     ],
     "language": "python",
     "metadata": {},
     "outputs": [
      {
       "html": [
        "<div style=\"max-height:1000px;max-width:1500px;overflow:auto;\">\n",
        "<table border=\"1\" class=\"dataframe\">\n",
        "  <thead>\n",
        "    <tr style=\"text-align: right;\">\n",
        "      <th></th>\n",
        "      <th>%1,</th>\n",
        "      <th>%&gt;s</th>\n",
        "      <th>%V</th>\n",
        "      <th>%b</th>\n",
        "      <th>%h</th>\n",
        "      <th>%i</th>\n",
        "      <th>%l</th>\n",
        "      <th>%l,</th>\n",
        "      <th>%r</th>\n",
        "      <th>%t</th>\n",
        "      <th>%u</th>\n",
        "      <th>%{User-Agent}i</th>\n",
        "      <th>%{hexa}i</th>\n",
        "      <th>%{msisdn}b</th>\n",
        "    </tr>\n",
        "  </thead>\n",
        "  <tbody>\n",
        "    <tr>\n",
        "      <th>0</th>\n",
        "      <td> NaN</td>\n",
        "      <td> 200</td>\n",
        "      <td> -</td>\n",
        "      <td> 490802</td>\n",
        "      <td> 187.217.195.124</td>\n",
        "      <td> -</td>\n",
        "      <td> 187.217.195.124</td>\n",
        "      <td> NaN</td>\n",
        "      <td> GET /62701/40/87/73/47/00/1422679648.7973_KJ49...</td>\n",
        "      <td> 19/Feb/2015 14:21:30 -0500</td>\n",
        "      <td> -</td>\n",
        "      <td>    Azumi Chic WF OBIGO/Q03C (MTK;Nucleus;U;es-CL)</td>\n",
        "      <td> BBD9C37C5F016CA395DD005054E637B9</td>\n",
        "      <td> 527811036125</td>\n",
        "    </tr>\n",
        "    <tr>\n",
        "      <th>1</th>\n",
        "      <td> NaN</td>\n",
        "      <td> 200</td>\n",
        "      <td> -</td>\n",
        "      <td> 611692</td>\n",
        "      <td>   187.237.25.94</td>\n",
        "      <td> -</td>\n",
        "      <td>   187.237.25.94</td>\n",
        "      <td> NaN</td>\n",
        "      <td> GET /62702/88/67/33/77/00/1424162273.227_oAumF...</td>\n",
        "      <td> 20/Feb/2015 16:40:01 -0500</td>\n",
        "      <td> -</td>\n",
        "      <td> FISE60A_6464_11B_HW (MRE/3.1.00(1);MAUI/11B.W1...</td>\n",
        "      <td> BBED195E62D46CA395DE005054E7A9AA</td>\n",
        "      <td> 527121161099</td>\n",
        "    </tr>\n",
        "  </tbody>\n",
        "</table>\n",
        "</div>"
       ],
       "metadata": {},
       "output_type": "pyout",
       "prompt_number": 90,
       "text": [
        "   %1,  \\\n",
        "0  NaN   \n",
        "1  NaN   \n",
        "\n",
        "   %>s  \\\n",
        "0  200   \n",
        "1  200   \n",
        "\n",
        "  %V  \\\n",
        "0  -   \n",
        "1  -   \n",
        "\n",
        "       %b  \\\n",
        "0  490802   \n",
        "1  611692   \n",
        "\n",
        "                %h  \\\n",
        "0  187.217.195.124   \n",
        "1    187.237.25.94   \n",
        "\n",
        "  %i  \\\n",
        "0  -   \n",
        "1  -   \n",
        "\n",
        "                %l  \\\n",
        "0  187.217.195.124   \n",
        "1    187.237.25.94   \n",
        "\n",
        "   %l,  \\\n",
        "0  NaN   \n",
        "1  NaN   \n",
        "\n",
        "                                                  %r  \\\n",
        "0  GET /62701/40/87/73/47/00/1422679648.7973_KJ49...   \n",
        "1  GET /62702/88/67/33/77/00/1424162273.227_oAumF...   \n",
        "\n",
        "                           %t  \\\n",
        "0  19/Feb/2015 14:21:30 -0500   \n",
        "1  20/Feb/2015 16:40:01 -0500   \n",
        "\n",
        "  %u  \\\n",
        "0  -   \n",
        "1  -   \n",
        "\n",
        "                                      %{User-Agent}i  \\\n",
        "0     Azumi Chic WF OBIGO/Q03C (MTK;Nucleus;U;es-CL)   \n",
        "1  FISE60A_6464_11B_HW (MRE/3.1.00(1);MAUI/11B.W1...   \n",
        "\n",
        "                           %{hexa}i  \\\n",
        "0  BBD9C37C5F016CA395DD005054E637B9   \n",
        "1  BBED195E62D46CA395DE005054E7A9AA   \n",
        "\n",
        "     %{msisdn}b  \n",
        "0  527811036125  \n",
        "1  527121161099  "
       ]
      }
     ],
     "prompt_number": 90
    },
    {
     "cell_type": "code",
     "collapsed": false,
     "input": [
      "df.info()"
     ],
     "language": "python",
     "metadata": {},
     "outputs": [
      {
       "output_type": "stream",
       "stream": "stdout",
       "text": [
        "<class 'pandas.core.frame.DataFrame'>\n",
        "Int64Index: 384689 entries, 0 to 384688\n",
        "Data columns (total 14 columns):\n",
        "%1,               1 non-null object\n",
        "%>s               384689 non-null object\n",
        "%V                37 non-null object\n",
        "%b                384689 non-null object\n",
        "%h                384689 non-null object\n",
        "%i                384689 non-null object\n",
        "%l                383755 non-null object\n",
        "%l,               935 non-null object\n",
        "%r                384689 non-null object\n",
        "%t                384689 non-null object\n",
        "%u                384689 non-null object\n",
        "%{User-Agent}i    384689 non-null object\n",
        "%{hexa}i          37 non-null object\n",
        "%{msisdn}b        384689 non-null object\n",
        "dtypes: object(14)\n",
        "memory usage: 44.0+ MB\n"
       ]
      }
     ],
     "prompt_number": 91
    },
    {
     "cell_type": "markdown",
     "metadata": {},
     "source": [
      "Now lets clean up the pandas dataframe a bit by deleting some columns we aren't interested in and renaming the remaining columns."
     ]
    },
    {
     "cell_type": "code",
     "collapsed": false,
     "input": [
      "t=['%h','%i','%1,','%l,','%l,','%I','%u','%{User-Agent}i','%{hexa}i','%V']\n",
      "\n",
      "for e in t:\n",
      "    try :\n",
      "        del df[e]\n",
      "    except :\n",
      "        pass\n",
      "    \n",
      "try :\n",
      "    df = df.rename(columns={'%>s': 'status', '%b':'b', \n",
      "                            '%r':'request', '%t': 'time', '%{msisdn}b': 'msisdn'})\n",
      "except :\n",
      "    pass"
     ],
     "language": "python",
     "metadata": {
      "run_control": {
       "breakpoint": false
      }
     },
     "outputs": [],
     "prompt_number": 92
    },
    {
     "cell_type": "code",
     "collapsed": false,
     "input": [
      "df.request.head()"
     ],
     "language": "python",
     "metadata": {
      "run_control": {
       "breakpoint": false
      }
     },
     "outputs": [
      {
       "metadata": {},
       "output_type": "pyout",
       "prompt_number": 93,
       "text": [
        "0    GET /62701/40/87/73/47/00/1422679648.7973_KJ49...\n",
        "1    GET /62702/88/67/33/77/00/1424162273.227_oAumF...\n",
        "2    GET /62701/21/46/73/00/00/1316826750_1p1lzj/3g...\n",
        "3    GET /62702/29/52/98/46/00/1417926856.9505_a3W1...\n",
        "4    GET /62702/94/88/65/36/00/1417418565.8565_cGan...\n",
        "Name: request, dtype: object"
       ]
      }
     ],
     "prompt_number": 93
    },
    {
     "cell_type": "code",
     "collapsed": false,
     "input": [
      "df[0:2]\n",
      "\n",
      "df['time']=pd.to_datetime(df['time'])\n",
      "df['status'] = df['status'].astype('int')\n",
      "df['b'] = df['b'].astype('int')\n",
      "\n",
      "df.head(2)"
     ],
     "language": "python",
     "metadata": {},
     "outputs": [
      {
       "html": [
        "<div style=\"max-height:1000px;max-width:1500px;overflow:auto;\">\n",
        "<table border=\"1\" class=\"dataframe\">\n",
        "  <thead>\n",
        "    <tr style=\"text-align: right;\">\n",
        "      <th></th>\n",
        "      <th>status</th>\n",
        "      <th>b</th>\n",
        "      <th>%l</th>\n",
        "      <th>request</th>\n",
        "      <th>time</th>\n",
        "      <th>msisdn</th>\n",
        "    </tr>\n",
        "  </thead>\n",
        "  <tbody>\n",
        "    <tr>\n",
        "      <th>0</th>\n",
        "      <td> 200</td>\n",
        "      <td> 490802</td>\n",
        "      <td> 187.217.195.124</td>\n",
        "      <td> GET /62701/40/87/73/47/00/1422679648.7973_KJ49...</td>\n",
        "      <td>2015-02-19 19:21:30</td>\n",
        "      <td> 527811036125</td>\n",
        "    </tr>\n",
        "    <tr>\n",
        "      <th>1</th>\n",
        "      <td> 200</td>\n",
        "      <td> 611692</td>\n",
        "      <td>   187.237.25.94</td>\n",
        "      <td> GET /62702/88/67/33/77/00/1424162273.227_oAumF...</td>\n",
        "      <td>2015-02-20 21:40:01</td>\n",
        "      <td> 527121161099</td>\n",
        "    </tr>\n",
        "  </tbody>\n",
        "</table>\n",
        "</div>"
       ],
       "metadata": {},
       "output_type": "pyout",
       "prompt_number": 94,
       "text": [
        "   status  \\\n",
        "0     200   \n",
        "1     200   \n",
        "\n",
        "        b  \\\n",
        "0  490802   \n",
        "1  611692   \n",
        "\n",
        "                %l  \\\n",
        "0  187.217.195.124   \n",
        "1    187.237.25.94   \n",
        "\n",
        "                                             request  \\\n",
        "0  GET /62701/40/87/73/47/00/1422679648.7973_KJ49...   \n",
        "1  GET /62702/88/67/33/77/00/1424162273.227_oAumF...   \n",
        "\n",
        "                 time  \\\n",
        "0 2015-02-19 19:21:30   \n",
        "1 2015-02-20 21:40:01   \n",
        "\n",
        "         msisdn  \n",
        "0  527811036125  \n",
        "1  527121161099  "
       ]
      }
     ],
     "prompt_number": 94
    },
    {
     "cell_type": "code",
     "collapsed": false,
     "input": [
      "df.head(10)"
     ],
     "language": "python",
     "metadata": {
      "run_control": {
       "breakpoint": false
      }
     },
     "outputs": [
      {
       "html": [
        "<div style=\"max-height:1000px;max-width:1500px;overflow:auto;\">\n",
        "<table border=\"1\" class=\"dataframe\">\n",
        "  <thead>\n",
        "    <tr style=\"text-align: right;\">\n",
        "      <th></th>\n",
        "      <th>status</th>\n",
        "      <th>b</th>\n",
        "      <th>%l</th>\n",
        "      <th>request</th>\n",
        "      <th>time</th>\n",
        "      <th>msisdn</th>\n",
        "    </tr>\n",
        "  </thead>\n",
        "  <tbody>\n",
        "    <tr>\n",
        "      <th>0</th>\n",
        "      <td> 200</td>\n",
        "      <td> 490802</td>\n",
        "      <td> 187.217.195.124</td>\n",
        "      <td> GET /62701/40/87/73/47/00/1422679648.7973_KJ49...</td>\n",
        "      <td>2015-02-19 19:21:30</td>\n",
        "      <td> 527811036125</td>\n",
        "    </tr>\n",
        "    <tr>\n",
        "      <th>1</th>\n",
        "      <td> 200</td>\n",
        "      <td> 611692</td>\n",
        "      <td>   187.237.25.94</td>\n",
        "      <td> GET /62702/88/67/33/77/00/1424162273.227_oAumF...</td>\n",
        "      <td>2015-02-20 21:40:01</td>\n",
        "      <td> 527121161099</td>\n",
        "    </tr>\n",
        "    <tr>\n",
        "      <th>2</th>\n",
        "      <td> 200</td>\n",
        "      <td> 496611</td>\n",
        "      <td>  187.210.247.14</td>\n",
        "      <td> GET /62701/21/46/73/00/00/1316826750_1p1lzj/3g...</td>\n",
        "      <td>2015-02-20 21:43:27</td>\n",
        "      <td> 526751093207</td>\n",
        "    </tr>\n",
        "    <tr>\n",
        "      <th>3</th>\n",
        "      <td> 200</td>\n",
        "      <td> 362168</td>\n",
        "      <td>  187.210.230.21</td>\n",
        "      <td> GET /62702/29/52/98/46/00/1417926856.9505_a3W1...</td>\n",
        "      <td>2015-02-20 22:28:23</td>\n",
        "      <td> 523151004822</td>\n",
        "    </tr>\n",
        "    <tr>\n",
        "      <th>4</th>\n",
        "      <td> 200</td>\n",
        "      <td> 569546</td>\n",
        "      <td>  187.210.230.21</td>\n",
        "      <td> GET /62702/94/88/65/36/00/1417418565.8565_cGan...</td>\n",
        "      <td>2015-02-20 22:58:02</td>\n",
        "      <td> 523151004822</td>\n",
        "    </tr>\n",
        "    <tr>\n",
        "      <th>5</th>\n",
        "      <td> 200</td>\n",
        "      <td> 644838</td>\n",
        "      <td>  187.210.230.30</td>\n",
        "      <td> GET /62702/75/20/39/57/00/1423440172.6342_uxL6...</td>\n",
        "      <td>2015-02-21 04:45:26</td>\n",
        "      <td> 524433280287</td>\n",
        "    </tr>\n",
        "    <tr>\n",
        "      <th>6</th>\n",
        "      <td> 200</td>\n",
        "      <td> 481503</td>\n",
        "      <td> 187.216.232.114</td>\n",
        "      <td> GET /62701/58/22/59/37/00/1422485933.7812_rfAm...</td>\n",
        "      <td>2015-02-21 04:49:22</td>\n",
        "      <td> 522821072234</td>\n",
        "    </tr>\n",
        "    <tr>\n",
        "      <th>7</th>\n",
        "      <td> 200</td>\n",
        "      <td> 541803</td>\n",
        "      <td>  187.210.230.21</td>\n",
        "      <td> GET /62701/40/93/95/05/00/1411873690.1627_20M9...</td>\n",
        "      <td>2015-02-21 20:00:58</td>\n",
        "      <td> 523151004822</td>\n",
        "    </tr>\n",
        "    <tr>\n",
        "      <th>8</th>\n",
        "      <td> 200</td>\n",
        "      <td> 635972</td>\n",
        "      <td>  187.217.195.88</td>\n",
        "      <td> GET /62702/48/26/59/17/00/1421444181.975_5kjPW...</td>\n",
        "      <td>2015-02-21 23:28:59</td>\n",
        "      <td> 529581131804</td>\n",
        "    </tr>\n",
        "    <tr>\n",
        "      <th>9</th>\n",
        "      <td> 200</td>\n",
        "      <td> 243955</td>\n",
        "      <td>  187.217.195.15</td>\n",
        "      <td> GET /62701/66/22/94/94/00/1411306191.6051_Gjlo...</td>\n",
        "      <td>2015-02-22 04:52:45</td>\n",
        "      <td> 522361147637</td>\n",
        "    </tr>\n",
        "  </tbody>\n",
        "</table>\n",
        "</div>"
       ],
       "metadata": {},
       "output_type": "pyout",
       "prompt_number": 95,
       "text": [
        "   status  \\\n",
        "0     200   \n",
        "1     200   \n",
        "2     200   \n",
        "3     200   \n",
        "4     200   \n",
        "5     200   \n",
        "6     200   \n",
        "7     200   \n",
        "8     200   \n",
        "9     200   \n",
        "\n",
        "        b  \\\n",
        "0  490802   \n",
        "1  611692   \n",
        "2  496611   \n",
        "3  362168   \n",
        "4  569546   \n",
        "5  644838   \n",
        "6  481503   \n",
        "7  541803   \n",
        "8  635972   \n",
        "9  243955   \n",
        "\n",
        "                %l  \\\n",
        "0  187.217.195.124   \n",
        "1    187.237.25.94   \n",
        "2   187.210.247.14   \n",
        "3   187.210.230.21   \n",
        "4   187.210.230.21   \n",
        "5   187.210.230.30   \n",
        "6  187.216.232.114   \n",
        "7   187.210.230.21   \n",
        "8   187.217.195.88   \n",
        "9   187.217.195.15   \n",
        "\n",
        "                                             request  \\\n",
        "0  GET /62701/40/87/73/47/00/1422679648.7973_KJ49...   \n",
        "1  GET /62702/88/67/33/77/00/1424162273.227_oAumF...   \n",
        "2  GET /62701/21/46/73/00/00/1316826750_1p1lzj/3g...   \n",
        "3  GET /62702/29/52/98/46/00/1417926856.9505_a3W1...   \n",
        "4  GET /62702/94/88/65/36/00/1417418565.8565_cGan...   \n",
        "5  GET /62702/75/20/39/57/00/1423440172.6342_uxL6...   \n",
        "6  GET /62701/58/22/59/37/00/1422485933.7812_rfAm...   \n",
        "7  GET /62701/40/93/95/05/00/1411873690.1627_20M9...   \n",
        "8  GET /62702/48/26/59/17/00/1421444181.975_5kjPW...   \n",
        "9  GET /62701/66/22/94/94/00/1411306191.6051_Gjlo...   \n",
        "\n",
        "                 time  \\\n",
        "0 2015-02-19 19:21:30   \n",
        "1 2015-02-20 21:40:01   \n",
        "2 2015-02-20 21:43:27   \n",
        "3 2015-02-20 22:28:23   \n",
        "4 2015-02-20 22:58:02   \n",
        "5 2015-02-21 04:45:26   \n",
        "6 2015-02-21 04:49:22   \n",
        "7 2015-02-21 20:00:58   \n",
        "8 2015-02-21 23:28:59   \n",
        "9 2015-02-22 04:52:45   \n",
        "\n",
        "         msisdn  \n",
        "0  527811036125  \n",
        "1  527121161099  \n",
        "2  526751093207  \n",
        "3  523151004822  \n",
        "4  523151004822  \n",
        "5  524433280287  \n",
        "6  522821072234  \n",
        "7  523151004822  \n",
        "8  529581131804  \n",
        "9  522361147637  "
       ]
      }
     ],
     "prompt_number": 95
    },
    {
     "cell_type": "markdown",
     "metadata": {},
     "source": [
      "We want to find large videos. Set the min_size to 10M (for now)"
     ]
    },
    {
     "cell_type": "code",
     "collapsed": false,
     "input": [
      "df.b.describe()\n",
      "min_size=df.b>5000000\n",
      "df[min_size].count()"
     ],
     "language": "python",
     "metadata": {},
     "outputs": [
      {
       "metadata": {},
       "output_type": "pyout",
       "prompt_number": 96,
       "text": [
        "status     56958\n",
        "b          56958\n",
        "%l         56872\n",
        "request    56958\n",
        "time       56958\n",
        "msisdn     56958\n",
        "dtype: int64"
       ]
      }
     ],
     "prompt_number": 96
    },
    {
     "cell_type": "code",
     "collapsed": false,
     "input": [
      "df=df[min_size].copy()"
     ],
     "language": "python",
     "metadata": {},
     "outputs": [],
     "prompt_number": 97
    },
    {
     "cell_type": "code",
     "collapsed": true,
     "input": [
      "df['time']=pd.to_datetime(df['time'], coerce=True)#,errors='raise')\n",
      "df.info()"
     ],
     "language": "python",
     "metadata": {},
     "outputs": [
      {
       "output_type": "stream",
       "stream": "stdout",
       "text": [
        "<class 'pandas.core.frame.DataFrame'>\n",
        "Int64Index: 56958 entries, 15 to 384668\n",
        "Data columns (total 6 columns):\n",
        "status     56958 non-null int64\n",
        "b          56958 non-null int64\n",
        "%l         56872 non-null object\n",
        "request    56958 non-null object\n",
        "time       56958 non-null datetime64[ns]\n",
        "msisdn     56958 non-null object\n",
        "dtypes: datetime64[ns](1), int64(2), object(3)\n",
        "memory usage: 3.0+ MB\n"
       ]
      }
     ],
     "prompt_number": 98
    },
    {
     "cell_type": "code",
     "collapsed": false,
     "input": [
      "df['msisdn'].describe()"
     ],
     "language": "python",
     "metadata": {},
     "outputs": [
      {
       "metadata": {},
       "output_type": "pyout",
       "prompt_number": 99,
       "text": [
        "count     56958\n",
        "unique    18511\n",
        "top           -\n",
        "freq       1720\n",
        "Name: msisdn, dtype: object"
       ]
      }
     ],
     "prompt_number": 99
    },
    {
     "cell_type": "code",
     "collapsed": false,
     "input": [
      "def dash2nan(x):\n",
      "    if x == '-':\n",
      "        x = np.nan\n",
      "    else:\n",
      "        x = float(x)/1048576.\n",
      "    \n",
      "    return x\n",
      "df['b'] = df['b'].apply(dash2nan)"
     ],
     "language": "python",
     "metadata": {},
     "outputs": [],
     "prompt_number": 100
    },
    {
     "cell_type": "code",
     "collapsed": false,
     "input": [
      "#df.set_index(['msisdn','status','time'], inplace=True)\n",
      "df.head()"
     ],
     "language": "python",
     "metadata": {},
     "outputs": [
      {
       "html": [
        "<div style=\"max-height:1000px;max-width:1500px;overflow:auto;\">\n",
        "<table border=\"1\" class=\"dataframe\">\n",
        "  <thead>\n",
        "    <tr style=\"text-align: right;\">\n",
        "      <th></th>\n",
        "      <th>status</th>\n",
        "      <th>b</th>\n",
        "      <th>%l</th>\n",
        "      <th>request</th>\n",
        "      <th>time</th>\n",
        "      <th>msisdn</th>\n",
        "    </tr>\n",
        "  </thead>\n",
        "  <tbody>\n",
        "    <tr>\n",
        "      <th>15</th>\n",
        "      <td> 200</td>\n",
        "      <td>  5.682767</td>\n",
        "      <td>  187.216.232.20</td>\n",
        "      <td> GET /62701/19/15/89/92/00/1398970595.4221_muik...</td>\n",
        "      <td>2015-02-19 13:45:45</td>\n",
        "      <td> 522241092565</td>\n",
        "    </tr>\n",
        "    <tr>\n",
        "      <th>38</th>\n",
        "      <td> 200</td>\n",
        "      <td>  6.745662</td>\n",
        "      <td>  201.144.174.12</td>\n",
        "      <td> GET /62701/33/95/13/12/00/1391525058.9562_gRbF...</td>\n",
        "      <td>2015-02-19 05:25:08</td>\n",
        "      <td> 526291094779</td>\n",
        "    </tr>\n",
        "    <tr>\n",
        "      <th>44</th>\n",
        "      <td> 200</td>\n",
        "      <td>  5.744612</td>\n",
        "      <td>  187.217.195.24</td>\n",
        "      <td> GET /62701/08/27/58/02/00/1391093392.4972_cV9L...</td>\n",
        "      <td>2015-02-19 05:25:12</td>\n",
        "      <td> 522731179354</td>\n",
        "    </tr>\n",
        "    <tr>\n",
        "      <th>55</th>\n",
        "      <td> 200</td>\n",
        "      <td>  4.948116</td>\n",
        "      <td>  187.237.14.206</td>\n",
        "      <td> GET /62701/62/46/73/03/00/1399236946.0298_sILF...</td>\n",
        "      <td>2015-02-19 05:25:22</td>\n",
        "      <td> 524777024189</td>\n",
        "    </tr>\n",
        "    <tr>\n",
        "      <th>61</th>\n",
        "      <td> 200</td>\n",
        "      <td> 10.516898</td>\n",
        "      <td> 187.210.139.119</td>\n",
        "      <td> GET /62702/55/90/50/42/00/1394098077.3333_2FaB...</td>\n",
        "      <td>2015-02-19 05:25:26</td>\n",
        "      <td> 526951101807</td>\n",
        "    </tr>\n",
        "  </tbody>\n",
        "</table>\n",
        "</div>"
       ],
       "metadata": {},
       "output_type": "pyout",
       "prompt_number": 101,
       "text": [
        "    status  \\\n",
        "15     200   \n",
        "38     200   \n",
        "44     200   \n",
        "55     200   \n",
        "61     200   \n",
        "\n",
        "            b  \\\n",
        "15   5.682767   \n",
        "38   6.745662   \n",
        "44   5.744612   \n",
        "55   4.948116   \n",
        "61  10.516898   \n",
        "\n",
        "                 %l  \\\n",
        "15   187.216.232.20   \n",
        "38   201.144.174.12   \n",
        "44   187.217.195.24   \n",
        "55   187.237.14.206   \n",
        "61  187.210.139.119   \n",
        "\n",
        "                                              request  \\\n",
        "15  GET /62701/19/15/89/92/00/1398970595.4221_muik...   \n",
        "38  GET /62701/33/95/13/12/00/1391525058.9562_gRbF...   \n",
        "44  GET /62701/08/27/58/02/00/1391093392.4972_cV9L...   \n",
        "55  GET /62701/62/46/73/03/00/1399236946.0298_sILF...   \n",
        "61  GET /62702/55/90/50/42/00/1394098077.3333_2FaB...   \n",
        "\n",
        "                  time  \\\n",
        "15 2015-02-19 13:45:45   \n",
        "38 2015-02-19 05:25:08   \n",
        "44 2015-02-19 05:25:12   \n",
        "55 2015-02-19 05:25:22   \n",
        "61 2015-02-19 05:25:26   \n",
        "\n",
        "          msisdn  \n",
        "15  522241092565  \n",
        "38  526291094779  \n",
        "44  522731179354  \n",
        "55  524777024189  \n",
        "61  526951101807  "
       ]
      }
     ],
     "prompt_number": 101
    },
    {
     "cell_type": "code",
     "collapsed": false,
     "input": [
      "try:\n",
      "    df.set_index(['time'],inplace=True)\n",
      "except KeyError:\n",
      "    pass\n",
      "df.head()"
     ],
     "language": "python",
     "metadata": {},
     "outputs": [
      {
       "html": [
        "<div style=\"max-height:1000px;max-width:1500px;overflow:auto;\">\n",
        "<table border=\"1\" class=\"dataframe\">\n",
        "  <thead>\n",
        "    <tr style=\"text-align: right;\">\n",
        "      <th></th>\n",
        "      <th>status</th>\n",
        "      <th>b</th>\n",
        "      <th>%l</th>\n",
        "      <th>request</th>\n",
        "      <th>msisdn</th>\n",
        "    </tr>\n",
        "    <tr>\n",
        "      <th>time</th>\n",
        "      <th></th>\n",
        "      <th></th>\n",
        "      <th></th>\n",
        "      <th></th>\n",
        "      <th></th>\n",
        "    </tr>\n",
        "  </thead>\n",
        "  <tbody>\n",
        "    <tr>\n",
        "      <th>2015-02-19 13:45:45</th>\n",
        "      <td> 200</td>\n",
        "      <td>  5.682767</td>\n",
        "      <td>  187.216.232.20</td>\n",
        "      <td> GET /62701/19/15/89/92/00/1398970595.4221_muik...</td>\n",
        "      <td> 522241092565</td>\n",
        "    </tr>\n",
        "    <tr>\n",
        "      <th>2015-02-19 05:25:08</th>\n",
        "      <td> 200</td>\n",
        "      <td>  6.745662</td>\n",
        "      <td>  201.144.174.12</td>\n",
        "      <td> GET /62701/33/95/13/12/00/1391525058.9562_gRbF...</td>\n",
        "      <td> 526291094779</td>\n",
        "    </tr>\n",
        "    <tr>\n",
        "      <th>2015-02-19 05:25:12</th>\n",
        "      <td> 200</td>\n",
        "      <td>  5.744612</td>\n",
        "      <td>  187.217.195.24</td>\n",
        "      <td> GET /62701/08/27/58/02/00/1391093392.4972_cV9L...</td>\n",
        "      <td> 522731179354</td>\n",
        "    </tr>\n",
        "    <tr>\n",
        "      <th>2015-02-19 05:25:22</th>\n",
        "      <td> 200</td>\n",
        "      <td>  4.948116</td>\n",
        "      <td>  187.237.14.206</td>\n",
        "      <td> GET /62701/62/46/73/03/00/1399236946.0298_sILF...</td>\n",
        "      <td> 524777024189</td>\n",
        "    </tr>\n",
        "    <tr>\n",
        "      <th>2015-02-19 05:25:26</th>\n",
        "      <td> 200</td>\n",
        "      <td> 10.516898</td>\n",
        "      <td> 187.210.139.119</td>\n",
        "      <td> GET /62702/55/90/50/42/00/1394098077.3333_2FaB...</td>\n",
        "      <td> 526951101807</td>\n",
        "    </tr>\n",
        "  </tbody>\n",
        "</table>\n",
        "</div>"
       ],
       "metadata": {},
       "output_type": "pyout",
       "prompt_number": 102,
       "text": [
        "                     status  \\\n",
        "time                          \n",
        "2015-02-19 13:45:45     200   \n",
        "2015-02-19 05:25:08     200   \n",
        "2015-02-19 05:25:12     200   \n",
        "2015-02-19 05:25:22     200   \n",
        "2015-02-19 05:25:26     200   \n",
        "\n",
        "                             b  \\\n",
        "time                             \n",
        "2015-02-19 13:45:45   5.682767   \n",
        "2015-02-19 05:25:08   6.745662   \n",
        "2015-02-19 05:25:12   5.744612   \n",
        "2015-02-19 05:25:22   4.948116   \n",
        "2015-02-19 05:25:26  10.516898   \n",
        "\n",
        "                                  %l  \\\n",
        "time                                   \n",
        "2015-02-19 13:45:45   187.216.232.20   \n",
        "2015-02-19 05:25:08   201.144.174.12   \n",
        "2015-02-19 05:25:12   187.217.195.24   \n",
        "2015-02-19 05:25:22   187.237.14.206   \n",
        "2015-02-19 05:25:26  187.210.139.119   \n",
        "\n",
        "                                                               request  \\\n",
        "time                                                                     \n",
        "2015-02-19 13:45:45  GET /62701/19/15/89/92/00/1398970595.4221_muik...   \n",
        "2015-02-19 05:25:08  GET /62701/33/95/13/12/00/1391525058.9562_gRbF...   \n",
        "2015-02-19 05:25:12  GET /62701/08/27/58/02/00/1391093392.4972_cV9L...   \n",
        "2015-02-19 05:25:22  GET /62701/62/46/73/03/00/1399236946.0298_sILF...   \n",
        "2015-02-19 05:25:26  GET /62702/55/90/50/42/00/1394098077.3333_2FaB...   \n",
        "\n",
        "                           msisdn  \n",
        "time                               \n",
        "2015-02-19 13:45:45  522241092565  \n",
        "2015-02-19 05:25:08  526291094779  \n",
        "2015-02-19 05:25:12  522731179354  \n",
        "2015-02-19 05:25:22  524777024189  \n",
        "2015-02-19 05:25:26  526951101807  "
       ]
      }
     ],
     "prompt_number": 102
    },
    {
     "cell_type": "markdown",
     "metadata": {},
     "source": [
      "#Analysis\n",
      "Let's graph the data to visualize what is happening."
     ]
    },
    {
     "cell_type": "markdown",
     "metadata": {},
     "source": [
      "##Group by user"
     ]
    },
    {
     "cell_type": "code",
     "collapsed": false,
     "input": [
      "t=df.groupby(['msisdn'])#,'status'])\n",
      "t#.resample('1440t')#['b']\n",
      "parts = []\n",
      "\n",
      "for k,v in t:\n",
      "    x=[k,v['b'].sum()]\n",
      "#    x=v[['T']].describe().T#[['mean','std']]\n",
      "#    x['area'] = k\n",
      "    parts.append(pd.DataFrame(x).T)\n",
      "stats_per_msisdn = pd.concat(parts)\n",
      "stats_per_msisdn.columns=['msisdn','mb']"
     ],
     "language": "python",
     "metadata": {},
     "outputs": [],
     "prompt_number": 103
    },
    {
     "cell_type": "markdown",
     "metadata": {},
     "source": [
      "### Worst users in that sample"
     ]
    },
    {
     "cell_type": "code",
     "collapsed": false,
     "input": [
      "stats_per_msisdn=stats_per_msisdn.reset_index().drop('index',1)\n",
      "top100=stats_per_msisdn.sort(['mb'],ascending=False).head(100)\n",
      "for m in top100.msisdn.head(6):\n",
      "    print m[2:]#+',',\n",
      "top100.head(10).T"
     ],
     "language": "python",
     "metadata": {},
     "outputs": [
      {
       "output_type": "stream",
       "stream": "stdout",
       "text": [
        "\n",
        "7841254078\n",
        "4861100078\n",
        "7442292021\n",
        "4961249211\n",
        "8661712297\n"
       ]
      },
      {
       "html": [
        "<div style=\"max-height:1000px;max-width:1500px;overflow:auto;\">\n",
        "<table border=\"1\" class=\"dataframe\">\n",
        "  <thead>\n",
        "    <tr style=\"text-align: right;\">\n",
        "      <th></th>\n",
        "      <th>0</th>\n",
        "      <th>12803</th>\n",
        "      <th>5558</th>\n",
        "      <th>11183</th>\n",
        "      <th>5893</th>\n",
        "      <th>14606</th>\n",
        "      <th>15923</th>\n",
        "      <th>3504</th>\n",
        "      <th>1036</th>\n",
        "      <th>4698</th>\n",
        "    </tr>\n",
        "  </thead>\n",
        "  <tbody>\n",
        "    <tr>\n",
        "      <th>msisdn</th>\n",
        "      <td>        -</td>\n",
        "      <td> 527841254078</td>\n",
        "      <td> 524861100078</td>\n",
        "      <td> 527442292021</td>\n",
        "      <td> 524961249211</td>\n",
        "      <td> 528661712297</td>\n",
        "      <td> 529191126049</td>\n",
        "      <td> 524424479942</td>\n",
        "      <td> 522471040805</td>\n",
        "      <td> 524611129156</td>\n",
        "    </tr>\n",
        "    <tr>\n",
        "      <th>mb</th>\n",
        "      <td> 18127.74</td>\n",
        "      <td>     2920.365</td>\n",
        "      <td>     2106.172</td>\n",
        "      <td>     1712.283</td>\n",
        "      <td>     1304.692</td>\n",
        "      <td>     1210.195</td>\n",
        "      <td>     1046.523</td>\n",
        "      <td>     971.4078</td>\n",
        "      <td>     911.4942</td>\n",
        "      <td>     872.2077</td>\n",
        "    </tr>\n",
        "  </tbody>\n",
        "</table>\n",
        "</div>"
       ],
       "metadata": {},
       "output_type": "pyout",
       "prompt_number": 104,
       "text": [
        "           0      \\\n",
        "msisdn         -   \n",
        "mb      18127.74   \n",
        "\n",
        "               12803  \\\n",
        "msisdn  527841254078   \n",
        "mb          2920.365   \n",
        "\n",
        "               5558   \\\n",
        "msisdn  524861100078   \n",
        "mb          2106.172   \n",
        "\n",
        "               11183  \\\n",
        "msisdn  527442292021   \n",
        "mb          1712.283   \n",
        "\n",
        "               5893   \\\n",
        "msisdn  524961249211   \n",
        "mb          1304.692   \n",
        "\n",
        "               14606  \\\n",
        "msisdn  528661712297   \n",
        "mb          1210.195   \n",
        "\n",
        "               15923  \\\n",
        "msisdn  529191126049   \n",
        "mb          1046.523   \n",
        "\n",
        "               3504   \\\n",
        "msisdn  524424479942   \n",
        "mb          971.4078   \n",
        "\n",
        "               1036   \\\n",
        "msisdn  522471040805   \n",
        "mb          911.4942   \n",
        "\n",
        "               4698   \n",
        "msisdn  524611129156  \n",
        "mb          872.2077  "
       ]
      }
     ],
     "prompt_number": 104
    },
    {
     "cell_type": "code",
     "collapsed": false,
     "input": [
      "###save those users to file\n",
      "fn=_rootdir+'stats_per_msisdn.3gp.csv'\n",
      "stats_per_msisdn[['mb','msisdn']].sort(['mb'],ascending=False).head(100).reset_index().drop('index',1).to_csv(fn)\n",
      "!head -n 5 {fn}"
     ],
     "language": "python",
     "metadata": {},
     "outputs": [
      {
       "output_type": "stream",
       "stream": "stdout",
       "text": [
        ",mb,msisdn\r\n",
        "0,18127.742994308472,-\r\n",
        "1,2920.365086555481,527841254078\r\n",
        "2,2106.1718130111694,524861100078\r\n",
        "3,1712.2831907272339,527442292021\r\n"
       ]
      }
     ],
     "prompt_number": 105
    },
    {
     "cell_type": "markdown",
     "metadata": {},
     "source": [
      "##The 10 worst days of a user"
     ]
    },
    {
     "cell_type": "code",
     "collapsed": false,
     "input": [
      "top100[:5].msisdn"
     ],
     "language": "python",
     "metadata": {},
     "outputs": [
      {
       "metadata": {},
       "output_type": "pyout",
       "prompt_number": 106,
       "text": [
        "0                   -\n",
        "12803    527841254078\n",
        "5558     524861100078\n",
        "11183    527442292021\n",
        "5893     524961249211\n",
        "Name: msisdn, dtype: object"
       ]
      }
     ],
     "prompt_number": 106
    },
    {
     "cell_type": "code",
     "collapsed": false,
     "input": [
      "print 'top 100 users wasted %.2f MB in the period'%df[df.msisdn.isin(top100[0:].msisdn.values)].b.sum()"
     ],
     "language": "python",
     "metadata": {
      "run_control": {
       "breakpoint": false
      }
     },
     "outputs": [
      {
       "output_type": "stream",
       "stream": "stdout",
       "text": [
        "top 100 users wasted 74429.79 MB in the period\n"
       ]
      }
     ],
     "prompt_number": 107
    },
    {
     "cell_type": "code",
     "collapsed": false,
     "input": [
      "user=top100[0:].msisdn.values[4]#'526681138874'\n",
      "print user\n",
      "df_d=df[df.msisdn==user].b.resample('1440t', how=['sum'])\n",
      "#df_d=df[df.msisdn=='528441732464'].b.resample('1440t', how=['sum'])\n",
      "df_d.sort(['sum'],ascending=False).head(10).T"
     ],
     "language": "python",
     "metadata": {},
     "outputs": [
      {
       "output_type": "stream",
       "stream": "stdout",
       "text": [
        "524961249211\n"
       ]
      },
      {
       "html": [
        "<div style=\"max-height:1000px;max-width:1500px;overflow:auto;\">\n",
        "<table border=\"1\" class=\"dataframe\">\n",
        "  <thead>\n",
        "    <tr style=\"text-align: right;\">\n",
        "      <th>time</th>\n",
        "      <th>2015-02-22 00:00:00</th>\n",
        "      <th>2015-02-20 00:00:00</th>\n",
        "      <th>2015-02-23 00:00:00</th>\n",
        "      <th>2015-02-21 00:00:00</th>\n",
        "    </tr>\n",
        "  </thead>\n",
        "  <tbody>\n",
        "    <tr>\n",
        "      <th>sum</th>\n",
        "      <td> 875.533861</td>\n",
        "      <td> 363.73237</td>\n",
        "      <td> 65.425836</td>\n",
        "      <td>NaN</td>\n",
        "    </tr>\n",
        "  </tbody>\n",
        "</table>\n",
        "</div>"
       ],
       "metadata": {},
       "output_type": "pyout",
       "prompt_number": 108,
       "text": [
        "time  2015-02-22  \\\n",
        "sum   875.533861   \n",
        "\n",
        "time  2015-02-20  \\\n",
        "sum    363.73237   \n",
        "\n",
        "time  2015-02-23  \\\n",
        "sum    65.425836   \n",
        "\n",
        "time  2015-02-21  \n",
        "sum          NaN  "
       ]
      }
     ],
     "prompt_number": 108
    },
    {
     "cell_type": "code",
     "collapsed": false,
     "input": [
      "plt.plot(df_d)"
     ],
     "language": "python",
     "metadata": {},
     "outputs": [
      {
       "metadata": {},
       "output_type": "pyout",
       "prompt_number": 109,
       "text": [
        "[<matplotlib.lines.Line2D at 0x118f49e90>]"
       ]
      },
      {
       "metadata": {},
       "output_type": "display_data",
       "png": "[encoded data removed]",
       "text": [
        "<matplotlib.figure.Figure at 0x12cf9c410>"
       ]
      }
     ],
     "prompt_number": 109
    },
    {
     "cell_type": "code",
     "collapsed": false,
     "input": [
      "user_traffic=df[df['msisdn']==user]\n",
      "print 'What user %s did'%(user)\n",
      "user_traffic.sort(['b'],ascending=False).head(10)"
     ],
     "language": "python",
     "metadata": {},
     "outputs": [
      {
       "output_type": "stream",
       "stream": "stdout",
       "text": [
        "What user 524961249211 did\n"
       ]
      },
      {
       "html": [
        "<div style=\"max-height:1000px;max-width:1500px;overflow:auto;\">\n",
        "<table border=\"1\" class=\"dataframe\">\n",
        "  <thead>\n",
        "    <tr style=\"text-align: right;\">\n",
        "      <th></th>\n",
        "      <th>status</th>\n",
        "      <th>b</th>\n",
        "      <th>%l</th>\n",
        "      <th>request</th>\n",
        "      <th>msisdn</th>\n",
        "    </tr>\n",
        "    <tr>\n",
        "      <th>time</th>\n",
        "      <th></th>\n",
        "      <th></th>\n",
        "      <th></th>\n",
        "      <th></th>\n",
        "      <th></th>\n",
        "    </tr>\n",
        "  </thead>\n",
        "  <tbody>\n",
        "    <tr>\n",
        "      <th>2015-02-23 02:18:55</th>\n",
        "      <td> 200</td>\n",
        "      <td> 19.339936</td>\n",
        "      <td>   187.237.39.25</td>\n",
        "      <td> GET /62701/79/66/37/32/00/1393797728.036_Bw5Q1...</td>\n",
        "      <td> 524961249211</td>\n",
        "    </tr>\n",
        "    <tr>\n",
        "      <th>2015-02-23 02:06:12</th>\n",
        "      <td> 200</td>\n",
        "      <td> 18.350478</td>\n",
        "      <td>   187.237.39.25</td>\n",
        "      <td> GET /62701/93/74/69/32/00/1394027061.9117_LK8h...</td>\n",
        "      <td> 524961249211</td>\n",
        "    </tr>\n",
        "    <tr>\n",
        "      <th>2015-02-22 01:55:54</th>\n",
        "      <td> 200</td>\n",
        "      <td> 18.350478</td>\n",
        "      <td>  187.237.14.216</td>\n",
        "      <td> GET /62701/93/74/69/32/00/1394027061.9117_LK8h...</td>\n",
        "      <td> 524961249211</td>\n",
        "    </tr>\n",
        "    <tr>\n",
        "      <th>2015-02-22 02:14:08</th>\n",
        "      <td> 200</td>\n",
        "      <td> 18.350478</td>\n",
        "      <td>  187.237.14.216</td>\n",
        "      <td> GET /62701/93/74/69/32/00/1394027061.9117_LK8h...</td>\n",
        "      <td> 524961249211</td>\n",
        "    </tr>\n",
        "    <tr>\n",
        "      <th>2015-02-22 02:13:28</th>\n",
        "      <td> 200</td>\n",
        "      <td> 18.350478</td>\n",
        "      <td>  187.237.14.216</td>\n",
        "      <td> GET /62701/93/74/69/32/00/1394027061.9117_LK8h...</td>\n",
        "      <td> 524961249211</td>\n",
        "    </tr>\n",
        "    <tr>\n",
        "      <th>2015-02-22 02:13:20</th>\n",
        "      <td> 200</td>\n",
        "      <td> 18.350478</td>\n",
        "      <td>  187.237.14.216</td>\n",
        "      <td> GET /62701/93/74/69/32/00/1394027061.9117_LK8h...</td>\n",
        "      <td> 524961249211</td>\n",
        "    </tr>\n",
        "    <tr>\n",
        "      <th>2015-02-22 01:10:05</th>\n",
        "      <td> 200</td>\n",
        "      <td> 18.350478</td>\n",
        "      <td> 187.210.189.212</td>\n",
        "      <td> GET /62701/93/74/69/32/00/1394027061.9117_LK8h...</td>\n",
        "      <td> 524961249211</td>\n",
        "    </tr>\n",
        "    <tr>\n",
        "      <th>2015-02-22 01:11:10</th>\n",
        "      <td> 200</td>\n",
        "      <td> 18.350478</td>\n",
        "      <td> 187.210.189.212</td>\n",
        "      <td> GET /62701/93/74/69/32/00/1394027061.9117_LK8h...</td>\n",
        "      <td> 524961249211</td>\n",
        "    </tr>\n",
        "    <tr>\n",
        "      <th>2015-02-22 01:14:47</th>\n",
        "      <td> 200</td>\n",
        "      <td> 18.350478</td>\n",
        "      <td> 187.210.189.212</td>\n",
        "      <td> GET /62701/93/74/69/32/00/1394027061.9117_LK8h...</td>\n",
        "      <td> 524961249211</td>\n",
        "    </tr>\n",
        "    <tr>\n",
        "      <th>2015-02-22 02:12:16</th>\n",
        "      <td> 200</td>\n",
        "      <td> 18.350478</td>\n",
        "      <td>  187.237.14.216</td>\n",
        "      <td> GET /62701/93/74/69/32/00/1394027061.9117_LK8h...</td>\n",
        "      <td> 524961249211</td>\n",
        "    </tr>\n",
        "  </tbody>\n",
        "</table>\n",
        "</div>"
       ],
       "metadata": {},
       "output_type": "pyout",
       "prompt_number": 110,
       "text": [
        "                     status  \\\n",
        "time                          \n",
        "2015-02-23 02:18:55     200   \n",
        "2015-02-23 02:06:12     200   \n",
        "2015-02-22 01:55:54     200   \n",
        "2015-02-22 02:14:08     200   \n",
        "2015-02-22 02:13:28     200   \n",
        "2015-02-22 02:13:20     200   \n",
        "2015-02-22 01:10:05     200   \n",
        "2015-02-22 01:11:10     200   \n",
        "2015-02-22 01:14:47     200   \n",
        "2015-02-22 02:12:16     200   \n",
        "\n",
        "                             b  \\\n",
        "time                             \n",
        "2015-02-23 02:18:55  19.339936   \n",
        "2015-02-23 02:06:12  18.350478   \n",
        "2015-02-22 01:55:54  18.350478   \n",
        "2015-02-22 02:14:08  18.350478   \n",
        "2015-02-22 02:13:28  18.350478   \n",
        "2015-02-22 02:13:20  18.350478   \n",
        "2015-02-22 01:10:05  18.350478   \n",
        "2015-02-22 01:11:10  18.350478   \n",
        "2015-02-22 01:14:47  18.350478   \n",
        "2015-02-22 02:12:16  18.350478   \n",
        "\n",
        "                                  %l  \\\n",
        "time                                   \n",
        "2015-02-23 02:18:55    187.237.39.25   \n",
        "2015-02-23 02:06:12    187.237.39.25   \n",
        "2015-02-22 01:55:54   187.237.14.216   \n",
        "2015-02-22 02:14:08   187.237.14.216   \n",
        "2015-02-22 02:13:28   187.237.14.216   \n",
        "2015-02-22 02:13:20   187.237.14.216   \n",
        "2015-02-22 01:10:05  187.210.189.212   \n",
        "2015-02-22 01:11:10  187.210.189.212   \n",
        "2015-02-22 01:14:47  187.210.189.212   \n",
        "2015-02-22 02:12:16   187.237.14.216   \n",
        "\n",
        "                                                               request  \\\n",
        "time                                                                     \n",
        "2015-02-23 02:18:55  GET /62701/79/66/37/32/00/1393797728.036_Bw5Q1...   \n",
        "2015-02-23 02:06:12  GET /62701/93/74/69/32/00/1394027061.9117_LK8h...   \n",
        "2015-02-22 01:55:54  GET /62701/93/74/69/32/00/1394027061.9117_LK8h...   \n",
        "2015-02-22 02:14:08  GET /62701/93/74/69/32/00/1394027061.9117_LK8h...   \n",
        "2015-02-22 02:13:28  GET /62701/93/74/69/32/00/1394027061.9117_LK8h...   \n",
        "2015-02-22 02:13:20  GET /62701/93/74/69/32/00/1394027061.9117_LK8h...   \n",
        "2015-02-22 01:10:05  GET /62701/93/74/69/32/00/1394027061.9117_LK8h...   \n",
        "2015-02-22 01:11:10  GET /62701/93/74/69/32/00/1394027061.9117_LK8h...   \n",
        "2015-02-22 01:14:47  GET /62701/93/74/69/32/00/1394027061.9117_LK8h...   \n",
        "2015-02-22 02:12:16  GET /62701/93/74/69/32/00/1394027061.9117_LK8h...   \n",
        "\n",
        "                           msisdn  \n",
        "time                               \n",
        "2015-02-23 02:18:55  524961249211  \n",
        "2015-02-23 02:06:12  524961249211  \n",
        "2015-02-22 01:55:54  524961249211  \n",
        "2015-02-22 02:14:08  524961249211  \n",
        "2015-02-22 02:13:28  524961249211  \n",
        "2015-02-22 02:13:20  524961249211  \n",
        "2015-02-22 01:10:05  524961249211  \n",
        "2015-02-22 01:11:10  524961249211  \n",
        "2015-02-22 01:14:47  524961249211  \n",
        "2015-02-22 02:12:16  524961249211  "
       ]
      }
     ],
     "prompt_number": 110
    },
    {
     "cell_type": "code",
     "collapsed": false,
     "input": [
      "user_traffic['request'].value_counts().head(10)"
     ],
     "language": "python",
     "metadata": {},
     "outputs": [
      {
       "metadata": {},
       "output_type": "pyout",
       "prompt_number": 111,
       "text": [
        "GET /62701/93/74/69/32/00/1394027061.9117_LK8h3qf2akN0WQ_Ui7391/3gp.3gp HTTP/1.1    46\n",
        "GET /62701/25/60/04/32/00/1393464924.7787_gGPO4mHvW21NSC_qBAtwW/3gp.3gp HTTP/1.1    11\n",
        "GET /62702/15/80/99/32/00/1394049199.1309_muqarBvUVXMxRO_aCpsdO/3gp.3gp HTTP/1.1     6\n",
        "GET /62701/12/03/46/32/00/1393714539.0885_2IcpoYeL6au7tF_GwIYaD/3gp.3gp HTTP/1.1     5\n",
        "GET /62702/98/17/34/32/00/1393510265.4675_p1ZtlaWFE0xeSG_qEeMyR/3gp.3gp HTTP/1.1     5\n",
        "GET /62701/31/75/97/13/00/1400277270.0461_tcKBVOGULYyQCd_0m5K6n/3gp.3gp HTTP/1.1     4\n",
        "GET /62702/70/81/00/92/00/1398264103.7223_j5LlXvY2kGfDCZ_HnVyDU/3gp.3gp HTTP/1.1     3\n",
        "GET /62701/79/66/37/32/00/1393797728.036_Bw5Q1WGtUdS9cO_Jxy5iZ/3gp.3gp HTTP/1.1     1\n",
        "GET /62702/79/37/24/72/00/1396988324.1512_8GK6eEnczyQUdW_7TEmXj/3gp.3gp HTTP/1.1     1\n",
        "GET /62701/10/80/63/32/00/1393437691.7812_SLZIw27d40sjre_Mth5Yk/3gp.3gp HTTP/1.1     1\n",
        "dtype: int64"
       ]
      }
     ],
     "prompt_number": 111
    },
    {
     "cell_type": "code",
     "collapsed": false,
     "input": [
      "root='http://fs01.plugger.com'\n",
      "\n",
      "d ={}\n",
      "\n",
      "for req in user_traffic['request'].head(20):\n",
      "    url=req.split(' ')[1]\n",
      "    d[url] = 1\n",
      "    \n",
      "for url in d.keys():\n",
      "    if url[-3:]=='3gp':\n",
      "        print root+url"
     ],
     "language": "python",
     "metadata": {},
     "outputs": [
      {
       "output_type": "stream",
       "stream": "stdout",
       "text": [
        "http://fs01.plugger.com/62701/93/58/80/03/00/1399044536.5197_NBRjnaMCHD2fIb_7RYvNF/3gp.3gp\n",
        "http://fs01.plugger.com/62702/98/17/34/32/00/1393510265.4675_p1ZtlaWFE0xeSG_qEeMyR/3gp.3gp\n",
        "http://fs01.plugger.com/62701/79/66/37/32/00/1393797728.036_Bw5Q1WGtUdS9cO_Jxy5iZ/3gp.3gp\n",
        "http://fs01.plugger.com/62702/74/36/29/32/00/1393980729.5321_XA3Go5OuYD6Cj0_sHtn6i/3gp.3gp\n",
        "http://fs01.plugger.com/62702/15/80/99/32/00/1394049199.1309_muqarBvUVXMxRO_aCpsdO/3gp.3gp\n",
        "http://fs01.plugger.com/62702/70/81/00/92/00/1398264103.7223_j5LlXvY2kGfDCZ_HnVyDU/3gp.3gp\n",
        "http://fs01.plugger.com/62701/93/74/69/32/00/1394027061.9117_LK8h3qf2akN0WQ_Ui7391/3gp.3gp\n",
        "http://fs01.plugger.com/62702/79/37/24/72/00/1396988324.1512_8GK6eEnczyQUdW_7TEmXj/3gp.3gp\n"
       ]
      }
     ],
     "prompt_number": 112
    },
    {
     "cell_type": "markdown",
     "metadata": {},
     "source": [
      "##Group the df by requests (i.e., URL) so that we can make stats on them"
     ]
    },
    {
     "cell_type": "code",
     "collapsed": false,
     "input": [
      "t=df.groupby(['request'])#,'status'])\n",
      "t#.resample('1440t')#['b']"
     ],
     "language": "python",
     "metadata": {
      "run_control": {
       "breakpoint": false
      }
     },
     "outputs": [
      {
       "metadata": {},
       "output_type": "pyout",
       "prompt_number": 113,
       "text": [
        "<pandas.core.groupby.DataFrameGroupBy object at 0x118abb810>"
       ]
      }
     ],
     "prompt_number": 113
    },
    {
     "cell_type": "code",
     "collapsed": false,
     "input": [
      "parts = []\n",
      "\n",
      "for k,v in t:\n",
      "    x=[k,v['b'][0],v['b'].sum(),v['b'].count(),len(v['msisdn'].unique())]\n",
      "#    x=v[['T']].describe().T#[['mean','std']]\n",
      "#    x['area'] = k\n",
      "    parts.append(pd.DataFrame(x).T)\n",
      "stats_per_request = pd.concat(parts)"
     ],
     "language": "python",
     "metadata": {},
     "outputs": [],
     "prompt_number": 114
    },
    {
     "cell_type": "markdown",
     "metadata": {},
     "source": [
      "###Define the columns of stats_per_request"
     ]
    },
    {
     "cell_type": "code",
     "collapsed": false,
     "input": [
      "#pd.set_option('display.max_colwidth',1000)\n",
      "stats_per_request.columns=['request','size','mb','count','users']#,'time']\n",
      "stats_per_request['hash']=stats_per_request.request.apply(lambda x: x.split(' ')[1].split('/3gp.3gp')[0][7:])\n",
      "#stats_per_request['s'] = stats_per_request['mb']/stats_per_request['count']"
     ],
     "language": "python",
     "metadata": {},
     "outputs": [],
     "prompt_number": 115
    },
    {
     "cell_type": "markdown",
     "metadata": {},
     "source": [
      "###reset the index, sort by mb"
     ]
    },
    {
     "cell_type": "code",
     "collapsed": false,
     "input": [
      "stats_per_request=stats_per_request.reset_index().drop('index',1)\n",
      "stats_per_request.sort(['mb'],ascending=False,inplace=True)\n",
      "stats_per_request.head(5)"
     ],
     "language": "python",
     "metadata": {},
     "outputs": [
      {
       "html": [
        "<div style=\"max-height:1000px;max-width:1500px;overflow:auto;\">\n",
        "<table border=\"1\" class=\"dataframe\">\n",
        "  <thead>\n",
        "    <tr style=\"text-align: right;\">\n",
        "      <th></th>\n",
        "      <th>request</th>\n",
        "      <th>size</th>\n",
        "      <th>mb</th>\n",
        "      <th>count</th>\n",
        "      <th>users</th>\n",
        "      <th>hash</th>\n",
        "    </tr>\n",
        "  </thead>\n",
        "  <tbody>\n",
        "    <tr>\n",
        "      <th>1558</th>\n",
        "      <td> GET /62701/54/26/27/03/00/1399493446.4607_VYUs...</td>\n",
        "      <td> 20.77329</td>\n",
        "      <td> 20431.77</td>\n",
        "      <td>  987</td>\n",
        "      <td>  638</td>\n",
        "      <td> 54/26/27/03/00/1399493446.4607_VYUs0F1TtfIOGz_...</td>\n",
        "    </tr>\n",
        "    <tr>\n",
        "      <th>4315</th>\n",
        "      <td> GET /62702/49/36/52/02/00/1390478016.9201_6P5E...</td>\n",
        "      <td> 30.08276</td>\n",
        "      <td> 16370.13</td>\n",
        "      <td>  545</td>\n",
        "      <td>  256</td>\n",
        "      <td> 49/36/52/02/00/1390478016.9201_6P5EgD1uFwZhbk_...</td>\n",
        "    </tr>\n",
        "    <tr>\n",
        "      <th>3294</th>\n",
        "      <td> GET /62702/15/80/99/32/00/1394049199.1309_muqa...</td>\n",
        "      <td> 13.31974</td>\n",
        "      <td> 13463.39</td>\n",
        "      <td> 1011</td>\n",
        "      <td>  635</td>\n",
        "      <td> 15/80/99/32/00/1394049199.1309_muqarBvUVXMxRO_...</td>\n",
        "    </tr>\n",
        "    <tr>\n",
        "      <th>1791</th>\n",
        "      <td> GET /62701/63/56/13/12/00/1391525669.0087_rzbm...</td>\n",
        "      <td> 6.544052</td>\n",
        "      <td> 12728.18</td>\n",
        "      <td> 1945</td>\n",
        "      <td> 1329</td>\n",
        "      <td> 63/56/13/12/00/1391525669.0087_rzbmwu8TfG7x6n_...</td>\n",
        "    </tr>\n",
        "    <tr>\n",
        "      <th>1092</th>\n",
        "      <td> GET /62701/39/09/57/82/00/1398087710.8692_S29f...</td>\n",
        "      <td> 14.07444</td>\n",
        "      <td> 11625.49</td>\n",
        "      <td>  826</td>\n",
        "      <td>  506</td>\n",
        "      <td> 39/09/57/82/00/1398087710.8692_S29faQHd0LsF3O_...</td>\n",
        "    </tr>\n",
        "  </tbody>\n",
        "</table>\n",
        "</div>"
       ],
       "metadata": {},
       "output_type": "pyout",
       "prompt_number": 116,
       "text": [
        "                                                request  \\\n",
        "1558  GET /62701/54/26/27/03/00/1399493446.4607_VYUs...   \n",
        "4315  GET /62702/49/36/52/02/00/1390478016.9201_6P5E...   \n",
        "3294  GET /62702/15/80/99/32/00/1394049199.1309_muqa...   \n",
        "1791  GET /62701/63/56/13/12/00/1391525669.0087_rzbm...   \n",
        "1092  GET /62701/39/09/57/82/00/1398087710.8692_S29f...   \n",
        "\n",
        "          size  \\\n",
        "1558  20.77329   \n",
        "4315  30.08276   \n",
        "3294  13.31974   \n",
        "1791  6.544052   \n",
        "1092  14.07444   \n",
        "\n",
        "            mb  \\\n",
        "1558  20431.77   \n",
        "4315  16370.13   \n",
        "3294  13463.39   \n",
        "1791  12728.18   \n",
        "1092  11625.49   \n",
        "\n",
        "     count  \\\n",
        "1558   987   \n",
        "4315   545   \n",
        "3294  1011   \n",
        "1791  1945   \n",
        "1092   826   \n",
        "\n",
        "     users  \\\n",
        "1558   638   \n",
        "4315   256   \n",
        "3294   635   \n",
        "1791  1329   \n",
        "1092   506   \n",
        "\n",
        "                                                   hash  \n",
        "1558  54/26/27/03/00/1399493446.4607_VYUs0F1TtfIOGz_...  \n",
        "4315  49/36/52/02/00/1390478016.9201_6P5EgD1uFwZhbk_...  \n",
        "3294  15/80/99/32/00/1394049199.1309_muqarBvUVXMxRO_...  \n",
        "1791  63/56/13/12/00/1391525669.0087_rzbmwu8TfG7x6n_...  \n",
        "1092  39/09/57/82/00/1398087710.8692_S29faQHd0LsF3O_...  "
       ]
      }
     ],
     "prompt_number": 116
    },
    {
     "cell_type": "markdown",
     "metadata": {},
     "source": [
      "### Populate df_content with a subset of the attributes taken from the content table in the DB"
     ]
    },
    {
     "cell_type": "code",
     "collapsed": false,
     "input": [
      "zzcontent_fn=_rootdir+'data/zzcontent'\n",
      "#!head {zzcontent_fn}\n",
      "df_content=0 # uncomment this line to reload the content_df\n",
      "try:\n",
      "    print df_content.content_id.count()\n",
      "except:\n",
      "    df_content=pd.read_csv(zzcontent_fn,\n",
      "                 sep='\\t',\n",
      "#                 encoding='utf-8',\n",
      "                 header=1, names=['content_id','user_id','time','size','state','disk_usage','no_comments ','mime','type','title','hash','oid']\n",
      "                 )\n",
      "\n",
      "#    df_content['user_id']=df_content['user_id'].astype(str)\n",
      "    df_content.hash = df_content.hash.apply(lambda x: str(x).strip()[:32])\n",
      "    print\n",
      "    print df_content.content_id.count()\n",
      "#    df_content.set_index('hash',inplace=True)\n",
      "\n",
      "df_content=df_content.dropna()\n",
      "\n",
      "df_content['user_id'] = df_content.user_id.astype('int') \n",
      "df_content['content_id'] = df_content.content_id.astype('int')\n",
      "df_content['title'] = df_content.content_id.astype('str')"
     ],
     "language": "python",
     "metadata": {
      "run_control": {
       "breakpoint": false
      }
     },
     "outputs": [
      {
       "output_type": "stream",
       "stream": "stdout",
       "text": [
        "\n",
        "998293\n"
       ]
      }
     ],
     "prompt_number": 117
    },
    {
     "cell_type": "code",
     "collapsed": false,
     "input": [
      "df_content.info()"
     ],
     "language": "python",
     "metadata": {
      "run_control": {
       "breakpoint": false
      }
     },
     "outputs": [
      {
       "output_type": "stream",
       "stream": "stdout",
       "text": [
        "<class 'pandas.core.frame.DataFrame'>\n",
        "Int64Index: 994365 entries, 0 to 998328\n",
        "Data columns (total 12 columns):\n",
        "content_id      994365 non-null int64\n",
        "user_id         994365 non-null int64\n",
        "time            994365 non-null object\n",
        "size            994365 non-null float64\n",
        "state           994365 non-null float64\n",
        "disk_usage      994365 non-null float64\n",
        "no_comments     994365 non-null float64\n",
        "mime            994365 non-null object\n",
        "type            994365 non-null float64\n",
        "title           994365 non-null object\n",
        "hash            994365 non-null object\n",
        "oid             994365 non-null float64\n",
        "dtypes: float64(6), int64(2), object(4)\n",
        "memory usage: 98.6+ MB\n"
       ]
      }
     ],
     "prompt_number": 118
    },
    {
     "cell_type": "markdown",
     "metadata": {},
     "source": [
      "###transform the request column into a url"
     ]
    },
    {
     "cell_type": "code",
     "collapsed": false,
     "input": [
      "root='http://fs01.plugger.com'\n",
      "lo=len('68/23/30/00/00/1293842970_3eso9f')\n",
      "\n",
      "#stats_per_request.set_index('hash',inplace=True)\n",
      "\n",
      "stats_per_request['request']=stats_per_request.request.apply(lambda x: root+x.split(' ')[1])\n",
      "stats_per_request.head(3)"
     ],
     "language": "python",
     "metadata": {},
     "outputs": [
      {
       "html": [
        "<div style=\"max-height:1000px;max-width:1500px;overflow:auto;\">\n",
        "<table border=\"1\" class=\"dataframe\">\n",
        "  <thead>\n",
        "    <tr style=\"text-align: right;\">\n",
        "      <th></th>\n",
        "      <th>request</th>\n",
        "      <th>size</th>\n",
        "      <th>mb</th>\n",
        "      <th>count</th>\n",
        "      <th>users</th>\n",
        "      <th>hash</th>\n",
        "    </tr>\n",
        "  </thead>\n",
        "  <tbody>\n",
        "    <tr>\n",
        "      <th>1558</th>\n",
        "      <td> http://fs01.plugger.com/62701/54/26/27/03/00/1...</td>\n",
        "      <td> 20.77329</td>\n",
        "      <td> 20431.77</td>\n",
        "      <td>  987</td>\n",
        "      <td> 638</td>\n",
        "      <td> 54/26/27/03/00/1399493446.4607_VYUs0F1TtfIOGz_...</td>\n",
        "    </tr>\n",
        "    <tr>\n",
        "      <th>4315</th>\n",
        "      <td> http://fs01.plugger.com/62702/49/36/52/02/00/1...</td>\n",
        "      <td> 30.08276</td>\n",
        "      <td> 16370.13</td>\n",
        "      <td>  545</td>\n",
        "      <td> 256</td>\n",
        "      <td> 49/36/52/02/00/1390478016.9201_6P5EgD1uFwZhbk_...</td>\n",
        "    </tr>\n",
        "    <tr>\n",
        "      <th>3294</th>\n",
        "      <td> http://fs01.plugger.com/62702/15/80/99/32/00/1...</td>\n",
        "      <td> 13.31974</td>\n",
        "      <td> 13463.39</td>\n",
        "      <td> 1011</td>\n",
        "      <td> 635</td>\n",
        "      <td> 15/80/99/32/00/1394049199.1309_muqarBvUVXMxRO_...</td>\n",
        "    </tr>\n",
        "  </tbody>\n",
        "</table>\n",
        "</div>"
       ],
       "metadata": {},
       "output_type": "pyout",
       "prompt_number": 119,
       "text": [
        "                                                request  \\\n",
        "1558  http://fs01.plugger.com/62701/54/26/27/03/00/1...   \n",
        "4315  http://fs01.plugger.com/62702/49/36/52/02/00/1...   \n",
        "3294  http://fs01.plugger.com/62702/15/80/99/32/00/1...   \n",
        "\n",
        "          size  \\\n",
        "1558  20.77329   \n",
        "4315  30.08276   \n",
        "3294  13.31974   \n",
        "\n",
        "            mb  \\\n",
        "1558  20431.77   \n",
        "4315  16370.13   \n",
        "3294  13463.39   \n",
        "\n",
        "     count  \\\n",
        "1558   987   \n",
        "4315   545   \n",
        "3294  1011   \n",
        "\n",
        "     users  \\\n",
        "1558   638   \n",
        "4315   256   \n",
        "3294   635   \n",
        "\n",
        "                                                   hash  \n",
        "1558  54/26/27/03/00/1399493446.4607_VYUs0F1TtfIOGz_...  \n",
        "4315  49/36/52/02/00/1390478016.9201_6P5EgD1uFwZhbk_...  \n",
        "3294  15/80/99/32/00/1394049199.1309_muqarBvUVXMxRO_...  "
       ]
      }
     ],
     "prompt_number": 119
    },
    {
     "cell_type": "code",
     "collapsed": false,
     "input": [
      "report=stats_per_request.sort(['mb'],ascending=False).copy()\n",
      "report.head(3)"
     ],
     "language": "python",
     "metadata": {
      "run_control": {
       "breakpoint": false
      }
     },
     "outputs": [
      {
       "html": [
        "<div style=\"max-height:1000px;max-width:1500px;overflow:auto;\">\n",
        "<table border=\"1\" class=\"dataframe\">\n",
        "  <thead>\n",
        "    <tr style=\"text-align: right;\">\n",
        "      <th></th>\n",
        "      <th>request</th>\n",
        "      <th>size</th>\n",
        "      <th>mb</th>\n",
        "      <th>count</th>\n",
        "      <th>users</th>\n",
        "      <th>hash</th>\n",
        "    </tr>\n",
        "  </thead>\n",
        "  <tbody>\n",
        "    <tr>\n",
        "      <th>1558</th>\n",
        "      <td> http://fs01.plugger.com/62701/54/26/27/03/00/1...</td>\n",
        "      <td> 20.77329</td>\n",
        "      <td> 20431.77</td>\n",
        "      <td>  987</td>\n",
        "      <td> 638</td>\n",
        "      <td> 54/26/27/03/00/1399493446.4607_VYUs0F1TtfIOGz_...</td>\n",
        "    </tr>\n",
        "    <tr>\n",
        "      <th>4315</th>\n",
        "      <td> http://fs01.plugger.com/62702/49/36/52/02/00/1...</td>\n",
        "      <td> 30.08276</td>\n",
        "      <td> 16370.13</td>\n",
        "      <td>  545</td>\n",
        "      <td> 256</td>\n",
        "      <td> 49/36/52/02/00/1390478016.9201_6P5EgD1uFwZhbk_...</td>\n",
        "    </tr>\n",
        "    <tr>\n",
        "      <th>3294</th>\n",
        "      <td> http://fs01.plugger.com/62702/15/80/99/32/00/1...</td>\n",
        "      <td> 13.31974</td>\n",
        "      <td> 13463.39</td>\n",
        "      <td> 1011</td>\n",
        "      <td> 635</td>\n",
        "      <td> 15/80/99/32/00/1394049199.1309_muqarBvUVXMxRO_...</td>\n",
        "    </tr>\n",
        "  </tbody>\n",
        "</table>\n",
        "</div>"
       ],
       "metadata": {},
       "output_type": "pyout",
       "prompt_number": 120,
       "text": [
        "                                                request  \\\n",
        "1558  http://fs01.plugger.com/62701/54/26/27/03/00/1...   \n",
        "4315  http://fs01.plugger.com/62702/49/36/52/02/00/1...   \n",
        "3294  http://fs01.plugger.com/62702/15/80/99/32/00/1...   \n",
        "\n",
        "          size  \\\n",
        "1558  20.77329   \n",
        "4315  30.08276   \n",
        "3294  13.31974   \n",
        "\n",
        "            mb  \\\n",
        "1558  20431.77   \n",
        "4315  16370.13   \n",
        "3294  13463.39   \n",
        "\n",
        "     count  \\\n",
        "1558   987   \n",
        "4315   545   \n",
        "3294  1011   \n",
        "\n",
        "     users  \\\n",
        "1558   638   \n",
        "4315   256   \n",
        "3294   635   \n",
        "\n",
        "                                                   hash  \n",
        "1558  54/26/27/03/00/1399493446.4607_VYUs0F1TtfIOGz_...  \n",
        "4315  49/36/52/02/00/1390478016.9201_6P5EgD1uFwZhbk_...  \n",
        "3294  15/80/99/32/00/1394049199.1309_muqarBvUVXMxRO_...  "
       ]
      }
     ],
     "prompt_number": 120
    },
    {
     "cell_type": "code",
     "collapsed": false,
     "input": [
      "a = np.arange(10,110,10)\n",
      "a\n",
      "sns.percentiles(report.size,a) #report.size"
     ],
     "language": "python",
     "metadata": {
      "run_control": {
       "breakpoint": false
      }
     },
     "outputs": [
      {
       "metadata": {},
       "output_type": "pyout",
       "prompt_number": 121,
       "text": [
        "array([ 34992.,  34992.,  34992.,  34992.,  34992.,  34992.,  34992.,\n",
        "        34992.,  34992.,  34992.])"
       ]
      }
     ],
     "prompt_number": 121
    },
    {
     "cell_type": "code",
     "collapsed": false,
     "input": [
      "report['_hash']=report['hash']\n",
      "report['hash']=report.hash.apply(lambda x: x[:32])\n",
      "m=df_content[['hash','content_id']].dropna()\n",
      "report=report.merge(m)#, left_index=True,right_index=True)\n",
      "report.sort(['mb'],ascending=False, inplace=True)\n",
      "report.head(10)"
     ],
     "language": "python",
     "metadata": {
      "run_control": {
       "breakpoint": false
      }
     },
     "outputs": [
      {
       "html": [
        "<div style=\"max-height:1000px;max-width:1500px;overflow:auto;\">\n",
        "<table border=\"1\" class=\"dataframe\">\n",
        "  <thead>\n",
        "    <tr style=\"text-align: right;\">\n",
        "      <th></th>\n",
        "      <th>request</th>\n",
        "      <th>size</th>\n",
        "      <th>mb</th>\n",
        "      <th>count</th>\n",
        "      <th>users</th>\n",
        "      <th>hash</th>\n",
        "      <th>_hash</th>\n",
        "      <th>content_id</th>\n",
        "    </tr>\n",
        "  </thead>\n",
        "  <tbody>\n",
        "    <tr>\n",
        "      <th>0</th>\n",
        "      <td> http://fs01.plugger.com/62701/54/26/27/03/00/1...</td>\n",
        "      <td> 20.77329</td>\n",
        "      <td> 20431.77</td>\n",
        "      <td>  987</td>\n",
        "      <td>  638</td>\n",
        "      <td> 54/26/27/03/00/1399493446.4607_V</td>\n",
        "      <td> 54/26/27/03/00/1399493446.4607_VYUs0F1TtfIOGz_...</td>\n",
        "      <td> 30726245</td>\n",
        "    </tr>\n",
        "    <tr>\n",
        "      <th>1</th>\n",
        "      <td> http://fs01.plugger.com/62702/49/36/52/02/00/1...</td>\n",
        "      <td> 30.08276</td>\n",
        "      <td> 16370.13</td>\n",
        "      <td>  545</td>\n",
        "      <td>  256</td>\n",
        "      <td> 49/36/52/02/00/1390478016.9201_6</td>\n",
        "      <td> 49/36/52/02/00/1390478016.9201_6P5EgD1uFwZhbk_...</td>\n",
        "      <td> 20256394</td>\n",
        "    </tr>\n",
        "    <tr>\n",
        "      <th>2</th>\n",
        "      <td> http://fs01.plugger.com/62702/15/80/99/32/00/1...</td>\n",
        "      <td> 13.31974</td>\n",
        "      <td> 13463.39</td>\n",
        "      <td> 1011</td>\n",
        "      <td>  635</td>\n",
        "      <td> 15/80/99/32/00/1394049199.1309_m</td>\n",
        "      <td> 15/80/99/32/00/1394049199.1309_muqarBvUVXMxRO_...</td>\n",
        "      <td> 23990851</td>\n",
        "    </tr>\n",
        "    <tr>\n",
        "      <th>3</th>\n",
        "      <td> http://fs01.plugger.com/62701/63/56/13/12/00/1...</td>\n",
        "      <td> 6.544052</td>\n",
        "      <td> 12728.18</td>\n",
        "      <td> 1945</td>\n",
        "      <td> 1329</td>\n",
        "      <td> 63/56/13/12/00/1391525669.0087_r</td>\n",
        "      <td> 63/56/13/12/00/1391525669.0087_rzbmwu8TfG7x6n_...</td>\n",
        "      <td> 21316536</td>\n",
        "    </tr>\n",
        "    <tr>\n",
        "      <th>4</th>\n",
        "      <td> http://fs01.plugger.com/62701/56/98/84/52/00/1...</td>\n",
        "      <td> 16.44863</td>\n",
        "      <td> 10560.02</td>\n",
        "      <td>  642</td>\n",
        "      <td>  423</td>\n",
        "      <td> 56/98/84/52/00/1395414673.5929_Z</td>\n",
        "      <td> 56/98/84/52/00/1395414673.5929_ZDPrvcWgl05k8L_...</td>\n",
        "      <td> 25488965</td>\n",
        "    </tr>\n",
        "    <tr>\n",
        "      <th>5</th>\n",
        "      <td> http://fs01.plugger.com/62701/93/74/69/32/00/1...</td>\n",
        "      <td> 18.35048</td>\n",
        "      <td> 9788.195</td>\n",
        "      <td>  534</td>\n",
        "      <td>  282</td>\n",
        "      <td> 93/74/69/32/00/1394027061.9117_L</td>\n",
        "      <td> 93/74/69/32/00/1394027061.9117_LK8h3qf2akN0WQ_...</td>\n",
        "      <td> 23964739</td>\n",
        "    </tr>\n",
        "    <tr>\n",
        "      <th>6</th>\n",
        "      <td> http://fs01.plugger.com/62702/92/43/79/42/00/1...</td>\n",
        "      <td> 19.33952</td>\n",
        "      <td> 9121.602</td>\n",
        "      <td>  472</td>\n",
        "      <td>  261</td>\n",
        "      <td> 92/43/79/42/00/1394929971.0962_a</td>\n",
        "      <td> 92/43/79/42/00/1394929971.0962_amswKz8jZvoh3W_...</td>\n",
        "      <td> 24973429</td>\n",
        "    </tr>\n",
        "    <tr>\n",
        "      <th>7</th>\n",
        "      <td> http://fs01.plugger.com/62701/74/55/68/12/00/1...</td>\n",
        "      <td> 34.75492</td>\n",
        "      <td> 8924.923</td>\n",
        "      <td>  257</td>\n",
        "      <td>  132</td>\n",
        "      <td> 74/55/68/12/00/1392061238.9259_b</td>\n",
        "      <td> 74/55/68/12/00/1392061238.9259_benqjWoUIdFABu_...</td>\n",
        "      <td> 21865547</td>\n",
        "    </tr>\n",
        "    <tr>\n",
        "      <th>8</th>\n",
        "      <td> http://fs01.plugger.com/62701/91/23/02/13/00/1...</td>\n",
        "      <td> 11.15236</td>\n",
        "      <td> 8192.013</td>\n",
        "      <td>  735</td>\n",
        "      <td>  535</td>\n",
        "      <td> 91/23/02/13/00/1399841902.6803_y</td>\n",
        "      <td> 91/23/02/13/00/1399841902.6803_y1qPmdUwio5zgL_...</td>\n",
        "      <td> 31203219</td>\n",
        "    </tr>\n",
        "    <tr>\n",
        "      <th>9</th>\n",
        "      <td> http://fs01.plugger.com/62701/81/37/25/03/00/1...</td>\n",
        "      <td> 9.199095</td>\n",
        "      <td> 8150.398</td>\n",
        "      <td>  886</td>\n",
        "      <td>  601</td>\n",
        "      <td> 81/37/25/03/00/1399337102.712_Vh</td>\n",
        "      <td> 81/37/25/03/00/1399337102.712_Vh1DolSj2BN78z_w...</td>\n",
        "      <td> 30527318</td>\n",
        "    </tr>\n",
        "  </tbody>\n",
        "</table>\n",
        "</div>"
       ],
       "metadata": {},
       "output_type": "pyout",
       "prompt_number": 122,
       "text": [
        "                                             request  \\\n",
        "0  http://fs01.plugger.com/62701/54/26/27/03/00/1...   \n",
        "1  http://fs01.plugger.com/62702/49/36/52/02/00/1...   \n",
        "2  http://fs01.plugger.com/62702/15/80/99/32/00/1...   \n",
        "3  http://fs01.plugger.com/62701/63/56/13/12/00/1...   \n",
        "4  http://fs01.plugger.com/62701/56/98/84/52/00/1...   \n",
        "5  http://fs01.plugger.com/62701/93/74/69/32/00/1...   \n",
        "6  http://fs01.plugger.com/62702/92/43/79/42/00/1...   \n",
        "7  http://fs01.plugger.com/62701/74/55/68/12/00/1...   \n",
        "8  http://fs01.plugger.com/62701/91/23/02/13/00/1...   \n",
        "9  http://fs01.plugger.com/62701/81/37/25/03/00/1...   \n",
        "\n",
        "       size  \\\n",
        "0  20.77329   \n",
        "1  30.08276   \n",
        "2  13.31974   \n",
        "3  6.544052   \n",
        "4  16.44863   \n",
        "5  18.35048   \n",
        "6  19.33952   \n",
        "7  34.75492   \n",
        "8  11.15236   \n",
        "9  9.199095   \n",
        "\n",
        "         mb  \\\n",
        "0  20431.77   \n",
        "1  16370.13   \n",
        "2  13463.39   \n",
        "3  12728.18   \n",
        "4  10560.02   \n",
        "5  9788.195   \n",
        "6  9121.602   \n",
        "7  8924.923   \n",
        "8  8192.013   \n",
        "9  8150.398   \n",
        "\n",
        "  count  \\\n",
        "0   987   \n",
        "1   545   \n",
        "2  1011   \n",
        "3  1945   \n",
        "4   642   \n",
        "5   534   \n",
        "6   472   \n",
        "7   257   \n",
        "8   735   \n",
        "9   886   \n",
        "\n",
        "  users  \\\n",
        "0   638   \n",
        "1   256   \n",
        "2   635   \n",
        "3  1329   \n",
        "4   423   \n",
        "5   282   \n",
        "6   261   \n",
        "7   132   \n",
        "8   535   \n",
        "9   601   \n",
        "\n",
        "                               hash  \\\n",
        "0  54/26/27/03/00/1399493446.4607_V   \n",
        "1  49/36/52/02/00/1390478016.9201_6   \n",
        "2  15/80/99/32/00/1394049199.1309_m   \n",
        "3  63/56/13/12/00/1391525669.0087_r   \n",
        "4  56/98/84/52/00/1395414673.5929_Z   \n",
        "5  93/74/69/32/00/1394027061.9117_L   \n",
        "6  92/43/79/42/00/1394929971.0962_a   \n",
        "7  74/55/68/12/00/1392061238.9259_b   \n",
        "8  91/23/02/13/00/1399841902.6803_y   \n",
        "9  81/37/25/03/00/1399337102.712_Vh   \n",
        "\n",
        "                                               _hash  \\\n",
        "0  54/26/27/03/00/1399493446.4607_VYUs0F1TtfIOGz_...   \n",
        "1  49/36/52/02/00/1390478016.9201_6P5EgD1uFwZhbk_...   \n",
        "2  15/80/99/32/00/1394049199.1309_muqarBvUVXMxRO_...   \n",
        "3  63/56/13/12/00/1391525669.0087_rzbmwu8TfG7x6n_...   \n",
        "4  56/98/84/52/00/1395414673.5929_ZDPrvcWgl05k8L_...   \n",
        "5  93/74/69/32/00/1394027061.9117_LK8h3qf2akN0WQ_...   \n",
        "6  92/43/79/42/00/1394929971.0962_amswKz8jZvoh3W_...   \n",
        "7  74/55/68/12/00/1392061238.9259_benqjWoUIdFABu_...   \n",
        "8  91/23/02/13/00/1399841902.6803_y1qPmdUwio5zgL_...   \n",
        "9  81/37/25/03/00/1399337102.712_Vh1DolSj2BN78z_w...   \n",
        "\n",
        "   content_id  \n",
        "0    30726245  \n",
        "1    20256394  \n",
        "2    23990851  \n",
        "3    21316536  \n",
        "4    25488965  \n",
        "5    23964739  \n",
        "6    24973429  \n",
        "7    21865547  \n",
        "8    31203219  \n",
        "9    30527318  "
       ]
      }
     ],
     "prompt_number": 122
    },
    {
     "cell_type": "code",
     "collapsed": false,
     "input": [
      "try:\n",
      "    report.drop(['hash'],1,inplace=True)\n",
      "except ValueError:\n",
      "    pass\n",
      "report.count()"
     ],
     "language": "python",
     "metadata": {},
     "outputs": [
      {
       "metadata": {},
       "output_type": "pyout",
       "prompt_number": 123,
       "text": [
        "request       5499\n",
        "size          5499\n",
        "mb            5499\n",
        "count         5499\n",
        "users         5499\n",
        "_hash         5499\n",
        "content_id    5499\n",
        "dtype: int64"
       ]
      }
     ],
     "prompt_number": 123
    },
    {
     "cell_type": "code",
     "collapsed": false,
     "input": [
      "report.to_csv(_rootdir+'data/topXvideos.csv')\n",
      "!head -n 3 {_rootdir+'data/topXvideos.csv'}"
     ],
     "language": "python",
     "metadata": {},
     "outputs": [
      {
       "output_type": "stream",
       "stream": "stdout",
       "text": [
        ",request,size,mb,count,users,_hash,content_id\r\n",
        "0,http://fs01.plugger.com/62701/54/26/27/03/00/1399493446.4607_VYUs0F1TtfIOGz_nSfYRF/3gp.3gp,20.773294448852539,20431.766276359558,987,638,54/26/27/03/00/1399493446.4607_VYUs0F1TtfIOGz_nSfYRF,30726245\r\n",
        "1,http://fs01.plugger.com/62702/49/36/52/02/00/1390478016.9201_6P5EgD1uFwZhbk_xH0ijb/3gp.3gp,30.082759857177734,16370.125014305115,545,256,49/36/52/02/00/1390478016.9201_6P5EgD1uFwZhbk_xH0ijb,20256394\r\n"
       ]
      }
     ],
     "prompt_number": 124
    },
    {
     "cell_type": "code",
     "collapsed": false,
     "input": [
      "!open {_rootdir+'data/topXvideos.csv'}"
     ],
     "language": "python",
     "metadata": {},
     "outputs": [],
     "prompt_number": 125
    },
    {
     "cell_type": "heading",
     "level": 2,
     "metadata": {},
     "source": [
      "We're done!"
     ]
    }
   ],
   "metadata": {}
  }
 ]
}