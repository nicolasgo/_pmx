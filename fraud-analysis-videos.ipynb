{
 "metadata": {
  "name": "",
  "signature": "sha256:05c80032e676c5a3ebb0a52ffa320d1e1479f6d522f1582053922d16b7711a78"
 },
 "nbformat": 3,
 "nbformat_minor": 0,
 "worksheets": [
  {
   "cells": [
    {
     "cell_type": "markdown",
     "metadata": {},
     "source": [
      "#Videos analysis\n",
      "- Finds the videos that consume the most bandwith"
     ]
    },
    {
     "cell_type": "markdown",
     "metadata": {},
     "source": [
      "##TODO:\n",
      "- get all 3gp content from 2015\n",
      "- list all files we need to truncate from that list based on fs01 size "
     ]
    },
    {
     "cell_type": "heading",
     "level": 2,
     "metadata": {},
     "source": [
      "Setup"
     ]
    },
    {
     "cell_type": "code",
     "collapsed": false,
     "input": [
      "import pandas as pd\n",
      "import numpy as np\n",
      "import sys\n",
      "import matplotlib.pyplot as plt\n",
      "import apachelog\n",
      "from apachelog import ApacheLogParserError\n"
     ],
     "language": "python",
     "metadata": {},
     "outputs": [],
     "prompt_number": 1
    },
    {
     "cell_type": "code",
     "collapsed": false,
     "input": [
      "import pickle\n",
      "\n",
      "try:\n",
      "    saved_sizes=pickle.load( open( _rootdir+\"xvideos_saved_sizes.p\", \"rb\" ) )\n",
      "except:\n",
      "    saved_sizes={}\n",
      "    \n",
      "len(saved_sizes)"
     ],
     "language": "python",
     "metadata": {
      "run_control": {
       "breakpoint": false
      }
     },
     "outputs": [
      {
       "metadata": {},
       "output_type": "pyout",
       "prompt_number": 2,
       "text": [
        "31948"
       ]
      }
     ],
     "prompt_number": 2
    },
    {
     "cell_type": "code",
     "collapsed": false,
     "input": [],
     "language": "python",
     "metadata": {
      "run_control": {
       "breakpoint": false
      }
     },
     "outputs": [],
     "prompt_number": 2
    },
    {
     "cell_type": "code",
     "collapsed": false,
     "input": [
      "from pylab import *\n",
      "rcParams['figure.figsize'] = 10, 5 # width, height in inches\n",
      "\n",
      "%matplotlib inline"
     ],
     "language": "python",
     "metadata": {},
     "outputs": [],
     "prompt_number": 3
    },
    {
     "cell_type": "code",
     "collapsed": false,
     "input": [
      "# only the last file_name gets read :-)\n",
      "#\n",
      "file_name=_rootdir+'data/fs01/3gp.0219.log'\n",
      "file_name=_rootdir+'data/fraud-worst/201502.log'\n",
      "file_name=_rootdir+'data/fs01/test.log'\n",
      "file_name=_rootdir+'data/fs01/201502_3gp.log'\n",
      "file_name=_rootdir+'data/fs01/201503.3gp.log'\n",
      "file_name=_rootdir+'data/fs01/2015.3gp.log'\n",
      "file_name=_rootdir+'data/fs01/201501_3gp.log'\n",
      "file_name=_rootdir+'data/fs01/2015031.3gp.log'"
     ],
     "language": "python",
     "metadata": {},
     "outputs": [],
     "prompt_number": 4
    },
    {
     "cell_type": "heading",
     "level": 2,
     "metadata": {},
     "source": [
      "Parsing the log"
     ]
    },
    {
     "cell_type": "code",
     "collapsed": false,
     "input": [
      "sample_string = '189.254.162.19 189.254.162.19 - [14/Feb/2015:21:38:28 -0500] \"GET /profile/14119369/inbox HTTP/1.1\" 200 3040 \\\n",
      "\"http://mx.plugger.com/home/plugger\" \"Mozilla/5.0 (Linux; U; Android 4.4.2; es-sa; LG-D320 Build/KOT49I.V10a) AppleWebKit/537.36 (KHTML, like Gecko) Version/4.0 Chrome/30.0.1599.103 Mobile Safari/537.36\" \\\n",
      "526142530854'# BDFEA213B8166CA395DE005054E006A2 \"-\"'\n",
      "\n",
      "sample_string = '189.206.114.3 172.16.16.68, 127.0.0.1, 189.206.114.3 - [14/Feb/2015:01:24:02 -0500] \\\n",
      "\"GET /62702/55/51/94/23/00/1400728511.3407_M4s9VAtwuRGPoq_phPe8I/3gp.3gp HTTP/1.1\" 404 162 \\\n",
      "\"http://mx.plugger.com/mymedia/content/32491555\" \\\n",
      "\"Mozilla/5.0 (Linux; U; Android 4.1.2; es-sa; LG-E450f Build/JZO54K) AppleWebKit/534.30 (KHTML, like Gecko) Version/4.0 Mobile Safari/534.30\" \\\n",
      "-'\n",
      "\n",
      "log_formats=[ r'%h %l %u %t \\\"%r\\\" %>s %b \\\"%i\\\" \\\"%{User-Agent}i\\\" %{msisdn}b',\n",
      "    r'%h %l %u %t \\\"%r\\\" %>s %b \\\"%i\\\" \\\"%{User-Agent}i\\\" %{msisdn}b %{hexa}i \\\"%V\\\"',\n",
      "    r'%h %l, %u %t \\\"%r\\\" %>s %b \\\"%i\\\" \\\"%{User-Agent}i\\\" %{msisdn}b',\n",
      "    r'%h %l, %u %u %t \\\"%r\\\" %>s %b \\\"%i\\\" \\\"%{User-Agent}i\\\" %{msisdn}b %{hexa}i \\\"%V\\\"',\n",
      "    r'%h %l, %1, %l %u %t \\\"%r\\\" %>s %b \\\"%i\\\" \\\"%{User-Agent}i\\\" %{msisdn}b',\n",
      "    r'%h %l, %u %u %t \\\"%r\\\" %>s %b \\\"%i\\\" \\\"%{User-Agent}i\\\" %{msisdn}b']\n",
      "\n",
      "log_parsers = []\n",
      "for f in log_formats:\n",
      "    log_parsers.append(apachelog.parser(f))\n",
      "\n",
      "status=False\n",
      "chk_parsers = (p for p in log_parsers if status is False)\n",
      "for p in chk_parsers:\n",
      "    try:\n",
      "        data=p.parse(sample_string)\n",
      "        status=True\n",
      "        break\n",
      "    except ApacheLogParserError, e:\n",
      "#        print e\n",
      "        pass\n",
      "\n",
      "if status:\n",
      "    print data\n",
      "else:\n",
      "    print 'Unable to parse this!'"
     ],
     "language": "python",
     "metadata": {},
     "outputs": [
      {
       "output_type": "stream",
       "stream": "stdout",
       "text": [
        "{'%l': '189.206.114.3', '%>s': '404', '%i': 'http://mx.plugger.com/mymedia/content/32491555', '%h': '189.206.114.3', '%l,': '172.16.16.68,', '%{User-Agent}i': 'Mozilla/5.0 (Linux; U; Android 4.1.2; es-sa; LG-E450f Build/JZO54K) AppleWebKit/534.30 (KHTML, like Gecko) Version/4.0 Mobile Safari/534.30', '%b': '162', '%{msisdn}b': '-', '%1,': '127.0.0.1,', '%u': '-', '%t': '[14/Feb/2015:01:24:02 -0500]', '%r': 'GET /62702/55/51/94/23/00/1400728511.3407_M4s9VAtwuRGPoq_phPe8I/3gp.3gp HTTP/1.1'}\n"
       ]
      }
     ],
     "prompt_number": 5
    },
    {
     "cell_type": "markdown",
     "metadata": {},
     "source": [
      "Now let's parse each line while preparing the access time so that pandas will be able to handle it."
     ]
    },
    {
     "cell_type": "code",
     "collapsed": false,
     "input": [
      "log_list = []\n",
      "count=0\n",
      "missed=''\n",
      "\n",
      "with open(file_name) as f:\n",
      "    print 'reading:',file_name\n",
      "\n",
      "    for line in f.readlines():\n",
      "        status=False\n",
      "        chk_parsers = (p for p in log_parsers if status is False)\n",
      "        for p in chk_parsers:\n",
      "            try:\n",
      "                data=p.parse(line)\n",
      "                data['%t'] = data['%t'][1:12]+' '+data['%t'][13:21]+' '+data['%t'][22:27]\n",
      "                log_list.append(data)\n",
      "                status=True\n",
      "            except ApacheLogParserError:\n",
      "                pass\n",
      "\n",
      "    if status is False:\n",
      "        count +=1\n",
      "        missed=line\n",
      "print 'read %d lines successfully.'%len(log_list)\n",
      "print 'missed %d lines: %s'%(count,missed)"
     ],
     "language": "python",
     "metadata": {
      "run_control": {
       "breakpoint": true
      }
     },
     "outputs": [
      {
       "output_type": "stream",
       "stream": "stdout",
       "text": [
        "reading: /Users/Nicolas/dev/data/fs01/2015031.3gp.log\n",
        "read 522461 lines successfully."
       ]
      },
      {
       "output_type": "stream",
       "stream": "stdout",
       "text": [
        "\n",
        "missed 0 lines: \n"
       ]
      }
     ],
     "prompt_number": 6
    },
    {
     "cell_type": "markdown",
     "metadata": {},
     "source": [
      "Loading into pandas."
     ]
    },
    {
     "cell_type": "code",
     "collapsed": false,
     "input": [
      "from pandas import Series, DataFrame, Panel\n",
      "df = DataFrame(log_list)\n",
      "df.head(2)"
     ],
     "language": "python",
     "metadata": {},
     "outputs": [
      {
       "html": [
        "<div style=\"max-height:1000px;max-width:1500px;overflow:auto;\">\n",
        "<table border=\"1\" class=\"dataframe\">\n",
        "  <thead>\n",
        "    <tr style=\"text-align: right;\">\n",
        "      <th></th>\n",
        "      <th>%1,</th>\n",
        "      <th>%&gt;s</th>\n",
        "      <th>%V</th>\n",
        "      <th>%b</th>\n",
        "      <th>%h</th>\n",
        "      <th>%i</th>\n",
        "      <th>%l</th>\n",
        "      <th>%l,</th>\n",
        "      <th>%r</th>\n",
        "      <th>%t</th>\n",
        "      <th>%u</th>\n",
        "      <th>%{User-Agent}i</th>\n",
        "      <th>%{hexa}i</th>\n",
        "      <th>%{msisdn}b</th>\n",
        "    </tr>\n",
        "  </thead>\n",
        "  <tbody>\n",
        "    <tr>\n",
        "      <th>0</th>\n",
        "      <td> NaN</td>\n",
        "      <td> 200</td>\n",
        "      <td> -</td>\n",
        "      <td> 609428</td>\n",
        "      <td> 189.254.162.11</td>\n",
        "      <td> -</td>\n",
        "      <td> 189.254.162.11</td>\n",
        "      <td> NaN</td>\n",
        "      <td> GET /62701/27/11/77/93/00/1405256842.6576_cF8s...</td>\n",
        "      <td> 09/Mar/2015 16:58:57 -0400</td>\n",
        "      <td> -</td>\n",
        "      <td> I235_VK_Generic_Dual_HW_1.0 (MRE/3.1.00(2536);...</td>\n",
        "      <td> BDFEA20B41DD6CA395DE005054FE098A</td>\n",
        "      <td> 526366999804</td>\n",
        "    </tr>\n",
        "    <tr>\n",
        "      <th>1</th>\n",
        "      <td> NaN</td>\n",
        "      <td> 200</td>\n",
        "      <td> -</td>\n",
        "      <td> 408969</td>\n",
        "      <td> 187.216.232.35</td>\n",
        "      <td> -</td>\n",
        "      <td> 187.216.232.35</td>\n",
        "      <td> NaN</td>\n",
        "      <td> GET /62701/94/77/38/57/00/1423402958.758_M2yEj...</td>\n",
        "      <td> 10/Mar/2015 18:20:14 -0400</td>\n",
        "      <td> -</td>\n",
        "      <td> ALONG61D_11C_HW (MRE/3.1.00(64);MAUI/_6166_PSW...</td>\n",
        "      <td> BBD8E823570A6CA395DE005054FF6E17</td>\n",
        "      <td> 522461480163</td>\n",
        "    </tr>\n",
        "  </tbody>\n",
        "</table>\n",
        "</div>"
       ],
       "metadata": {},
       "output_type": "pyout",
       "prompt_number": 7,
       "text": [
        "   %1,  \\\n",
        "0  NaN   \n",
        "1  NaN   \n",
        "\n",
        "   %>s  \\\n",
        "0  200   \n",
        "1  200   \n",
        "\n",
        "  %V  \\\n",
        "0  -   \n",
        "1  -   \n",
        "\n",
        "       %b  \\\n",
        "0  609428   \n",
        "1  408969   \n",
        "\n",
        "               %h  \\\n",
        "0  189.254.162.11   \n",
        "1  187.216.232.35   \n",
        "\n",
        "  %i  \\\n",
        "0  -   \n",
        "1  -   \n",
        "\n",
        "               %l  \\\n",
        "0  189.254.162.11   \n",
        "1  187.216.232.35   \n",
        "\n",
        "   %l,  \\\n",
        "0  NaN   \n",
        "1  NaN   \n",
        "\n",
        "                                                  %r  \\\n",
        "0  GET /62701/27/11/77/93/00/1405256842.6576_cF8s...   \n",
        "1  GET /62701/94/77/38/57/00/1423402958.758_M2yEj...   \n",
        "\n",
        "                           %t  \\\n",
        "0  09/Mar/2015 16:58:57 -0400   \n",
        "1  10/Mar/2015 18:20:14 -0400   \n",
        "\n",
        "  %u  \\\n",
        "0  -   \n",
        "1  -   \n",
        "\n",
        "                                      %{User-Agent}i  \\\n",
        "0  I235_VK_Generic_Dual_HW_1.0 (MRE/3.1.00(2536);...   \n",
        "1  ALONG61D_11C_HW (MRE/3.1.00(64);MAUI/_6166_PSW...   \n",
        "\n",
        "                           %{hexa}i  \\\n",
        "0  BDFEA20B41DD6CA395DE005054FE098A   \n",
        "1  BBD8E823570A6CA395DE005054FF6E17   \n",
        "\n",
        "     %{msisdn}b  \n",
        "0  526366999804  \n",
        "1  522461480163  "
       ]
      }
     ],
     "prompt_number": 7
    },
    {
     "cell_type": "code",
     "collapsed": false,
     "input": [
      "df.info()"
     ],
     "language": "python",
     "metadata": {},
     "outputs": [
      {
       "output_type": "stream",
       "stream": "stdout",
       "text": [
        "<class 'pandas.core.frame.DataFrame'>\n",
        "Int64Index: 522461 entries, 0 to 522460\n",
        "Data columns (total 14 columns):\n",
        "%1,               1 non-null object\n",
        "%>s               522461 non-null object\n",
        "%V                41 non-null object\n",
        "%b                522461 non-null object\n",
        "%h                522461 non-null object\n",
        "%i                522461 non-null object\n",
        "%l                520288 non-null object\n",
        "%l,               2174 non-null object\n",
        "%r                522461 non-null object\n",
        "%t                522461 non-null object\n",
        "%u                522461 non-null object\n",
        "%{User-Agent}i    522461 non-null object\n",
        "%{hexa}i          41 non-null object\n",
        "%{msisdn}b        522461 non-null object\n",
        "dtypes: object(14)\n",
        "memory usage: 59.8+ MB\n"
       ]
      }
     ],
     "prompt_number": 8
    },
    {
     "cell_type": "markdown",
     "metadata": {},
     "source": [
      "Now lets clean up the pandas dataframe a bit by deleting some columns we aren't interested in and renaming the remaining columns."
     ]
    },
    {
     "cell_type": "code",
     "collapsed": false,
     "input": [
      "t=['%h','%i','%1,','%l,','%l,','%I','%u','%{User-Agent}i','%{hexa}i','%V']\n",
      "\n",
      "for e in t:\n",
      "    try :\n",
      "        del df[e]\n",
      "    except :\n",
      "        pass\n",
      "    \n",
      "try :\n",
      "    df = df.rename(columns={'%>s': 'status', '%b':'b', \n",
      "                            '%r':'request', '%t': 'time', '%{msisdn}b': 'msisdn'})\n",
      "except :\n",
      "    pass"
     ],
     "language": "python",
     "metadata": {
      "run_control": {
       "breakpoint": false
      }
     },
     "outputs": [],
     "prompt_number": 9
    },
    {
     "cell_type": "code",
     "collapsed": false,
     "input": [
      "df.request.head()"
     ],
     "language": "python",
     "metadata": {
      "run_control": {
       "breakpoint": false
      }
     },
     "outputs": [
      {
       "metadata": {},
       "output_type": "pyout",
       "prompt_number": 10,
       "text": [
        "0    GET /62701/27/11/77/93/00/1405256842.6576_cF8s...\n",
        "1    GET /62701/94/77/38/57/00/1423402958.758_M2yEj...\n",
        "2    GET /62701/46/83/00/47/00/1422502624.1635_PSlt...\n",
        "3    GET /62701/91/22/74/12/00/1391687152.5739_jbQA...\n",
        "4    GET /62702/48/78/92/67/00/1423627940.0675_d3En...\n",
        "Name: request, dtype: object"
       ]
      }
     ],
     "prompt_number": 10
    },
    {
     "cell_type": "code",
     "collapsed": false,
     "input": [
      "df[0:2]\n",
      "\n",
      "df['time']=pd.to_datetime(df['time'])\n",
      "df['status'] = df['status'].astype('int')\n",
      "df['b'] = df['b'].astype('int')\n",
      "\n",
      "df.head(2)"
     ],
     "language": "python",
     "metadata": {},
     "outputs": [
      {
       "html": [
        "<div style=\"max-height:1000px;max-width:1500px;overflow:auto;\">\n",
        "<table border=\"1\" class=\"dataframe\">\n",
        "  <thead>\n",
        "    <tr style=\"text-align: right;\">\n",
        "      <th></th>\n",
        "      <th>status</th>\n",
        "      <th>b</th>\n",
        "      <th>%l</th>\n",
        "      <th>request</th>\n",
        "      <th>time</th>\n",
        "      <th>msisdn</th>\n",
        "    </tr>\n",
        "  </thead>\n",
        "  <tbody>\n",
        "    <tr>\n",
        "      <th>0</th>\n",
        "      <td> 200</td>\n",
        "      <td> 609428</td>\n",
        "      <td> 189.254.162.11</td>\n",
        "      <td> GET /62701/27/11/77/93/00/1405256842.6576_cF8s...</td>\n",
        "      <td>2015-03-09 20:58:57</td>\n",
        "      <td> 526366999804</td>\n",
        "    </tr>\n",
        "    <tr>\n",
        "      <th>1</th>\n",
        "      <td> 200</td>\n",
        "      <td> 408969</td>\n",
        "      <td> 187.216.232.35</td>\n",
        "      <td> GET /62701/94/77/38/57/00/1423402958.758_M2yEj...</td>\n",
        "      <td>2015-03-10 22:20:14</td>\n",
        "      <td> 522461480163</td>\n",
        "    </tr>\n",
        "  </tbody>\n",
        "</table>\n",
        "</div>"
       ],
       "metadata": {},
       "output_type": "pyout",
       "prompt_number": 11,
       "text": [
        "   status  \\\n",
        "0     200   \n",
        "1     200   \n",
        "\n",
        "        b  \\\n",
        "0  609428   \n",
        "1  408969   \n",
        "\n",
        "               %l  \\\n",
        "0  189.254.162.11   \n",
        "1  187.216.232.35   \n",
        "\n",
        "                                             request  \\\n",
        "0  GET /62701/27/11/77/93/00/1405256842.6576_cF8s...   \n",
        "1  GET /62701/94/77/38/57/00/1423402958.758_M2yEj...   \n",
        "\n",
        "                 time  \\\n",
        "0 2015-03-09 20:58:57   \n",
        "1 2015-03-10 22:20:14   \n",
        "\n",
        "         msisdn  \n",
        "0  526366999804  \n",
        "1  522461480163  "
       ]
      }
     ],
     "prompt_number": 11
    },
    {
     "cell_type": "code",
     "collapsed": false,
     "input": [
      "df.head(10)"
     ],
     "language": "python",
     "metadata": {
      "run_control": {
       "breakpoint": false
      }
     },
     "outputs": [
      {
       "html": [
        "<div style=\"max-height:1000px;max-width:1500px;overflow:auto;\">\n",
        "<table border=\"1\" class=\"dataframe\">\n",
        "  <thead>\n",
        "    <tr style=\"text-align: right;\">\n",
        "      <th></th>\n",
        "      <th>status</th>\n",
        "      <th>b</th>\n",
        "      <th>%l</th>\n",
        "      <th>request</th>\n",
        "      <th>time</th>\n",
        "      <th>msisdn</th>\n",
        "    </tr>\n",
        "  </thead>\n",
        "  <tbody>\n",
        "    <tr>\n",
        "      <th>0</th>\n",
        "      <td> 200</td>\n",
        "      <td> 609428</td>\n",
        "      <td>  189.254.162.11</td>\n",
        "      <td> GET /62701/27/11/77/93/00/1405256842.6576_cF8s...</td>\n",
        "      <td>2015-03-09 20:58:57</td>\n",
        "      <td> 526366999804</td>\n",
        "    </tr>\n",
        "    <tr>\n",
        "      <th>1</th>\n",
        "      <td> 200</td>\n",
        "      <td> 408969</td>\n",
        "      <td>  187.216.232.35</td>\n",
        "      <td> GET /62701/94/77/38/57/00/1423402958.758_M2yEj...</td>\n",
        "      <td>2015-03-10 22:20:14</td>\n",
        "      <td> 522461480163</td>\n",
        "    </tr>\n",
        "    <tr>\n",
        "      <th>2</th>\n",
        "      <td> 200</td>\n",
        "      <td> 392946</td>\n",
        "      <td>  187.216.232.35</td>\n",
        "      <td> GET /62701/46/83/00/47/00/1422502624.1635_PSlt...</td>\n",
        "      <td>2015-03-10 22:49:57</td>\n",
        "      <td> 522461480163</td>\n",
        "    </tr>\n",
        "    <tr>\n",
        "      <th>3</th>\n",
        "      <td> 404</td>\n",
        "      <td>    162</td>\n",
        "      <td>  187.237.14.207</td>\n",
        "      <td> GET /62701/91/22/74/12/00/1391687152.5739_jbQA...</td>\n",
        "      <td>2015-03-11 12:37:16</td>\n",
        "      <td> 525540784736</td>\n",
        "    </tr>\n",
        "    <tr>\n",
        "      <th>4</th>\n",
        "      <td> 200</td>\n",
        "      <td> 573108</td>\n",
        "      <td> 187.216.232.106</td>\n",
        "      <td> GET /62702/48/78/92/67/00/1423627940.0675_d3En...</td>\n",
        "      <td>2015-03-11 20:51:54</td>\n",
        "      <td> 522821086455</td>\n",
        "    </tr>\n",
        "    <tr>\n",
        "      <th>5</th>\n",
        "      <td> 200</td>\n",
        "      <td> 618611</td>\n",
        "      <td> 187.216.232.106</td>\n",
        "      <td> GET /62702/14/66/61/67/00/1423556093.1734_1t78...</td>\n",
        "      <td>2015-03-11 20:55:08</td>\n",
        "      <td> 522821086455</td>\n",
        "    </tr>\n",
        "    <tr>\n",
        "      <th>6</th>\n",
        "      <td> 404</td>\n",
        "      <td>    162</td>\n",
        "      <td>  187.210.230.12</td>\n",
        "      <td> GET /62702/82/55/87/14/00/1406731193.5598_zTwt...</td>\n",
        "      <td>2015-03-11 21:50:52</td>\n",
        "      <td> 523511244001</td>\n",
        "    </tr>\n",
        "    <tr>\n",
        "      <th>7</th>\n",
        "      <td> 200</td>\n",
        "      <td> 445909</td>\n",
        "      <td>  201.144.174.13</td>\n",
        "      <td> GET /62701/06/10/82/08/00/1425938885.7705_QdZu...</td>\n",
        "      <td>2015-03-12 01:11:01</td>\n",
        "      <td> 526291064870</td>\n",
        "    </tr>\n",
        "    <tr>\n",
        "      <th>8</th>\n",
        "      <td> 200</td>\n",
        "      <td> 606859</td>\n",
        "      <td>    187.237.39.6</td>\n",
        "      <td> GET /62701/51/92/76/14/00/1406657117.6997_wDaG...</td>\n",
        "      <td>2015-03-12 04:01:44</td>\n",
        "      <td> 527341366331</td>\n",
        "    </tr>\n",
        "    <tr>\n",
        "      <th>9</th>\n",
        "      <td> 200</td>\n",
        "      <td> 470191</td>\n",
        "      <td>  187.216.232.65</td>\n",
        "      <td> GET /62701/62/02/27/37/00/1422373434.703_FrBaX...</td>\n",
        "      <td>2015-03-12 06:54:04</td>\n",
        "      <td> 522331145607</td>\n",
        "    </tr>\n",
        "  </tbody>\n",
        "</table>\n",
        "</div>"
       ],
       "metadata": {},
       "output_type": "pyout",
       "prompt_number": 12,
       "text": [
        "   status  \\\n",
        "0     200   \n",
        "1     200   \n",
        "2     200   \n",
        "3     404   \n",
        "4     200   \n",
        "5     200   \n",
        "6     404   \n",
        "7     200   \n",
        "8     200   \n",
        "9     200   \n",
        "\n",
        "        b  \\\n",
        "0  609428   \n",
        "1  408969   \n",
        "2  392946   \n",
        "3     162   \n",
        "4  573108   \n",
        "5  618611   \n",
        "6     162   \n",
        "7  445909   \n",
        "8  606859   \n",
        "9  470191   \n",
        "\n",
        "                %l  \\\n",
        "0   189.254.162.11   \n",
        "1   187.216.232.35   \n",
        "2   187.216.232.35   \n",
        "3   187.237.14.207   \n",
        "4  187.216.232.106   \n",
        "5  187.216.232.106   \n",
        "6   187.210.230.12   \n",
        "7   201.144.174.13   \n",
        "8     187.237.39.6   \n",
        "9   187.216.232.65   \n",
        "\n",
        "                                             request  \\\n",
        "0  GET /62701/27/11/77/93/00/1405256842.6576_cF8s...   \n",
        "1  GET /62701/94/77/38/57/00/1423402958.758_M2yEj...   \n",
        "2  GET /62701/46/83/00/47/00/1422502624.1635_PSlt...   \n",
        "3  GET /62701/91/22/74/12/00/1391687152.5739_jbQA...   \n",
        "4  GET /62702/48/78/92/67/00/1423627940.0675_d3En...   \n",
        "5  GET /62702/14/66/61/67/00/1423556093.1734_1t78...   \n",
        "6  GET /62702/82/55/87/14/00/1406731193.5598_zTwt...   \n",
        "7  GET /62701/06/10/82/08/00/1425938885.7705_QdZu...   \n",
        "8  GET /62701/51/92/76/14/00/1406657117.6997_wDaG...   \n",
        "9  GET /62701/62/02/27/37/00/1422373434.703_FrBaX...   \n",
        "\n",
        "                 time  \\\n",
        "0 2015-03-09 20:58:57   \n",
        "1 2015-03-10 22:20:14   \n",
        "2 2015-03-10 22:49:57   \n",
        "3 2015-03-11 12:37:16   \n",
        "4 2015-03-11 20:51:54   \n",
        "5 2015-03-11 20:55:08   \n",
        "6 2015-03-11 21:50:52   \n",
        "7 2015-03-12 01:11:01   \n",
        "8 2015-03-12 04:01:44   \n",
        "9 2015-03-12 06:54:04   \n",
        "\n",
        "         msisdn  \n",
        "0  526366999804  \n",
        "1  522461480163  \n",
        "2  522461480163  \n",
        "3  525540784736  \n",
        "4  522821086455  \n",
        "5  522821086455  \n",
        "6  523511244001  \n",
        "7  526291064870  \n",
        "8  527341366331  \n",
        "9  522331145607  "
       ]
      }
     ],
     "prompt_number": 12
    },
    {
     "cell_type": "code",
     "collapsed": false,
     "input": [
      "df.status.value_counts()"
     ],
     "language": "python",
     "metadata": {},
     "outputs": [
      {
       "metadata": {},
       "output_type": "pyout",
       "prompt_number": 13,
       "text": [
        "200    307277\n",
        "404    215181\n",
        "403         3\n",
        "dtype: int64"
       ]
      }
     ],
     "prompt_number": 13
    },
    {
     "cell_type": "markdown",
     "metadata": {},
     "source": [
      "We want to find large videos. Set the min_size to 1M (for now)"
     ]
    },
    {
     "cell_type": "code",
     "collapsed": false,
     "input": [
      "df.b.describe()"
     ],
     "language": "python",
     "metadata": {
      "run_control": {
       "breakpoint": false
      }
     },
     "outputs": [
      {
       "metadata": {},
       "output_type": "pyout",
       "prompt_number": 14,
       "text": [
        "count    5.224610e+05\n",
        "mean     4.101204e+05\n",
        "std      1.415369e+06\n",
        "min      0.000000e+00\n",
        "25%      1.620000e+02\n",
        "50%      3.738170e+05\n",
        "75%      5.874070e+05\n",
        "max      5.384343e+08\n",
        "Name: b, dtype: float64"
       ]
      }
     ],
     "prompt_number": 14
    },
    {
     "cell_type": "code",
     "collapsed": false,
     "input": [
      "min_size=((df.b>1000000)&(df.status==200))\n",
      "df[min_size].count()"
     ],
     "language": "python",
     "metadata": {},
     "outputs": [
      {
       "metadata": {},
       "output_type": "pyout",
       "prompt_number": 15,
       "text": [
        "status     7837\n",
        "b          7837\n",
        "%l         7795\n",
        "request    7837\n",
        "time       7837\n",
        "msisdn     7837\n",
        "dtype: int64"
       ]
      }
     ],
     "prompt_number": 15
    },
    {
     "cell_type": "code",
     "collapsed": false,
     "input": [
      "df_copy = df.copy()"
     ],
     "language": "python",
     "metadata": {
      "run_control": {
       "breakpoint": false
      }
     },
     "outputs": [],
     "prompt_number": 16
    },
    {
     "cell_type": "code",
     "collapsed": false,
     "input": [
      "df=df[min_size].copy()"
     ],
     "language": "python",
     "metadata": {},
     "outputs": [],
     "prompt_number": 17
    },
    {
     "cell_type": "code",
     "collapsed": true,
     "input": [
      "df['time']=pd.to_datetime(df['time'], coerce=True)#,errors='raise')\n",
      "df.info()"
     ],
     "language": "python",
     "metadata": {},
     "outputs": [
      {
       "output_type": "stream",
       "stream": "stdout",
       "text": [
        "<class 'pandas.core.frame.DataFrame'>\n",
        "Int64Index: 7837 entries, 47 to 522304\n",
        "Data columns (total 6 columns):\n",
        "status     7837 non-null int64\n",
        "b          7837 non-null int64\n",
        "%l         7795 non-null object\n",
        "request    7837 non-null object\n",
        "time       7837 non-null datetime64[ns]\n",
        "msisdn     7837 non-null object\n",
        "dtypes: datetime64[ns](1), int64(2), object(3)\n",
        "memory usage: 428.6+ KB\n"
       ]
      }
     ],
     "prompt_number": 18
    },
    {
     "cell_type": "code",
     "collapsed": false,
     "input": [
      "df['msisdn'].describe()"
     ],
     "language": "python",
     "metadata": {},
     "outputs": [
      {
       "metadata": {},
       "output_type": "pyout",
       "prompt_number": 19,
       "text": [
        "count     7837\n",
        "unique    3777\n",
        "top          -\n",
        "freq       287\n",
        "Name: msisdn, dtype: object"
       ]
      }
     ],
     "prompt_number": 19
    },
    {
     "cell_type": "code",
     "collapsed": false,
     "input": [
      "def dash2nan(x):\n",
      "    if x == '-':\n",
      "        x = np.nan\n",
      "    else:\n",
      "        x = float(x)/1048576.\n",
      "    \n",
      "    return x\n",
      "df['b'] = df['b'].apply(dash2nan)"
     ],
     "language": "python",
     "metadata": {},
     "outputs": [],
     "prompt_number": 20
    },
    {
     "cell_type": "code",
     "collapsed": false,
     "input": [
      "#df.set_index(['msisdn','status','time'], inplace=True)\n",
      "df.head()"
     ],
     "language": "python",
     "metadata": {},
     "outputs": [
      {
       "html": [
        "<div style=\"max-height:1000px;max-width:1500px;overflow:auto;\">\n",
        "<table border=\"1\" class=\"dataframe\">\n",
        "  <thead>\n",
        "    <tr style=\"text-align: right;\">\n",
        "      <th></th>\n",
        "      <th>status</th>\n",
        "      <th>b</th>\n",
        "      <th>%l</th>\n",
        "      <th>request</th>\n",
        "      <th>time</th>\n",
        "      <th>msisdn</th>\n",
        "    </tr>\n",
        "  </thead>\n",
        "  <tbody>\n",
        "    <tr>\n",
        "      <th>47 </th>\n",
        "      <td> 200</td>\n",
        "      <td> 3.418612</td>\n",
        "      <td> 187.210.230.27</td>\n",
        "      <td> GET /62702/19/57/16/02/00/1390853133.1652_N1XL...</td>\n",
        "      <td>2015-03-09 04:25:19</td>\n",
        "      <td> 524341084752</td>\n",
        "    </tr>\n",
        "    <tr>\n",
        "      <th>123</th>\n",
        "      <td> 200</td>\n",
        "      <td> 2.795850</td>\n",
        "      <td> 187.237.231.70</td>\n",
        "      <td> GET /62701/71/01/62/32/00/1393343737.4863_BrGA...</td>\n",
        "      <td>2015-03-09 04:26:54</td>\n",
        "      <td> 524741107597</td>\n",
        "    </tr>\n",
        "    <tr>\n",
        "      <th>150</th>\n",
        "      <td> 200</td>\n",
        "      <td> 4.968384</td>\n",
        "      <td> 187.217.195.96</td>\n",
        "      <td> GET /62702/22/84/90/03/00/1399048239.8004_NV8j...</td>\n",
        "      <td>2015-03-09 04:27:27</td>\n",
        "      <td> 527541064182</td>\n",
        "    </tr>\n",
        "    <tr>\n",
        "      <th>205</th>\n",
        "      <td> 200</td>\n",
        "      <td> 4.968384</td>\n",
        "      <td>  187.237.25.93</td>\n",
        "      <td> GET /62702/22/84/90/03/00/1399048239.8004_NV8j...</td>\n",
        "      <td>2015-03-09 04:28:41</td>\n",
        "      <td> 524411096003</td>\n",
        "    </tr>\n",
        "    <tr>\n",
        "      <th>227</th>\n",
        "      <td> 200</td>\n",
        "      <td> 4.968384</td>\n",
        "      <td>  187.237.25.93</td>\n",
        "      <td> GET /62702/22/84/90/03/00/1399048239.8004_NV8j...</td>\n",
        "      <td>2015-03-09 04:29:04</td>\n",
        "      <td> 524411096003</td>\n",
        "    </tr>\n",
        "  </tbody>\n",
        "</table>\n",
        "</div>"
       ],
       "metadata": {},
       "output_type": "pyout",
       "prompt_number": 21,
       "text": [
        "     status  \\\n",
        "47      200   \n",
        "123     200   \n",
        "150     200   \n",
        "205     200   \n",
        "227     200   \n",
        "\n",
        "            b  \\\n",
        "47   3.418612   \n",
        "123  2.795850   \n",
        "150  4.968384   \n",
        "205  4.968384   \n",
        "227  4.968384   \n",
        "\n",
        "                 %l  \\\n",
        "47   187.210.230.27   \n",
        "123  187.237.231.70   \n",
        "150  187.217.195.96   \n",
        "205   187.237.25.93   \n",
        "227   187.237.25.93   \n",
        "\n",
        "                                               request  \\\n",
        "47   GET /62702/19/57/16/02/00/1390853133.1652_N1XL...   \n",
        "123  GET /62701/71/01/62/32/00/1393343737.4863_BrGA...   \n",
        "150  GET /62702/22/84/90/03/00/1399048239.8004_NV8j...   \n",
        "205  GET /62702/22/84/90/03/00/1399048239.8004_NV8j...   \n",
        "227  GET /62702/22/84/90/03/00/1399048239.8004_NV8j...   \n",
        "\n",
        "                   time  \\\n",
        "47  2015-03-09 04:25:19   \n",
        "123 2015-03-09 04:26:54   \n",
        "150 2015-03-09 04:27:27   \n",
        "205 2015-03-09 04:28:41   \n",
        "227 2015-03-09 04:29:04   \n",
        "\n",
        "           msisdn  \n",
        "47   524341084752  \n",
        "123  524741107597  \n",
        "150  527541064182  \n",
        "205  524411096003  \n",
        "227  524411096003  "
       ]
      }
     ],
     "prompt_number": 21
    },
    {
     "cell_type": "code",
     "collapsed": false,
     "input": [
      "try:\n",
      "    df.set_index(['time'],inplace=True)\n",
      "except KeyError:\n",
      "    pass\n",
      "df.head()"
     ],
     "language": "python",
     "metadata": {},
     "outputs": [
      {
       "html": [
        "<div style=\"max-height:1000px;max-width:1500px;overflow:auto;\">\n",
        "<table border=\"1\" class=\"dataframe\">\n",
        "  <thead>\n",
        "    <tr style=\"text-align: right;\">\n",
        "      <th></th>\n",
        "      <th>status</th>\n",
        "      <th>b</th>\n",
        "      <th>%l</th>\n",
        "      <th>request</th>\n",
        "      <th>msisdn</th>\n",
        "    </tr>\n",
        "    <tr>\n",
        "      <th>time</th>\n",
        "      <th></th>\n",
        "      <th></th>\n",
        "      <th></th>\n",
        "      <th></th>\n",
        "      <th></th>\n",
        "    </tr>\n",
        "  </thead>\n",
        "  <tbody>\n",
        "    <tr>\n",
        "      <th>2015-03-09 04:25:19</th>\n",
        "      <td> 200</td>\n",
        "      <td> 3.418612</td>\n",
        "      <td> 187.210.230.27</td>\n",
        "      <td> GET /62702/19/57/16/02/00/1390853133.1652_N1XL...</td>\n",
        "      <td> 524341084752</td>\n",
        "    </tr>\n",
        "    <tr>\n",
        "      <th>2015-03-09 04:26:54</th>\n",
        "      <td> 200</td>\n",
        "      <td> 2.795850</td>\n",
        "      <td> 187.237.231.70</td>\n",
        "      <td> GET /62701/71/01/62/32/00/1393343737.4863_BrGA...</td>\n",
        "      <td> 524741107597</td>\n",
        "    </tr>\n",
        "    <tr>\n",
        "      <th>2015-03-09 04:27:27</th>\n",
        "      <td> 200</td>\n",
        "      <td> 4.968384</td>\n",
        "      <td> 187.217.195.96</td>\n",
        "      <td> GET /62702/22/84/90/03/00/1399048239.8004_NV8j...</td>\n",
        "      <td> 527541064182</td>\n",
        "    </tr>\n",
        "    <tr>\n",
        "      <th>2015-03-09 04:28:41</th>\n",
        "      <td> 200</td>\n",
        "      <td> 4.968384</td>\n",
        "      <td>  187.237.25.93</td>\n",
        "      <td> GET /62702/22/84/90/03/00/1399048239.8004_NV8j...</td>\n",
        "      <td> 524411096003</td>\n",
        "    </tr>\n",
        "    <tr>\n",
        "      <th>2015-03-09 04:29:04</th>\n",
        "      <td> 200</td>\n",
        "      <td> 4.968384</td>\n",
        "      <td>  187.237.25.93</td>\n",
        "      <td> GET /62702/22/84/90/03/00/1399048239.8004_NV8j...</td>\n",
        "      <td> 524411096003</td>\n",
        "    </tr>\n",
        "  </tbody>\n",
        "</table>\n",
        "</div>"
       ],
       "metadata": {},
       "output_type": "pyout",
       "prompt_number": 22,
       "text": [
        "                     status  \\\n",
        "time                          \n",
        "2015-03-09 04:25:19     200   \n",
        "2015-03-09 04:26:54     200   \n",
        "2015-03-09 04:27:27     200   \n",
        "2015-03-09 04:28:41     200   \n",
        "2015-03-09 04:29:04     200   \n",
        "\n",
        "                            b  \\\n",
        "time                            \n",
        "2015-03-09 04:25:19  3.418612   \n",
        "2015-03-09 04:26:54  2.795850   \n",
        "2015-03-09 04:27:27  4.968384   \n",
        "2015-03-09 04:28:41  4.968384   \n",
        "2015-03-09 04:29:04  4.968384   \n",
        "\n",
        "                                 %l  \\\n",
        "time                                  \n",
        "2015-03-09 04:25:19  187.210.230.27   \n",
        "2015-03-09 04:26:54  187.237.231.70   \n",
        "2015-03-09 04:27:27  187.217.195.96   \n",
        "2015-03-09 04:28:41   187.237.25.93   \n",
        "2015-03-09 04:29:04   187.237.25.93   \n",
        "\n",
        "                                                               request  \\\n",
        "time                                                                     \n",
        "2015-03-09 04:25:19  GET /62702/19/57/16/02/00/1390853133.1652_N1XL...   \n",
        "2015-03-09 04:26:54  GET /62701/71/01/62/32/00/1393343737.4863_BrGA...   \n",
        "2015-03-09 04:27:27  GET /62702/22/84/90/03/00/1399048239.8004_NV8j...   \n",
        "2015-03-09 04:28:41  GET /62702/22/84/90/03/00/1399048239.8004_NV8j...   \n",
        "2015-03-09 04:29:04  GET /62702/22/84/90/03/00/1399048239.8004_NV8j...   \n",
        "\n",
        "                           msisdn  \n",
        "time                               \n",
        "2015-03-09 04:25:19  524341084752  \n",
        "2015-03-09 04:26:54  524741107597  \n",
        "2015-03-09 04:27:27  527541064182  \n",
        "2015-03-09 04:28:41  524411096003  \n",
        "2015-03-09 04:29:04  524411096003  "
       ]
      }
     ],
     "prompt_number": 22
    },
    {
     "cell_type": "markdown",
     "metadata": {},
     "source": [
      "#Analysis\n",
      "Let's graph the data to visualize what is happening."
     ]
    },
    {
     "cell_type": "markdown",
     "metadata": {},
     "source": [
      "##Group by user"
     ]
    },
    {
     "cell_type": "code",
     "collapsed": false,
     "input": [
      "t=df.groupby(['msisdn'])#,'status'])\n",
      "t#.resample('1440t')#['b']\n",
      "parts = []\n",
      "\n",
      "for k,v in t:\n",
      "    x=[k,v['b'].sum()]\n",
      "#    x=v[['T']].describe().T#[['mean','std']]\n",
      "#    x['area'] = k\n",
      "    parts.append(pd.DataFrame(x).T)\n",
      "stats_per_msisdn = pd.concat(parts)\n",
      "stats_per_msisdn.columns=['msisdn','mb']"
     ],
     "language": "python",
     "metadata": {},
     "outputs": [],
     "prompt_number": 23
    },
    {
     "cell_type": "markdown",
     "metadata": {},
     "source": [
      "### Worst users in that sample"
     ]
    },
    {
     "cell_type": "code",
     "collapsed": false,
     "input": [
      "stats_per_msisdn=stats_per_msisdn.reset_index().drop('index',1)\n",
      "top100=stats_per_msisdn.sort(['mb'],ascending=False)[1:101].copy()\n",
      "for m in top100.msisdn.head(6):\n",
      "    print m[2:]#+',',\n",
      "top100.head(10).T"
     ],
     "language": "python",
     "metadata": {},
     "outputs": [
      {
       "output_type": "stream",
       "stream": "stdout",
       "text": [
        "3131005847\n",
        "5564251532\n",
        "8713425924\n",
        "4891178171\n",
        "7442292021\n",
        "9931501974\n"
       ]
      },
      {
       "html": [
        "<div style=\"max-height:1000px;max-width:1500px;overflow:auto;\">\n",
        "<table border=\"1\" class=\"dataframe\">\n",
        "  <thead>\n",
        "    <tr style=\"text-align: right;\">\n",
        "      <th></th>\n",
        "      <th>489</th>\n",
        "      <th>1356</th>\n",
        "      <th>2962</th>\n",
        "      <th>1160</th>\n",
        "      <th>2197</th>\n",
        "      <th>3644</th>\n",
        "      <th>2083</th>\n",
        "      <th>2288</th>\n",
        "      <th>106</th>\n",
        "      <th>2952</th>\n",
        "    </tr>\n",
        "  </thead>\n",
        "  <tbody>\n",
        "    <tr>\n",
        "      <th>msisdn</th>\n",
        "      <td> 523131005847</td>\n",
        "      <td> 525564251532</td>\n",
        "      <td> 528713425924</td>\n",
        "      <td> 524891178171</td>\n",
        "      <td> 527442292021</td>\n",
        "      <td> 529931501974</td>\n",
        "      <td> 527224764215</td>\n",
        "      <td> 527574778420</td>\n",
        "      <td> 522291374040</td>\n",
        "      <td> 528713303309</td>\n",
        "    </tr>\n",
        "    <tr>\n",
        "      <th>mb</th>\n",
        "      <td>     1132.653</td>\n",
        "      <td>     553.1562</td>\n",
        "      <td>     517.1855</td>\n",
        "      <td>     461.5058</td>\n",
        "      <td>     438.4412</td>\n",
        "      <td>     433.6677</td>\n",
        "      <td>     356.7903</td>\n",
        "      <td>     336.2389</td>\n",
        "      <td>     325.9536</td>\n",
        "      <td>      251.206</td>\n",
        "    </tr>\n",
        "  </tbody>\n",
        "</table>\n",
        "</div>"
       ],
       "metadata": {},
       "output_type": "pyout",
       "prompt_number": 24,
       "text": [
        "                489   \\\n",
        "msisdn  523131005847   \n",
        "mb          1132.653   \n",
        "\n",
        "                1356  \\\n",
        "msisdn  525564251532   \n",
        "mb          553.1562   \n",
        "\n",
        "                2962  \\\n",
        "msisdn  528713425924   \n",
        "mb          517.1855   \n",
        "\n",
        "                1160  \\\n",
        "msisdn  524891178171   \n",
        "mb          461.5058   \n",
        "\n",
        "                2197  \\\n",
        "msisdn  527442292021   \n",
        "mb          438.4412   \n",
        "\n",
        "                3644  \\\n",
        "msisdn  529931501974   \n",
        "mb          433.6677   \n",
        "\n",
        "                2083  \\\n",
        "msisdn  527224764215   \n",
        "mb          356.7903   \n",
        "\n",
        "                2288  \\\n",
        "msisdn  527574778420   \n",
        "mb          336.2389   \n",
        "\n",
        "                106   \\\n",
        "msisdn  522291374040   \n",
        "mb          325.9536   \n",
        "\n",
        "                2952  \n",
        "msisdn  528713303309  \n",
        "mb           251.206  "
       ]
      }
     ],
     "prompt_number": 24
    },
    {
     "cell_type": "code",
     "collapsed": false,
     "input": [
      "###save those users to file\n",
      "fn=_rootdir+'stats_per_msisdn.3gp.csv'\n",
      "top100[['mb','msisdn']].reset_index().drop('index',1).to_csv(fn)\n",
      "!head -n 5 {fn}"
     ],
     "language": "python",
     "metadata": {},
     "outputs": [
      {
       "output_type": "stream",
       "stream": "stdout",
       "text": [
        ",mb,msisdn\r\n",
        "0,1132.6531410217285,523131005847\r\n",
        "1,553.15618515014648,525564251532\r\n",
        "2,517.18551540374756,528713425924\r\n",
        "3,461.50575828552246,524891178171\r\n"
       ]
      }
     ],
     "prompt_number": 25
    },
    {
     "cell_type": "code",
     "collapsed": false,
     "input": [
      "!open {fn}"
     ],
     "language": "python",
     "metadata": {
      "run_control": {
       "breakpoint": false
      }
     },
     "outputs": [],
     "prompt_number": 26
    },
    {
     "cell_type": "markdown",
     "metadata": {},
     "source": [
      "##The 10 worst days of a user"
     ]
    },
    {
     "cell_type": "code",
     "collapsed": false,
     "input": [
      "top100[:5].msisdn"
     ],
     "language": "python",
     "metadata": {},
     "outputs": [
      {
       "metadata": {},
       "output_type": "pyout",
       "prompt_number": 27,
       "text": [
        "489     523131005847\n",
        "1356    525564251532\n",
        "2962    528713425924\n",
        "1160    524891178171\n",
        "2197    527442292021\n",
        "Name: msisdn, dtype: object"
       ]
      }
     ],
     "prompt_number": 27
    },
    {
     "cell_type": "code",
     "collapsed": false,
     "input": [
      "print 'top 100 users wasted %.2f MB in the period'%df[df.msisdn.isin(top100.msisdn.values)].b.sum()"
     ],
     "language": "python",
     "metadata": {
      "run_control": {
       "breakpoint": false
      }
     },
     "outputs": [
      {
       "output_type": "stream",
       "stream": "stdout",
       "text": [
        "top 100 users wasted 15150.17 MB in the period\n"
       ]
      }
     ],
     "prompt_number": 28
    },
    {
     "cell_type": "code",
     "collapsed": false,
     "input": [
      "user=top100[0:].msisdn.values[4]#'526681138874'\n",
      "print user\n",
      "df_d=df[df.msisdn==user].b.resample('1440t', how=['sum'])\n",
      "#df_d=df[df.msisdn=='528441732464'].b.resample('1440t', how=['sum'])\n",
      "df_d.sort(['sum'],ascending=False).head(10).T"
     ],
     "language": "python",
     "metadata": {},
     "outputs": [
      {
       "output_type": "stream",
       "stream": "stdout",
       "text": [
        "527442292021\n"
       ]
      },
      {
       "html": [
        "<div style=\"max-height:1000px;max-width:1500px;overflow:auto;\">\n",
        "<table border=\"1\" class=\"dataframe\">\n",
        "  <thead>\n",
        "    <tr style=\"text-align: right;\">\n",
        "      <th>time</th>\n",
        "      <th>2015-03-13 00:00:00</th>\n",
        "      <th>2015-03-14 00:00:00</th>\n",
        "    </tr>\n",
        "  </thead>\n",
        "  <tbody>\n",
        "    <tr>\n",
        "      <th>sum</th>\n",
        "      <td> 370.590673</td>\n",
        "      <td> 67.850552</td>\n",
        "    </tr>\n",
        "  </tbody>\n",
        "</table>\n",
        "</div>"
       ],
       "metadata": {},
       "output_type": "pyout",
       "prompt_number": 29,
       "text": [
        "time  2015-03-13  \\\n",
        "sum   370.590673   \n",
        "\n",
        "time  2015-03-14  \n",
        "sum    67.850552  "
       ]
      }
     ],
     "prompt_number": 29
    },
    {
     "cell_type": "code",
     "collapsed": false,
     "input": [
      "plt.plot(df_d)"
     ],
     "language": "python",
     "metadata": {},
     "outputs": [
      {
       "metadata": {},
       "output_type": "pyout",
       "prompt_number": 30,
       "text": [
        "[<matplotlib.lines.Line2D at 0x118aca290>]"
       ]
      },
      {
       "metadata": {},
       "output_type": "display_data",
       "png": "[encoded data removed]",
       "text": [
        "<matplotlib.figure.Figure at 0x10c3bb090>"
       ]
      }
     ],
     "prompt_number": 30
    },
    {
     "cell_type": "code",
     "collapsed": false,
     "input": [
      "user_traffic=df[df['msisdn']==user]\n",
      "print 'What user %s did'%(user)\n",
      "user_traffic.sort(['b'],ascending=False).head(10)"
     ],
     "language": "python",
     "metadata": {},
     "outputs": [
      {
       "output_type": "stream",
       "stream": "stdout",
       "text": [
        "What user 527442292021 did\n"
       ]
      },
      {
       "html": [
        "<div style=\"max-height:1000px;max-width:1500px;overflow:auto;\">\n",
        "<table border=\"1\" class=\"dataframe\">\n",
        "  <thead>\n",
        "    <tr style=\"text-align: right;\">\n",
        "      <th></th>\n",
        "      <th>status</th>\n",
        "      <th>b</th>\n",
        "      <th>%l</th>\n",
        "      <th>request</th>\n",
        "      <th>msisdn</th>\n",
        "    </tr>\n",
        "    <tr>\n",
        "      <th>time</th>\n",
        "      <th></th>\n",
        "      <th></th>\n",
        "      <th></th>\n",
        "      <th></th>\n",
        "      <th></th>\n",
        "    </tr>\n",
        "  </thead>\n",
        "  <tbody>\n",
        "    <tr>\n",
        "      <th>2015-03-13 22:22:45</th>\n",
        "      <td> 200</td>\n",
        "      <td> 33.925276</td>\n",
        "      <td> 187.216.232.37</td>\n",
        "      <td> GET /62701/59/96/12/92/00/1398395763.5843_Cgi9...</td>\n",
        "      <td> 527442292021</td>\n",
        "    </tr>\n",
        "    <tr>\n",
        "      <th>2015-03-13 22:26:24</th>\n",
        "      <td> 200</td>\n",
        "      <td> 33.925276</td>\n",
        "      <td> 187.216.232.37</td>\n",
        "      <td> GET /62701/59/96/12/92/00/1398395763.5843_Cgi9...</td>\n",
        "      <td> 527442292021</td>\n",
        "    </tr>\n",
        "    <tr>\n",
        "      <th>2015-03-13 22:26:29</th>\n",
        "      <td> 200</td>\n",
        "      <td> 33.925276</td>\n",
        "      <td> 187.216.232.37</td>\n",
        "      <td> GET /62701/59/96/12/92/00/1398395763.5843_Cgi9...</td>\n",
        "      <td> 527442292021</td>\n",
        "    </tr>\n",
        "    <tr>\n",
        "      <th>2015-03-13 22:26:38</th>\n",
        "      <td> 200</td>\n",
        "      <td> 33.925276</td>\n",
        "      <td> 187.216.232.37</td>\n",
        "      <td> GET /62701/59/96/12/92/00/1398395763.5843_Cgi9...</td>\n",
        "      <td> 527442292021</td>\n",
        "    </tr>\n",
        "    <tr>\n",
        "      <th>2015-03-13 22:26:44</th>\n",
        "      <td> 200</td>\n",
        "      <td> 33.925276</td>\n",
        "      <td> 187.216.232.37</td>\n",
        "      <td> GET /62701/59/96/12/92/00/1398395763.5843_Cgi9...</td>\n",
        "      <td> 527442292021</td>\n",
        "    </tr>\n",
        "    <tr>\n",
        "      <th>2015-03-13 22:26:50</th>\n",
        "      <td> 200</td>\n",
        "      <td> 33.925276</td>\n",
        "      <td> 187.216.232.37</td>\n",
        "      <td> GET /62701/59/96/12/92/00/1398395763.5843_Cgi9...</td>\n",
        "      <td> 527442292021</td>\n",
        "    </tr>\n",
        "    <tr>\n",
        "      <th>2015-03-13 22:26:57</th>\n",
        "      <td> 200</td>\n",
        "      <td> 33.925276</td>\n",
        "      <td> 187.216.232.37</td>\n",
        "      <td> GET /62701/59/96/12/92/00/1398395763.5843_Cgi9...</td>\n",
        "      <td> 527442292021</td>\n",
        "    </tr>\n",
        "    <tr>\n",
        "      <th>2015-03-13 22:27:10</th>\n",
        "      <td> 200</td>\n",
        "      <td> 33.925276</td>\n",
        "      <td> 187.216.232.37</td>\n",
        "      <td> GET /62701/59/96/12/92/00/1398395763.5843_Cgi9...</td>\n",
        "      <td> 527442292021</td>\n",
        "    </tr>\n",
        "    <tr>\n",
        "      <th>2015-03-13 22:27:45</th>\n",
        "      <td> 200</td>\n",
        "      <td> 33.925276</td>\n",
        "      <td> 187.216.232.37</td>\n",
        "      <td> GET /62701/59/96/12/92/00/1398395763.5843_Cgi9...</td>\n",
        "      <td> 527442292021</td>\n",
        "    </tr>\n",
        "    <tr>\n",
        "      <th>2015-03-13 22:29:10</th>\n",
        "      <td> 200</td>\n",
        "      <td> 33.925276</td>\n",
        "      <td> 187.216.232.37</td>\n",
        "      <td> GET /62701/59/96/12/92/00/1398395763.5843_Cgi9...</td>\n",
        "      <td> 527442292021</td>\n",
        "    </tr>\n",
        "  </tbody>\n",
        "</table>\n",
        "</div>"
       ],
       "metadata": {},
       "output_type": "pyout",
       "prompt_number": 31,
       "text": [
        "                     status  \\\n",
        "time                          \n",
        "2015-03-13 22:22:45     200   \n",
        "2015-03-13 22:26:24     200   \n",
        "2015-03-13 22:26:29     200   \n",
        "2015-03-13 22:26:38     200   \n",
        "2015-03-13 22:26:44     200   \n",
        "2015-03-13 22:26:50     200   \n",
        "2015-03-13 22:26:57     200   \n",
        "2015-03-13 22:27:10     200   \n",
        "2015-03-13 22:27:45     200   \n",
        "2015-03-13 22:29:10     200   \n",
        "\n",
        "                             b  \\\n",
        "time                             \n",
        "2015-03-13 22:22:45  33.925276   \n",
        "2015-03-13 22:26:24  33.925276   \n",
        "2015-03-13 22:26:29  33.925276   \n",
        "2015-03-13 22:26:38  33.925276   \n",
        "2015-03-13 22:26:44  33.925276   \n",
        "2015-03-13 22:26:50  33.925276   \n",
        "2015-03-13 22:26:57  33.925276   \n",
        "2015-03-13 22:27:10  33.925276   \n",
        "2015-03-13 22:27:45  33.925276   \n",
        "2015-03-13 22:29:10  33.925276   \n",
        "\n",
        "                                 %l  \\\n",
        "time                                  \n",
        "2015-03-13 22:22:45  187.216.232.37   \n",
        "2015-03-13 22:26:24  187.216.232.37   \n",
        "2015-03-13 22:26:29  187.216.232.37   \n",
        "2015-03-13 22:26:38  187.216.232.37   \n",
        "2015-03-13 22:26:44  187.216.232.37   \n",
        "2015-03-13 22:26:50  187.216.232.37   \n",
        "2015-03-13 22:26:57  187.216.232.37   \n",
        "2015-03-13 22:27:10  187.216.232.37   \n",
        "2015-03-13 22:27:45  187.216.232.37   \n",
        "2015-03-13 22:29:10  187.216.232.37   \n",
        "\n",
        "                                                               request  \\\n",
        "time                                                                     \n",
        "2015-03-13 22:22:45  GET /62701/59/96/12/92/00/1398395763.5843_Cgi9...   \n",
        "2015-03-13 22:26:24  GET /62701/59/96/12/92/00/1398395763.5843_Cgi9...   \n",
        "2015-03-13 22:26:29  GET /62701/59/96/12/92/00/1398395763.5843_Cgi9...   \n",
        "2015-03-13 22:26:38  GET /62701/59/96/12/92/00/1398395763.5843_Cgi9...   \n",
        "2015-03-13 22:26:44  GET /62701/59/96/12/92/00/1398395763.5843_Cgi9...   \n",
        "2015-03-13 22:26:50  GET /62701/59/96/12/92/00/1398395763.5843_Cgi9...   \n",
        "2015-03-13 22:26:57  GET /62701/59/96/12/92/00/1398395763.5843_Cgi9...   \n",
        "2015-03-13 22:27:10  GET /62701/59/96/12/92/00/1398395763.5843_Cgi9...   \n",
        "2015-03-13 22:27:45  GET /62701/59/96/12/92/00/1398395763.5843_Cgi9...   \n",
        "2015-03-13 22:29:10  GET /62701/59/96/12/92/00/1398395763.5843_Cgi9...   \n",
        "\n",
        "                           msisdn  \n",
        "time                               \n",
        "2015-03-13 22:22:45  527442292021  \n",
        "2015-03-13 22:26:24  527442292021  \n",
        "2015-03-13 22:26:29  527442292021  \n",
        "2015-03-13 22:26:38  527442292021  \n",
        "2015-03-13 22:26:44  527442292021  \n",
        "2015-03-13 22:26:50  527442292021  \n",
        "2015-03-13 22:26:57  527442292021  \n",
        "2015-03-13 22:27:10  527442292021  \n",
        "2015-03-13 22:27:45  527442292021  \n",
        "2015-03-13 22:29:10  527442292021  "
       ]
      }
     ],
     "prompt_number": 31
    },
    {
     "cell_type": "code",
     "collapsed": false,
     "input": [
      "user_traffic['request'].value_counts().head(10)"
     ],
     "language": "python",
     "metadata": {},
     "outputs": [
      {
       "metadata": {},
       "output_type": "pyout",
       "prompt_number": 32,
       "text": [
        "GET /62701/59/96/12/92/00/1398395763.5843_Cgi9oYGJMc4uLq_FoCAv3/3gp.3gp HTTP/1.1    12\n",
        "GET /62702/38/54/68/03/00/1399596131.5197_Fw2OXJd0kZb4Ti_tKOUgq/3gp.3gp HTTP/1.1     2\n",
        "GET /62701/90/68/57/82/00/1398087269.8571_w17hYK3D5TvMSA_UHpGF9/3gp.3gp HTTP/1.1     1\n",
        "GET /62702/89/00/09/32/00/1393959121.6758_SoCiDeufxANrls_tamxuM/3gp.3gp HTTP/1.1     1\n",
        "dtype: int64"
       ]
      }
     ],
     "prompt_number": 32
    },
    {
     "cell_type": "code",
     "collapsed": false,
     "input": [
      "root='http://fs01.plugger.com'\n",
      "\n",
      "d ={}\n",
      "\n",
      "for req in user_traffic['request'].head(20):\n",
      "    url=req.split(' ')[1]\n",
      "    d[url] = 1\n",
      "    \n",
      "for url in d.keys():\n",
      "    if url[-3:]=='3gp':\n",
      "        print root+url"
     ],
     "language": "python",
     "metadata": {},
     "outputs": [
      {
       "output_type": "stream",
       "stream": "stdout",
       "text": [
        "http://fs01.plugger.com/62701/59/96/12/92/00/1398395763.5843_Cgi9oYGJMc4uLq_FoCAv3/3gp.3gp\n",
        "http://fs01.plugger.com/62701/90/68/57/82/00/1398087269.8571_w17hYK3D5TvMSA_UHpGF9/3gp.3gp\n",
        "http://fs01.plugger.com/62702/89/00/09/32/00/1393959121.6758_SoCiDeufxANrls_tamxuM/3gp.3gp\n",
        "http://fs01.plugger.com/62702/38/54/68/03/00/1399596131.5197_Fw2OXJd0kZb4Ti_tKOUgq/3gp.3gp\n"
       ]
      }
     ],
     "prompt_number": 33
    },
    {
     "cell_type": "markdown",
     "metadata": {},
     "source": [
      "##Group the df by requests (i.e., URL) so that we can make stats on them"
     ]
    },
    {
     "cell_type": "code",
     "collapsed": false,
     "input": [
      "t=df.groupby(['request'])#,'status'])\n",
      "t#.resample('1440t')#['b']"
     ],
     "language": "python",
     "metadata": {
      "run_control": {
       "breakpoint": false
      }
     },
     "outputs": [
      {
       "metadata": {},
       "output_type": "pyout",
       "prompt_number": 34,
       "text": [
        "<pandas.core.groupby.DataFrameGroupBy object at 0x118c58590>"
       ]
      }
     ],
     "prompt_number": 34
    },
    {
     "cell_type": "code",
     "collapsed": false,
     "input": [
      "parts = []\n",
      "\n",
      "for k,v in t:\n",
      "    x=[k,v['b'][0],v['b'].sum(),v['b'].count(),len(v['msisdn'].unique())]\n",
      "#    x=v[['T']].describe().T#[['mean','std']]\n",
      "#    x['area'] = k\n",
      "    parts.append(pd.DataFrame(x).T)\n",
      "stats_per_request = pd.concat(parts)"
     ],
     "language": "python",
     "metadata": {},
     "outputs": [],
     "prompt_number": 35
    },
    {
     "cell_type": "markdown",
     "metadata": {},
     "source": [
      "###Define the columns of stats_per_request"
     ]
    },
    {
     "cell_type": "code",
     "collapsed": false,
     "input": [
      "#pd.set_option('display.max_colwidth',1000)\n",
      "stats_per_request.columns=['request','size','mb','count','users']#,'time']\n",
      "stats_per_request['hash']=stats_per_request.request.apply(lambda x: x.split(' ')[1].split('/3gp.3gp')[0][7:])\n",
      "#stats_per_request['s'] = stats_per_request['mb']/stats_per_request['count']"
     ],
     "language": "python",
     "metadata": {},
     "outputs": [],
     "prompt_number": 36
    },
    {
     "cell_type": "markdown",
     "metadata": {},
     "source": [
      "###reset the index, sort by mb"
     ]
    },
    {
     "cell_type": "code",
     "collapsed": false,
     "input": [
      "stats_per_request=stats_per_request.reset_index().drop('index',1)\n",
      "stats_per_request.sort(['mb'],ascending=False,inplace=True)\n",
      "stats_per_request.head(10)"
     ],
     "language": "python",
     "metadata": {},
     "outputs": [
      {
       "html": [
        "<div style=\"max-height:1000px;max-width:1500px;overflow:auto;\">\n",
        "<table border=\"1\" class=\"dataframe\">\n",
        "  <thead>\n",
        "    <tr style=\"text-align: right;\">\n",
        "      <th></th>\n",
        "      <th>request</th>\n",
        "      <th>size</th>\n",
        "      <th>mb</th>\n",
        "      <th>count</th>\n",
        "      <th>users</th>\n",
        "      <th>hash</th>\n",
        "    </tr>\n",
        "  </thead>\n",
        "  <tbody>\n",
        "    <tr>\n",
        "      <th>2624</th>\n",
        "      <td> GET /62702/62/25/84/13/00/1400061264.9472_jwTR...</td>\n",
        "      <td>  10.8488</td>\n",
        "      <td> 2419.283</td>\n",
        "      <td> 223</td>\n",
        "      <td> 113</td>\n",
        "      <td> 62/25/84/13/00/1400061264.9472_jwTRa15yg9PKV3_...</td>\n",
        "    </tr>\n",
        "    <tr>\n",
        "      <th>1782</th>\n",
        "      <td> GET /62702/05/93/48/82/00/1398135597.9576_B0ES...</td>\n",
        "      <td> 33.02556</td>\n",
        "      <td> 2253.051</td>\n",
        "      <td>  69</td>\n",
        "      <td>  48</td>\n",
        "      <td> 05/93/48/82/00/1398135597.9576_B0ES9LjzGrwby6_...</td>\n",
        "    </tr>\n",
        "    <tr>\n",
        "      <th>2800</th>\n",
        "      <td> GET /62702/74/31/66/13/00/1400187994.3769_SEjd...</td>\n",
        "      <td> 26.34077</td>\n",
        "      <td> 2186.284</td>\n",
        "      <td>  83</td>\n",
        "      <td>  12</td>\n",
        "      <td> 74/31/66/13/00/1400187994.3769_SEjd3nmPq4fo6D_...</td>\n",
        "    </tr>\n",
        "    <tr>\n",
        "      <th>3001</th>\n",
        "      <td> GET /62702/87/06/38/03/00/1399580769.9351_rjTq...</td>\n",
        "      <td> 11.50567</td>\n",
        "      <td> 1932.952</td>\n",
        "      <td> 168</td>\n",
        "      <td>  73</td>\n",
        "      <td> 87/06/38/03/00/1399580769.9351_rjTqINytOV2FzB_...</td>\n",
        "    </tr>\n",
        "    <tr>\n",
        "      <th>628 </th>\n",
        "      <td> GET /62701/39/09/57/82/00/1398087710.8692_S29f...</td>\n",
        "      <td> 14.07444</td>\n",
        "      <td> 1773.379</td>\n",
        "      <td> 126</td>\n",
        "      <td>  71</td>\n",
        "      <td> 39/09/57/82/00/1398087710.8692_S29faQHd0LsF3O_...</td>\n",
        "    </tr>\n",
        "    <tr>\n",
        "      <th>2037</th>\n",
        "      <td> GET /62702/22/84/90/03/00/1399048239.8004_NV8j...</td>\n",
        "      <td> 4.968384</td>\n",
        "      <td> 1714.092</td>\n",
        "      <td> 345</td>\n",
        "      <td> 219</td>\n",
        "      <td> 22/84/90/03/00/1399048239.8004_NV8jXWDzuboIq7_...</td>\n",
        "    </tr>\n",
        "    <tr>\n",
        "      <th>1254</th>\n",
        "      <td> GET /62701/74/54/57/82/00/1398082370.5102_Fzfr...</td>\n",
        "      <td>   11.178</td>\n",
        "      <td> 1374.894</td>\n",
        "      <td> 123</td>\n",
        "      <td>  78</td>\n",
        "      <td> 74/54/57/82/00/1398082370.5102_FzfrUB658KJ3ap_...</td>\n",
        "    </tr>\n",
        "    <tr>\n",
        "      <th>1036</th>\n",
        "      <td> GET /62701/62/46/73/03/00/1399236946.0298_sILF...</td>\n",
        "      <td> 4.948116</td>\n",
        "      <td> 1306.303</td>\n",
        "      <td> 264</td>\n",
        "      <td> 180</td>\n",
        "      <td> 62/46/73/03/00/1399236946.0298_sILFzPTjvNxa3G_...</td>\n",
        "    </tr>\n",
        "    <tr>\n",
        "      <th>3098</th>\n",
        "      <td> GET /62702/94/10/78/82/00/1398158589.2215_qLdY...</td>\n",
        "      <td> 33.89265</td>\n",
        "      <td> 1186.243</td>\n",
        "      <td>  35</td>\n",
        "      <td>  18</td>\n",
        "      <td> 94/10/78/82/00/1398158589.2215_qLdY2mgCD3Vvw4_...</td>\n",
        "    </tr>\n",
        "    <tr>\n",
        "      <th>45  </th>\n",
        "      <td> GET /62701/02/82/48/03/00/1399584331.0835_2pot...</td>\n",
        "      <td> 12.30311</td>\n",
        "      <td> 1082.674</td>\n",
        "      <td>  88</td>\n",
        "      <td>  26</td>\n",
        "      <td> 02/82/48/03/00/1399584331.0835_2potnxAh9PJ8Ki_...</td>\n",
        "    </tr>\n",
        "  </tbody>\n",
        "</table>\n",
        "</div>"
       ],
       "metadata": {},
       "output_type": "pyout",
       "prompt_number": 37,
       "text": [
        "                                                request  \\\n",
        "2624  GET /62702/62/25/84/13/00/1400061264.9472_jwTR...   \n",
        "1782  GET /62702/05/93/48/82/00/1398135597.9576_B0ES...   \n",
        "2800  GET /62702/74/31/66/13/00/1400187994.3769_SEjd...   \n",
        "3001  GET /62702/87/06/38/03/00/1399580769.9351_rjTq...   \n",
        "628   GET /62701/39/09/57/82/00/1398087710.8692_S29f...   \n",
        "2037  GET /62702/22/84/90/03/00/1399048239.8004_NV8j...   \n",
        "1254  GET /62701/74/54/57/82/00/1398082370.5102_Fzfr...   \n",
        "1036  GET /62701/62/46/73/03/00/1399236946.0298_sILF...   \n",
        "3098  GET /62702/94/10/78/82/00/1398158589.2215_qLdY...   \n",
        "45    GET /62701/02/82/48/03/00/1399584331.0835_2pot...   \n",
        "\n",
        "          size  \\\n",
        "2624   10.8488   \n",
        "1782  33.02556   \n",
        "2800  26.34077   \n",
        "3001  11.50567   \n",
        "628   14.07444   \n",
        "2037  4.968384   \n",
        "1254    11.178   \n",
        "1036  4.948116   \n",
        "3098  33.89265   \n",
        "45    12.30311   \n",
        "\n",
        "            mb  \\\n",
        "2624  2419.283   \n",
        "1782  2253.051   \n",
        "2800  2186.284   \n",
        "3001  1932.952   \n",
        "628   1773.379   \n",
        "2037  1714.092   \n",
        "1254  1374.894   \n",
        "1036  1306.303   \n",
        "3098  1186.243   \n",
        "45    1082.674   \n",
        "\n",
        "     count  \\\n",
        "2624   223   \n",
        "1782    69   \n",
        "2800    83   \n",
        "3001   168   \n",
        "628    126   \n",
        "2037   345   \n",
        "1254   123   \n",
        "1036   264   \n",
        "3098    35   \n",
        "45      88   \n",
        "\n",
        "     users  \\\n",
        "2624   113   \n",
        "1782    48   \n",
        "2800    12   \n",
        "3001    73   \n",
        "628     71   \n",
        "2037   219   \n",
        "1254    78   \n",
        "1036   180   \n",
        "3098    18   \n",
        "45      26   \n",
        "\n",
        "                                                   hash  \n",
        "2624  62/25/84/13/00/1400061264.9472_jwTRa15yg9PKV3_...  \n",
        "1782  05/93/48/82/00/1398135597.9576_B0ES9LjzGrwby6_...  \n",
        "2800  74/31/66/13/00/1400187994.3769_SEjd3nmPq4fo6D_...  \n",
        "3001  87/06/38/03/00/1399580769.9351_rjTqINytOV2FzB_...  \n",
        "628   39/09/57/82/00/1398087710.8692_S29faQHd0LsF3O_...  \n",
        "2037  22/84/90/03/00/1399048239.8004_NV8jXWDzuboIq7_...  \n",
        "1254  74/54/57/82/00/1398082370.5102_FzfrUB658KJ3ap_...  \n",
        "1036  62/46/73/03/00/1399236946.0298_sILFzPTjvNxa3G_...  \n",
        "3098  94/10/78/82/00/1398158589.2215_qLdY2mgCD3Vvw4_...  \n",
        "45    02/82/48/03/00/1399584331.0835_2potnxAh9PJ8Ki_...  "
       ]
      }
     ],
     "prompt_number": 37
    },
    {
     "cell_type": "markdown",
     "metadata": {},
     "source": [
      "### Populate df_content with a subset of the attributes taken from the content table in the DB"
     ]
    },
    {
     "cell_type": "code",
     "collapsed": false,
     "input": [
      "zzcontent_fn=_rootdir+'data/zzcontent'\n",
      "#!head {zzcontent_fn}\n",
      "#df_content=0 # uncomment this line to reload the content_df\n",
      "try:\n",
      "    print df_content.content_id.count()\n",
      "except:\n",
      "    df_content=pd.read_csv(zzcontent_fn,\n",
      "                 sep='\\t',\n",
      "#                 encoding='utf-8',\n",
      "                 header=1, names=['content_id','user_id','time','size','state','disk_usage','no_comments ','mime','type','title','hash','oid']\n",
      "                 )\n",
      "\n",
      "#    df_content['user_id']=df_content['user_id'].astype(str)\n",
      "    df_content.hash = df_content.hash.apply(lambda x: str(x).strip()[:32])\n",
      "    print\n",
      "    print df_content.content_id.count()\n",
      "#    df_content.set_index('hash',inplace=True)\n",
      "\n",
      "    df_content=df_content.dropna()\n",
      "\n",
      "    df_content['user_id'] = df_content.user_id.astype('int') \n",
      "    df_content['content_id'] = df_content.content_id.astype('int')\n",
      "    df_content['title'] = df_content.content_id.astype('str')"
     ],
     "language": "python",
     "metadata": {
      "run_control": {
       "breakpoint": false
      }
     },
     "outputs": [
      {
       "output_type": "stream",
       "stream": "stdout",
       "text": [
        "\n",
        "998293\n"
       ]
      },
      {
       "output_type": "stream",
       "stream": "stderr",
       "text": [
        "/Users/nicolas/anaconda/lib/python2.7/site-packages/pandas/io/parsers.py:1159: DtypeWarning: Columns (0,1) have mixed types. Specify dtype option on import or set low_memory=False.\n",
        "  data = self._reader.read(nrows)\n"
       ]
      }
     ],
     "prompt_number": 38
    },
    {
     "cell_type": "code",
     "collapsed": false,
     "input": [
      "df_content.info()"
     ],
     "language": "python",
     "metadata": {
      "run_control": {
       "breakpoint": false
      }
     },
     "outputs": [
      {
       "output_type": "stream",
       "stream": "stdout",
       "text": [
        "<class 'pandas.core.frame.DataFrame'>\n",
        "Int64Index: 994365 entries, 0 to 998328\n",
        "Data columns (total 12 columns):\n",
        "content_id      994365 non-null int64\n",
        "user_id         994365 non-null int64\n",
        "time            994365 non-null object\n",
        "size            994365 non-null float64\n",
        "state           994365 non-null float64\n",
        "disk_usage      994365 non-null float64\n",
        "no_comments     994365 non-null float64\n",
        "mime            994365 non-null object\n",
        "type            994365 non-null float64\n",
        "title           994365 non-null object\n",
        "hash            994365 non-null object\n",
        "oid             994365 non-null float64\n",
        "dtypes: float64(6), int64(2), object(4)\n",
        "memory usage: 98.6+ MB\n"
       ]
      }
     ],
     "prompt_number": 39
    },
    {
     "cell_type": "markdown",
     "metadata": {},
     "source": [
      "###transform the request column into a url"
     ]
    },
    {
     "cell_type": "code",
     "collapsed": false,
     "input": [
      "stats_per_request.head()"
     ],
     "language": "python",
     "metadata": {
      "run_control": {
       "breakpoint": false
      }
     },
     "outputs": [
      {
       "html": [
        "<div style=\"max-height:1000px;max-width:1500px;overflow:auto;\">\n",
        "<table border=\"1\" class=\"dataframe\">\n",
        "  <thead>\n",
        "    <tr style=\"text-align: right;\">\n",
        "      <th></th>\n",
        "      <th>request</th>\n",
        "      <th>size</th>\n",
        "      <th>mb</th>\n",
        "      <th>count</th>\n",
        "      <th>users</th>\n",
        "      <th>hash</th>\n",
        "    </tr>\n",
        "  </thead>\n",
        "  <tbody>\n",
        "    <tr>\n",
        "      <th>2624</th>\n",
        "      <td> GET /62702/62/25/84/13/00/1400061264.9472_jwTR...</td>\n",
        "      <td>  10.8488</td>\n",
        "      <td> 2419.283</td>\n",
        "      <td> 223</td>\n",
        "      <td> 113</td>\n",
        "      <td> 62/25/84/13/00/1400061264.9472_jwTRa15yg9PKV3_...</td>\n",
        "    </tr>\n",
        "    <tr>\n",
        "      <th>1782</th>\n",
        "      <td> GET /62702/05/93/48/82/00/1398135597.9576_B0ES...</td>\n",
        "      <td> 33.02556</td>\n",
        "      <td> 2253.051</td>\n",
        "      <td>  69</td>\n",
        "      <td>  48</td>\n",
        "      <td> 05/93/48/82/00/1398135597.9576_B0ES9LjzGrwby6_...</td>\n",
        "    </tr>\n",
        "    <tr>\n",
        "      <th>2800</th>\n",
        "      <td> GET /62702/74/31/66/13/00/1400187994.3769_SEjd...</td>\n",
        "      <td> 26.34077</td>\n",
        "      <td> 2186.284</td>\n",
        "      <td>  83</td>\n",
        "      <td>  12</td>\n",
        "      <td> 74/31/66/13/00/1400187994.3769_SEjd3nmPq4fo6D_...</td>\n",
        "    </tr>\n",
        "    <tr>\n",
        "      <th>3001</th>\n",
        "      <td> GET /62702/87/06/38/03/00/1399580769.9351_rjTq...</td>\n",
        "      <td> 11.50567</td>\n",
        "      <td> 1932.952</td>\n",
        "      <td> 168</td>\n",
        "      <td>  73</td>\n",
        "      <td> 87/06/38/03/00/1399580769.9351_rjTqINytOV2FzB_...</td>\n",
        "    </tr>\n",
        "    <tr>\n",
        "      <th>628 </th>\n",
        "      <td> GET /62701/39/09/57/82/00/1398087710.8692_S29f...</td>\n",
        "      <td> 14.07444</td>\n",
        "      <td> 1773.379</td>\n",
        "      <td> 126</td>\n",
        "      <td>  71</td>\n",
        "      <td> 39/09/57/82/00/1398087710.8692_S29faQHd0LsF3O_...</td>\n",
        "    </tr>\n",
        "  </tbody>\n",
        "</table>\n",
        "</div>"
       ],
       "metadata": {},
       "output_type": "pyout",
       "prompt_number": 40,
       "text": [
        "                                                request  \\\n",
        "2624  GET /62702/62/25/84/13/00/1400061264.9472_jwTR...   \n",
        "1782  GET /62702/05/93/48/82/00/1398135597.9576_B0ES...   \n",
        "2800  GET /62702/74/31/66/13/00/1400187994.3769_SEjd...   \n",
        "3001  GET /62702/87/06/38/03/00/1399580769.9351_rjTq...   \n",
        "628   GET /62701/39/09/57/82/00/1398087710.8692_S29f...   \n",
        "\n",
        "          size  \\\n",
        "2624   10.8488   \n",
        "1782  33.02556   \n",
        "2800  26.34077   \n",
        "3001  11.50567   \n",
        "628   14.07444   \n",
        "\n",
        "            mb  \\\n",
        "2624  2419.283   \n",
        "1782  2253.051   \n",
        "2800  2186.284   \n",
        "3001  1932.952   \n",
        "628   1773.379   \n",
        "\n",
        "     count  \\\n",
        "2624   223   \n",
        "1782    69   \n",
        "2800    83   \n",
        "3001   168   \n",
        "628    126   \n",
        "\n",
        "     users  \\\n",
        "2624   113   \n",
        "1782    48   \n",
        "2800    12   \n",
        "3001    73   \n",
        "628     71   \n",
        "\n",
        "                                                   hash  \n",
        "2624  62/25/84/13/00/1400061264.9472_jwTRa15yg9PKV3_...  \n",
        "1782  05/93/48/82/00/1398135597.9576_B0ES9LjzGrwby6_...  \n",
        "2800  74/31/66/13/00/1400187994.3769_SEjd3nmPq4fo6D_...  \n",
        "3001  87/06/38/03/00/1399580769.9351_rjTqINytOV2FzB_...  \n",
        "628   39/09/57/82/00/1398087710.8692_S29faQHd0LsF3O_...  "
       ]
      }
     ],
     "prompt_number": 40
    },
    {
     "cell_type": "code",
     "collapsed": false,
     "input": [
      "root='http://fs01.plugger.com'\n",
      "lo=len('68/23/30/00/00/1293842970_3eso9f')\n",
      "\n",
      "#stats_per_request.set_index('hash',inplace=True)\n",
      "try:\n",
      "    stats_per_request['request']=stats_per_request.request.apply(lambda x: root+x.split(' ')[1])\n",
      "    stats_per_request.head(3)\n",
      "except IndexError as e:\n",
      "    print e\n",
      "    pass"
     ],
     "language": "python",
     "metadata": {},
     "outputs": [],
     "prompt_number": 41
    },
    {
     "cell_type": "code",
     "collapsed": false,
     "input": [
      "report=stats_per_request.sort(['mb'],ascending=False).copy()\n",
      "report.head(3)"
     ],
     "language": "python",
     "metadata": {
      "run_control": {
       "breakpoint": false
      }
     },
     "outputs": [
      {
       "html": [
        "<div style=\"max-height:1000px;max-width:1500px;overflow:auto;\">\n",
        "<table border=\"1\" class=\"dataframe\">\n",
        "  <thead>\n",
        "    <tr style=\"text-align: right;\">\n",
        "      <th></th>\n",
        "      <th>request</th>\n",
        "      <th>size</th>\n",
        "      <th>mb</th>\n",
        "      <th>count</th>\n",
        "      <th>users</th>\n",
        "      <th>hash</th>\n",
        "    </tr>\n",
        "  </thead>\n",
        "  <tbody>\n",
        "    <tr>\n",
        "      <th>2624</th>\n",
        "      <td> http://fs01.plugger.com/62702/62/25/84/13/00/1...</td>\n",
        "      <td>  10.8488</td>\n",
        "      <td> 2419.283</td>\n",
        "      <td> 223</td>\n",
        "      <td> 113</td>\n",
        "      <td> 62/25/84/13/00/1400061264.9472_jwTRa15yg9PKV3_...</td>\n",
        "    </tr>\n",
        "    <tr>\n",
        "      <th>1782</th>\n",
        "      <td> http://fs01.plugger.com/62702/05/93/48/82/00/1...</td>\n",
        "      <td> 33.02556</td>\n",
        "      <td> 2253.051</td>\n",
        "      <td>  69</td>\n",
        "      <td>  48</td>\n",
        "      <td> 05/93/48/82/00/1398135597.9576_B0ES9LjzGrwby6_...</td>\n",
        "    </tr>\n",
        "    <tr>\n",
        "      <th>2800</th>\n",
        "      <td> http://fs01.plugger.com/62702/74/31/66/13/00/1...</td>\n",
        "      <td> 26.34077</td>\n",
        "      <td> 2186.284</td>\n",
        "      <td>  83</td>\n",
        "      <td>  12</td>\n",
        "      <td> 74/31/66/13/00/1400187994.3769_SEjd3nmPq4fo6D_...</td>\n",
        "    </tr>\n",
        "  </tbody>\n",
        "</table>\n",
        "</div>"
       ],
       "metadata": {},
       "output_type": "pyout",
       "prompt_number": 78,
       "text": [
        "                                                request  \\\n",
        "2624  http://fs01.plugger.com/62702/62/25/84/13/00/1...   \n",
        "1782  http://fs01.plugger.com/62702/05/93/48/82/00/1...   \n",
        "2800  http://fs01.plugger.com/62702/74/31/66/13/00/1...   \n",
        "\n",
        "          size  \\\n",
        "2624   10.8488   \n",
        "1782  33.02556   \n",
        "2800  26.34077   \n",
        "\n",
        "            mb  \\\n",
        "2624  2419.283   \n",
        "1782  2253.051   \n",
        "2800  2186.284   \n",
        "\n",
        "     count  \\\n",
        "2624   223   \n",
        "1782    69   \n",
        "2800    83   \n",
        "\n",
        "     users  \\\n",
        "2624   113   \n",
        "1782    48   \n",
        "2800    12   \n",
        "\n",
        "                                                   hash  \n",
        "2624  62/25/84/13/00/1400061264.9472_jwTRa15yg9PKV3_...  \n",
        "1782  05/93/48/82/00/1398135597.9576_B0ES9LjzGrwby6_...  \n",
        "2800  74/31/66/13/00/1400187994.3769_SEjd3nmPq4fo6D_...  "
       ]
      }
     ],
     "prompt_number": 78
    },
    {
     "cell_type": "code",
     "collapsed": false,
     "input": [
      "a = np.arange(10,110,10)\n",
      "a\n",
      "sns.percentiles(report.size,a) #report.size"
     ],
     "language": "python",
     "metadata": {
      "run_control": {
       "breakpoint": false
      }
     },
     "outputs": [
      {
       "metadata": {},
       "output_type": "pyout",
       "prompt_number": 79,
       "text": [
        "array([ 19290.,  19290.,  19290.,  19290.,  19290.,  19290.,  19290.,\n",
        "        19290.,  19290.,  19290.])"
       ]
      }
     ],
     "prompt_number": 79
    },
    {
     "cell_type": "code",
     "collapsed": false,
     "input": [
      "report['_hash']=report['hash']\n",
      "report['hash']=report.hash.apply(lambda x: x[:32])\n",
      "m=df_content[['hash','content_id']].dropna()\n",
      "report=report.merge(m)#, left_index=True,right_index=True)\n",
      "report.sort(['mb'],ascending=False, inplace=True)\n",
      "report.head(10)"
     ],
     "language": "python",
     "metadata": {
      "run_control": {
       "breakpoint": false
      }
     },
     "outputs": [
      {
       "html": [
        "<div style=\"max-height:1000px;max-width:1500px;overflow:auto;\">\n",
        "<table border=\"1\" class=\"dataframe\">\n",
        "  <thead>\n",
        "    <tr style=\"text-align: right;\">\n",
        "      <th></th>\n",
        "      <th>request</th>\n",
        "      <th>size</th>\n",
        "      <th>mb</th>\n",
        "      <th>count</th>\n",
        "      <th>users</th>\n",
        "      <th>hash</th>\n",
        "      <th>_hash</th>\n",
        "      <th>content_id</th>\n",
        "    </tr>\n",
        "  </thead>\n",
        "  <tbody>\n",
        "    <tr>\n",
        "      <th>0</th>\n",
        "      <td> http://fs01.plugger.com/62702/49/31/32/92/00/1...</td>\n",
        "      <td> 22.83691</td>\n",
        "      <td> 707.9443</td>\n",
        "      <td> 31</td>\n",
        "      <td>  9</td>\n",
        "      <td> 49/31/32/92/00/1398410675.9154_z</td>\n",
        "      <td> 49/31/32/92/00/1398410675.9154_z6Ma1jqA2oHl08_...</td>\n",
        "      <td> 29231394</td>\n",
        "    </tr>\n",
        "    <tr>\n",
        "      <th>1</th>\n",
        "      <td> http://fs01.plugger.com/62702/94/28/10/81/00/1...</td>\n",
        "      <td> 513.4909</td>\n",
        "      <td> 513.4909</td>\n",
        "      <td>  1</td>\n",
        "      <td>  1</td>\n",
        "      <td> 94/28/10/81/00/1387636020.2404_d</td>\n",
        "      <td> 94/28/10/81/00/1387636020.2404_diMaUHrZm1whs7_...</td>\n",
        "      <td> 18018249</td>\n",
        "    </tr>\n",
        "    <tr>\n",
        "      <th>2</th>\n",
        "      <td> http://fs01.plugger.com/62702/44/95/81/72/00/1...</td>\n",
        "      <td>  9.32976</td>\n",
        "      <td> 447.8285</td>\n",
        "      <td> 48</td>\n",
        "      <td> 39</td>\n",
        "      <td> 44/95/81/72/00/1396794463.1298_4</td>\n",
        "      <td> 44/95/81/72/00/1396794463.1298_4pwCDQMyW5hsoa_...</td>\n",
        "      <td> 27185944</td>\n",
        "    </tr>\n",
        "    <tr>\n",
        "      <th>3</th>\n",
        "      <td> http://fs01.plugger.com/62701/53/83/84/82/00/1...</td>\n",
        "      <td> 13.30605</td>\n",
        "      <td> 306.0391</td>\n",
        "      <td> 23</td>\n",
        "      <td> 10</td>\n",
        "      <td> 53/83/84/82/00/1397822512.2433_Q</td>\n",
        "      <td> 53/83/84/82/00/1397822512.2433_Qk0d6OKJvxzptr_...</td>\n",
        "      <td> 28483835</td>\n",
        "    </tr>\n",
        "    <tr>\n",
        "      <th>4</th>\n",
        "      <td> http://fs01.plugger.com/62701/35/47/21/23/00/1...</td>\n",
        "      <td> 6.013476</td>\n",
        "      <td> 258.5795</td>\n",
        "      <td> 43</td>\n",
        "      <td> 29</td>\n",
        "      <td> 35/47/21/23/00/1400505906.2015_p</td>\n",
        "      <td> 35/47/21/23/00/1400505906.2015_pX4gNOvKF3B9ZY_...</td>\n",
        "      <td> 32127453</td>\n",
        "    </tr>\n",
        "    <tr>\n",
        "      <th>5</th>\n",
        "      <td> http://fs01.plugger.com/62702/74/39/46/42/00/1...</td>\n",
        "      <td> 4.959658</td>\n",
        "      <td> 243.0232</td>\n",
        "      <td> 49</td>\n",
        "      <td> 38</td>\n",
        "      <td> 74/39/46/42/00/1394648222.5859_o</td>\n",
        "      <td> 74/39/46/42/00/1394648222.5859_oKj7WFQAp2hBv1_...</td>\n",
        "      <td> 24649347</td>\n",
        "    </tr>\n",
        "    <tr>\n",
        "      <th>6</th>\n",
        "      <td> http://fs01.plugger.com/62701/07/35/77/82/00/1...</td>\n",
        "      <td> 18.41398</td>\n",
        "      <td> 220.9678</td>\n",
        "      <td> 12</td>\n",
        "      <td>  1</td>\n",
        "      <td> 07/35/77/82/00/1398098561.0476_m</td>\n",
        "      <td> 07/35/77/82/00/1398098561.0476_mQiUAoeyz713sX_...</td>\n",
        "      <td> 28775370</td>\n",
        "    </tr>\n",
        "    <tr>\n",
        "      <th>7</th>\n",
        "      <td> http://fs01.plugger.com/62701/16/26/49/62/00/1...</td>\n",
        "      <td> 9.149655</td>\n",
        "      <td> 219.5917</td>\n",
        "      <td> 24</td>\n",
        "      <td>  4</td>\n",
        "      <td> 16/26/49/62/00/1396597976.6268_r</td>\n",
        "      <td> 16/26/49/62/00/1396597976.6268_rbptFT0ZM6yKfi_...</td>\n",
        "      <td> 26946261</td>\n",
        "    </tr>\n",
        "    <tr>\n",
        "      <th>8</th>\n",
        "      <td> http://fs01.plugger.com/62702/98/73/10/22/00/1...</td>\n",
        "      <td> 54.60453</td>\n",
        "      <td> 218.4181</td>\n",
        "      <td>  4</td>\n",
        "      <td>  2</td>\n",
        "      <td> 98/73/10/22/00/1392201373.4578_R</td>\n",
        "      <td> 98/73/10/22/00/1392201373.4578_RekbyIgHnUAKSD_...</td>\n",
        "      <td> 22013789</td>\n",
        "    </tr>\n",
        "    <tr>\n",
        "      <th>9</th>\n",
        "      <td> http://fs01.plugger.com/62701/22/29/66/13/00/1...</td>\n",
        "      <td> 6.051723</td>\n",
        "      <td> 211.8103</td>\n",
        "      <td> 35</td>\n",
        "      <td> 26</td>\n",
        "      <td> 22/29/66/13/00/1400191745.8513_p</td>\n",
        "      <td> 22/29/66/13/00/1400191745.8513_pDRtJnNEz86lgM_...</td>\n",
        "      <td> 31669222</td>\n",
        "    </tr>\n",
        "  </tbody>\n",
        "</table>\n",
        "</div>"
       ],
       "metadata": {},
       "output_type": "pyout",
       "prompt_number": 80,
       "text": [
        "                                             request  \\\n",
        "0  http://fs01.plugger.com/62702/49/31/32/92/00/1...   \n",
        "1  http://fs01.plugger.com/62702/94/28/10/81/00/1...   \n",
        "2  http://fs01.plugger.com/62702/44/95/81/72/00/1...   \n",
        "3  http://fs01.plugger.com/62701/53/83/84/82/00/1...   \n",
        "4  http://fs01.plugger.com/62701/35/47/21/23/00/1...   \n",
        "5  http://fs01.plugger.com/62702/74/39/46/42/00/1...   \n",
        "6  http://fs01.plugger.com/62701/07/35/77/82/00/1...   \n",
        "7  http://fs01.plugger.com/62701/16/26/49/62/00/1...   \n",
        "8  http://fs01.plugger.com/62702/98/73/10/22/00/1...   \n",
        "9  http://fs01.plugger.com/62701/22/29/66/13/00/1...   \n",
        "\n",
        "       size  \\\n",
        "0  22.83691   \n",
        "1  513.4909   \n",
        "2   9.32976   \n",
        "3  13.30605   \n",
        "4  6.013476   \n",
        "5  4.959658   \n",
        "6  18.41398   \n",
        "7  9.149655   \n",
        "8  54.60453   \n",
        "9  6.051723   \n",
        "\n",
        "         mb  \\\n",
        "0  707.9443   \n",
        "1  513.4909   \n",
        "2  447.8285   \n",
        "3  306.0391   \n",
        "4  258.5795   \n",
        "5  243.0232   \n",
        "6  220.9678   \n",
        "7  219.5917   \n",
        "8  218.4181   \n",
        "9  211.8103   \n",
        "\n",
        "  count  \\\n",
        "0    31   \n",
        "1     1   \n",
        "2    48   \n",
        "3    23   \n",
        "4    43   \n",
        "5    49   \n",
        "6    12   \n",
        "7    24   \n",
        "8     4   \n",
        "9    35   \n",
        "\n",
        "  users  \\\n",
        "0     9   \n",
        "1     1   \n",
        "2    39   \n",
        "3    10   \n",
        "4    29   \n",
        "5    38   \n",
        "6     1   \n",
        "7     4   \n",
        "8     2   \n",
        "9    26   \n",
        "\n",
        "                               hash  \\\n",
        "0  49/31/32/92/00/1398410675.9154_z   \n",
        "1  94/28/10/81/00/1387636020.2404_d   \n",
        "2  44/95/81/72/00/1396794463.1298_4   \n",
        "3  53/83/84/82/00/1397822512.2433_Q   \n",
        "4  35/47/21/23/00/1400505906.2015_p   \n",
        "5  74/39/46/42/00/1394648222.5859_o   \n",
        "6  07/35/77/82/00/1398098561.0476_m   \n",
        "7  16/26/49/62/00/1396597976.6268_r   \n",
        "8  98/73/10/22/00/1392201373.4578_R   \n",
        "9  22/29/66/13/00/1400191745.8513_p   \n",
        "\n",
        "                                               _hash  \\\n",
        "0  49/31/32/92/00/1398410675.9154_z6Ma1jqA2oHl08_...   \n",
        "1  94/28/10/81/00/1387636020.2404_diMaUHrZm1whs7_...   \n",
        "2  44/95/81/72/00/1396794463.1298_4pwCDQMyW5hsoa_...   \n",
        "3  53/83/84/82/00/1397822512.2433_Qk0d6OKJvxzptr_...   \n",
        "4  35/47/21/23/00/1400505906.2015_pX4gNOvKF3B9ZY_...   \n",
        "5  74/39/46/42/00/1394648222.5859_oKj7WFQAp2hBv1_...   \n",
        "6  07/35/77/82/00/1398098561.0476_mQiUAoeyz713sX_...   \n",
        "7  16/26/49/62/00/1396597976.6268_rbptFT0ZM6yKfi_...   \n",
        "8  98/73/10/22/00/1392201373.4578_RekbyIgHnUAKSD_...   \n",
        "9  22/29/66/13/00/1400191745.8513_pDRtJnNEz86lgM_...   \n",
        "\n",
        "   content_id  \n",
        "0    29231394  \n",
        "1    18018249  \n",
        "2    27185944  \n",
        "3    28483835  \n",
        "4    32127453  \n",
        "5    24649347  \n",
        "6    28775370  \n",
        "7    26946261  \n",
        "8    22013789  \n",
        "9    31669222  "
       ]
      }
     ],
     "prompt_number": 80
    },
    {
     "cell_type": "code",
     "collapsed": false,
     "input": [
      "try:\n",
      "    report.drop(['hash'],1,inplace=True)\n",
      "except ValueError:\n",
      "    pass\n",
      "report.count()"
     ],
     "language": "python",
     "metadata": {},
     "outputs": [
      {
       "metadata": {},
       "output_type": "pyout",
       "prompt_number": 81,
       "text": [
        "request       2744\n",
        "size          2744\n",
        "mb            2744\n",
        "count         2744\n",
        "users         2744\n",
        "_hash         2744\n",
        "content_id    2744\n",
        "dtype: int64"
       ]
      }
     ],
     "prompt_number": 81
    },
    {
     "cell_type": "code",
     "collapsed": false,
     "input": [
      "report.to_csv(_rootdir+'data/topXvideos-0316.csv', index=False)\n",
      "!head -n 3 {_rootdir+'data/topXvideos-0316.csv'}"
     ],
     "language": "python",
     "metadata": {},
     "outputs": [
      {
       "output_type": "stream",
       "stream": "stdout",
       "text": [
        "request,size,mb,count,users,_hash,content_id,fs01_size,ratio\r\n",
        "http://fs01.plugger.com/62702/49/31/32/92/00/1398410675.9154_z6Ma1jqA2oHl08_HechkN/3gp.3gp,22.836913108825684,707.94430637359619,31,9,49/31/32/92/00/1398410675.9154_z6Ma1jqA2oHl08_HechkN,29231394,22.836913108825684,1.0\r\n",
        "http://fs01.plugger.com/62702/94/28/10/81/00/1387636020.2404_diMaUHrZm1whs7_z4wYFL/3gp.3gp,513.49093818664551,513.49093818664551,1,1,94/28/10/81/00/1387636020.2404_diMaUHrZm1whs7_z4wYFL,18018249,513.4909381866455,1.0\r\n"
       ]
      }
     ],
     "prompt_number": 96
    },
    {
     "cell_type": "code",
     "collapsed": false,
     "input": [
      "!wc {_rootdir+'data/topXvideos-0316.csv'}"
     ],
     "language": "python",
     "metadata": {},
     "outputs": [
      {
       "output_type": "stream",
       "stream": "stdout",
       "text": [
        "    2402    2402  519512 /Users/Nicolas/dev/data/topXvideos-0316.csv\r\n"
       ]
      }
     ],
     "prompt_number": 97
    },
    {
     "cell_type": "code",
     "collapsed": false,
     "input": [
      "!open {_rootdir+'data/topXvideos-0316.csv'}"
     ],
     "language": "python",
     "metadata": {},
     "outputs": [],
     "prompt_number": 98
    },
    {
     "cell_type": "heading",
     "level": 2,
     "metadata": {},
     "source": [
      "We're done!"
     ]
    },
    {
     "cell_type": "code",
     "collapsed": false,
     "input": [
      "new_saved_sizes={} # using this dict will "
     ],
     "language": "python",
     "metadata": {
      "run_control": {
       "breakpoint": false
      }
     },
     "outputs": []
    },
    {
     "cell_type": "code",
     "collapsed": false,
     "input": [
      "import urllib2\n",
      "\n",
      "def get_fs01_size(url, saved_dict=saved_sizes):\n",
      "    try:\n",
      "        s=saved_dict[url]\n",
      "    except KeyError:\n",
      "        try:\n",
      "            f=urllib2.urlopen(url)\n",
      "    #        print f.headers.items()\n",
      "            s=float(f.headers[\"Content-Length\"])/1024/1024\n",
      "        except StandardError:\n",
      "            s=np.nan\n",
      "            \n",
      "    saved_dict[url]=s\n",
      "    return s\n",
      "\n",
      "def gsc(x):\n",
      "    return get_fs01_size(str(x),saved_sizes)\n",
      "\n",
      "def gsc_new(x):\n",
      "    return get_fs01_size(str(x),new_saved_sizes)\n",
      "\n",
      "\n",
      "get_fs01_size(\"http://fs01.plugger.com/62701/41/77/78/02/00/1391111566.4077_V6fkKNHBu7IZ1D_0NGluA/3gp.3gp\")"
     ],
     "language": "python",
     "metadata": {
      "run_control": {
       "breakpoint": true
      }
     },
     "outputs": [
      {
       "metadata": {},
       "output_type": "pyout",
       "prompt_number": 82,
       "text": [
        "0.5224323272705078"
       ]
      }
     ],
     "prompt_number": 82
    },
    {
     "cell_type": "code",
     "collapsed": false,
     "input": [
      "report['fs01_size'] = report.request.map(gsc_new)"
     ],
     "language": "python",
     "metadata": {
      "run_control": {
       "breakpoint": false
      }
     },
     "outputs": [],
     "prompt_number": 83
    },
    {
     "cell_type": "code",
     "collapsed": false,
     "input": [
      "c=0\n",
      "for k in new_saved_sizes.keys():\n",
      "    if saved_sizes[k] != new_saved_sizes[k]:\n",
      "        c+=1\n",
      "        saved_sizes[k]=new_saved_sizes[k]\n",
      "print c"
     ],
     "language": "python",
     "metadata": {
      "run_control": {
       "breakpoint": false
      }
     },
     "outputs": [
      {
       "output_type": "stream",
       "stream": "stdout",
       "text": [
        "127\n"
       ]
      }
     ],
     "prompt_number": 84
    },
    {
     "cell_type": "code",
     "collapsed": false,
     "input": [
      "print report['fs01_size'].count()"
     ],
     "language": "python",
     "metadata": {
      "run_control": {
       "breakpoint": false
      }
     },
     "outputs": [
      {
       "output_type": "stream",
       "stream": "stdout",
       "text": [
        "2617\n"
       ]
      }
     ],
     "prompt_number": 85
    },
    {
     "cell_type": "code",
     "collapsed": false,
     "input": [
      "len(saved_sizes.items())"
     ],
     "language": "python",
     "metadata": {
      "run_control": {
       "breakpoint": false
      }
     },
     "outputs": [
      {
       "metadata": {},
       "output_type": "pyout",
       "prompt_number": 86,
       "text": [
        "32245"
       ]
      }
     ],
     "prompt_number": 86
    },
    {
     "cell_type": "code",
     "collapsed": false,
     "input": [
      "len(new_saved_sizes.items())"
     ],
     "language": "python",
     "metadata": {
      "run_control": {
       "breakpoint": false
      }
     },
     "outputs": [
      {
       "metadata": {},
       "output_type": "pyout",
       "prompt_number": 87,
       "text": [
        "2744"
       ]
      }
     ],
     "prompt_number": 87
    },
    {
     "cell_type": "code",
     "collapsed": false,
     "input": [
      "#report['size'] = report.size.astype('int') "
     ],
     "language": "python",
     "metadata": {
      "run_control": {
       "breakpoint": false
      }
     },
     "outputs": [],
     "prompt_number": 88
    },
    {
     "cell_type": "code",
     "collapsed": false,
     "input": [
      "pickle.dump( saved_sizes, open( _rootdir+\"xvideos_saved_sizes.p\", \"wb\" ) )"
     ],
     "language": "python",
     "metadata": {
      "run_control": {
       "breakpoint": false
      }
     },
     "outputs": [],
     "prompt_number": 89
    },
    {
     "cell_type": "code",
     "collapsed": false,
     "input": [
      "report = report[report['fs01_size']>1.0]"
     ],
     "language": "python",
     "metadata": {
      "run_control": {
       "breakpoint": false
      }
     },
     "outputs": [],
     "prompt_number": 90
    },
    {
     "cell_type": "code",
     "collapsed": false,
     "input": [
      "report[['request','size','fs01_size','count','users']].dropna().head(5)"
     ],
     "language": "python",
     "metadata": {
      "run_control": {
       "breakpoint": false
      }
     },
     "outputs": [
      {
       "html": [
        "<div style=\"max-height:1000px;max-width:1500px;overflow:auto;\">\n",
        "<table border=\"1\" class=\"dataframe\">\n",
        "  <thead>\n",
        "    <tr style=\"text-align: right;\">\n",
        "      <th></th>\n",
        "      <th>request</th>\n",
        "      <th>size</th>\n",
        "      <th>fs01_size</th>\n",
        "      <th>count</th>\n",
        "      <th>users</th>\n",
        "    </tr>\n",
        "  </thead>\n",
        "  <tbody>\n",
        "    <tr>\n",
        "      <th>0</th>\n",
        "      <td> http://fs01.plugger.com/62702/49/31/32/92/00/1...</td>\n",
        "      <td> 22.83691</td>\n",
        "      <td>  22.836913</td>\n",
        "      <td> 31</td>\n",
        "      <td>  9</td>\n",
        "    </tr>\n",
        "    <tr>\n",
        "      <th>1</th>\n",
        "      <td> http://fs01.plugger.com/62702/94/28/10/81/00/1...</td>\n",
        "      <td> 513.4909</td>\n",
        "      <td> 513.490938</td>\n",
        "      <td>  1</td>\n",
        "      <td>  1</td>\n",
        "    </tr>\n",
        "    <tr>\n",
        "      <th>2</th>\n",
        "      <td> http://fs01.plugger.com/62702/44/95/81/72/00/1...</td>\n",
        "      <td>  9.32976</td>\n",
        "      <td>   9.329760</td>\n",
        "      <td> 48</td>\n",
        "      <td> 39</td>\n",
        "    </tr>\n",
        "    <tr>\n",
        "      <th>3</th>\n",
        "      <td> http://fs01.plugger.com/62701/53/83/84/82/00/1...</td>\n",
        "      <td> 13.30605</td>\n",
        "      <td>  13.306048</td>\n",
        "      <td> 23</td>\n",
        "      <td> 10</td>\n",
        "    </tr>\n",
        "    <tr>\n",
        "      <th>4</th>\n",
        "      <td> http://fs01.plugger.com/62701/35/47/21/23/00/1...</td>\n",
        "      <td> 6.013476</td>\n",
        "      <td>   6.013476</td>\n",
        "      <td> 43</td>\n",
        "      <td> 29</td>\n",
        "    </tr>\n",
        "  </tbody>\n",
        "</table>\n",
        "</div>"
       ],
       "metadata": {},
       "output_type": "pyout",
       "prompt_number": 91,
       "text": [
        "                                             request  \\\n",
        "0  http://fs01.plugger.com/62702/49/31/32/92/00/1...   \n",
        "1  http://fs01.plugger.com/62702/94/28/10/81/00/1...   \n",
        "2  http://fs01.plugger.com/62702/44/95/81/72/00/1...   \n",
        "3  http://fs01.plugger.com/62701/53/83/84/82/00/1...   \n",
        "4  http://fs01.plugger.com/62701/35/47/21/23/00/1...   \n",
        "\n",
        "       size  \\\n",
        "0  22.83691   \n",
        "1  513.4909   \n",
        "2   9.32976   \n",
        "3  13.30605   \n",
        "4  6.013476   \n",
        "\n",
        "    fs01_size  \\\n",
        "0   22.836913   \n",
        "1  513.490938   \n",
        "2    9.329760   \n",
        "3   13.306048   \n",
        "4    6.013476   \n",
        "\n",
        "  count  \\\n",
        "0    31   \n",
        "1     1   \n",
        "2    48   \n",
        "3    23   \n",
        "4    43   \n",
        "\n",
        "  users  \n",
        "0     9  \n",
        "1     1  \n",
        "2    39  \n",
        "3    10  \n",
        "4    29  "
       ]
      }
     ],
     "prompt_number": 91
    },
    {
     "cell_type": "code",
     "collapsed": false,
     "input": [
      "report['ratio'] = report['size']/report['fs01_size']"
     ],
     "language": "python",
     "metadata": {
      "run_control": {
       "breakpoint": false
      }
     },
     "outputs": [],
     "prompt_number": 92
    },
    {
     "cell_type": "code",
     "collapsed": false,
     "input": [
      "report[report['ratio']>1][['size','fs01_size','ratio']].sort(['ratio'],ascending=False).head(20)"
     ],
     "language": "python",
     "metadata": {
      "run_control": {
       "breakpoint": false
      }
     },
     "outputs": [
      {
       "html": [
        "<div style=\"max-height:1000px;max-width:1500px;overflow:auto;\">\n",
        "<table border=\"1\" class=\"dataframe\">\n",
        "  <thead>\n",
        "    <tr style=\"text-align: right;\">\n",
        "      <th></th>\n",
        "      <th>size</th>\n",
        "      <th>fs01_size</th>\n",
        "      <th>ratio</th>\n",
        "    </tr>\n",
        "  </thead>\n",
        "  <tbody>\n",
        "    <tr>\n",
        "      <th>2589</th>\n",
        "      <td> 1.291313</td>\n",
        "      <td> 1.249368</td>\n",
        "      <td> 1.033573</td>\n",
        "    </tr>\n",
        "    <tr>\n",
        "      <th>2244</th>\n",
        "      <td> 1.132456</td>\n",
        "      <td> 1.127176</td>\n",
        "      <td> 1.004684</td>\n",
        "    </tr>\n",
        "    <tr>\n",
        "      <th>2693</th>\n",
        "      <td> 1.034145</td>\n",
        "      <td> 1.033173</td>\n",
        "      <td> 1.000942</td>\n",
        "    </tr>\n",
        "  </tbody>\n",
        "</table>\n",
        "</div>"
       ],
       "metadata": {},
       "output_type": "pyout",
       "prompt_number": 93,
       "text": [
        "          size  \\\n",
        "2589  1.291313   \n",
        "2244  1.132456   \n",
        "2693  1.034145   \n",
        "\n",
        "      fs01_size  \\\n",
        "2589   1.249368   \n",
        "2244   1.127176   \n",
        "2693   1.033173   \n",
        "\n",
        "         ratio  \n",
        "2589  1.033573  \n",
        "2244  1.004684  \n",
        "2693  1.000942  "
       ]
      }
     ],
     "prompt_number": 93
    },
    {
     "cell_type": "code",
     "collapsed": false,
     "input": [
      "report['fs01_size'].describe()"
     ],
     "language": "python",
     "metadata": {
      "run_control": {
       "breakpoint": false
      }
     },
     "outputs": [
      {
       "metadata": {},
       "output_type": "pyout",
       "prompt_number": 94,
       "text": [
        "count    2401.000000\n",
        "mean        5.346597\n",
        "std        11.371608\n",
        "min         1.002150\n",
        "25%         2.386827\n",
        "50%         4.384556\n",
        "75%         6.739536\n",
        "max       513.490938\n",
        "Name: fs01_size, dtype: float64"
       ]
      }
     ],
     "prompt_number": 94
    },
    {
     "cell_type": "code",
     "collapsed": false,
     "input": [
      "report[report['fs01_size']>1.0][['fs01_size','size']].describe()"
     ],
     "language": "python",
     "metadata": {
      "run_control": {
       "breakpoint": false
      }
     },
     "outputs": [
      {
       "html": [
        "<div style=\"max-height:1000px;max-width:1500px;overflow:auto;\">\n",
        "<table border=\"1\" class=\"dataframe\">\n",
        "  <thead>\n",
        "    <tr style=\"text-align: right;\">\n",
        "      <th></th>\n",
        "      <th>fs01_size</th>\n",
        "    </tr>\n",
        "  </thead>\n",
        "  <tbody>\n",
        "    <tr>\n",
        "      <th>count</th>\n",
        "      <td> 2401.000000</td>\n",
        "    </tr>\n",
        "    <tr>\n",
        "      <th>mean</th>\n",
        "      <td>    5.346597</td>\n",
        "    </tr>\n",
        "    <tr>\n",
        "      <th>std</th>\n",
        "      <td>   11.371608</td>\n",
        "    </tr>\n",
        "    <tr>\n",
        "      <th>min</th>\n",
        "      <td>    1.002150</td>\n",
        "    </tr>\n",
        "    <tr>\n",
        "      <th>25%</th>\n",
        "      <td>    2.386827</td>\n",
        "    </tr>\n",
        "    <tr>\n",
        "      <th>50%</th>\n",
        "      <td>    4.384556</td>\n",
        "    </tr>\n",
        "    <tr>\n",
        "      <th>75%</th>\n",
        "      <td>    6.739536</td>\n",
        "    </tr>\n",
        "    <tr>\n",
        "      <th>max</th>\n",
        "      <td>  513.490938</td>\n",
        "    </tr>\n",
        "  </tbody>\n",
        "</table>\n",
        "</div>"
       ],
       "metadata": {},
       "output_type": "pyout",
       "prompt_number": 95,
       "text": [
        "         fs01_size\n",
        "count  2401.000000\n",
        "mean      5.346597\n",
        "std      11.371608\n",
        "min       1.002150\n",
        "25%       2.386827\n",
        "50%       4.384556\n",
        "75%       6.739536\n",
        "max     513.490938"
       ]
      }
     ],
     "prompt_number": 95
    },
    {
     "cell_type": "code",
     "collapsed": false,
     "input": [
      "len(saved_sizes.items())"
     ],
     "language": "python",
     "metadata": {
      "run_control": {
       "breakpoint": false
      }
     },
     "outputs": [
      {
       "metadata": {},
       "output_type": "pyout",
       "prompt_number": 77,
       "text": [
        "32245"
       ]
      }
     ],
     "prompt_number": 77
    },
    {
     "cell_type": "code",
     "collapsed": false,
     "input": [],
     "language": "python",
     "metadata": {
      "run_control": {
       "breakpoint": false
      }
     },
     "outputs": [],
     "prompt_number": 168
    }
   ],
   "metadata": {}
  }
 ]
}