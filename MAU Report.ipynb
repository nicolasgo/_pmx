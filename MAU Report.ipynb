{
 "metadata": {
  "name": "",
  "signature": "sha256:22670acbdcafff43b3b29ee671b134c76f2b2a3cd50ed6c8390d2edb39630b7e"
 },
 "nbformat": 3,
 "nbformat_minor": 0,
 "worksheets": [
  {
   "cells": [
    {
     "cell_type": "markdown",
     "metadata": {},
     "source": [
      "# Report on MAU\n",
      "## Read session file"
     ]
    },
    {
     "cell_type": "markdown",
     "metadata": {},
     "source": [
      "Generate MAU files with commands like:<BR>\n",
      "<code>gunzip -c 201501.pv.day.gz | awk -F',' '{print $1}' | grep '^52' | cut -c3-15 | awk 'length($0)>9' | sort | uniq > 201501.s.mau.csv</code><BR>\n",
      "201501.s.mau.csv is a sorted unique MAU in 10 digits format\n"
     ]
    },
    {
     "cell_type": "code",
     "collapsed": false,
     "input": [
      "import sys\n",
      "import csv\n",
      "import StringIO\n",
      "import pandas as pd\n",
      "import numpy as np"
     ],
     "language": "python",
     "metadata": {},
     "outputs": [],
     "prompt_number": 1
    },
    {
     "cell_type": "code",
     "collapsed": false,
     "input": [
      "sessions_file_name='/Users/Nicolas/dev/data/sessions.csv'#sessions.pv.csv'\n",
      "\n",
      "FILTER_MSISDN=None"
     ],
     "language": "python",
     "metadata": {
      "run_control": {
       "breakpoint": false
      }
     },
     "outputs": [],
     "prompt_number": 2
    },
    {
     "cell_type": "code",
     "collapsed": false,
     "input": [
      "df=pd.read_csv(sessions_file_name, #parse_dates=True, \n",
      "    names=[\"msisdn\",\"time\",\"duration\",\"ip\",\"pv\",\"variety\",\"landpage\",\"device\",\n",
      "           \"inbox\",\"mymed\",\"conve\",\"activ\",\"home\",\"frien\",\"info\",\"media\",\"uploa\",\"avata\",\"publi\",\"help\",\"ua\"])\n",
      "\n",
      "df['msisdn']=df['msisdn'].astype(str)\n",
      "df['ip']=df['ip'].astype(str)"
     ],
     "language": "python",
     "metadata": {
      "run_control": {
       "breakpoint": false
      }
     },
     "outputs": [],
     "prompt_number": 3
    },
    {
     "cell_type": "code",
     "collapsed": false,
     "input": [
      "df.head(3)"
     ],
     "language": "python",
     "metadata": {
      "run_control": {
       "breakpoint": false
      }
     },
     "outputs": [
      {
       "html": [
        "<div style=\"max-height:1000px;max-width:1500px;overflow:auto;\">\n",
        "<table border=\"1\" class=\"dataframe\">\n",
        "  <thead>\n",
        "    <tr style=\"text-align: right;\">\n",
        "      <th></th>\n",
        "      <th>msisdn</th>\n",
        "      <th>time</th>\n",
        "      <th>duration</th>\n",
        "      <th>ip</th>\n",
        "      <th>pv</th>\n",
        "      <th>variety</th>\n",
        "      <th>landpage</th>\n",
        "      <th>device</th>\n",
        "      <th>inbox</th>\n",
        "      <th>mymed</th>\n",
        "      <th>...</th>\n",
        "      <th>activ</th>\n",
        "      <th>home</th>\n",
        "      <th>frien</th>\n",
        "      <th>info</th>\n",
        "      <th>media</th>\n",
        "      <th>uploa</th>\n",
        "      <th>avata</th>\n",
        "      <th>publi</th>\n",
        "      <th>help</th>\n",
        "      <th>ua</th>\n",
        "    </tr>\n",
        "  </thead>\n",
        "  <tbody>\n",
        "    <tr>\n",
        "      <th>0</th>\n",
        "      <td> 525510030406</td>\n",
        "      <td> 2014-09-03 04:16:54</td>\n",
        "      <td> 354</td>\n",
        "      <td> c85fa93d</td>\n",
        "      <td> 11</td>\n",
        "      <td> 4</td>\n",
        "      <td> /home </td>\n",
        "      <td> 0</td>\n",
        "      <td> 0</td>\n",
        "      <td> 0</td>\n",
        "      <td>...</td>\n",
        "      <td> 0</td>\n",
        "      <td> 1</td>\n",
        "      <td> 3</td>\n",
        "      <td> 1</td>\n",
        "      <td> 0</td>\n",
        "      <td> 0</td>\n",
        "      <td> 0</td>\n",
        "      <td> 0</td>\n",
        "      <td> 2</td>\n",
        "      <td> NokiaC3-00/5.0 (08.65) Profile/MIDP-2.1 Config...</td>\n",
        "    </tr>\n",
        "    <tr>\n",
        "      <th>1</th>\n",
        "      <td> 525510030406</td>\n",
        "      <td> 2014-09-21 02:19:55</td>\n",
        "      <td> 393</td>\n",
        "      <td> c85fa93d</td>\n",
        "      <td> 13</td>\n",
        "      <td> 5</td>\n",
        "      <td> /home </td>\n",
        "      <td> 0</td>\n",
        "      <td> 0</td>\n",
        "      <td> 0</td>\n",
        "      <td>...</td>\n",
        "      <td> 0</td>\n",
        "      <td> 4</td>\n",
        "      <td> 3</td>\n",
        "      <td> 1</td>\n",
        "      <td> 0</td>\n",
        "      <td> 1</td>\n",
        "      <td> 0</td>\n",
        "      <td> 2</td>\n",
        "      <td> 0</td>\n",
        "      <td> NokiaC3-00/5.0 (08.65) Profile/MIDP-2.1 Config...</td>\n",
        "    </tr>\n",
        "    <tr>\n",
        "      <th>2</th>\n",
        "      <td> 525510030406</td>\n",
        "      <td> 2014-10-05 01:43:19</td>\n",
        "      <td>  69</td>\n",
        "      <td> c85fa93d</td>\n",
        "      <td>  2</td>\n",
        "      <td> 2</td>\n",
        "      <td> /home </td>\n",
        "      <td> 0</td>\n",
        "      <td> 0</td>\n",
        "      <td> 0</td>\n",
        "      <td>...</td>\n",
        "      <td> 0</td>\n",
        "      <td> 1</td>\n",
        "      <td> 0</td>\n",
        "      <td> 0</td>\n",
        "      <td> 0</td>\n",
        "      <td> 0</td>\n",
        "      <td> 0</td>\n",
        "      <td> 1</td>\n",
        "      <td> 0</td>\n",
        "      <td> NokiaC3-00/5.0 (08.65) Profile/MIDP-2.1 Config...</td>\n",
        "    </tr>\n",
        "  </tbody>\n",
        "</table>\n",
        "<p>3 rows \u00d7 21 columns</p>\n",
        "</div>"
       ],
       "metadata": {},
       "output_type": "pyout",
       "prompt_number": 4,
       "text": [
        "         msisdn                 time  duration        ip  pv  variety  \\\n",
        "0  525510030406  2014-09-03 04:16:54       354  c85fa93d  11        4   \n",
        "1  525510030406  2014-09-21 02:19:55       393  c85fa93d  13        5   \n",
        "2  525510030406  2014-10-05 01:43:19        69  c85fa93d   2        2   \n",
        "\n",
        "  landpage device  inbox  mymed  ...    activ  home  frien  info  media  \\\n",
        "0   /home       0      0      0  ...        0     1      3     1      0   \n",
        "1   /home       0      0      0  ...        0     4      3     1      0   \n",
        "2   /home       0      0      0  ...        0     1      0     0      0   \n",
        "\n",
        "   uploa  avata  publi  help  \\\n",
        "0      0      0      0     2   \n",
        "1      1      0      2     0   \n",
        "2      0      0      1     0   \n",
        "\n",
        "                                                  ua  \n",
        "0  NokiaC3-00/5.0 (08.65) Profile/MIDP-2.1 Config...  \n",
        "1  NokiaC3-00/5.0 (08.65) Profile/MIDP-2.1 Config...  \n",
        "2  NokiaC3-00/5.0 (08.65) Profile/MIDP-2.1 Config...  \n",
        "\n",
        "[3 rows x 21 columns]"
       ]
      }
     ],
     "prompt_number": 4
    },
    {
     "cell_type": "code",
     "collapsed": false,
     "input": [
      "df.msisdn.describe()"
     ],
     "language": "python",
     "metadata": {
      "run_control": {
       "breakpoint": false
      }
     },
     "outputs": [
      {
       "metadata": {},
       "output_type": "pyout",
       "prompt_number": 5,
       "text": [
        "count          5452601\n",
        "unique          644575\n",
        "top       525539511350\n",
        "freq               178\n",
        "dtype: object"
       ]
      }
     ],
     "prompt_number": 5
    },
    {
     "cell_type": "markdown",
     "metadata": {},
     "source": [
      "## Read user file"
     ]
    },
    {
     "cell_type": "code",
     "collapsed": false,
     "input": [
      "df_user=pd.read_csv('/Users/Nicolas/dev/data/zzuser.csv',\n",
      "                 sep='\\t',\n",
      "                 encoding='utf-8',\n",
      "                 header=1, names=[\"user_id\",\"msisdn\",\"oid\",\"joined\",\"last_seen\",\"disk_usage\",\"state\",\"friends\",\"invites\",\"rcvdInv\",\"rejectd\",\"sms\",\"mms\",\"sim\",\"login\",\"web\",\"twFrs\",\"tw_url\",\"fbFrs\",\"fb_url\",\"yt\",\"pi\",\"fk\",\"area\"]\n",
      "                 )\n",
      "\n",
      "df_user.head(3)"
     ],
     "language": "python",
     "metadata": {
      "run_control": {
       "breakpoint": false
      }
     },
     "outputs": [
      {
       "html": [
        "<div style=\"max-height:1000px;max-width:1500px;overflow:auto;\">\n",
        "<table border=\"1\" class=\"dataframe\">\n",
        "  <thead>\n",
        "    <tr style=\"text-align: right;\">\n",
        "      <th></th>\n",
        "      <th>user_id</th>\n",
        "      <th>msisdn</th>\n",
        "      <th>oid</th>\n",
        "      <th>joined</th>\n",
        "      <th>last_seen</th>\n",
        "      <th>disk_usage</th>\n",
        "      <th>state</th>\n",
        "      <th>friends</th>\n",
        "      <th>invites</th>\n",
        "      <th>rcvdInv</th>\n",
        "      <th>...</th>\n",
        "      <th>login</th>\n",
        "      <th>web</th>\n",
        "      <th>twFrs</th>\n",
        "      <th>tw_url</th>\n",
        "      <th>fbFrs</th>\n",
        "      <th>fb_url</th>\n",
        "      <th>yt</th>\n",
        "      <th>pi</th>\n",
        "      <th>fk</th>\n",
        "      <th>area</th>\n",
        "    </tr>\n",
        "  </thead>\n",
        "  <tbody>\n",
        "    <tr>\n",
        "      <th>0</th>\n",
        "      <td>   10</td>\n",
        "      <td> 15143457910</td>\n",
        "      <td> 10</td>\n",
        "      <td> 2009-11-20 19:23:16</td>\n",
        "      <td> 2009-12-02 20:45:27</td>\n",
        "      <td>        0</td>\n",
        "      <td> 1</td>\n",
        "      <td>  0</td>\n",
        "      <td>  0</td>\n",
        "      <td> 27</td>\n",
        "      <td>...</td>\n",
        "      <td>NaN</td>\n",
        "      <td>NaN</td>\n",
        "      <td>NaN</td>\n",
        "      <td> NaN</td>\n",
        "      <td>NaN</td>\n",
        "      <td> NaN</td>\n",
        "      <td>NaN</td>\n",
        "      <td>NaN</td>\n",
        "      <td>NaN</td>\n",
        "      <td> 15143</td>\n",
        "    </tr>\n",
        "    <tr>\n",
        "      <th>1</th>\n",
        "      <td>   36</td>\n",
        "      <td>           9</td>\n",
        "      <td> 10</td>\n",
        "      <td> 0000-00-00 00:00:00</td>\n",
        "      <td> 0000-00-00 00:00:00</td>\n",
        "      <td>        0</td>\n",
        "      <td> 1</td>\n",
        "      <td>NaN</td>\n",
        "      <td>NaN</td>\n",
        "      <td>NaN</td>\n",
        "      <td>...</td>\n",
        "      <td>NaN</td>\n",
        "      <td>NaN</td>\n",
        "      <td>NaN</td>\n",
        "      <td> NaN</td>\n",
        "      <td>NaN</td>\n",
        "      <td> NaN</td>\n",
        "      <td>NaN</td>\n",
        "      <td>NaN</td>\n",
        "      <td>NaN</td>\n",
        "      <td>     9</td>\n",
        "    </tr>\n",
        "    <tr>\n",
        "      <th>2</th>\n",
        "      <td> 1000</td>\n",
        "      <td> 52559999999</td>\n",
        "      <td> 10</td>\n",
        "      <td> 2009-11-10 23:10:15</td>\n",
        "      <td> 2010-07-19 19:27:36</td>\n",
        "      <td> 30337849</td>\n",
        "      <td> 1</td>\n",
        "      <td>  1</td>\n",
        "      <td>  0</td>\n",
        "      <td> 36</td>\n",
        "      <td>...</td>\n",
        "      <td>NaN</td>\n",
        "      <td>NaN</td>\n",
        "      <td>NaN</td>\n",
        "      <td> NaN</td>\n",
        "      <td>NaN</td>\n",
        "      <td> NaN</td>\n",
        "      <td>NaN</td>\n",
        "      <td>NaN</td>\n",
        "      <td>NaN</td>\n",
        "      <td> 52559</td>\n",
        "    </tr>\n",
        "  </tbody>\n",
        "</table>\n",
        "<p>3 rows \u00d7 24 columns</p>\n",
        "</div>"
       ],
       "metadata": {},
       "output_type": "pyout",
       "prompt_number": 3,
       "text": [
        "   user_id       msisdn  oid               joined            last_seen  \\\n",
        "0       10  15143457910   10  2009-11-20 19:23:16  2009-12-02 20:45:27   \n",
        "1       36            9   10  0000-00-00 00:00:00  0000-00-00 00:00:00   \n",
        "2     1000  52559999999   10  2009-11-10 23:10:15  2010-07-19 19:27:36   \n",
        "\n",
        "   disk_usage  state  friends  invites  rcvdInv   ...     login  web  twFrs  \\\n",
        "0           0      1        0        0       27   ...       NaN  NaN    NaN   \n",
        "1           0      1      NaN      NaN      NaN   ...       NaN  NaN    NaN   \n",
        "2    30337849      1        1        0       36   ...       NaN  NaN    NaN   \n",
        "\n",
        "   tw_url  fbFrs  fb_url  yt  pi  fk   area  \n",
        "0     NaN    NaN     NaN NaN NaN NaN  15143  \n",
        "1     NaN    NaN     NaN NaN NaN NaN      9  \n",
        "2     NaN    NaN     NaN NaN NaN NaN  52559  \n",
        "\n",
        "[3 rows x 24 columns]"
       ]
      }
     ],
     "prompt_number": 3
    },
    {
     "cell_type": "code",
     "collapsed": false,
     "input": [
      "df_user['msisdn']=df_user['msisdn'].astype(str)\n",
      "df_user=df_user[df_user['state']==1]\n",
      "df_user.msisdn.describe()\n",
      "#df_user=df_user.set_index('msisdn')\n",
      "##"
     ],
     "language": "python",
     "metadata": {},
     "outputs": [
      {
       "metadata": {},
       "output_type": "pyout",
       "prompt_number": 4,
       "text": [
        "count         10746753\n",
        "unique        10746753\n",
        "top       522949413796\n",
        "freq                 1\n",
        "dtype: object"
       ]
      }
     ],
     "prompt_number": 4
    },
    {
     "cell_type": "code",
     "collapsed": false,
     "input": [
      "if FILTER_MSISDN is not None:\n",
      "    criterion = df_user['msisdn'].map(lambda x: (str(x).startswith('5255'))) #or  str(x).startswith('5223')\n",
      "    df_user=df_user[criterion]\n",
      "    df_user.msisdn.describe()\n",
      "##"
     ],
     "language": "python",
     "metadata": {},
     "outputs": [],
     "prompt_number": 5
    },
    {
     "cell_type": "markdown",
     "metadata": {},
     "source": [
      "## Filter the msisdns that do not intersect with the zzuser\n",
      "Those msisdn are not registered, or have been deleted"
     ]
    },
    {
     "cell_type": "code",
     "collapsed": false,
     "input": [
      "df_msisdn=pd.DataFrame({'msisdn':df_user['msisdn'].astype(str)})\n",
      "df_msisdn.head()"
     ],
     "language": "python",
     "metadata": {},
     "outputs": [
      {
       "html": [
        "<div style=\"max-height:1000px;max-width:1500px;overflow:auto;\">\n",
        "<table border=\"1\" class=\"dataframe\">\n",
        "  <thead>\n",
        "    <tr style=\"text-align: right;\">\n",
        "      <th></th>\n",
        "      <th>msisdn</th>\n",
        "    </tr>\n",
        "  </thead>\n",
        "  <tbody>\n",
        "    <tr>\n",
        "      <th>0</th>\n",
        "      <td> 15143457910</td>\n",
        "    </tr>\n",
        "    <tr>\n",
        "      <th>1</th>\n",
        "      <td>           9</td>\n",
        "    </tr>\n",
        "    <tr>\n",
        "      <th>2</th>\n",
        "      <td> 52559999999</td>\n",
        "    </tr>\n",
        "    <tr>\n",
        "      <th>3</th>\n",
        "      <td> 52559999988</td>\n",
        "    </tr>\n",
        "    <tr>\n",
        "      <th>4</th>\n",
        "      <td>   151103106</td>\n",
        "    </tr>\n",
        "  </tbody>\n",
        "</table>\n",
        "</div>"
       ],
       "metadata": {},
       "output_type": "pyout",
       "prompt_number": 7,
       "text": [
        "        msisdn\n",
        "0  15143457910\n",
        "1            9\n",
        "2  52559999999\n",
        "3  52559999988\n",
        "4    151103106"
       ]
      }
     ],
     "prompt_number": 7
    },
    {
     "cell_type": "code",
     "collapsed": false,
     "input": [
      "df_msisdn.info()"
     ],
     "language": "python",
     "metadata": {},
     "outputs": [
      {
       "output_type": "stream",
       "stream": "stdout",
       "text": [
        "<class 'pandas.core.frame.DataFrame'>\n",
        "Int64Index: 10746753 entries, 0 to 10746752\n",
        "Data columns (total 1 columns):\n",
        "msisdn    object\n",
        "dtypes: object(1)"
       ]
      }
     ],
     "prompt_number": 8
    },
    {
     "cell_type": "code",
     "collapsed": false,
     "input": [
      "s1=df_user['msisdn'].astype(str)"
     ],
     "language": "python",
     "metadata": {},
     "outputs": [],
     "prompt_number": 12
    },
    {
     "cell_type": "code",
     "collapsed": false,
     "input": [
      "s1=s1[s1.str.startswith('52')]\n",
      "s1.head()    "
     ],
     "language": "python",
     "metadata": {},
     "outputs": [
      {
       "metadata": {},
       "output_type": "pyout",
       "prompt_number": 16,
       "text": [
        "2         52559999999\n",
        "3         52559999988\n",
        "9      52554377528099\n",
        "10     52551152329011\n",
        "12    525591970227911\n",
        "Name: msisdn, dtype: object"
       ]
      }
     ],
     "prompt_number": 16
    },
    {
     "cell_type": "code",
     "collapsed": false,
     "input": [
      "s2=s1[s1.str.len()==12]"
     ],
     "language": "python",
     "metadata": {},
     "outputs": []
    },
    {
     "cell_type": "code",
     "collapsed": false,
     "input": [
      "s2.sort()\n",
      "s2.head()"
     ],
     "language": "python",
     "metadata": {},
     "outputs": [
      {
       "metadata": {},
       "output_type": "pyout",
       "prompt_number": 22,
       "text": [
        "5827467     520000001000\n",
        "5827491     520000001001\n",
        "6853217     520000001002\n",
        "10082844    520000001003\n",
        "10082852    520000001004\n",
        "Name: msisdn, dtype: object"
       ]
      }
     ],
     "prompt_number": 22
    },
    {
     "cell_type": "code",
     "collapsed": false,
     "input": [
      "s2 = s2.map(lambda x: x[2:])\n",
      "s2.head()"
     ],
     "language": "python",
     "metadata": {},
     "outputs": [
      {
       "metadata": {},
       "output_type": "pyout",
       "prompt_number": 23,
       "text": [
        "5827467     0000001000\n",
        "5827491     0000001001\n",
        "6853217     0000001002\n",
        "10082844    0000001003\n",
        "10082852    0000001004\n",
        "Name: msisdn, dtype: object"
       ]
      }
     ],
     "prompt_number": 23
    },
    {
     "cell_type": "markdown",
     "metadata": {},
     "source": [
      "# Read the mau file"
     ]
    },
    {
     "cell_type": "code",
     "collapsed": false,
     "input": [
      "mau_file_name='/Users/Nicolas/dev/data/201412.s.mau.csv'\n",
      "df_mau=pd.read_csv(mau_file_name, dtype=str, names=[\"msisdn\"])\n",
      "\n",
      "print df_mau.info()\n",
      "df_mau.head()"
     ],
     "language": "python",
     "metadata": {},
     "outputs": [
      {
       "output_type": "stream",
       "stream": "stdout",
       "text": [
        "<class 'pandas.core.frame.DataFrame'>\n",
        "Int64Index: 1864150 entries, 0 to 1864149\n",
        "Data columns (total 1 columns):\n",
        "msisdn    object\n",
        "dtypes: object(1)None\n"
       ]
      },
      {
       "html": [
        "<div style=\"max-height:1000px;max-width:1500px;overflow:auto;\">\n",
        "<table border=\"1\" class=\"dataframe\">\n",
        "  <thead>\n",
        "    <tr style=\"text-align: right;\">\n",
        "      <th></th>\n",
        "      <th>msisdn</th>\n",
        "    </tr>\n",
        "  </thead>\n",
        "  <tbody>\n",
        "    <tr>\n",
        "      <th>0</th>\n",
        "      <td> 0041877799</td>\n",
        "    </tr>\n",
        "    <tr>\n",
        "      <th>1</th>\n",
        "      <td> 1111000352</td>\n",
        "    </tr>\n",
        "    <tr>\n",
        "      <th>2</th>\n",
        "      <td> 1111000356</td>\n",
        "    </tr>\n",
        "    <tr>\n",
        "      <th>3</th>\n",
        "      <td> 1111000360</td>\n",
        "    </tr>\n",
        "    <tr>\n",
        "      <th>4</th>\n",
        "      <td> 1111000363</td>\n",
        "    </tr>\n",
        "  </tbody>\n",
        "</table>\n",
        "</div>"
       ],
       "metadata": {},
       "output_type": "pyout",
       "prompt_number": 54,
       "text": [
        "       msisdn\n",
        "0  0041877799\n",
        "1  1111000352\n",
        "2  1111000356\n",
        "3  1111000360\n",
        "4  1111000363"
       ]
      }
     ],
     "prompt_number": 54
    },
    {
     "cell_type": "markdown",
     "metadata": {},
     "source": [
      "##Remove users that are not registered"
     ]
    },
    {
     "cell_type": "code",
     "collapsed": false,
     "input": [
      "df_mau=df_mau[df_mau.msisdn.isin(s2)]"
     ],
     "language": "python",
     "metadata": {},
     "outputs": [],
     "prompt_number": 55
    },
    {
     "cell_type": "code",
     "collapsed": false,
     "input": [
      "df_mau.info()"
     ],
     "language": "python",
     "metadata": {},
     "outputs": [
      {
       "output_type": "stream",
       "stream": "stdout",
       "text": [
        "<class 'pandas.core.frame.DataFrame'>\n",
        "Int64Index: 1317324 entries, 0 to 1864149\n",
        "Data columns (total 1 columns):\n",
        "msisdn    1317324 non-null object\n",
        "dtypes: object(1)"
       ]
      }
     ],
     "prompt_number": 56
    },
    {
     "cell_type": "markdown",
     "metadata": {},
     "source": [
      "##Save the filtered mau file"
     ]
    },
    {
     "cell_type": "code",
     "collapsed": false,
     "input": [
      "#file_name='/Users/nicolas/logs/nobackup/sessions23.pv.csv'\n",
      "fn_out='.'.join(mau_file_name.split('.')[:-1])+'.f.csv'\n",
      "print 'saving to',fn_out\n",
      "df_mau.to_csv(fn_out, encoding='utf-8', index=False)\n",
      "!head -n 3 {fn_out}"
     ],
     "language": "python",
     "metadata": {
      "run_control": {
       "breakpoint": false
      }
     },
     "outputs": [
      {
       "output_type": "stream",
       "stream": "stdout",
       "text": [
        "saving to /Users/Nicolas/dev/data/201501.s.mau.f.csv\n",
        "msisdn\r\n",
        "0041877799\r\n",
        "1111000352\r\n"
       ]
      }
     ],
     "prompt_number": 57
    },
    {
     "cell_type": "code",
     "collapsed": false,
     "input": [
      "!tail -n 3 {fn_out}"
     ],
     "language": "python",
     "metadata": {
      "run_control": {
       "breakpoint": false
      }
     },
     "outputs": [
      {
       "output_type": "stream",
       "stream": "stdout",
       "text": [
        "9999989887\r\n",
        "9999989906\r\n",
        "9999989965\r\n"
       ]
      }
     ],
     "prompt_number": 58
    },
    {
     "cell_type": "code",
     "collapsed": false,
     "input": [
      "!wc {fn_out}"
     ],
     "language": "python",
     "metadata": {},
     "outputs": [
      {
       "output_type": "stream",
       "stream": "stdout",
       "text": [
        " 1317325 1317325 14490571 /Users/Nicolas/dev/data/201501.s.mau.f.csv\r\n"
       ]
      }
     ],
     "prompt_number": 59
    },
    {
     "cell_type": "code",
     "collapsed": false,
     "input": [
      "!gzip -f {fn_out}"
     ],
     "language": "python",
     "metadata": {
      "run_control": {
       "breakpoint": false
      }
     },
     "outputs": [],
     "prompt_number": 60
    },
    {
     "cell_type": "code",
     "collapsed": false,
     "input": [],
     "language": "python",
     "metadata": {
      "run_control": {
       "breakpoint": false
      }
     },
     "outputs": []
    }
   ],
   "metadata": {}
  }
 ]
}