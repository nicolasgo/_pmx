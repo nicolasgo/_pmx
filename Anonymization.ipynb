{
 "metadata": {
  "name": "",
  "signature": "sha256:22670acbdcafff43b3b29ee671b134c76f2b2a3cd50ed6c8390d2edb39630b7e"
 },
 "nbformat": 3,
 "nbformat_minor": 0,
 "worksheets": [
  {
   "cells": [
    {
     "cell_type": "raw",
     "metadata": {},
     "source": [
      "## Read session file"
     ]
    },
    {
     "cell_type": "code",
     "collapsed": false,
     "input": [
      "import sys\n",
      "import csv\n",
      "import StringIO\n",
      "import pandas as pd\n",
      "import numpy as np\n",
      "import matplotlib.pyplot as plt\n"
     ],
     "language": "python",
     "metadata": {},
     "outputs": [],
     "prompt_number": 1
    },
    {
     "cell_type": "code",
     "collapsed": false,
     "input": [
      "sessions_file_name='/Users/Nicolas/dev/data/sessions.p.pv.day.csv'#sessions.pv.csv'"
     ],
     "language": "python",
     "metadata": {
      "run_control": {
       "breakpoint": false
      }
     },
     "outputs": [],
     "prompt_number": 2
    },
    {
     "cell_type": "code",
     "collapsed": false,
     "input": [
      "df=pd.read_csv(sessions_file_name, #parse_dates=True, \n",
      "    names=[\"msisdn\",\"time\",\"duration\",\"ip\",\"pv\",\"variety\",\"landpage\",\"device\",\n",
      "           \"inbox\",\"mymed\",\"conve\",\"activ\",\"home\",\"frien\",\"info\",\"media\",\"uploa\",\"avata\",\"publi\",\"help\",\"ua\"])\n",
      "\n",
      "df['msisdn']=df['msisdn'].astype(str)\n",
      "df['ip']=df['ip'].astype(str)"
     ],
     "language": "python",
     "metadata": {
      "run_control": {
       "breakpoint": false
      }
     },
     "outputs": [],
     "prompt_number": 3
    },
    {
     "cell_type": "code",
     "collapsed": false,
     "input": [
      "df.head(3)"
     ],
     "language": "python",
     "metadata": {
      "run_control": {
       "breakpoint": false
      }
     },
     "outputs": [
      {
       "html": [
        "<div style=\"max-height:1000px;max-width:1500px;overflow:auto;\">\n",
        "<table border=\"1\" class=\"dataframe\">\n",
        "  <thead>\n",
        "    <tr style=\"text-align: right;\">\n",
        "      <th></th>\n",
        "      <th>msisdn</th>\n",
        "      <th>time</th>\n",
        "      <th>duration</th>\n",
        "      <th>ip</th>\n",
        "      <th>pv</th>\n",
        "      <th>variety</th>\n",
        "      <th>landpage</th>\n",
        "      <th>device</th>\n",
        "      <th>inbox</th>\n",
        "      <th>mymed</th>\n",
        "      <th>...</th>\n",
        "      <th>activ</th>\n",
        "      <th>home</th>\n",
        "      <th>frien</th>\n",
        "      <th>info</th>\n",
        "      <th>media</th>\n",
        "      <th>uploa</th>\n",
        "      <th>avata</th>\n",
        "      <th>publi</th>\n",
        "      <th>help</th>\n",
        "      <th>ua</th>\n",
        "    </tr>\n",
        "  </thead>\n",
        "  <tbody>\n",
        "    <tr>\n",
        "      <th>0</th>\n",
        "      <td> 525510030406</td>\n",
        "      <td> 2014-09-03 04:16:54</td>\n",
        "      <td> 354</td>\n",
        "      <td> c85fa93d</td>\n",
        "      <td> 11</td>\n",
        "      <td> 4</td>\n",
        "      <td> /home </td>\n",
        "      <td> 0</td>\n",
        "      <td> 0</td>\n",
        "      <td> 0</td>\n",
        "      <td>...</td>\n",
        "      <td> 0</td>\n",
        "      <td> 1</td>\n",
        "      <td> 3</td>\n",
        "      <td> 1</td>\n",
        "      <td> 0</td>\n",
        "      <td> 0</td>\n",
        "      <td> 0</td>\n",
        "      <td> 0</td>\n",
        "      <td> 2</td>\n",
        "      <td> NokiaC3-00/5.0 (08.65) Profile/MIDP-2.1 Config...</td>\n",
        "    </tr>\n",
        "    <tr>\n",
        "      <th>1</th>\n",
        "      <td> 525510030406</td>\n",
        "      <td> 2014-09-21 02:19:55</td>\n",
        "      <td> 393</td>\n",
        "      <td> c85fa93d</td>\n",
        "      <td> 13</td>\n",
        "      <td> 5</td>\n",
        "      <td> /home </td>\n",
        "      <td> 0</td>\n",
        "      <td> 0</td>\n",
        "      <td> 0</td>\n",
        "      <td>...</td>\n",
        "      <td> 0</td>\n",
        "      <td> 4</td>\n",
        "      <td> 3</td>\n",
        "      <td> 1</td>\n",
        "      <td> 0</td>\n",
        "      <td> 1</td>\n",
        "      <td> 0</td>\n",
        "      <td> 2</td>\n",
        "      <td> 0</td>\n",
        "      <td> NokiaC3-00/5.0 (08.65) Profile/MIDP-2.1 Config...</td>\n",
        "    </tr>\n",
        "    <tr>\n",
        "      <th>2</th>\n",
        "      <td> 525510030406</td>\n",
        "      <td> 2014-10-05 01:43:19</td>\n",
        "      <td>  69</td>\n",
        "      <td> c85fa93d</td>\n",
        "      <td>  2</td>\n",
        "      <td> 2</td>\n",
        "      <td> /home </td>\n",
        "      <td> 0</td>\n",
        "      <td> 0</td>\n",
        "      <td> 0</td>\n",
        "      <td>...</td>\n",
        "      <td> 0</td>\n",
        "      <td> 1</td>\n",
        "      <td> 0</td>\n",
        "      <td> 0</td>\n",
        "      <td> 0</td>\n",
        "      <td> 0</td>\n",
        "      <td> 0</td>\n",
        "      <td> 1</td>\n",
        "      <td> 0</td>\n",
        "      <td> NokiaC3-00/5.0 (08.65) Profile/MIDP-2.1 Config...</td>\n",
        "    </tr>\n",
        "  </tbody>\n",
        "</table>\n",
        "<p>3 rows \u00d7 21 columns</p>\n",
        "</div>"
       ],
       "metadata": {},
       "output_type": "pyout",
       "prompt_number": 4,
       "text": [
        "         msisdn                 time  duration        ip  pv  variety  \\\n",
        "0  525510030406  2014-09-03 04:16:54       354  c85fa93d  11        4   \n",
        "1  525510030406  2014-09-21 02:19:55       393  c85fa93d  13        5   \n",
        "2  525510030406  2014-10-05 01:43:19        69  c85fa93d   2        2   \n",
        "\n",
        "  landpage device  inbox  mymed  ...    activ  home  frien  info  media  \\\n",
        "0   /home       0      0      0  ...        0     1      3     1      0   \n",
        "1   /home       0      0      0  ...        0     4      3     1      0   \n",
        "2   /home       0      0      0  ...        0     1      0     0      0   \n",
        "\n",
        "   uploa  avata  publi  help  \\\n",
        "0      0      0      0     2   \n",
        "1      1      0      2     0   \n",
        "2      0      0      1     0   \n",
        "\n",
        "                                                  ua  \n",
        "0  NokiaC3-00/5.0 (08.65) Profile/MIDP-2.1 Config...  \n",
        "1  NokiaC3-00/5.0 (08.65) Profile/MIDP-2.1 Config...  \n",
        "2  NokiaC3-00/5.0 (08.65) Profile/MIDP-2.1 Config...  \n",
        "\n",
        "[3 rows x 21 columns]"
       ]
      }
     ],
     "prompt_number": 4
    },
    {
     "cell_type": "code",
     "collapsed": false,
     "input": [
      "df.msisdn.describe()"
     ],
     "language": "python",
     "metadata": {
      "run_control": {
       "breakpoint": false
      }
     },
     "outputs": [
      {
       "metadata": {},
       "output_type": "pyout",
       "prompt_number": 5,
       "text": [
        "count          5695524\n",
        "unique          666908\n",
        "top       525548979992\n",
        "freq               185\n",
        "dtype: object"
       ]
      }
     ],
     "prompt_number": 5
    },
    {
     "cell_type": "code",
     "collapsed": false,
     "input": [
      "h=df.msisdn.value_counts()"
     ],
     "language": "python",
     "metadata": {},
     "outputs": [],
     "prompt_number": 10
    },
    {
     "cell_type": "code",
     "collapsed": false,
     "input": [
      "h[h>2].describe()\n",
      "#h[h>2].hist()\n",
      "#plt.show()"
     ],
     "language": "python",
     "metadata": {},
     "outputs": [
      {
       "metadata": {},
       "output_type": "pyout",
       "prompt_number": 52,
       "text": [
        "count    204087.000000\n",
        "mean         25.155012\n",
        "std          39.052684\n",
        "min           3.000000\n",
        "25%           4.000000\n",
        "50%           7.000000\n",
        "75%          25.000000\n",
        "max         185.000000\n",
        "dtype: float64"
       ]
      }
     ],
     "prompt_number": 52
    },
    {
     "cell_type": "markdown",
     "metadata": {},
     "source": [
      "## Read user file"
     ]
    },
    {
     "cell_type": "code",
     "collapsed": false,
     "input": [
      "df_user=pd.read_csv('/Users/Nicolas/dev/data/zzuser.55.csv',\n",
      "                 sep='\\t',\n",
      "                 encoding='utf-8',\n",
      "                 header=1, names=['user_id','msisdn','oid','joined','last_seen','disk_usage','state','friends','invites','rcvdInv','rejectd','sms','mms','sim','login','web','twFrs','tw_url','fbFrs','fb_url','yt','pi','fk','area']\n",
      "                 )\n",
      "\n",
      "df_user['msisdn']=df_user['msisdn'].astype(str)\n",
      "df_user=df_user[df_user['state']==1]\n",
      "print df_user.msisdn.describe()\n",
      "#df_user=df_user.set_index('msisdn')\n",
      "##\n",
      "df_user.head(3)\n"
     ],
     "language": "python",
     "metadata": {
      "run_control": {
       "breakpoint": false
      }
     },
     "outputs": [
      {
       "output_type": "stream",
       "stream": "stdout",
       "text": [
        "count          1206356\n",
        "unique         1206356\n",
        "top       525525131935\n",
        "freq                 1\n",
        "Name: msisdn, dtype: object\n"
       ]
      },
      {
       "html": [
        "<div style=\"max-height:1000px;max-width:1500px;overflow:auto;\">\n",
        "<table border=\"1\" class=\"dataframe\">\n",
        "  <thead>\n",
        "    <tr style=\"text-align: right;\">\n",
        "      <th></th>\n",
        "      <th>user_id</th>\n",
        "      <th>msisdn</th>\n",
        "      <th>oid</th>\n",
        "      <th>joined</th>\n",
        "      <th>last_seen</th>\n",
        "      <th>disk_usage</th>\n",
        "      <th>state</th>\n",
        "      <th>...</th>\n",
        "      <th>tw_url</th>\n",
        "      <th>fbFrs</th>\n",
        "      <th>fb_url</th>\n",
        "      <th>yt</th>\n",
        "      <th>pi</th>\n",
        "      <th>fk</th>\n",
        "      <th>area</th>\n",
        "    </tr>\n",
        "  </thead>\n",
        "  <tbody>\n",
        "    <tr>\n",
        "      <th>0</th>\n",
        "      <td> 1036</td>\n",
        "      <td>  52554377528099</td>\n",
        "      <td> 10</td>\n",
        "      <td> 2009-11-30 23:41:27</td>\n",
        "      <td> 2011-04-05 13:42:36</td>\n",
        "      <td>        0</td>\n",
        "      <td> 1</td>\n",
        "      <td>...</td>\n",
        "      <td> NaN</td>\n",
        "      <td>NaN</td>\n",
        "      <td> NaN</td>\n",
        "      <td>NaN</td>\n",
        "      <td>NaN</td>\n",
        "      <td>NaN</td>\n",
        "      <td> 52554</td>\n",
        "    </tr>\n",
        "    <tr>\n",
        "      <th>1</th>\n",
        "      <td> 1042</td>\n",
        "      <td>  52551152329011</td>\n",
        "      <td> 10</td>\n",
        "      <td> 2009-12-01 22:43:00</td>\n",
        "      <td> 2010-11-05 19:47:07</td>\n",
        "      <td> 28757849</td>\n",
        "      <td> 1</td>\n",
        "      <td>...</td>\n",
        "      <td> NaN</td>\n",
        "      <td>  0</td>\n",
        "      <td> NaN</td>\n",
        "      <td>  1</td>\n",
        "      <td>NaN</td>\n",
        "      <td>NaN</td>\n",
        "      <td> 52551</td>\n",
        "    </tr>\n",
        "    <tr>\n",
        "      <th>2</th>\n",
        "      <td> 1056</td>\n",
        "      <td> 525591970227911</td>\n",
        "      <td> 10</td>\n",
        "      <td> 2009-12-03 16:16:13</td>\n",
        "      <td> 2010-01-20 16:41:13</td>\n",
        "      <td>        0</td>\n",
        "      <td> 1</td>\n",
        "      <td>...</td>\n",
        "      <td> NaN</td>\n",
        "      <td>NaN</td>\n",
        "      <td> NaN</td>\n",
        "      <td>NaN</td>\n",
        "      <td>NaN</td>\n",
        "      <td>NaN</td>\n",
        "      <td> 52559</td>\n",
        "    </tr>\n",
        "  </tbody>\n",
        "</table>\n",
        "<p>3 rows \u00d7 24 columns</p>\n",
        "</div>"
       ],
       "metadata": {},
       "output_type": "pyout",
       "prompt_number": 3,
       "text": [
        "   user_id  \\\n",
        "0     1036   \n",
        "1     1042   \n",
        "2     1056   \n",
        "\n",
        "            msisdn  \\\n",
        "0   52554377528099   \n",
        "1   52551152329011   \n",
        "2  525591970227911   \n",
        "\n",
        "   oid  \\\n",
        "0   10   \n",
        "1   10   \n",
        "2   10   \n",
        "\n",
        "                joined  \\\n",
        "0  2009-11-30 23:41:27   \n",
        "1  2009-12-01 22:43:00   \n",
        "2  2009-12-03 16:16:13   \n",
        "\n",
        "             last_seen  \\\n",
        "0  2011-04-05 13:42:36   \n",
        "1  2010-11-05 19:47:07   \n",
        "2  2010-01-20 16:41:13   \n",
        "\n",
        "   disk_usage  \\\n",
        "0           0   \n",
        "1    28757849   \n",
        "2           0   \n",
        "\n",
        "   state  \\\n",
        "0      1   \n",
        "1      1   \n",
        "2      1   \n",
        "\n",
        "   ...    \\\n",
        "0  ...     \n",
        "1  ...     \n",
        "2  ...     \n",
        "\n",
        "   tw_url  \\\n",
        "0     NaN   \n",
        "1     NaN   \n",
        "2     NaN   \n",
        "\n",
        "   fbFrs  \\\n",
        "0    NaN   \n",
        "1      0   \n",
        "2    NaN   \n",
        "\n",
        "   fb_url  \\\n",
        "0     NaN   \n",
        "1     NaN   \n",
        "2     NaN   \n",
        "\n",
        "   yt  \\\n",
        "0 NaN   \n",
        "1   1   \n",
        "2 NaN   \n",
        "\n",
        "   pi  \\\n",
        "0 NaN   \n",
        "1 NaN   \n",
        "2 NaN   \n",
        "\n",
        "   fk  \\\n",
        "0 NaN   \n",
        "1 NaN   \n",
        "2 NaN   \n",
        "\n",
        "    area  \n",
        "0  52554  \n",
        "1  52551  \n",
        "2  52559  \n",
        "\n",
        "[3 rows x 24 columns]"
       ]
      }
     ],
     "prompt_number": 3
    },
    {
     "cell_type": "code",
     "collapsed": false,
     "input": [
      "criterion = df_user['msisdn'].map(lambda x: (str(x).startswith('5255'))) #or  str(x).startswith('5223')\n",
      "df_user=df_user[criterion]\n",
      "df_user.msisdn.describe()\n",
      "##"
     ],
     "language": "python",
     "metadata": {},
     "outputs": [
      {
       "metadata": {},
       "output_type": "pyout",
       "prompt_number": 20,
       "text": [
        "count          1206161\n",
        "unique         1206161\n",
        "top       525525131935\n",
        "freq                 1\n",
        "dtype: object"
       ]
      }
     ],
     "prompt_number": 20
    },
    {
     "cell_type": "code",
     "collapsed": false,
     "input": [
      "df_user['joined']=pd.to_datetime(df_user['joined'])\n",
      "df_user['last_seen']=pd.to_datetime(df_user['last_seen'])\n",
      "\n",
      "df_user['joined'] = df_user.joined.convert_objects(convert_dates='coerce')\n",
      "df_user['last_seen'] = df_user.last_seen.convert_objects(convert_dates='coerce')\n",
      "##"
     ],
     "language": "python",
     "metadata": {},
     "outputs": [],
     "prompt_number": 22
    },
    {
     "cell_type": "code",
     "collapsed": false,
     "input": [
      "df_user.msisdn.describe()"
     ],
     "language": "python",
     "metadata": {
      "run_control": {
       "breakpoint": false
      }
     },
     "outputs": [
      {
       "metadata": {},
       "output_type": "pyout",
       "prompt_number": 24,
       "text": [
        "count          1206161\n",
        "unique         1206161\n",
        "top       525525131935\n",
        "freq                 1\n",
        "dtype: object"
       ]
      }
     ],
     "prompt_number": 24
    },
    {
     "cell_type": "markdown",
     "metadata": {},
     "source": [
      "##Remove users that do not have activities in the session file\n"
     ]
    },
    {
     "cell_type": "code",
     "collapsed": false,
     "input": [
      "df_user_f=df_user[df_user.msisdn.isin(df.msisdn)]\n",
      "df_user_f.msisdn.describe()"
     ],
     "language": "python",
     "metadata": {},
     "outputs": [
      {
       "metadata": {},
       "output_type": "pyout",
       "prompt_number": 26,
       "text": [
        "count           238983\n",
        "unique          238983\n",
        "top       525544597881\n",
        "freq                 1\n",
        "dtype: object"
       ]
      }
     ],
     "prompt_number": 26
    },
    {
     "cell_type": "code",
     "collapsed": false,
     "input": [
      "df.msisdn.describe()"
     ],
     "language": "python",
     "metadata": {},
     "outputs": [
      {
       "metadata": {},
       "output_type": "pyout",
       "prompt_number": 28,
       "text": [
        "count          5695524\n",
        "unique          666908\n",
        "top       525548979992\n",
        "freq               185\n",
        "dtype: object"
       ]
      }
     ],
     "prompt_number": 28
    },
    {
     "cell_type": "markdown",
     "metadata": {},
     "source": [
      "##Remove sessions of users that are not in users file"
     ]
    },
    {
     "cell_type": "code",
     "collapsed": false,
     "input": [
      "df_session_f=df[df.msisdn.isin(df_user_f.msisdn)]\n",
      "df_session_f.sort(['msisdn', 'time'],inplace=True)#, ascending=[0, 0])\n",
      "df_session_f.msisdn.describe()"
     ],
     "language": "python",
     "metadata": {},
     "outputs": [
      {
       "metadata": {},
       "output_type": "pyout",
       "prompt_number": 32,
       "text": [
        "count          4887008\n",
        "unique          238983\n",
        "top       525529680398\n",
        "freq               185\n",
        "dtype: object"
       ]
      },
      {
       "output_type": "stream",
       "stream": "stdout",
       "text": [
        "\n"
       ]
      }
     ],
     "prompt_number": 32
    },
    {
     "cell_type": "code",
     "collapsed": false,
     "input": [
      "import hashlib\n",
      "\n",
      "saved = {}\n",
      "rsaved = {}  # a reverse dictionary can be used to lookup original msisdn from hashed ids\n",
      "\n",
      "\n",
      "def xx(x):\n",
      "    if not saved.has_key(x):\n",
      "        try:\n",
      "            m = hashlib.md5()\n",
      "            m.update(x)\n",
      "            mh = '%.12s'%(m.hexdigest()[10:30])\n",
      "            saved[x]=mh\n",
      "            rsaved[mh]=x\n",
      "\n",
      "\n",
      "        except:\n",
      "            print type(x),x\n",
      "\n",
      "#        print x,mh\n",
      "\n",
      "    return saved[x]\n",
      "\n",
      "\n",
      "#print len(df['msisdn'].unique())\n",
      "#print len(df['ip'].unique())\n",
      "\n",
      "# just to test\n",
      "print xx('524111000443')\n"
     ],
     "language": "python",
     "metadata": {
      "run_control": {
       "breakpoint": false
      }
     },
     "outputs": [
      {
       "output_type": "stream",
       "stream": "stdout",
       "text": [
        "951a006c6a26\n"
       ]
      }
     ],
     "prompt_number": 33
    },
    {
     "cell_type": "code",
     "collapsed": false,
     "input": [
      "print len(df_user_f['msisdn'].unique())\n",
      "print len(df_user_f['area'].unique())\n",
      "\n",
      "df_user_f['msisdn'] =df_user_f['msisdn'].apply(lambda x: xx(x))\n",
      "df_user_f['area'] =df_user_f['area'].apply(lambda x: xx(x)[:6])\n",
      "\n",
      "print len(df_user_f['area'].unique())\n",
      "print len(df_user_f['msisdn'].unique())\n",
      "df_user_f.head(3)"
     ],
     "language": "python",
     "metadata": {
      "run_control": {
       "breakpoint": false
      }
     },
     "outputs": [
      {
       "output_type": "stream",
       "stream": "stderr",
       "text": [
        "-c:4: SettingWithCopyWarning: A value is trying to be set on a copy of a slice from a DataFrame.\n",
        "Try using .loc[row_index,col_indexer] = value instead\n",
        "-c:5: SettingWithCopyWarning: A value is trying to be set on a copy of a slice from a DataFrame.\n",
        "Try using .loc[row_index,col_indexer] = value instead\n"
       ]
      },
      {
       "output_type": "stream",
       "stream": "stdout",
       "text": [
        "238983\n",
        "8\n",
        "8"
       ]
      },
      {
       "output_type": "stream",
       "stream": "stdout",
       "text": [
        "\n",
        "238983"
       ]
      },
      {
       "output_type": "stream",
       "stream": "stdout",
       "text": [
        "\n"
       ]
      },
      {
       "html": [
        "<div style=\"max-height:1000px;max-width:1500px;overflow:auto;\">\n",
        "<table border=\"1\" class=\"dataframe\">\n",
        "  <thead>\n",
        "    <tr style=\"text-align: right;\">\n",
        "      <th></th>\n",
        "      <th>user_id</th>\n",
        "      <th>msisdn</th>\n",
        "      <th>oid</th>\n",
        "      <th>joined</th>\n",
        "      <th>last_seen</th>\n",
        "      <th>disk_usage</th>\n",
        "      <th>state</th>\n",
        "      <th>friends</th>\n",
        "      <th>invites</th>\n",
        "      <th>rcvdInv</th>\n",
        "      <th>...</th>\n",
        "      <th>login</th>\n",
        "      <th>web</th>\n",
        "      <th>twFrs</th>\n",
        "      <th>tw_url</th>\n",
        "      <th>fbFrs</th>\n",
        "      <th>fb_url</th>\n",
        "      <th>yt</th>\n",
        "      <th>pi</th>\n",
        "      <th>fk</th>\n",
        "      <th>area</th>\n",
        "    </tr>\n",
        "  </thead>\n",
        "  <tbody>\n",
        "    <tr>\n",
        "      <th>4 </th>\n",
        "      <td> 1059</td>\n",
        "      <td> 11710e3b7a19</td>\n",
        "      <td> 10</td>\n",
        "      <td>2009-12-03 23:33:11</td>\n",
        "      <td>2014-12-12 02:22:01</td>\n",
        "      <td> 11834402</td>\n",
        "      <td> 1</td>\n",
        "      <td> 283</td>\n",
        "      <td> 0</td>\n",
        "      <td> 165</td>\n",
        "      <td>...</td>\n",
        "      <td>NaN</td>\n",
        "      <td>NaN</td>\n",
        "      <td>  0</td>\n",
        "      <td>                         NaN</td>\n",
        "      <td>NaN</td>\n",
        "      <td> NaN</td>\n",
        "      <td>NaN</td>\n",
        "      <td>NaN</td>\n",
        "      <td>NaN</td>\n",
        "      <td> 6fe0d4</td>\n",
        "    </tr>\n",
        "    <tr>\n",
        "      <th>9 </th>\n",
        "      <td> 1093</td>\n",
        "      <td> 71f7ee50bffd</td>\n",
        "      <td> 10</td>\n",
        "      <td>2009-12-22 23:17:20</td>\n",
        "      <td>2014-08-16 01:12:44</td>\n",
        "      <td> 12268773</td>\n",
        "      <td> 1</td>\n",
        "      <td>  33</td>\n",
        "      <td> 6</td>\n",
        "      <td> 175</td>\n",
        "      <td>...</td>\n",
        "      <td>NaN</td>\n",
        "      <td>NaN</td>\n",
        "      <td> 73</td>\n",
        "      <td> http://twitter.com/sercolle</td>\n",
        "      <td>NaN</td>\n",
        "      <td> NaN</td>\n",
        "      <td>  1</td>\n",
        "      <td>NaN</td>\n",
        "      <td>NaN</td>\n",
        "      <td> 6fe0d4</td>\n",
        "    </tr>\n",
        "    <tr>\n",
        "      <th>23</th>\n",
        "      <td> 1164</td>\n",
        "      <td> d9c9041178a1</td>\n",
        "      <td> 10</td>\n",
        "      <td>2010-01-21 21:36:31</td>\n",
        "      <td>2014-12-23 01:37:09</td>\n",
        "      <td> 51281969</td>\n",
        "      <td> 1</td>\n",
        "      <td> 349</td>\n",
        "      <td> 0</td>\n",
        "      <td>  17</td>\n",
        "      <td>...</td>\n",
        "      <td>NaN</td>\n",
        "      <td>NaN</td>\n",
        "      <td>NaN</td>\n",
        "      <td>                         NaN</td>\n",
        "      <td>NaN</td>\n",
        "      <td> NaN</td>\n",
        "      <td>NaN</td>\n",
        "      <td>NaN</td>\n",
        "      <td>NaN</td>\n",
        "      <td> 5dad96</td>\n",
        "    </tr>\n",
        "  </tbody>\n",
        "</table>\n",
        "<p>3 rows \u00d7 24 columns</p>\n",
        "</div>"
       ],
       "metadata": {},
       "output_type": "pyout",
       "prompt_number": 34,
       "text": [
        "    user_id        msisdn  oid              joined           last_seen  \\\n",
        "4      1059  11710e3b7a19   10 2009-12-03 23:33:11 2014-12-12 02:22:01   \n",
        "9      1093  71f7ee50bffd   10 2009-12-22 23:17:20 2014-08-16 01:12:44   \n",
        "23     1164  d9c9041178a1   10 2010-01-21 21:36:31 2014-12-23 01:37:09   \n",
        "\n",
        "    disk_usage  state  friends  invites  rcvdInv   ...     login  web  twFrs  \\\n",
        "4     11834402      1      283        0      165   ...       NaN  NaN      0   \n",
        "9     12268773      1       33        6      175   ...       NaN  NaN     73   \n",
        "23    51281969      1      349        0       17   ...       NaN  NaN    NaN   \n",
        "\n",
        "                         tw_url  fbFrs  fb_url  yt  pi  fk    area  \n",
        "4                           NaN    NaN     NaN NaN NaN NaN  6fe0d4  \n",
        "9   http://twitter.com/sercolle    NaN     NaN   1 NaN NaN  6fe0d4  \n",
        "23                          NaN    NaN     NaN NaN NaN NaN  5dad96  \n",
        "\n",
        "[3 rows x 24 columns]"
       ]
      }
     ],
     "prompt_number": 34
    },
    {
     "cell_type": "code",
     "collapsed": false,
     "input": [
      "print len(df_session_f['msisdn'].unique())\n",
      "print len(df_session_f['ip'].unique())\n"
     ],
     "language": "python",
     "metadata": {
      "run_control": {
       "breakpoint": false
      }
     },
     "outputs": [
      {
       "output_type": "stream",
       "stream": "stdout",
       "text": [
        "238983\n",
        "2596"
       ]
      },
      {
       "output_type": "stream",
       "stream": "stdout",
       "text": [
        "\n"
       ]
      }
     ],
     "prompt_number": 35
    },
    {
     "cell_type": "code",
     "collapsed": false,
     "input": [
      "df_session_f['msisdn'] =df_session_f['msisdn'].apply(lambda x: xx(str(x))) # str(x) is to solve a bug where msisdn was a int64 instead of a string"
     ],
     "language": "python",
     "metadata": {
      "run_control": {
       "breakpoint": false
      }
     },
     "outputs": [],
     "prompt_number": 36
    },
    {
     "cell_type": "code",
     "collapsed": false,
     "input": [
      "df_session_f['ip'] =df_session_f['ip'].apply(lambda x: xx(x))"
     ],
     "language": "python",
     "metadata": {
      "run_control": {
       "breakpoint": false
      }
     },
     "outputs": [],
     "prompt_number": 37
    },
    {
     "cell_type": "code",
     "collapsed": false,
     "input": [
      "print len(saved)\n",
      "\n",
      "t=[u'0856b4e2aa0e', u'0bba9919124a', u'18ceb99fb343', u'12d54a78aea3', u'0d2e896c8ba4', u'25986e25a969', u'09540c6f1f78', u'1aa68be5d9b8', u'063d83b9c512', u'17b17bdb637b']\n",
      "\n",
      "'''['01dbf194360f','07647267a2e7','01ad55f15e0f','01a56ac3dc4a','0798b32ea5c0']\n",
      "'''\n",
      "for i in t:\n",
      "    print i,rsaved[i]\n",
      "for i in t:\n",
      "    print '%s,'%rsaved[i],"
     ],
     "language": "python",
     "metadata": {
      "run_control": {
       "breakpoint": false
      }
     },
     "outputs": [
      {
       "output_type": "stream",
       "stream": "stdout",
       "text": [
        "241588\n",
        "0856b4e2aa0e 525549046311\n",
        "0bba9919124a 525540591597\n",
        "18ceb99fb343 525548256181\n",
        "12d54a78aea3 525554582039\n",
        "0d2e896c8ba4 525512994107\n",
        "25986e25a969 525548794551\n",
        "09540c6f1f78 525518007794\n",
        "1aa68be5d9b8 525561092523\n",
        "063d83b9c512 525523332038\n",
        "17b17bdb637b 525512498419\n",
        "525549046311, 525540591597, 525548256181, 525554582039, 525512994107, 525548794551, 525518007794, 525561092523, 525523332038, 525512498419,\n"
       ]
      }
     ],
     "prompt_number": 38
    },
    {
     "cell_type": "code",
     "collapsed": false,
     "input": [
      "print len(df_session_f['msisdn'].unique())\n",
      "print len(df_session_f['ip'].unique())\n"
     ],
     "language": "python",
     "metadata": {
      "run_control": {
       "breakpoint": false
      }
     },
     "outputs": [
      {
       "output_type": "stream",
       "stream": "stdout",
       "text": [
        "238983\n",
        "2596"
       ]
      },
      {
       "output_type": "stream",
       "stream": "stdout",
       "text": [
        "\n"
       ]
      }
     ],
     "prompt_number": 39
    },
    {
     "cell_type": "code",
     "collapsed": false,
     "input": [
      "df_user_f.drop(['user_id','state'],1, inplace=True)  #(columns={'msisdn': 'user_id'}, inplace=True)"
     ],
     "language": "python",
     "metadata": {},
     "outputs": [],
     "prompt_number": 53
    },
    {
     "cell_type": "code",
     "collapsed": false,
     "input": [
      "df_user_f.rename(columns={'msisdn': 'user_id'}, inplace=True)\n",
      "df_session_f.rename(columns={'msisdn': 'user_id'}, inplace=True)\n",
      "df_session_f.sort(['user_id', 'time'],inplace=True)\n",
      "df_session_f.head(100).tail(4)"
     ],
     "language": "python",
     "metadata": {},
     "outputs": [
      {
       "output_type": "stream",
       "stream": "stderr",
       "text": [
        "/Users/Nicolas/anaconda/lib/python2.7/site-packages/pandas/core/frame.py:2302: SettingWithCopyWarning: A value is trying to be set on a copy of a slice from a DataFrame\n",
        "  **kwargs)\n"
       ]
      },
      {
       "html": [
        "<div style=\"max-height:1000px;max-width:1500px;overflow:auto;\">\n",
        "<table border=\"1\" class=\"dataframe\">\n",
        "  <thead>\n",
        "    <tr style=\"text-align: right;\">\n",
        "      <th></th>\n",
        "      <th>user_id</th>\n",
        "      <th>time</th>\n",
        "      <th>duration</th>\n",
        "      <th>ip</th>\n",
        "      <th>pv</th>\n",
        "      <th>variety</th>\n",
        "      <th>landpage</th>\n",
        "      <th>device</th>\n",
        "      <th>inbox</th>\n",
        "      <th>mymed</th>\n",
        "      <th>...</th>\n",
        "      <th>activ</th>\n",
        "      <th>home</th>\n",
        "      <th>frien</th>\n",
        "      <th>info</th>\n",
        "      <th>media</th>\n",
        "      <th>uploa</th>\n",
        "      <th>avata</th>\n",
        "      <th>publi</th>\n",
        "      <th>help</th>\n",
        "      <th>ua</th>\n",
        "    </tr>\n",
        "  </thead>\n",
        "  <tbody>\n",
        "    <tr>\n",
        "      <th>693148</th>\n",
        "      <td> 000082da1bc5</td>\n",
        "      <td> 2015-01-19 06:32:22</td>\n",
        "      <td> 20651</td>\n",
        "      <td> 373130706e55</td>\n",
        "      <td> 120</td>\n",
        "      <td> 8</td>\n",
        "      <td> /home </td>\n",
        "      <td> Android 2.3.</td>\n",
        "      <td> 28</td>\n",
        "      <td> 3</td>\n",
        "      <td>...</td>\n",
        "      <td> 2</td>\n",
        "      <td> 34</td>\n",
        "      <td> 2</td>\n",
        "      <td> 1</td>\n",
        "      <td> 2</td>\n",
        "      <td> 0</td>\n",
        "      <td> 0</td>\n",
        "      <td> 0</td>\n",
        "      <td> 0</td>\n",
        "      <td> Mozilla/5.0 (Linux; U; Android 2.3.6; es-us; G...</td>\n",
        "    </tr>\n",
        "    <tr>\n",
        "      <th>693149</th>\n",
        "      <td> 000082da1bc5</td>\n",
        "      <td> 2015-01-20 06:21:08</td>\n",
        "      <td> 33106</td>\n",
        "      <td> 64fbf1d64f22</td>\n",
        "      <td> 314</td>\n",
        "      <td> 8</td>\n",
        "      <td> /home </td>\n",
        "      <td> Android 2.3.</td>\n",
        "      <td> 79</td>\n",
        "      <td> 0</td>\n",
        "      <td>...</td>\n",
        "      <td> 5</td>\n",
        "      <td> 71</td>\n",
        "      <td> 7</td>\n",
        "      <td> 5</td>\n",
        "      <td> 0</td>\n",
        "      <td> 1</td>\n",
        "      <td> 0</td>\n",
        "      <td> 1</td>\n",
        "      <td> 0</td>\n",
        "      <td> Mozilla/5.0 (Linux; U; Android 2.3.6; es-us; G...</td>\n",
        "    </tr>\n",
        "    <tr>\n",
        "      <th>693150</th>\n",
        "      <td> 000082da1bc5</td>\n",
        "      <td> 2015-01-21 07:05:03</td>\n",
        "      <td> 35478</td>\n",
        "      <td> d1dcd2ae5a0e</td>\n",
        "      <td> 222</td>\n",
        "      <td> 5</td>\n",
        "      <td> /conve</td>\n",
        "      <td> Android 2.3.</td>\n",
        "      <td> 58</td>\n",
        "      <td> 0</td>\n",
        "      <td>...</td>\n",
        "      <td> 0</td>\n",
        "      <td> 42</td>\n",
        "      <td> 4</td>\n",
        "      <td> 3</td>\n",
        "      <td> 0</td>\n",
        "      <td> 0</td>\n",
        "      <td> 0</td>\n",
        "      <td> 0</td>\n",
        "      <td> 0</td>\n",
        "      <td> Mozilla/5.0 (Linux; U; Android 2.3.6; es-us; G...</td>\n",
        "    </tr>\n",
        "    <tr>\n",
        "      <th>693151</th>\n",
        "      <td> 000082da1bc5</td>\n",
        "      <td> 2015-01-22 06:31:08</td>\n",
        "      <td> 25454</td>\n",
        "      <td> 0909c5d3a0dc</td>\n",
        "      <td> 166</td>\n",
        "      <td> 6</td>\n",
        "      <td> /inbox</td>\n",
        "      <td> Android 2.3.</td>\n",
        "      <td> 51</td>\n",
        "      <td> 0</td>\n",
        "      <td>...</td>\n",
        "      <td> 1</td>\n",
        "      <td> 58</td>\n",
        "      <td> 2</td>\n",
        "      <td> 1</td>\n",
        "      <td> 0</td>\n",
        "      <td> 0</td>\n",
        "      <td> 0</td>\n",
        "      <td> 0</td>\n",
        "      <td> 0</td>\n",
        "      <td> Mozilla/5.0 (Linux; U; Android 2.3.6; es-us; G...</td>\n",
        "    </tr>\n",
        "  </tbody>\n",
        "</table>\n",
        "<p>4 rows \u00d7 21 columns</p>\n",
        "</div>"
       ],
       "metadata": {},
       "output_type": "pyout",
       "prompt_number": 41,
       "text": [
        "             user_id                 time  duration            ip   pv  \\\n",
        "693148  000082da1bc5  2015-01-19 06:32:22     20651  373130706e55  120   \n",
        "693149  000082da1bc5  2015-01-20 06:21:08     33106  64fbf1d64f22  314   \n",
        "693150  000082da1bc5  2015-01-21 07:05:03     35478  d1dcd2ae5a0e  222   \n",
        "693151  000082da1bc5  2015-01-22 06:31:08     25454  0909c5d3a0dc  166   \n",
        "\n",
        "        variety landpage        device  inbox  mymed  ...    activ  home  \\\n",
        "693148        8   /home   Android 2.3.     28      3  ...        2    34   \n",
        "693149        8   /home   Android 2.3.     79      0  ...        5    71   \n",
        "693150        5   /conve  Android 2.3.     58      0  ...        0    42   \n",
        "693151        6   /inbox  Android 2.3.     51      0  ...        1    58   \n",
        "\n",
        "        frien  info  media  uploa  avata  publi  help  \\\n",
        "693148      2     1      2      0      0      0     0   \n",
        "693149      7     5      0      1      0      1     0   \n",
        "693150      4     3      0      0      0      0     0   \n",
        "693151      2     1      0      0      0      0     0   \n",
        "\n",
        "                                                       ua  \n",
        "693148  Mozilla/5.0 (Linux; U; Android 2.3.6; es-us; G...  \n",
        "693149  Mozilla/5.0 (Linux; U; Android 2.3.6; es-us; G...  \n",
        "693150  Mozilla/5.0 (Linux; U; Android 2.3.6; es-us; G...  \n",
        "693151  Mozilla/5.0 (Linux; U; Android 2.3.6; es-us; G...  \n",
        "\n",
        "[4 rows x 21 columns]"
       ]
      }
     ],
     "prompt_number": 41
    },
    {
     "cell_type": "code",
     "collapsed": false,
     "input": [
      "from user_agents import parse\n",
      "import re\n",
      "\n",
      "xdict = {}\n",
      "\n",
      "def xtract(x) :\n",
      "    if x == np.nan:\n",
      "        x = 'nan'\n",
      "    if not type(x) is str:\n",
      "        x = 'nan'\n",
      "\n",
      "    if x not in xdict:\n",
      "        xdict[x]=parse(x)\n",
      "#            print xdict[x]\n",
      "    return xdict[x]\n",
      "\n",
      "df_session_f['dfamily'] = df_session_f['ua'].map(lambda x: xtract(x).os.family)\n",
      "\n",
      "len(xdict)\n",
      "\n",
      "i=0\n",
      "for k,v in xdict.items() :\n",
      "    if v.device.family==u'Other' :\n",
      "        print v.browser.family,'--',v.os.family,'--',v.os.version_string\n",
      "        print k\n",
      "        print\n",
      "        i +=1\n",
      "        if i == 10 :\n",
      "            break\n",
      "\n",
      "for k,v in xdict.items() :\n",
      "    if re.match('zte',str.lower(k)) :\n",
      "        print '%s -> %28s'%(v, k)\n",
      "        \n",
      "df_session_f['dversion'] = df_session_f['ua'].map(lambda x: xtract(x).os.version_string)\n",
      "df_session_f['dmodel'] = df_session_f['ua'].map(lambda x: xtract(x).device)\n",
      "\n",
      "df_session_f.head(3)"
     ],
     "language": "python",
     "metadata": {
      "run_control": {
       "breakpoint": false
      }
     },
     "outputs": [
      {
       "output_type": "stream",
       "stream": "stdout",
       "text": [
        "Opera Mini -- Symbian OS -- \n",
        "Opera/9.80 (Series 60; Opera Mini/7.1.32444/35.5125; U; es) Presto/2.8.119 Version/11.10\n",
        "\n",
        "Opera Mini -- Android -- \n",
        "Opera/9.80 (Android; Opera Mini/14.0.1074/35.5858; U; es) Presto/2.8.119 Version/11.10\n",
        "\n",
        "Opera Mini -- Android -- \n",
        "Opera/9.80 (Android; Opera Mini/7.6.35843/35.5125; U; es) Presto/2.8.119 Version/11.10\n",
        "\n",
        "Opera Mini -- Android -- \n",
        "Opera/9.80 (Android; Opera Mini/7.6.40077/35.6680; U; es) Presto/2.8.119 Version/11.10\n",
        "\n",
        "Opera Mobile -- Symbian OS -- \n",
        "Opera/9.80 (S60; SymbOS; Opera Mobi/SYB-1204232256; U; es-LA) Presto/2.10.254 Version/12.00\n",
        "\n",
        "Opera Mini -- Android -- \n",
        "Opera/9.80 (Android; Opera Mini/25.0.1619/35.6050; U; es) Presto/2.8.119 Version/11.10\n",
        "\n",
        "Obigo -- Other -- \n",
        "ZMAV8000 ObigoInternetBrowser/QO3C Profile/MIDP-2.0 Configuration/CLDC-1.1\n",
        "\n",
        "Other -- Other -- \n",
        "TINNO60A_11B_HW (MRE/3.1.00(1280);MAUI/BP_MP_US_BLU_07_05;BDATE/2014/01/14 17:41;LCD/320480;CHIP/MT6260;KEY/Reduced;TOUCH/1;CAMERA/1;SENSOR/0;DEV/TINNO60A_11B_HW;WAP Browser/MAUI (HTTPS);GMOBI/001;MBOUNCE/002;MOMAGIC/003;INDEX/004;SPICEI2I/005;GAMELOFT/00\n",
        "\n",
        "Opera Mini -- Android -- \n",
        "Opera/9.80 (Android; Opera Mini/7.6.35766/35.5858; U; es) Presto/2.8.119 Version/11.10\n",
        "\n",
        "Opera Mini -- Android -- \n",
        "Opera/9.80 (Android; Opera Mini/7.5.31657/35.6244; U; es) Presto/2.8.119 Version/11.10\n",
        "\n",
        "Generic Feature Phone / Other / Obigo 3 -> zte-N295/P107A20/Obigo Q03C/MIDP-2.0 Configuration/CLDC-1.1\n",
        "ZTE G / Other / Other ->                   ZTE-G i766\n",
        "ZTE G / Other / Other ->            ZTE-G_R221/WAP2.0\n",
        "ZTE R528 / Other / Other ->              ZTE R528/WAP2.0\n",
        "ZTE LF152 / Other / Other -> ZTE-LF152/1.0 ACS-NF/3.2 Profile/MIDP-2.0 Configuration/CLDC-1.1\n",
        "ZTE R230 / Other / Other -> ZTE-R230/2.0 Profile/MIDP-2.0\n",
        "ZTE F930 / Other / NetFront 3.5 -> ZTE-F930/1.0 NetFront/3.5 QTV5.1 Profile/MIDP-2.0 Configuration/CLDC-1.1\n",
        "ZTE F102 / Other / NetFront 3.4 -> ZTE-F102/1.0 NetFront/3.4 QTV5.1 Profile/MIDP-2.0 Configuration/CLDC-1.1\n",
        "ZTE G / Other / Other ->            ZTE-G R290/WAP2.0\n",
        "ZTE G / Other / Other -> ZTE-G N281/WAP2.0 Profile/MIDP-2.0\n"
       ]
      },
      {
       "html": [
        "<div style=\"max-height:1000px;max-width:1500px;overflow:auto;\">\n",
        "<table border=\"1\" class=\"dataframe\">\n",
        "  <thead>\n",
        "    <tr style=\"text-align: right;\">\n",
        "      <th></th>\n",
        "      <th>user_id</th>\n",
        "      <th>time</th>\n",
        "      <th>duration</th>\n",
        "      <th>ip</th>\n",
        "      <th>pv</th>\n",
        "      <th>variety</th>\n",
        "      <th>landpage</th>\n",
        "      <th>device</th>\n",
        "      <th>inbox</th>\n",
        "      <th>mymed</th>\n",
        "      <th>...</th>\n",
        "      <th>info</th>\n",
        "      <th>media</th>\n",
        "      <th>uploa</th>\n",
        "      <th>avata</th>\n",
        "      <th>publi</th>\n",
        "      <th>help</th>\n",
        "      <th>ua</th>\n",
        "      <th>dfamily</th>\n",
        "      <th>dversion</th>\n",
        "      <th>dmodel</th>\n",
        "    </tr>\n",
        "  </thead>\n",
        "  <tbody>\n",
        "    <tr>\n",
        "      <th>1389457</th>\n",
        "      <td> 00002f99e468</td>\n",
        "      <td> 2014-09-25 13:27:29</td>\n",
        "      <td> 9368</td>\n",
        "      <td> 8b7638dacfd8</td>\n",
        "      <td> 313</td>\n",
        "      <td> 11</td>\n",
        "      <td> /regis</td>\n",
        "      <td> Android 4.4.2</td>\n",
        "      <td> 33</td>\n",
        "      <td> 0</td>\n",
        "      <td>...</td>\n",
        "      <td> 96</td>\n",
        "      <td> 1</td>\n",
        "      <td> 5</td>\n",
        "      <td> 3</td>\n",
        "      <td> 1</td>\n",
        "      <td> 1</td>\n",
        "      <td> Mozilla/5.0 (Linux; U; Android 4.4.2; es-sa; L...</td>\n",
        "      <td> Android</td>\n",
        "      <td> 4.4.2</td>\n",
        "      <td> (LG D120,)</td>\n",
        "    </tr>\n",
        "    <tr>\n",
        "      <th>1389458</th>\n",
        "      <td> 00002f99e468</td>\n",
        "      <td> 2014-09-27 00:07:27</td>\n",
        "      <td> 3509</td>\n",
        "      <td> 09a157e012ef</td>\n",
        "      <td>  79</td>\n",
        "      <td>  6</td>\n",
        "      <td> /home </td>\n",
        "      <td> Android 4.4.2</td>\n",
        "      <td> 21</td>\n",
        "      <td> 0</td>\n",
        "      <td>...</td>\n",
        "      <td>  0</td>\n",
        "      <td> 1</td>\n",
        "      <td> 0</td>\n",
        "      <td> 0</td>\n",
        "      <td> 0</td>\n",
        "      <td> 0</td>\n",
        "      <td> Mozilla/5.0 (Linux; U; Android 4.4.2; es-sa; L...</td>\n",
        "      <td> Android</td>\n",
        "      <td> 4.4.2</td>\n",
        "      <td> (LG D120,)</td>\n",
        "    </tr>\n",
        "    <tr>\n",
        "      <th>1389459</th>\n",
        "      <td> 00002f99e468</td>\n",
        "      <td> 2014-09-28 12:56:55</td>\n",
        "      <td> 2712</td>\n",
        "      <td> 7e4fdfddf817</td>\n",
        "      <td>  87</td>\n",
        "      <td>  6</td>\n",
        "      <td> /home </td>\n",
        "      <td> Android 4.4.2</td>\n",
        "      <td> 13</td>\n",
        "      <td> 0</td>\n",
        "      <td>...</td>\n",
        "      <td> 18</td>\n",
        "      <td> 0</td>\n",
        "      <td> 0</td>\n",
        "      <td> 0</td>\n",
        "      <td> 0</td>\n",
        "      <td> 0</td>\n",
        "      <td> Mozilla/5.0 (Linux; U; Android 4.4.2; es-sa; L...</td>\n",
        "      <td> Android</td>\n",
        "      <td> 4.4.2</td>\n",
        "      <td> (LG D120,)</td>\n",
        "    </tr>\n",
        "  </tbody>\n",
        "</table>\n",
        "<p>3 rows \u00d7 24 columns</p>\n",
        "</div>"
       ],
       "metadata": {},
       "output_type": "pyout",
       "prompt_number": 42,
       "text": [
        "              user_id                 time  duration            ip   pv  \\\n",
        "1389457  00002f99e468  2014-09-25 13:27:29      9368  8b7638dacfd8  313   \n",
        "1389458  00002f99e468  2014-09-27 00:07:27      3509  09a157e012ef   79   \n",
        "1389459  00002f99e468  2014-09-28 12:56:55      2712  7e4fdfddf817   87   \n",
        "\n",
        "         variety landpage         device  inbox  mymed  ...    info  media  \\\n",
        "1389457       11   /regis  Android 4.4.2     33      0  ...      96      1   \n",
        "1389458        6   /home   Android 4.4.2     21      0  ...       0      1   \n",
        "1389459        6   /home   Android 4.4.2     13      0  ...      18      0   \n",
        "\n",
        "         uploa  avata  publi  help  \\\n",
        "1389457      5      3      1     1   \n",
        "1389458      0      0      0     0   \n",
        "1389459      0      0      0     0   \n",
        "\n",
        "                                                        ua  dfamily  dversion  \\\n",
        "1389457  Mozilla/5.0 (Linux; U; Android 4.4.2; es-sa; L...  Android     4.4.2   \n",
        "1389458  Mozilla/5.0 (Linux; U; Android 4.4.2; es-sa; L...  Android     4.4.2   \n",
        "1389459  Mozilla/5.0 (Linux; U; Android 4.4.2; es-sa; L...  Android     4.4.2   \n",
        "\n",
        "             dmodel  \n",
        "1389457  (LG D120,)  \n",
        "1389458  (LG D120,)  \n",
        "1389459  (LG D120,)  \n",
        "\n",
        "[3 rows x 24 columns]"
       ]
      }
     ],
     "prompt_number": 42
    },
    {
     "cell_type": "code",
     "collapsed": false,
     "input": [
      "aa=xtract('Mozilla/5.0 (Macintosh; U; Intel Mac OS X 10_5_7; en-us) AppleWebKit/530.17 (KHTML, like Gecko) Version/4.0 Safari/530.17; 360browser(securitypay,securityinstalled); 360(android,uppayplugin); 360 Aphone Browser (6.3.8)')\n",
      "print aa"
     ],
     "language": "python",
     "metadata": {
      "run_control": {
       "breakpoint": false
      }
     },
     "outputs": [
      {
       "output_type": "stream",
       "stream": "stdout",
       "text": [
        "PC / Mac OS X 10.5.7 / Safari 4\n"
       ]
      }
     ],
     "prompt_number": 43
    },
    {
     "cell_type": "code",
     "collapsed": false,
     "input": [
      "df_session_f.drop(['device','ua'],1, inplace=True)"
     ],
     "language": "python",
     "metadata": {
      "run_control": {
       "breakpoint": false
      }
     },
     "outputs": [
      {
       "ename": "ValueError",
       "evalue": "labels ['ua'] not contained in axis",
       "output_type": "pyerr",
       "traceback": [
        "\u001b[0;31m---------------------------------------------------------------------------\u001b[0m\n\u001b[0;31mValueError\u001b[0m                                Traceback (most recent call last)",
        "\u001b[0;32m<ipython-input-54-3ea176186b31>\u001b[0m in \u001b[0;36m<module>\u001b[0;34m()\u001b[0m\n\u001b[1;32m      1\u001b[0m \u001b[0;31m#df_session_f=df_session_f.drop(['ua'],axis=1)\u001b[0m\u001b[0;34m\u001b[0m\u001b[0;34m\u001b[0m\u001b[0m\n\u001b[0;32m----> 2\u001b[0;31m \u001b[0mdf_session_f\u001b[0m\u001b[0;34m.\u001b[0m\u001b[0mdrop\u001b[0m\u001b[0;34m(\u001b[0m\u001b[0;34m[\u001b[0m\u001b[0;34m'device'\u001b[0m\u001b[0;34m,\u001b[0m\u001b[0;34m'ua'\u001b[0m\u001b[0;34m]\u001b[0m\u001b[0;34m,\u001b[0m\u001b[0;36m1\u001b[0m\u001b[0;34m,\u001b[0m \u001b[0minplace\u001b[0m\u001b[0;34m=\u001b[0m\u001b[0mTrue\u001b[0m\u001b[0;34m)\u001b[0m  \u001b[0;31m#(columns={'msisdn': 'user_id'}, inplace=True)\u001b[0m\u001b[0;34m\u001b[0m\u001b[0m\n\u001b[0m",
        "\u001b[0;32m/Users/Nicolas/anaconda/lib/python2.7/site-packages/pandas/core/generic.pyc\u001b[0m in \u001b[0;36mdrop\u001b[0;34m(self, labels, axis, level, inplace, **kwargs)\u001b[0m\n\u001b[1;32m   1462\u001b[0m                 \u001b[0mnew_axis\u001b[0m \u001b[0;34m=\u001b[0m \u001b[0maxis\u001b[0m\u001b[0;34m.\u001b[0m\u001b[0mdrop\u001b[0m\u001b[0;34m(\u001b[0m\u001b[0mlabels\u001b[0m\u001b[0;34m,\u001b[0m \u001b[0mlevel\u001b[0m\u001b[0;34m=\u001b[0m\u001b[0mlevel\u001b[0m\u001b[0;34m)\u001b[0m\u001b[0;34m\u001b[0m\u001b[0m\n\u001b[1;32m   1463\u001b[0m             \u001b[0;32melse\u001b[0m\u001b[0;34m:\u001b[0m\u001b[0;34m\u001b[0m\u001b[0m\n\u001b[0;32m-> 1464\u001b[0;31m                 \u001b[0mnew_axis\u001b[0m \u001b[0;34m=\u001b[0m \u001b[0maxis\u001b[0m\u001b[0;34m.\u001b[0m\u001b[0mdrop\u001b[0m\u001b[0;34m(\u001b[0m\u001b[0mlabels\u001b[0m\u001b[0;34m)\u001b[0m\u001b[0;34m\u001b[0m\u001b[0m\n\u001b[0m\u001b[1;32m   1465\u001b[0m             \u001b[0mdropped\u001b[0m \u001b[0;34m=\u001b[0m \u001b[0mself\u001b[0m\u001b[0;34m.\u001b[0m\u001b[0mreindex\u001b[0m\u001b[0;34m(\u001b[0m\u001b[0;34m**\u001b[0m\u001b[0;34m{\u001b[0m\u001b[0maxis_name\u001b[0m\u001b[0;34m:\u001b[0m \u001b[0mnew_axis\u001b[0m\u001b[0;34m}\u001b[0m\u001b[0;34m)\u001b[0m\u001b[0;34m\u001b[0m\u001b[0m\n\u001b[1;32m   1466\u001b[0m             \u001b[0;32mtry\u001b[0m\u001b[0;34m:\u001b[0m\u001b[0;34m\u001b[0m\u001b[0m\n",
        "\u001b[0;32m/Users/Nicolas/anaconda/lib/python2.7/site-packages/pandas/core/index.pyc\u001b[0m in \u001b[0;36mdrop\u001b[0;34m(self, labels)\u001b[0m\n\u001b[1;32m   1829\u001b[0m         \u001b[0mmask\u001b[0m \u001b[0;34m=\u001b[0m \u001b[0mindexer\u001b[0m \u001b[0;34m==\u001b[0m \u001b[0;34m-\u001b[0m\u001b[0;36m1\u001b[0m\u001b[0;34m\u001b[0m\u001b[0m\n\u001b[1;32m   1830\u001b[0m         \u001b[0;32mif\u001b[0m \u001b[0mmask\u001b[0m\u001b[0;34m.\u001b[0m\u001b[0many\u001b[0m\u001b[0;34m(\u001b[0m\u001b[0;34m)\u001b[0m\u001b[0;34m:\u001b[0m\u001b[0;34m\u001b[0m\u001b[0m\n\u001b[0;32m-> 1831\u001b[0;31m             \u001b[0;32mraise\u001b[0m \u001b[0mValueError\u001b[0m\u001b[0;34m(\u001b[0m\u001b[0;34m'labels %s not contained in axis'\u001b[0m \u001b[0;34m%\u001b[0m \u001b[0mlabels\u001b[0m\u001b[0;34m[\u001b[0m\u001b[0mmask\u001b[0m\u001b[0;34m]\u001b[0m\u001b[0;34m)\u001b[0m\u001b[0;34m\u001b[0m\u001b[0m\n\u001b[0m\u001b[1;32m   1832\u001b[0m         \u001b[0;32mreturn\u001b[0m \u001b[0mself\u001b[0m\u001b[0;34m.\u001b[0m\u001b[0mdelete\u001b[0m\u001b[0;34m(\u001b[0m\u001b[0mindexer\u001b[0m\u001b[0;34m)\u001b[0m\u001b[0;34m\u001b[0m\u001b[0m\n\u001b[1;32m   1833\u001b[0m \u001b[0;34m\u001b[0m\u001b[0m\n",
        "\u001b[0;31mValueError\u001b[0m: labels ['ua'] not contained in axis"
       ]
      }
     ],
     "prompt_number": 54
    },
    {
     "cell_type": "code",
     "collapsed": false,
     "input": [
      "df_session_f.head(2)"
     ],
     "language": "python",
     "metadata": {
      "run_control": {
       "breakpoint": false
      }
     },
     "outputs": [
      {
       "html": [
        "<div style=\"max-height:1000px;max-width:1500px;overflow:auto;\">\n",
        "<table border=\"1\" class=\"dataframe\">\n",
        "  <thead>\n",
        "    <tr style=\"text-align: right;\">\n",
        "      <th></th>\n",
        "      <th>user_id</th>\n",
        "      <th>time</th>\n",
        "      <th>duration</th>\n",
        "      <th>ip</th>\n",
        "      <th>pv</th>\n",
        "      <th>variety</th>\n",
        "      <th>landpage</th>\n",
        "      <th>device</th>\n",
        "      <th>inbox</th>\n",
        "      <th>mymed</th>\n",
        "      <th>...</th>\n",
        "      <th>frien</th>\n",
        "      <th>info</th>\n",
        "      <th>media</th>\n",
        "      <th>uploa</th>\n",
        "      <th>avata</th>\n",
        "      <th>publi</th>\n",
        "      <th>help</th>\n",
        "      <th>dfamily</th>\n",
        "      <th>dversion</th>\n",
        "      <th>dmodel</th>\n",
        "    </tr>\n",
        "  </thead>\n",
        "  <tbody>\n",
        "    <tr>\n",
        "      <th>1389457</th>\n",
        "      <td> 00002f99e468</td>\n",
        "      <td> 2014-09-25 13:27:29</td>\n",
        "      <td> 9368</td>\n",
        "      <td> 8b7638dacfd8</td>\n",
        "      <td> 313</td>\n",
        "      <td> 11</td>\n",
        "      <td> /regis</td>\n",
        "      <td> Android 4.4.2</td>\n",
        "      <td> 33</td>\n",
        "      <td> 0</td>\n",
        "      <td>...</td>\n",
        "      <td> 79</td>\n",
        "      <td> 96</td>\n",
        "      <td> 1</td>\n",
        "      <td> 5</td>\n",
        "      <td> 3</td>\n",
        "      <td> 1</td>\n",
        "      <td> 1</td>\n",
        "      <td> Android</td>\n",
        "      <td> 4.4.2</td>\n",
        "      <td> (LG D120,)</td>\n",
        "    </tr>\n",
        "    <tr>\n",
        "      <th>1389458</th>\n",
        "      <td> 00002f99e468</td>\n",
        "      <td> 2014-09-27 00:07:27</td>\n",
        "      <td> 3509</td>\n",
        "      <td> 09a157e012ef</td>\n",
        "      <td>  79</td>\n",
        "      <td>  6</td>\n",
        "      <td> /home </td>\n",
        "      <td> Android 4.4.2</td>\n",
        "      <td> 21</td>\n",
        "      <td> 0</td>\n",
        "      <td>...</td>\n",
        "      <td>  7</td>\n",
        "      <td>  0</td>\n",
        "      <td> 1</td>\n",
        "      <td> 0</td>\n",
        "      <td> 0</td>\n",
        "      <td> 0</td>\n",
        "      <td> 0</td>\n",
        "      <td> Android</td>\n",
        "      <td> 4.4.2</td>\n",
        "      <td> (LG D120,)</td>\n",
        "    </tr>\n",
        "  </tbody>\n",
        "</table>\n",
        "<p>2 rows \u00d7 23 columns</p>\n",
        "</div>"
       ],
       "metadata": {},
       "output_type": "pyout",
       "prompt_number": 45,
       "text": [
        "              user_id                 time  duration            ip   pv  \\\n",
        "1389457  00002f99e468  2014-09-25 13:27:29      9368  8b7638dacfd8  313   \n",
        "1389458  00002f99e468  2014-09-27 00:07:27      3509  09a157e012ef   79   \n",
        "\n",
        "         variety landpage         device  inbox  mymed  ...    frien  info  \\\n",
        "1389457       11   /regis  Android 4.4.2     33      0  ...       79    96   \n",
        "1389458        6   /home   Android 4.4.2     21      0  ...        7     0   \n",
        "\n",
        "         media  uploa  avata  publi  help  dfamily  dversion      dmodel  \n",
        "1389457      1      5      3      1     1  Android     4.4.2  (LG D120,)  \n",
        "1389458      1      0      0      0     0  Android     4.4.2  (LG D120,)  \n",
        "\n",
        "[2 rows x 23 columns]"
       ]
      }
     ],
     "prompt_number": 45
    },
    {
     "cell_type": "markdown",
     "metadata": {},
     "source": [
      "##Saving filtered session file\n",
      "(takes a good 10 minutes)"
     ]
    },
    {
     "cell_type": "code",
     "collapsed": false,
     "input": [
      "#file_name='/Users/nicolas/logs/nobackup/sessions23.pv.csv'\n",
      "fn_out='.'.join(sessions_file_name.split('.')[:-1])+'.a.csv'\n",
      "print 'saving to',fn_out\n",
      "df_session_f.to_csv(fn_out, encoding='utf-8', index=False)\n",
      "!head -n 3 {fn_out}"
     ],
     "language": "python",
     "metadata": {
      "run_control": {
       "breakpoint": false
      }
     },
     "outputs": [
      {
       "output_type": "stream",
       "stream": "stdout",
       "text": [
        "saving to /Users/Nicolas/dev/data/sessions.p.pv.day.a.csv\n",
        "user_id,time,duration,ip,pv,variety,landpage,device,inbox,mymed,conve,activ,home,frien,info,media,uploa,avata,publi,help,dfamily,dversion,dmodel\r\n",
        "00002f99e468,2014-09-25 13:27:29,9368,8b7638dacfd8,313,11,/regis,Android 4.4.2,33,0,35,18,39,79,96,1,5,3,1,1,Android,4.4.2,\"(LG D120,)\"\r\n",
        "00002f99e468,2014-09-27 00:07:27,3509,09a157e012ef,79,6,/home ,Android 4.4.2,21,0,37,9,4,7,0,1,0,0,0,0,Android,4.4.2,\"(LG D120,)\"\r\n"
       ]
      }
     ],
     "prompt_number": 46
    },
    {
     "cell_type": "code",
     "collapsed": false,
     "input": [
      "!tail -n 3 {fn_out}"
     ],
     "language": "python",
     "metadata": {
      "run_control": {
       "breakpoint": false
      }
     },
     "outputs": [
      {
       "output_type": "stream",
       "stream": "stdout",
       "text": [
        "ffff9feace82,2015-02-01 00:06:47,1772,f02d2be5c956,41,6,/inbox,Android 4.1.,5,10,1,16,0,4,5,0,0,0,0,0,Android,4.1.2,\"(Samsung GT-S5310L,)\"\r\n",
        "ffffc95bda89,2015-01-01 16:24:03,3,5912fb1b9e2a,2,1,/regis,Android 4.1.,0,0,0,0,0,0,0,0,0,0,0,0,Android,4.1.2,\"(LG P714,)\"\r\n",
        "ffffc95bda89,2015-01-06 16:34:25,242,bdb06da312e0,13,3,/regis,Android 4.1.,0,0,0,0,7,2,0,0,2,0,0,0,Android,4.1.2,\"(LG P714,)\"\r\n"
       ]
      }
     ],
     "prompt_number": 47
    },
    {
     "cell_type": "code",
     "collapsed": false,
     "input": [
      "#!gzip -f {fn_out}"
     ],
     "language": "python",
     "metadata": {
      "run_control": {
       "breakpoint": false
      }
     },
     "outputs": [],
     "prompt_number": 48
    },
    {
     "cell_type": "code",
     "collapsed": false,
     "input": [
      "df_session_f[df_session_f['user_id']==xx('525510031588')].tail(3)"
     ],
     "language": "python",
     "metadata": {
      "run_control": {
       "breakpoint": false
      }
     },
     "outputs": [
      {
       "html": [
        "<div style=\"max-height:1000px;max-width:1500px;overflow:auto;\">\n",
        "<table border=\"1\" class=\"dataframe\">\n",
        "  <thead>\n",
        "    <tr style=\"text-align: right;\">\n",
        "      <th></th>\n",
        "      <th>user_id</th>\n",
        "      <th>time</th>\n",
        "      <th>duration</th>\n",
        "      <th>ip</th>\n",
        "      <th>pv</th>\n",
        "      <th>variety</th>\n",
        "      <th>landpage</th>\n",
        "      <th>device</th>\n",
        "      <th>inbox</th>\n",
        "      <th>mymed</th>\n",
        "      <th>...</th>\n",
        "      <th>frien</th>\n",
        "      <th>info</th>\n",
        "      <th>media</th>\n",
        "      <th>uploa</th>\n",
        "      <th>avata</th>\n",
        "      <th>publi</th>\n",
        "      <th>help</th>\n",
        "      <th>dfamily</th>\n",
        "      <th>dversion</th>\n",
        "      <th>dmodel</th>\n",
        "    </tr>\n",
        "  </thead>\n",
        "  <tbody>\n",
        "    <tr>\n",
        "      <th>146</th>\n",
        "      <td> 76b91ea2858a</td>\n",
        "      <td> 2014-10-28 08:49:28</td>\n",
        "      <td>  294</td>\n",
        "      <td> a914eaf925fb</td>\n",
        "      <td> 13</td>\n",
        "      <td> 6</td>\n",
        "      <td> /home </td>\n",
        "      <td> Android 2.3.6</td>\n",
        "      <td> 1</td>\n",
        "      <td> 0</td>\n",
        "      <td>...</td>\n",
        "      <td> 1</td>\n",
        "      <td> 1</td>\n",
        "      <td> 1</td>\n",
        "      <td> 0</td>\n",
        "      <td> 0</td>\n",
        "      <td> 0</td>\n",
        "      <td> 0</td>\n",
        "      <td> Android</td>\n",
        "      <td> 2.3.6</td>\n",
        "      <td> (Alcatel ONE TOUCH 4010A,)</td>\n",
        "    </tr>\n",
        "    <tr>\n",
        "      <th>147</th>\n",
        "      <td> 76b91ea2858a</td>\n",
        "      <td> 2014-10-29 09:26:59</td>\n",
        "      <td> 3186</td>\n",
        "      <td> c68ab73e0392</td>\n",
        "      <td> 65</td>\n",
        "      <td> 5</td>\n",
        "      <td> /home </td>\n",
        "      <td> Android 2.3.6</td>\n",
        "      <td> 1</td>\n",
        "      <td> 0</td>\n",
        "      <td>...</td>\n",
        "      <td> 4</td>\n",
        "      <td> 3</td>\n",
        "      <td> 0</td>\n",
        "      <td> 0</td>\n",
        "      <td> 0</td>\n",
        "      <td> 0</td>\n",
        "      <td> 0</td>\n",
        "      <td> Android</td>\n",
        "      <td> 2.3.6</td>\n",
        "      <td> (Alcatel ONE TOUCH 4010A,)</td>\n",
        "    </tr>\n",
        "    <tr>\n",
        "      <th>148</th>\n",
        "      <td> 76b91ea2858a</td>\n",
        "      <td> 2014-10-30 10:06:20</td>\n",
        "      <td>  414</td>\n",
        "      <td> bb20b586fa97</td>\n",
        "      <td> 18</td>\n",
        "      <td> 1</td>\n",
        "      <td> /home </td>\n",
        "      <td> Android 2.3.6</td>\n",
        "      <td> 0</td>\n",
        "      <td> 0</td>\n",
        "      <td>...</td>\n",
        "      <td> 0</td>\n",
        "      <td> 0</td>\n",
        "      <td> 0</td>\n",
        "      <td> 0</td>\n",
        "      <td> 0</td>\n",
        "      <td> 0</td>\n",
        "      <td> 0</td>\n",
        "      <td> Android</td>\n",
        "      <td> 2.3.6</td>\n",
        "      <td> (Alcatel ONE TOUCH 4010A,)</td>\n",
        "    </tr>\n",
        "  </tbody>\n",
        "</table>\n",
        "<p>3 rows \u00d7 23 columns</p>\n",
        "</div>"
       ],
       "metadata": {},
       "output_type": "pyout",
       "prompt_number": 49,
       "text": [
        "          user_id                 time  duration            ip  pv  variety  \\\n",
        "146  76b91ea2858a  2014-10-28 08:49:28       294  a914eaf925fb  13        6   \n",
        "147  76b91ea2858a  2014-10-29 09:26:59      3186  c68ab73e0392  65        5   \n",
        "148  76b91ea2858a  2014-10-30 10:06:20       414  bb20b586fa97  18        1   \n",
        "\n",
        "    landpage         device  inbox  mymed  ...    frien  info  media  uploa  \\\n",
        "146   /home   Android 2.3.6      1      0  ...        1     1      1      0   \n",
        "147   /home   Android 2.3.6      1      0  ...        4     3      0      0   \n",
        "148   /home   Android 2.3.6      0      0  ...        0     0      0      0   \n",
        "\n",
        "     avata  publi  help  dfamily  dversion                      dmodel  \n",
        "146      0      0     0  Android     2.3.6  (Alcatel ONE TOUCH 4010A,)  \n",
        "147      0      0     0  Android     2.3.6  (Alcatel ONE TOUCH 4010A,)  \n",
        "148      0      0     0  Android     2.3.6  (Alcatel ONE TOUCH 4010A,)  \n",
        "\n",
        "[3 rows x 23 columns]"
       ]
      }
     ],
     "prompt_number": 49
    },
    {
     "cell_type": "code",
     "collapsed": false,
     "input": [],
     "language": "python",
     "metadata": {},
     "outputs": [],
     "prompt_number": 49
    },
    {
     "cell_type": "code",
     "collapsed": false,
     "input": [],
     "language": "python",
     "metadata": {},
     "outputs": [],
     "prompt_number": 49
    },
    {
     "cell_type": "markdown",
     "metadata": {},
     "source": [
      "##Save the user file"
     ]
    },
    {
     "cell_type": "code",
     "collapsed": false,
     "input": [
      "df_user_short=df_user_f\n",
      "df_user_short=df_user_short.drop(['login','web', 'sms','mms', 'oid','fb_url','tw_url'],1)\n",
      "df_user_short.head(3)"
     ],
     "language": "python",
     "metadata": {
      "run_control": {
       "breakpoint": false
      }
     },
     "outputs": [
      {
       "html": [
        "<div style=\"max-height:1000px;max-width:1500px;overflow:auto;\">\n",
        "<table border=\"1\" class=\"dataframe\">\n",
        "  <thead>\n",
        "    <tr style=\"text-align: right;\">\n",
        "      <th></th>\n",
        "      <th>user_id</th>\n",
        "      <th>joined</th>\n",
        "      <th>last_seen</th>\n",
        "      <th>disk_usage</th>\n",
        "      <th>state</th>\n",
        "      <th>friends</th>\n",
        "      <th>invites</th>\n",
        "      <th>rcvdInv</th>\n",
        "      <th>rejectd</th>\n",
        "      <th>sim</th>\n",
        "      <th>twFrs</th>\n",
        "      <th>fbFrs</th>\n",
        "      <th>yt</th>\n",
        "      <th>pi</th>\n",
        "      <th>fk</th>\n",
        "      <th>area</th>\n",
        "    </tr>\n",
        "  </thead>\n",
        "  <tbody>\n",
        "    <tr>\n",
        "      <th>4 </th>\n",
        "      <td> 11710e3b7a19</td>\n",
        "      <td>2009-12-03 23:33:11</td>\n",
        "      <td>2014-12-12 02:22:01</td>\n",
        "      <td> 11834402</td>\n",
        "      <td> 1</td>\n",
        "      <td> 283</td>\n",
        "      <td> 0</td>\n",
        "      <td> 165</td>\n",
        "      <td> 12</td>\n",
        "      <td>NaN</td>\n",
        "      <td>  0</td>\n",
        "      <td>NaN</td>\n",
        "      <td>NaN</td>\n",
        "      <td>NaN</td>\n",
        "      <td>NaN</td>\n",
        "      <td> 6fe0d4</td>\n",
        "    </tr>\n",
        "    <tr>\n",
        "      <th>9 </th>\n",
        "      <td> 71f7ee50bffd</td>\n",
        "      <td>2009-12-22 23:17:20</td>\n",
        "      <td>2014-08-16 01:12:44</td>\n",
        "      <td> 12268773</td>\n",
        "      <td> 1</td>\n",
        "      <td>  33</td>\n",
        "      <td> 6</td>\n",
        "      <td> 175</td>\n",
        "      <td>  0</td>\n",
        "      <td>NaN</td>\n",
        "      <td> 73</td>\n",
        "      <td>NaN</td>\n",
        "      <td>  1</td>\n",
        "      <td>NaN</td>\n",
        "      <td>NaN</td>\n",
        "      <td> 6fe0d4</td>\n",
        "    </tr>\n",
        "    <tr>\n",
        "      <th>23</th>\n",
        "      <td> d9c9041178a1</td>\n",
        "      <td>2010-01-21 21:36:31</td>\n",
        "      <td>2014-12-23 01:37:09</td>\n",
        "      <td> 51281969</td>\n",
        "      <td> 1</td>\n",
        "      <td> 349</td>\n",
        "      <td> 0</td>\n",
        "      <td>  17</td>\n",
        "      <td> 94</td>\n",
        "      <td>NaN</td>\n",
        "      <td>NaN</td>\n",
        "      <td>NaN</td>\n",
        "      <td>NaN</td>\n",
        "      <td>NaN</td>\n",
        "      <td>NaN</td>\n",
        "      <td> 5dad96</td>\n",
        "    </tr>\n",
        "  </tbody>\n",
        "</table>\n",
        "</div>"
       ],
       "metadata": {},
       "output_type": "pyout",
       "prompt_number": 50,
       "text": [
        "         user_id              joined           last_seen  disk_usage  state  \\\n",
        "4   11710e3b7a19 2009-12-03 23:33:11 2014-12-12 02:22:01    11834402      1   \n",
        "9   71f7ee50bffd 2009-12-22 23:17:20 2014-08-16 01:12:44    12268773      1   \n",
        "23  d9c9041178a1 2010-01-21 21:36:31 2014-12-23 01:37:09    51281969      1   \n",
        "\n",
        "    friends  invites  rcvdInv  rejectd  sim  twFrs  fbFrs  yt  pi  fk    area  \n",
        "4       283        0      165       12  NaN      0    NaN NaN NaN NaN  6fe0d4  \n",
        "9        33        6      175        0  NaN     73    NaN   1 NaN NaN  6fe0d4  \n",
        "23      349        0       17       94  NaN    NaN    NaN NaN NaN NaN  5dad96  "
       ]
      }
     ],
     "prompt_number": 50
    },
    {
     "cell_type": "code",
     "collapsed": false,
     "input": [
      "fn_user_out='/Users/Nicolas/dev/data/users.a.csv'\n",
      "print 'saving to',fn_user_out\n",
      "df_user_short.to_csv(fn_user_out, encoding='utf-8', index=False)"
     ],
     "language": "python",
     "metadata": {
      "run_control": {
       "breakpoint": false
      }
     },
     "outputs": [
      {
       "output_type": "stream",
       "stream": "stdout",
       "text": [
        "saving to /Users/Nicolas/dev/data/users.a.csv\n"
       ]
      }
     ],
     "prompt_number": 51
    },
    {
     "cell_type": "code",
     "collapsed": false,
     "input": [],
     "language": "python",
     "metadata": {},
     "outputs": []
    },
    {
     "cell_type": "markdown",
     "metadata": {},
     "source": [
      "## Inactive users"
     ]
    },
    {
     "cell_type": "code",
     "collapsed": false,
     "input": [
      "df_inactive=df_user_f[df_user_f['last_seen']<'2014-07-01']"
     ],
     "language": "python",
     "metadata": {
      "run_control": {
       "breakpoint": false
      }
     },
     "outputs": [],
     "prompt_number": 121
    },
    {
     "cell_type": "code",
     "collapsed": false,
     "input": [
      "print len(df_inactive['msisdn'].unique())\n",
      "df_inactive['YYMM_joined'] =df_inactive['joined'].apply(lambda x: '%d-%02d'%(x.year,x.month))\n",
      "df_inactive.head(4)"
     ],
     "language": "python",
     "metadata": {
      "run_control": {
       "breakpoint": false
      }
     },
     "outputs": [
      {
       "output_type": "stream",
       "stream": "stdout",
       "text": [
        "2524\n"
       ]
      },
      {
       "html": [
        "<div style=\"max-height:1000px;max-width:1500px;overflow:auto;\">\n",
        "<table border=\"1\" class=\"dataframe\">\n",
        "  <thead>\n",
        "    <tr style=\"text-align: right;\">\n",
        "      <th></th>\n",
        "      <th>user_id</th>\n",
        "      <th>msisdn</th>\n",
        "      <th>oid</th>\n",
        "      <th>joined</th>\n",
        "      <th>last_seen</th>\n",
        "      <th>disk_usage</th>\n",
        "      <th>state</th>\n",
        "      <th>friends</th>\n",
        "      <th>invites</th>\n",
        "      <th>rcvdInv</th>\n",
        "      <th>...</th>\n",
        "      <th>web</th>\n",
        "      <th>twFrs</th>\n",
        "      <th>tw_url</th>\n",
        "      <th>fbFrs</th>\n",
        "      <th>fb_url</th>\n",
        "      <th>yt</th>\n",
        "      <th>pi</th>\n",
        "      <th>fk</th>\n",
        "      <th>area</th>\n",
        "      <th>YYMM_joined</th>\n",
        "    </tr>\n",
        "  </thead>\n",
        "  <tbody>\n",
        "    <tr>\n",
        "      <th>208 </th>\n",
        "      <td> 1659</td>\n",
        "      <td> d7a0424cccb2</td>\n",
        "      <td> 10</td>\n",
        "      <td>2010-02-15 18:14:53</td>\n",
        "      <td>2013-02-17 05:52:57</td>\n",
        "      <td> 0</td>\n",
        "      <td> 1</td>\n",
        "      <td> 1</td>\n",
        "      <td> 0</td>\n",
        "      <td> 9</td>\n",
        "      <td>...</td>\n",
        "      <td>NaN</td>\n",
        "      <td> 11</td>\n",
        "      <td> http://twitter.com/emanolo</td>\n",
        "      <td>NaN</td>\n",
        "      <td> NaN</td>\n",
        "      <td>  1</td>\n",
        "      <td>NaN</td>\n",
        "      <td>NaN</td>\n",
        "      <td> e2e4ef</td>\n",
        "      <td> 2010-02</td>\n",
        "    </tr>\n",
        "    <tr>\n",
        "      <th>650 </th>\n",
        "      <td> 3174</td>\n",
        "      <td> 10a764e7af50</td>\n",
        "      <td> 10</td>\n",
        "      <td>2010-03-25 23:07:14</td>\n",
        "      <td>2010-03-25 23:42:46</td>\n",
        "      <td> 0</td>\n",
        "      <td> 1</td>\n",
        "      <td> 0</td>\n",
        "      <td> 0</td>\n",
        "      <td> 2</td>\n",
        "      <td>...</td>\n",
        "      <td>NaN</td>\n",
        "      <td>  0</td>\n",
        "      <td>  http://twitter.com/mem014</td>\n",
        "      <td>NaN</td>\n",
        "      <td> NaN</td>\n",
        "      <td>NaN</td>\n",
        "      <td>NaN</td>\n",
        "      <td>NaN</td>\n",
        "      <td> 5dad96</td>\n",
        "      <td> 2010-03</td>\n",
        "    </tr>\n",
        "    <tr>\n",
        "      <th>1320</th>\n",
        "      <td> 5405</td>\n",
        "      <td> 6fc86fd1fa8d</td>\n",
        "      <td> 10</td>\n",
        "      <td>2010-04-15 04:45:46</td>\n",
        "      <td>2010-04-15 04:54:56</td>\n",
        "      <td> 0</td>\n",
        "      <td> 1</td>\n",
        "      <td> 1</td>\n",
        "      <td> 1</td>\n",
        "      <td> 3</td>\n",
        "      <td>...</td>\n",
        "      <td>NaN</td>\n",
        "      <td>NaN</td>\n",
        "      <td>                        NaN</td>\n",
        "      <td>NaN</td>\n",
        "      <td> NaN</td>\n",
        "      <td>NaN</td>\n",
        "      <td>NaN</td>\n",
        "      <td>NaN</td>\n",
        "      <td> 5dad96</td>\n",
        "      <td> 2010-04</td>\n",
        "    </tr>\n",
        "    <tr>\n",
        "      <th>2031</th>\n",
        "      <td> 7725</td>\n",
        "      <td> 7d5cc17cff8c</td>\n",
        "      <td> 10</td>\n",
        "      <td>2010-05-11 18:50:35</td>\n",
        "      <td>2014-06-30 05:05:36</td>\n",
        "      <td> 0</td>\n",
        "      <td> 1</td>\n",
        "      <td> 0</td>\n",
        "      <td> 0</td>\n",
        "      <td> 2</td>\n",
        "      <td>...</td>\n",
        "      <td>NaN</td>\n",
        "      <td>NaN</td>\n",
        "      <td>                        NaN</td>\n",
        "      <td>NaN</td>\n",
        "      <td> NaN</td>\n",
        "      <td>NaN</td>\n",
        "      <td>NaN</td>\n",
        "      <td>NaN</td>\n",
        "      <td> 5dad96</td>\n",
        "      <td> 2010-05</td>\n",
        "    </tr>\n",
        "  </tbody>\n",
        "</table>\n",
        "<p>4 rows \u00d7 25 columns</p>\n",
        "</div>"
       ],
       "metadata": {},
       "output_type": "pyout",
       "prompt_number": 122,
       "text": [
        "      user_id        msisdn  oid              joined           last_seen  \\\n",
        "208      1659  d7a0424cccb2   10 2010-02-15 18:14:53 2013-02-17 05:52:57   \n",
        "650      3174  10a764e7af50   10 2010-03-25 23:07:14 2010-03-25 23:42:46   \n",
        "1320     5405  6fc86fd1fa8d   10 2010-04-15 04:45:46 2010-04-15 04:54:56   \n",
        "2031     7725  7d5cc17cff8c   10 2010-05-11 18:50:35 2014-06-30 05:05:36   \n",
        "\n",
        "      disk_usage  state  friends  invites  rcvdInv   ...     web  twFrs  \\\n",
        "208            0      1        1        0        9   ...     NaN     11   \n",
        "650            0      1        0        0        2   ...     NaN      0   \n",
        "1320           0      1        1        1        3   ...     NaN    NaN   \n",
        "2031           0      1        0        0        2   ...     NaN    NaN   \n",
        "\n",
        "                          tw_url  fbFrs  fb_url  yt  pi  fk    area  \\\n",
        "208   http://twitter.com/emanolo    NaN     NaN   1 NaN NaN  e2e4ef   \n",
        "650    http://twitter.com/mem014    NaN     NaN NaN NaN NaN  5dad96   \n",
        "1320                         NaN    NaN     NaN NaN NaN NaN  5dad96   \n",
        "2031                         NaN    NaN     NaN NaN NaN NaN  5dad96   \n",
        "\n",
        "     YYMM_joined  \n",
        "208      2010-02  \n",
        "650      2010-03  \n",
        "1320     2010-04  \n",
        "2031     2010-05  \n",
        "\n",
        "[4 rows x 25 columns]"
       ]
      }
     ],
     "prompt_number": 122
    },
    {
     "cell_type": "code",
     "collapsed": false,
     "input": [
      "dd=df_inactive[(df_inactive['last_seen']>'2014-06-01') & (df_inactive['joined']>'2012-06-01')]\n",
      "dd=dd[['user_id','last_seen','YYMM_joined']].groupby(['YYMM_joined']).agg(['count'])\n",
      "import matplotlib.pyplot as plt\n",
      "plt.figure(); \n",
      "dd['user_id'].tail(12)\n"
     ],
     "language": "python",
     "metadata": {
      "run_control": {
       "breakpoint": false
      }
     },
     "outputs": [
      {
       "html": [
        "<div style=\"max-height:1000px;max-width:1500px;overflow:auto;\">\n",
        "<table border=\"1\" class=\"dataframe\">\n",
        "  <thead>\n",
        "    <tr style=\"text-align: right;\">\n",
        "      <th></th>\n",
        "      <th>count</th>\n",
        "    </tr>\n",
        "    <tr>\n",
        "      <th>YYMM_joined</th>\n",
        "      <th></th>\n",
        "    </tr>\n",
        "  </thead>\n",
        "  <tbody>\n",
        "    <tr>\n",
        "      <th>2013-08</th>\n",
        "      <td> 13</td>\n",
        "    </tr>\n",
        "    <tr>\n",
        "      <th>2013-09</th>\n",
        "      <td> 11</td>\n",
        "    </tr>\n",
        "    <tr>\n",
        "      <th>2013-10</th>\n",
        "      <td>  9</td>\n",
        "    </tr>\n",
        "    <tr>\n",
        "      <th>2013-11</th>\n",
        "      <td> 14</td>\n",
        "    </tr>\n",
        "    <tr>\n",
        "      <th>2013-12</th>\n",
        "      <td> 18</td>\n",
        "    </tr>\n",
        "    <tr>\n",
        "      <th>2014-01</th>\n",
        "      <td> 12</td>\n",
        "    </tr>\n",
        "    <tr>\n",
        "      <th>2014-02</th>\n",
        "      <td> 28</td>\n",
        "    </tr>\n",
        "    <tr>\n",
        "      <th>2014-03</th>\n",
        "      <td> 21</td>\n",
        "    </tr>\n",
        "    <tr>\n",
        "      <th>2014-04</th>\n",
        "      <td> 17</td>\n",
        "    </tr>\n",
        "    <tr>\n",
        "      <th>2014-05</th>\n",
        "      <td> 41</td>\n",
        "    </tr>\n",
        "    <tr>\n",
        "      <th>2014-06</th>\n",
        "      <td> 93</td>\n",
        "    </tr>\n",
        "    <tr>\n",
        "      <th>2014-12</th>\n",
        "      <td>  1</td>\n",
        "    </tr>\n",
        "  </tbody>\n",
        "</table>\n",
        "</div>"
       ],
       "metadata": {},
       "output_type": "pyout",
       "prompt_number": 123,
       "text": [
        "             count\n",
        "YYMM_joined       \n",
        "2013-08         13\n",
        "2013-09         11\n",
        "2013-10          9\n",
        "2013-11         14\n",
        "2013-12         18\n",
        "2014-01         12\n",
        "2014-02         28\n",
        "2014-03         21\n",
        "2014-04         17\n",
        "2014-05         41\n",
        "2014-06         93\n",
        "2014-12          1"
       ]
      }
     ],
     "prompt_number": 123
    },
    {
     "cell_type": "code",
     "collapsed": false,
     "input": [
      "df_active=df_user[df_user['last_seen']>'2014-07-01']\n",
      "df_active['YYMM_joined'] =df_active['joined'].apply(lambda x: '%d-%02d'%(x.year,x.month))\n"
     ],
     "language": "python",
     "metadata": {
      "run_control": {
       "breakpoint": false
      }
     },
     "outputs": [],
     "prompt_number": 77
    },
    {
     "cell_type": "code",
     "collapsed": false,
     "input": [
      "dd=df_active[['user_id','last_seen','YYMM_joined']].groupby(['YYMM_joined']).agg(['count'])\n",
      "dd['user_id']"
     ],
     "language": "python",
     "metadata": {
      "run_control": {
       "breakpoint": false
      }
     },
     "outputs": [
      {
       "html": [
        "<div style=\"max-height:1000px;max-width:1500px;overflow:auto;\">\n",
        "<table border=\"1\" class=\"dataframe\">\n",
        "  <thead>\n",
        "    <tr style=\"text-align: right;\">\n",
        "      <th></th>\n",
        "      <th>count</th>\n",
        "    </tr>\n",
        "    <tr>\n",
        "      <th>YYMM_joined</th>\n",
        "      <th></th>\n",
        "    </tr>\n",
        "  </thead>\n",
        "  <tbody>\n",
        "    <tr>\n",
        "      <th>2009-12</th>\n",
        "      <td>     2</td>\n",
        "    </tr>\n",
        "    <tr>\n",
        "      <th>2010-01</th>\n",
        "      <td>     8</td>\n",
        "    </tr>\n",
        "    <tr>\n",
        "      <th>2010-02</th>\n",
        "      <td>    11</td>\n",
        "    </tr>\n",
        "    <tr>\n",
        "      <th>2010-03</th>\n",
        "      <td>    12</td>\n",
        "    </tr>\n",
        "    <tr>\n",
        "      <th>2010-04</th>\n",
        "      <td>    29</td>\n",
        "    </tr>\n",
        "    <tr>\n",
        "      <th>2010-05</th>\n",
        "      <td>    23</td>\n",
        "    </tr>\n",
        "    <tr>\n",
        "      <th>2010-06</th>\n",
        "      <td>    18</td>\n",
        "    </tr>\n",
        "    <tr>\n",
        "      <th>2010-07</th>\n",
        "      <td>    21</td>\n",
        "    </tr>\n",
        "    <tr>\n",
        "      <th>2010-08</th>\n",
        "      <td>    16</td>\n",
        "    </tr>\n",
        "    <tr>\n",
        "      <th>2010-09</th>\n",
        "      <td>    88</td>\n",
        "    </tr>\n",
        "    <tr>\n",
        "      <th>2010-10</th>\n",
        "      <td>    77</td>\n",
        "    </tr>\n",
        "    <tr>\n",
        "      <th>2010-11</th>\n",
        "      <td>    32</td>\n",
        "    </tr>\n",
        "    <tr>\n",
        "      <th>2010-12</th>\n",
        "      <td>    32</td>\n",
        "    </tr>\n",
        "    <tr>\n",
        "      <th>2011-01</th>\n",
        "      <td>    41</td>\n",
        "    </tr>\n",
        "    <tr>\n",
        "      <th>2011-02</th>\n",
        "      <td>    65</td>\n",
        "    </tr>\n",
        "    <tr>\n",
        "      <th>2011-03</th>\n",
        "      <td>    56</td>\n",
        "    </tr>\n",
        "    <tr>\n",
        "      <th>2011-04</th>\n",
        "      <td>    62</td>\n",
        "    </tr>\n",
        "    <tr>\n",
        "      <th>2011-05</th>\n",
        "      <td>    89</td>\n",
        "    </tr>\n",
        "    <tr>\n",
        "      <th>2011-06</th>\n",
        "      <td>   244</td>\n",
        "    </tr>\n",
        "    <tr>\n",
        "      <th>2011-07</th>\n",
        "      <td>   217</td>\n",
        "    </tr>\n",
        "    <tr>\n",
        "      <th>2011-08</th>\n",
        "      <td>   603</td>\n",
        "    </tr>\n",
        "    <tr>\n",
        "      <th>2011-09</th>\n",
        "      <td>  2343</td>\n",
        "    </tr>\n",
        "    <tr>\n",
        "      <th>2011-10</th>\n",
        "      <td>   674</td>\n",
        "    </tr>\n",
        "    <tr>\n",
        "      <th>2011-11</th>\n",
        "      <td>   322</td>\n",
        "    </tr>\n",
        "    <tr>\n",
        "      <th>2011-12</th>\n",
        "      <td>   394</td>\n",
        "    </tr>\n",
        "    <tr>\n",
        "      <th>2012-01</th>\n",
        "      <td>   436</td>\n",
        "    </tr>\n",
        "    <tr>\n",
        "      <th>2012-02</th>\n",
        "      <td>   436</td>\n",
        "    </tr>\n",
        "    <tr>\n",
        "      <th>2012-03</th>\n",
        "      <td>   734</td>\n",
        "    </tr>\n",
        "    <tr>\n",
        "      <th>2012-04</th>\n",
        "      <td>  1179</td>\n",
        "    </tr>\n",
        "    <tr>\n",
        "      <th>2012-05</th>\n",
        "      <td>  1353</td>\n",
        "    </tr>\n",
        "    <tr>\n",
        "      <th>2012-06</th>\n",
        "      <td>  1321</td>\n",
        "    </tr>\n",
        "    <tr>\n",
        "      <th>2012-07</th>\n",
        "      <td>  1397</td>\n",
        "    </tr>\n",
        "    <tr>\n",
        "      <th>2012-08</th>\n",
        "      <td>  1295</td>\n",
        "    </tr>\n",
        "    <tr>\n",
        "      <th>2012-09</th>\n",
        "      <td>  1327</td>\n",
        "    </tr>\n",
        "    <tr>\n",
        "      <th>2012-10</th>\n",
        "      <td>  1675</td>\n",
        "    </tr>\n",
        "    <tr>\n",
        "      <th>2012-11</th>\n",
        "      <td>  1700</td>\n",
        "    </tr>\n",
        "    <tr>\n",
        "      <th>2012-12</th>\n",
        "      <td>  1953</td>\n",
        "    </tr>\n",
        "    <tr>\n",
        "      <th>2013-01</th>\n",
        "      <td>  3010</td>\n",
        "    </tr>\n",
        "    <tr>\n",
        "      <th>2013-02</th>\n",
        "      <td>  3056</td>\n",
        "    </tr>\n",
        "    <tr>\n",
        "      <th>2013-03</th>\n",
        "      <td>  3661</td>\n",
        "    </tr>\n",
        "    <tr>\n",
        "      <th>2013-04</th>\n",
        "      <td>  3875</td>\n",
        "    </tr>\n",
        "    <tr>\n",
        "      <th>2013-05</th>\n",
        "      <td>  5034</td>\n",
        "    </tr>\n",
        "    <tr>\n",
        "      <th>2013-06</th>\n",
        "      <td>  5121</td>\n",
        "    </tr>\n",
        "    <tr>\n",
        "      <th>2013-07</th>\n",
        "      <td>  6720</td>\n",
        "    </tr>\n",
        "    <tr>\n",
        "      <th>2013-08</th>\n",
        "      <td>  7127</td>\n",
        "    </tr>\n",
        "    <tr>\n",
        "      <th>2013-09</th>\n",
        "      <td>  6718</td>\n",
        "    </tr>\n",
        "    <tr>\n",
        "      <th>2013-10</th>\n",
        "      <td>  7584</td>\n",
        "    </tr>\n",
        "    <tr>\n",
        "      <th>2013-11</th>\n",
        "      <td>  8513</td>\n",
        "    </tr>\n",
        "    <tr>\n",
        "      <th>2013-12</th>\n",
        "      <td>  9496</td>\n",
        "    </tr>\n",
        "    <tr>\n",
        "      <th>2014-01</th>\n",
        "      <td> 11828</td>\n",
        "    </tr>\n",
        "    <tr>\n",
        "      <th>2014-02</th>\n",
        "      <td> 12178</td>\n",
        "    </tr>\n",
        "    <tr>\n",
        "      <th>2014-03</th>\n",
        "      <td> 13910</td>\n",
        "    </tr>\n",
        "    <tr>\n",
        "      <th>2014-04</th>\n",
        "      <td> 12967</td>\n",
        "    </tr>\n",
        "    <tr>\n",
        "      <th>2014-05</th>\n",
        "      <td> 15888</td>\n",
        "    </tr>\n",
        "    <tr>\n",
        "      <th>2014-06</th>\n",
        "      <td> 18730</td>\n",
        "    </tr>\n",
        "    <tr>\n",
        "      <th>2014-07</th>\n",
        "      <td> 31786</td>\n",
        "    </tr>\n",
        "    <tr>\n",
        "      <th>2014-08</th>\n",
        "      <td> 32068</td>\n",
        "    </tr>\n",
        "    <tr>\n",
        "      <th>2014-09</th>\n",
        "      <td> 28440</td>\n",
        "    </tr>\n",
        "    <tr>\n",
        "      <th>2014-10</th>\n",
        "      <td> 28350</td>\n",
        "    </tr>\n",
        "    <tr>\n",
        "      <th>2014-11</th>\n",
        "      <td>  9618</td>\n",
        "    </tr>\n",
        "  </tbody>\n",
        "</table>\n",
        "</div>"
       ],
       "metadata": {},
       "output_type": "pyout",
       "prompt_number": 78,
       "text": [
        "             count\n",
        "YYMM_joined       \n",
        "2009-12          2\n",
        "2010-01          8\n",
        "2010-02         11\n",
        "2010-03         12\n",
        "2010-04         29\n",
        "2010-05         23\n",
        "2010-06         18\n",
        "2010-07         21\n",
        "2010-08         16\n",
        "2010-09         88\n",
        "2010-10         77\n",
        "2010-11         32\n",
        "2010-12         32\n",
        "2011-01         41\n",
        "2011-02         65\n",
        "2011-03         56\n",
        "2011-04         62\n",
        "2011-05         89\n",
        "2011-06        244\n",
        "2011-07        217\n",
        "2011-08        603\n",
        "2011-09       2343\n",
        "2011-10        674\n",
        "2011-11        322\n",
        "2011-12        394\n",
        "2012-01        436\n",
        "2012-02        436\n",
        "2012-03        734\n",
        "2012-04       1179\n",
        "2012-05       1353\n",
        "2012-06       1321\n",
        "2012-07       1397\n",
        "2012-08       1295\n",
        "2012-09       1327\n",
        "2012-10       1675\n",
        "2012-11       1700\n",
        "2012-12       1953\n",
        "2013-01       3010\n",
        "2013-02       3056\n",
        "2013-03       3661\n",
        "2013-04       3875\n",
        "2013-05       5034\n",
        "2013-06       5121\n",
        "2013-07       6720\n",
        "2013-08       7127\n",
        "2013-09       6718\n",
        "2013-10       7584\n",
        "2013-11       8513\n",
        "2013-12       9496\n",
        "2014-01      11828\n",
        "2014-02      12178\n",
        "2014-03      13910\n",
        "2014-04      12967\n",
        "2014-05      15888\n",
        "2014-06      18730\n",
        "2014-07      31786\n",
        "2014-08      32068\n",
        "2014-09      28440\n",
        "2014-10      28350\n",
        "2014-11       9618"
       ]
      }
     ],
     "prompt_number": 78
    },
    {
     "cell_type": "code",
     "collapsed": false,
     "input": [
      "# should be able to find some records\n",
      "df_user_f[df_user_f['msisdn']==xx('525540448192')].head(3)"
     ],
     "language": "python",
     "metadata": {
      "run_control": {
       "breakpoint": false
      }
     },
     "outputs": [
      {
       "html": [
        "<div style=\"max-height:1000px;max-width:1500px;overflow:auto;\">\n",
        "<table border=\"1\" class=\"dataframe\">\n",
        "  <thead>\n",
        "    <tr style=\"text-align: right;\">\n",
        "      <th></th>\n",
        "      <th>user_id</th>\n",
        "      <th>msisdn</th>\n",
        "      <th>oid</th>\n",
        "      <th>joined</th>\n",
        "      <th>last_seen</th>\n",
        "      <th>disk_usage</th>\n",
        "      <th>state</th>\n",
        "      <th>friends</th>\n",
        "      <th>invites</th>\n",
        "      <th>rcvdInv</th>\n",
        "      <th>...</th>\n",
        "      <th>login</th>\n",
        "      <th>web</th>\n",
        "      <th>twFrs</th>\n",
        "      <th>tw_url</th>\n",
        "      <th>fbFrs</th>\n",
        "      <th>fb_url</th>\n",
        "      <th>yt</th>\n",
        "      <th>pi</th>\n",
        "      <th>fk</th>\n",
        "      <th>area</th>\n",
        "    </tr>\n",
        "  </thead>\n",
        "  <tbody>\n",
        "    <tr>\n",
        "      <th>188</th>\n",
        "      <td> 1574</td>\n",
        "      <td> d41c93742d16</td>\n",
        "      <td> 10</td>\n",
        "      <td>2010-02-13 05:08:28</td>\n",
        "      <td>2015-01-09 04:07:53</td>\n",
        "      <td> 0</td>\n",
        "      <td> 1</td>\n",
        "      <td> 38</td>\n",
        "      <td> 0</td>\n",
        "      <td> 0</td>\n",
        "      <td>...</td>\n",
        "      <td>NaN</td>\n",
        "      <td>NaN</td>\n",
        "      <td>NaN</td>\n",
        "      <td> NaN</td>\n",
        "      <td>NaN</td>\n",
        "      <td> NaN</td>\n",
        "      <td>NaN</td>\n",
        "      <td>NaN</td>\n",
        "      <td>NaN</td>\n",
        "      <td> 4916e3</td>\n",
        "    </tr>\n",
        "  </tbody>\n",
        "</table>\n",
        "<p>1 rows \u00d7 24 columns</p>\n",
        "</div>"
       ],
       "metadata": {},
       "output_type": "pyout",
       "prompt_number": 128,
       "text": [
        "     user_id        msisdn  oid              joined           last_seen  \\\n",
        "188     1574  d41c93742d16   10 2010-02-13 05:08:28 2015-01-09 04:07:53   \n",
        "\n",
        "     disk_usage  state  friends  invites  rcvdInv   ...     login  web  twFrs  \\\n",
        "188           0      1       38        0        0   ...       NaN  NaN    NaN   \n",
        "\n",
        "     tw_url  fbFrs  fb_url  yt  pi  fk    area  \n",
        "188     NaN    NaN     NaN NaN NaN NaN  4916e3  \n",
        "\n",
        "[1 rows x 24 columns]"
       ]
      }
     ],
     "prompt_number": 128
    },
    {
     "cell_type": "code",
     "collapsed": false,
     "input": [
      "!head -n 5 {fn_out}"
     ],
     "language": "python",
     "metadata": {
      "run_control": {
       "breakpoint": false
      }
     },
     "outputs": [
      {
       "output_type": "stream",
       "stream": "stdout",
       "text": [
        "user_id,joined,last_seen,disk_usage,state,friends,invites,rcvdInv,rejectd,sim,twFrs,fbFrs,yt,pi,fk,area\r\n",
        "11710e3b7a19,2009-12-03 23:33:11,2014-12-12 02:22:01,11834402,1,283.0,0.0,165.0,12.0,,0.0,,,,,6fe0d4\r\n",
        "71f7ee50bffd,2009-12-22 23:17:20,2014-08-16 01:12:44,12268773,1,33.0,6.0,175.0,0.0,,73.0,,1.0,,,6fe0d4\r\n",
        "d9c9041178a1,2010-01-21 21:36:31,2014-12-23 01:37:09,51281969,1,349.0,0.0,17.0,94.0,,,,,,,5dad96\r\n",
        "3dbb7b3d89a3,2010-01-25 23:50:28,2014-11-06 23:15:43,1099,1,18.0,4.0,135.0,8.0,,,,,,,5dad96\r\n"
       ]
      }
     ],
     "prompt_number": 131
    },
    {
     "cell_type": "code",
     "collapsed": false,
     "input": [
      "!gzip -f {fn_out}"
     ],
     "language": "python",
     "metadata": {
      "run_control": {
       "breakpoint": false
      }
     },
     "outputs": [],
     "prompt_number": 27
    },
    {
     "cell_type": "code",
     "collapsed": false,
     "input": [
      "df_user_short[df_user_short['joined']>'2014-07'].info()"
     ],
     "language": "python",
     "metadata": {
      "run_control": {
       "breakpoint": false
      }
     },
     "outputs": [
      {
       "output_type": "stream",
       "stream": "stdout",
       "text": [
        "<class 'pandas.core.frame.DataFrame'>\n",
        "Int64Index: 113300 entries, 127619 to 1206350\n",
        "Data columns (total 16 columns):\n",
        "user_id       113300 non-null object\n",
        "joined        113300 non-null datetime64[ns]\n",
        "last_seen     111795 non-null datetime64[ns]\n",
        "disk_usage    113300 non-null int64\n",
        "state         113300 non-null int64\n",
        "friends       63291 non-null float64\n",
        "invites       63291 non-null float64\n",
        "rcvdInv       63291 non-null float64\n",
        "rejectd       63291 non-null float64\n",
        "sim           354 non-null float64\n",
        "twFrs         386 non-null float64\n",
        "fbFrs         5797 non-null float64\n",
        "yt            312 non-null float64\n",
        "pi            151 non-null float64\n",
        "fk            0 non-null float64\n",
        "area          113300 non-null object\n",
        "dtypes: datetime64[ns](2), float64(10), int64(2), object(2)"
       ]
      }
     ],
     "prompt_number": 132
    },
    {
     "cell_type": "code",
     "collapsed": false,
     "input": [
      "df_user_short.index=df_user_short['joined']"
     ],
     "language": "python",
     "metadata": {
      "run_control": {
       "breakpoint": false
      }
     },
     "outputs": [],
     "prompt_number": 149
    },
    {
     "cell_type": "code",
     "collapsed": false,
     "input": [
      "resamp =  pd.groupby(df_user_short['user_id'],by=[df_user_short.index.year,df_user_short.index.month]).count()"
     ],
     "language": "python",
     "metadata": {
      "run_control": {
       "breakpoint": false
      }
     },
     "outputs": [],
     "prompt_number": 150
    },
    {
     "cell_type": "code",
     "collapsed": false,
     "input": [
      "resamp.tail()"
     ],
     "language": "python",
     "metadata": {
      "run_control": {
       "breakpoint": false
      }
     },
     "outputs": [
      {
       "metadata": {},
       "output_type": "pyout",
       "prompt_number": 151,
       "text": [
        "2014  6     3461\n",
        "      7     3372\n",
        "      8     4635\n",
        "      9     4709\n",
        "      10    7498\n",
        "Name: user_id, dtype: int64"
       ]
      }
     ],
     "prompt_number": 151
    },
    {
     "cell_type": "code",
     "collapsed": false,
     "input": [
      "resamp.plot()"
     ],
     "language": "python",
     "metadata": {
      "run_control": {
       "breakpoint": false
      }
     },
     "outputs": [
      {
       "metadata": {},
       "output_type": "pyout",
       "prompt_number": 152,
       "text": [
        "<matplotlib.axes._subplots.AxesSubplot at 0x1266cc2d0>"
       ]
      }
     ],
     "prompt_number": 152
    },
    {
     "cell_type": "code",
     "collapsed": false,
     "input": [],
     "language": "python",
     "metadata": {
      "run_control": {
       "breakpoint": false
      }
     },
     "outputs": []
    },
    {
     "cell_type": "code",
     "collapsed": false,
     "input": [],
     "language": "python",
     "metadata": {
      "run_control": {
       "breakpoint": false
      }
     },
     "outputs": []
    }
   ],
   "metadata": {}
  }
 ]
}