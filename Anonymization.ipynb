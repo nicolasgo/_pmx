{
 "metadata": {
  "name": "",
  "signature": "sha256:22670acbdcafff43b3b29ee671b134c76f2b2a3cd50ed6c8390d2edb39630b7e"
 },
 "nbformat": 3,
 "nbformat_minor": 0,
 "worksheets": [
  {
   "cells": [
    {
     "cell_type": "markdown",
     "metadata": {},
     "source": [
      "## Read session file"
     ]
    },
    {
     "cell_type": "code",
     "collapsed": false,
     "input": [
      "import sys\n",
      "import csv\n",
      "import StringIO\n",
      "import pandas as pd\n",
      "import numpy as np\n",
      "import matplotlib.pyplot as plt\n"
     ],
     "language": "python",
     "metadata": {},
     "outputs": [],
     "prompt_number": 1
    },
    {
     "cell_type": "code",
     "collapsed": false,
     "input": [
      "sessions_file_name=_rootdir+'data/sessions.p.pv.day.csv'#sessions.pv.csv'\n",
      "sessions_file_name=_rootdir+'data/alain/20150223.pv.day.csv'\n",
      "sessions_file_name=_rootdir+'data/alain/20150223.pv.csv'\n",
      "\n"
     ],
     "language": "python",
     "metadata": {
      "run_control": {
       "breakpoint": false
      }
     },
     "outputs": [],
     "prompt_number": 41
    },
    {
     "cell_type": "code",
     "collapsed": false,
     "input": [
      "df=pd.read_csv(sessions_file_name, #parse_dates=True, \n",
      "    names=[\"msisdn\",\"time\",\"duration\",\"ip\",\"pv\",\"variety\",\"landpage\",\"device\",\n",
      "           \"inbox\",\"mymed\",\"conve\",\"activ\",\"home\",\"frien\",\"info\",\"media\",\"uploa\",\"avata\",\"publi\",\"help\",\"ua\"])\n",
      "\n",
      "df['msisdn']=df['msisdn'].astype(str)\n",
      "df['ip']=df['ip'].astype(str)"
     ],
     "language": "python",
     "metadata": {
      "run_control": {
       "breakpoint": false
      }
     },
     "outputs": [],
     "prompt_number": 42
    },
    {
     "cell_type": "code",
     "collapsed": false,
     "input": [
      "df.head(3)"
     ],
     "language": "python",
     "metadata": {
      "run_control": {
       "breakpoint": false
      }
     },
     "outputs": [
      {
       "html": [
        "<div style=\"max-height:1000px;max-width:1500px;overflow:auto;\">\n",
        "<table border=\"1\" class=\"dataframe\">\n",
        "  <thead>\n",
        "    <tr style=\"text-align: right;\">\n",
        "      <th></th>\n",
        "      <th>msisdn</th>\n",
        "      <th>time</th>\n",
        "      <th>duration</th>\n",
        "      <th>ip</th>\n",
        "      <th>pv</th>\n",
        "      <th>variety</th>\n",
        "      <th>landpage</th>\n",
        "      <th>...</th>\n",
        "      <th>info</th>\n",
        "      <th>media</th>\n",
        "      <th>uploa</th>\n",
        "      <th>avata</th>\n",
        "      <th>publi</th>\n",
        "      <th>help</th>\n",
        "      <th>ua</th>\n",
        "    </tr>\n",
        "  </thead>\n",
        "  <tbody>\n",
        "    <tr>\n",
        "      <th>0</th>\n",
        "      <td>       msisdn</td>\n",
        "      <td>                time</td>\n",
        "      <td> duration</td>\n",
        "      <td>       ip</td>\n",
        "      <td> pv</td>\n",
        "      <td> variety</td>\n",
        "      <td> landpage</td>\n",
        "      <td>...</td>\n",
        "      <td> info</td>\n",
        "      <td> media</td>\n",
        "      <td> uploa</td>\n",
        "      <td> avata</td>\n",
        "      <td> publi</td>\n",
        "      <td> help</td>\n",
        "      <td>                                                ua</td>\n",
        "    </tr>\n",
        "    <tr>\n",
        "      <th>1</th>\n",
        "      <td> 522221054726</td>\n",
        "      <td> 2015-02-22 22:32:10</td>\n",
        "      <td>       17</td>\n",
        "      <td> bbd8e879</td>\n",
        "      <td>  2</td>\n",
        "      <td>       1</td>\n",
        "      <td>   /conve</td>\n",
        "      <td>...</td>\n",
        "      <td>    0</td>\n",
        "      <td>     0</td>\n",
        "      <td>     0</td>\n",
        "      <td>     0</td>\n",
        "      <td>     0</td>\n",
        "      <td>    0</td>\n",
        "      <td> Mozilla/5.0 (Linux; U; Android 2.3.4; es-us; G...</td>\n",
        "    </tr>\n",
        "    <tr>\n",
        "      <th>2</th>\n",
        "      <td> 522222094124</td>\n",
        "      <td> 2015-02-22 08:26:37</td>\n",
        "      <td>       10</td>\n",
        "      <td> bbd8e879</td>\n",
        "      <td>  1</td>\n",
        "      <td>       1</td>\n",
        "      <td>   /activ</td>\n",
        "      <td>...</td>\n",
        "      <td>    0</td>\n",
        "      <td>     0</td>\n",
        "      <td>     0</td>\n",
        "      <td>     0</td>\n",
        "      <td>     0</td>\n",
        "      <td>    0</td>\n",
        "      <td> Mozilla/5.0 (Linux; U; Android 2.3.6; es-us; Z...</td>\n",
        "    </tr>\n",
        "  </tbody>\n",
        "</table>\n",
        "<p>3 rows \u00d7 21 columns</p>\n",
        "</div>"
       ],
       "metadata": {},
       "output_type": "pyout",
       "prompt_number": 43,
       "text": [
        "         msisdn  \\\n",
        "0        msisdn   \n",
        "1  522221054726   \n",
        "2  522222094124   \n",
        "\n",
        "                  time  \\\n",
        "0                 time   \n",
        "1  2015-02-22 22:32:10   \n",
        "2  2015-02-22 08:26:37   \n",
        "\n",
        "   duration  \\\n",
        "0  duration   \n",
        "1        17   \n",
        "2        10   \n",
        "\n",
        "         ip  \\\n",
        "0        ip   \n",
        "1  bbd8e879   \n",
        "2  bbd8e879   \n",
        "\n",
        "   pv  \\\n",
        "0  pv   \n",
        "1   2   \n",
        "2   1   \n",
        "\n",
        "   variety  \\\n",
        "0  variety   \n",
        "1        1   \n",
        "2        1   \n",
        "\n",
        "   landpage  \\\n",
        "0  landpage   \n",
        "1    /conve   \n",
        "2    /activ   \n",
        "\n",
        "                         ...                          \\\n",
        "0                        ...                           \n",
        "1                        ...                           \n",
        "2                        ...                           \n",
        "\n",
        "   info  \\\n",
        "0  info   \n",
        "1     0   \n",
        "2     0   \n",
        "\n",
        "   media  \\\n",
        "0  media   \n",
        "1      0   \n",
        "2      0   \n",
        "\n",
        "   uploa  \\\n",
        "0  uploa   \n",
        "1      0   \n",
        "2      0   \n",
        "\n",
        "   avata  \\\n",
        "0  avata   \n",
        "1      0   \n",
        "2      0   \n",
        "\n",
        "   publi  \\\n",
        "0  publi   \n",
        "1      0   \n",
        "2      0   \n",
        "\n",
        "   help  \\\n",
        "0  help   \n",
        "1     0   \n",
        "2     0   \n",
        "\n",
        "                                                  ua  \n",
        "0                                                 ua  \n",
        "1  Mozilla/5.0 (Linux; U; Android 2.3.4; es-us; G...  \n",
        "2  Mozilla/5.0 (Linux; U; Android 2.3.6; es-us; Z...  \n",
        "\n",
        "[3 rows x 21 columns]"
       ]
      }
     ],
     "prompt_number": 43
    },
    {
     "cell_type": "code",
     "collapsed": false,
     "input": [
      "df.msisdn.describe()"
     ],
     "language": "python",
     "metadata": {
      "run_control": {
       "breakpoint": false
      }
     },
     "outputs": [
      {
       "metadata": {},
       "output_type": "pyout",
       "prompt_number": 44,
       "text": [
        "count            20849\n",
        "unique            6536\n",
        "top       526142753224\n",
        "freq                17\n",
        "Name: msisdn, dtype: object"
       ]
      }
     ],
     "prompt_number": 44
    },
    {
     "cell_type": "code",
     "collapsed": false,
     "input": [
      "h=df.msisdn.value_counts()"
     ],
     "language": "python",
     "metadata": {},
     "outputs": [],
     "prompt_number": 45
    },
    {
     "cell_type": "code",
     "collapsed": false,
     "input": [
      "h[h>2].describe()\n",
      "#h[h>2].hist()\n",
      "#plt.show()"
     ],
     "language": "python",
     "metadata": {},
     "outputs": [
      {
       "metadata": {},
       "output_type": "pyout",
       "prompt_number": 46,
       "text": [
        "count    2835.000000\n",
        "mean        5.707231\n",
        "std         2.504689\n",
        "min         3.000000\n",
        "25%         4.000000\n",
        "50%         5.000000\n",
        "75%         7.000000\n",
        "max        17.000000\n",
        "dtype: float64"
       ]
      }
     ],
     "prompt_number": 46
    },
    {
     "cell_type": "markdown",
     "metadata": {},
     "source": [
      "## Read user file"
     ]
    },
    {
     "cell_type": "code",
     "collapsed": false,
     "input": [
      "zzuser_fn=_rootdir+'data/zzuser20150211.csv'\n",
      "#df_user=0 # uncomment this line to reload the content_df\n",
      "try:\n",
      "    print df_user.msisdn.count()\n",
      "except:\n",
      "    df_user=pd.read_csv(zzuser_fn,\n",
      "                 sep='\\t',\n",
      "                 encoding='utf-8',\n",
      "                 header=1, names=['user_id','msisdn','oid','joined','last_seen','disk_usage','state','friends','invites','rcvdInv','rejectd','sms','mms','sim','login','web','twFrs','tw_url','fbFrs','fb_url','yt','pi','fk','area']\n",
      "                 )\n",
      "\n",
      "    df_user['msisdn']=df_user['msisdn'].astype(str)\n",
      "    df_user=df_user[df_user['state']==1]\n",
      "\n",
      "print df_user.msisdn.describe()\n",
      "#df_user=df_user.set_index('msisdn')\n",
      "##\n",
      "df_user.head(3)\n"
     ],
     "language": "python",
     "metadata": {
      "run_control": {
       "breakpoint": false
      }
     },
     "outputs": [
      {
       "output_type": "stream",
       "stream": "stdout",
       "text": [
        "11211763\n",
        "count         11211763\n",
        "unique        11211763\n",
        "top       526181314728\n",
        "freq                 1\n",
        "Name: msisdn, dtype: object"
       ]
      },
      {
       "output_type": "stream",
       "stream": "stdout",
       "text": [
        "\n"
       ]
      },
      {
       "html": [
        "<div style=\"max-height:1000px;max-width:1500px;overflow:auto;\">\n",
        "<table border=\"1\" class=\"dataframe\">\n",
        "  <thead>\n",
        "    <tr style=\"text-align: right;\">\n",
        "      <th></th>\n",
        "      <th>user_id</th>\n",
        "      <th>msisdn</th>\n",
        "      <th>oid</th>\n",
        "      <th>joined</th>\n",
        "      <th>last_seen</th>\n",
        "      <th>disk_usage</th>\n",
        "      <th>state</th>\n",
        "      <th>...</th>\n",
        "      <th>tw_url</th>\n",
        "      <th>fbFrs</th>\n",
        "      <th>fb_url</th>\n",
        "      <th>yt</th>\n",
        "      <th>pi</th>\n",
        "      <th>fk</th>\n",
        "      <th>area</th>\n",
        "    </tr>\n",
        "  </thead>\n",
        "  <tbody>\n",
        "    <tr>\n",
        "      <th>0</th>\n",
        "      <td>   10</td>\n",
        "      <td> 15143457910</td>\n",
        "      <td> 10</td>\n",
        "      <td>2009-11-20 19:23:16</td>\n",
        "      <td>2009-12-02 20:45:27</td>\n",
        "      <td>        0</td>\n",
        "      <td> 1</td>\n",
        "      <td>...</td>\n",
        "      <td> NaN</td>\n",
        "      <td>NaN</td>\n",
        "      <td> NaN</td>\n",
        "      <td>NaN</td>\n",
        "      <td>NaN</td>\n",
        "      <td>NaN</td>\n",
        "      <td> 15143</td>\n",
        "    </tr>\n",
        "    <tr>\n",
        "      <th>1</th>\n",
        "      <td>   36</td>\n",
        "      <td>           9</td>\n",
        "      <td> 10</td>\n",
        "      <td>                NaT</td>\n",
        "      <td>                NaT</td>\n",
        "      <td>        0</td>\n",
        "      <td> 1</td>\n",
        "      <td>...</td>\n",
        "      <td> NaN</td>\n",
        "      <td>NaN</td>\n",
        "      <td> NaN</td>\n",
        "      <td>NaN</td>\n",
        "      <td>NaN</td>\n",
        "      <td>NaN</td>\n",
        "      <td>     9</td>\n",
        "    </tr>\n",
        "    <tr>\n",
        "      <th>2</th>\n",
        "      <td> 1000</td>\n",
        "      <td> 52559999999</td>\n",
        "      <td> 10</td>\n",
        "      <td>2009-11-10 23:10:15</td>\n",
        "      <td>2010-07-19 19:27:36</td>\n",
        "      <td> 30337849</td>\n",
        "      <td> 1</td>\n",
        "      <td>...</td>\n",
        "      <td> NaN</td>\n",
        "      <td>NaN</td>\n",
        "      <td> NaN</td>\n",
        "      <td>NaN</td>\n",
        "      <td>NaN</td>\n",
        "      <td>NaN</td>\n",
        "      <td> 52559</td>\n",
        "    </tr>\n",
        "  </tbody>\n",
        "</table>\n",
        "<p>3 rows \u00d7 24 columns</p>\n",
        "</div>"
       ],
       "metadata": {},
       "output_type": "pyout",
       "prompt_number": 47,
       "text": [
        "   user_id  \\\n",
        "0       10   \n",
        "1       36   \n",
        "2     1000   \n",
        "\n",
        "        msisdn  \\\n",
        "0  15143457910   \n",
        "1            9   \n",
        "2  52559999999   \n",
        "\n",
        "   oid  \\\n",
        "0   10   \n",
        "1   10   \n",
        "2   10   \n",
        "\n",
        "               joined  \\\n",
        "0 2009-11-20 19:23:16   \n",
        "1                 NaT   \n",
        "2 2009-11-10 23:10:15   \n",
        "\n",
        "            last_seen  \\\n",
        "0 2009-12-02 20:45:27   \n",
        "1                 NaT   \n",
        "2 2010-07-19 19:27:36   \n",
        "\n",
        "   disk_usage  \\\n",
        "0           0   \n",
        "1           0   \n",
        "2    30337849   \n",
        "\n",
        "   state  \\\n",
        "0      1   \n",
        "1      1   \n",
        "2      1   \n",
        "\n",
        "   ...    \\\n",
        "0  ...     \n",
        "1  ...     \n",
        "2  ...     \n",
        "\n",
        "   tw_url  \\\n",
        "0     NaN   \n",
        "1     NaN   \n",
        "2     NaN   \n",
        "\n",
        "   fbFrs  \\\n",
        "0    NaN   \n",
        "1    NaN   \n",
        "2    NaN   \n",
        "\n",
        "   fb_url  \\\n",
        "0     NaN   \n",
        "1     NaN   \n",
        "2     NaN   \n",
        "\n",
        "   yt  \\\n",
        "0 NaN   \n",
        "1 NaN   \n",
        "2 NaN   \n",
        "\n",
        "   pi  \\\n",
        "0 NaN   \n",
        "1 NaN   \n",
        "2 NaN   \n",
        "\n",
        "   fk  \\\n",
        "0 NaN   \n",
        "1 NaN   \n",
        "2 NaN   \n",
        "\n",
        "    area  \n",
        "0  15143  \n",
        "1      9  \n",
        "2  52559  \n",
        "\n",
        "[3 rows x 24 columns]"
       ]
      }
     ],
     "prompt_number": 47
    },
    {
     "cell_type": "code",
     "collapsed": false,
     "input": [
      "#criterion = df_user['msisdn'].map(lambda x: (str(x).startswith('5255'))) #or  str(x).startswith('5223')\n",
      "#df_user=df_user[criterion]\n",
      "df_user.msisdn.describe()\n",
      "##"
     ],
     "language": "python",
     "metadata": {},
     "outputs": [
      {
       "metadata": {},
       "output_type": "pyout",
       "prompt_number": 48,
       "text": [
        "count         11211763\n",
        "unique        11211763\n",
        "top       526181314728\n",
        "freq                 1\n",
        "Name: msisdn, dtype: object"
       ]
      }
     ],
     "prompt_number": 48
    },
    {
     "cell_type": "code",
     "collapsed": false,
     "input": [
      "df_user['joined']=pd.to_datetime(df_user['joined'])\n",
      "df_user['last_seen']=pd.to_datetime(df_user['last_seen'])\n",
      "\n",
      "df_user['joined'] = df_user.joined.convert_objects(convert_dates='coerce')\n",
      "df_user['last_seen'] = df_user.last_seen.convert_objects(convert_dates='coerce')\n",
      "##"
     ],
     "language": "python",
     "metadata": {},
     "outputs": [],
     "prompt_number": 49
    },
    {
     "cell_type": "code",
     "collapsed": false,
     "input": [
      "df_user.msisdn.describe()"
     ],
     "language": "python",
     "metadata": {
      "run_control": {
       "breakpoint": false
      }
     },
     "outputs": [
      {
       "metadata": {},
       "output_type": "pyout",
       "prompt_number": 50,
       "text": [
        "count         11211763\n",
        "unique        11211763\n",
        "top       526181314728\n",
        "freq                 1\n",
        "Name: msisdn, dtype: object"
       ]
      }
     ],
     "prompt_number": 50
    },
    {
     "cell_type": "markdown",
     "metadata": {},
     "source": [
      "##Remove users that do not have activities in the session file\n"
     ]
    },
    {
     "cell_type": "code",
     "collapsed": false,
     "input": [
      "df_user_f=df_user[df_user.msisdn.isin(df.msisdn)]\n",
      "df_user_f.msisdn.describe()"
     ],
     "language": "python",
     "metadata": {},
     "outputs": [
      {
       "metadata": {},
       "output_type": "pyout",
       "prompt_number": 51,
       "text": [
        "count             5756\n",
        "unique            5756\n",
        "top       524621008205\n",
        "freq                 1\n",
        "Name: msisdn, dtype: object"
       ]
      }
     ],
     "prompt_number": 51
    },
    {
     "cell_type": "code",
     "collapsed": false,
     "input": [
      "df.msisdn.describe()"
     ],
     "language": "python",
     "metadata": {},
     "outputs": [
      {
       "metadata": {},
       "output_type": "pyout",
       "prompt_number": 52,
       "text": [
        "count            20849\n",
        "unique            6536\n",
        "top       526142753224\n",
        "freq                17\n",
        "Name: msisdn, dtype: object"
       ]
      }
     ],
     "prompt_number": 52
    },
    {
     "cell_type": "markdown",
     "metadata": {},
     "source": [
      "##Remove sessions of users that are not in users file"
     ]
    },
    {
     "cell_type": "code",
     "collapsed": false,
     "input": [
      "df_session_f=df[df.msisdn.isin(df_user_f.msisdn)]\n",
      "df_session_f.sort(['msisdn', 'time'],inplace=True)#, ascending=[0, 0])\n",
      "df_session_f.msisdn.describe()"
     ],
     "language": "python",
     "metadata": {},
     "outputs": [
      {
       "metadata": {},
       "output_type": "pyout",
       "prompt_number": 53,
       "text": [
        "count            19194\n",
        "unique            5756\n",
        "top       526142753224\n",
        "freq                17\n",
        "Name: msisdn, dtype: object"
       ]
      }
     ],
     "prompt_number": 53
    },
    {
     "cell_type": "code",
     "collapsed": false,
     "input": [
      "import hashlib\n",
      "\n",
      "saved = {}\n",
      "rsaved = {}  # a reverse dictionary can be used to lookup original msisdn from hashed ids\n",
      "\n",
      "\n",
      "def xx(x):\n",
      "    if not saved.has_key(x):\n",
      "        try:\n",
      "            m = hashlib.md5()\n",
      "            m.update(x)\n",
      "            mh = '%.12s'%(m.hexdigest()[10:30])\n",
      "            saved[x]=mh\n",
      "            rsaved[mh]=x\n",
      "\n",
      "\n",
      "        except:\n",
      "            print type(x),x\n",
      "\n",
      "#        print x,mh\n",
      "\n",
      "    return saved[x]\n",
      "\n",
      "\n",
      "#print len(df['msisdn'].unique())\n",
      "#print len(df['ip'].unique())\n",
      "\n",
      "# just to test\n",
      "print xx('524111000443')\n"
     ],
     "language": "python",
     "metadata": {
      "run_control": {
       "breakpoint": false
      }
     },
     "outputs": [
      {
       "output_type": "stream",
       "stream": "stdout",
       "text": [
        "951a006c6a26\n"
       ]
      }
     ],
     "prompt_number": 54
    },
    {
     "cell_type": "code",
     "collapsed": false,
     "input": [
      "print len(df_user_f['msisdn'].unique())\n",
      "print len(df_user_f['area'].unique())\n",
      "\n",
      "df_user_f['msisdn'] =df_user_f['msisdn'].apply(lambda x: xx(x))\n",
      "df_user_f['area'] =df_user_f['area'].apply(lambda x: xx(x)[:6])\n",
      "\n",
      "print len(df_user_f['area'].unique())\n",
      "print len(df_user_f['msisdn'].unique())\n",
      "df_user_f.head(3)"
     ],
     "language": "python",
     "metadata": {
      "run_control": {
       "breakpoint": false
      }
     },
     "outputs": [
      {
       "output_type": "stream",
       "stream": "stdout",
       "text": [
        "5756\n",
        "208\n",
        "208"
       ]
      },
      {
       "output_type": "stream",
       "stream": "stdout",
       "text": [
        "\n",
        "5756\n"
       ]
      },
      {
       "html": [
        "<div style=\"max-height:1000px;max-width:1500px;overflow:auto;\">\n",
        "<table border=\"1\" class=\"dataframe\">\n",
        "  <thead>\n",
        "    <tr style=\"text-align: right;\">\n",
        "      <th></th>\n",
        "      <th>user_id</th>\n",
        "      <th>msisdn</th>\n",
        "      <th>oid</th>\n",
        "      <th>joined</th>\n",
        "      <th>last_seen</th>\n",
        "      <th>disk_usage</th>\n",
        "      <th>state</th>\n",
        "      <th>...</th>\n",
        "      <th>tw_url</th>\n",
        "      <th>fbFrs</th>\n",
        "      <th>fb_url</th>\n",
        "      <th>yt</th>\n",
        "      <th>pi</th>\n",
        "      <th>fk</th>\n",
        "      <th>area</th>\n",
        "    </tr>\n",
        "  </thead>\n",
        "  <tbody>\n",
        "    <tr>\n",
        "      <th>28253</th>\n",
        "      <td>  47843</td>\n",
        "      <td> 93001795c7a0</td>\n",
        "      <td> 10</td>\n",
        "      <td>2010-12-28 05:05:54</td>\n",
        "      <td>2015-02-06 19:18:54</td>\n",
        "      <td> 0</td>\n",
        "      <td> 1</td>\n",
        "      <td>...</td>\n",
        "      <td> NaN</td>\n",
        "      <td>NaN</td>\n",
        "      <td> NaN</td>\n",
        "      <td>NaN</td>\n",
        "      <td>NaN</td>\n",
        "      <td>NaN</td>\n",
        "      <td> 3612e2</td>\n",
        "    </tr>\n",
        "    <tr>\n",
        "      <th>59707</th>\n",
        "      <td> 181460</td>\n",
        "      <td> 3e226bb15934</td>\n",
        "      <td> 10</td>\n",
        "      <td>2011-05-26 23:03:44</td>\n",
        "      <td>2015-02-11 00:00:10</td>\n",
        "      <td> 0</td>\n",
        "      <td> 1</td>\n",
        "      <td>...</td>\n",
        "      <td> NaN</td>\n",
        "      <td>NaN</td>\n",
        "      <td> NaN</td>\n",
        "      <td>  1</td>\n",
        "      <td>NaN</td>\n",
        "      <td>NaN</td>\n",
        "      <td> 3612e2</td>\n",
        "    </tr>\n",
        "    <tr>\n",
        "      <th>85936</th>\n",
        "      <td> 236321</td>\n",
        "      <td> 4ef260081a2e</td>\n",
        "      <td> 10</td>\n",
        "      <td>2011-06-21 01:20:07</td>\n",
        "      <td>2013-12-16 00:31:29</td>\n",
        "      <td> 0</td>\n",
        "      <td> 1</td>\n",
        "      <td>...</td>\n",
        "      <td> NaN</td>\n",
        "      <td>  0</td>\n",
        "      <td> NaN</td>\n",
        "      <td>  1</td>\n",
        "      <td>NaN</td>\n",
        "      <td>NaN</td>\n",
        "      <td> 3612e2</td>\n",
        "    </tr>\n",
        "  </tbody>\n",
        "</table>\n",
        "<p>3 rows \u00d7 24 columns</p>\n",
        "</div>"
       ],
       "metadata": {},
       "output_type": "pyout",
       "prompt_number": 55,
       "text": [
        "       user_id  \\\n",
        "28253    47843   \n",
        "59707   181460   \n",
        "85936   236321   \n",
        "\n",
        "             msisdn  \\\n",
        "28253  93001795c7a0   \n",
        "59707  3e226bb15934   \n",
        "85936  4ef260081a2e   \n",
        "\n",
        "       oid  \\\n",
        "28253   10   \n",
        "59707   10   \n",
        "85936   10   \n",
        "\n",
        "                   joined  \\\n",
        "28253 2010-12-28 05:05:54   \n",
        "59707 2011-05-26 23:03:44   \n",
        "85936 2011-06-21 01:20:07   \n",
        "\n",
        "                last_seen  \\\n",
        "28253 2015-02-06 19:18:54   \n",
        "59707 2015-02-11 00:00:10   \n",
        "85936 2013-12-16 00:31:29   \n",
        "\n",
        "       disk_usage  \\\n",
        "28253           0   \n",
        "59707           0   \n",
        "85936           0   \n",
        "\n",
        "       state  \\\n",
        "28253      1   \n",
        "59707      1   \n",
        "85936      1   \n",
        "\n",
        "        ...    \\\n",
        "28253   ...     \n",
        "59707   ...     \n",
        "85936   ...     \n",
        "\n",
        "       tw_url  \\\n",
        "28253     NaN   \n",
        "59707     NaN   \n",
        "85936     NaN   \n",
        "\n",
        "       fbFrs  \\\n",
        "28253    NaN   \n",
        "59707    NaN   \n",
        "85936      0   \n",
        "\n",
        "       fb_url  \\\n",
        "28253     NaN   \n",
        "59707     NaN   \n",
        "85936     NaN   \n",
        "\n",
        "       yt  \\\n",
        "28253 NaN   \n",
        "59707   1   \n",
        "85936   1   \n",
        "\n",
        "       pi  \\\n",
        "28253 NaN   \n",
        "59707 NaN   \n",
        "85936 NaN   \n",
        "\n",
        "       fk  \\\n",
        "28253 NaN   \n",
        "59707 NaN   \n",
        "85936 NaN   \n",
        "\n",
        "         area  \n",
        "28253  3612e2  \n",
        "59707  3612e2  \n",
        "85936  3612e2  \n",
        "\n",
        "[3 rows x 24 columns]"
       ]
      }
     ],
     "prompt_number": 55
    },
    {
     "cell_type": "code",
     "collapsed": false,
     "input": [
      "print len(df_session_f['msisdn'].unique())\n",
      "print len(df_session_f['ip'].unique())\n"
     ],
     "language": "python",
     "metadata": {
      "run_control": {
       "breakpoint": false
      }
     },
     "outputs": [
      {
       "output_type": "stream",
       "stream": "stdout",
       "text": [
        "5756\n",
        "522\n"
       ]
      }
     ],
     "prompt_number": 56
    },
    {
     "cell_type": "code",
     "collapsed": false,
     "input": [
      "df_session_f['msisdn'] =df_session_f['msisdn'].apply(lambda x: xx(str(x))) # str(x) is to solve a bug where msisdn was a int64 instead of a string"
     ],
     "language": "python",
     "metadata": {
      "run_control": {
       "breakpoint": false
      }
     },
     "outputs": [],
     "prompt_number": 57
    },
    {
     "cell_type": "code",
     "collapsed": false,
     "input": [
      "df_session_f['ip'] =df_session_f['ip'].apply(lambda x: xx(x))"
     ],
     "language": "python",
     "metadata": {
      "run_control": {
       "breakpoint": false
      }
     },
     "outputs": [],
     "prompt_number": 58
    },
    {
     "cell_type": "code",
     "collapsed": false,
     "input": [
      "print len(saved)\n",
      "\n",
      "t=[u'0856b4e2aa0e', u'0bba9919124a', u'18ceb99fb343', u'12d54a78aea3', u'0d2e896c8ba4', u'25986e25a969', u'09540c6f1f78', u'1aa68be5d9b8', u'063d83b9c512', u'17b17bdb637b']\n",
      "\n",
      "'''['01dbf194360f','07647267a2e7','01ad55f15e0f','01a56ac3dc4a','0798b32ea5c0']\n",
      "'''\n",
      "for i in t:\n",
      "    print i,rsaved[i]\n",
      "for i in t:\n",
      "    print '%s,'%rsaved[i],"
     ],
     "language": "python",
     "metadata": {
      "run_control": {
       "breakpoint": false
      }
     },
     "outputs": [
      {
       "output_type": "stream",
       "stream": "stdout",
       "text": [
        "6487\n",
        "0856b4e2aa0e"
       ]
      },
      {
       "ename": "KeyError",
       "evalue": "u'0856b4e2aa0e'",
       "output_type": "pyerr",
       "traceback": [
        "\u001b[0;31m---------------------------------------------------------------------------\u001b[0m\n\u001b[0;31mKeyError\u001b[0m                                  Traceback (most recent call last)",
        "\u001b[0;32m<ipython-input-59-a14ae4539251>\u001b[0m in \u001b[0;36m<module>\u001b[0;34m()\u001b[0m\n\u001b[1;32m      6\u001b[0m '''\n\u001b[1;32m      7\u001b[0m \u001b[0;32mfor\u001b[0m \u001b[0mi\u001b[0m \u001b[0;32min\u001b[0m \u001b[0mt\u001b[0m\u001b[0;34m:\u001b[0m\u001b[0;34m\u001b[0m\u001b[0m\n\u001b[0;32m----> 8\u001b[0;31m     \u001b[0;32mprint\u001b[0m \u001b[0mi\u001b[0m\u001b[0;34m,\u001b[0m\u001b[0mrsaved\u001b[0m\u001b[0;34m[\u001b[0m\u001b[0mi\u001b[0m\u001b[0;34m]\u001b[0m\u001b[0;34m\u001b[0m\u001b[0m\n\u001b[0m\u001b[1;32m      9\u001b[0m \u001b[0;32mfor\u001b[0m \u001b[0mi\u001b[0m \u001b[0;32min\u001b[0m \u001b[0mt\u001b[0m\u001b[0;34m:\u001b[0m\u001b[0;34m\u001b[0m\u001b[0m\n\u001b[1;32m     10\u001b[0m     \u001b[0;32mprint\u001b[0m \u001b[0;34m'%s,'\u001b[0m\u001b[0;34m%\u001b[0m\u001b[0mrsaved\u001b[0m\u001b[0;34m[\u001b[0m\u001b[0mi\u001b[0m\u001b[0;34m]\u001b[0m\u001b[0;34m,\u001b[0m\u001b[0;34m\u001b[0m\u001b[0m\n",
        "\u001b[0;31mKeyError\u001b[0m: u'0856b4e2aa0e'"
       ]
      }
     ],
     "prompt_number": 59
    },
    {
     "cell_type": "code",
     "collapsed": false,
     "input": [
      "print len(df_session_f['msisdn'].unique())\n",
      "print len(df_session_f['ip'].unique())\n"
     ],
     "language": "python",
     "metadata": {
      "run_control": {
       "breakpoint": false
      }
     },
     "outputs": []
    },
    {
     "cell_type": "code",
     "collapsed": false,
     "input": [
      "df_user_f.drop(['user_id','state'],1, inplace=True)  #(columns={'msisdn': 'user_id'}, inplace=True)"
     ],
     "language": "python",
     "metadata": {},
     "outputs": []
    },
    {
     "cell_type": "code",
     "collapsed": false,
     "input": [
      "df_user_f.rename(columns={'msisdn': 'user_id'}, inplace=True)\n",
      "df_session_f.rename(columns={'msisdn': 'user_id'}, inplace=True)\n",
      "df_session_f.sort(['user_id', 'time'],inplace=True)\n",
      "df_session_f.head(100).tail(4)"
     ],
     "language": "python",
     "metadata": {},
     "outputs": []
    },
    {
     "cell_type": "code",
     "collapsed": false,
     "input": [
      "from user_agents import parse\n",
      "import re\n",
      "\n",
      "xdict = {}\n",
      "\n",
      "def xtract(x) :\n",
      "    if x == np.nan:\n",
      "        x = 'nan'\n",
      "    if not type(x) is str:\n",
      "        x = 'nan'\n",
      "\n",
      "    if x not in xdict:\n",
      "        xdict[x]=parse(x)\n",
      "#            print xdict[x]\n",
      "    return xdict[x]\n",
      "\n",
      "df_session_f['dfamily'] = df_session_f['ua'].map(lambda x: xtract(x).os.family)\n",
      "\n",
      "len(xdict)\n",
      "\n",
      "i=0\n",
      "for k,v in xdict.items() :\n",
      "    if v.device.family==u'Other' :\n",
      "        print v.browser.family,'--',v.os.family,'--',v.os.version_string\n",
      "        print k\n",
      "        print\n",
      "        i +=1\n",
      "        if i == 10 :\n",
      "            break\n",
      "\n",
      "for k,v in xdict.items() :\n",
      "    if re.match('zte',str.lower(k)) :\n",
      "        print '%s -> %28s'%(v, k)\n",
      "        \n",
      "df_session_f['dversion'] = df_session_f['ua'].map(lambda x: xtract(x).os.version_string)\n",
      "df_session_f['dmodel'] = df_session_f['ua'].map(lambda x: xtract(x).device)\n",
      "\n",
      "df_session_f.head(3)"
     ],
     "language": "python",
     "metadata": {
      "run_control": {
       "breakpoint": false
      }
     },
     "outputs": []
    },
    {
     "cell_type": "code",
     "collapsed": false,
     "input": [
      "aa=xtract('Mozilla/5.0 (Macintosh; U; Intel Mac OS X 10_5_7; en-us) AppleWebKit/530.17 (KHTML, like Gecko) Version/4.0 Safari/530.17; 360browser(securitypay,securityinstalled); 360(android,uppayplugin); 360 Aphone Browser (6.3.8)')\n",
      "print aa"
     ],
     "language": "python",
     "metadata": {
      "run_control": {
       "breakpoint": false
      }
     },
     "outputs": []
    },
    {
     "cell_type": "code",
     "collapsed": false,
     "input": [
      "df_session_f.drop(['device','ua'],1, inplace=True)"
     ],
     "language": "python",
     "metadata": {
      "run_control": {
       "breakpoint": false
      }
     },
     "outputs": []
    },
    {
     "cell_type": "code",
     "collapsed": false,
     "input": [
      "df_session_f.head(2)"
     ],
     "language": "python",
     "metadata": {
      "run_control": {
       "breakpoint": false
      }
     },
     "outputs": []
    },
    {
     "cell_type": "markdown",
     "metadata": {},
     "source": [
      "##Saving filtered session file\n",
      "(takes a good 10 minutes)"
     ]
    },
    {
     "cell_type": "code",
     "collapsed": false,
     "input": [
      "#file_name='/Users/nicolas/logs/nobackup/sessions23.pv.csv'\n",
      "fn_out='.'.join(sessions_file_name.split('.')[:-1])+'.a.csv'\n",
      "print 'saving to',fn_out\n",
      "df_session_f.to_csv(fn_out, encoding='utf-8', index=False)\n",
      "!head -n 3 {fn_out}"
     ],
     "language": "python",
     "metadata": {
      "run_control": {
       "breakpoint": false
      }
     },
     "outputs": []
    },
    {
     "cell_type": "code",
     "collapsed": false,
     "input": [
      "!tail -n 3 {fn_out}"
     ],
     "language": "python",
     "metadata": {
      "run_control": {
       "breakpoint": false
      }
     },
     "outputs": []
    },
    {
     "cell_type": "code",
     "collapsed": false,
     "input": [
      "#!gzip -f {fn_out}"
     ],
     "language": "python",
     "metadata": {
      "run_control": {
       "breakpoint": false
      }
     },
     "outputs": [],
     "prompt_number": 36
    },
    {
     "cell_type": "code",
     "collapsed": false,
     "input": [
      "df_session_f[df_session_f['user_id']==xx('525510031588')].tail(3)"
     ],
     "language": "python",
     "metadata": {
      "run_control": {
       "breakpoint": false
      }
     },
     "outputs": [
      {
       "html": [
        "<div style=\"max-height:1000px;max-width:1500px;overflow:auto;\">\n",
        "<table border=\"1\" class=\"dataframe\">\n",
        "  <thead>\n",
        "    <tr style=\"text-align: right;\">\n",
        "      <th></th>\n",
        "      <th>user_id</th>\n",
        "      <th>time</th>\n",
        "      <th>duration</th>\n",
        "      <th>ip</th>\n",
        "      <th>pv</th>\n",
        "      <th>variety</th>\n",
        "      <th>landpage</th>\n",
        "      <th>...</th>\n",
        "      <th>uploa</th>\n",
        "      <th>avata</th>\n",
        "      <th>publi</th>\n",
        "      <th>help</th>\n",
        "      <th>dfamily</th>\n",
        "      <th>dversion</th>\n",
        "      <th>dmodel</th>\n",
        "    </tr>\n",
        "  </thead>\n",
        "  <tbody>\n",
        "  </tbody>\n",
        "</table>\n",
        "<p>0 rows \u00d7 22 columns</p>\n",
        "</div>"
       ],
       "metadata": {},
       "output_type": "pyout",
       "prompt_number": 37,
       "text": [
        "Empty DataFrame\n",
        "Columns: [user_id, time, duration, ip, pv, variety, landpage, inbox, mymed, conve, activ, home, frien, info, media, uploa, avata, publi, help, dfamily, dversion, dmodel]\n",
        "Index: []\n",
        "\n",
        "[0 rows x 22 columns]"
       ]
      }
     ],
     "prompt_number": 37
    },
    {
     "cell_type": "code",
     "collapsed": false,
     "input": [],
     "language": "python",
     "metadata": {},
     "outputs": [],
     "prompt_number": 37
    },
    {
     "cell_type": "code",
     "collapsed": false,
     "input": [],
     "language": "python",
     "metadata": {},
     "outputs": [],
     "prompt_number": 37
    },
    {
     "cell_type": "markdown",
     "metadata": {},
     "source": [
      "##Save the user file"
     ]
    },
    {
     "cell_type": "code",
     "collapsed": false,
     "input": [
      "df_user_short=df_user_f\n",
      "df_user_short=df_user_short.drop(['login','web', 'sms','mms', 'oid','fb_url','tw_url'],1)\n",
      "df_user_short.head(3)"
     ],
     "language": "python",
     "metadata": {
      "run_control": {
       "breakpoint": false
      }
     },
     "outputs": [
      {
       "html": [
        "<div style=\"max-height:1000px;max-width:1500px;overflow:auto;\">\n",
        "<table border=\"1\" class=\"dataframe\">\n",
        "  <thead>\n",
        "    <tr style=\"text-align: right;\">\n",
        "      <th></th>\n",
        "      <th>user_id</th>\n",
        "      <th>joined</th>\n",
        "      <th>last_seen</th>\n",
        "      <th>disk_usage</th>\n",
        "      <th>friends</th>\n",
        "      <th>invites</th>\n",
        "      <th>rcvdInv</th>\n",
        "      <th>rejectd</th>\n",
        "      <th>sim</th>\n",
        "      <th>twFrs</th>\n",
        "      <th>fbFrs</th>\n",
        "      <th>yt</th>\n",
        "      <th>pi</th>\n",
        "      <th>fk</th>\n",
        "      <th>area</th>\n",
        "    </tr>\n",
        "  </thead>\n",
        "  <tbody>\n",
        "    <tr>\n",
        "      <th>28253</th>\n",
        "      <td> 93001795c7a0</td>\n",
        "      <td>2010-12-28 05:05:54</td>\n",
        "      <td>2015-02-06 19:18:54</td>\n",
        "      <td> 0</td>\n",
        "      <td>  5</td>\n",
        "      <td> 0</td>\n",
        "      <td> 0</td>\n",
        "      <td>  8</td>\n",
        "      <td>NaN</td>\n",
        "      <td>NaN</td>\n",
        "      <td>NaN</td>\n",
        "      <td>NaN</td>\n",
        "      <td>NaN</td>\n",
        "      <td>NaN</td>\n",
        "      <td> 3612e2</td>\n",
        "    </tr>\n",
        "    <tr>\n",
        "      <th>59707</th>\n",
        "      <td> 3e226bb15934</td>\n",
        "      <td>2011-05-26 23:03:44</td>\n",
        "      <td>2015-02-11 00:00:10</td>\n",
        "      <td> 0</td>\n",
        "      <td> 35</td>\n",
        "      <td> 2</td>\n",
        "      <td> 0</td>\n",
        "      <td> 11</td>\n",
        "      <td>NaN</td>\n",
        "      <td>NaN</td>\n",
        "      <td>NaN</td>\n",
        "      <td>  1</td>\n",
        "      <td>NaN</td>\n",
        "      <td>NaN</td>\n",
        "      <td> 3612e2</td>\n",
        "    </tr>\n",
        "    <tr>\n",
        "      <th>85936</th>\n",
        "      <td> 4ef260081a2e</td>\n",
        "      <td>2011-06-21 01:20:07</td>\n",
        "      <td>2013-12-16 00:31:29</td>\n",
        "      <td> 0</td>\n",
        "      <td>  0</td>\n",
        "      <td> 0</td>\n",
        "      <td> 1</td>\n",
        "      <td>  0</td>\n",
        "      <td>NaN</td>\n",
        "      <td>NaN</td>\n",
        "      <td>  0</td>\n",
        "      <td>  1</td>\n",
        "      <td>NaN</td>\n",
        "      <td>NaN</td>\n",
        "      <td> 3612e2</td>\n",
        "    </tr>\n",
        "  </tbody>\n",
        "</table>\n",
        "</div>"
       ],
       "metadata": {},
       "output_type": "pyout",
       "prompt_number": 39,
       "text": [
        "            user_id  \\\n",
        "28253  93001795c7a0   \n",
        "59707  3e226bb15934   \n",
        "85936  4ef260081a2e   \n",
        "\n",
        "                   joined  \\\n",
        "28253 2010-12-28 05:05:54   \n",
        "59707 2011-05-26 23:03:44   \n",
        "85936 2011-06-21 01:20:07   \n",
        "\n",
        "                last_seen  \\\n",
        "28253 2015-02-06 19:18:54   \n",
        "59707 2015-02-11 00:00:10   \n",
        "85936 2013-12-16 00:31:29   \n",
        "\n",
        "       disk_usage  \\\n",
        "28253           0   \n",
        "59707           0   \n",
        "85936           0   \n",
        "\n",
        "       friends  \\\n",
        "28253        5   \n",
        "59707       35   \n",
        "85936        0   \n",
        "\n",
        "       invites  \\\n",
        "28253        0   \n",
        "59707        2   \n",
        "85936        0   \n",
        "\n",
        "       rcvdInv  \\\n",
        "28253        0   \n",
        "59707        0   \n",
        "85936        1   \n",
        "\n",
        "       rejectd  \\\n",
        "28253        8   \n",
        "59707       11   \n",
        "85936        0   \n",
        "\n",
        "       sim  \\\n",
        "28253  NaN   \n",
        "59707  NaN   \n",
        "85936  NaN   \n",
        "\n",
        "       twFrs  \\\n",
        "28253    NaN   \n",
        "59707    NaN   \n",
        "85936    NaN   \n",
        "\n",
        "       fbFrs  \\\n",
        "28253    NaN   \n",
        "59707    NaN   \n",
        "85936      0   \n",
        "\n",
        "       yt  \\\n",
        "28253 NaN   \n",
        "59707   1   \n",
        "85936   1   \n",
        "\n",
        "       pi  \\\n",
        "28253 NaN   \n",
        "59707 NaN   \n",
        "85936 NaN   \n",
        "\n",
        "       fk  \\\n",
        "28253 NaN   \n",
        "59707 NaN   \n",
        "85936 NaN   \n",
        "\n",
        "         area  \n",
        "28253  3612e2  \n",
        "59707  3612e2  \n",
        "85936  3612e2  "
       ]
      }
     ],
     "prompt_number": 39
    },
    {
     "cell_type": "code",
     "collapsed": false,
     "input": [
      "fn_user_out=_rootdir+'data/alain/users.a.csv'\n",
      "print 'saving to',fn_user_out\n",
      "df_user_short.to_csv(fn_user_out, encoding='utf-8', index=False)"
     ],
     "language": "python",
     "metadata": {
      "run_control": {
       "breakpoint": false
      }
     },
     "outputs": [
      {
       "output_type": "stream",
       "stream": "stdout",
       "text": [
        "saving to /Users/Nicolas/dev/data/alain/users.a.csv\n"
       ]
      }
     ],
     "prompt_number": 40
    },
    {
     "cell_type": "code",
     "collapsed": false,
     "input": [],
     "language": "python",
     "metadata": {},
     "outputs": []
    },
    {
     "cell_type": "markdown",
     "metadata": {},
     "source": [
      "## Inactive users"
     ]
    },
    {
     "cell_type": "code",
     "collapsed": false,
     "input": [
      "df_inactive=df_user_f[df_user_f['last_seen']<'2014-07-01']"
     ],
     "language": "python",
     "metadata": {
      "run_control": {
       "breakpoint": false
      }
     },
     "outputs": [],
     "prompt_number": 121
    },
    {
     "cell_type": "code",
     "collapsed": false,
     "input": [
      "print len(df_inactive['msisdn'].unique())\n",
      "df_inactive['YYMM_joined'] =df_inactive['joined'].apply(lambda x: '%d-%02d'%(x.year,x.month))\n",
      "df_inactive.head(4)"
     ],
     "language": "python",
     "metadata": {
      "run_control": {
       "breakpoint": false
      }
     },
     "outputs": [
      {
       "output_type": "stream",
       "stream": "stdout",
       "text": [
        "2524\n"
       ]
      },
      {
       "html": [
        "<div style=\"max-height:1000px;max-width:1500px;overflow:auto;\">\n",
        "<table border=\"1\" class=\"dataframe\">\n",
        "  <thead>\n",
        "    <tr style=\"text-align: right;\">\n",
        "      <th></th>\n",
        "      <th>user_id</th>\n",
        "      <th>msisdn</th>\n",
        "      <th>oid</th>\n",
        "      <th>joined</th>\n",
        "      <th>last_seen</th>\n",
        "      <th>disk_usage</th>\n",
        "      <th>state</th>\n",
        "      <th>friends</th>\n",
        "      <th>invites</th>\n",
        "      <th>rcvdInv</th>\n",
        "      <th>...</th>\n",
        "      <th>web</th>\n",
        "      <th>twFrs</th>\n",
        "      <th>tw_url</th>\n",
        "      <th>fbFrs</th>\n",
        "      <th>fb_url</th>\n",
        "      <th>yt</th>\n",
        "      <th>pi</th>\n",
        "      <th>fk</th>\n",
        "      <th>area</th>\n",
        "      <th>YYMM_joined</th>\n",
        "    </tr>\n",
        "  </thead>\n",
        "  <tbody>\n",
        "    <tr>\n",
        "      <th>208 </th>\n",
        "      <td> 1659</td>\n",
        "      <td> d7a0424cccb2</td>\n",
        "      <td> 10</td>\n",
        "      <td>2010-02-15 18:14:53</td>\n",
        "      <td>2013-02-17 05:52:57</td>\n",
        "      <td> 0</td>\n",
        "      <td> 1</td>\n",
        "      <td> 1</td>\n",
        "      <td> 0</td>\n",
        "      <td> 9</td>\n",
        "      <td>...</td>\n",
        "      <td>NaN</td>\n",
        "      <td> 11</td>\n",
        "      <td> http://twitter.com/emanolo</td>\n",
        "      <td>NaN</td>\n",
        "      <td> NaN</td>\n",
        "      <td>  1</td>\n",
        "      <td>NaN</td>\n",
        "      <td>NaN</td>\n",
        "      <td> e2e4ef</td>\n",
        "      <td> 2010-02</td>\n",
        "    </tr>\n",
        "    <tr>\n",
        "      <th>650 </th>\n",
        "      <td> 3174</td>\n",
        "      <td> 10a764e7af50</td>\n",
        "      <td> 10</td>\n",
        "      <td>2010-03-25 23:07:14</td>\n",
        "      <td>2010-03-25 23:42:46</td>\n",
        "      <td> 0</td>\n",
        "      <td> 1</td>\n",
        "      <td> 0</td>\n",
        "      <td> 0</td>\n",
        "      <td> 2</td>\n",
        "      <td>...</td>\n",
        "      <td>NaN</td>\n",
        "      <td>  0</td>\n",
        "      <td>  http://twitter.com/mem014</td>\n",
        "      <td>NaN</td>\n",
        "      <td> NaN</td>\n",
        "      <td>NaN</td>\n",
        "      <td>NaN</td>\n",
        "      <td>NaN</td>\n",
        "      <td> 5dad96</td>\n",
        "      <td> 2010-03</td>\n",
        "    </tr>\n",
        "    <tr>\n",
        "      <th>1320</th>\n",
        "      <td> 5405</td>\n",
        "      <td> 6fc86fd1fa8d</td>\n",
        "      <td> 10</td>\n",
        "      <td>2010-04-15 04:45:46</td>\n",
        "      <td>2010-04-15 04:54:56</td>\n",
        "      <td> 0</td>\n",
        "      <td> 1</td>\n",
        "      <td> 1</td>\n",
        "      <td> 1</td>\n",
        "      <td> 3</td>\n",
        "      <td>...</td>\n",
        "      <td>NaN</td>\n",
        "      <td>NaN</td>\n",
        "      <td>                        NaN</td>\n",
        "      <td>NaN</td>\n",
        "      <td> NaN</td>\n",
        "      <td>NaN</td>\n",
        "      <td>NaN</td>\n",
        "      <td>NaN</td>\n",
        "      <td> 5dad96</td>\n",
        "      <td> 2010-04</td>\n",
        "    </tr>\n",
        "    <tr>\n",
        "      <th>2031</th>\n",
        "      <td> 7725</td>\n",
        "      <td> 7d5cc17cff8c</td>\n",
        "      <td> 10</td>\n",
        "      <td>2010-05-11 18:50:35</td>\n",
        "      <td>2014-06-30 05:05:36</td>\n",
        "      <td> 0</td>\n",
        "      <td> 1</td>\n",
        "      <td> 0</td>\n",
        "      <td> 0</td>\n",
        "      <td> 2</td>\n",
        "      <td>...</td>\n",
        "      <td>NaN</td>\n",
        "      <td>NaN</td>\n",
        "      <td>                        NaN</td>\n",
        "      <td>NaN</td>\n",
        "      <td> NaN</td>\n",
        "      <td>NaN</td>\n",
        "      <td>NaN</td>\n",
        "      <td>NaN</td>\n",
        "      <td> 5dad96</td>\n",
        "      <td> 2010-05</td>\n",
        "    </tr>\n",
        "  </tbody>\n",
        "</table>\n",
        "<p>4 rows \u00d7 25 columns</p>\n",
        "</div>"
       ],
       "metadata": {},
       "output_type": "pyout",
       "prompt_number": 122,
       "text": [
        "      user_id        msisdn  oid              joined           last_seen  \\\n",
        "208      1659  d7a0424cccb2   10 2010-02-15 18:14:53 2013-02-17 05:52:57   \n",
        "650      3174  10a764e7af50   10 2010-03-25 23:07:14 2010-03-25 23:42:46   \n",
        "1320     5405  6fc86fd1fa8d   10 2010-04-15 04:45:46 2010-04-15 04:54:56   \n",
        "2031     7725  7d5cc17cff8c   10 2010-05-11 18:50:35 2014-06-30 05:05:36   \n",
        "\n",
        "      disk_usage  state  friends  invites  rcvdInv   ...     web  twFrs  \\\n",
        "208            0      1        1        0        9   ...     NaN     11   \n",
        "650            0      1        0        0        2   ...     NaN      0   \n",
        "1320           0      1        1        1        3   ...     NaN    NaN   \n",
        "2031           0      1        0        0        2   ...     NaN    NaN   \n",
        "\n",
        "                          tw_url  fbFrs  fb_url  yt  pi  fk    area  \\\n",
        "208   http://twitter.com/emanolo    NaN     NaN   1 NaN NaN  e2e4ef   \n",
        "650    http://twitter.com/mem014    NaN     NaN NaN NaN NaN  5dad96   \n",
        "1320                         NaN    NaN     NaN NaN NaN NaN  5dad96   \n",
        "2031                         NaN    NaN     NaN NaN NaN NaN  5dad96   \n",
        "\n",
        "     YYMM_joined  \n",
        "208      2010-02  \n",
        "650      2010-03  \n",
        "1320     2010-04  \n",
        "2031     2010-05  \n",
        "\n",
        "[4 rows x 25 columns]"
       ]
      }
     ],
     "prompt_number": 122
    },
    {
     "cell_type": "code",
     "collapsed": false,
     "input": [
      "dd=df_inactive[(df_inactive['last_seen']>'2014-06-01') & (df_inactive['joined']>'2012-06-01')]\n",
      "dd=dd[['user_id','last_seen','YYMM_joined']].groupby(['YYMM_joined']).agg(['count'])\n",
      "import matplotlib.pyplot as plt\n",
      "plt.figure(); \n",
      "dd['user_id'].tail(12)\n"
     ],
     "language": "python",
     "metadata": {
      "run_control": {
       "breakpoint": false
      }
     },
     "outputs": [
      {
       "html": [
        "<div style=\"max-height:1000px;max-width:1500px;overflow:auto;\">\n",
        "<table border=\"1\" class=\"dataframe\">\n",
        "  <thead>\n",
        "    <tr style=\"text-align: right;\">\n",
        "      <th></th>\n",
        "      <th>count</th>\n",
        "    </tr>\n",
        "    <tr>\n",
        "      <th>YYMM_joined</th>\n",
        "      <th></th>\n",
        "    </tr>\n",
        "  </thead>\n",
        "  <tbody>\n",
        "    <tr>\n",
        "      <th>2013-08</th>\n",
        "      <td> 13</td>\n",
        "    </tr>\n",
        "    <tr>\n",
        "      <th>2013-09</th>\n",
        "      <td> 11</td>\n",
        "    </tr>\n",
        "    <tr>\n",
        "      <th>2013-10</th>\n",
        "      <td>  9</td>\n",
        "    </tr>\n",
        "    <tr>\n",
        "      <th>2013-11</th>\n",
        "      <td> 14</td>\n",
        "    </tr>\n",
        "    <tr>\n",
        "      <th>2013-12</th>\n",
        "      <td> 18</td>\n",
        "    </tr>\n",
        "    <tr>\n",
        "      <th>2014-01</th>\n",
        "      <td> 12</td>\n",
        "    </tr>\n",
        "    <tr>\n",
        "      <th>2014-02</th>\n",
        "      <td> 28</td>\n",
        "    </tr>\n",
        "    <tr>\n",
        "      <th>2014-03</th>\n",
        "      <td> 21</td>\n",
        "    </tr>\n",
        "    <tr>\n",
        "      <th>2014-04</th>\n",
        "      <td> 17</td>\n",
        "    </tr>\n",
        "    <tr>\n",
        "      <th>2014-05</th>\n",
        "      <td> 41</td>\n",
        "    </tr>\n",
        "    <tr>\n",
        "      <th>2014-06</th>\n",
        "      <td> 93</td>\n",
        "    </tr>\n",
        "    <tr>\n",
        "      <th>2014-12</th>\n",
        "      <td>  1</td>\n",
        "    </tr>\n",
        "  </tbody>\n",
        "</table>\n",
        "</div>"
       ],
       "metadata": {},
       "output_type": "pyout",
       "prompt_number": 123,
       "text": [
        "             count\n",
        "YYMM_joined       \n",
        "2013-08         13\n",
        "2013-09         11\n",
        "2013-10          9\n",
        "2013-11         14\n",
        "2013-12         18\n",
        "2014-01         12\n",
        "2014-02         28\n",
        "2014-03         21\n",
        "2014-04         17\n",
        "2014-05         41\n",
        "2014-06         93\n",
        "2014-12          1"
       ]
      }
     ],
     "prompt_number": 123
    },
    {
     "cell_type": "code",
     "collapsed": false,
     "input": [
      "df_active=df_user[df_user['last_seen']>'2014-07-01']\n",
      "df_active['YYMM_joined'] =df_active['joined'].apply(lambda x: '%d-%02d'%(x.year,x.month))\n"
     ],
     "language": "python",
     "metadata": {
      "run_control": {
       "breakpoint": false
      }
     },
     "outputs": [],
     "prompt_number": 77
    },
    {
     "cell_type": "code",
     "collapsed": false,
     "input": [
      "dd=df_active[['user_id','last_seen','YYMM_joined']].groupby(['YYMM_joined']).agg(['count'])\n",
      "dd['user_id']"
     ],
     "language": "python",
     "metadata": {
      "run_control": {
       "breakpoint": false
      }
     },
     "outputs": [
      {
       "html": [
        "<div style=\"max-height:1000px;max-width:1500px;overflow:auto;\">\n",
        "<table border=\"1\" class=\"dataframe\">\n",
        "  <thead>\n",
        "    <tr style=\"text-align: right;\">\n",
        "      <th></th>\n",
        "      <th>count</th>\n",
        "    </tr>\n",
        "    <tr>\n",
        "      <th>YYMM_joined</th>\n",
        "      <th></th>\n",
        "    </tr>\n",
        "  </thead>\n",
        "  <tbody>\n",
        "    <tr>\n",
        "      <th>2009-12</th>\n",
        "      <td>     2</td>\n",
        "    </tr>\n",
        "    <tr>\n",
        "      <th>2010-01</th>\n",
        "      <td>     8</td>\n",
        "    </tr>\n",
        "    <tr>\n",
        "      <th>2010-02</th>\n",
        "      <td>    11</td>\n",
        "    </tr>\n",
        "    <tr>\n",
        "      <th>2010-03</th>\n",
        "      <td>    12</td>\n",
        "    </tr>\n",
        "    <tr>\n",
        "      <th>2010-04</th>\n",
        "      <td>    29</td>\n",
        "    </tr>\n",
        "    <tr>\n",
        "      <th>2010-05</th>\n",
        "      <td>    23</td>\n",
        "    </tr>\n",
        "    <tr>\n",
        "      <th>2010-06</th>\n",
        "      <td>    18</td>\n",
        "    </tr>\n",
        "    <tr>\n",
        "      <th>2010-07</th>\n",
        "      <td>    21</td>\n",
        "    </tr>\n",
        "    <tr>\n",
        "      <th>2010-08</th>\n",
        "      <td>    16</td>\n",
        "    </tr>\n",
        "    <tr>\n",
        "      <th>2010-09</th>\n",
        "      <td>    88</td>\n",
        "    </tr>\n",
        "    <tr>\n",
        "      <th>2010-10</th>\n",
        "      <td>    77</td>\n",
        "    </tr>\n",
        "    <tr>\n",
        "      <th>2010-11</th>\n",
        "      <td>    32</td>\n",
        "    </tr>\n",
        "    <tr>\n",
        "      <th>2010-12</th>\n",
        "      <td>    32</td>\n",
        "    </tr>\n",
        "    <tr>\n",
        "      <th>2011-01</th>\n",
        "      <td>    41</td>\n",
        "    </tr>\n",
        "    <tr>\n",
        "      <th>2011-02</th>\n",
        "      <td>    65</td>\n",
        "    </tr>\n",
        "    <tr>\n",
        "      <th>2011-03</th>\n",
        "      <td>    56</td>\n",
        "    </tr>\n",
        "    <tr>\n",
        "      <th>2011-04</th>\n",
        "      <td>    62</td>\n",
        "    </tr>\n",
        "    <tr>\n",
        "      <th>2011-05</th>\n",
        "      <td>    89</td>\n",
        "    </tr>\n",
        "    <tr>\n",
        "      <th>2011-06</th>\n",
        "      <td>   244</td>\n",
        "    </tr>\n",
        "    <tr>\n",
        "      <th>2011-07</th>\n",
        "      <td>   217</td>\n",
        "    </tr>\n",
        "    <tr>\n",
        "      <th>2011-08</th>\n",
        "      <td>   603</td>\n",
        "    </tr>\n",
        "    <tr>\n",
        "      <th>2011-09</th>\n",
        "      <td>  2343</td>\n",
        "    </tr>\n",
        "    <tr>\n",
        "      <th>2011-10</th>\n",
        "      <td>   674</td>\n",
        "    </tr>\n",
        "    <tr>\n",
        "      <th>2011-11</th>\n",
        "      <td>   322</td>\n",
        "    </tr>\n",
        "    <tr>\n",
        "      <th>2011-12</th>\n",
        "      <td>   394</td>\n",
        "    </tr>\n",
        "    <tr>\n",
        "      <th>2012-01</th>\n",
        "      <td>   436</td>\n",
        "    </tr>\n",
        "    <tr>\n",
        "      <th>2012-02</th>\n",
        "      <td>   436</td>\n",
        "    </tr>\n",
        "    <tr>\n",
        "      <th>2012-03</th>\n",
        "      <td>   734</td>\n",
        "    </tr>\n",
        "    <tr>\n",
        "      <th>2012-04</th>\n",
        "      <td>  1179</td>\n",
        "    </tr>\n",
        "    <tr>\n",
        "      <th>2012-05</th>\n",
        "      <td>  1353</td>\n",
        "    </tr>\n",
        "    <tr>\n",
        "      <th>2012-06</th>\n",
        "      <td>  1321</td>\n",
        "    </tr>\n",
        "    <tr>\n",
        "      <th>2012-07</th>\n",
        "      <td>  1397</td>\n",
        "    </tr>\n",
        "    <tr>\n",
        "      <th>2012-08</th>\n",
        "      <td>  1295</td>\n",
        "    </tr>\n",
        "    <tr>\n",
        "      <th>2012-09</th>\n",
        "      <td>  1327</td>\n",
        "    </tr>\n",
        "    <tr>\n",
        "      <th>2012-10</th>\n",
        "      <td>  1675</td>\n",
        "    </tr>\n",
        "    <tr>\n",
        "      <th>2012-11</th>\n",
        "      <td>  1700</td>\n",
        "    </tr>\n",
        "    <tr>\n",
        "      <th>2012-12</th>\n",
        "      <td>  1953</td>\n",
        "    </tr>\n",
        "    <tr>\n",
        "      <th>2013-01</th>\n",
        "      <td>  3010</td>\n",
        "    </tr>\n",
        "    <tr>\n",
        "      <th>2013-02</th>\n",
        "      <td>  3056</td>\n",
        "    </tr>\n",
        "    <tr>\n",
        "      <th>2013-03</th>\n",
        "      <td>  3661</td>\n",
        "    </tr>\n",
        "    <tr>\n",
        "      <th>2013-04</th>\n",
        "      <td>  3875</td>\n",
        "    </tr>\n",
        "    <tr>\n",
        "      <th>2013-05</th>\n",
        "      <td>  5034</td>\n",
        "    </tr>\n",
        "    <tr>\n",
        "      <th>2013-06</th>\n",
        "      <td>  5121</td>\n",
        "    </tr>\n",
        "    <tr>\n",
        "      <th>2013-07</th>\n",
        "      <td>  6720</td>\n",
        "    </tr>\n",
        "    <tr>\n",
        "      <th>2013-08</th>\n",
        "      <td>  7127</td>\n",
        "    </tr>\n",
        "    <tr>\n",
        "      <th>2013-09</th>\n",
        "      <td>  6718</td>\n",
        "    </tr>\n",
        "    <tr>\n",
        "      <th>2013-10</th>\n",
        "      <td>  7584</td>\n",
        "    </tr>\n",
        "    <tr>\n",
        "      <th>2013-11</th>\n",
        "      <td>  8513</td>\n",
        "    </tr>\n",
        "    <tr>\n",
        "      <th>2013-12</th>\n",
        "      <td>  9496</td>\n",
        "    </tr>\n",
        "    <tr>\n",
        "      <th>2014-01</th>\n",
        "      <td> 11828</td>\n",
        "    </tr>\n",
        "    <tr>\n",
        "      <th>2014-02</th>\n",
        "      <td> 12178</td>\n",
        "    </tr>\n",
        "    <tr>\n",
        "      <th>2014-03</th>\n",
        "      <td> 13910</td>\n",
        "    </tr>\n",
        "    <tr>\n",
        "      <th>2014-04</th>\n",
        "      <td> 12967</td>\n",
        "    </tr>\n",
        "    <tr>\n",
        "      <th>2014-05</th>\n",
        "      <td> 15888</td>\n",
        "    </tr>\n",
        "    <tr>\n",
        "      <th>2014-06</th>\n",
        "      <td> 18730</td>\n",
        "    </tr>\n",
        "    <tr>\n",
        "      <th>2014-07</th>\n",
        "      <td> 31786</td>\n",
        "    </tr>\n",
        "    <tr>\n",
        "      <th>2014-08</th>\n",
        "      <td> 32068</td>\n",
        "    </tr>\n",
        "    <tr>\n",
        "      <th>2014-09</th>\n",
        "      <td> 28440</td>\n",
        "    </tr>\n",
        "    <tr>\n",
        "      <th>2014-10</th>\n",
        "      <td> 28350</td>\n",
        "    </tr>\n",
        "    <tr>\n",
        "      <th>2014-11</th>\n",
        "      <td>  9618</td>\n",
        "    </tr>\n",
        "  </tbody>\n",
        "</table>\n",
        "</div>"
       ],
       "metadata": {},
       "output_type": "pyout",
       "prompt_number": 78,
       "text": [
        "             count\n",
        "YYMM_joined       \n",
        "2009-12          2\n",
        "2010-01          8\n",
        "2010-02         11\n",
        "2010-03         12\n",
        "2010-04         29\n",
        "2010-05         23\n",
        "2010-06         18\n",
        "2010-07         21\n",
        "2010-08         16\n",
        "2010-09         88\n",
        "2010-10         77\n",
        "2010-11         32\n",
        "2010-12         32\n",
        "2011-01         41\n",
        "2011-02         65\n",
        "2011-03         56\n",
        "2011-04         62\n",
        "2011-05         89\n",
        "2011-06        244\n",
        "2011-07        217\n",
        "2011-08        603\n",
        "2011-09       2343\n",
        "2011-10        674\n",
        "2011-11        322\n",
        "2011-12        394\n",
        "2012-01        436\n",
        "2012-02        436\n",
        "2012-03        734\n",
        "2012-04       1179\n",
        "2012-05       1353\n",
        "2012-06       1321\n",
        "2012-07       1397\n",
        "2012-08       1295\n",
        "2012-09       1327\n",
        "2012-10       1675\n",
        "2012-11       1700\n",
        "2012-12       1953\n",
        "2013-01       3010\n",
        "2013-02       3056\n",
        "2013-03       3661\n",
        "2013-04       3875\n",
        "2013-05       5034\n",
        "2013-06       5121\n",
        "2013-07       6720\n",
        "2013-08       7127\n",
        "2013-09       6718\n",
        "2013-10       7584\n",
        "2013-11       8513\n",
        "2013-12       9496\n",
        "2014-01      11828\n",
        "2014-02      12178\n",
        "2014-03      13910\n",
        "2014-04      12967\n",
        "2014-05      15888\n",
        "2014-06      18730\n",
        "2014-07      31786\n",
        "2014-08      32068\n",
        "2014-09      28440\n",
        "2014-10      28350\n",
        "2014-11       9618"
       ]
      }
     ],
     "prompt_number": 78
    },
    {
     "cell_type": "code",
     "collapsed": false,
     "input": [
      "# should be able to find some records\n",
      "df_user_f[df_user_f['msisdn']==xx('525540448192')].head(3)"
     ],
     "language": "python",
     "metadata": {
      "run_control": {
       "breakpoint": false
      }
     },
     "outputs": [
      {
       "html": [
        "<div style=\"max-height:1000px;max-width:1500px;overflow:auto;\">\n",
        "<table border=\"1\" class=\"dataframe\">\n",
        "  <thead>\n",
        "    <tr style=\"text-align: right;\">\n",
        "      <th></th>\n",
        "      <th>user_id</th>\n",
        "      <th>msisdn</th>\n",
        "      <th>oid</th>\n",
        "      <th>joined</th>\n",
        "      <th>last_seen</th>\n",
        "      <th>disk_usage</th>\n",
        "      <th>state</th>\n",
        "      <th>friends</th>\n",
        "      <th>invites</th>\n",
        "      <th>rcvdInv</th>\n",
        "      <th>...</th>\n",
        "      <th>login</th>\n",
        "      <th>web</th>\n",
        "      <th>twFrs</th>\n",
        "      <th>tw_url</th>\n",
        "      <th>fbFrs</th>\n",
        "      <th>fb_url</th>\n",
        "      <th>yt</th>\n",
        "      <th>pi</th>\n",
        "      <th>fk</th>\n",
        "      <th>area</th>\n",
        "    </tr>\n",
        "  </thead>\n",
        "  <tbody>\n",
        "    <tr>\n",
        "      <th>188</th>\n",
        "      <td> 1574</td>\n",
        "      <td> d41c93742d16</td>\n",
        "      <td> 10</td>\n",
        "      <td>2010-02-13 05:08:28</td>\n",
        "      <td>2015-01-09 04:07:53</td>\n",
        "      <td> 0</td>\n",
        "      <td> 1</td>\n",
        "      <td> 38</td>\n",
        "      <td> 0</td>\n",
        "      <td> 0</td>\n",
        "      <td>...</td>\n",
        "      <td>NaN</td>\n",
        "      <td>NaN</td>\n",
        "      <td>NaN</td>\n",
        "      <td> NaN</td>\n",
        "      <td>NaN</td>\n",
        "      <td> NaN</td>\n",
        "      <td>NaN</td>\n",
        "      <td>NaN</td>\n",
        "      <td>NaN</td>\n",
        "      <td> 4916e3</td>\n",
        "    </tr>\n",
        "  </tbody>\n",
        "</table>\n",
        "<p>1 rows \u00d7 24 columns</p>\n",
        "</div>"
       ],
       "metadata": {},
       "output_type": "pyout",
       "prompt_number": 128,
       "text": [
        "     user_id        msisdn  oid              joined           last_seen  \\\n",
        "188     1574  d41c93742d16   10 2010-02-13 05:08:28 2015-01-09 04:07:53   \n",
        "\n",
        "     disk_usage  state  friends  invites  rcvdInv   ...     login  web  twFrs  \\\n",
        "188           0      1       38        0        0   ...       NaN  NaN    NaN   \n",
        "\n",
        "     tw_url  fbFrs  fb_url  yt  pi  fk    area  \n",
        "188     NaN    NaN     NaN NaN NaN NaN  4916e3  \n",
        "\n",
        "[1 rows x 24 columns]"
       ]
      }
     ],
     "prompt_number": 128
    },
    {
     "cell_type": "code",
     "collapsed": false,
     "input": [
      "!head -n 5 {fn_out}"
     ],
     "language": "python",
     "metadata": {
      "run_control": {
       "breakpoint": false
      }
     },
     "outputs": [
      {
       "output_type": "stream",
       "stream": "stdout",
       "text": [
        "user_id,joined,last_seen,disk_usage,state,friends,invites,rcvdInv,rejectd,sim,twFrs,fbFrs,yt,pi,fk,area\r\n",
        "11710e3b7a19,2009-12-03 23:33:11,2014-12-12 02:22:01,11834402,1,283.0,0.0,165.0,12.0,,0.0,,,,,6fe0d4\r\n",
        "71f7ee50bffd,2009-12-22 23:17:20,2014-08-16 01:12:44,12268773,1,33.0,6.0,175.0,0.0,,73.0,,1.0,,,6fe0d4\r\n",
        "d9c9041178a1,2010-01-21 21:36:31,2014-12-23 01:37:09,51281969,1,349.0,0.0,17.0,94.0,,,,,,,5dad96\r\n",
        "3dbb7b3d89a3,2010-01-25 23:50:28,2014-11-06 23:15:43,1099,1,18.0,4.0,135.0,8.0,,,,,,,5dad96\r\n"
       ]
      }
     ],
     "prompt_number": 131
    },
    {
     "cell_type": "code",
     "collapsed": false,
     "input": [
      "!gzip -f {fn_out}"
     ],
     "language": "python",
     "metadata": {
      "run_control": {
       "breakpoint": false
      }
     },
     "outputs": [],
     "prompt_number": 27
    },
    {
     "cell_type": "code",
     "collapsed": false,
     "input": [
      "df_user_short[df_user_short['joined']>'2014-07'].info()"
     ],
     "language": "python",
     "metadata": {
      "run_control": {
       "breakpoint": false
      }
     },
     "outputs": [
      {
       "output_type": "stream",
       "stream": "stdout",
       "text": [
        "<class 'pandas.core.frame.DataFrame'>\n",
        "Int64Index: 113300 entries, 127619 to 1206350\n",
        "Data columns (total 16 columns):\n",
        "user_id       113300 non-null object\n",
        "joined        113300 non-null datetime64[ns]\n",
        "last_seen     111795 non-null datetime64[ns]\n",
        "disk_usage    113300 non-null int64\n",
        "state         113300 non-null int64\n",
        "friends       63291 non-null float64\n",
        "invites       63291 non-null float64\n",
        "rcvdInv       63291 non-null float64\n",
        "rejectd       63291 non-null float64\n",
        "sim           354 non-null float64\n",
        "twFrs         386 non-null float64\n",
        "fbFrs         5797 non-null float64\n",
        "yt            312 non-null float64\n",
        "pi            151 non-null float64\n",
        "fk            0 non-null float64\n",
        "area          113300 non-null object\n",
        "dtypes: datetime64[ns](2), float64(10), int64(2), object(2)"
       ]
      }
     ],
     "prompt_number": 132
    },
    {
     "cell_type": "code",
     "collapsed": false,
     "input": [
      "df_user_short.index=df_user_short['joined']"
     ],
     "language": "python",
     "metadata": {
      "run_control": {
       "breakpoint": false
      }
     },
     "outputs": [],
     "prompt_number": 149
    },
    {
     "cell_type": "code",
     "collapsed": false,
     "input": [
      "resamp =  pd.groupby(df_user_short['user_id'],by=[df_user_short.index.year,df_user_short.index.month]).count()"
     ],
     "language": "python",
     "metadata": {
      "run_control": {
       "breakpoint": false
      }
     },
     "outputs": [],
     "prompt_number": 150
    },
    {
     "cell_type": "code",
     "collapsed": false,
     "input": [
      "resamp.tail()"
     ],
     "language": "python",
     "metadata": {
      "run_control": {
       "breakpoint": false
      }
     },
     "outputs": [
      {
       "metadata": {},
       "output_type": "pyout",
       "prompt_number": 151,
       "text": [
        "2014  6     3461\n",
        "      7     3372\n",
        "      8     4635\n",
        "      9     4709\n",
        "      10    7498\n",
        "Name: user_id, dtype: int64"
       ]
      }
     ],
     "prompt_number": 151
    },
    {
     "cell_type": "code",
     "collapsed": false,
     "input": [
      "resamp.plot()"
     ],
     "language": "python",
     "metadata": {
      "run_control": {
       "breakpoint": false
      }
     },
     "outputs": [
      {
       "metadata": {},
       "output_type": "pyout",
       "prompt_number": 152,
       "text": [
        "<matplotlib.axes._subplots.AxesSubplot at 0x1266cc2d0>"
       ]
      }
     ],
     "prompt_number": 152
    },
    {
     "cell_type": "code",
     "collapsed": false,
     "input": [],
     "language": "python",
     "metadata": {
      "run_control": {
       "breakpoint": false
      }
     },
     "outputs": []
    },
    {
     "cell_type": "code",
     "collapsed": false,
     "input": [],
     "language": "python",
     "metadata": {
      "run_control": {
       "breakpoint": false
      }
     },
     "outputs": []
    }
   ],
   "metadata": {}
  }
 ]
}