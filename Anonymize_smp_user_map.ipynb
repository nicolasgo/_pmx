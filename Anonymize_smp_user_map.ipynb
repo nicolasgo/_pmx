{
 "metadata": {
  "name": "",
  "signature": "sha256:fb46b905ae7fe2de290d3fdd7e51382c9b5bac99e1a96bfed3bb7467ec63d2ff"
 },
 "nbformat": 3,
 "nbformat_minor": 0,
 "worksheets": [
  {
   "cells": [
    {
     "cell_type": "markdown",
     "metadata": {},
     "source": [
      "## Read session file"
     ]
    },
    {
     "cell_type": "code",
     "collapsed": false,
     "input": [
      "import sys\n",
      "import csv\n",
      "import StringIO\n",
      "import pandas as pd\n",
      "import numpy as np\n",
      "\n",
      "from code.crypto import xx_msisdn,xx_ip\n",
      "\n",
      "user_fn=_rootdir+'data/smp_user_map'"
     ],
     "language": "python",
     "metadata": {},
     "outputs": [],
     "prompt_number": 1
    },
    {
     "cell_type": "markdown",
     "metadata": {},
     "source": [
      "## Read user file"
     ]
    },
    {
     "cell_type": "code",
     "collapsed": false,
     "input": [
      "#df_user=0 # uncomment this line to reload the content_df\n",
      "try:\n",
      "    print df_user.msisdn.count()\n",
      "except:\n",
      "    df_user=pd.read_csv(user_fn,\n",
      "                 sep='\\t',\n",
      "                 encoding='utf-8',\n",
      "                 header=1, names=['user_id','msisdn','state','oid','area','joined','last_seen']\n",
      "                 )\n",
      "\n",
      "    df_user['msisdn']=df_user['msisdn'].astype(str)\n",
      "#    df_user=df_user[df_user['state']==1]\n",
      "\n",
      "print df_user.msisdn.describe()\n",
      "#df_user=df_user.set_index('msisdn')\n",
      "##\n",
      "df_user.head(3)\n"
     ],
     "language": "python",
     "metadata": {
      "run_control": {
       "breakpoint": false
      }
     },
     "outputs": [
      {
       "output_type": "stream",
       "stream": "stdout",
       "text": [
        "count          22073114\n",
        "unique         22073114\n",
        "top       5493584282324\n",
        "freq                  1\n",
        "Name: msisdn, dtype: object\n"
       ]
      },
      {
       "html": [
        "<div style=\"max-height:1000px;max-width:1500px;overflow:auto;\">\n",
        "<table border=\"1\" class=\"dataframe\">\n",
        "  <thead>\n",
        "    <tr style=\"text-align: right;\">\n",
        "      <th></th>\n",
        "      <th>user_id</th>\n",
        "      <th>msisdn</th>\n",
        "      <th>state</th>\n",
        "      <th>oid</th>\n",
        "      <th>area</th>\n",
        "      <th>joined</th>\n",
        "      <th>last_seen</th>\n",
        "    </tr>\n",
        "  </thead>\n",
        "  <tbody>\n",
        "    <tr>\n",
        "      <th>0</th>\n",
        "      <td> 2</td>\n",
        "      <td>       76781</td>\n",
        "      <td> 1</td>\n",
        "      <td> 10</td>\n",
        "      <td> 78</td>\n",
        "      <td> 2009-02-03</td>\n",
        "      <td> 2011-05-11</td>\n",
        "    </tr>\n",
        "    <tr>\n",
        "      <th>1</th>\n",
        "      <td> 3</td>\n",
        "      <td>           1</td>\n",
        "      <td> 1</td>\n",
        "      <td> 26</td>\n",
        "      <td>NaN</td>\n",
        "      <td> 2009-05-08</td>\n",
        "      <td> 2009-05-29</td>\n",
        "    </tr>\n",
        "    <tr>\n",
        "      <th>2</th>\n",
        "      <td> 5</td>\n",
        "      <td> 15143457905</td>\n",
        "      <td> 1</td>\n",
        "      <td> 26</td>\n",
        "      <td> 14</td>\n",
        "      <td> 2009-11-19</td>\n",
        "      <td> 2009-11-20</td>\n",
        "    </tr>\n",
        "  </tbody>\n",
        "</table>\n",
        "</div>"
       ],
       "metadata": {},
       "output_type": "pyout",
       "prompt_number": 2,
       "text": [
        "   user_id  \\\n",
        "0        2   \n",
        "1        3   \n",
        "2        5   \n",
        "\n",
        "        msisdn  \\\n",
        "0        76781   \n",
        "1            1   \n",
        "2  15143457905   \n",
        "\n",
        "   state  \\\n",
        "0      1   \n",
        "1      1   \n",
        "2      1   \n",
        "\n",
        "   oid  \\\n",
        "0   10   \n",
        "1   26   \n",
        "2   26   \n",
        "\n",
        "   area  \\\n",
        "0    78   \n",
        "1   NaN   \n",
        "2    14   \n",
        "\n",
        "       joined  \\\n",
        "0  2009-02-03   \n",
        "1  2009-05-08   \n",
        "2  2009-11-19   \n",
        "\n",
        "    last_seen  \n",
        "0  2011-05-11  \n",
        "1  2009-05-29  \n",
        "2  2009-11-20  "
       ]
      }
     ],
     "prompt_number": 2
    },
    {
     "cell_type": "code",
     "collapsed": false,
     "input": [
      "df_user=df_user.dropna()"
     ],
     "language": "python",
     "metadata": {
      "run_control": {
       "breakpoint": false
      }
     },
     "outputs": [],
     "prompt_number": 3
    },
    {
     "cell_type": "raw",
     "metadata": {},
     "source": [
      "df_user.info()"
     ]
    },
    {
     "cell_type": "code",
     "collapsed": false,
     "input": [
      "#criterion = df_user['msisdn'].map(lambda x: (str(x).startswith('5255'))) #or  str(x).startswith('5223')\n",
      "#df_user=df_user[criterion]\n",
      "df_user[df_user.state>0].groupby(['oid']).msisdn.agg('count')# msisdn.describe()\n",
      "##"
     ],
     "language": "python",
     "metadata": {},
     "outputs": [
      {
       "metadata": {},
       "output_type": "pyout",
       "prompt_number": 4,
       "text": [
        "oid\n",
        "1           223\n",
        "10     11687894\n",
        "14        40778\n",
        "15      1237417\n",
        "16        13294\n",
        "18        85327\n",
        "19       895956\n",
        "20       546831\n",
        "21       225164\n",
        "22        13547\n",
        "23        16787\n",
        "24       151293\n",
        "25            1\n",
        "26       111920\n",
        "27        51858\n",
        "29        55400\n",
        "30        78125\n",
        "31           14\n",
        "33         4336\n",
        "Name: msisdn, dtype: int64"
       ]
      }
     ],
     "prompt_number": 4
    },
    {
     "cell_type": "code",
     "collapsed": false,
     "input": [
      "df_user['joined']=pd.to_datetime(df_user['joined'])\n",
      "df_user['last_seen']=pd.to_datetime(df_user['last_seen'])\n",
      "\n",
      "df_user['joined'] = df_user.joined.convert_objects(convert_dates='coerce')\n",
      "df_user['last_seen'] = df_user.last_seen.convert_objects(convert_dates='coerce')\n",
      "##"
     ],
     "language": "python",
     "metadata": {},
     "outputs": [],
     "prompt_number": 5
    },
    {
     "cell_type": "code",
     "collapsed": false,
     "input": [
      "print len(df_user['msisdn'].unique())\n",
      "\n",
      "df_user['hash'] =df_user['msisdn'].apply(xx_msisdn)\n",
      "\n",
      "print len(df_user['hash'].unique())\n",
      "df_user.head(3)"
     ],
     "language": "python",
     "metadata": {
      "run_control": {
       "breakpoint": false
      }
     },
     "outputs": [
      {
       "output_type": "stream",
       "stream": "stdout",
       "text": [
        "22073072\n",
        "22073072"
       ]
      },
      {
       "output_type": "stream",
       "stream": "stdout",
       "text": [
        "\n"
       ]
      },
      {
       "html": [
        "<div style=\"max-height:1000px;max-width:1500px;overflow:auto;\">\n",
        "<table border=\"1\" class=\"dataframe\">\n",
        "  <thead>\n",
        "    <tr style=\"text-align: right;\">\n",
        "      <th></th>\n",
        "      <th>user_id</th>\n",
        "      <th>msisdn</th>\n",
        "      <th>state</th>\n",
        "      <th>oid</th>\n",
        "      <th>area</th>\n",
        "      <th>joined</th>\n",
        "      <th>last_seen</th>\n",
        "      <th>hash</th>\n",
        "    </tr>\n",
        "  </thead>\n",
        "  <tbody>\n",
        "    <tr>\n",
        "      <th>0</th>\n",
        "      <td>  2</td>\n",
        "      <td>       76781</td>\n",
        "      <td> 1</td>\n",
        "      <td> 10</td>\n",
        "      <td> 78</td>\n",
        "      <td>2009-02-03</td>\n",
        "      <td>2011-05-11</td>\n",
        "      <td> 89665d7a8f9a0ba4</td>\n",
        "    </tr>\n",
        "    <tr>\n",
        "      <th>2</th>\n",
        "      <td>  5</td>\n",
        "      <td> 15143457905</td>\n",
        "      <td> 1</td>\n",
        "      <td> 26</td>\n",
        "      <td> 14</td>\n",
        "      <td>2009-11-19</td>\n",
        "      <td>2009-11-20</td>\n",
        "      <td> fbe3e97744f4693d</td>\n",
        "    </tr>\n",
        "    <tr>\n",
        "      <th>3</th>\n",
        "      <td> 10</td>\n",
        "      <td> 15143457910</td>\n",
        "      <td> 1</td>\n",
        "      <td> 10</td>\n",
        "      <td> 14</td>\n",
        "      <td>2009-11-20</td>\n",
        "      <td>2009-12-02</td>\n",
        "      <td> e0e598da7734adc1</td>\n",
        "    </tr>\n",
        "  </tbody>\n",
        "</table>\n",
        "</div>"
       ],
       "metadata": {},
       "output_type": "pyout",
       "prompt_number": 6,
       "text": [
        "   user_id  \\\n",
        "0        2   \n",
        "2        5   \n",
        "3       10   \n",
        "\n",
        "        msisdn  \\\n",
        "0        76781   \n",
        "2  15143457905   \n",
        "3  15143457910   \n",
        "\n",
        "   state  \\\n",
        "0      1   \n",
        "2      1   \n",
        "3      1   \n",
        "\n",
        "   oid  \\\n",
        "0   10   \n",
        "2   26   \n",
        "3   10   \n",
        "\n",
        "   area  \\\n",
        "0    78   \n",
        "2    14   \n",
        "3    14   \n",
        "\n",
        "      joined  \\\n",
        "0 2009-02-03   \n",
        "2 2009-11-19   \n",
        "3 2009-11-20   \n",
        "\n",
        "   last_seen  \\\n",
        "0 2011-05-11   \n",
        "2 2009-11-20   \n",
        "3 2009-12-02   \n",
        "\n",
        "               hash  \n",
        "0  89665d7a8f9a0ba4  \n",
        "2  fbe3e97744f4693d  \n",
        "3  e0e598da7734adc1  "
       ]
      }
     ],
     "prompt_number": 6
    },
    {
     "cell_type": "code",
     "collapsed": false,
     "input": [
      "df_user[df_user.duplicated('hash')].hash"
     ],
     "language": "python",
     "metadata": {
      "run_control": {
       "breakpoint": false
      }
     },
     "outputs": [
      {
       "metadata": {},
       "output_type": "pyout",
       "prompt_number": 7,
       "text": [
        "Series([], name: hash, dtype: object)"
       ]
      }
     ],
     "prompt_number": 7
    },
    {
     "cell_type": "code",
     "collapsed": false,
     "input": [
      "df_user[df_user.msisdn.map(lambda x:  x in ['573107312744','524981100569'])]"
     ],
     "language": "python",
     "metadata": {
      "run_control": {
       "breakpoint": false
      }
     },
     "outputs": [
      {
       "html": [
        "<div style=\"max-height:1000px;max-width:1500px;overflow:auto;\">\n",
        "<table border=\"1\" class=\"dataframe\">\n",
        "  <thead>\n",
        "    <tr style=\"text-align: right;\">\n",
        "      <th></th>\n",
        "      <th>user_id</th>\n",
        "      <th>msisdn</th>\n",
        "      <th>state</th>\n",
        "      <th>oid</th>\n",
        "      <th>area</th>\n",
        "      <th>joined</th>\n",
        "      <th>last_seen</th>\n",
        "      <th>hash</th>\n",
        "    </tr>\n",
        "  </thead>\n",
        "  <tbody>\n",
        "    <tr>\n",
        "      <th>3579641 </th>\n",
        "      <td>  4187203</td>\n",
        "      <td> 573107312744</td>\n",
        "      <td> 1</td>\n",
        "      <td> 15</td>\n",
        "      <td> 31</td>\n",
        "      <td>2012-09-22</td>\n",
        "      <td>2013-07-07</td>\n",
        "      <td> 1d18516b1b718378</td>\n",
        "    </tr>\n",
        "    <tr>\n",
        "      <th>14772529</th>\n",
        "      <td> 17695216</td>\n",
        "      <td> 524981100569</td>\n",
        "      <td> 1</td>\n",
        "      <td> 10</td>\n",
        "      <td> 49</td>\n",
        "      <td>2014-03-20</td>\n",
        "      <td>2014-03-20</td>\n",
        "      <td> 1d18516b1b71d3fe</td>\n",
        "    </tr>\n",
        "  </tbody>\n",
        "</table>\n",
        "</div>"
       ],
       "metadata": {},
       "output_type": "pyout",
       "prompt_number": 10,
       "text": [
        "           user_id  \\\n",
        "3579641    4187203   \n",
        "14772529  17695216   \n",
        "\n",
        "                msisdn  \\\n",
        "3579641   573107312744   \n",
        "14772529  524981100569   \n",
        "\n",
        "          state  \\\n",
        "3579641       1   \n",
        "14772529      1   \n",
        "\n",
        "          oid  \\\n",
        "3579641    15   \n",
        "14772529   10   \n",
        "\n",
        "          area  \\\n",
        "3579641     31   \n",
        "14772529    49   \n",
        "\n",
        "             joined  \\\n",
        "3579641  2012-09-22   \n",
        "14772529 2014-03-20   \n",
        "\n",
        "          last_seen  \\\n",
        "3579641  2013-07-07   \n",
        "14772529 2014-03-20   \n",
        "\n",
        "                      hash  \n",
        "3579641   1d18516b1b718378  \n",
        "14772529  1d18516b1b71d3fe  "
       ]
      }
     ],
     "prompt_number": 10
    },
    {
     "cell_type": "markdown",
     "metadata": {},
     "source": [
      "##Saving user file\n",
      "(takes a while, get a coffee!)"
     ]
    },
    {
     "cell_type": "code",
     "collapsed": false,
     "input": [
      "#file_name='/Users/nicolas/logs/nobackup/sessions23.pv.csv'\n",
      "fn_out='.'.join(user_fn.split('.')[:-1])+'.a.csv'\n",
      "print 'saving to',fn_out\n",
      "df_user.to_csv(fn_out, encoding='utf-8', index=False)\n",
      "!head -n 3 {fn_out}"
     ],
     "language": "python",
     "metadata": {
      "run_control": {
       "breakpoint": false
      }
     },
     "outputs": [
      {
       "output_type": "stream",
       "stream": "stdout",
       "text": [
        "saving to .a.csv\n",
        "user_id,msisdn,state,oid,area,joined,last_seen,hash\r\n",
        "2,76781,1,10,78.0,2009-02-03 00:00:00,2011-05-11 00:00:00,89665d7a8f9a0ba4\r\n",
        "5,15143457905,1,26,14.0,2009-11-19 00:00:00,2009-11-20 00:00:00,fbe3e97744f4693d\r\n"
       ]
      }
     ],
     "prompt_number": 11
    },
    {
     "cell_type": "code",
     "collapsed": false,
     "input": [
      "!tail -n 3 {fn_out}"
     ],
     "language": "python",
     "metadata": {
      "run_control": {
       "breakpoint": false
      }
     },
     "outputs": [
      {
       "output_type": "stream",
       "stream": "stdout",
       "text": [
        "26882470,525564404083,1,10,55.0,2015-03-16 00:00:00,2015-03-16 00:00:00,670cad3e1cecb1e6\r\n",
        "26882471,523131192965,1,10,31.0,2015-03-16 00:00:00,,1cccb64d43d3d687\r\n",
        "26882472,573107745985,0,15,31.0,2015-03-16 00:00:00,,a9692d1ddff92c44\r\n"
       ]
      }
     ],
     "prompt_number": 16
    },
    {
     "cell_type": "code",
     "collapsed": false,
     "input": [
      "#!gzip -f {fn_out}"
     ],
     "language": "python",
     "metadata": {
      "run_control": {
       "breakpoint": false
      }
     },
     "outputs": [],
     "prompt_number": 36
    },
    {
     "cell_type": "markdown",
     "metadata": {},
     "source": [
      "# Make Report"
     ]
    },
    {
     "cell_type": "markdown",
     "metadata": {},
     "source": [
      "## New users"
     ]
    },
    {
     "cell_type": "markdown",
     "metadata": {},
     "source": [
      "## Weekly users"
     ]
    },
    {
     "cell_type": "markdown",
     "metadata": {},
     "source": [
      "## Monthly users"
     ]
    },
    {
     "cell_type": "code",
     "collapsed": false,
     "input": [
      "df_user[(df_user.oid==10)].area.value_counts()"
     ],
     "language": "python",
     "metadata": {
      "run_control": {
       "breakpoint": false
      }
     },
     "outputs": [
      {
       "metadata": {},
       "output_type": "pyout",
       "prompt_number": 24,
       "text": [
        "55    1855322\n",
        "44     755120\n",
        "99     731168\n",
        "66     686824\n",
        "33     601985\n",
        "22     588476\n",
        "81     575647\n",
        "96     540158\n",
        "77     477817\n",
        "87     390645\n",
        "61     390112\n",
        "95     377347\n",
        "72     372721\n",
        "98     313156\n",
        "74     305603\n",
        "...\n",
        "26    3\n",
        "16    3\n",
        "15    2\n",
        "10    2\n",
        "88    2\n",
        "30    1\n",
        "4     1\n",
        "18    1\n",
        "36    1\n",
        "20    1\n",
        "57    1\n",
        "56    1\n",
        "53    1\n",
        "40    1\n",
        "50    1\n",
        "Length: 85, dtype: int64"
       ]
      }
     ],
     "prompt_number": 24
    },
    {
     "cell_type": "code",
     "collapsed": false,
     "input": [
      "df_user[(df_user.hash.map(lambda x: x[0]=='0' and x[1] in range('0','5')))&(df_user.oid==10)].area.value_counts()"
     ],
     "language": "python",
     "metadata": {
      "run_control": {
       "breakpoint": false
      }
     },
     "outputs": [
      {
       "metadata": {},
       "output_type": "pyout",
       "prompt_number": 25,
       "text": [
        "Series([], dtype: int64)"
       ]
      }
     ],
     "prompt_number": 25
    },
    {
     "cell_type": "code",
     "collapsed": false,
     "input": [
      "range(0x30,0x34)"
     ],
     "language": "python",
     "metadata": {
      "run_control": {
       "breakpoint": false
      }
     },
     "outputs": [
      {
       "metadata": {},
       "output_type": "pyout",
       "prompt_number": 29,
       "text": [
        "[48, 49, 50, 51]"
       ]
      }
     ],
     "prompt_number": 29
    },
    {
     "cell_type": "code",
     "collapsed": false,
     "input": [
      "s.value_counts()"
     ],
     "language": "python",
     "metadata": {
      "run_control": {
       "breakpoint": false
      }
     },
     "outputs": [
      {
       "metadata": {},
       "output_type": "pyout",
       "prompt_number": 19,
       "text": [
        "3    1381636\n",
        "7    1380987\n",
        "d    1380763\n",
        "e    1380639\n",
        "a    1380599\n",
        "1    1380270\n",
        "9    1379807\n",
        "4    1379652\n",
        "8    1379633\n",
        "2    1378937\n",
        "f    1378904\n",
        "b    1378769\n",
        "5    1378493\n",
        "c    1378366\n",
        "6    1378013\n",
        "0    1377604\n",
        "dtype: int64"
       ]
      }
     ],
     "prompt_number": 19
    },
    {
     "cell_type": "code",
     "collapsed": false,
     "input": [
      "#8 = 1379633 "
     ],
     "language": "python",
     "metadata": {
      "run_control": {
       "breakpoint": false
      }
     },
     "outputs": []
    }
   ],
   "metadata": {}
  }
 ]
}