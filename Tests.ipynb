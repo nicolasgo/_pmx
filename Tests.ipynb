{
 "metadata": {
  "name": "",
  "signature": "sha256:cdaf13cc71a1bbf1d332da866d6b5374216a8723a860ac608db6126cf153e217"
 },
 "nbformat": 3,
 "nbformat_minor": 0,
 "worksheets": [
  {
   "cells": [
    {
     "cell_type": "code",
     "collapsed": false,
     "input": [
      "# tests\n",
      "from datetime import datetime, date, time"
     ],
     "language": "python",
     "metadata": {},
     "outputs": [],
     "prompt_number": 6
    },
    {
     "cell_type": "code",
     "collapsed": false,
     "input": [
      "time_strs = ['2014-09-30 20:41:29','2014-10-01 00:28:50', '2014-10-01 09:16:47', '2014-10-02 02:56:48','2014-10-02 13:19:43']"
     ],
     "language": "python",
     "metadata": {},
     "outputs": [],
     "prompt_number": 7
    },
    {
     "cell_type": "code",
     "collapsed": false,
     "input": [
      "\n",
      "for s in time_strs:\n",
      "    start = int(datetime.strptime(s.split(' ')[0], '%Y-%m-%d').strftime(\"%s\"))\n",
      "    start -= 3600*4\n",
      "    print s, start\n",
      "\n",
      "    \n"
     ],
     "language": "python",
     "metadata": {},
     "outputs": [
      {
       "output_type": "stream",
       "stream": "stdout",
       "text": [
        "2014-09-30 20:41:29 1412035200\n",
        "2014-10-01 00:28:50 1412121600\n",
        "2014-10-01 09:16:47 1412121600\n",
        "2014-10-02 02:56:48 1412208000\n",
        "2014-10-02 13:19:43 1412208000\n"
       ]
      }
     ],
     "prompt_number": 12
    },
    {
     "cell_type": "code",
     "collapsed": false,
     "input": [],
     "language": "python",
     "metadata": {},
     "outputs": []
    }
   ],
   "metadata": {}
  }
 ]
}