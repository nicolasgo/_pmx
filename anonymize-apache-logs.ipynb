{
 "metadata": {
  "name": "",
  "signature": "sha256:00dd02320f0f2848dc816bdd5c369763ea2d50a70fe9b304da842f9b4dab9ba2"
 },
 "nbformat": 3,
 "nbformat_minor": 0,
 "worksheets": [
  {
   "cells": [
    {
     "cell_type": "markdown",
     "metadata": {},
     "source": [
      "#Anonymize apache/nginx logs\n",
      "-\n",
      "-"
     ]
    },
    {
     "cell_type": "heading",
     "level": 2,
     "metadata": {},
     "source": [
      "Setup"
     ]
    },
    {
     "cell_type": "code",
     "collapsed": false,
     "input": [
      "import pandas as pd\n",
      "from pandas import Series, DataFrame, Panel\n",
      "import numpy as np\n",
      "import sys\n",
      "import matplotlib.pyplot as plt\n",
      "import apachelog\n",
      "from apachelog import ApacheLogParserError\n",
      "\n",
      "from code.crypto import xx_msisdn,xx_ip\n"
     ],
     "language": "python",
     "metadata": {},
     "outputs": [],
     "prompt_number": 182
    },
    {
     "cell_type": "code",
     "collapsed": false,
     "input": [
      "from pylab import *\n",
      "rcParams['figure.figsize'] = 10, 5 # width, height in inches\n",
      "\n",
      "%matplotlib inline"
     ],
     "language": "python",
     "metadata": {},
     "outputs": [],
     "prompt_number": 183
    },
    {
     "cell_type": "code",
     "collapsed": false,
     "input": [
      "# only the last file_name gets read :-)\n",
      "#\n",
      "file_name=_rootdir+'data/alain/3gp.0219.log'\n",
      "file_name=_rootdir+'data/alain/201502_3gp.log'\n",
      "file_name=_rootdir+'data/alain/20150223.fraud'\n",
      "file_name=_rootdir+'data/alain/20150223'\n",
      "file_name=_rootdir+'data/alain/20150226.s.log'\n"
     ],
     "language": "python",
     "metadata": {},
     "outputs": [],
     "prompt_number": 184
    },
    {
     "cell_type": "heading",
     "level": 2,
     "metadata": {},
     "source": [
      "Parsing the log"
     ]
    },
    {
     "cell_type": "code",
     "collapsed": false,
     "input": [
      "sample_strings =['189.254.162.19 189.254.162.19 - [14/Feb/2015:21:38:28 -0500] \"GET /profile/14119369/inbox HTTP/1.1\" 200 3040 \\\n",
      "\"http://mx.plugger.com/home/plugger\" \"Mozilla/5.0 (Linux; U; Android 4.4.2; es-sa; LG-D320 Build/KOT49I.V10a) AppleWebKit/537.36 (KHTML, like Gecko) Version/4.0 Chrome/30.0.1599.103 Mobile Safari/537.36\" \\\n",
      "526142530854 BDFEA213B8166CA395DE005054E006A2 \"-\"',\n",
      "'189.206.114.3 172.16.16.68, 127.0.0.1, 189.206.114.3 - [14/Feb/2015:01:24:02 -0500] \\\n",
      "\"GET /62702/55/51/94/23/00/1400728511.3407_M4s9VAtwuRGPoq_phPe8I/3gp.3gp HTTP/1.1\" 404 162 \\\n",
      "\"http://mx.plugger.com/mymedia/content/32491555\" \\\n",
      "\"Mozilla/5.0 (Linux; U; Android 4.1.2; es-sa; LG-E450f Build/JZO54K) AppleWebKit/534.30 (KHTML, like Gecko) Version/4.0 Mobile Safari/534.30\" \\\n",
      "-']\n",
      "\n",
      "log_formats=[ r'%h %l %u %t \\\"%r\\\" %>s %b \\\"%i\\\" \\\"%{User-Agent}i\\\" %{msisdn}b',\n",
      "    r'%h %l %u %t \\\"%r\\\" %>s %b \\\"%i\\\" \\\"%{User-Agent}i\\\" %{msisdn}b %{hexa}i \\\"%V\\\"',\n",
      "    r'%h %l, %u %t \\\"%r\\\" %>s %b \\\"%i\\\" \\\"%{User-Agent}i\\\" %{msisdn}b',\n",
      "    r'%h %l, %u %u %t \\\"%r\\\" %>s %b \\\"%i\\\" \\\"%{User-Agent}i\\\" %{msisdn}b %{hexa}i \\\"%V\\\"',\n",
      "#    r'ip1 ip2 ip3 ip4 user %t \\\"req\\\" retcode bytes \\\"ref\\\" \\\"UA\\\" msisdn',\n",
      "    r'%h %l, %l, %l %u %t \\\"%r\\\" %>s %b \\\"%i\\\" \\\"%{User-Agent}i\\\" %{msisdn}b',\n",
      "    r'%h %l, %u %u %t \\\"%r\\\" %>s %b \\\"%i\\\" \\\"%{User-Agent}i\\\" %{msisdn}b']\n",
      "\n",
      "log_parsers = []\n",
      "for f in log_formats:\n",
      "    log_parsers.append(apachelog.parser(f))\n",
      "\n",
      "status=False\n",
      "data=[]\n",
      "chk_parsers = (p for p in log_parsers if status is False)\n",
      "for ss in sample_strings:\n",
      "    for p in chk_parsers:\n",
      "        try:\n",
      "            data.append(p.parse(ss))\n",
      "            status=True\n",
      "            break\n",
      "        except ApacheLogParserError, e:\n",
      "    #        print e\n",
      "            pass\n",
      "\n",
      "if status:\n",
      "    print len(data),data\n",
      "else:\n",
      "    print 'Unable to parse this!'"
     ],
     "language": "python",
     "metadata": {},
     "outputs": [
      {
       "output_type": "stream",
       "stream": "stdout",
       "text": [
        "1 [{'%l': '189.254.162.19', '%>s': '200', '%i': 'http://mx.plugger.com/home/plugger', '%h': '189.254.162.19', '%{User-Agent}i': 'Mozilla/5.0 (Linux; U; Android 4.4.2; es-sa; LG-D320 Build/KOT49I.V10a) AppleWebKit/537.36 (KHTML, like Gecko) Version/4.0 Chrome/30.0.1599.103 Mobile Safari/537.36', '%b': '3040', '%{msisdn}b': '526142530854', '%u': '-', '%t': '[14/Feb/2015:21:38:28 -0500]', '%V': '-', '%{hexa}i': 'BDFEA213B8166CA395DE005054E006A2', '%r': 'GET /profile/14119369/inbox HTTP/1.1'}]\n"
       ]
      }
     ],
     "prompt_number": 185
    },
    {
     "cell_type": "markdown",
     "metadata": {},
     "source": [
      "Now let's parse each line while preparing the access time so that pandas will be able to handle it."
     ]
    },
    {
     "cell_type": "code",
     "collapsed": false,
     "input": [
      "log_list = []\n",
      "count=0\n",
      "missed=''\n",
      "\n",
      "with open(file_name) as f:\n",
      "    print 'reading:',file_name\n",
      "\n",
      "    for line in f.readlines():\n",
      "        status=False\n",
      "        chk_parsers = (p for p in log_parsers if status is False)\n",
      "        for p in chk_parsers:\n",
      "            try:\n",
      "                data=p.parse(line)\n",
      "                data['%t'] = data['%t'][1:12]+':'+data['%t'][13:21]+' '+data['%t'][22:27]\n",
      "                log_list.append(data)\n",
      "                status=True\n",
      "            except ApacheLogParserError:\n",
      "                pass\n",
      "\n",
      "#        if len(log_list) > 100:\n",
      "#            break\n",
      "            \n",
      "    if status is False:\n",
      "        count +=1\n",
      "        missed=line\n",
      "print 'read %d lines successfully.'%len(log_list)\n",
      "print 'missed %d lines: %s'%(count,missed)"
     ],
     "language": "python",
     "metadata": {
      "run_control": {
       "breakpoint": true
      }
     },
     "outputs": [
      {
       "output_type": "stream",
       "stream": "stdout",
       "text": [
        "reading: /Users/Nicolas/dev/data/alain/20150226.s.log\n",
        "read 1051635 lines successfully."
       ]
      },
      {
       "output_type": "stream",
       "stream": "stdout",
       "text": [
        "\n",
        "missed 0 lines: \n"
       ]
      }
     ],
     "prompt_number": 186
    },
    {
     "cell_type": "code",
     "collapsed": false,
     "input": [
      "df = DataFrame(log_list)\n",
      "df.head(2)"
     ],
     "language": "python",
     "metadata": {},
     "outputs": [
      {
       "html": [
        "<div style=\"max-height:1000px;max-width:1500px;overflow:auto;\">\n",
        "<table border=\"1\" class=\"dataframe\">\n",
        "  <thead>\n",
        "    <tr style=\"text-align: right;\">\n",
        "      <th></th>\n",
        "      <th>%&gt;s</th>\n",
        "      <th>%V</th>\n",
        "      <th>%b</th>\n",
        "      <th>%h</th>\n",
        "      <th>%i</th>\n",
        "      <th>%l</th>\n",
        "      <th>%l,</th>\n",
        "      <th>%r</th>\n",
        "      <th>%t</th>\n",
        "      <th>%u</th>\n",
        "      <th>%{User-Agent}i</th>\n",
        "      <th>%{hexa}i</th>\n",
        "      <th>%{msisdn}b</th>\n",
        "    </tr>\n",
        "  </thead>\n",
        "  <tbody>\n",
        "    <tr>\n",
        "      <th>0</th>\n",
        "      <td> 303</td>\n",
        "      <td> -</td>\n",
        "      <td> 551</td>\n",
        "      <td> 107.167.107.104</td>\n",
        "      <td> -</td>\n",
        "      <td> NaN</td>\n",
        "      <td> 200.95.170.203,</td>\n",
        "      <td>             GET / HTTP/1.1</td>\n",
        "      <td> 25/Feb/2015:22:20:17 -0500</td>\n",
        "      <td> -</td>\n",
        "      <td> Opera/9.80 (J2ME/MIDP; Opera Mini/8.0.35626/35...</td>\n",
        "      <td> 6BA76B68CA7A6CA395DE005054EE90F1</td>\n",
        "      <td> 526141692771</td>\n",
        "    </tr>\n",
        "    <tr>\n",
        "      <th>1</th>\n",
        "      <td> 303</td>\n",
        "      <td> -</td>\n",
        "      <td> 554</td>\n",
        "      <td> 107.167.107.104</td>\n",
        "      <td> -</td>\n",
        "      <td> NaN</td>\n",
        "      <td> 200.95.170.203,</td>\n",
        "      <td> GET /home/plugger HTTP/1.1</td>\n",
        "      <td> 25/Feb/2015:22:20:17 -0500</td>\n",
        "      <td> -</td>\n",
        "      <td> Opera/9.80 (J2ME/MIDP; Opera Mini/8.0.35626/35...</td>\n",
        "      <td> 6BA76B68CA896CA395DE005054EE90F1</td>\n",
        "      <td> 526141692771</td>\n",
        "    </tr>\n",
        "  </tbody>\n",
        "</table>\n",
        "</div>"
       ],
       "metadata": {},
       "output_type": "pyout",
       "prompt_number": 187,
       "text": [
        "   %>s  \\\n",
        "0  303   \n",
        "1  303   \n",
        "\n",
        "  %V  \\\n",
        "0  -   \n",
        "1  -   \n",
        "\n",
        "    %b  \\\n",
        "0  551   \n",
        "1  554   \n",
        "\n",
        "                %h  \\\n",
        "0  107.167.107.104   \n",
        "1  107.167.107.104   \n",
        "\n",
        "  %i  \\\n",
        "0  -   \n",
        "1  -   \n",
        "\n",
        "    %l  \\\n",
        "0  NaN   \n",
        "1  NaN   \n",
        "\n",
        "               %l,  \\\n",
        "0  200.95.170.203,   \n",
        "1  200.95.170.203,   \n",
        "\n",
        "                           %r  \\\n",
        "0              GET / HTTP/1.1   \n",
        "1  GET /home/plugger HTTP/1.1   \n",
        "\n",
        "                           %t  \\\n",
        "0  25/Feb/2015:22:20:17 -0500   \n",
        "1  25/Feb/2015:22:20:17 -0500   \n",
        "\n",
        "  %u  \\\n",
        "0  -   \n",
        "1  -   \n",
        "\n",
        "                                      %{User-Agent}i  \\\n",
        "0  Opera/9.80 (J2ME/MIDP; Opera Mini/8.0.35626/35...   \n",
        "1  Opera/9.80 (J2ME/MIDP; Opera Mini/8.0.35626/35...   \n",
        "\n",
        "                           %{hexa}i  \\\n",
        "0  6BA76B68CA7A6CA395DE005054EE90F1   \n",
        "1  6BA76B68CA896CA395DE005054EE90F1   \n",
        "\n",
        "     %{msisdn}b  \n",
        "0  526141692771  \n",
        "1  526141692771  "
       ]
      }
     ],
     "prompt_number": 187
    },
    {
     "cell_type": "code",
     "collapsed": false,
     "input": [
      "df.info()"
     ],
     "language": "python",
     "metadata": {},
     "outputs": [
      {
       "output_type": "stream",
       "stream": "stdout",
       "text": [
        "<class 'pandas.core.frame.DataFrame'>\n",
        "Int64Index: 1051635 entries, 0 to 1051634\n",
        "Data columns (total 13 columns):\n",
        "%>s               1051635 non-null object\n",
        "%V                919487 non-null object\n",
        "%b                1051635 non-null object\n",
        "%h                1051635 non-null object\n",
        "%i                1051635 non-null object\n",
        "%l                1051315 non-null object\n",
        "%l,               320 non-null object\n",
        "%r                1051635 non-null object\n",
        "%t                1051635 non-null object\n",
        "%u                1051635 non-null object\n",
        "%{User-Agent}i    1051635 non-null object\n",
        "%{hexa}i          919487 non-null object\n",
        "%{msisdn}b        1051635 non-null object\n",
        "dtypes: object(13)\n",
        "memory usage: 112.3+ MB\n"
       ]
      }
     ],
     "prompt_number": 188
    },
    {
     "cell_type": "code",
     "collapsed": false,
     "input": [
      "df['%{msisdn}b'] = df['%{msisdn}b'].apply(xx_msisdn)"
     ],
     "language": "python",
     "metadata": {},
     "outputs": [],
     "prompt_number": 189
    },
    {
     "cell_type": "code",
     "collapsed": false,
     "input": [
      "df['%{msisdn}b'].head()"
     ],
     "language": "python",
     "metadata": {},
     "outputs": [
      {
       "metadata": {},
       "output_type": "pyout",
       "prompt_number": 190,
       "text": [
        "0    7caa5f8c1743\n",
        "1    7caa5f8c1743\n",
        "2    7caa5f8c1743\n",
        "3    7caa5f8c1743\n",
        "4    9bbbea8f5754\n",
        "Name: %{msisdn}b, dtype: object"
       ]
      }
     ],
     "prompt_number": 190
    },
    {
     "cell_type": "code",
     "collapsed": false,
     "input": [
      "cols=['%h','%l','%u']\n",
      "for c in cols:\n",
      "    try:\n",
      "        df[c] = df[c].apply(xx_ip)#lambda x: xx_ip(x,hexa=True))\n",
      "    except:\n",
      "        print 'pb with col (%s)'%c"
     ],
     "language": "python",
     "metadata": {},
     "outputs": [],
     "prompt_number": 191
    },
    {
     "cell_type": "code",
     "collapsed": false,
     "input": [
      "with open(file_name+'.a','w') as f:\n",
      "    for r in arange(0,len(df)):\n",
      "        line=''\n",
      "        for c in allcols:\n",
      "            s=df.loc[r][c]\n",
      "            if c=='%t':\n",
      "                s='[%s]'%s\n",
      "            elif c=='%{User-Agent}i' or c=='%i' or c=='%r':\n",
      "                s = '\\\"%s\\\"'%s\n",
      "            line += s+' '\n",
      "        f.write(line+'\\n')"
     ],
     "language": "python",
     "metadata": {},
     "outputs": [],
     "prompt_number": 192
    },
    {
     "cell_type": "code",
     "collapsed": false,
     "input": [
      "!head -n 3 {file_name+'.a'}"
     ],
     "language": "python",
     "metadata": {},
     "outputs": [
      {
       "output_type": "stream",
       "stream": "stdout",
       "text": [
        "213.221.8.195 - - [25/Feb/2015:22:20:17 -0500] \"GET / HTTP/1.1\" 303 551 \"-\" \"Opera/9.80 (J2ME/MIDP; Opera Mini/8.0.35626/35.7598; U; es) Presto/2.8.119 Version/11.10\" 7caa5f8c1743 \r\n",
        "213.221.8.195 - - [25/Feb/2015:22:20:17 -0500] \"GET /home/plugger HTTP/1.1\" 303 554 \"-\" \"Opera/9.80 (J2ME/MIDP; Opera Mini/8.0.35626/35.7598; U; es) Presto/2.8.119 Version/11.10\" 7caa5f8c1743 \r\n",
        "213.221.8.195 - - [25/Feb/2015:22:20:18 -0500] \"GET /home/plugger?w= HTTP/1.1\" 200 3682 \"-\" \"Opera/9.80 (J2ME/MIDP; Opera Mini/8.0.35626/35.7598; U; es) Presto/2.8.119 Version/11.10\" 7caa5f8c1743 \r\n"
       ]
      }
     ],
     "prompt_number": 193
    },
    {
     "cell_type": "code",
     "collapsed": false,
     "input": [
      "df.info()"
     ],
     "language": "python",
     "metadata": {},
     "outputs": [
      {
       "output_type": "stream",
       "stream": "stdout",
       "text": [
        "<class 'pandas.core.frame.DataFrame'>\n",
        "Int64Index: 1051635 entries, 0 to 1051634\n",
        "Data columns (total 13 columns):\n",
        "%>s               1051635 non-null object\n",
        "%V                919487 non-null object\n",
        "%b                1051635 non-null object\n",
        "%h                1051635 non-null object\n",
        "%i                1051635 non-null object\n",
        "%l                1051635 non-null object\n",
        "%l,               320 non-null object\n",
        "%r                1051635 non-null object\n",
        "%t                1051635 non-null object\n",
        "%u                1051635 non-null object\n",
        "%{User-Agent}i    1051635 non-null object\n",
        "%{hexa}i          919487 non-null object\n",
        "%{msisdn}b        1051635 non-null object\n",
        "dtypes: object(13)\n",
        "memory usage: 112.3+ MB\n"
       ]
      }
     ],
     "prompt_number": 194
    },
    {
     "cell_type": "heading",
     "level": 2,
     "metadata": {},
     "source": [
      "We're done!"
     ]
    },
    {
     "cell_type": "code",
     "collapsed": false,
     "input": [],
     "language": "python",
     "metadata": {},
     "outputs": []
    }
   ],
   "metadata": {}
  }
 ]
}