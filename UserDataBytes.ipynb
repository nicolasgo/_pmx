{
 "metadata": {
  "name": "",
  "signature": "sha256:1340911c7c73778761a873ae8f24d91a17d96b8a2926780a064c44b97b141838"
 },
 "nbformat": 3,
 "nbformat_minor": 0,
 "worksheets": [
  {
   "cells": [
    {
     "cell_type": "code",
     "collapsed": false,
     "input": [
      "file_name=_rootdir+'data/526142530854.data'"
     ],
     "language": "python",
     "metadata": {},
     "outputs": [],
     "prompt_number": 0
    },
    {
     "cell_type": "code",
     "collapsed": false,
     "input": [
      "file_name=_rootdir+'data/526142530854.pv'"
     ],
     "language": "python",
     "metadata": {},
     "outputs": [],
     "prompt_number": 11
    },
    {
     "cell_type": "code",
     "collapsed": false,
     "input": [
      "old_df=df=pd.read_csv(file_name)#,#header=True,# index_col='msisdn',#parse_dates=True, \n",
      "#    names=[\"data\"])\n",
      "df=df.dropna()"
     ],
     "language": "python",
     "metadata": {},
     "outputs": [],
     "prompt_number": 12
    },
    {
     "cell_type": "code",
     "collapsed": false,
     "input": [
      "df.describe()"
     ],
     "language": "python",
     "metadata": {},
     "outputs": [
      {
       "html": [
        "<div style=\"max-height:1000px;max-width:1500px;overflow:auto;\">\n",
        "<table border=\"1\" class=\"dataframe\">\n",
        "  <thead>\n",
        "    <tr style=\"text-align: right;\">\n",
        "      <th></th>\n",
        "      <th>189.254.162.19 189.254.162.19 - [14/Feb/2015:21:38:25 -0500] \"GET /home/plugger HTTP/1.1\" 200 4014 \"-\" \"Mozilla/5.0 (Linux; U; Android 4.4.2; es-sa; LG-D320 Build/KOT49I.V10a) AppleWebKit/537.36 (KHTML</th>\n",
        "      <th> like Gecko) Version/4.0 Chrome/30.0.1599.103 Mobile Safari/537.36\" 526142530854 BDFEA213B8156CA395DE005054E006A1 \"-\"</th>\n",
        "    </tr>\n",
        "  </thead>\n",
        "  <tbody>\n",
        "    <tr>\n",
        "      <th>count</th>\n",
        "      <td>                                              6770</td>\n",
        "      <td>                                              6770</td>\n",
        "    </tr>\n",
        "    <tr>\n",
        "      <th>unique</th>\n",
        "      <td>                                              6770</td>\n",
        "      <td>                                              6038</td>\n",
        "    </tr>\n",
        "    <tr>\n",
        "      <th>top</th>\n",
        "      <td> 201.144.162.20 201.144.162.20 - [14/Feb/2015:1...</td>\n",
        "      <td>  like Gecko) Chrome/35.0.1916.141 Mobile Safar...</td>\n",
        "    </tr>\n",
        "    <tr>\n",
        "      <th>freq</th>\n",
        "      <td>                                                 1</td>\n",
        "      <td>                                                 3</td>\n",
        "    </tr>\n",
        "  </tbody>\n",
        "</table>\n",
        "</div>"
       ],
       "metadata": {},
       "output_type": "pyout",
       "prompt_number": 13,
       "text": [
        "       189.254.162.19 189.254.162.19 - [14/Feb/2015:21:38:25 -0500] \"GET /home/plugger HTTP/1.1\" 200 4014 \"-\" \"Mozilla/5.0 (Linux; U; Android 4.4.2; es-sa; LG-D320 Build/KOT49I.V10a) AppleWebKit/537.36 (KHTML  \\\n",
        "count                                                6770                                                                                                                                                          \n",
        "unique                                               6770                                                                                                                                                          \n",
        "top     201.144.162.20 201.144.162.20 - [14/Feb/2015:1...                                                                                                                                                          \n",
        "freq                                                    1                                                                                                                                                          \n",
        "\n",
        "        like Gecko) Version/4.0 Chrome/30.0.1599.103 Mobile Safari/537.36\" 526142530854 BDFEA213B8156CA395DE005054E006A1 \"-\"  \n",
        "count                                                6770                                                                     \n",
        "unique                                               6038                                                                     \n",
        "top      like Gecko) Chrome/35.0.1916.141 Mobile Safar...                                                                     \n",
        "freq                                                    3                                                                     "
       ]
      }
     ],
     "prompt_number": 13
    },
    {
     "cell_type": "code",
     "collapsed": false,
     "input": [
      "df.sum()/1024/1024"
     ],
     "language": "python",
     "metadata": {},
     "outputs": [
      {
       "metadata": {},
       "output_type": "pyout",
       "prompt_number": 8,
       "text": [
        "data    14.901198\n",
        "dtype: float64"
       ]
      }
     ],
     "prompt_number": 8
    },
    {
     "cell_type": "code",
     "collapsed": false,
     "input": [],
     "language": "python",
     "metadata": {},
     "outputs": []
    }
   ],
   "metadata": {}
  }
 ]
}