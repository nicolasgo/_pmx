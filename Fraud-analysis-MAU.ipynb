{
 "metadata": {
  "name": "",
  "signature": "sha256:9fa967b49472c8707462f3c32f2f3e4dbb34b5d758f8ab3d17a0d57d77b9e8cb"
 },
 "nbformat": 3,
 "nbformat_minor": 0,
 "worksheets": [
  {
   "cells": [
    {
     "cell_type": "markdown",
     "metadata": {},
     "source": [
      "#MAU analysis\n",
      "- Look at the most heavy users in a month according to the number of page views\n",
      "- generate a top1000\n",
      "- use that top1000 to measure the BW needed"
     ]
    },
    {
     "cell_type": "markdown",
     "metadata": {},
     "source": [
      "##Preparation\n",
      "<code>\n",
      "cat 201501.p.pv | awk -F',' '{print $1 \",\" $2 \",\" $3 \",\" $5}' > 201501.2.pv\n"
     ]
    },
    {
     "cell_type": "code",
     "collapsed": false,
     "input": [
      "%%bash\n",
      "# The next bash command generates an input file\n",
      "# It takes a couple minutes to run and is only needed once. \n",
      "# Uncomment to run it\n",
      "#cd ~/dev/data/pv; cat 201501.p.pv | awk -F',' '{print $1 \",\" $2 \",\" $3 \",\" $5}' > 201501.2.pv"
     ],
     "language": "python",
     "metadata": {},
     "outputs": [],
     "prompt_number": 10
    },
    {
     "cell_type": "code",
     "collapsed": false,
     "input": [
      "import sys\n",
      "import csv\n",
      "import time\n",
      "import StringIO\n",
      "import pandas as pd\n",
      "import numpy as np\n",
      "import matplotlib.pyplot as plt\n",
      "\n",
      "%matplotlib inline\n",
      "\n",
      "sns.set_palette(\"deep\", desat=.6)\n",
      "sns.set_context(rc={\"figure.figsize\": (8, 4)})"
     ],
     "language": "python",
     "metadata": {
      "run_control": {
       "breakpoint": false
      }
     },
     "outputs": [],
     "prompt_number": 12
    },
    {
     "cell_type": "code",
     "collapsed": false,
     "input": [
      "file_name=_rootdir+'data/pv/201501.2.pv'\n",
      "!head -n 3 {file_name}\n",
      "!wc {file_name}"
     ],
     "language": "python",
     "metadata": {},
     "outputs": [
      {
       "output_type": "stream",
       "stream": "stdout",
       "text": [
        "msisdn,time,duration,pv\r\n",
        "11,2014-12-31 06:13:00,91180,964\r\n",
        "11,2015-01-01 05:46:31,77809,1014\r\n"
       ]
      },
      {
       "output_type": "stream",
       "stream": "stdout",
       "text": [
        " 19748830 39497659 804317570 /Users/Nicolas/dev/data/pv/201501.2.pv\r\n"
       ]
      }
     ],
     "prompt_number": 13
    },
    {
     "cell_type": "code",
     "collapsed": false,
     "input": [
      "#pd.read_csv()"
     ],
     "language": "python",
     "metadata": {
      "run_control": {
       "breakpoint": false
      }
     },
     "outputs": [],
     "prompt_number": 14
    },
    {
     "cell_type": "code",
     "collapsed": false,
     "input": [
      "# msisdn,time,duration,ip,pv,variety,landpage,device,inbox,mymed,conve,activ,home,frien,info,media,uploa,avata,publi,help,ua\n",
      "old_df=df=pd.read_csv(file_name,sep=',',usecols=['msisdn','time','duration','pv'])#,nrows=3008830 )#,#header=True,# index_col='msisdn',#parse_dates=True, ,engine='python'\n",
      "\n",
      "df=df.dropna()\n",
      "df['time']=pd.to_datetime(df['time'])\n",
      "df.set_index(['msisdn'],inplace=True)"
     ],
     "language": "python",
     "metadata": {},
     "outputs": [],
     "prompt_number": 15
    },
    {
     "cell_type": "code",
     "collapsed": false,
     "input": [
      "df.tail()"
     ],
     "language": "python",
     "metadata": {},
     "outputs": [
      {
       "html": [
        "<div style=\"max-height:1000px;max-width:1500px;overflow:auto;\">\n",
        "<table border=\"1\" class=\"dataframe\">\n",
        "  <thead>\n",
        "    <tr style=\"text-align: right;\">\n",
        "      <th></th>\n",
        "      <th>time</th>\n",
        "      <th>duration</th>\n",
        "      <th>pv</th>\n",
        "    </tr>\n",
        "    <tr>\n",
        "      <th>msisdn</th>\n",
        "      <th></th>\n",
        "      <th></th>\n",
        "      <th></th>\n",
        "    </tr>\n",
        "  </thead>\n",
        "  <tbody>\n",
        "    <tr>\n",
        "      <th>88           </th>\n",
        "      <td>2015-01-30 00:20:02</td>\n",
        "      <td> 18299</td>\n",
        "      <td>  183327</td>\n",
        "    </tr>\n",
        "    <tr>\n",
        "      <th>88           </th>\n",
        "      <td>2015-01-30 05:25:02</td>\n",
        "      <td> 85306</td>\n",
        "      <td> 3335782</td>\n",
        "    </tr>\n",
        "    <tr>\n",
        "      <th>88           </th>\n",
        "      <td>2015-01-31 00:01:36</td>\n",
        "      <td> 19405</td>\n",
        "      <td>  468457</td>\n",
        "    </tr>\n",
        "    <tr>\n",
        "      <th>8801849618860</th>\n",
        "      <td>2015-01-18 09:19:52</td>\n",
        "      <td>    10</td>\n",
        "      <td>       1</td>\n",
        "    </tr>\n",
        "    <tr>\n",
        "      <th>8801943939282</th>\n",
        "      <td>2015-01-26 22:27:53</td>\n",
        "      <td>   521</td>\n",
        "      <td>       7</td>\n",
        "    </tr>\n",
        "  </tbody>\n",
        "</table>\n",
        "</div>"
       ],
       "metadata": {},
       "output_type": "pyout",
       "prompt_number": 16,
       "text": [
        "                             time  \\\n",
        "msisdn                              \n",
        "88            2015-01-30 00:20:02   \n",
        "88            2015-01-30 05:25:02   \n",
        "88            2015-01-31 00:01:36   \n",
        "8801849618860 2015-01-18 09:19:52   \n",
        "8801943939282 2015-01-26 22:27:53   \n",
        "\n",
        "               duration  \\\n",
        "msisdn                    \n",
        "88                18299   \n",
        "88                85306   \n",
        "88                19405   \n",
        "8801849618860        10   \n",
        "8801943939282       521   \n",
        "\n",
        "                    pv  \n",
        "msisdn                  \n",
        "88              183327  \n",
        "88             3335782  \n",
        "88              468457  \n",
        "8801849618860        1  \n",
        "8801943939282        7  "
       ]
      }
     ],
     "prompt_number": 16
    },
    {
     "cell_type": "code",
     "collapsed": false,
     "input": [
      "df.describe()"
     ],
     "language": "python",
     "metadata": {},
     "outputs": [
      {
       "html": [
        "<div style=\"max-height:1000px;max-width:1500px;overflow:auto;\">\n",
        "<table border=\"1\" class=\"dataframe\">\n",
        "  <thead>\n",
        "    <tr style=\"text-align: right;\">\n",
        "      <th></th>\n",
        "      <th>duration</th>\n",
        "      <th>pv</th>\n",
        "    </tr>\n",
        "  </thead>\n",
        "  <tbody>\n",
        "    <tr>\n",
        "      <th>count</th>\n",
        "      <td> 19748829.000000</td>\n",
        "      <td> 19748829.000000</td>\n",
        "    </tr>\n",
        "    <tr>\n",
        "      <th>mean</th>\n",
        "      <td>     7670.066255</td>\n",
        "      <td>      149.714851</td>\n",
        "    </tr>\n",
        "    <tr>\n",
        "      <th>std</th>\n",
        "      <td>    12536.347731</td>\n",
        "      <td>     4035.345561</td>\n",
        "    </tr>\n",
        "    <tr>\n",
        "      <th>min</th>\n",
        "      <td>        0.000000</td>\n",
        "      <td>        1.000000</td>\n",
        "    </tr>\n",
        "    <tr>\n",
        "      <th>25%</th>\n",
        "      <td>      274.000000</td>\n",
        "      <td>        7.000000</td>\n",
        "    </tr>\n",
        "    <tr>\n",
        "      <th>50%</th>\n",
        "      <td>     2065.000000</td>\n",
        "      <td>       36.000000</td>\n",
        "    </tr>\n",
        "    <tr>\n",
        "      <th>75%</th>\n",
        "      <td>     9170.000000</td>\n",
        "      <td>      150.000000</td>\n",
        "    </tr>\n",
        "    <tr>\n",
        "      <th>max</th>\n",
        "      <td>   165113.000000</td>\n",
        "      <td>  3538672.000000</td>\n",
        "    </tr>\n",
        "  </tbody>\n",
        "</table>\n",
        "</div>"
       ],
       "metadata": {},
       "output_type": "pyout",
       "prompt_number": 17,
       "text": [
        "              duration  \\\n",
        "count  19748829.000000   \n",
        "mean       7670.066255   \n",
        "std       12536.347731   \n",
        "min           0.000000   \n",
        "25%         274.000000   \n",
        "50%        2065.000000   \n",
        "75%        9170.000000   \n",
        "max      165113.000000   \n",
        "\n",
        "                    pv  \n",
        "count  19748829.000000  \n",
        "mean        149.714851  \n",
        "std        4035.345561  \n",
        "min           1.000000  \n",
        "25%           7.000000  \n",
        "50%          36.000000  \n",
        "75%         150.000000  \n",
        "max     3538672.000000  "
       ]
      }
     ],
     "prompt_number": 17
    },
    {
     "cell_type": "code",
     "collapsed": false,
     "input": [
      "df.info()"
     ],
     "language": "python",
     "metadata": {
      "run_control": {
       "breakpoint": false
      }
     },
     "outputs": [
      {
       "output_type": "stream",
       "stream": "stdout",
       "text": [
        "<class 'pandas.core.frame.DataFrame'>\n",
        "Int64Index: 19748829 entries, 11 to 8801943939282\n",
        "Data columns (total 3 columns):\n",
        "time        datetime64[ns]\n",
        "duration    int64\n",
        "pv          int64\n",
        "dtypes: datetime64[ns](1), int64(2)\n",
        "memory usage: 602.7 MB\n"
       ]
      }
     ],
     "prompt_number": 18
    },
    {
     "cell_type": "markdown",
     "metadata": {},
     "source": [
      "## We randomly select a few users to speed things up.\n",
      "Can be skipped"
     ]
    },
    {
     "cell_type": "code",
     "collapsed": false,
     "input": [
      "#random selection\n",
      "#ddf=df[[((msisdn%17>7) and str(msisdn)[:2]=='52') for msisdn in df.index]]\n",
      "ddf=df[[((msisdn%17>12) and str(msisdn)[:2]=='52') for msisdn in df.index]]\n",
      "\n",
      "ddf.info()"
     ],
     "language": "python",
     "metadata": {
      "run_control": {
       "breakpoint": false
      }
     },
     "outputs": [
      {
       "output_type": "stream",
       "stream": "stdout",
       "text": [
        "<class 'pandas.core.frame.DataFrame'>\n",
        "Int64Index: 4661162 entries, 521111000367 to 529999989965\n",
        "Data columns (total 3 columns):\n",
        "time        datetime64[ns]\n",
        "duration    int64\n",
        "pv          int64\n",
        "dtypes: datetime64[ns](1), int64(2)\n",
        "memory usage: 142.2 MB\n"
       ]
      }
     ],
     "prompt_number": 21
    },
    {
     "cell_type": "code",
     "collapsed": false,
     "input": [
      "ddf.tail()"
     ],
     "language": "python",
     "metadata": {
      "run_control": {
       "breakpoint": false
      }
     },
     "outputs": [
      {
       "html": [
        "<div style=\"max-height:1000px;max-width:1500px;overflow:auto;\">\n",
        "<table border=\"1\" class=\"dataframe\">\n",
        "  <thead>\n",
        "    <tr style=\"text-align: right;\">\n",
        "      <th></th>\n",
        "      <th>time</th>\n",
        "      <th>duration</th>\n",
        "      <th>pv</th>\n",
        "    </tr>\n",
        "    <tr>\n",
        "      <th>msisdn</th>\n",
        "      <th></th>\n",
        "      <th></th>\n",
        "      <th></th>\n",
        "    </tr>\n",
        "  </thead>\n",
        "  <tbody>\n",
        "    <tr>\n",
        "      <th>529999989965</th>\n",
        "      <td>2015-01-03 16:12:00</td>\n",
        "      <td> 166</td>\n",
        "      <td> 12</td>\n",
        "    </tr>\n",
        "    <tr>\n",
        "      <th>529999989965</th>\n",
        "      <td>2015-01-04 23:31:54</td>\n",
        "      <td> 943</td>\n",
        "      <td> 51</td>\n",
        "    </tr>\n",
        "    <tr>\n",
        "      <th>529999989965</th>\n",
        "      <td>2015-01-05 21:21:47</td>\n",
        "      <td> 914</td>\n",
        "      <td> 56</td>\n",
        "    </tr>\n",
        "    <tr>\n",
        "      <th>529999989965</th>\n",
        "      <td>2015-01-06 17:57:37</td>\n",
        "      <td>  54</td>\n",
        "      <td>  2</td>\n",
        "    </tr>\n",
        "    <tr>\n",
        "      <th>529999989965</th>\n",
        "      <td>2015-01-07 13:12:53</td>\n",
        "      <td> 627</td>\n",
        "      <td> 30</td>\n",
        "    </tr>\n",
        "  </tbody>\n",
        "</table>\n",
        "</div>"
       ],
       "metadata": {},
       "output_type": "pyout",
       "prompt_number": 22,
       "text": [
        "                            time  \\\n",
        "msisdn                             \n",
        "529999989965 2015-01-03 16:12:00   \n",
        "529999989965 2015-01-04 23:31:54   \n",
        "529999989965 2015-01-05 21:21:47   \n",
        "529999989965 2015-01-06 17:57:37   \n",
        "529999989965 2015-01-07 13:12:53   \n",
        "\n",
        "              duration  \\\n",
        "msisdn                   \n",
        "529999989965       166   \n",
        "529999989965       943   \n",
        "529999989965       914   \n",
        "529999989965        54   \n",
        "529999989965       627   \n",
        "\n",
        "              pv  \n",
        "msisdn            \n",
        "529999989965  12  \n",
        "529999989965  51  \n",
        "529999989965  56  \n",
        "529999989965   2  \n",
        "529999989965  30  "
       ]
      }
     ],
     "prompt_number": 22
    },
    {
     "cell_type": "code",
     "collapsed": false,
     "input": [
      "ddf.loc[ 529999989965 ]"
     ],
     "language": "python",
     "metadata": {
      "run_control": {
       "breakpoint": false
      }
     },
     "outputs": [
      {
       "html": [
        "<div style=\"max-height:1000px;max-width:1500px;overflow:auto;\">\n",
        "<table border=\"1\" class=\"dataframe\">\n",
        "  <thead>\n",
        "    <tr style=\"text-align: right;\">\n",
        "      <th></th>\n",
        "      <th>time</th>\n",
        "      <th>duration</th>\n",
        "      <th>pv</th>\n",
        "    </tr>\n",
        "    <tr>\n",
        "      <th>msisdn</th>\n",
        "      <th></th>\n",
        "      <th></th>\n",
        "      <th></th>\n",
        "    </tr>\n",
        "  </thead>\n",
        "  <tbody>\n",
        "    <tr>\n",
        "      <th>529999989965</th>\n",
        "      <td>2014-12-31 21:45:41</td>\n",
        "      <td> 6763</td>\n",
        "      <td> 310</td>\n",
        "    </tr>\n",
        "    <tr>\n",
        "      <th>529999989965</th>\n",
        "      <td>2015-01-01 13:26:24</td>\n",
        "      <td> 3636</td>\n",
        "      <td> 225</td>\n",
        "    </tr>\n",
        "    <tr>\n",
        "      <th>529999989965</th>\n",
        "      <td>2015-01-02 10:24:38</td>\n",
        "      <td> 1255</td>\n",
        "      <td>  84</td>\n",
        "    </tr>\n",
        "    <tr>\n",
        "      <th>529999989965</th>\n",
        "      <td>2015-01-03 16:12:00</td>\n",
        "      <td>  166</td>\n",
        "      <td>  12</td>\n",
        "    </tr>\n",
        "    <tr>\n",
        "      <th>529999989965</th>\n",
        "      <td>2015-01-04 23:31:54</td>\n",
        "      <td>  943</td>\n",
        "      <td>  51</td>\n",
        "    </tr>\n",
        "    <tr>\n",
        "      <th>529999989965</th>\n",
        "      <td>2015-01-05 21:21:47</td>\n",
        "      <td>  914</td>\n",
        "      <td>  56</td>\n",
        "    </tr>\n",
        "    <tr>\n",
        "      <th>529999989965</th>\n",
        "      <td>2015-01-06 17:57:37</td>\n",
        "      <td>   54</td>\n",
        "      <td>   2</td>\n",
        "    </tr>\n",
        "    <tr>\n",
        "      <th>529999989965</th>\n",
        "      <td>2015-01-07 13:12:53</td>\n",
        "      <td>  627</td>\n",
        "      <td>  30</td>\n",
        "    </tr>\n",
        "  </tbody>\n",
        "</table>\n",
        "</div>"
       ],
       "metadata": {},
       "output_type": "pyout",
       "prompt_number": 24,
       "text": [
        "                            time  \\\n",
        "msisdn                             \n",
        "529999989965 2014-12-31 21:45:41   \n",
        "529999989965 2015-01-01 13:26:24   \n",
        "529999989965 2015-01-02 10:24:38   \n",
        "529999989965 2015-01-03 16:12:00   \n",
        "529999989965 2015-01-04 23:31:54   \n",
        "529999989965 2015-01-05 21:21:47   \n",
        "529999989965 2015-01-06 17:57:37   \n",
        "529999989965 2015-01-07 13:12:53   \n",
        "\n",
        "              duration  \\\n",
        "msisdn                   \n",
        "529999989965      6763   \n",
        "529999989965      3636   \n",
        "529999989965      1255   \n",
        "529999989965       166   \n",
        "529999989965       943   \n",
        "529999989965       914   \n",
        "529999989965        54   \n",
        "529999989965       627   \n",
        "\n",
        "               pv  \n",
        "msisdn             \n",
        "529999989965  310  \n",
        "529999989965  225  \n",
        "529999989965   84  \n",
        "529999989965   12  \n",
        "529999989965   51  \n",
        "529999989965   56  \n",
        "529999989965    2  \n",
        "529999989965   30  "
       ]
      }
     ],
     "prompt_number": 24
    },
    {
     "cell_type": "markdown",
     "metadata": {},
     "source": [
      "##Group by user"
     ]
    },
    {
     "cell_type": "code",
     "collapsed": false,
     "input": [
      "grouped=ddf.groupby(level=0)"
     ],
     "language": "python",
     "metadata": {
      "run_control": {
       "breakpoint": false
      }
     },
     "outputs": [],
     "prompt_number": 25
    },
    {
     "cell_type": "code",
     "collapsed": false,
     "input": [
      "stats_per_msisdn=grouped.sum().drop('duration',1)"
     ],
     "language": "python",
     "metadata": {
      "run_control": {
       "breakpoint": false
      }
     },
     "outputs": [],
     "prompt_number": 26
    },
    {
     "cell_type": "code",
     "collapsed": false,
     "input": [
      "stats_per_msisdn.sort('pv',ascending=False).head(10)"
     ],
     "language": "python",
     "metadata": {
      "run_control": {
       "breakpoint": false
      }
     },
     "outputs": [
      {
       "html": [
        "<div style=\"max-height:1000px;max-width:1500px;overflow:auto;\">\n",
        "<table border=\"1\" class=\"dataframe\">\n",
        "  <thead>\n",
        "    <tr style=\"text-align: right;\">\n",
        "      <th></th>\n",
        "      <th>pv</th>\n",
        "    </tr>\n",
        "    <tr>\n",
        "      <th>msisdn</th>\n",
        "      <th></th>\n",
        "    </tr>\n",
        "  </thead>\n",
        "  <tbody>\n",
        "    <tr>\n",
        "      <th>526961027447</th>\n",
        "      <td> 221178</td>\n",
        "    </tr>\n",
        "    <tr>\n",
        "      <th>529212396640</th>\n",
        "      <td> 180060</td>\n",
        "    </tr>\n",
        "    <tr>\n",
        "      <th>528116844579</th>\n",
        "      <td> 116115</td>\n",
        "    </tr>\n",
        "    <tr>\n",
        "      <th>526181246287</th>\n",
        "      <td> 114167</td>\n",
        "    </tr>\n",
        "    <tr>\n",
        "      <th>528681698255</th>\n",
        "      <td> 105685</td>\n",
        "    </tr>\n",
        "    <tr>\n",
        "      <th>526181719940</th>\n",
        "      <td>  99187</td>\n",
        "    </tr>\n",
        "    <tr>\n",
        "      <th>524192650494</th>\n",
        "      <td>  97504</td>\n",
        "    </tr>\n",
        "    <tr>\n",
        "      <th>526621018352</th>\n",
        "      <td>  96195</td>\n",
        "    </tr>\n",
        "    <tr>\n",
        "      <th>526521017501</th>\n",
        "      <td>  94772</td>\n",
        "    </tr>\n",
        "    <tr>\n",
        "      <th>526561815374</th>\n",
        "      <td>  92787</td>\n",
        "    </tr>\n",
        "  </tbody>\n",
        "</table>\n",
        "</div>"
       ],
       "metadata": {},
       "output_type": "pyout",
       "prompt_number": 31,
       "text": [
        "                  pv\n",
        "msisdn              \n",
        "526961027447  221178\n",
        "529212396640  180060\n",
        "528116844579  116115\n",
        "526181246287  114167\n",
        "528681698255  105685\n",
        "526181719940   99187\n",
        "524192650494   97504\n",
        "526621018352   96195\n",
        "526521017501   94772\n",
        "526561815374   92787"
       ]
      }
     ],
     "prompt_number": 31
    },
    {
     "cell_type": "code",
     "collapsed": false,
     "input": [
      "stats_per_msisdn.describe()"
     ],
     "language": "python",
     "metadata": {
      "run_control": {
       "breakpoint": false
      }
     },
     "outputs": [
      {
       "html": [
        "<div style=\"max-height:1000px;max-width:1500px;overflow:auto;\">\n",
        "<table border=\"1\" class=\"dataframe\">\n",
        "  <thead>\n",
        "    <tr style=\"text-align: right;\">\n",
        "      <th></th>\n",
        "      <th>pv</th>\n",
        "    </tr>\n",
        "  </thead>\n",
        "  <tbody>\n",
        "    <tr>\n",
        "      <th>count</th>\n",
        "      <td> 546544.000000</td>\n",
        "    </tr>\n",
        "    <tr>\n",
        "      <th>mean</th>\n",
        "      <td>   1234.690025</td>\n",
        "    </tr>\n",
        "    <tr>\n",
        "      <th>std</th>\n",
        "      <td>   4008.520907</td>\n",
        "    </tr>\n",
        "    <tr>\n",
        "      <th>min</th>\n",
        "      <td>      1.000000</td>\n",
        "    </tr>\n",
        "    <tr>\n",
        "      <th>25%</th>\n",
        "      <td>      2.000000</td>\n",
        "    </tr>\n",
        "    <tr>\n",
        "      <th>50%</th>\n",
        "      <td>     23.000000</td>\n",
        "    </tr>\n",
        "    <tr>\n",
        "      <th>75%</th>\n",
        "      <td>    446.000000</td>\n",
        "    </tr>\n",
        "    <tr>\n",
        "      <th>max</th>\n",
        "      <td> 221178.000000</td>\n",
        "    </tr>\n",
        "  </tbody>\n",
        "</table>\n",
        "</div>"
       ],
       "metadata": {},
       "output_type": "pyout",
       "prompt_number": 32,
       "text": [
        "                  pv\n",
        "count  546544.000000\n",
        "mean     1234.690025\n",
        "std      4008.520907\n",
        "min         1.000000\n",
        "25%         2.000000\n",
        "50%        23.000000\n",
        "75%       446.000000\n",
        "max    221178.000000"
       ]
      }
     ],
     "prompt_number": 32
    },
    {
     "cell_type": "markdown",
     "metadata": {},
     "source": [
      "###Here is the top1000 based on the number of page views\n",
      "We will use that list to process the logs of January to get the bandwidth each of them consumed"
     ]
    },
    {
     "cell_type": "code",
     "collapsed": false,
     "input": [
      "top1000=stats_per_msisdn.sort(['pv'],ascending=False).head(1000)\n",
      "top1000.head(10).T"
     ],
     "language": "python",
     "metadata": {
      "run_control": {
       "breakpoint": false
      }
     },
     "outputs": [
      {
       "html": [
        "<div style=\"max-height:1000px;max-width:1500px;overflow:auto;\">\n",
        "<table border=\"1\" class=\"dataframe\">\n",
        "  <thead>\n",
        "    <tr style=\"text-align: right;\">\n",
        "      <th>msisdn</th>\n",
        "      <th>526961027447</th>\n",
        "      <th>529212396640</th>\n",
        "      <th>528116844579</th>\n",
        "      <th>526181246287</th>\n",
        "      <th>528681698255</th>\n",
        "      <th>526181719940</th>\n",
        "      <th>524192650494</th>\n",
        "      <th>526621018352</th>\n",
        "      <th>526521017501</th>\n",
        "      <th>526561815374</th>\n",
        "    </tr>\n",
        "  </thead>\n",
        "  <tbody>\n",
        "    <tr>\n",
        "      <th>pv</th>\n",
        "      <td> 221178</td>\n",
        "      <td> 180060</td>\n",
        "      <td> 116115</td>\n",
        "      <td> 114167</td>\n",
        "      <td> 105685</td>\n",
        "      <td> 99187</td>\n",
        "      <td> 97504</td>\n",
        "      <td> 96195</td>\n",
        "      <td> 94772</td>\n",
        "      <td> 92787</td>\n",
        "    </tr>\n",
        "  </tbody>\n",
        "</table>\n",
        "</div>"
       ],
       "metadata": {},
       "output_type": "pyout",
       "prompt_number": 53,
       "text": [
        "msisdn  526961027447  \\\n",
        "pv            221178   \n",
        "\n",
        "msisdn  529212396640  \\\n",
        "pv            180060   \n",
        "\n",
        "msisdn  528116844579  \\\n",
        "pv            116115   \n",
        "\n",
        "msisdn  526181246287  \\\n",
        "pv            114167   \n",
        "\n",
        "msisdn  528681698255  \\\n",
        "pv            105685   \n",
        "\n",
        "msisdn  526181719940  \\\n",
        "pv             99187   \n",
        "\n",
        "msisdn  524192650494  \\\n",
        "pv             97504   \n",
        "\n",
        "msisdn  526621018352  \\\n",
        "pv             96195   \n",
        "\n",
        "msisdn  526521017501  \\\n",
        "pv             94772   \n",
        "\n",
        "msisdn  526561815374  \n",
        "pv             92787  "
       ]
      }
     ],
     "prompt_number": 53
    },
    {
     "cell_type": "code",
     "collapsed": false,
     "input": [
      "top1000.info()"
     ],
     "language": "python",
     "metadata": {
      "run_control": {
       "breakpoint": false
      }
     },
     "outputs": [
      {
       "output_type": "stream",
       "stream": "stdout",
       "text": [
        "<class 'pandas.core.frame.DataFrame'>\n",
        "Int64Index: 1000 entries, 526961027447 to 523315766527\n",
        "Data columns (total 1 columns):\n",
        "pv    1000 non-null int64\n",
        "dtypes: int64(1)\n",
        "memory usage: 15.6 KB\n"
       ]
      }
     ],
     "prompt_number": 54
    },
    {
     "cell_type": "code",
     "collapsed": false,
     "input": [
      "top1000_fn=file_name+'.top1000'\n",
      "top1000.reset_index().msisdn.to_csv(top1000_fn,header=False,index=False)\n",
      "!head {top1000_fn}"
     ],
     "language": "python",
     "metadata": {
      "run_control": {
       "breakpoint": false
      }
     },
     "outputs": [
      {
       "output_type": "stream",
       "stream": "stdout",
       "text": [
        "526961027447\r\n",
        "529212396640\r\n",
        "528116844579\r\n",
        "526181246287\r\n",
        "528681698255\r\n",
        "526181719940\r\n",
        "524192650494\r\n",
        "526621018352\r\n",
        "526521017501\r\n",
        "526561815374\r\n"
       ]
      }
     ],
     "prompt_number": 60
    },
    {
     "cell_type": "code",
     "collapsed": false,
     "input": [
      "sns.violinplot(top1000)"
     ],
     "language": "python",
     "metadata": {
      "run_control": {
       "breakpoint": false
      }
     },
     "outputs": [
      {
       "metadata": {},
       "output_type": "pyout",
       "prompt_number": 50,
       "text": [
        "<matplotlib.axes._subplots.AxesSubplot at 0x16213e790>"
       ]
      },
      {
       "metadata": {},
       "output_type": "display_data",
       "png": "[encoded data removed]",
       "text": [
        "<matplotlib.figure.Figure at 0x162138a90>"
       ]
      }
     ],
     "prompt_number": 50
    },
    {
     "cell_type": "code",
     "collapsed": false,
     "input": [
      "sns.kdeplot(top1000.pv,shade=True)"
     ],
     "language": "python",
     "metadata": {
      "run_control": {
       "breakpoint": false
      }
     },
     "outputs": [
      {
       "metadata": {},
       "output_type": "pyout",
       "prompt_number": 51,
       "text": [
        "<matplotlib.axes._subplots.AxesSubplot at 0x10bb10950>"
       ]
      },
      {
       "metadata": {},
       "output_type": "display_data",
       "png": "[encoded data removed]",
       "text": [
        "<matplotlib.figure.Figure at 0x1f83f8890>"
       ]
      }
     ],
     "prompt_number": 51
    },
    {
     "cell_type": "markdown",
     "metadata": {},
     "source": [
      "##Lookup the BW used in Telcel\n",
      "(2014-12 and 2015-01)"
     ]
    },
    {
     "cell_type": "code",
     "collapsed": false,
     "input": [
      "# transform a 12digits msisdn index into a 10digits one to match Telcel numbers\n",
      "top1000['10digits']=top1000.index.to_series().apply(lambda x: str(x)[2:])\n",
      "top1000.head()"
     ],
     "language": "python",
     "metadata": {
      "run_control": {
       "breakpoint": false
      }
     },
     "outputs": [
      {
       "html": [
        "<div style=\"max-height:1000px;max-width:1500px;overflow:auto;\">\n",
        "<table border=\"1\" class=\"dataframe\">\n",
        "  <thead>\n",
        "    <tr style=\"text-align: right;\">\n",
        "      <th></th>\n",
        "      <th>pv</th>\n",
        "      <th>10digits</th>\n",
        "    </tr>\n",
        "    <tr>\n",
        "      <th>msisdn</th>\n",
        "      <th></th>\n",
        "      <th></th>\n",
        "    </tr>\n",
        "  </thead>\n",
        "  <tbody>\n",
        "    <tr>\n",
        "      <th>526961027447</th>\n",
        "      <td> 221178</td>\n",
        "      <td> 6961027447</td>\n",
        "    </tr>\n",
        "    <tr>\n",
        "      <th>529212396640</th>\n",
        "      <td> 180060</td>\n",
        "      <td> 9212396640</td>\n",
        "    </tr>\n",
        "    <tr>\n",
        "      <th>528116844579</th>\n",
        "      <td> 116115</td>\n",
        "      <td> 8116844579</td>\n",
        "    </tr>\n",
        "    <tr>\n",
        "      <th>526181246287</th>\n",
        "      <td> 114167</td>\n",
        "      <td> 6181246287</td>\n",
        "    </tr>\n",
        "    <tr>\n",
        "      <th>528681698255</th>\n",
        "      <td> 105685</td>\n",
        "      <td> 8681698255</td>\n",
        "    </tr>\n",
        "  </tbody>\n",
        "</table>\n",
        "</div>"
       ],
       "metadata": {},
       "output_type": "pyout",
       "prompt_number": 87,
       "text": [
        "                  pv  \\\n",
        "msisdn                 \n",
        "526961027447  221178   \n",
        "529212396640  180060   \n",
        "528116844579  116115   \n",
        "526181246287  114167   \n",
        "528681698255  105685   \n",
        "\n",
        "                10digits  \n",
        "msisdn                    \n",
        "526961027447  6961027447  \n",
        "529212396640  9212396640  \n",
        "528116844579  8116844579  \n",
        "526181246287  6181246287  \n",
        "528681698255  8681698255  "
       ]
      }
     ],
     "prompt_number": 87
    },
    {
     "cell_type": "code",
     "collapsed": false,
     "input": [
      "# and saves it\n",
      "tendigits_fn=top1000_fn+'.10digits'\n",
      "top1000['10digits'].to_csv(tendigits_fn,header=False,index=False)\n",
      "print tendigits_fn\n",
      "!head {tendigits_fn}"
     ],
     "language": "python",
     "metadata": {},
     "outputs": [
      {
       "output_type": "stream",
       "stream": "stdout",
       "text": [
        "/Users/Nicolas/dev/data/pv/201501.2.pv.top1000.10digits\n",
        "^6961027447\r\n",
        "^9212396640\r\n",
        "^8116844579\r\n",
        "^6181246287\r\n",
        "^8681698255\r\n",
        "^6181719940\r\n",
        "^4192650494\r\n",
        "^6621018352\r\n",
        "^6521017501\r\n",
        "^6561815374\r\n"
       ]
      }
     ],
     "prompt_number": 79
    },
    {
     "cell_type": "code",
     "collapsed": false,
     "input": [
      "msisdn10digits.info()"
     ],
     "language": "python",
     "metadata": {
      "run_control": {
       "breakpoint": false
      }
     },
     "outputs": [
      {
       "output_type": "stream",
       "stream": "stdout",
       "text": [
        "<class 'pandas.core.frame.DataFrame'>\n",
        "Int64Index: 546544 entries, 0 to 546543\n",
        "Data columns (total 1 columns):\n",
        "msisdn    546544 non-null int64\n",
        "dtypes: int64(1)\n",
        "memory usage: 8.3 MB\n"
       ]
      }
     ],
     "prompt_number": 80
    },
    {
     "cell_type": "code",
     "collapsed": false,
     "input": [
      "!pwd\n",
      "!ls ../data/RG30"
     ],
     "language": "python",
     "metadata": {
      "run_control": {
       "breakpoint": false
      }
     },
     "outputs": [
      {
       "output_type": "stream",
       "stream": "stdout",
       "text": [
        "/Users/nicolas/dev/pmx\r\n"
       ]
      },
      {
       "output_type": "stream",
       "stream": "stdout",
       "text": [
        "\u001b[31mrg30_201410.csv\u001b[m\u001b[m       rg30_201412-worst.csv \u001b[31mrg30_201412.csv\u001b[m\u001b[m       rg30_201412.g.csv     \u001b[31mrg30_201501.csv\u001b[m\u001b[m\r\n",
        "\u001b[31mrg30_201411.csv\u001b[m\u001b[m       rg30_201412.a.csv     rg30_201412.csvavg    rg30_201501-worst.csv rg30_201501.csvworst\r\n"
       ]
      }
     ],
     "prompt_number": 81
    },
    {
     "cell_type": "code",
     "collapsed": false,
     "input": [
      "%%bash\n",
      "cd ~/dev/data/pv\n",
      "#grep -f 201501.2.pv.top1000.10digits ../RG30/rg30_201501.csv >rg30_201501.top1000"
     ],
     "language": "python",
     "metadata": {
      "run_control": {
       "breakpoint": false
      }
     },
     "outputs": [
      {
       "output_type": "stream",
       "stream": "stdout",
       "text": [
        "Process is terminated.\n"
       ]
      }
     ],
     "prompt_number": 76
    },
    {
     "cell_type": "code",
     "collapsed": false,
     "input": [
      "telcel_fn=_rootdir+'data/RG30/rg30_201501.csv'\n",
      "df_fraud_list=pd.read_csv(telcel_fn, names=['msisdn','up','dn','total'],header=True)\n",
      "df_fraud_list.drop(['up','total'],1,inplace=True)\n",
      "df_fraud_list.dn =df_fraud_list.dn.apply(lambda x: np.round(np.float64(x)/(1024*1024),2))\n",
      "#df_fraud_list.up =df_fraud_list.up.apply(lambda x: np.round(np.float64(x)/(1024*1024),2))\n",
      "df_fraud_list.msisdn =df_fraud_list.msisdn.apply(lambda x: '52'+str(x))\n",
      "#df_fraud_list.telcel =df_fraud_list.telcel.apply(lambda x: np.round(np.float64(x)/(1024*1024),2))\n"
     ],
     "language": "python",
     "metadata": {
      "run_control": {
       "breakpoint": false
      }
     },
     "outputs": [],
     "prompt_number": 90
    },
    {
     "cell_type": "code",
     "collapsed": false,
     "input": [
      "df_fraud_list.reset_index(inplace=True)"
     ],
     "language": "python",
     "metadata": {
      "run_control": {
       "breakpoint": false
      }
     },
     "outputs": [],
     "prompt_number": 111
    },
    {
     "cell_type": "code",
     "collapsed": false,
     "input": [
      "#df_fraud_list.drop('index',1,inplace=True)"
     ],
     "language": "python",
     "metadata": {
      "run_control": {
       "breakpoint": false
      }
     },
     "outputs": [],
     "prompt_number": 113
    },
    {
     "cell_type": "code",
     "collapsed": false,
     "input": [
      "df_fraud_list.msisdn = df_fraud_list['msisdn'].astype('int')\n",
      "df_fraud_list.set_index('msisdn',inplace=True)\n",
      "df_fraud_list.sort(['dn'],ascending=False).head()"
     ],
     "language": "python",
     "metadata": {
      "run_control": {
       "breakpoint": false
      }
     },
     "outputs": [
      {
       "html": [
        "<div style=\"max-height:1000px;max-width:1500px;overflow:auto;\">\n",
        "<table border=\"1\" class=\"dataframe\">\n",
        "  <thead>\n",
        "    <tr style=\"text-align: right;\">\n",
        "      <th></th>\n",
        "      <th>dn</th>\n",
        "    </tr>\n",
        "    <tr>\n",
        "      <th>msisdn</th>\n",
        "      <th></th>\n",
        "    </tr>\n",
        "  </thead>\n",
        "  <tbody>\n",
        "    <tr>\n",
        "      <th>527711867203</th>\n",
        "      <td> 21716.02</td>\n",
        "    </tr>\n",
        "    <tr>\n",
        "      <th>528113827163</th>\n",
        "      <td> 14652.14</td>\n",
        "    </tr>\n",
        "    <tr>\n",
        "      <th>528661595312</th>\n",
        "      <td> 11342.38</td>\n",
        "    </tr>\n",
        "    <tr>\n",
        "      <th>522461274913</th>\n",
        "      <td> 10353.29</td>\n",
        "    </tr>\n",
        "    <tr>\n",
        "      <th>526142530854</th>\n",
        "      <td>  9695.51</td>\n",
        "    </tr>\n",
        "  </tbody>\n",
        "</table>\n",
        "</div>"
       ],
       "metadata": {},
       "output_type": "pyout",
       "prompt_number": 114,
       "text": [
        "                    dn\n",
        "msisdn                \n",
        "527711867203  21716.02\n",
        "528113827163  14652.14\n",
        "528661595312  11342.38\n",
        "522461274913  10353.29\n",
        "526142530854   9695.51"
       ]
      }
     ],
     "prompt_number": 114
    },
    {
     "cell_type": "code",
     "collapsed": false,
     "input": [
      "report=top1000.merge(df_fraud_list,how='inner',right_index=True,left_index=True)[['pv','dn']].sort('pv',ascending=False)\n",
      "report.head()"
     ],
     "language": "python",
     "metadata": {
      "run_control": {
       "breakpoint": false
      }
     },
     "outputs": [
      {
       "html": [
        "<div style=\"max-height:1000px;max-width:1500px;overflow:auto;\">\n",
        "<table border=\"1\" class=\"dataframe\">\n",
        "  <thead>\n",
        "    <tr style=\"text-align: right;\">\n",
        "      <th></th>\n",
        "      <th>pv</th>\n",
        "      <th>dn</th>\n",
        "    </tr>\n",
        "    <tr>\n",
        "      <th>msisdn</th>\n",
        "      <th></th>\n",
        "      <th></th>\n",
        "    </tr>\n",
        "  </thead>\n",
        "  <tbody>\n",
        "    <tr>\n",
        "      <th>526961027447</th>\n",
        "      <td> 221178</td>\n",
        "      <td> 2095.03</td>\n",
        "    </tr>\n",
        "    <tr>\n",
        "      <th>529212396640</th>\n",
        "      <td> 180060</td>\n",
        "      <td> 1136.69</td>\n",
        "    </tr>\n",
        "    <tr>\n",
        "      <th>528116844579</th>\n",
        "      <td> 116115</td>\n",
        "      <td> 1113.76</td>\n",
        "    </tr>\n",
        "    <tr>\n",
        "      <th>526181246287</th>\n",
        "      <td> 114167</td>\n",
        "      <td> 1238.57</td>\n",
        "    </tr>\n",
        "    <tr>\n",
        "      <th>528681698255</th>\n",
        "      <td> 105685</td>\n",
        "      <td> 1533.48</td>\n",
        "    </tr>\n",
        "  </tbody>\n",
        "</table>\n",
        "</div>"
       ],
       "metadata": {},
       "output_type": "pyout",
       "prompt_number": 119,
       "text": [
        "                  pv  \\\n",
        "msisdn                 \n",
        "526961027447  221178   \n",
        "529212396640  180060   \n",
        "528116844579  116115   \n",
        "526181246287  114167   \n",
        "528681698255  105685   \n",
        "\n",
        "                   dn  \n",
        "msisdn                 \n",
        "526961027447  2095.03  \n",
        "529212396640  1136.69  \n",
        "528116844579  1113.76  \n",
        "526181246287  1238.57  \n",
        "528681698255  1533.48  "
       ]
      }
     ],
     "prompt_number": 119
    },
    {
     "cell_type": "code",
     "collapsed": false,
     "input": [
      "report['kb/page']=1024*report.dn/report.pv"
     ],
     "language": "python",
     "metadata": {
      "run_control": {
       "breakpoint": false
      }
     },
     "outputs": [],
     "prompt_number": 126
    },
    {
     "cell_type": "code",
     "collapsed": false,
     "input": [
      "report.corr()"
     ],
     "language": "python",
     "metadata": {
      "run_control": {
       "breakpoint": false
      }
     },
     "outputs": [
      {
       "html": [
        "<div style=\"max-height:1000px;max-width:1500px;overflow:auto;\">\n",
        "<table border=\"1\" class=\"dataframe\">\n",
        "  <thead>\n",
        "    <tr style=\"text-align: right;\">\n",
        "      <th></th>\n",
        "      <th>pv</th>\n",
        "      <th>dn</th>\n",
        "      <th>kb/page</th>\n",
        "    </tr>\n",
        "  </thead>\n",
        "  <tbody>\n",
        "    <tr>\n",
        "      <th>pv</th>\n",
        "      <td> 1.000000</td>\n",
        "      <td> 0.231636</td>\n",
        "      <td>-0.129443</td>\n",
        "    </tr>\n",
        "    <tr>\n",
        "      <th>dn</th>\n",
        "      <td> 0.231636</td>\n",
        "      <td> 1.000000</td>\n",
        "      <td> 0.912891</td>\n",
        "    </tr>\n",
        "    <tr>\n",
        "      <th>kb/page</th>\n",
        "      <td>-0.129443</td>\n",
        "      <td> 0.912891</td>\n",
        "      <td> 1.000000</td>\n",
        "    </tr>\n",
        "  </tbody>\n",
        "</table>\n",
        "</div>"
       ],
       "metadata": {},
       "output_type": "pyout",
       "prompt_number": 134,
       "text": [
        "               pv  \\\n",
        "pv       1.000000   \n",
        "dn       0.231636   \n",
        "kb/page -0.129443   \n",
        "\n",
        "               dn  \\\n",
        "pv       0.231636   \n",
        "dn       1.000000   \n",
        "kb/page  0.912891   \n",
        "\n",
        "          kb/page  \n",
        "pv      -0.129443  \n",
        "dn       0.912891  \n",
        "kb/page  1.000000  "
       ]
      }
     ],
     "prompt_number": 134
    },
    {
     "cell_type": "code",
     "collapsed": false,
     "input": [
      "report.sort('kb/page',ascending=False).head(10)"
     ],
     "language": "python",
     "metadata": {
      "run_control": {
       "breakpoint": false
      }
     },
     "outputs": [
      {
       "html": [
        "<div style=\"max-height:1000px;max-width:1500px;overflow:auto;\">\n",
        "<table border=\"1\" class=\"dataframe\">\n",
        "  <thead>\n",
        "    <tr style=\"text-align: right;\">\n",
        "      <th></th>\n",
        "      <th>pv</th>\n",
        "      <th>dn</th>\n",
        "      <th>kb/page</th>\n",
        "    </tr>\n",
        "    <tr>\n",
        "      <th>msisdn</th>\n",
        "      <th></th>\n",
        "      <th></th>\n",
        "      <th></th>\n",
        "    </tr>\n",
        "  </thead>\n",
        "  <tbody>\n",
        "    <tr>\n",
        "      <th>528341168043</th>\n",
        "      <td> 40532</td>\n",
        "      <td> 5196.51</td>\n",
        "      <td> 131.284571</td>\n",
        "    </tr>\n",
        "    <tr>\n",
        "      <th>527641104645</th>\n",
        "      <td> 37674</td>\n",
        "      <td> 4550.65</td>\n",
        "      <td> 123.689165</td>\n",
        "    </tr>\n",
        "    <tr>\n",
        "      <th>526959515145</th>\n",
        "      <td> 40652</td>\n",
        "      <td> 3914.93</td>\n",
        "      <td>  98.614787</td>\n",
        "    </tr>\n",
        "    <tr>\n",
        "      <th>522838747425</th>\n",
        "      <td> 37514</td>\n",
        "      <td> 3111.68</td>\n",
        "      <td>  84.937898</td>\n",
        "    </tr>\n",
        "    <tr>\n",
        "      <th>524422849365</th>\n",
        "      <td> 48362</td>\n",
        "      <td> 3863.57</td>\n",
        "      <td>  81.805874</td>\n",
        "    </tr>\n",
        "    <tr>\n",
        "      <th>526861915456</th>\n",
        "      <td> 48730</td>\n",
        "      <td> 3738.69</td>\n",
        "      <td>  78.563894</td>\n",
        "    </tr>\n",
        "    <tr>\n",
        "      <th>526141928449</th>\n",
        "      <td> 39780</td>\n",
        "      <td> 3043.35</td>\n",
        "      <td>  78.340633</td>\n",
        "    </tr>\n",
        "    <tr>\n",
        "      <th>526351135207</th>\n",
        "      <td> 55790</td>\n",
        "      <td> 4091.02</td>\n",
        "      <td>  75.088806</td>\n",
        "    </tr>\n",
        "    <tr>\n",
        "      <th>526441264312</th>\n",
        "      <td> 41482</td>\n",
        "      <td> 3014.64</td>\n",
        "      <td>  74.417611</td>\n",
        "    </tr>\n",
        "    <tr>\n",
        "      <th>524614211346</th>\n",
        "      <td> 38505</td>\n",
        "      <td> 2780.36</td>\n",
        "      <td>  73.940752</td>\n",
        "    </tr>\n",
        "  </tbody>\n",
        "</table>\n",
        "</div>"
       ],
       "metadata": {},
       "output_type": "pyout",
       "prompt_number": 130,
       "text": [
        "                 pv  \\\n",
        "msisdn                \n",
        "528341168043  40532   \n",
        "527641104645  37674   \n",
        "526959515145  40652   \n",
        "522838747425  37514   \n",
        "524422849365  48362   \n",
        "526861915456  48730   \n",
        "526141928449  39780   \n",
        "526351135207  55790   \n",
        "526441264312  41482   \n",
        "524614211346  38505   \n",
        "\n",
        "                   dn  \\\n",
        "msisdn                  \n",
        "528341168043  5196.51   \n",
        "527641104645  4550.65   \n",
        "526959515145  3914.93   \n",
        "522838747425  3111.68   \n",
        "524422849365  3863.57   \n",
        "526861915456  3738.69   \n",
        "526141928449  3043.35   \n",
        "526351135207  4091.02   \n",
        "526441264312  3014.64   \n",
        "524614211346  2780.36   \n",
        "\n",
        "                 kb/page  \n",
        "msisdn                    \n",
        "528341168043  131.284571  \n",
        "527641104645  123.689165  \n",
        "526959515145   98.614787  \n",
        "522838747425   84.937898  \n",
        "524422849365   81.805874  \n",
        "526861915456   78.563894  \n",
        "526141928449   78.340633  \n",
        "526351135207   75.088806  \n",
        "526441264312   74.417611  \n",
        "524614211346   73.940752  "
       ]
      }
     ],
     "prompt_number": 130
    },
    {
     "cell_type": "code",
     "collapsed": false,
     "input": [
      "report.sort('dn',ascending=False).head(10)"
     ],
     "language": "python",
     "metadata": {
      "run_control": {
       "breakpoint": false
      }
     },
     "outputs": [
      {
       "html": [
        "<div style=\"max-height:1000px;max-width:1500px;overflow:auto;\">\n",
        "<table border=\"1\" class=\"dataframe\">\n",
        "  <thead>\n",
        "    <tr style=\"text-align: right;\">\n",
        "      <th></th>\n",
        "      <th>pv</th>\n",
        "      <th>dn</th>\n",
        "      <th>kb/page</th>\n",
        "    </tr>\n",
        "    <tr>\n",
        "      <th>msisdn</th>\n",
        "      <th></th>\n",
        "      <th></th>\n",
        "      <th></th>\n",
        "    </tr>\n",
        "  </thead>\n",
        "  <tbody>\n",
        "    <tr>\n",
        "      <th>528341168043</th>\n",
        "      <td> 40532</td>\n",
        "      <td> 5196.51</td>\n",
        "      <td> 131.284571</td>\n",
        "    </tr>\n",
        "    <tr>\n",
        "      <th>527641104645</th>\n",
        "      <td> 37674</td>\n",
        "      <td> 4550.65</td>\n",
        "      <td> 123.689165</td>\n",
        "    </tr>\n",
        "    <tr>\n",
        "      <th>526351135207</th>\n",
        "      <td> 55790</td>\n",
        "      <td> 4091.02</td>\n",
        "      <td>  75.088806</td>\n",
        "    </tr>\n",
        "    <tr>\n",
        "      <th>526959515145</th>\n",
        "      <td> 40652</td>\n",
        "      <td> 3914.93</td>\n",
        "      <td>  98.614787</td>\n",
        "    </tr>\n",
        "    <tr>\n",
        "      <th>524422849365</th>\n",
        "      <td> 48362</td>\n",
        "      <td> 3863.57</td>\n",
        "      <td>  81.805874</td>\n",
        "    </tr>\n",
        "    <tr>\n",
        "      <th>526861915456</th>\n",
        "      <td> 48730</td>\n",
        "      <td> 3738.69</td>\n",
        "      <td>  78.563894</td>\n",
        "    </tr>\n",
        "    <tr>\n",
        "      <th>524771368115</th>\n",
        "      <td> 53793</td>\n",
        "      <td> 3523.71</td>\n",
        "      <td>  67.077111</td>\n",
        "    </tr>\n",
        "    <tr>\n",
        "      <th>528351009546</th>\n",
        "      <td> 49927</td>\n",
        "      <td> 3503.62</td>\n",
        "      <td>  71.859052</td>\n",
        "    </tr>\n",
        "    <tr>\n",
        "      <th>528211217084</th>\n",
        "      <td> 56188</td>\n",
        "      <td> 3283.21</td>\n",
        "      <td>  59.834965</td>\n",
        "    </tr>\n",
        "    <tr>\n",
        "      <th>522461045355</th>\n",
        "      <td> 50288</td>\n",
        "      <td> 3280.81</td>\n",
        "      <td>  66.806185</td>\n",
        "    </tr>\n",
        "  </tbody>\n",
        "</table>\n",
        "</div>"
       ],
       "metadata": {},
       "output_type": "pyout",
       "prompt_number": 131,
       "text": [
        "                 pv  \\\n",
        "msisdn                \n",
        "528341168043  40532   \n",
        "527641104645  37674   \n",
        "526351135207  55790   \n",
        "526959515145  40652   \n",
        "524422849365  48362   \n",
        "526861915456  48730   \n",
        "524771368115  53793   \n",
        "528351009546  49927   \n",
        "528211217084  56188   \n",
        "522461045355  50288   \n",
        "\n",
        "                   dn  \\\n",
        "msisdn                  \n",
        "528341168043  5196.51   \n",
        "527641104645  4550.65   \n",
        "526351135207  4091.02   \n",
        "526959515145  3914.93   \n",
        "524422849365  3863.57   \n",
        "526861915456  3738.69   \n",
        "524771368115  3523.71   \n",
        "528351009546  3503.62   \n",
        "528211217084  3283.21   \n",
        "522461045355  3280.81   \n",
        "\n",
        "                 kb/page  \n",
        "msisdn                    \n",
        "528341168043  131.284571  \n",
        "527641104645  123.689165  \n",
        "526351135207   75.088806  \n",
        "526959515145   98.614787  \n",
        "524422849365   81.805874  \n",
        "526861915456   78.563894  \n",
        "524771368115   67.077111  \n",
        "528351009546   71.859052  \n",
        "528211217084   59.834965  \n",
        "522461045355   66.806185  "
       ]
      }
     ],
     "prompt_number": 131
    },
    {
     "cell_type": "code",
     "collapsed": false,
     "input": [
      "df_fraud_list.info()"
     ],
     "language": "python",
     "metadata": {
      "run_control": {
       "breakpoint": false
      }
     },
     "outputs": [
      {
       "output_type": "stream",
       "stream": "stdout",
       "text": [
        "<class 'pandas.core.frame.DataFrame'>\n",
        "Index: 1298678 entries, 526621000905 to 529981057693\n",
        "Data columns (total 1 columns):\n",
        "dn    1298678 non-null float64\n",
        "dtypes: float64(1)\n",
        "memory usage: 19.8+ MB\n"
       ]
      }
     ],
     "prompt_number": 109
    },
    {
     "cell_type": "code",
     "collapsed": false,
     "input": [],
     "language": "python",
     "metadata": {
      "run_control": {
       "breakpoint": false
      }
     },
     "outputs": []
    }
   ],
   "metadata": {}
  }
 ]
}