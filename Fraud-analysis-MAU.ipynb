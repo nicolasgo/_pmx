{
 "metadata": {
  "name": "",
  "signature": "sha256:c2ee9ef4d9dbb7dbb3bf2ec81c4af03b4e2b6e4bd66adf4b3b282092d32af62a"
 },
 "nbformat": 3,
 "nbformat_minor": 0,
 "worksheets": [
  {
   "cells": [
    {
     "cell_type": "markdown",
     "metadata": {},
     "source": [
      "#MAU analysis\n",
      "- Look at the most heavy users in a month according to the number of page views\n",
      "- generate a top1000\n",
      "- use that top1000 to measure the BW needed"
     ]
    },
    {
     "cell_type": "markdown",
     "metadata": {},
     "source": [
      "##Preparation\n",
      "<code>\n",
      "cat 201501.p.pv | awk -F',' '{print $1 \",\" $2 \",\" $3 \",\" $5}' > 201501.2.pv\n"
     ]
    },
    {
     "cell_type": "code",
     "collapsed": false,
     "input": [
      "%%bash\n",
      "cd ~/dev/data/pv; cat 201501.p.pv | awk -F',' '{print $1 \",\" $2 \",\" $3 \",\" $5}' > 201501.2.pv"
     ],
     "language": "python",
     "metadata": {},
     "outputs": [],
     "prompt_number": 1
    },
    {
     "cell_type": "code",
     "collapsed": false,
     "input": [
      "import sys\n",
      "import csv\n",
      "import time\n",
      "import StringIO\n",
      "import pandas as pd\n",
      "import numpy as np\n",
      "import matplotlib.pyplot as plt\n",
      "\n",
      "%matplotlib inline\n",
      "\n",
      "sns.set_palette(\"deep\", desat=.6)\n",
      "sns.set_context(rc={\"figure.figsize\": (8, 4)})"
     ],
     "language": "python",
     "metadata": {
      "run_control": {
       "breakpoint": false
      }
     },
     "outputs": [],
     "prompt_number": 2
    },
    {
     "cell_type": "code",
     "collapsed": false,
     "input": [
      "file_name=_rootdir+'data/pv/201501.2.pv'\n",
      "!head -n 3 {file_name}\n",
      "!wc {file_name}"
     ],
     "language": "python",
     "metadata": {},
     "outputs": [
      {
       "output_type": "stream",
       "stream": "stdout",
       "text": [
        "msisdn,time,duration,pv\r\n",
        "11,2014-12-31 06:13:00,91180,964\r\n",
        "11,2015-01-01 05:46:31,77809,1014\r\n"
       ]
      },
      {
       "output_type": "stream",
       "stream": "stdout",
       "text": [
        " 19748830 39497659 804317570 /Users/Nicolas/dev/data/pv/201501.2.pv\r\n"
       ]
      }
     ],
     "prompt_number": 3
    },
    {
     "cell_type": "code",
     "collapsed": false,
     "input": [
      "#pd.read_csv()"
     ],
     "language": "python",
     "metadata": {
      "run_control": {
       "breakpoint": false
      }
     },
     "outputs": [],
     "prompt_number": 5
    },
    {
     "cell_type": "code",
     "collapsed": false,
     "input": [
      "# msisdn,time,duration,ip,pv,variety,landpage,device,inbox,mymed,conve,activ,home,frien,info,media,uploa,avata,publi,help,ua\n",
      "old_df=df=pd.read_csv(file_name,sep=',',usecols=['msisdn','time','duration','pv'])#,nrows=3008830 )#,#header=True,# index_col='msisdn',#parse_dates=True, ,engine='python'\n",
      "\n",
      "df=df.dropna()\n",
      "df['time']=pd.to_datetime(df['time'])\n",
      "df.set_index(['msisdn'],inplace=True)"
     ],
     "language": "python",
     "metadata": {},
     "outputs": [],
     "prompt_number": 6
    },
    {
     "cell_type": "code",
     "collapsed": false,
     "input": [
      "df.tail()"
     ],
     "language": "python",
     "metadata": {},
     "outputs": [
      {
       "html": [
        "<div style=\"max-height:1000px;max-width:1500px;overflow:auto;\">\n",
        "<table border=\"1\" class=\"dataframe\">\n",
        "  <thead>\n",
        "    <tr style=\"text-align: right;\">\n",
        "      <th></th>\n",
        "      <th>time</th>\n",
        "      <th>duration</th>\n",
        "      <th>pv</th>\n",
        "    </tr>\n",
        "    <tr>\n",
        "      <th>msisdn</th>\n",
        "      <th></th>\n",
        "      <th></th>\n",
        "      <th></th>\n",
        "    </tr>\n",
        "  </thead>\n",
        "  <tbody>\n",
        "    <tr>\n",
        "      <th>88           </th>\n",
        "      <td>2015-01-30 00:20:02</td>\n",
        "      <td> 18299</td>\n",
        "      <td>  183327</td>\n",
        "    </tr>\n",
        "    <tr>\n",
        "      <th>88           </th>\n",
        "      <td>2015-01-30 05:25:02</td>\n",
        "      <td> 85306</td>\n",
        "      <td> 3335782</td>\n",
        "    </tr>\n",
        "    <tr>\n",
        "      <th>88           </th>\n",
        "      <td>2015-01-31 00:01:36</td>\n",
        "      <td> 19405</td>\n",
        "      <td>  468457</td>\n",
        "    </tr>\n",
        "    <tr>\n",
        "      <th>8801849618860</th>\n",
        "      <td>2015-01-18 09:19:52</td>\n",
        "      <td>    10</td>\n",
        "      <td>       1</td>\n",
        "    </tr>\n",
        "    <tr>\n",
        "      <th>8801943939282</th>\n",
        "      <td>2015-01-26 22:27:53</td>\n",
        "      <td>   521</td>\n",
        "      <td>       7</td>\n",
        "    </tr>\n",
        "  </tbody>\n",
        "</table>\n",
        "</div>"
       ],
       "metadata": {},
       "output_type": "pyout",
       "prompt_number": 7,
       "text": [
        "                             time  \\\n",
        "msisdn                              \n",
        "88            2015-01-30 00:20:02   \n",
        "88            2015-01-30 05:25:02   \n",
        "88            2015-01-31 00:01:36   \n",
        "8801849618860 2015-01-18 09:19:52   \n",
        "8801943939282 2015-01-26 22:27:53   \n",
        "\n",
        "               duration  \\\n",
        "msisdn                    \n",
        "88                18299   \n",
        "88                85306   \n",
        "88                19405   \n",
        "8801849618860        10   \n",
        "8801943939282       521   \n",
        "\n",
        "                    pv  \n",
        "msisdn                  \n",
        "88              183327  \n",
        "88             3335782  \n",
        "88              468457  \n",
        "8801849618860        1  \n",
        "8801943939282        7  "
       ]
      }
     ],
     "prompt_number": 7
    },
    {
     "cell_type": "code",
     "collapsed": false,
     "input": [
      "df.describe()"
     ],
     "language": "python",
     "metadata": {},
     "outputs": [
      {
       "html": [
        "<div style=\"max-height:1000px;max-width:1500px;overflow:auto;\">\n",
        "<table border=\"1\" class=\"dataframe\">\n",
        "  <thead>\n",
        "    <tr style=\"text-align: right;\">\n",
        "      <th></th>\n",
        "      <th>duration</th>\n",
        "      <th>pv</th>\n",
        "    </tr>\n",
        "  </thead>\n",
        "  <tbody>\n",
        "    <tr>\n",
        "      <th>count</th>\n",
        "      <td> 19748829.000000</td>\n",
        "      <td> 19748829.000000</td>\n",
        "    </tr>\n",
        "    <tr>\n",
        "      <th>mean</th>\n",
        "      <td>     7670.066255</td>\n",
        "      <td>      149.714851</td>\n",
        "    </tr>\n",
        "    <tr>\n",
        "      <th>std</th>\n",
        "      <td>    12536.347731</td>\n",
        "      <td>     4035.345561</td>\n",
        "    </tr>\n",
        "    <tr>\n",
        "      <th>min</th>\n",
        "      <td>        0.000000</td>\n",
        "      <td>        1.000000</td>\n",
        "    </tr>\n",
        "    <tr>\n",
        "      <th>25%</th>\n",
        "      <td>      274.000000</td>\n",
        "      <td>        7.000000</td>\n",
        "    </tr>\n",
        "    <tr>\n",
        "      <th>50%</th>\n",
        "      <td>     2065.000000</td>\n",
        "      <td>       36.000000</td>\n",
        "    </tr>\n",
        "    <tr>\n",
        "      <th>75%</th>\n",
        "      <td>     9170.000000</td>\n",
        "      <td>      150.000000</td>\n",
        "    </tr>\n",
        "    <tr>\n",
        "      <th>max</th>\n",
        "      <td>   165113.000000</td>\n",
        "      <td>  3538672.000000</td>\n",
        "    </tr>\n",
        "  </tbody>\n",
        "</table>\n",
        "</div>"
       ],
       "metadata": {},
       "output_type": "pyout",
       "prompt_number": 8,
       "text": [
        "              duration  \\\n",
        "count  19748829.000000   \n",
        "mean       7670.066255   \n",
        "std       12536.347731   \n",
        "min           0.000000   \n",
        "25%         274.000000   \n",
        "50%        2065.000000   \n",
        "75%        9170.000000   \n",
        "max      165113.000000   \n",
        "\n",
        "                    pv  \n",
        "count  19748829.000000  \n",
        "mean        149.714851  \n",
        "std        4035.345561  \n",
        "min           1.000000  \n",
        "25%           7.000000  \n",
        "50%          36.000000  \n",
        "75%         150.000000  \n",
        "max     3538672.000000  "
       ]
      }
     ],
     "prompt_number": 8
    },
    {
     "cell_type": "code",
     "collapsed": false,
     "input": [
      "df.info()"
     ],
     "language": "python",
     "metadata": {
      "run_control": {
       "breakpoint": false
      }
     },
     "outputs": [
      {
       "output_type": "stream",
       "stream": "stdout",
       "text": [
        "<class 'pandas.core.frame.DataFrame'>\n",
        "Int64Index: 19748829 entries, 11 to 8801943939282\n",
        "Data columns (total 3 columns):\n",
        "time        datetime64[ns]\n",
        "duration    int64\n",
        "pv          int64\n",
        "dtypes: datetime64[ns](1), int64(2)\n",
        "memory usage: 602.7 MB\n"
       ]
      }
     ],
     "prompt_number": 9
    },
    {
     "cell_type": "markdown",
     "metadata": {},
     "source": [
      "### We randomly select a few users to speed things up.\n",
      "Can be skipped"
     ]
    },
    {
     "cell_type": "code",
     "collapsed": false,
     "input": [
      "#random selection\n",
      "ddf=df[[((msisdn%17>7) and str(msisdn)[:2]=='52') for msisdn in df.index]]\n",
      "ddf.info()"
     ],
     "language": "python",
     "metadata": {
      "run_control": {
       "breakpoint": false
      }
     },
     "outputs": [
      {
       "output_type": "stream",
       "stream": "stdout",
       "text": [
        "<class 'pandas.core.frame.DataFrame'>\n",
        "Int64Index: 10482818 entries, 521111000360 to 529999989965\n",
        "Data columns (total 3 columns):\n",
        "time        datetime64[ns]\n",
        "duration    int64\n",
        "pv          int64\n",
        "dtypes: datetime64[ns](1), int64(2)\n",
        "memory usage: 319.9 MB\n"
       ]
      }
     ],
     "prompt_number": 10
    },
    {
     "cell_type": "code",
     "collapsed": false,
     "input": [
      "ddf.tail()"
     ],
     "language": "python",
     "metadata": {
      "run_control": {
       "breakpoint": false
      }
     },
     "outputs": [
      {
       "html": [
        "<div style=\"max-height:1000px;max-width:1500px;overflow:auto;\">\n",
        "<table border=\"1\" class=\"dataframe\">\n",
        "  <thead>\n",
        "    <tr style=\"text-align: right;\">\n",
        "      <th></th>\n",
        "      <th>time</th>\n",
        "      <th>duration</th>\n",
        "      <th>pv</th>\n",
        "    </tr>\n",
        "    <tr>\n",
        "      <th>msisdn</th>\n",
        "      <th></th>\n",
        "      <th></th>\n",
        "      <th></th>\n",
        "    </tr>\n",
        "  </thead>\n",
        "  <tbody>\n",
        "    <tr>\n",
        "      <th>529999989965</th>\n",
        "      <td>2015-01-03 16:12:00</td>\n",
        "      <td> 166</td>\n",
        "      <td> 12</td>\n",
        "    </tr>\n",
        "    <tr>\n",
        "      <th>529999989965</th>\n",
        "      <td>2015-01-04 23:31:54</td>\n",
        "      <td> 943</td>\n",
        "      <td> 51</td>\n",
        "    </tr>\n",
        "    <tr>\n",
        "      <th>529999989965</th>\n",
        "      <td>2015-01-05 21:21:47</td>\n",
        "      <td> 914</td>\n",
        "      <td> 56</td>\n",
        "    </tr>\n",
        "    <tr>\n",
        "      <th>529999989965</th>\n",
        "      <td>2015-01-06 17:57:37</td>\n",
        "      <td>  54</td>\n",
        "      <td>  2</td>\n",
        "    </tr>\n",
        "    <tr>\n",
        "      <th>529999989965</th>\n",
        "      <td>2015-01-07 13:12:53</td>\n",
        "      <td> 627</td>\n",
        "      <td> 30</td>\n",
        "    </tr>\n",
        "  </tbody>\n",
        "</table>\n",
        "</div>"
       ],
       "metadata": {},
       "output_type": "pyout",
       "prompt_number": 11,
       "text": [
        "                            time  \\\n",
        "msisdn                             \n",
        "529999989965 2015-01-03 16:12:00   \n",
        "529999989965 2015-01-04 23:31:54   \n",
        "529999989965 2015-01-05 21:21:47   \n",
        "529999989965 2015-01-06 17:57:37   \n",
        "529999989965 2015-01-07 13:12:53   \n",
        "\n",
        "              duration  \\\n",
        "msisdn                   \n",
        "529999989965       166   \n",
        "529999989965       943   \n",
        "529999989965       914   \n",
        "529999989965        54   \n",
        "529999989965       627   \n",
        "\n",
        "              pv  \n",
        "msisdn            \n",
        "529999989965  12  \n",
        "529999989965  51  \n",
        "529999989965  56  \n",
        "529999989965   2  \n",
        "529999989965  30  "
       ]
      }
     ],
     "prompt_number": 11
    },
    {
     "cell_type": "code",
     "collapsed": false,
     "input": [
      "ddf.loc[ 523339035660 ]"
     ],
     "language": "python",
     "metadata": {
      "run_control": {
       "breakpoint": false
      }
     },
     "outputs": [
      {
       "html": [
        "<div style=\"max-height:1000px;max-width:1500px;overflow:auto;\">\n",
        "<table border=\"1\" class=\"dataframe\">\n",
        "  <thead>\n",
        "    <tr style=\"text-align: right;\">\n",
        "      <th></th>\n",
        "      <th>time</th>\n",
        "      <th>duration</th>\n",
        "      <th>pv</th>\n",
        "    </tr>\n",
        "    <tr>\n",
        "      <th>msisdn</th>\n",
        "      <th></th>\n",
        "      <th></th>\n",
        "      <th></th>\n",
        "    </tr>\n",
        "  </thead>\n",
        "  <tbody>\n",
        "    <tr>\n",
        "      <th>523339035660</th>\n",
        "      <td>2014-12-31 10:36:26</td>\n",
        "      <td>  4400</td>\n",
        "      <td>  86</td>\n",
        "    </tr>\n",
        "    <tr>\n",
        "      <th>523339035660</th>\n",
        "      <td>2015-01-01 13:01:45</td>\n",
        "      <td>  3550</td>\n",
        "      <td>  51</td>\n",
        "    </tr>\n",
        "    <tr>\n",
        "      <th>523339035660</th>\n",
        "      <td>2015-01-02 10:54:25</td>\n",
        "      <td> 13878</td>\n",
        "      <td> 207</td>\n",
        "    </tr>\n",
        "    <tr>\n",
        "      <th>523339035660</th>\n",
        "      <td>2015-01-03 17:38:12</td>\n",
        "      <td>  5287</td>\n",
        "      <td> 148</td>\n",
        "    </tr>\n",
        "    <tr>\n",
        "      <th>523339035660</th>\n",
        "      <td>2015-01-04 16:21:48</td>\n",
        "      <td> 12709</td>\n",
        "      <td> 219</td>\n",
        "    </tr>\n",
        "    <tr>\n",
        "      <th>523339035660</th>\n",
        "      <td>2015-01-05 11:30:50</td>\n",
        "      <td> 13117</td>\n",
        "      <td> 231</td>\n",
        "    </tr>\n",
        "    <tr>\n",
        "      <th>523339035660</th>\n",
        "      <td>2015-01-06 11:50:15</td>\n",
        "      <td> 15884</td>\n",
        "      <td> 312</td>\n",
        "    </tr>\n",
        "    <tr>\n",
        "      <th>523339035660</th>\n",
        "      <td>2015-01-07 14:57:22</td>\n",
        "      <td> 27545</td>\n",
        "      <td> 399</td>\n",
        "    </tr>\n",
        "    <tr>\n",
        "      <th>523339035660</th>\n",
        "      <td>2015-01-08 11:56:57</td>\n",
        "      <td> 11123</td>\n",
        "      <td> 305</td>\n",
        "    </tr>\n",
        "    <tr>\n",
        "      <th>523339035660</th>\n",
        "      <td>2015-01-09 11:44:03</td>\n",
        "      <td> 10315</td>\n",
        "      <td>  67</td>\n",
        "    </tr>\n",
        "    <tr>\n",
        "      <th>523339035660</th>\n",
        "      <td>2015-01-10 11:56:22</td>\n",
        "      <td>  1225</td>\n",
        "      <td>  49</td>\n",
        "    </tr>\n",
        "    <tr>\n",
        "      <th>523339035660</th>\n",
        "      <td>2015-01-11 12:22:57</td>\n",
        "      <td> 10496</td>\n",
        "      <td> 144</td>\n",
        "    </tr>\n",
        "    <tr>\n",
        "      <th>523339035660</th>\n",
        "      <td>2015-01-14 20:26:44</td>\n",
        "      <td>  3038</td>\n",
        "      <td>  42</td>\n",
        "    </tr>\n",
        "    <tr>\n",
        "      <th>523339035660</th>\n",
        "      <td>2015-01-15 15:13:57</td>\n",
        "      <td> 21787</td>\n",
        "      <td> 568</td>\n",
        "    </tr>\n",
        "    <tr>\n",
        "      <th>523339035660</th>\n",
        "      <td>2015-01-16 12:00:22</td>\n",
        "      <td>  8528</td>\n",
        "      <td> 208</td>\n",
        "    </tr>\n",
        "    <tr>\n",
        "      <th>523339035660</th>\n",
        "      <td>2015-01-17 11:33:31</td>\n",
        "      <td>  4837</td>\n",
        "      <td>  90</td>\n",
        "    </tr>\n",
        "    <tr>\n",
        "      <th>523339035660</th>\n",
        "      <td>2015-01-18 23:45:17</td>\n",
        "      <td>  1640</td>\n",
        "      <td>  47</td>\n",
        "    </tr>\n",
        "    <tr>\n",
        "      <th>523339035660</th>\n",
        "      <td>2015-01-19 11:50:17</td>\n",
        "      <td>    33</td>\n",
        "      <td>   2</td>\n",
        "    </tr>\n",
        "  </tbody>\n",
        "</table>\n",
        "</div>"
       ],
       "metadata": {},
       "output_type": "pyout",
       "prompt_number": 12,
       "text": [
        "                            time  \\\n",
        "msisdn                             \n",
        "523339035660 2014-12-31 10:36:26   \n",
        "523339035660 2015-01-01 13:01:45   \n",
        "523339035660 2015-01-02 10:54:25   \n",
        "523339035660 2015-01-03 17:38:12   \n",
        "523339035660 2015-01-04 16:21:48   \n",
        "523339035660 2015-01-05 11:30:50   \n",
        "523339035660 2015-01-06 11:50:15   \n",
        "523339035660 2015-01-07 14:57:22   \n",
        "523339035660 2015-01-08 11:56:57   \n",
        "523339035660 2015-01-09 11:44:03   \n",
        "523339035660 2015-01-10 11:56:22   \n",
        "523339035660 2015-01-11 12:22:57   \n",
        "523339035660 2015-01-14 20:26:44   \n",
        "523339035660 2015-01-15 15:13:57   \n",
        "523339035660 2015-01-16 12:00:22   \n",
        "523339035660 2015-01-17 11:33:31   \n",
        "523339035660 2015-01-18 23:45:17   \n",
        "523339035660 2015-01-19 11:50:17   \n",
        "\n",
        "              duration  \\\n",
        "msisdn                   \n",
        "523339035660      4400   \n",
        "523339035660      3550   \n",
        "523339035660     13878   \n",
        "523339035660      5287   \n",
        "523339035660     12709   \n",
        "523339035660     13117   \n",
        "523339035660     15884   \n",
        "523339035660     27545   \n",
        "523339035660     11123   \n",
        "523339035660     10315   \n",
        "523339035660      1225   \n",
        "523339035660     10496   \n",
        "523339035660      3038   \n",
        "523339035660     21787   \n",
        "523339035660      8528   \n",
        "523339035660      4837   \n",
        "523339035660      1640   \n",
        "523339035660        33   \n",
        "\n",
        "               pv  \n",
        "msisdn             \n",
        "523339035660   86  \n",
        "523339035660   51  \n",
        "523339035660  207  \n",
        "523339035660  148  \n",
        "523339035660  219  \n",
        "523339035660  231  \n",
        "523339035660  312  \n",
        "523339035660  399  \n",
        "523339035660  305  \n",
        "523339035660   67  \n",
        "523339035660   49  \n",
        "523339035660  144  \n",
        "523339035660   42  \n",
        "523339035660  568  \n",
        "523339035660  208  \n",
        "523339035660   90  \n",
        "523339035660   47  \n",
        "523339035660    2  "
       ]
      }
     ],
     "prompt_number": 12
    },
    {
     "cell_type": "markdown",
     "metadata": {},
     "source": [
      "##Group by user"
     ]
    },
    {
     "cell_type": "code",
     "collapsed": false,
     "input": [
      "grouped=ddf.groupby(level=0)"
     ],
     "language": "python",
     "metadata": {
      "run_control": {
       "breakpoint": false
      }
     },
     "outputs": [],
     "prompt_number": 13
    },
    {
     "cell_type": "code",
     "collapsed": false,
     "input": [
      "stats_per_msisdn=grouped.sum().drop('duration',1)"
     ],
     "language": "python",
     "metadata": {
      "run_control": {
       "breakpoint": false
      }
     },
     "outputs": [],
     "prompt_number": 14
    },
    {
     "cell_type": "code",
     "collapsed": false,
     "input": [
      "stats_per_msisdn.head(4)"
     ],
     "language": "python",
     "metadata": {
      "run_control": {
       "breakpoint": false
      }
     },
     "outputs": [
      {
       "html": [
        "<div style=\"max-height:1000px;max-width:1500px;overflow:auto;\">\n",
        "<table border=\"1\" class=\"dataframe\">\n",
        "  <thead>\n",
        "    <tr style=\"text-align: right;\">\n",
        "      <th></th>\n",
        "      <th>pv</th>\n",
        "    </tr>\n",
        "    <tr>\n",
        "      <th>msisdn</th>\n",
        "      <th></th>\n",
        "    </tr>\n",
        "  </thead>\n",
        "  <tbody>\n",
        "    <tr>\n",
        "      <th>521111000360</th>\n",
        "      <td>  2</td>\n",
        "    </tr>\n",
        "    <tr>\n",
        "      <th>521111000363</th>\n",
        "      <td> 70</td>\n",
        "    </tr>\n",
        "    <tr>\n",
        "      <th>521111000367</th>\n",
        "      <td>  2</td>\n",
        "    </tr>\n",
        "    <tr>\n",
        "      <th>521111000368</th>\n",
        "      <td>  2</td>\n",
        "    </tr>\n",
        "  </tbody>\n",
        "</table>\n",
        "</div>"
       ],
       "metadata": {},
       "output_type": "pyout",
       "prompt_number": 15,
       "text": [
        "              pv\n",
        "msisdn          \n",
        "521111000360   2\n",
        "521111000363  70\n",
        "521111000367   2\n",
        "521111000368   2"
       ]
      }
     ],
     "prompt_number": 15
    },
    {
     "cell_type": "code",
     "collapsed": false,
     "input": [
      "stats_per_msisdn.describe()"
     ],
     "language": "python",
     "metadata": {
      "run_control": {
       "breakpoint": false
      }
     },
     "outputs": [
      {
       "html": [
        "<div style=\"max-height:1000px;max-width:1500px;overflow:auto;\">\n",
        "<table border=\"1\" class=\"dataframe\">\n",
        "  <thead>\n",
        "    <tr style=\"text-align: right;\">\n",
        "      <th></th>\n",
        "      <th>pv</th>\n",
        "    </tr>\n",
        "  </thead>\n",
        "  <tbody>\n",
        "    <tr>\n",
        "      <th>count</th>\n",
        "      <td> 1231444.000000</td>\n",
        "    </tr>\n",
        "    <tr>\n",
        "      <th>mean</th>\n",
        "      <td>    1232.782982</td>\n",
        "    </tr>\n",
        "    <tr>\n",
        "      <th>std</th>\n",
        "      <td>    4001.393042</td>\n",
        "    </tr>\n",
        "    <tr>\n",
        "      <th>min</th>\n",
        "      <td>       1.000000</td>\n",
        "    </tr>\n",
        "    <tr>\n",
        "      <th>25%</th>\n",
        "      <td>       2.000000</td>\n",
        "    </tr>\n",
        "    <tr>\n",
        "      <th>50%</th>\n",
        "      <td>      23.000000</td>\n",
        "    </tr>\n",
        "    <tr>\n",
        "      <th>75%</th>\n",
        "      <td>     442.000000</td>\n",
        "    </tr>\n",
        "    <tr>\n",
        "      <th>max</th>\n",
        "      <td>  221178.000000</td>\n",
        "    </tr>\n",
        "  </tbody>\n",
        "</table>\n",
        "</div>"
       ],
       "metadata": {},
       "output_type": "pyout",
       "prompt_number": 16,
       "text": [
        "                   pv\n",
        "count  1231444.000000\n",
        "mean      1232.782982\n",
        "std       4001.393042\n",
        "min          1.000000\n",
        "25%          2.000000\n",
        "50%         23.000000\n",
        "75%        442.000000\n",
        "max     221178.000000"
       ]
      }
     ],
     "prompt_number": 16
    },
    {
     "cell_type": "markdown",
     "metadata": {},
     "source": [
      "###Here is the top1000 based on the number of page views\n",
      "We will use that list to process the logs of January to get the bandwidth each of them consumed"
     ]
    },
    {
     "cell_type": "code",
     "collapsed": false,
     "input": [
      "top1000=stats_per_msisdn.sort(['pv'],ascending=False).head(1000)\n",
      "top1000.head(10).T"
     ],
     "language": "python",
     "metadata": {
      "run_control": {
       "breakpoint": false
      }
     },
     "outputs": [
      {
       "html": [
        "<div style=\"max-height:1000px;max-width:1500px;overflow:auto;\">\n",
        "<table border=\"1\" class=\"dataframe\">\n",
        "  <thead>\n",
        "    <tr style=\"text-align: right;\">\n",
        "      <th>msisdn</th>\n",
        "      <th>526961027447</th>\n",
        "      <th>529212396640</th>\n",
        "      <th>523535391578</th>\n",
        "      <th>526751102111</th>\n",
        "      <th>526646991031</th>\n",
        "      <th>528116844579</th>\n",
        "      <th>526181246287</th>\n",
        "      <th>524431313203</th>\n",
        "      <th>523471016793</th>\n",
        "      <th>528341047337</th>\n",
        "    </tr>\n",
        "  </thead>\n",
        "  <tbody>\n",
        "    <tr>\n",
        "      <th>pv</th>\n",
        "      <td> 221178</td>\n",
        "      <td> 180060</td>\n",
        "      <td> 174739</td>\n",
        "      <td> 148824</td>\n",
        "      <td> 118709</td>\n",
        "      <td> 116115</td>\n",
        "      <td> 114167</td>\n",
        "      <td> 111497</td>\n",
        "      <td> 111181</td>\n",
        "      <td> 109155</td>\n",
        "    </tr>\n",
        "  </tbody>\n",
        "</table>\n",
        "</div>"
       ],
       "metadata": {},
       "output_type": "pyout",
       "prompt_number": 17,
       "text": [
        "msisdn  526961027447  \\\n",
        "pv            221178   \n",
        "\n",
        "msisdn  529212396640  \\\n",
        "pv            180060   \n",
        "\n",
        "msisdn  523535391578  \\\n",
        "pv            174739   \n",
        "\n",
        "msisdn  526751102111  \\\n",
        "pv            148824   \n",
        "\n",
        "msisdn  526646991031  \\\n",
        "pv            118709   \n",
        "\n",
        "msisdn  528116844579  \\\n",
        "pv            116115   \n",
        "\n",
        "msisdn  526181246287  \\\n",
        "pv            114167   \n",
        "\n",
        "msisdn  524431313203  \\\n",
        "pv            111497   \n",
        "\n",
        "msisdn  523471016793  \\\n",
        "pv            111181   \n",
        "\n",
        "msisdn  528341047337  \n",
        "pv            109155  "
       ]
      }
     ],
     "prompt_number": 17
    },
    {
     "cell_type": "code",
     "collapsed": false,
     "input": [
      "fn=file_name+'.top1000b'\n",
      "top1000.reset_index().msisdn.to_csv(fn,header=False,index=False)\n",
      "!head {fn}"
     ],
     "language": "python",
     "metadata": {
      "run_control": {
       "breakpoint": false
      }
     },
     "outputs": [
      {
       "output_type": "stream",
       "stream": "stdout",
       "text": [
        "526961027447\r\n",
        "529212396640\r\n",
        "523535391578\r\n",
        "526751102111\r\n",
        "526646991031\r\n",
        "528116844579\r\n",
        "526181246287\r\n",
        "524431313203\r\n",
        "523471016793\r\n",
        "528341047337\r\n"
       ]
      }
     ],
     "prompt_number": 18
    },
    {
     "cell_type": "code",
     "collapsed": false,
     "input": [
      "sns.violinplot(stats_per_msisdn)"
     ],
     "language": "python",
     "metadata": {
      "run_control": {
       "breakpoint": false
      }
     },
     "outputs": [
      {
       "metadata": {},
       "output_type": "pyout",
       "prompt_number": 19,
       "text": [
        "<matplotlib.axes._subplots.AxesSubplot at 0x171178b90>"
       ]
      },
      {
       "metadata": {},
       "output_type": "display_data",
       "png": "[encoded data removed]",
       "text": [
        "<matplotlib.figure.Figure at 0x108f87890>"
       ]
      }
     ],
     "prompt_number": 19
    },
    {
     "cell_type": "code",
     "collapsed": false,
     "input": [
      "sns.kdeplot(stats_per_msisdn.pv,shade=True)"
     ],
     "language": "python",
     "metadata": {
      "run_control": {
       "breakpoint": false
      }
     },
     "outputs": [
      {
       "metadata": {},
       "output_type": "pyout",
       "prompt_number": 20,
       "text": [
        "<matplotlib.axes._subplots.AxesSubplot at 0x104ef7b90>"
       ]
      },
      {
       "metadata": {},
       "output_type": "display_data",
       "png": "[encoded data removed]",
       "text": [
        "<matplotlib.figure.Figure at 0x1096ae0d0>"
       ]
      }
     ],
     "prompt_number": 20
    },
    {
     "cell_type": "markdown",
     "metadata": {},
     "source": [
      "##Lookup the BW used in Telcel\n",
      "(2014-12 and 2015-01)"
     ]
    },
    {
     "cell_type": "code",
     "collapsed": false,
     "input": [],
     "language": "python",
     "metadata": {},
     "outputs": []
    }
   ],
   "metadata": {}
  }
 ]
}