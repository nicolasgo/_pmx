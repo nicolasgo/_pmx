{
 "metadata": {
  "name": "",
  "signature": "sha256:085aa332ebb85484cf2134bfc598ab14d6b381d28d443903cf51525cc026c3fb"
 },
 "nbformat": 3,
 "nbformat_minor": 0,
 "worksheets": [
  {
   "cells": [
    {
     "cell_type": "markdown",
     "metadata": {},
     "source": [
      "#MAU analysis\n",
      "- Look at the most heavy users in a month\n",
      "- "
     ]
    },
    {
     "cell_type": "markdown",
     "metadata": {},
     "source": [
      "##Preparation\n",
      "<code>\n",
      "cat 201501.p.pv | awk -F',' '{print $1 \",\" $2 \",\" $3 \",\" $5}' > 201501.2.pv\n"
     ]
    },
    {
     "cell_type": "code",
     "collapsed": false,
     "input": [
      "import sys\n",
      "import csv\n",
      "import time\n",
      "import StringIO\n",
      "import pandas as pd\n",
      "import numpy as np\n",
      "import matplotlib.pyplot as plt\n",
      "\n",
      "%matplotlib inline\n",
      "\n",
      "sns.set_palette(\"deep\", desat=.6)\n",
      "sns.set_context(rc={\"figure.figsize\": (8, 4)})"
     ],
     "language": "python",
     "metadata": {
      "run_control": {
       "breakpoint": false
      }
     },
     "outputs": [],
     "prompt_number": 138
    },
    {
     "cell_type": "code",
     "collapsed": false,
     "input": [
      "file_name=_rootdir+'data/pv/201501.2.pv'\n",
      "!head -n 3 {file_name}\n",
      "!wc {file_name}"
     ],
     "language": "python",
     "metadata": {},
     "outputs": [
      {
       "output_type": "stream",
       "stream": "stdout",
       "text": [
        "msisdn,time,duration,pv\r\n",
        "11,2014-12-31 06:13:00,91180,964\r\n",
        "11,2015-01-01 05:46:31,77809,1014\r\n"
       ]
      },
      {
       "output_type": "stream",
       "stream": "stdout",
       "text": [
        " 19748830 39497659 804317570 /Users/Nicolas/dev/data/pv/201501.2.pv\r\n"
       ]
      }
     ],
     "prompt_number": 139
    },
    {
     "cell_type": "code",
     "collapsed": false,
     "input": [
      "pd.read_csv()"
     ],
     "language": "python",
     "metadata": {
      "run_control": {
       "breakpoint": false
      }
     },
     "outputs": []
    },
    {
     "cell_type": "code",
     "collapsed": false,
     "input": [
      "# msisdn,time,duration,ip,pv,variety,landpage,device,inbox,mymed,conve,activ,home,frien,info,media,uploa,avata,publi,help,ua\n",
      "old_df=df=pd.read_csv(file_name,sep=',',usecols=['msisdn','time','duration','pv'],nrows=3008830 )#,#header=True,# index_col='msisdn',#parse_dates=True, ,engine='python'\n",
      "\n",
      "df=df.dropna()\n",
      "df['time']=pd.to_datetime(df['time'])\n",
      "df.set_index(['msisdn'],inplace=True)"
     ],
     "language": "python",
     "metadata": {},
     "outputs": [],
     "prompt_number": 144
    },
    {
     "cell_type": "code",
     "collapsed": false,
     "input": [
      "df.tail()"
     ],
     "language": "python",
     "metadata": {},
     "outputs": [
      {
       "html": [
        "<div style=\"max-height:1000px;max-width:1500px;overflow:auto;\">\n",
        "<table border=\"1\" class=\"dataframe\">\n",
        "  <thead>\n",
        "    <tr style=\"text-align: right;\">\n",
        "      <th></th>\n",
        "      <th>time</th>\n",
        "      <th>duration</th>\n",
        "      <th>pv</th>\n",
        "    </tr>\n",
        "    <tr>\n",
        "      <th>msisdn</th>\n",
        "      <th></th>\n",
        "      <th></th>\n",
        "      <th></th>\n",
        "    </tr>\n",
        "  </thead>\n",
        "  <tbody>\n",
        "    <tr>\n",
        "      <th>523339035660</th>\n",
        "      <td>2015-01-07 14:57:22</td>\n",
        "      <td> 27545</td>\n",
        "      <td> 399</td>\n",
        "    </tr>\n",
        "    <tr>\n",
        "      <th>523339035660</th>\n",
        "      <td>2015-01-08 11:56:57</td>\n",
        "      <td> 11123</td>\n",
        "      <td> 305</td>\n",
        "    </tr>\n",
        "    <tr>\n",
        "      <th>523339035660</th>\n",
        "      <td>2015-01-09 11:44:03</td>\n",
        "      <td> 10315</td>\n",
        "      <td>  67</td>\n",
        "    </tr>\n",
        "    <tr>\n",
        "      <th>523339035660</th>\n",
        "      <td>2015-01-10 11:56:22</td>\n",
        "      <td>  1225</td>\n",
        "      <td>  49</td>\n",
        "    </tr>\n",
        "    <tr>\n",
        "      <th>523339035660</th>\n",
        "      <td>2015-01-11 12:22:57</td>\n",
        "      <td> 10496</td>\n",
        "      <td> 144</td>\n",
        "    </tr>\n",
        "  </tbody>\n",
        "</table>\n",
        "</div>"
       ],
       "metadata": {},
       "output_type": "pyout",
       "prompt_number": 145,
       "text": [
        "                            time  \\\n",
        "msisdn                             \n",
        "523339035660 2015-01-07 14:57:22   \n",
        "523339035660 2015-01-08 11:56:57   \n",
        "523339035660 2015-01-09 11:44:03   \n",
        "523339035660 2015-01-10 11:56:22   \n",
        "523339035660 2015-01-11 12:22:57   \n",
        "\n",
        "              duration  \\\n",
        "msisdn                   \n",
        "523339035660     27545   \n",
        "523339035660     11123   \n",
        "523339035660     10315   \n",
        "523339035660      1225   \n",
        "523339035660     10496   \n",
        "\n",
        "               pv  \n",
        "msisdn             \n",
        "523339035660  399  \n",
        "523339035660  305  \n",
        "523339035660   67  \n",
        "523339035660   49  \n",
        "523339035660  144  "
       ]
      }
     ],
     "prompt_number": 145
    },
    {
     "cell_type": "code",
     "collapsed": false,
     "input": [
      "df.describe()"
     ],
     "language": "python",
     "metadata": {},
     "outputs": [
      {
       "html": [
        "<div style=\"max-height:1000px;max-width:1500px;overflow:auto;\">\n",
        "<table border=\"1\" class=\"dataframe\">\n",
        "  <thead>\n",
        "    <tr style=\"text-align: right;\">\n",
        "      <th></th>\n",
        "      <th>duration</th>\n",
        "      <th>pv</th>\n",
        "    </tr>\n",
        "  </thead>\n",
        "  <tbody>\n",
        "    <tr>\n",
        "      <th>count</th>\n",
        "      <td> 3008830.000000</td>\n",
        "      <td> 3008830.000000</td>\n",
        "    </tr>\n",
        "    <tr>\n",
        "      <th>mean</th>\n",
        "      <td>    7466.059022</td>\n",
        "      <td>     130.142605</td>\n",
        "    </tr>\n",
        "    <tr>\n",
        "      <th>std</th>\n",
        "      <td>   12197.752306</td>\n",
        "      <td>     352.678293</td>\n",
        "    </tr>\n",
        "    <tr>\n",
        "      <th>min</th>\n",
        "      <td>       0.000000</td>\n",
        "      <td>       1.000000</td>\n",
        "    </tr>\n",
        "    <tr>\n",
        "      <th>25%</th>\n",
        "      <td>     262.000000</td>\n",
        "      <td>       7.000000</td>\n",
        "    </tr>\n",
        "    <tr>\n",
        "      <th>50%</th>\n",
        "      <td>    2013.000000</td>\n",
        "      <td>      33.000000</td>\n",
        "    </tr>\n",
        "    <tr>\n",
        "      <th>75%</th>\n",
        "      <td>    8987.000000</td>\n",
        "      <td>     138.000000</td>\n",
        "    </tr>\n",
        "    <tr>\n",
        "      <th>max</th>\n",
        "      <td>  148898.000000</td>\n",
        "      <td>  429171.000000</td>\n",
        "    </tr>\n",
        "  </tbody>\n",
        "</table>\n",
        "</div>"
       ],
       "metadata": {},
       "output_type": "pyout",
       "prompt_number": 146,
       "text": [
        "             duration  \\\n",
        "count  3008830.000000   \n",
        "mean      7466.059022   \n",
        "std      12197.752306   \n",
        "min          0.000000   \n",
        "25%        262.000000   \n",
        "50%       2013.000000   \n",
        "75%       8987.000000   \n",
        "max     148898.000000   \n",
        "\n",
        "                   pv  \n",
        "count  3008830.000000  \n",
        "mean       130.142605  \n",
        "std        352.678293  \n",
        "min          1.000000  \n",
        "25%          7.000000  \n",
        "50%         33.000000  \n",
        "75%        138.000000  \n",
        "max     429171.000000  "
       ]
      }
     ],
     "prompt_number": 146
    },
    {
     "cell_type": "code",
     "collapsed": false,
     "input": [
      "df.info()"
     ],
     "language": "python",
     "metadata": {
      "run_control": {
       "breakpoint": false
      }
     },
     "outputs": [
      {
       "output_type": "stream",
       "stream": "stdout",
       "text": [
        "<class 'pandas.core.frame.DataFrame'>\n",
        "Int64Index: 3008830 entries, 11 to 523339035660\n",
        "Data columns (total 3 columns):\n",
        "time        datetime64[ns]\n",
        "duration    int64\n",
        "pv          int64\n",
        "dtypes: datetime64[ns](1), int64(2)\n",
        "memory usage: 91.8 MB\n"
       ]
      }
     ],
     "prompt_number": 156
    },
    {
     "cell_type": "code",
     "collapsed": false,
     "input": [
      "#random selection\n",
      "ddf=df[[((msisdn%17>7) and str(msisdn)[:2]=='52') for msisdn in df.index]]\n",
      "ddf.info()"
     ],
     "language": "python",
     "metadata": {
      "run_control": {
       "breakpoint": false
      }
     },
     "outputs": [
      {
       "output_type": "stream",
       "stream": "stdout",
       "text": [
        "<class 'pandas.core.frame.DataFrame'>\n",
        "Int64Index: 1594104 entries, 521111000360 to 523339035660\n",
        "Data columns (total 3 columns):\n",
        "time        1594104 non-null datetime64[ns]\n",
        "duration    1594104 non-null int64\n",
        "pv          1594104 non-null int64\n",
        "dtypes: datetime64[ns](1), int64(2)\n",
        "memory usage: 48.6 MB\n"
       ]
      }
     ],
     "prompt_number": 223
    },
    {
     "cell_type": "code",
     "collapsed": false,
     "input": [
      "ddf.tail()"
     ],
     "language": "python",
     "metadata": {
      "run_control": {
       "breakpoint": false
      }
     },
     "outputs": [
      {
       "html": [
        "<div style=\"max-height:1000px;max-width:1500px;overflow:auto;\">\n",
        "<table border=\"1\" class=\"dataframe\">\n",
        "  <thead>\n",
        "    <tr style=\"text-align: right;\">\n",
        "      <th></th>\n",
        "      <th>time</th>\n",
        "      <th>duration</th>\n",
        "      <th>pv</th>\n",
        "    </tr>\n",
        "    <tr>\n",
        "      <th>msisdn</th>\n",
        "      <th></th>\n",
        "      <th></th>\n",
        "      <th></th>\n",
        "    </tr>\n",
        "  </thead>\n",
        "  <tbody>\n",
        "    <tr>\n",
        "      <th>523339035660</th>\n",
        "      <td>2015-01-07 14:57:22</td>\n",
        "      <td> 27545</td>\n",
        "      <td> 399</td>\n",
        "    </tr>\n",
        "    <tr>\n",
        "      <th>523339035660</th>\n",
        "      <td>2015-01-08 11:56:57</td>\n",
        "      <td> 11123</td>\n",
        "      <td> 305</td>\n",
        "    </tr>\n",
        "    <tr>\n",
        "      <th>523339035660</th>\n",
        "      <td>2015-01-09 11:44:03</td>\n",
        "      <td> 10315</td>\n",
        "      <td>  67</td>\n",
        "    </tr>\n",
        "    <tr>\n",
        "      <th>523339035660</th>\n",
        "      <td>2015-01-10 11:56:22</td>\n",
        "      <td>  1225</td>\n",
        "      <td>  49</td>\n",
        "    </tr>\n",
        "    <tr>\n",
        "      <th>523339035660</th>\n",
        "      <td>2015-01-11 12:22:57</td>\n",
        "      <td> 10496</td>\n",
        "      <td> 144</td>\n",
        "    </tr>\n",
        "  </tbody>\n",
        "</table>\n",
        "</div>"
       ],
       "metadata": {},
       "output_type": "pyout",
       "prompt_number": 224,
       "text": [
        "                            time  \\\n",
        "msisdn                             \n",
        "523339035660 2015-01-07 14:57:22   \n",
        "523339035660 2015-01-08 11:56:57   \n",
        "523339035660 2015-01-09 11:44:03   \n",
        "523339035660 2015-01-10 11:56:22   \n",
        "523339035660 2015-01-11 12:22:57   \n",
        "\n",
        "              duration  \\\n",
        "msisdn                   \n",
        "523339035660     27545   \n",
        "523339035660     11123   \n",
        "523339035660     10315   \n",
        "523339035660      1225   \n",
        "523339035660     10496   \n",
        "\n",
        "               pv  \n",
        "msisdn             \n",
        "523339035660  399  \n",
        "523339035660  305  \n",
        "523339035660   67  \n",
        "523339035660   49  \n",
        "523339035660  144  "
       ]
      }
     ],
     "prompt_number": 224
    },
    {
     "cell_type": "code",
     "collapsed": false,
     "input": [
      "ddf.loc[ 523339035660 ]"
     ],
     "language": "python",
     "metadata": {
      "run_control": {
       "breakpoint": false
      }
     },
     "outputs": [
      {
       "html": [
        "<div style=\"max-height:1000px;max-width:1500px;overflow:auto;\">\n",
        "<table border=\"1\" class=\"dataframe\">\n",
        "  <thead>\n",
        "    <tr style=\"text-align: right;\">\n",
        "      <th></th>\n",
        "      <th>time</th>\n",
        "      <th>duration</th>\n",
        "      <th>pv</th>\n",
        "    </tr>\n",
        "    <tr>\n",
        "      <th>msisdn</th>\n",
        "      <th></th>\n",
        "      <th></th>\n",
        "      <th></th>\n",
        "    </tr>\n",
        "  </thead>\n",
        "  <tbody>\n",
        "    <tr>\n",
        "      <th>523339035660</th>\n",
        "      <td>2014-12-31 10:36:26</td>\n",
        "      <td>  4400</td>\n",
        "      <td>  86</td>\n",
        "    </tr>\n",
        "    <tr>\n",
        "      <th>523339035660</th>\n",
        "      <td>2015-01-01 13:01:45</td>\n",
        "      <td>  3550</td>\n",
        "      <td>  51</td>\n",
        "    </tr>\n",
        "    <tr>\n",
        "      <th>523339035660</th>\n",
        "      <td>2015-01-02 10:54:25</td>\n",
        "      <td> 13878</td>\n",
        "      <td> 207</td>\n",
        "    </tr>\n",
        "    <tr>\n",
        "      <th>523339035660</th>\n",
        "      <td>2015-01-03 17:38:12</td>\n",
        "      <td>  5287</td>\n",
        "      <td> 148</td>\n",
        "    </tr>\n",
        "    <tr>\n",
        "      <th>523339035660</th>\n",
        "      <td>2015-01-04 16:21:48</td>\n",
        "      <td> 12709</td>\n",
        "      <td> 219</td>\n",
        "    </tr>\n",
        "    <tr>\n",
        "      <th>523339035660</th>\n",
        "      <td>2015-01-05 11:30:50</td>\n",
        "      <td> 13117</td>\n",
        "      <td> 231</td>\n",
        "    </tr>\n",
        "    <tr>\n",
        "      <th>523339035660</th>\n",
        "      <td>2015-01-06 11:50:15</td>\n",
        "      <td> 15884</td>\n",
        "      <td> 312</td>\n",
        "    </tr>\n",
        "    <tr>\n",
        "      <th>523339035660</th>\n",
        "      <td>2015-01-07 14:57:22</td>\n",
        "      <td> 27545</td>\n",
        "      <td> 399</td>\n",
        "    </tr>\n",
        "    <tr>\n",
        "      <th>523339035660</th>\n",
        "      <td>2015-01-08 11:56:57</td>\n",
        "      <td> 11123</td>\n",
        "      <td> 305</td>\n",
        "    </tr>\n",
        "    <tr>\n",
        "      <th>523339035660</th>\n",
        "      <td>2015-01-09 11:44:03</td>\n",
        "      <td> 10315</td>\n",
        "      <td>  67</td>\n",
        "    </tr>\n",
        "    <tr>\n",
        "      <th>523339035660</th>\n",
        "      <td>2015-01-10 11:56:22</td>\n",
        "      <td>  1225</td>\n",
        "      <td>  49</td>\n",
        "    </tr>\n",
        "    <tr>\n",
        "      <th>523339035660</th>\n",
        "      <td>2015-01-11 12:22:57</td>\n",
        "      <td> 10496</td>\n",
        "      <td> 144</td>\n",
        "    </tr>\n",
        "  </tbody>\n",
        "</table>\n",
        "</div>"
       ],
       "metadata": {},
       "output_type": "pyout",
       "prompt_number": 225,
       "text": [
        "                            time  \\\n",
        "msisdn                             \n",
        "523339035660 2014-12-31 10:36:26   \n",
        "523339035660 2015-01-01 13:01:45   \n",
        "523339035660 2015-01-02 10:54:25   \n",
        "523339035660 2015-01-03 17:38:12   \n",
        "523339035660 2015-01-04 16:21:48   \n",
        "523339035660 2015-01-05 11:30:50   \n",
        "523339035660 2015-01-06 11:50:15   \n",
        "523339035660 2015-01-07 14:57:22   \n",
        "523339035660 2015-01-08 11:56:57   \n",
        "523339035660 2015-01-09 11:44:03   \n",
        "523339035660 2015-01-10 11:56:22   \n",
        "523339035660 2015-01-11 12:22:57   \n",
        "\n",
        "              duration  \\\n",
        "msisdn                   \n",
        "523339035660      4400   \n",
        "523339035660      3550   \n",
        "523339035660     13878   \n",
        "523339035660      5287   \n",
        "523339035660     12709   \n",
        "523339035660     13117   \n",
        "523339035660     15884   \n",
        "523339035660     27545   \n",
        "523339035660     11123   \n",
        "523339035660     10315   \n",
        "523339035660      1225   \n",
        "523339035660     10496   \n",
        "\n",
        "               pv  \n",
        "msisdn             \n",
        "523339035660   86  \n",
        "523339035660   51  \n",
        "523339035660  207  \n",
        "523339035660  148  \n",
        "523339035660  219  \n",
        "523339035660  231  \n",
        "523339035660  312  \n",
        "523339035660  399  \n",
        "523339035660  305  \n",
        "523339035660   67  \n",
        "523339035660   49  \n",
        "523339035660  144  "
       ]
      }
     ],
     "prompt_number": 225
    },
    {
     "cell_type": "markdown",
     "metadata": {},
     "source": [
      "##Group by user"
     ]
    },
    {
     "cell_type": "code",
     "collapsed": false,
     "input": [
      "grouped=ddf.groupby(level=0)"
     ],
     "language": "python",
     "metadata": {
      "run_control": {
       "breakpoint": false
      }
     },
     "outputs": [],
     "prompt_number": 226
    },
    {
     "cell_type": "code",
     "collapsed": false,
     "input": [
      "stats_per_msisdn=grouped.sum().drop('duration',1)"
     ],
     "language": "python",
     "metadata": {
      "run_control": {
       "breakpoint": false
      }
     },
     "outputs": [],
     "prompt_number": 227
    },
    {
     "cell_type": "code",
     "collapsed": false,
     "input": [
      "stats_per_msisdn.head(4)"
     ],
     "language": "python",
     "metadata": {
      "run_control": {
       "breakpoint": false
      }
     },
     "outputs": [
      {
       "html": [
        "<div style=\"max-height:1000px;max-width:1500px;overflow:auto;\">\n",
        "<table border=\"1\" class=\"dataframe\">\n",
        "  <thead>\n",
        "    <tr style=\"text-align: right;\">\n",
        "      <th></th>\n",
        "      <th>pv</th>\n",
        "    </tr>\n",
        "    <tr>\n",
        "      <th>msisdn</th>\n",
        "      <th></th>\n",
        "    </tr>\n",
        "  </thead>\n",
        "  <tbody>\n",
        "    <tr>\n",
        "      <th>521111000360</th>\n",
        "      <td>  2</td>\n",
        "    </tr>\n",
        "    <tr>\n",
        "      <th>521111000363</th>\n",
        "      <td> 70</td>\n",
        "    </tr>\n",
        "    <tr>\n",
        "      <th>521111000367</th>\n",
        "      <td>  2</td>\n",
        "    </tr>\n",
        "    <tr>\n",
        "      <th>521111000368</th>\n",
        "      <td>  2</td>\n",
        "    </tr>\n",
        "  </tbody>\n",
        "</table>\n",
        "</div>"
       ],
       "metadata": {},
       "output_type": "pyout",
       "prompt_number": 228,
       "text": [
        "              pv\n",
        "msisdn          \n",
        "521111000360   2\n",
        "521111000363  70\n",
        "521111000367   2\n",
        "521111000368   2"
       ]
      }
     ],
     "prompt_number": 228
    },
    {
     "cell_type": "code",
     "collapsed": false,
     "input": [
      "stats_per_msisdn.describe()"
     ],
     "language": "python",
     "metadata": {
      "run_control": {
       "breakpoint": false
      }
     },
     "outputs": [
      {
       "html": [
        "<div style=\"max-height:1000px;max-width:1500px;overflow:auto;\">\n",
        "<table border=\"1\" class=\"dataframe\">\n",
        "  <thead>\n",
        "    <tr style=\"text-align: right;\">\n",
        "      <th></th>\n",
        "      <th>pv</th>\n",
        "    </tr>\n",
        "  </thead>\n",
        "  <tbody>\n",
        "    <tr>\n",
        "      <th>count</th>\n",
        "      <td> 188542.000000</td>\n",
        "    </tr>\n",
        "    <tr>\n",
        "      <th>mean</th>\n",
        "      <td>   1104.490389</td>\n",
        "    </tr>\n",
        "    <tr>\n",
        "      <th>std</th>\n",
        "      <td>   3488.567688</td>\n",
        "    </tr>\n",
        "    <tr>\n",
        "      <th>min</th>\n",
        "      <td>      1.000000</td>\n",
        "    </tr>\n",
        "    <tr>\n",
        "      <th>25%</th>\n",
        "      <td>      2.000000</td>\n",
        "    </tr>\n",
        "    <tr>\n",
        "      <th>50%</th>\n",
        "      <td>     20.000000</td>\n",
        "    </tr>\n",
        "    <tr>\n",
        "      <th>75%</th>\n",
        "      <td>    402.000000</td>\n",
        "    </tr>\n",
        "    <tr>\n",
        "      <th>max</th>\n",
        "      <td>  91939.000000</td>\n",
        "    </tr>\n",
        "  </tbody>\n",
        "</table>\n",
        "</div>"
       ],
       "metadata": {},
       "output_type": "pyout",
       "prompt_number": 229,
       "text": [
        "                  pv\n",
        "count  188542.000000\n",
        "mean     1104.490389\n",
        "std      3488.567688\n",
        "min         1.000000\n",
        "25%         2.000000\n",
        "50%        20.000000\n",
        "75%       402.000000\n",
        "max     91939.000000"
       ]
      }
     ],
     "prompt_number": 229
    },
    {
     "cell_type": "markdown",
     "metadata": {},
     "source": [
      "###Here is the top20 based on the number of page views\n",
      "We will use that list to process the logs of January to get the bandwidth each of them consumed"
     ]
    },
    {
     "cell_type": "code",
     "collapsed": false,
     "input": [
      "top20=stats_per_msisdn.sort(['pv'],ascending=False).head(20)\n",
      "top20.T"
     ],
     "language": "python",
     "metadata": {
      "run_control": {
       "breakpoint": false
      }
     },
     "outputs": [
      {
       "html": [
        "<div style=\"max-height:1000px;max-width:1500px;overflow:auto;\">\n",
        "<table border=\"1\" class=\"dataframe\">\n",
        "  <thead>\n",
        "    <tr style=\"text-align: right;\">\n",
        "      <th>msisdn</th>\n",
        "      <th>522226680666</th>\n",
        "      <th>522461478680</th>\n",
        "      <th>522221148051</th>\n",
        "      <th>522721571708</th>\n",
        "      <th>522711807881</th>\n",
        "      <th>522731159010</th>\n",
        "      <th>523315388729</th>\n",
        "      <th>...</th>\n",
        "      <th>522711014120</th>\n",
        "      <th>522461102931</th>\n",
        "      <th>522361159848</th>\n",
        "      <th>522831167977</th>\n",
        "      <th>522484926731</th>\n",
        "      <th>522226758852</th>\n",
        "      <th>522481278803</th>\n",
        "    </tr>\n",
        "  </thead>\n",
        "  <tbody>\n",
        "    <tr>\n",
        "      <th>pv</th>\n",
        "      <td> 91939</td>\n",
        "      <td> 82284</td>\n",
        "      <td> 78809</td>\n",
        "      <td> 75907</td>\n",
        "      <td> 72598</td>\n",
        "      <td> 72157</td>\n",
        "      <td> 71189</td>\n",
        "      <td>...</td>\n",
        "      <td> 63948</td>\n",
        "      <td> 63313</td>\n",
        "      <td> 62612</td>\n",
        "      <td> 62360</td>\n",
        "      <td> 61488</td>\n",
        "      <td> 60882</td>\n",
        "      <td> 60790</td>\n",
        "    </tr>\n",
        "  </tbody>\n",
        "</table>\n",
        "<p>1 rows \u00d7 20 columns</p>\n",
        "</div>"
       ],
       "metadata": {},
       "output_type": "pyout",
       "prompt_number": 230,
       "text": [
        "msisdn  522226680666  \\\n",
        "pv             91939   \n",
        "\n",
        "msisdn  522461478680  \\\n",
        "pv             82284   \n",
        "\n",
        "msisdn  522221148051  \\\n",
        "pv             78809   \n",
        "\n",
        "msisdn  522721571708  \\\n",
        "pv             75907   \n",
        "\n",
        "msisdn  522711807881  \\\n",
        "pv             72598   \n",
        "\n",
        "msisdn  522731159010  \\\n",
        "pv             72157   \n",
        "\n",
        "msisdn  523315388729  \\\n",
        "pv             71189   \n",
        "\n",
        "msisdn      ...       \\\n",
        "pv          ...        \n",
        "\n",
        "msisdn  522711014120  \\\n",
        "pv             63948   \n",
        "\n",
        "msisdn  522461102931  \\\n",
        "pv             63313   \n",
        "\n",
        "msisdn  522361159848  \\\n",
        "pv             62612   \n",
        "\n",
        "msisdn  522831167977  \\\n",
        "pv             62360   \n",
        "\n",
        "msisdn  522484926731  \\\n",
        "pv             61488   \n",
        "\n",
        "msisdn  522226758852  \\\n",
        "pv             60882   \n",
        "\n",
        "msisdn  522481278803  \n",
        "pv             60790  \n",
        "\n",
        "[1 rows x 20 columns]"
       ]
      }
     ],
     "prompt_number": 230
    },
    {
     "cell_type": "code",
     "collapsed": false,
     "input": [
      "fn=file_name+'.top20b'\n",
      "top20.reset_index().msisdn.to_csv(fn,header=False,index=False)\n",
      "!head {fn}"
     ],
     "language": "python",
     "metadata": {
      "run_control": {
       "breakpoint": false
      }
     },
     "outputs": [
      {
       "output_type": "stream",
       "stream": "stdout",
       "text": [
        "522226680666\r\n",
        "523317113646\r\n",
        "522461478680\r\n",
        "522731173370\r\n",
        "522221148051\r\n",
        "523316982406\r\n",
        "523310945419\r\n",
        "522251048305\r\n",
        "522711807881\r\n",
        "522224387517\r\n"
       ]
      }
     ],
     "prompt_number": 214
    },
    {
     "cell_type": "code",
     "collapsed": false,
     "input": [
      "sns.violinplot(stats_per_msisdn)"
     ],
     "language": "python",
     "metadata": {
      "run_control": {
       "breakpoint": false
      }
     },
     "outputs": [
      {
       "metadata": {},
       "output_type": "pyout",
       "prompt_number": 192,
       "text": [
        "<matplotlib.axes._subplots.AxesSubplot at 0x151eb0f50>"
       ]
      },
      {
       "metadata": {},
       "output_type": "display_data",
       "png": "[encoded data removed]",
       "text": [
        "<matplotlib.figure.Figure at 0x152972d50>"
       ]
      }
     ],
     "prompt_number": 192
    },
    {
     "cell_type": "code",
     "collapsed": false,
     "input": [
      "sns.kdeplot(stats_per_msisdn.pv,shade=True)"
     ],
     "language": "python",
     "metadata": {
      "run_control": {
       "breakpoint": false
      }
     },
     "outputs": [
      {
       "metadata": {},
       "output_type": "pyout",
       "prompt_number": 195,
       "text": [
        "<matplotlib.axes._subplots.AxesSubplot at 0x1510d2b50>"
       ]
      },
      {
       "metadata": {},
       "output_type": "display_data",
       "png": "[encoded data removed]",
       "text": [
        "<matplotlib.figure.Figure at 0x1510e5f50>"
       ]
      }
     ],
     "prompt_number": 195
    }
   ],
   "metadata": {}
  }
 ]
}