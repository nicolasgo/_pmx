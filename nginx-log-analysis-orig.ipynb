{
 "metadata": {
  "name": "",
  "signature": "sha256:bb93039405bd0429d125168b8b1e18d51384500eb24e8d65e1b3f836a4dc81ae"
 },
 "nbformat": 3,
 "nbformat_minor": 0,
 "worksheets": [
  {
   "cells": [
    {
     "cell_type": "heading",
     "level": 1,
     "metadata": {},
     "source": [
      "Nginx log analysis with pandas and matplotlib"
     ]
    },
    {
     "cell_type": "markdown",
     "metadata": {},
     "source": [
      "By Jess Johnson [http://grokcode.com](http://grokcode.com)\n",
      "\n",
      "This notebook analyzes Nginx access logs in order to estimate the capacity needed to survive a traffic spike. I'm looking at access logs for [Author Alcove](http://authoralcove.com) which was hit by a big traffic spike when it spent around 24 hours at the top of [/r/books](http://reddit.com/r/books/). The site was hugged to death by reddit. Visitors experienced very slow load times, and many people couldn't access the site at all due to 50x errors. So let's estimate how much extra capacity would be needed to survive this spike.\n",
      "\n",
      "The source for this notebook is located on [github](https://github.com/grokcode/ipython-notebooks). See a mistake? Pull requests welcome.\n",
      "\n",
      "Thanks to Nikolay Koldunov for his [notebook on Apache log analysis](http://nbviewer.ipython.org/github/koldunovn/nk_public_notebooks/blob/master/Apache_log.ipynb), and thanks to my bro Aaron for the much needed optimism and server optimization tips while everything was on fire.\n",
      "\n",
      "OK let's get started."
     ]
    },
    {
     "cell_type": "heading",
     "level": 2,
     "metadata": {},
     "source": [
      "Setup"
     ]
    },
    {
     "cell_type": "code",
     "collapsed": false,
     "input": [
      "%pylab inline\n",
      "file_name=_rootdir+'data/fs01/short.log'"
     ],
     "language": "python",
     "metadata": {},
     "outputs": [
      {
       "output_type": "stream",
       "stream": "stdout",
       "text": [
        "Populating the interactive namespace from numpy and matplotlib\n"
       ]
      }
     ],
     "prompt_number": 2
    },
    {
     "cell_type": "markdown",
     "metadata": {},
     "source": [
      "Let's import the usual suspects."
     ]
    },
    {
     "cell_type": "code",
     "collapsed": false,
     "input": [
      "import pandas as pd\n",
      "import numpy as np\n",
      "import sys\n",
      "import matplotlib.pyplot as plt\n"
     ],
     "language": "python",
     "metadata": {},
     "outputs": [],
     "prompt_number": 3
    },
    {
     "cell_type": "markdown",
     "metadata": {},
     "source": [
      "We will also use [apachelog](https://code.google.com/p/apachelog/), which is a module for parsing apache logs, but it works fine with nginx logs as long as we give it the right format string. You can install it with `pip install apachelog`.  "
     ]
    },
    {
     "cell_type": "code",
     "collapsed": false,
     "input": [
      "import apachelog"
     ],
     "language": "python",
     "metadata": {},
     "outputs": [],
     "prompt_number": 4
    },
    {
     "cell_type": "heading",
     "level": 2,
     "metadata": {},
     "source": [
      "Parsing the log"
     ]
    },
    {
     "cell_type": "markdown",
     "metadata": {},
     "source": [
      "I started out by doing some command line preprocessing on the log in order to remove bots. I used `egrep -v` to filter out the bots that were hitting the site the most often. These were Googlebot, Bingbot, the New Relic uptime checker, Buidu spider, and a few others. A more careful approach would filter out everything on one of the known bot lists ([like this one](http://www.robotstxt.org/db.html)), but I'm going to play it a bit fast and loose.\n",
      "\n",
      "First of all let's get a sample line out of the `access.log` and try to parse it. Here is a description of the codes in the log format we are working with:\n",
      "\n",
      "    %h          - remote host (ie the client IP)\n",
      "    %l          - identity of the user determined by identd (not usually used since not reliable)\n",
      "    %u          - user name determined by HTTP authentication\n",
      "    %t          - time the server finished processing the request.\n",
      "    %r          - request line from the client. (\"GET / HTTP/1.0\")\n",
      "    %>s         - status code sent from the server to the client (200, 404 etc.)\n",
      "    %b          - size of the response to the client (in bytes)\n",
      "    %i      - Referer is the page that linked to this URL.\n",
      "    User-agent  - the browser identification string\n",
      "    %V          - the server name according to the UseCanonicalName setting"
     ]
    },
    {
     "cell_type": "code",
     "collapsed": false,
     "input": [
      "sample_string = '170.51.255.15 172.65.160.156, 170.51.255.15 - [30/Jan/2015:00:26:03 -0500] \\\n",
      "\"GET /62701/01/12/33/45/00/1413610395.2862_R8w9kIx7ldsm1G_1mKg6D/listing.jpg HTTP/1.1\" 200 24300 \\\n",
      "\"http://z.claroar.mobi/ar.plugger.com/mymedia/content/54332110\" \\\n",
      "\"SAMSUNG-GT-E2120L/1.0 Profile/MIDP-2.0 Configuration/CLDC-1.1 UP.Browser/6.2.3.3.c.1.101 (GUI) MMP/2.0\" \\\n",
      "5492615184373'\n",
      "\n",
      "'''178.137.91.215 - - [21/Feb/2014:06:44:53 +0000] \"GET /work/homepages-maths-year-6/ HTTP/1.0\" \\\n",
      "200 10427 \"http://authoralcove.com/work/homepages-maths-year-6/\" \"Opera/9.80 (Windows NT 6.1; WOW64; U; ru) \\\n",
      "Presto/2.10.289 Version/12.00\" \"-\"'\n",
      "'''\n",
      "nformat1 = r'%h %l %u %t \\\"%r\\\" %>s %b \\\"%i\\\" \\\"%{User-Agent}i\\\" %{msisdn}b'\n",
      "nformat2 = r'%h %l %u %t \\\"%r\\\" %>s %b \\\"%i\\\" \\\"%{User-Agent}i\\\" %{msisdn}b %{hexa}i \\\"%V\\\"'\n",
      "nformat3 = r'%h %l, %u %t \\\"%r\\\" %>s %b \\\"%i\\\" \\\"%{User-Agent}i\\\" %{msisdn}b'\n",
      "nformat4 = r'%h %l, %u %u %t \\\"%r\\\" %>s %b \\\"%i\\\" \\\"%{User-Agent}i\\\" %{msisdn}b %{hexa}i \\\"%V\\\"'\n",
      "nformat5 = r'%h %l, %u %u %t \\\"%r\\\" %>s %b \\\"%i\\\" \\\"%{User-Agent}i\\\" %{msisdn}b'\n",
      "\n",
      "\n",
      "p1 = apachelog.parser(nformat1)\n",
      "p2 = apachelog.parser(nformat2)\n",
      "p3 = apachelog.parser(nformat3)\n",
      "p4 = apachelog.parser(nformat4)\n",
      "p5 = apachelog.parser(nformat5)\n",
      "\n",
      "\n",
      "data = p5.parse(sample_string)\n",
      "data"
     ],
     "language": "python",
     "metadata": {},
     "outputs": [
      {
       "metadata": {},
       "output_type": "pyout",
       "prompt_number": 5,
       "text": [
        "{'%>s': '200',\n",
        " '%b': '24300',\n",
        " '%h': '170.51.255.15',\n",
        " '%i': 'http://z.claroar.mobi/ar.plugger.com/mymedia/content/54332110',\n",
        " '%l,': '172.65.160.156,',\n",
        " '%r': 'GET /62701/01/12/33/45/00/1413610395.2862_R8w9kIx7ldsm1G_1mKg6D/listing.jpg HTTP/1.1',\n",
        " '%t': '[30/Jan/2015:00:26:03 -0500]',\n",
        " '%u': '-',\n",
        " '%{User-Agent}i': 'SAMSUNG-GT-E2120L/1.0 Profile/MIDP-2.0 Configuration/CLDC-1.1 UP.Browser/6.2.3.3.c.1.101 (GUI) MMP/2.0',\n",
        " '%{msisdn}b': '5492615184373'}"
       ]
      }
     ],
     "prompt_number": 5
    },
    {
     "cell_type": "markdown",
     "metadata": {},
     "source": [
      "Now let's parse each line while preparing the access time so that pandas will be able to handle it."
     ]
    },
    {
     "cell_type": "code",
     "collapsed": false,
     "input": [
      "from apachelog import ApacheLogParserError\n",
      "log_list = []\n",
      "count=0\n",
      "missed=''\n",
      "with open(file_name) as f:\n",
      "    for line in f.readlines():\n",
      "        try:\n",
      "            data = p1.parse(line)\n",
      "        except ApacheLogParserError:\n",
      "            try:\n",
      "                data = p2.parse(line)\n",
      "            except ApacheLogParserError:\n",
      "                try:\n",
      "                    data = p3.parse(line)\n",
      "                except ApacheLogParserError:\n",
      "                    try:\n",
      "                        data = p4.parse(line)\n",
      "                    except ApacheLogParserError:\n",
      "                        try:\n",
      "                            data = p5.parse(line)\n",
      "                        except ApacheLogParserError:\n",
      "                            count +=1\n",
      "                            missed=line\n",
      "                            pass\n",
      "#                    sys.stderr.write(\"Unable to parse %s\" % line)\n",
      "#                    break\n",
      "        data['%t'] = data['%t'][1:12]+' '+data['%t'][13:21]+' '+data['%t'][22:27]\n",
      "        log_list.append(data)\n",
      "print 'missed %d lines: %s'%(count,missed)"
     ],
     "language": "python",
     "metadata": {},
     "outputs": [
      {
       "output_type": "stream",
       "stream": "stdout",
       "text": [
        "missed 0 lines: \n"
       ]
      }
     ],
     "prompt_number": 6
    },
    {
     "cell_type": "markdown",
     "metadata": {},
     "source": [
      "Loading into pandas."
     ]
    },
    {
     "cell_type": "code",
     "collapsed": false,
     "input": [
      "from pandas import Series, DataFrame, Panel\n",
      "df = DataFrame(log_list)\n",
      "df[0:2]"
     ],
     "language": "python",
     "metadata": {},
     "outputs": [
      {
       "html": [
        "<div style=\"max-height:1000px;max-width:1500px;overflow:auto;\">\n",
        "<table border=\"1\" class=\"dataframe\">\n",
        "  <thead>\n",
        "    <tr style=\"text-align: right;\">\n",
        "      <th></th>\n",
        "      <th>%&gt;s</th>\n",
        "      <th>%b</th>\n",
        "      <th>%h</th>\n",
        "      <th>%i</th>\n",
        "      <th>%l</th>\n",
        "      <th>%l,</th>\n",
        "      <th>%r</th>\n",
        "      <th>%t</th>\n",
        "      <th>%u</th>\n",
        "      <th>%{User-Agent}i</th>\n",
        "      <th>%{msisdn}b</th>\n",
        "    </tr>\n",
        "  </thead>\n",
        "  <tbody>\n",
        "    <tr>\n",
        "      <th>0</th>\n",
        "      <td> 200</td>\n",
        "      <td> 2717</td>\n",
        "      <td> 187.237.107.154</td>\n",
        "      <td>  http://mx.plugger.com/profile/8716350/media</td>\n",
        "      <td> 187.237.107.154</td>\n",
        "      <td> NaN</td>\n",
        "      <td> GET /62702/25/08/29/96/00/1420397692.1576_Jgku...</td>\n",
        "      <td> 29/Jan/2015 00:25:09 -0500</td>\n",
        "      <td> -</td>\n",
        "      <td> Mozilla/5.0 (Linux; U; Android 2.3.6; es-us; L...</td>\n",
        "      <td> 529671335959</td>\n",
        "    </tr>\n",
        "    <tr>\n",
        "      <th>1</th>\n",
        "      <td> 200</td>\n",
        "      <td> 2304</td>\n",
        "      <td> 187.237.107.168</td>\n",
        "      <td> http://mx.plugger.com/profile/17101357/media</td>\n",
        "      <td> 187.237.107.168</td>\n",
        "      <td> NaN</td>\n",
        "      <td> GET /62701/80/76/70/44/00/1408084077.6299_aWpy...</td>\n",
        "      <td> 29/Jan/2015 00:25:09 -0500</td>\n",
        "      <td> -</td>\n",
        "      <td> Mozilla/5.0 (compatible; MSIE 10.0; Windows Ph...</td>\n",
        "      <td> 529231166188</td>\n",
        "    </tr>\n",
        "  </tbody>\n",
        "</table>\n",
        "</div>"
       ],
       "metadata": {},
       "output_type": "pyout",
       "prompt_number": 7,
       "text": [
        "   %>s  \\\n",
        "0  200   \n",
        "1  200   \n",
        "\n",
        "     %b  \\\n",
        "0  2717   \n",
        "1  2304   \n",
        "\n",
        "                %h  \\\n",
        "0  187.237.107.154   \n",
        "1  187.237.107.168   \n",
        "\n",
        "                                             %i  \\\n",
        "0   http://mx.plugger.com/profile/8716350/media   \n",
        "1  http://mx.plugger.com/profile/17101357/media   \n",
        "\n",
        "                %l  \\\n",
        "0  187.237.107.154   \n",
        "1  187.237.107.168   \n",
        "\n",
        "   %l,  \\\n",
        "0  NaN   \n",
        "1  NaN   \n",
        "\n",
        "                                                  %r  \\\n",
        "0  GET /62702/25/08/29/96/00/1420397692.1576_Jgku...   \n",
        "1  GET /62701/80/76/70/44/00/1408084077.6299_aWpy...   \n",
        "\n",
        "                           %t  \\\n",
        "0  29/Jan/2015 00:25:09 -0500   \n",
        "1  29/Jan/2015 00:25:09 -0500   \n",
        "\n",
        "  %u  \\\n",
        "0  -   \n",
        "1  -   \n",
        "\n",
        "                                      %{User-Agent}i  \\\n",
        "0  Mozilla/5.0 (Linux; U; Android 2.3.6; es-us; L...   \n",
        "1  Mozilla/5.0 (compatible; MSIE 10.0; Windows Ph...   \n",
        "\n",
        "     %{msisdn}b  \n",
        "0  529671335959  \n",
        "1  529231166188  "
       ]
      }
     ],
     "prompt_number": 7
    },
    {
     "cell_type": "markdown",
     "metadata": {},
     "source": [
      "Now lets clean up the pandas dataframe a bit by deleting some columns we aren't interested in and renaming the remaining columns."
     ]
    },
    {
     "cell_type": "code",
     "collapsed": false,
     "input": [
      "t=['%h','%i','%l','%u','%{User-Agent}i','%{hexa}i','%V']\n",
      "\n",
      "for e in t:\n",
      "    try :\n",
      "        del df[e]\n",
      "    except :\n",
      "        pass\n",
      "    \n",
      "try :\n",
      "    df = df.rename(columns={'%>s': 'status', '%b':'b', \n",
      "                            '%r':'request', '%t': 'time', '%{msisdn}b': 'msisdn'})\n",
      "except :\n",
      "    pass\n",
      "\n",
      "df[0:2]"
     ],
     "language": "python",
     "metadata": {},
     "outputs": [
      {
       "html": [
        "<div style=\"max-height:1000px;max-width:1500px;overflow:auto;\">\n",
        "<table border=\"1\" class=\"dataframe\">\n",
        "  <thead>\n",
        "    <tr style=\"text-align: right;\">\n",
        "      <th></th>\n",
        "      <th>status</th>\n",
        "      <th>b</th>\n",
        "      <th>%l,</th>\n",
        "      <th>request</th>\n",
        "      <th>time</th>\n",
        "      <th>msisdn</th>\n",
        "    </tr>\n",
        "  </thead>\n",
        "  <tbody>\n",
        "    <tr>\n",
        "      <th>0</th>\n",
        "      <td> 200</td>\n",
        "      <td> 2717</td>\n",
        "      <td> NaN</td>\n",
        "      <td> GET /62702/25/08/29/96/00/1420397692.1576_Jgku...</td>\n",
        "      <td> 29/Jan/2015 00:25:09 -0500</td>\n",
        "      <td> 529671335959</td>\n",
        "    </tr>\n",
        "    <tr>\n",
        "      <th>1</th>\n",
        "      <td> 200</td>\n",
        "      <td> 2304</td>\n",
        "      <td> NaN</td>\n",
        "      <td> GET /62701/80/76/70/44/00/1408084077.6299_aWpy...</td>\n",
        "      <td> 29/Jan/2015 00:25:09 -0500</td>\n",
        "      <td> 529231166188</td>\n",
        "    </tr>\n",
        "  </tbody>\n",
        "</table>\n",
        "</div>"
       ],
       "metadata": {},
       "output_type": "pyout",
       "prompt_number": 8,
       "text": [
        "  status  \\\n",
        "0    200   \n",
        "1    200   \n",
        "\n",
        "      b  \\\n",
        "0  2717   \n",
        "1  2304   \n",
        "\n",
        "   %l,  \\\n",
        "0  NaN   \n",
        "1  NaN   \n",
        "\n",
        "                                             request  \\\n",
        "0  GET /62702/25/08/29/96/00/1420397692.1576_Jgku...   \n",
        "1  GET /62701/80/76/70/44/00/1408084077.6299_aWpy...   \n",
        "\n",
        "                         time  \\\n",
        "0  29/Jan/2015 00:25:09 -0500   \n",
        "1  29/Jan/2015 00:25:09 -0500   \n",
        "\n",
        "         msisdn  \n",
        "0  529671335959  \n",
        "1  529231166188  "
       ]
      }
     ],
     "prompt_number": 8
    },
    {
     "cell_type": "markdown",
     "metadata": {},
     "source": [
      "Massage the data a bit more so that the access time is a `datetime`, status is an `int`, and the response size is in MB, with missing data represented as `NaN`, not `-`."
     ]
    },
    {
     "cell_type": "code",
     "collapsed": false,
     "input": [
      "df.index = pd.to_datetime(df.pop('time'))"
     ],
     "language": "python",
     "metadata": {},
     "outputs": [],
     "prompt_number": 9
    },
    {
     "cell_type": "code",
     "collapsed": false,
     "input": [
      "df['status'] = df['status'].astype('int')"
     ],
     "language": "python",
     "metadata": {},
     "outputs": [],
     "prompt_number": 10
    },
    {
     "cell_type": "code",
     "collapsed": false,
     "input": [
      "def dash2nan(x):\n",
      "    if x == '-':\n",
      "        x = np.nan\n",
      "    else:\n",
      "        x = float(x)/1048576.\n",
      "    \n",
      "    return x\n",
      "df['b'] = df['b'].apply(dash2nan)"
     ],
     "language": "python",
     "metadata": {},
     "outputs": [],
     "prompt_number": 11
    },
    {
     "cell_type": "heading",
     "level": 2,
     "metadata": {},
     "source": [
      "Analysis"
     ]
    },
    {
     "cell_type": "markdown",
     "metadata": {},
     "source": [
      "Let's graph the data to visualize what is happening.\n",
      "\n",
      "First let's increase the graph size."
     ]
    },
    {
     "cell_type": "code",
     "collapsed": false,
     "input": [
      "from pylab import *\n",
      "rcParams['figure.figsize'] = 10, 5 # width, height in inches"
     ],
     "language": "python",
     "metadata": {},
     "outputs": [],
     "prompt_number": 12
    },
    {
     "cell_type": "markdown",
     "metadata": {},
     "source": [
      "Now let's graph the requests hitting the web server. `10t` will use a 10 minute interval size, so each point on the graph shows the number of requestes in a 10 minute window."
     ]
    },
    {
     "cell_type": "code",
     "collapsed": false,
     "input": [
      "df_s = df['status'].resample('10t', how='count')\n",
      "df_s.plot()\n"
     ],
     "language": "python",
     "metadata": {},
     "outputs": [
      {
       "metadata": {},
       "output_type": "pyout",
       "prompt_number": 13,
       "text": [
        "<matplotlib.axes._subplots.AxesSubplot at 0x1095c2b90>"
       ]
      },
      {
       "metadata": {},
       "output_type": "display_data",
       "png": "[encoded data removed]",
       "text": [
        "<matplotlib.figure.Figure at 0x1095d3e50>"
       ]
      }
     ],
     "prompt_number": 13
    },
    {
     "cell_type": "markdown",
     "metadata": {},
     "source": [
      "Above we see that we were peaking at around 4500 requests every 10 minutes, or about 450 requests a minute. There was a quick ramp up as the site climbed to the top position on /r/books, then a drop off overnight (for US timezones), another peak the next day as people woke up, and then a decline as the site fell back down the /r/books page.\n",
      "\n",
      "Let's see how the server held up by looking at some response codes."
     ]
    },
    {
     "cell_type": "code",
     "collapsed": false,
     "input": [
      "df['status'].value_counts()"
     ],
     "language": "python",
     "metadata": {},
     "outputs": [
      {
       "metadata": {},
       "output_type": "pyout",
       "prompt_number": 14,
       "text": [
        "200    18807\n",
        "404     1188\n",
        "403        4\n",
        "301        1\n",
        "dtype: int64"
       ]
      }
     ],
     "prompt_number": 14
    },
    {
     "cell_type": "markdown",
     "metadata": {},
     "source": [
      "There are quite a few 500 errors here. 499 errors are also bad news because it means that the client closed the connection before the page could be served. These are almost certainly because the site wasn't responding in a reasonable timeframe.\n",
      "\n",
      "Let's graph the response codes."
     ]
    },
    {
     "cell_type": "code",
     "collapsed": false,
     "input": [
      "grouped_status = df.groupby('status')\n",
      "grouped_status.size().plot(kind='bar')"
     ],
     "language": "python",
     "metadata": {},
     "outputs": [
      {
       "metadata": {},
       "output_type": "pyout",
       "prompt_number": 15,
       "text": [
        "<matplotlib.axes._subplots.AxesSubplot at 0x109bc0950>"
       ]
      },
      {
       "metadata": {},
       "output_type": "display_data",
       "png": "[encoded data removed]",
       "text": [
        "<matplotlib.figure.Figure at 0x1095d3550>"
       ]
      }
     ],
     "prompt_number": 15
    },
    {
     "cell_type": "markdown",
     "metadata": {},
     "source": [
      "OK that doesn't look too bad. The vast majority of requests were served a 200 (OK) response.\n",
      "\n",
      "Let's graph the most common response codes over time, with a sample timespan of 1 hour."
     ]
    },
    {
     "cell_type": "code",
     "collapsed": false,
     "input": [
      "t_span = '60t'\n",
      "df_200 = df['status'][df['status'] == 200].resample(t_span, how='count')\n",
      "df_502 = df['status'][df['status'] == 502].resample(t_span, how='count')\n",
      "df_499 = df['status'][df['status'] == 499].resample(t_span, how='count')\n",
      "df_304 = df['status'][df['status'] == 304].resample(t_span, how='count')\n",
      "df_302 = df['status'][df['status'] == 302].resample(t_span, how='count')\n",
      "df_404 = df['status'][df['status'] == 404].resample(t_span, how='count')\n",
      "df_504 = df['status'][df['status'] == 504].resample(t_span, how='count')\n",
      "df_301 = df['status'][df['status'] == 301].resample(t_span, how='count')\n",
      "\n",
      "\n",
      "status_df = DataFrame({'OK': df_200, \n",
      "                       'Bad Gateway': df_502, \n",
      "                       'Client Closed': df_499, \n",
      "                       'Not Modified': df_304, \n",
      "                       'Found': df_302, \n",
      "                       'Not Found': df_404,\n",
      "                       'Gateway Timeout': df_504,\n",
      "                       'Moved Permenantely': df_301})"
     ],
     "language": "python",
     "metadata": {},
     "outputs": [],
     "prompt_number": 16
    },
    {
     "cell_type": "code",
     "collapsed": false,
     "input": [
      "status_df.fillna(0, inplace=True)\n",
      "status_df[0:5]"
     ],
     "language": "python",
     "metadata": {},
     "outputs": [
      {
       "html": [
        "<div style=\"max-height:1000px;max-width:1500px;overflow:auto;\">\n",
        "<table border=\"1\" class=\"dataframe\">\n",
        "  <thead>\n",
        "    <tr style=\"text-align: right;\">\n",
        "      <th></th>\n",
        "      <th>Bad Gateway</th>\n",
        "      <th>Client Closed</th>\n",
        "      <th>Found</th>\n",
        "      <th>Gateway Timeout</th>\n",
        "      <th>Moved Permenantely</th>\n",
        "      <th>Not Found</th>\n",
        "      <th>Not Modified</th>\n",
        "      <th>OK</th>\n",
        "    </tr>\n",
        "    <tr>\n",
        "      <th>time</th>\n",
        "      <th></th>\n",
        "      <th></th>\n",
        "      <th></th>\n",
        "      <th></th>\n",
        "      <th></th>\n",
        "      <th></th>\n",
        "      <th></th>\n",
        "      <th></th>\n",
        "    </tr>\n",
        "  </thead>\n",
        "  <tbody>\n",
        "    <tr>\n",
        "      <th>2015-01-29 05:00:00</th>\n",
        "      <td> 0</td>\n",
        "      <td> 0</td>\n",
        "      <td> 0</td>\n",
        "      <td> 0</td>\n",
        "      <td> 0</td>\n",
        "      <td> 624</td>\n",
        "      <td> 0</td>\n",
        "      <td> 9375</td>\n",
        "    </tr>\n",
        "    <tr>\n",
        "      <th>2015-01-29 06:00:00</th>\n",
        "      <td> 0</td>\n",
        "      <td> 0</td>\n",
        "      <td> 0</td>\n",
        "      <td> 0</td>\n",
        "      <td> 0</td>\n",
        "      <td>   0</td>\n",
        "      <td> 0</td>\n",
        "      <td>    0</td>\n",
        "    </tr>\n",
        "    <tr>\n",
        "      <th>2015-01-29 07:00:00</th>\n",
        "      <td> 0</td>\n",
        "      <td> 0</td>\n",
        "      <td> 0</td>\n",
        "      <td> 0</td>\n",
        "      <td> 0</td>\n",
        "      <td>   0</td>\n",
        "      <td> 0</td>\n",
        "      <td>    0</td>\n",
        "    </tr>\n",
        "    <tr>\n",
        "      <th>2015-01-29 08:00:00</th>\n",
        "      <td> 0</td>\n",
        "      <td> 0</td>\n",
        "      <td> 0</td>\n",
        "      <td> 0</td>\n",
        "      <td> 0</td>\n",
        "      <td>   0</td>\n",
        "      <td> 0</td>\n",
        "      <td>    0</td>\n",
        "    </tr>\n",
        "    <tr>\n",
        "      <th>2015-01-29 09:00:00</th>\n",
        "      <td> 0</td>\n",
        "      <td> 0</td>\n",
        "      <td> 0</td>\n",
        "      <td> 0</td>\n",
        "      <td> 0</td>\n",
        "      <td>   0</td>\n",
        "      <td> 0</td>\n",
        "      <td>    0</td>\n",
        "    </tr>\n",
        "  </tbody>\n",
        "</table>\n",
        "</div>"
       ],
       "metadata": {},
       "output_type": "pyout",
       "prompt_number": 17,
       "text": [
        "                     Bad Gateway  \\\n",
        "time                               \n",
        "2015-01-29 05:00:00            0   \n",
        "2015-01-29 06:00:00            0   \n",
        "2015-01-29 07:00:00            0   \n",
        "2015-01-29 08:00:00            0   \n",
        "2015-01-29 09:00:00            0   \n",
        "\n",
        "                     Client Closed  \\\n",
        "time                                 \n",
        "2015-01-29 05:00:00              0   \n",
        "2015-01-29 06:00:00              0   \n",
        "2015-01-29 07:00:00              0   \n",
        "2015-01-29 08:00:00              0   \n",
        "2015-01-29 09:00:00              0   \n",
        "\n",
        "                     Found  \\\n",
        "time                         \n",
        "2015-01-29 05:00:00      0   \n",
        "2015-01-29 06:00:00      0   \n",
        "2015-01-29 07:00:00      0   \n",
        "2015-01-29 08:00:00      0   \n",
        "2015-01-29 09:00:00      0   \n",
        "\n",
        "                     Gateway Timeout  \\\n",
        "time                                   \n",
        "2015-01-29 05:00:00                0   \n",
        "2015-01-29 06:00:00                0   \n",
        "2015-01-29 07:00:00                0   \n",
        "2015-01-29 08:00:00                0   \n",
        "2015-01-29 09:00:00                0   \n",
        "\n",
        "                     Moved Permenantely  \\\n",
        "time                                      \n",
        "2015-01-29 05:00:00                   0   \n",
        "2015-01-29 06:00:00                   0   \n",
        "2015-01-29 07:00:00                   0   \n",
        "2015-01-29 08:00:00                   0   \n",
        "2015-01-29 09:00:00                   0   \n",
        "\n",
        "                     Not Found  \\\n",
        "time                             \n",
        "2015-01-29 05:00:00        624   \n",
        "2015-01-29 06:00:00          0   \n",
        "2015-01-29 07:00:00          0   \n",
        "2015-01-29 08:00:00          0   \n",
        "2015-01-29 09:00:00          0   \n",
        "\n",
        "                     Not Modified  \\\n",
        "time                                \n",
        "2015-01-29 05:00:00             0   \n",
        "2015-01-29 06:00:00             0   \n",
        "2015-01-29 07:00:00             0   \n",
        "2015-01-29 08:00:00             0   \n",
        "2015-01-29 09:00:00             0   \n",
        "\n",
        "                       OK  \n",
        "time                       \n",
        "2015-01-29 05:00:00  9375  \n",
        "2015-01-29 06:00:00     0  \n",
        "2015-01-29 07:00:00     0  \n",
        "2015-01-29 08:00:00     0  \n",
        "2015-01-29 09:00:00     0  "
       ]
      }
     ],
     "prompt_number": 17
    },
    {
     "cell_type": "code",
     "collapsed": false,
     "input": [
      "status_df.plot()\n",
      "legend()"
     ],
     "language": "python",
     "metadata": {},
     "outputs": [
      {
       "metadata": {},
       "output_type": "pyout",
       "prompt_number": 18,
       "text": [
        "<matplotlib.legend.Legend at 0x109ba5050>"
       ]
      },
      {
       "metadata": {},
       "output_type": "display_data",
       "png": "[encoded data removed]",
       "text": [
        "<matplotlib.figure.Figure at 0x10906ea10>"
       ]
      }
     ],
     "prompt_number": 18
    },
    {
     "cell_type": "markdown",
     "metadata": {},
     "source": [
      "This doesn't look too bad either, but it's hard to make sense of what is going on with so many different response codes. Let's group them into success (web server handled it as expected) and failure (web server error or client closed request).\n",
      "\n",
      "    200    413236    Success    OK \n",
      "    502     39769    Failure    Bad Gateway\n",
      "    499     37443    Failure    Client closed request\n",
      "    304     29777    Success    Not modified\n",
      "    302      9467    Success    Found\n",
      "    404      8171    Success    Not Found\n",
      "    504      8105    Failure    Gateway timeout\n",
      "    301      1743    Success    Moved permanently\n",
      "    401       677    Success    Unauthorized\n",
      "    403       262    Success    Forbidden\n",
      "    500       171    Failure    Internal server error\n",
      "    206        51    Success    Partial content\n",
      "    444        40    Failure?   No response\n",
      "    400        20    Success?   Bad request\n",
      "    408         4    Success?   Request timeout\n",
      "    405         1    Success?   Method not allowed"
     ]
    },
    {
     "cell_type": "code",
     "collapsed": false,
     "input": [
      "success_df = df[df['status'].isin([200, 304, 302, 404, 301, 401, 403, 206, 444, 400, 408, 405])].resample(t_span, how='count')\n",
      "fail_df = df[df['status'].isin([502, 499, 504, 500, 444])].resample(t_span, how='count')\n",
      "try:\n",
      "    success_df.plot(label=\"Success\")\n",
      "    fail_df.plot(label=\"Failure\")\n",
      "except TypeError:\n",
      "    pass\n",
      "legend()"
     ],
     "language": "python",
     "metadata": {},
     "outputs": []
    },
    {
     "cell_type": "markdown",
     "metadata": {},
     "source": [
      "Those are the requests served by nginx, so it includes both static files like css and javascript and dynamic content that was passed off to the Django app running on uwsgi. Let's filter out the static files and see how uwsgi did. In this case almost all of the static files have `/static/` in the path with a few exceptions such as the `favicon.ico`.\n"
     ]
    },
    {
     "cell_type": "code",
     "collapsed": false,
     "input": [
      "dynamic_df = df[df['request'].str.contains(r'^GET /(static|favicon.ico)') == False]\n",
      "dynamic_df[0:10]"
     ],
     "language": "python",
     "metadata": {},
     "outputs": []
    },
    {
     "cell_type": "code",
     "collapsed": false,
     "input": [
      "success_df = dynamic_df[dynamic_df['status'].isin([200, 304, 302, 301, 401])].resample(t_span, how='count')\n",
      "fail_df = dynamic_df[dynamic_df['status'].isin([502, 499, 504, 500])].resample(t_span, how='count')\n",
      "success_df.plot(label=\"Success\", color=\"g\")\n",
      "fail_df.plot(label=\"Failure\", color=\"r\")\n",
      "legend()"
     ],
     "language": "python",
     "metadata": {},
     "outputs": []
    },
    {
     "cell_type": "markdown",
     "metadata": {},
     "source": [
      "Ouch! So during the initial peak, uwsgi is failing more often than not. Let's look at the same data in a stacked bar chart."
     ]
    },
    {
     "cell_type": "code",
     "collapsed": false,
     "input": [
      "responses_df = DataFrame({'Success': success_df, \n",
      "                          'Failure': fail_df,\n",
      "                          })\n",
      "responses_df.plot(kind=\"bar\", stacked=True, xticks=(), colors=(\"r\", \"g\",))"
     ],
     "language": "python",
     "metadata": {},
     "outputs": []
    },
    {
     "cell_type": "markdown",
     "metadata": {},
     "source": [
      "It looks like about 2,000 requests / hour is all uwsgi can handle before it starts to throw errors. That is only about 1 request every two seconds so that is a pretty big problem.\n",
      "\n",
      "We needed to handle 10,000 requests / hour, but we were only able to handle 2,000 requests / hour. So it looks like we would need roughly 5x the capacity to handle a spike of this size. This is a little bit misleading though because many visitors abandoned the site after hitting 50X errors and long page loads.\n",
      "\n",
      "Here is a view of the same traffic spike from Google Analytics.\n",
      "\n",
      "![Google Analytics Pageviews vs. Pages per Visit](files/data/google-analytics.png)\n",
      "\n",
      "During the spike, pages per visit were roughly half of what they normally were, so let's double the 5x estimate and plan for 10x the capacity to handle this load."
     ]
    },
    {
     "cell_type": "heading",
     "level": 2,
     "metadata": {},
     "source": [
      "Solutions"
     ]
    },
    {
     "cell_type": "markdown",
     "metadata": {},
     "source": [
      "One solution is to upgrade the server running uwsgi and use ten times the number of workers to handle requests, but let's see if we can be a bit smarter.\n",
      "\n",
      "Another solution is to optimize the web app by shortening long-running requests, but I have already picked most of the low hanging fruit there. \n",
      "\n",
      "Let's investigate to see if there are any opportunities to prevent requests from hitting uwsgi in the first place.\n",
      "\n",
      "First let's get a count pages with the most requests.\n"
     ]
    },
    {
     "cell_type": "code",
     "collapsed": false,
     "input": [
      "dynamic_df['Request'].value_counts().head(40)"
     ],
     "language": "python",
     "metadata": {},
     "outputs": []
    },
    {
     "cell_type": "markdown",
     "metadata": {},
     "source": [
      "There isn't much that can be done with the POST requests - they need to hit uwsgi so we can save new accounts or ratings in the database. So let's move on to the GET requests. There are two basic techniques for having nginx serve these pages. First, we could have uwsgi store the fully rendered page in memcached or similar, then have nginx try to pull the page from memcached and falling back to uwsgi if the page wasn't in the cache. The second idea is to have uwsgi create a static file, and then let nginx serve that if it exists. Unfortunately, in this case both of those solutions are problematic. It is beyond the scope of this notebook to go into details (hopefully I will have a separate blog post on that soon), but the gist is that for most of these pages, the content changes depending on who is viewing them, so they can't readily be cached at the page level.\n",
      "\n",
      "The biggest gain would be to make the homepage static. The homepage will redirect to a user's recommended page if they are already logged in, but we could possibly detect logged in users with nginx via the http headers and only serve the static page to logged out visitors. Let's see what proportion of visitors who hit the homepage were logged in already."
     ]
    },
    {
     "cell_type": "code",
     "collapsed": false,
     "input": [
      "dynamic_df[dynamic_df['Request'].str.contains('GET / HTTP/1.1')]['Status'].value_counts()"
     ],
     "language": "python",
     "metadata": {},
     "outputs": []
    },
    {
     "cell_type": "markdown",
     "metadata": {},
     "source": [
      "Of the visitors who were able to access the homepage, (19331 / (3053 + 946 + 19331)) * 100 = 83% were logged out. So that nginx configuration change would have saved a bit more than 40,000 requests.\n",
      "\n",
      "Out of how many total?"
     ]
    },
    {
     "cell_type": "code",
     "collapsed": false,
     "input": [
      "dynamic_df.count()"
     ],
     "language": "python",
     "metadata": {},
     "outputs": []
    },
    {
     "cell_type": "markdown",
     "metadata": {},
     "source": [
      "So that change alone would offload 13% of uwsgi's request load to nginx. That's a good start.\n",
      "\n",
      "Another thing that jumps out is that `/apple-touch-icon.png` and `/apple-touch-icon-precomposed.png` don't actually exist have to be passed off to uwsgi before they 404. Setting up nginx to serve anything ending in `.png` will save some requests. Let's see if there are any other files like that."
     ]
    },
    {
     "cell_type": "code",
     "collapsed": false,
     "input": [
      "dynamic_df[dynamic_df['Request'].str.contains(r'(png |xml |gif )')]['Request'].value_counts().head(10)"
     ],
     "language": "python",
     "metadata": {},
     "outputs": []
    },
    {
     "cell_type": "markdown",
     "metadata": {},
     "source": [
      "Let's see how many requests that will save."
     ]
    },
    {
     "cell_type": "code",
     "collapsed": false,
     "input": [
      "dynamic_df[dynamic_df['Request'].str.contains(r'(png |xml |gif )')].count()"
     ],
     "language": "python",
     "metadata": {},
     "outputs": []
    },
    {
     "cell_type": "markdown",
     "metadata": {},
     "source": [
      "That is another 3.5% of requests.\n",
      "\n",
      "Between those two changes we will save 16.5% of requests from hitting uwsgi. It isn't enough to prevent the need for a server upgrade, but it does get us a bit closer."
     ]
    },
    {
     "cell_type": "code",
     "collapsed": false,
     "input": [],
     "language": "python",
     "metadata": {},
     "outputs": []
    },
    {
     "cell_type": "code",
     "collapsed": false,
     "input": [],
     "language": "python",
     "metadata": {},
     "outputs": []
    },
    {
     "cell_type": "code",
     "collapsed": false,
     "input": [],
     "language": "python",
     "metadata": {},
     "outputs": []
    },
    {
     "cell_type": "code",
     "collapsed": false,
     "input": [],
     "language": "python",
     "metadata": {},
     "outputs": []
    },
    {
     "cell_type": "code",
     "collapsed": false,
     "input": [],
     "language": "python",
     "metadata": {},
     "outputs": []
    },
    {
     "cell_type": "code",
     "collapsed": false,
     "input": [],
     "language": "python",
     "metadata": {},
     "outputs": []
    },
    {
     "cell_type": "code",
     "collapsed": false,
     "input": [],
     "language": "python",
     "metadata": {},
     "outputs": []
    },
    {
     "cell_type": "code",
     "collapsed": false,
     "input": [],
     "language": "python",
     "metadata": {},
     "outputs": []
    },
    {
     "cell_type": "code",
     "collapsed": false,
     "input": [],
     "language": "python",
     "metadata": {},
     "outputs": []
    },
    {
     "cell_type": "code",
     "collapsed": false,
     "input": [],
     "language": "python",
     "metadata": {},
     "outputs": []
    },
    {
     "cell_type": "code",
     "collapsed": false,
     "input": [],
     "language": "python",
     "metadata": {},
     "outputs": []
    },
    {
     "cell_type": "code",
     "collapsed": false,
     "input": [],
     "language": "python",
     "metadata": {},
     "outputs": []
    },
    {
     "cell_type": "code",
     "collapsed": false,
     "input": [],
     "language": "python",
     "metadata": {},
     "outputs": []
    },
    {
     "cell_type": "code",
     "collapsed": false,
     "input": [],
     "language": "python",
     "metadata": {},
     "outputs": []
    },
    {
     "cell_type": "code",
     "collapsed": false,
     "input": [],
     "language": "python",
     "metadata": {},
     "outputs": []
    },
    {
     "cell_type": "code",
     "collapsed": false,
     "input": [],
     "language": "python",
     "metadata": {},
     "outputs": []
    },
    {
     "cell_type": "code",
     "collapsed": false,
     "input": [],
     "language": "python",
     "metadata": {},
     "outputs": []
    },
    {
     "cell_type": "code",
     "collapsed": false,
     "input": [],
     "language": "python",
     "metadata": {},
     "outputs": []
    },
    {
     "cell_type": "code",
     "collapsed": false,
     "input": [],
     "language": "python",
     "metadata": {},
     "outputs": []
    },
    {
     "cell_type": "code",
     "collapsed": false,
     "input": [],
     "language": "python",
     "metadata": {},
     "outputs": []
    }
   ],
   "metadata": {}
  }
 ]
}